{
 "cells": [
  {
   "cell_type": "markdown",
   "metadata": {},
   "source": [
    "# Выбор локации для скважины"
   ]
  },
  {
   "cell_type": "markdown",
   "metadata": {},
   "source": [
    "Допустим, вы работаете в добывающей компании «ГлавРосГосНефть». Нужно решить, где бурить новую скважину.\n",
    "\n",
    "Вам предоставлены пробы нефти в трёх регионах: в каждом 10 000 месторождений, где измерили качество нефти и объём её запасов. Постройте модель машинного обучения, которая поможет определить регион, где добыча принесёт наибольшую прибыль. Проанализируйте возможную прибыль и риски техникой *Bootstrap.*\n",
    "\n",
    "Шаги для выбора локации:\n",
    "\n",
    "- В избранном регионе ищут месторождения, для каждого определяют значения признаков;\n",
    "- Строят модель и оценивают объём запасов;\n",
    "- Выбирают месторождения с самым высокими оценками значений. Количество месторождений зависит от бюджета компании и стоимости разработки одной скважины;\n",
    "- Прибыль равна суммарной прибыли отобранных месторождений."
   ]
  },
  {
   "cell_type": "markdown",
   "metadata": {},
   "source": [
    "### Описание данных"
   ]
  },
  {
   "cell_type": "markdown",
   "metadata": {},
   "source": [
    "- `id` — уникальный идентификатор скважины;\n",
    "\t\n",
    "- `f0`, `f1`, `f2` — три признака точек (неважно, что они означают, но сами признаки значимы);\n",
    "product — объём запасов в скважине (тыс. баррелей)."
   ]
  },
  {
   "cell_type": "markdown",
   "metadata": {},
   "source": [
    "## Загрузка и подготовка данных"
   ]
  },
  {
   "cell_type": "code",
   "execution_count": 59,
   "metadata": {},
   "outputs": [],
   "source": [
    "import pandas as pd\n",
    "import matplotlib.pyplot as plt\n",
    "from sklearn.model_selection import train_test_split\n",
    "from sklearn.linear_model import LinearRegression\n",
    "import numpy as np\n",
    "from scipy import stats as st\n",
    "import warnings\n",
    "from sklearn.metrics import mean_squared_error\n",
    "from sklearn import metrics\n",
    "warnings.simplefilter('ignore')"
   ]
  },
  {
   "cell_type": "code",
   "execution_count": 60,
   "metadata": {},
   "outputs": [],
   "source": [
    "df_1 = pd.read_csv('/datasets/geo_data_0.csv')\n",
    "df_2 = pd.read_csv('/datasets/geo_data_1.csv')\n",
    "df_3 = pd.read_csv('/datasets/geo_data_2.csv')"
   ]
  },
  {
   "cell_type": "code",
   "execution_count": 61,
   "metadata": {},
   "outputs": [
    {
     "name": "stdout",
     "output_type": "stream",
     "text": [
      "ДАТАСЕТ 1\n",
      " \n",
      "<class 'pandas.core.frame.DataFrame'>\n",
      "RangeIndex: 100000 entries, 0 to 99999\n",
      "Data columns (total 5 columns):\n",
      " #   Column   Non-Null Count   Dtype  \n",
      "---  ------   --------------   -----  \n",
      " 0   id       100000 non-null  object \n",
      " 1   f0       100000 non-null  float64\n",
      " 2   f1       100000 non-null  float64\n",
      " 3   f2       100000 non-null  float64\n",
      " 4   product  100000 non-null  float64\n",
      "dtypes: float64(4), object(1)\n",
      "memory usage: 3.8+ MB\n"
     ]
    },
    {
     "data": {
      "text/plain": [
       "None"
      ]
     },
     "metadata": {},
     "output_type": "display_data"
    },
    {
     "data": {
      "text/html": [
       "<div>\n",
       "<style scoped>\n",
       "    .dataframe tbody tr th:only-of-type {\n",
       "        vertical-align: middle;\n",
       "    }\n",
       "\n",
       "    .dataframe tbody tr th {\n",
       "        vertical-align: top;\n",
       "    }\n",
       "\n",
       "    .dataframe thead th {\n",
       "        text-align: right;\n",
       "    }\n",
       "</style>\n",
       "<table border=\"1\" class=\"dataframe\">\n",
       "  <thead>\n",
       "    <tr style=\"text-align: right;\">\n",
       "      <th></th>\n",
       "      <th>id</th>\n",
       "      <th>f0</th>\n",
       "      <th>f1</th>\n",
       "      <th>f2</th>\n",
       "      <th>product</th>\n",
       "    </tr>\n",
       "  </thead>\n",
       "  <tbody>\n",
       "    <tr>\n",
       "      <th>0</th>\n",
       "      <td>txEyH</td>\n",
       "      <td>0.705745</td>\n",
       "      <td>-0.497823</td>\n",
       "      <td>1.221170</td>\n",
       "      <td>105.280062</td>\n",
       "    </tr>\n",
       "    <tr>\n",
       "      <th>1</th>\n",
       "      <td>2acmU</td>\n",
       "      <td>1.334711</td>\n",
       "      <td>-0.340164</td>\n",
       "      <td>4.365080</td>\n",
       "      <td>73.037750</td>\n",
       "    </tr>\n",
       "    <tr>\n",
       "      <th>2</th>\n",
       "      <td>409Wp</td>\n",
       "      <td>1.022732</td>\n",
       "      <td>0.151990</td>\n",
       "      <td>1.419926</td>\n",
       "      <td>85.265647</td>\n",
       "    </tr>\n",
       "    <tr>\n",
       "      <th>3</th>\n",
       "      <td>iJLyR</td>\n",
       "      <td>-0.032172</td>\n",
       "      <td>0.139033</td>\n",
       "      <td>2.978566</td>\n",
       "      <td>168.620776</td>\n",
       "    </tr>\n",
       "    <tr>\n",
       "      <th>4</th>\n",
       "      <td>Xdl7t</td>\n",
       "      <td>1.988431</td>\n",
       "      <td>0.155413</td>\n",
       "      <td>4.751769</td>\n",
       "      <td>154.036647</td>\n",
       "    </tr>\n",
       "  </tbody>\n",
       "</table>\n",
       "</div>"
      ],
      "text/plain": [
       "      id        f0        f1        f2     product\n",
       "0  txEyH  0.705745 -0.497823  1.221170  105.280062\n",
       "1  2acmU  1.334711 -0.340164  4.365080   73.037750\n",
       "2  409Wp  1.022732  0.151990  1.419926   85.265647\n",
       "3  iJLyR -0.032172  0.139033  2.978566  168.620776\n",
       "4  Xdl7t  1.988431  0.155413  4.751769  154.036647"
      ]
     },
     "metadata": {},
     "output_type": "display_data"
    },
    {
     "name": "stdout",
     "output_type": "stream",
     "text": [
      " \n",
      "ДАТАСЕТ 2\n",
      " \n",
      "<class 'pandas.core.frame.DataFrame'>\n",
      "RangeIndex: 100000 entries, 0 to 99999\n",
      "Data columns (total 5 columns):\n",
      " #   Column   Non-Null Count   Dtype  \n",
      "---  ------   --------------   -----  \n",
      " 0   id       100000 non-null  object \n",
      " 1   f0       100000 non-null  float64\n",
      " 2   f1       100000 non-null  float64\n",
      " 3   f2       100000 non-null  float64\n",
      " 4   product  100000 non-null  float64\n",
      "dtypes: float64(4), object(1)\n",
      "memory usage: 3.8+ MB\n"
     ]
    },
    {
     "data": {
      "text/plain": [
       "None"
      ]
     },
     "metadata": {},
     "output_type": "display_data"
    },
    {
     "data": {
      "text/html": [
       "<div>\n",
       "<style scoped>\n",
       "    .dataframe tbody tr th:only-of-type {\n",
       "        vertical-align: middle;\n",
       "    }\n",
       "\n",
       "    .dataframe tbody tr th {\n",
       "        vertical-align: top;\n",
       "    }\n",
       "\n",
       "    .dataframe thead th {\n",
       "        text-align: right;\n",
       "    }\n",
       "</style>\n",
       "<table border=\"1\" class=\"dataframe\">\n",
       "  <thead>\n",
       "    <tr style=\"text-align: right;\">\n",
       "      <th></th>\n",
       "      <th>id</th>\n",
       "      <th>f0</th>\n",
       "      <th>f1</th>\n",
       "      <th>f2</th>\n",
       "      <th>product</th>\n",
       "    </tr>\n",
       "  </thead>\n",
       "  <tbody>\n",
       "    <tr>\n",
       "      <th>0</th>\n",
       "      <td>kBEdx</td>\n",
       "      <td>-15.001348</td>\n",
       "      <td>-8.276000</td>\n",
       "      <td>-0.005876</td>\n",
       "      <td>3.179103</td>\n",
       "    </tr>\n",
       "    <tr>\n",
       "      <th>1</th>\n",
       "      <td>62mP7</td>\n",
       "      <td>14.272088</td>\n",
       "      <td>-3.475083</td>\n",
       "      <td>0.999183</td>\n",
       "      <td>26.953261</td>\n",
       "    </tr>\n",
       "    <tr>\n",
       "      <th>2</th>\n",
       "      <td>vyE1P</td>\n",
       "      <td>6.263187</td>\n",
       "      <td>-5.948386</td>\n",
       "      <td>5.001160</td>\n",
       "      <td>134.766305</td>\n",
       "    </tr>\n",
       "    <tr>\n",
       "      <th>3</th>\n",
       "      <td>KcrkZ</td>\n",
       "      <td>-13.081196</td>\n",
       "      <td>-11.506057</td>\n",
       "      <td>4.999415</td>\n",
       "      <td>137.945408</td>\n",
       "    </tr>\n",
       "    <tr>\n",
       "      <th>4</th>\n",
       "      <td>AHL4O</td>\n",
       "      <td>12.702195</td>\n",
       "      <td>-8.147433</td>\n",
       "      <td>5.004363</td>\n",
       "      <td>134.766305</td>\n",
       "    </tr>\n",
       "  </tbody>\n",
       "</table>\n",
       "</div>"
      ],
      "text/plain": [
       "      id         f0         f1        f2     product\n",
       "0  kBEdx -15.001348  -8.276000 -0.005876    3.179103\n",
       "1  62mP7  14.272088  -3.475083  0.999183   26.953261\n",
       "2  vyE1P   6.263187  -5.948386  5.001160  134.766305\n",
       "3  KcrkZ -13.081196 -11.506057  4.999415  137.945408\n",
       "4  AHL4O  12.702195  -8.147433  5.004363  134.766305"
      ]
     },
     "metadata": {},
     "output_type": "display_data"
    },
    {
     "name": "stdout",
     "output_type": "stream",
     "text": [
      " \n",
      "ДАТАСЕТ 3\n",
      " \n",
      "<class 'pandas.core.frame.DataFrame'>\n",
      "RangeIndex: 100000 entries, 0 to 99999\n",
      "Data columns (total 5 columns):\n",
      " #   Column   Non-Null Count   Dtype  \n",
      "---  ------   --------------   -----  \n",
      " 0   id       100000 non-null  object \n",
      " 1   f0       100000 non-null  float64\n",
      " 2   f1       100000 non-null  float64\n",
      " 3   f2       100000 non-null  float64\n",
      " 4   product  100000 non-null  float64\n",
      "dtypes: float64(4), object(1)\n",
      "memory usage: 3.8+ MB\n"
     ]
    },
    {
     "data": {
      "text/plain": [
       "None"
      ]
     },
     "metadata": {},
     "output_type": "display_data"
    },
    {
     "data": {
      "text/html": [
       "<div>\n",
       "<style scoped>\n",
       "    .dataframe tbody tr th:only-of-type {\n",
       "        vertical-align: middle;\n",
       "    }\n",
       "\n",
       "    .dataframe tbody tr th {\n",
       "        vertical-align: top;\n",
       "    }\n",
       "\n",
       "    .dataframe thead th {\n",
       "        text-align: right;\n",
       "    }\n",
       "</style>\n",
       "<table border=\"1\" class=\"dataframe\">\n",
       "  <thead>\n",
       "    <tr style=\"text-align: right;\">\n",
       "      <th></th>\n",
       "      <th>id</th>\n",
       "      <th>f0</th>\n",
       "      <th>f1</th>\n",
       "      <th>f2</th>\n",
       "      <th>product</th>\n",
       "    </tr>\n",
       "  </thead>\n",
       "  <tbody>\n",
       "    <tr>\n",
       "      <th>0</th>\n",
       "      <td>fwXo0</td>\n",
       "      <td>-1.146987</td>\n",
       "      <td>0.963328</td>\n",
       "      <td>-0.828965</td>\n",
       "      <td>27.758673</td>\n",
       "    </tr>\n",
       "    <tr>\n",
       "      <th>1</th>\n",
       "      <td>WJtFt</td>\n",
       "      <td>0.262778</td>\n",
       "      <td>0.269839</td>\n",
       "      <td>-2.530187</td>\n",
       "      <td>56.069697</td>\n",
       "    </tr>\n",
       "    <tr>\n",
       "      <th>2</th>\n",
       "      <td>ovLUW</td>\n",
       "      <td>0.194587</td>\n",
       "      <td>0.289035</td>\n",
       "      <td>-5.586433</td>\n",
       "      <td>62.871910</td>\n",
       "    </tr>\n",
       "    <tr>\n",
       "      <th>3</th>\n",
       "      <td>q6cA6</td>\n",
       "      <td>2.236060</td>\n",
       "      <td>-0.553760</td>\n",
       "      <td>0.930038</td>\n",
       "      <td>114.572842</td>\n",
       "    </tr>\n",
       "    <tr>\n",
       "      <th>4</th>\n",
       "      <td>WPMUX</td>\n",
       "      <td>-0.515993</td>\n",
       "      <td>1.716266</td>\n",
       "      <td>5.899011</td>\n",
       "      <td>149.600746</td>\n",
       "    </tr>\n",
       "  </tbody>\n",
       "</table>\n",
       "</div>"
      ],
      "text/plain": [
       "      id        f0        f1        f2     product\n",
       "0  fwXo0 -1.146987  0.963328 -0.828965   27.758673\n",
       "1  WJtFt  0.262778  0.269839 -2.530187   56.069697\n",
       "2  ovLUW  0.194587  0.289035 -5.586433   62.871910\n",
       "3  q6cA6  2.236060 -0.553760  0.930038  114.572842\n",
       "4  WPMUX -0.515993  1.716266  5.899011  149.600746"
      ]
     },
     "metadata": {},
     "output_type": "display_data"
    }
   ],
   "source": [
    "print('ДАТАСЕТ 1')\n",
    "print(' ')\n",
    "display(df_1.info())\n",
    "display(df_1.head())\n",
    "print(' ')\n",
    "print('ДАТАСЕТ 2')\n",
    "print(' ')\n",
    "display(df_2.info())\n",
    "display(df_2.head())\n",
    "print(' ')\n",
    "print('ДАТАСЕТ 3')\n",
    "print(' ')\n",
    "display(df_3.info())\n",
    "display(df_3.head())"
   ]
  },
  {
   "cell_type": "code",
   "execution_count": 62,
   "metadata": {},
   "outputs": [],
   "source": [
    "#сохраним признаки в переменных:\n",
    "df_1_X = df_1.drop(['product', 'id'], axis=1)\n",
    "df_1_y = df_1['product']\n",
    "\n",
    "df_2_X = df_2.drop(['product', 'id'], axis=1)\n",
    "df_2_y = df_2['product']\n",
    "\n",
    "df_3_X = df_3.drop(['product', 'id'], axis=1)\n",
    "df_3_y = df_3['product']"
   ]
  },
  {
   "cell_type": "markdown",
   "metadata": {},
   "source": [
    "- Пропусков нет, предобработка не требуется. Данные столбца `id` не понадобятся при построении модели, они не несут для нас никакой ценности. \n",
    "- Записали целевой признак (в столбцах `product`) и признаки(`f0` `f1` `f2`) в переменные."
   ]
  },
  {
   "cell_type": "markdown",
   "metadata": {},
   "source": [
    "## Обучение и проверка модели"
   ]
  },
  {
   "cell_type": "code",
   "execution_count": 63,
   "metadata": {},
   "outputs": [],
   "source": [
    "#разделим данные на обучающую и валидационную выборки в соотношении 75:25:\n",
    "df_1_X_train, df_1_X_valid, df_1_y_train, df_1_y_valid = train_test_split(df_1_X, df_1_y, train_size=0.75, random_state=47)\n",
    "\n",
    "df_2_X_train, df_2_X_valid, df_2_y_train, df_2_y_valid = train_test_split(df_2_X, df_2_y, train_size=0.75, random_state=47)\n",
    "\n",
    "df_3_X_train, df_3_X_valid, df_3_y_train, df_3_y_valid = train_test_split(df_3_X, df_3_y, train_size=0.75, random_state=47)"
   ]
  },
  {
   "cell_type": "code",
   "execution_count": 64,
   "metadata": {},
   "outputs": [],
   "source": [
    "#напишем функцию для обучения и подсчета среднего запаса сырья и RMSE (корня средней квадратичной ошибки):\n",
    "def learn(X_train, y_train, X_valid, y_valid, y):\n",
    "    model = LinearRegression()\n",
    "    model = model.fit(X_train, y_train)\n",
    "    predictions = model.predict(X_valid)\n",
    "    rmse = (mean_squared_error(y_valid, predictions))**0.5\n",
    "    print('Средний запас предсказанного сырья', predictions.mean())\n",
    "    print('Средний фактический запас', y.mean())\n",
    "    print('RMSE', rmse)\n",
    "    return predictions"
   ]
  },
  {
   "cell_type": "markdown",
   "metadata": {},
   "source": [
    "**Регион 1** "
   ]
  },
  {
   "cell_type": "code",
   "execution_count": 65,
   "metadata": {
    "scrolled": true
   },
   "outputs": [
    {
     "name": "stdout",
     "output_type": "stream",
     "text": [
      "Средний запас предсказанного сырья 92.360864667356\n",
      "Средний фактический запас 92.50000000000001\n",
      "RMSE 37.52379045981726\n"
     ]
    }
   ],
   "source": [
    "df_1_pred = learn(df_1_X_train, df_1_y_train, df_1_X_valid, df_1_y_valid, df_1_y)"
   ]
  },
  {
   "cell_type": "markdown",
   "metadata": {},
   "source": [
    "**Регион 2**"
   ]
  },
  {
   "cell_type": "code",
   "execution_count": 66,
   "metadata": {
    "scrolled": true
   },
   "outputs": [
    {
     "name": "stdout",
     "output_type": "stream",
     "text": [
      "Средний запас предсказанного сырья 68.81389806475144\n",
      "Средний фактический запас 68.82500000000002\n",
      "RMSE 0.8887286598305351\n"
     ]
    }
   ],
   "source": [
    "df_2_pred = learn(df_2_X_train, df_2_y_train, df_2_X_valid, df_2_y_valid, df_2_y)"
   ]
  },
  {
   "cell_type": "markdown",
   "metadata": {},
   "source": [
    "**Регион 3**"
   ]
  },
  {
   "cell_type": "code",
   "execution_count": 67,
   "metadata": {
    "scrolled": true
   },
   "outputs": [
    {
     "name": "stdout",
     "output_type": "stream",
     "text": [
      "Средний запас предсказанного сырья 95.09129230128178\n",
      "Средний фактический запас 95.00000000000004\n",
      "RMSE 39.988392017930316\n"
     ]
    }
   ],
   "source": [
    "df_3_pred = learn(df_3_X_train, df_3_y_train, df_3_X_valid, df_3_y_valid, df_3_y)"
   ]
  },
  {
   "cell_type": "markdown",
   "metadata": {},
   "source": [
    "Видим, что 1й и 3й регионы имеют больший запас сырья (более 90 тыс. баррелей), чем 2й регион (ок 68 тыс.).\n",
    "У них больше и значение RMSE. Это связано с разичием в распределении целевого признака."
   ]
  },
  {
   "cell_type": "code",
   "execution_count": 68,
   "metadata": {
    "scrolled": false
   },
   "outputs": [
    {
     "data": {
      "image/png": "[encoded data removed]",
      "text/plain": [
       "<Figure size 432x288 with 1 Axes>"
      ]
     },
     "metadata": {
      "needs_background": "light"
     },
     "output_type": "display_data"
    },
    {
     "data": {
      "image/png": "[encoded data removed]",
      "text/plain": [
       "<Figure size 432x288 with 1 Axes>"
      ]
     },
     "metadata": {
      "needs_background": "light"
     },
     "output_type": "display_data"
    },
    {
     "data": {
      "image/png": "[encoded data removed]",
      "text/plain": [
       "<Figure size 432x288 with 1 Axes>"
      ]
     },
     "metadata": {
      "needs_background": "light"
     },
     "output_type": "display_data"
    }
   ],
   "source": [
    "df_all = [df_1_y, df_2_y, df_3_y]\n",
    "for i in df_all:\n",
    "    ax = i.hist()\n",
    "    plt.show()"
   ]
  },
  {
   "cell_type": "markdown",
   "metadata": {},
   "source": [
    "## Подготовка к расчёту прибыли"
   ]
  },
  {
   "cell_type": "code",
   "execution_count": 69,
   "metadata": {},
   "outputs": [],
   "source": [
    "#все ключевые значения для расчётов сохраним в отдельных переменных:\n",
    "RESEARCH_POINTS = 500\n",
    "BEST_POINTS = 200\n",
    "BUDGET = 10000000000\n",
    "REVENUE_POINT = 450000\n",
    "LOSS_THRESHOLD = .025"
   ]
  },
  {
   "cell_type": "code",
   "execution_count": 70,
   "metadata": {},
   "outputs": [
    {
     "name": "stdout",
     "output_type": "stream",
     "text": [
      "Достаточный объем сырья для безубыточной разработки новой скважины: 111.11 тыс. баррелей\n"
     ]
    }
   ],
   "source": [
    "#достаточный объём сырья для безубыточной разработки новой скважины:\n",
    "sufficient = round(BUDGET / BEST_POINTS / REVENUE_POINT, 2)\n",
    "print('Достаточный объем сырья для безубыточной разработки новой скважины:', sufficient, 'тыс. баррелей')"
   ]
  },
  {
   "cell_type": "code",
   "execution_count": 71,
   "metadata": {},
   "outputs": [
    {
     "data": {
      "text/html": [
       "<div>\n",
       "<style scoped>\n",
       "    .dataframe tbody tr th:only-of-type {\n",
       "        vertical-align: middle;\n",
       "    }\n",
       "\n",
       "    .dataframe tbody tr th {\n",
       "        vertical-align: top;\n",
       "    }\n",
       "\n",
       "    .dataframe thead th {\n",
       "        text-align: right;\n",
       "    }\n",
       "</style>\n",
       "<table border=\"1\" class=\"dataframe\">\n",
       "  <thead>\n",
       "    <tr style=\"text-align: right;\">\n",
       "      <th></th>\n",
       "      <th>Регион 1</th>\n",
       "      <th>Регион 2</th>\n",
       "      <th>Регион 3</th>\n",
       "      <th>sufficient</th>\n",
       "    </tr>\n",
       "  </thead>\n",
       "  <tbody>\n",
       "    <tr>\n",
       "      <th>mean volume</th>\n",
       "      <td>92.5</td>\n",
       "      <td>68.825</td>\n",
       "      <td>95.0</td>\n",
       "      <td>111.11</td>\n",
       "    </tr>\n",
       "  </tbody>\n",
       "</table>\n",
       "</div>"
      ],
      "text/plain": [
       "             Регион 1  Регион 2  Регион 3  sufficient\n",
       "mean volume      92.5    68.825      95.0      111.11"
      ]
     },
     "execution_count": 71,
     "metadata": {},
     "output_type": "execute_result"
    }
   ],
   "source": [
    "table = pd.DataFrame({'Регион 1': [df_1_y.mean()],\n",
    "        'Регион 2': [df_2_y.mean()],\n",
    "        'Регион 3': [df_3_y.mean()],\n",
    "        'sufficient': [sufficient]},\n",
    "         index = ['mean volume'])\n",
    "table"
   ]
  },
  {
   "cell_type": "markdown",
   "metadata": {},
   "source": [
    "Как видно, средние значения по регионам не дотягивают до безубыточного объема добываемого сырья. Поэтому и необходимо выбрать лучшие 200 точек. "
   ]
  },
  {
   "cell_type": "code",
   "execution_count": 72,
   "metadata": {},
   "outputs": [],
   "source": [
    "#напишем функцию для расчёта прибыли по выбранным скважинам и предсказаниям модели:\n",
    "def profit(target, predictions):\n",
    "    target = pd.Series(target).reset_index(drop=True)\n",
    "    predictions = pd.Series(predictions).reset_index(drop=True)\n",
    "    predictions_200 = predictions.sort_values(ascending=False)[:BEST_POINTS].index\n",
    "    selected = target[predictions_200]\n",
    "    profit = selected.sum() * REVENUE_POINT - BUDGET\n",
    "    return profit"
   ]
  },
  {
   "cell_type": "code",
   "execution_count": 73,
   "metadata": {},
   "outputs": [
    {
     "data": {
      "text/html": [
       "<div>\n",
       "<style scoped>\n",
       "    .dataframe tbody tr th:only-of-type {\n",
       "        vertical-align: middle;\n",
       "    }\n",
       "\n",
       "    .dataframe tbody tr th {\n",
       "        vertical-align: top;\n",
       "    }\n",
       "\n",
       "    .dataframe thead th {\n",
       "        text-align: right;\n",
       "    }\n",
       "</style>\n",
       "<table border=\"1\" class=\"dataframe\">\n",
       "  <thead>\n",
       "    <tr style=\"text-align: right;\">\n",
       "      <th></th>\n",
       "      <th>Регион 1</th>\n",
       "      <th>Регион 2</th>\n",
       "      <th>Регион 3</th>\n",
       "    </tr>\n",
       "  </thead>\n",
       "  <tbody>\n",
       "    <tr>\n",
       "      <th>Выручка, руб.</th>\n",
       "      <td>3382818901</td>\n",
       "      <td>2415086697</td>\n",
       "      <td>2648943682</td>\n",
       "    </tr>\n",
       "  </tbody>\n",
       "</table>\n",
       "</div>"
      ],
      "text/plain": [
       "                 Регион 1    Регион 2    Регион 3\n",
       "Выручка, руб.  3382818901  2415086697  2648943682"
      ]
     },
     "execution_count": 73,
     "metadata": {},
     "output_type": "execute_result"
    }
   ],
   "source": [
    "table_profit = pd.DataFrame({'Регион 1': [round(profit(df_1_y_valid, df_1_pred))],\n",
    "        'Регион 2': [round(profit(df_2_y_valid, df_2_pred))],\n",
    "        'Регион 3': [round(profit(df_3_y_valid, df_3_pred))],},\n",
    "         index = ['Выручка, руб.'])\n",
    "table_profit"
   ]
  },
  {
   "cell_type": "markdown",
   "metadata": {},
   "source": [
    "Самый прибыльный регион - первый, он приносит более 3 млрд. рублей прибыли."
   ]
  },
  {
   "cell_type": "markdown",
   "metadata": {},
   "source": [
    "## Расчет рисков и прибыли. "
   ]
  },
  {
   "cell_type": "markdown",
   "metadata": {},
   "source": [
    "Посчитаем риски и прибыль, применив технику Bootstrap с 1000 выборок."
   ]
  },
  {
   "cell_type": "code",
   "execution_count": 74,
   "metadata": {},
   "outputs": [],
   "source": [
    "def bootstrap (target, prediction):\n",
    "    state = np.random.RandomState(47)\n",
    "    values = []\n",
    "    for i in range(1000):\n",
    "        target_subsample = target.reset_index(drop=True).sample(n=500, replace=True, random_state=state)\n",
    "        prediction_subsample = prediction[target_subsample.index]\n",
    "        values.append(profit(target_subsample, prediction_subsample))\n",
    "    \n",
    "    values = pd.Series(values)\n",
    "    lower = (values.quantile(.025) / 1e6).round(2)\n",
    "    upper = (values.quantile(.975) / 1e6).round(2)\n",
    "    mean = values.mean()\n",
    "\n",
    "    print('Средняя прибыль:', mean)\n",
    "    print('2.5%-квантиль:', lower)\n",
    "    print('Доверительный интервал: от',  lower, 'до', upper)\n",
    "    print('Риски убытка:', round((values < 0).mean()*100, 2), '%')"
   ]
  },
  {
   "cell_type": "code",
   "execution_count": 75,
   "metadata": {
    "scrolled": true
   },
   "outputs": [
    {
     "name": "stdout",
     "output_type": "stream",
     "text": [
      "Регион 1\n",
      "Средняя прибыль: 458462879.90615195\n",
      "2.5%-квантиль: -73.5\n",
      "Доверительный интервал: от -73.5 до 940.97\n",
      "Риски убытка: 4.4 %\n"
     ]
    }
   ],
   "source": [
    "print('Регион 1')\n",
    "bootstrap(df_1_y_valid, df_1_pred)"
   ]
  },
  {
   "cell_type": "code",
   "execution_count": 76,
   "metadata": {},
   "outputs": [
    {
     "name": "stdout",
     "output_type": "stream",
     "text": [
      "Регион 2\n",
      "Средняя прибыль: 454748239.2654893\n",
      "2.5%-квантиль: 53.09\n",
      "Доверительный интервал: от 53.09 до 855.91\n",
      "Риски убытка: 1.4 %\n"
     ]
    }
   ],
   "source": [
    "print('Регион 2')\n",
    "bootstrap(df_2_y_valid, df_2_pred)"
   ]
  },
  {
   "cell_type": "code",
   "execution_count": 77,
   "metadata": {},
   "outputs": [
    {
     "name": "stdout",
     "output_type": "stream",
     "text": [
      "Регион 3\n",
      "Средняя прибыль: 380334420.3705588\n",
      "2.5%-квантиль: -176.15\n",
      "Доверительный интервал: от -176.15 до 890.55\n",
      "Риски убытка: 8.2 %\n"
     ]
    }
   ],
   "source": [
    "print('Регион 3')\n",
    "bootstrap(df_3_y_valid, df_3_pred)"
   ]
  },
  {
   "cell_type": "code",
   "execution_count": 80,
   "metadata": {},
   "outputs": [
    {
     "data": {
      "text/html": [
       "<div>\n",
       "<style scoped>\n",
       "    .dataframe tbody tr th:only-of-type {\n",
       "        vertical-align: middle;\n",
       "    }\n",
       "\n",
       "    .dataframe tbody tr th {\n",
       "        vertical-align: top;\n",
       "    }\n",
       "\n",
       "    .dataframe thead th {\n",
       "        text-align: right;\n",
       "    }\n",
       "</style>\n",
       "<table border=\"1\" class=\"dataframe\">\n",
       "  <thead>\n",
       "    <tr style=\"text-align: right;\">\n",
       "      <th></th>\n",
       "      <th>Средняя прибыль, руб.</th>\n",
       "      <th>Риск убытков</th>\n",
       "    </tr>\n",
       "  </thead>\n",
       "  <tbody>\n",
       "    <tr>\n",
       "      <th>Регион 1</th>\n",
       "      <td>458462879</td>\n",
       "      <td>4.4%</td>\n",
       "    </tr>\n",
       "    <tr>\n",
       "      <th>Регион 2</th>\n",
       "      <td>454748239</td>\n",
       "      <td>1.4%</td>\n",
       "    </tr>\n",
       "    <tr>\n",
       "      <th>Регион 3</th>\n",
       "      <td>380334420</td>\n",
       "      <td>8.2%</td>\n",
       "    </tr>\n",
       "  </tbody>\n",
       "</table>\n",
       "</div>"
      ],
      "text/plain": [
       "         Средняя прибыль, руб. Риск убытков\n",
       "Регион 1             458462879         4.4%\n",
       "Регион 2             454748239         1.4%\n",
       "Регион 3             380334420         8.2%"
      ]
     },
     "execution_count": 80,
     "metadata": {},
     "output_type": "execute_result"
    }
   ],
   "source": [
    "table_profit = pd.DataFrame({'Средняя прибыль, руб.': ['458462879', '454748239', '380334420'],\n",
    "        'Риск убытков': ['4.4%', '1.4%', '8.2%']},\n",
    "         index = ['Регион 1', 'Регион 2', 'Регион 3'])\n",
    "table_profit"
   ]
  },
  {
   "cell_type": "markdown",
   "metadata": {},
   "source": [
    "После оценки рисков нужно оставить лишь те регионы, в которых вероятность убытков меньше 2.5%. В нашем случае модель определяет Регион 2 как лучший для разработки. Хоть и средняя выручка в первом регионе больше, но риск убытков в регионе №2 меньше на 3% и доверительный интервал более узкий и не включает минимальные отрицательные значения, как в других регионах. "
   ]
  }
 ],
 "metadata": {
  "ExecuteTimeLog": [
   {
    "duration": 2335,
    "start_time": "2022-04-10T16:35:11.273Z"
   },
   {
    "duration": 477,
    "start_time": "2022-04-10T16:38:11.269Z"
   },
   {
    "duration": 127,
    "start_time": "2022-04-10T16:41:27.068Z"
   },
   {
    "duration": 111,
    "start_time": "2022-04-10T16:42:21.986Z"
   },
   {
    "duration": 96,
    "start_time": "2022-04-10T16:42:51.138Z"
   },
   {
    "duration": 93,
    "start_time": "2022-04-10T16:43:19.844Z"
   },
   {
    "duration": 101,
    "start_time": "2022-04-10T16:43:51.335Z"
   },
   {
    "duration": 95,
    "start_time": "2022-04-10T16:44:10.414Z"
   },
   {
    "duration": 167,
    "start_time": "2022-04-10T17:48:53.037Z"
   },
   {
    "duration": 13,
    "start_time": "2022-04-10T17:53:28.311Z"
   },
   {
    "duration": 13,
    "start_time": "2022-04-10T17:54:24.769Z"
   },
   {
    "duration": 55,
    "start_time": "2022-04-10T18:02:42.747Z"
   },
   {
    "duration": 9,
    "start_time": "2022-04-10T18:27:26.318Z"
   },
   {
    "duration": 6,
    "start_time": "2022-04-10T18:27:35.068Z"
   },
   {
    "duration": 167,
    "start_time": "2022-04-10T18:29:41.243Z"
   },
   {
    "duration": 6,
    "start_time": "2022-04-10T18:30:38.855Z"
   },
   {
    "duration": 506,
    "start_time": "2022-04-10T18:30:38.864Z"
   },
   {
    "duration": 127,
    "start_time": "2022-04-10T18:30:39.372Z"
   },
   {
    "duration": 12,
    "start_time": "2022-04-10T18:30:39.503Z"
   },
   {
    "duration": 54,
    "start_time": "2022-04-10T18:30:39.517Z"
   },
   {
    "duration": 10,
    "start_time": "2022-04-10T18:30:39.583Z"
   },
   {
    "duration": 94,
    "start_time": "2022-04-10T18:30:39.603Z"
   },
   {
    "duration": 6,
    "start_time": "2022-04-10T18:31:09.301Z"
   },
   {
    "duration": 128,
    "start_time": "2022-04-10T18:31:11.562Z"
   },
   {
    "duration": 12,
    "start_time": "2022-04-10T18:33:28.136Z"
   },
   {
    "duration": 9,
    "start_time": "2022-04-10T18:33:33.949Z"
   },
   {
    "duration": 181,
    "start_time": "2022-04-10T18:33:35.513Z"
   },
   {
    "duration": 57,
    "start_time": "2022-04-10T18:37:45.938Z"
   },
   {
    "duration": 22,
    "start_time": "2022-04-10T18:37:54.964Z"
   },
   {
    "duration": 5,
    "start_time": "2022-04-10T18:39:03.303Z"
   },
   {
    "duration": 120,
    "start_time": "2022-04-10T18:39:05.572Z"
   },
   {
    "duration": 32,
    "start_time": "2022-04-10T18:39:21.165Z"
   },
   {
    "duration": 5,
    "start_time": "2022-04-10T18:40:01.473Z"
   },
   {
    "duration": 22,
    "start_time": "2022-04-10T18:40:02.611Z"
   },
   {
    "duration": 22,
    "start_time": "2022-04-10T18:40:30.310Z"
   },
   {
    "duration": 92,
    "start_time": "2022-04-10T18:41:04.999Z"
   },
   {
    "duration": 13,
    "start_time": "2022-04-10T18:41:40.635Z"
   },
   {
    "duration": 37,
    "start_time": "2022-04-10T18:42:07.423Z"
   },
   {
    "duration": 8,
    "start_time": "2022-04-10T18:42:08.148Z"
   },
   {
    "duration": 102,
    "start_time": "2022-04-10T18:42:09.398Z"
   },
   {
    "duration": 87,
    "start_time": "2022-04-10T18:42:11.910Z"
   },
   {
    "duration": 83,
    "start_time": "2022-04-10T18:42:13.403Z"
   },
   {
    "duration": 266,
    "start_time": "2022-04-10T19:29:37.739Z"
   },
   {
    "duration": 235,
    "start_time": "2022-04-10T19:29:48.339Z"
   },
   {
    "duration": 346,
    "start_time": "2022-04-10T19:30:01.202Z"
   },
   {
    "duration": 273,
    "start_time": "2022-04-10T19:48:20.636Z"
   },
   {
    "duration": 936,
    "start_time": "2022-04-10T19:51:17.539Z"
   },
   {
    "duration": 4,
    "start_time": "2022-04-10T20:06:26.470Z"
   },
   {
    "duration": 4,
    "start_time": "2022-04-10T20:07:10.268Z"
   },
   {
    "duration": 4,
    "start_time": "2022-04-10T20:10:56.483Z"
   },
   {
    "duration": 3,
    "start_time": "2022-04-10T20:11:10.809Z"
   },
   {
    "duration": 5,
    "start_time": "2022-04-10T20:11:13.306Z"
   },
   {
    "duration": 4,
    "start_time": "2022-04-10T20:11:20.395Z"
   },
   {
    "duration": 6,
    "start_time": "2022-04-10T20:11:21.018Z"
   },
   {
    "duration": 4,
    "start_time": "2022-04-10T20:11:40.343Z"
   },
   {
    "duration": 5,
    "start_time": "2022-04-10T20:11:41.069Z"
   },
   {
    "duration": 6,
    "start_time": "2022-04-10T20:11:56.781Z"
   },
   {
    "duration": 5,
    "start_time": "2022-04-10T20:29:09.669Z"
   },
   {
    "duration": 17,
    "start_time": "2022-04-10T20:34:14.087Z"
   },
   {
    "duration": 8,
    "start_time": "2022-04-10T20:34:25.809Z"
   },
   {
    "duration": 8,
    "start_time": "2022-04-10T20:34:40.187Z"
   },
   {
    "duration": 16,
    "start_time": "2022-04-10T20:36:08.688Z"
   },
   {
    "duration": 14,
    "start_time": "2022-04-10T20:36:53.912Z"
   },
   {
    "duration": 15,
    "start_time": "2022-04-10T20:37:33.603Z"
   },
   {
    "duration": 16,
    "start_time": "2022-04-10T20:37:47.699Z"
   },
   {
    "duration": 5,
    "start_time": "2022-04-10T20:38:13.861Z"
   },
   {
    "duration": 14,
    "start_time": "2022-04-10T20:38:16.937Z"
   },
   {
    "duration": 16,
    "start_time": "2022-04-10T20:38:21.362Z"
   },
   {
    "duration": 4,
    "start_time": "2022-04-10T20:38:30.950Z"
   },
   {
    "duration": 16,
    "start_time": "2022-04-10T20:38:32.436Z"
   },
   {
    "duration": 6,
    "start_time": "2022-04-10T20:39:50.649Z"
   },
   {
    "duration": 16,
    "start_time": "2022-04-10T20:39:53.811Z"
   },
   {
    "duration": 15,
    "start_time": "2022-04-10T20:40:41.049Z"
   },
   {
    "duration": 6,
    "start_time": "2022-04-10T20:45:33.185Z"
   },
   {
    "duration": 6,
    "start_time": "2022-04-10T20:45:45.153Z"
   },
   {
    "duration": 6,
    "start_time": "2022-04-10T20:46:34.461Z"
   },
   {
    "duration": 12,
    "start_time": "2022-04-23T13:40:28.511Z"
   },
   {
    "duration": 44,
    "start_time": "2022-04-23T13:42:20.637Z"
   },
   {
    "duration": 1680,
    "start_time": "2022-04-23T13:42:23.830Z"
   },
   {
    "duration": 349,
    "start_time": "2022-04-23T13:42:25.512Z"
   },
   {
    "duration": 73,
    "start_time": "2022-04-23T13:42:25.862Z"
   },
   {
    "duration": 9,
    "start_time": "2022-04-23T13:42:25.937Z"
   },
   {
    "duration": 57,
    "start_time": "2022-04-23T13:42:25.947Z"
   },
   {
    "duration": 5,
    "start_time": "2022-04-23T13:42:26.006Z"
   },
   {
    "duration": 45,
    "start_time": "2022-04-23T13:42:26.012Z"
   },
   {
    "duration": 115,
    "start_time": "2022-04-23T13:42:26.094Z"
   },
   {
    "duration": 198,
    "start_time": "2022-04-23T13:42:26.214Z"
   },
   {
    "duration": 161,
    "start_time": "2022-04-23T13:42:26.500Z"
   },
   {
    "duration": 0,
    "start_time": "2022-04-23T13:42:26.663Z"
   },
   {
    "duration": 0,
    "start_time": "2022-04-23T13:42:26.664Z"
   },
   {
    "duration": 0,
    "start_time": "2022-04-23T13:42:26.665Z"
   },
   {
    "duration": 0,
    "start_time": "2022-04-23T13:42:26.666Z"
   },
   {
    "duration": 0,
    "start_time": "2022-04-23T13:42:26.667Z"
   },
   {
    "duration": 13,
    "start_time": "2022-04-23T13:43:10.029Z"
   },
   {
    "duration": 4,
    "start_time": "2022-04-23T13:43:19.270Z"
   },
   {
    "duration": 425,
    "start_time": "2022-04-23T13:43:19.275Z"
   },
   {
    "duration": 64,
    "start_time": "2022-04-23T13:43:19.702Z"
   },
   {
    "duration": 8,
    "start_time": "2022-04-23T13:43:19.792Z"
   },
   {
    "duration": 29,
    "start_time": "2022-04-23T13:43:19.803Z"
   },
   {
    "duration": 4,
    "start_time": "2022-04-23T13:43:19.833Z"
   },
   {
    "duration": 63,
    "start_time": "2022-04-23T13:43:19.839Z"
   },
   {
    "duration": 193,
    "start_time": "2022-04-23T13:43:19.904Z"
   },
   {
    "duration": 194,
    "start_time": "2022-04-23T13:43:20.100Z"
   },
   {
    "duration": 104,
    "start_time": "2022-04-23T13:43:20.297Z"
   },
   {
    "duration": 0,
    "start_time": "2022-04-23T13:43:20.403Z"
   },
   {
    "duration": 0,
    "start_time": "2022-04-23T13:43:20.405Z"
   },
   {
    "duration": 0,
    "start_time": "2022-04-23T13:43:20.405Z"
   },
   {
    "duration": 1,
    "start_time": "2022-04-23T13:43:20.406Z"
   },
   {
    "duration": 0,
    "start_time": "2022-04-23T13:43:20.408Z"
   },
   {
    "duration": 11,
    "start_time": "2022-04-23T13:45:58.685Z"
   },
   {
    "duration": 6,
    "start_time": "2022-04-23T13:46:18.646Z"
   },
   {
    "duration": 401,
    "start_time": "2022-04-23T13:47:01.534Z"
   },
   {
    "duration": 4,
    "start_time": "2022-04-23T13:47:08.383Z"
   },
   {
    "duration": 352,
    "start_time": "2022-04-23T13:47:08.389Z"
   },
   {
    "duration": 70,
    "start_time": "2022-04-23T13:47:08.743Z"
   },
   {
    "duration": 8,
    "start_time": "2022-04-23T13:47:08.815Z"
   },
   {
    "duration": 45,
    "start_time": "2022-04-23T13:47:08.825Z"
   },
   {
    "duration": 4,
    "start_time": "2022-04-23T13:47:08.872Z"
   },
   {
    "duration": 35,
    "start_time": "2022-04-23T13:47:08.878Z"
   },
   {
    "duration": 182,
    "start_time": "2022-04-23T13:47:08.915Z"
   },
   {
    "duration": 99,
    "start_time": "2022-04-23T13:47:09.101Z"
   },
   {
    "duration": 638,
    "start_time": "2022-04-23T13:47:09.203Z"
   },
   {
    "duration": 3,
    "start_time": "2022-04-23T13:47:09.842Z"
   },
   {
    "duration": 25,
    "start_time": "2022-04-23T13:47:09.847Z"
   },
   {
    "duration": 41,
    "start_time": "2022-04-23T13:47:09.874Z"
   },
   {
    "duration": 23,
    "start_time": "2022-04-23T13:47:09.917Z"
   },
   {
    "duration": 28,
    "start_time": "2022-04-23T13:47:09.941Z"
   },
   {
    "duration": 3,
    "start_time": "2022-04-23T13:47:52.870Z"
   },
   {
    "duration": 11,
    "start_time": "2022-04-23T13:48:29.365Z"
   },
   {
    "duration": 4,
    "start_time": "2022-04-23T13:52:16.070Z"
   },
   {
    "duration": 19,
    "start_time": "2022-04-23T13:52:17.221Z"
   },
   {
    "duration": 3,
    "start_time": "2022-04-23T13:52:33.911Z"
   },
   {
    "duration": 3,
    "start_time": "2022-04-23T13:52:35.230Z"
   },
   {
    "duration": 11,
    "start_time": "2022-04-23T13:52:35.767Z"
   },
   {
    "duration": 3,
    "start_time": "2022-04-23T13:52:43.342Z"
   },
   {
    "duration": 9,
    "start_time": "2022-04-23T13:52:44.142Z"
   },
   {
    "duration": 4,
    "start_time": "2022-04-23T13:56:09.550Z"
   },
   {
    "duration": 9,
    "start_time": "2022-04-23T13:56:10.222Z"
   },
   {
    "duration": 7,
    "start_time": "2022-04-23T13:58:31.712Z"
   },
   {
    "duration": 3,
    "start_time": "2022-04-23T14:15:43.232Z"
   },
   {
    "duration": 9,
    "start_time": "2022-04-23T14:16:23.337Z"
   },
   {
    "duration": 12,
    "start_time": "2022-04-23T14:16:28.034Z"
   },
   {
    "duration": 4,
    "start_time": "2022-04-23T14:32:30.354Z"
   },
   {
    "duration": 12,
    "start_time": "2022-04-23T14:32:33.923Z"
   },
   {
    "duration": 4,
    "start_time": "2022-04-23T14:32:41.275Z"
   },
   {
    "duration": 349,
    "start_time": "2022-04-23T14:32:41.281Z"
   },
   {
    "duration": 77,
    "start_time": "2022-04-23T14:32:41.632Z"
   },
   {
    "duration": 7,
    "start_time": "2022-04-23T14:32:41.711Z"
   },
   {
    "duration": 23,
    "start_time": "2022-04-23T14:32:41.722Z"
   },
   {
    "duration": 4,
    "start_time": "2022-04-23T14:32:41.747Z"
   },
   {
    "duration": 56,
    "start_time": "2022-04-23T14:32:41.753Z"
   },
   {
    "duration": 104,
    "start_time": "2022-04-23T14:32:41.895Z"
   },
   {
    "duration": 197,
    "start_time": "2022-04-23T14:32:42.001Z"
   },
   {
    "duration": 564,
    "start_time": "2022-04-23T14:32:42.200Z"
   },
   {
    "duration": 3,
    "start_time": "2022-04-23T14:32:42.766Z"
   },
   {
    "duration": 5,
    "start_time": "2022-04-23T14:32:42.771Z"
   },
   {
    "duration": 12,
    "start_time": "2022-04-23T14:32:42.793Z"
   },
   {
    "duration": 4,
    "start_time": "2022-04-23T14:32:42.807Z"
   },
   {
    "duration": 16,
    "start_time": "2022-04-23T14:32:42.813Z"
   },
   {
    "duration": 4,
    "start_time": "2022-04-23T14:32:52.651Z"
   },
   {
    "duration": 13,
    "start_time": "2022-04-23T14:32:53.906Z"
   },
   {
    "duration": 4,
    "start_time": "2022-04-23T14:33:09.325Z"
   },
   {
    "duration": 355,
    "start_time": "2022-04-23T14:33:09.331Z"
   },
   {
    "duration": 60,
    "start_time": "2022-04-23T14:33:09.688Z"
   },
   {
    "duration": 8,
    "start_time": "2022-04-23T14:33:09.749Z"
   },
   {
    "duration": 52,
    "start_time": "2022-04-23T14:33:09.760Z"
   },
   {
    "duration": 4,
    "start_time": "2022-04-23T14:33:09.814Z"
   },
   {
    "duration": 78,
    "start_time": "2022-04-23T14:33:09.820Z"
   },
   {
    "duration": 104,
    "start_time": "2022-04-23T14:33:09.901Z"
   },
   {
    "duration": 192,
    "start_time": "2022-04-23T14:33:10.007Z"
   },
   {
    "duration": 564,
    "start_time": "2022-04-23T14:33:10.203Z"
   },
   {
    "duration": 3,
    "start_time": "2022-04-23T14:33:10.769Z"
   },
   {
    "duration": 9,
    "start_time": "2022-04-23T14:33:10.773Z"
   },
   {
    "duration": 11,
    "start_time": "2022-04-23T14:33:10.793Z"
   },
   {
    "duration": 6,
    "start_time": "2022-04-23T14:33:10.806Z"
   },
   {
    "duration": 29,
    "start_time": "2022-04-23T14:33:10.813Z"
   },
   {
    "duration": 4,
    "start_time": "2022-04-23T14:33:17.650Z"
   },
   {
    "duration": 13,
    "start_time": "2022-04-23T14:33:18.642Z"
   },
   {
    "duration": 25,
    "start_time": "2022-04-23T14:33:43.970Z"
   },
   {
    "duration": 4,
    "start_time": "2022-04-23T14:34:04.283Z"
   },
   {
    "duration": 24,
    "start_time": "2022-04-23T14:34:05.027Z"
   },
   {
    "duration": 4,
    "start_time": "2022-04-23T14:34:19.515Z"
   },
   {
    "duration": 9,
    "start_time": "2022-04-23T14:34:26.707Z"
   },
   {
    "duration": 9,
    "start_time": "2022-04-23T14:34:33.778Z"
   },
   {
    "duration": 9,
    "start_time": "2022-04-23T14:35:32.427Z"
   },
   {
    "duration": 9,
    "start_time": "2022-04-23T14:36:05.794Z"
   },
   {
    "duration": 4,
    "start_time": "2022-04-23T14:40:10.322Z"
   },
   {
    "duration": 4,
    "start_time": "2022-04-23T14:47:19.581Z"
   },
   {
    "duration": 9,
    "start_time": "2022-04-23T14:47:22.836Z"
   },
   {
    "duration": 4,
    "start_time": "2022-04-23T14:47:50.350Z"
   },
   {
    "duration": 4,
    "start_time": "2022-04-23T14:47:55.237Z"
   },
   {
    "duration": 9,
    "start_time": "2022-04-23T14:47:56.393Z"
   },
   {
    "duration": 8,
    "start_time": "2022-04-23T14:48:11.029Z"
   },
   {
    "duration": 9,
    "start_time": "2022-04-23T14:48:12.853Z"
   },
   {
    "duration": 3,
    "start_time": "2022-04-23T14:52:40.117Z"
   },
   {
    "duration": 3,
    "start_time": "2022-04-23T14:52:40.709Z"
   },
   {
    "duration": 11,
    "start_time": "2022-04-23T14:52:42.035Z"
   },
   {
    "duration": 4,
    "start_time": "2022-04-23T14:52:51.413Z"
   },
   {
    "duration": 4,
    "start_time": "2022-04-23T14:52:52.069Z"
   },
   {
    "duration": 3,
    "start_time": "2022-04-23T14:54:59.182Z"
   },
   {
    "duration": 8,
    "start_time": "2022-04-23T14:55:00.389Z"
   },
   {
    "duration": 8,
    "start_time": "2022-04-23T14:55:01.422Z"
   },
   {
    "duration": 4,
    "start_time": "2022-04-23T14:55:03.888Z"
   },
   {
    "duration": 358,
    "start_time": "2022-04-23T14:55:03.894Z"
   },
   {
    "duration": 69,
    "start_time": "2022-04-23T14:55:04.254Z"
   },
   {
    "duration": 7,
    "start_time": "2022-04-23T14:55:04.325Z"
   },
   {
    "duration": 23,
    "start_time": "2022-04-23T14:55:04.335Z"
   },
   {
    "duration": 4,
    "start_time": "2022-04-23T14:55:04.360Z"
   },
   {
    "duration": 49,
    "start_time": "2022-04-23T14:55:04.366Z"
   },
   {
    "duration": 107,
    "start_time": "2022-04-23T14:55:04.494Z"
   },
   {
    "duration": 199,
    "start_time": "2022-04-23T14:55:04.603Z"
   },
   {
    "duration": 637,
    "start_time": "2022-04-23T14:55:04.804Z"
   },
   {
    "duration": 3,
    "start_time": "2022-04-23T14:55:05.443Z"
   },
   {
    "duration": 8,
    "start_time": "2022-04-23T14:55:05.448Z"
   },
   {
    "duration": 23,
    "start_time": "2022-04-23T14:55:05.457Z"
   },
   {
    "duration": 13,
    "start_time": "2022-04-23T14:55:05.483Z"
   },
   {
    "duration": 12,
    "start_time": "2022-04-23T14:55:05.498Z"
   },
   {
    "duration": 10,
    "start_time": "2022-04-23T14:55:05.512Z"
   },
   {
    "duration": 12,
    "start_time": "2022-04-23T14:55:05.523Z"
   },
   {
    "duration": 9,
    "start_time": "2022-04-23T14:55:05.536Z"
   },
   {
    "duration": 4,
    "start_time": "2022-04-23T14:55:13.502Z"
   },
   {
    "duration": 3,
    "start_time": "2022-04-23T14:55:22.102Z"
   },
   {
    "duration": 4,
    "start_time": "2022-04-23T14:55:22.718Z"
   },
   {
    "duration": 3,
    "start_time": "2022-04-23T14:55:26.717Z"
   },
   {
    "duration": 4,
    "start_time": "2022-04-23T14:55:27.150Z"
   },
   {
    "duration": 9,
    "start_time": "2022-04-23T14:55:27.693Z"
   },
   {
    "duration": 3,
    "start_time": "2022-04-23T14:55:40.125Z"
   },
   {
    "duration": 4,
    "start_time": "2022-04-23T14:55:40.926Z"
   },
   {
    "duration": 4,
    "start_time": "2022-04-23T14:55:46.424Z"
   },
   {
    "duration": 365,
    "start_time": "2022-04-23T14:55:46.430Z"
   },
   {
    "duration": 62,
    "start_time": "2022-04-23T14:55:46.797Z"
   },
   {
    "duration": 9,
    "start_time": "2022-04-23T14:55:46.861Z"
   },
   {
    "duration": 32,
    "start_time": "2022-04-23T14:55:46.871Z"
   },
   {
    "duration": 4,
    "start_time": "2022-04-23T14:55:46.905Z"
   },
   {
    "duration": 17,
    "start_time": "2022-04-23T14:55:46.911Z"
   },
   {
    "duration": 108,
    "start_time": "2022-04-23T14:55:46.992Z"
   },
   {
    "duration": 197,
    "start_time": "2022-04-23T14:55:47.103Z"
   },
   {
    "duration": 564,
    "start_time": "2022-04-23T14:55:47.393Z"
   },
   {
    "duration": 3,
    "start_time": "2022-04-23T14:55:47.959Z"
   },
   {
    "duration": 8,
    "start_time": "2022-04-23T14:55:47.963Z"
   },
   {
    "duration": 26,
    "start_time": "2022-04-23T14:55:47.973Z"
   },
   {
    "duration": 4,
    "start_time": "2022-04-23T14:55:48.001Z"
   },
   {
    "duration": 6,
    "start_time": "2022-04-23T14:55:48.007Z"
   },
   {
    "duration": 6,
    "start_time": "2022-04-23T14:55:48.014Z"
   },
   {
    "duration": 9,
    "start_time": "2022-04-23T14:55:48.022Z"
   },
   {
    "duration": 8,
    "start_time": "2022-04-23T14:55:48.032Z"
   },
   {
    "duration": 9,
    "start_time": "2022-04-23T14:55:48.041Z"
   },
   {
    "duration": 3,
    "start_time": "2022-04-23T14:55:53.717Z"
   },
   {
    "duration": 5,
    "start_time": "2022-04-23T14:55:54.453Z"
   },
   {
    "duration": 3,
    "start_time": "2022-04-23T14:55:58.781Z"
   },
   {
    "duration": 5,
    "start_time": "2022-04-23T14:55:59.789Z"
   },
   {
    "duration": 4,
    "start_time": "2022-04-23T14:56:02.381Z"
   },
   {
    "duration": 5,
    "start_time": "2022-04-23T14:56:02.965Z"
   },
   {
    "duration": 3,
    "start_time": "2022-04-23T14:56:11.070Z"
   },
   {
    "duration": 4,
    "start_time": "2022-04-23T14:56:12.045Z"
   },
   {
    "duration": 8,
    "start_time": "2022-04-23T14:56:23.534Z"
   },
   {
    "duration": 3,
    "start_time": "2022-04-23T14:56:27.597Z"
   },
   {
    "duration": 4,
    "start_time": "2022-04-23T14:56:28.534Z"
   },
   {
    "duration": 8,
    "start_time": "2022-04-23T14:56:29.462Z"
   },
   {
    "duration": 3,
    "start_time": "2022-04-23T14:56:33.726Z"
   },
   {
    "duration": 4,
    "start_time": "2022-04-23T14:56:34.550Z"
   },
   {
    "duration": 9,
    "start_time": "2022-04-23T14:56:38.997Z"
   },
   {
    "duration": 9,
    "start_time": "2022-04-23T14:56:40.853Z"
   },
   {
    "duration": 3,
    "start_time": "2022-04-23T14:56:45.293Z"
   },
   {
    "duration": 4,
    "start_time": "2022-04-23T14:56:45.981Z"
   },
   {
    "duration": 9,
    "start_time": "2022-04-23T14:56:47.733Z"
   },
   {
    "duration": 5,
    "start_time": "2022-04-23T14:56:58.189Z"
   },
   {
    "duration": 9,
    "start_time": "2022-04-23T14:57:03.261Z"
   },
   {
    "duration": 4,
    "start_time": "2022-04-23T14:57:05.710Z"
   },
   {
    "duration": 5,
    "start_time": "2022-04-23T14:57:06.373Z"
   },
   {
    "duration": 9,
    "start_time": "2022-04-23T14:57:07.045Z"
   },
   {
    "duration": 9,
    "start_time": "2022-04-23T14:57:08.310Z"
   },
   {
    "duration": 8,
    "start_time": "2022-04-23T14:57:09.005Z"
   },
   {
    "duration": 5,
    "start_time": "2022-04-23T14:58:47.342Z"
   },
   {
    "duration": 4,
    "start_time": "2022-04-23T14:58:58.630Z"
   },
   {
    "duration": 4,
    "start_time": "2022-04-23T14:59:12.606Z"
   },
   {
    "duration": 4,
    "start_time": "2022-04-23T15:02:11.921Z"
   },
   {
    "duration": 385,
    "start_time": "2022-04-23T15:02:11.927Z"
   },
   {
    "duration": 60,
    "start_time": "2022-04-23T15:02:12.314Z"
   },
   {
    "duration": 7,
    "start_time": "2022-04-23T15:02:12.392Z"
   },
   {
    "duration": 24,
    "start_time": "2022-04-23T15:02:12.402Z"
   },
   {
    "duration": 5,
    "start_time": "2022-04-23T15:02:12.427Z"
   },
   {
    "duration": 67,
    "start_time": "2022-04-23T15:02:12.433Z"
   },
   {
    "duration": 104,
    "start_time": "2022-04-23T15:02:12.502Z"
   },
   {
    "duration": 190,
    "start_time": "2022-04-23T15:02:12.608Z"
   },
   {
    "duration": 574,
    "start_time": "2022-04-23T15:02:12.800Z"
   },
   {
    "duration": 4,
    "start_time": "2022-04-23T15:02:13.375Z"
   },
   {
    "duration": 4,
    "start_time": "2022-04-23T15:02:13.392Z"
   },
   {
    "duration": 13,
    "start_time": "2022-04-23T15:02:13.398Z"
   },
   {
    "duration": 3,
    "start_time": "2022-04-23T15:02:13.413Z"
   },
   {
    "duration": 7,
    "start_time": "2022-04-23T15:02:13.418Z"
   },
   {
    "duration": 8,
    "start_time": "2022-04-23T15:02:13.427Z"
   },
   {
    "duration": 7,
    "start_time": "2022-04-23T15:02:13.437Z"
   },
   {
    "duration": 7,
    "start_time": "2022-04-23T15:02:13.446Z"
   },
   {
    "duration": 39,
    "start_time": "2022-04-23T15:02:13.455Z"
   },
   {
    "duration": 7,
    "start_time": "2022-04-23T15:02:13.496Z"
   },
   {
    "duration": 13,
    "start_time": "2022-04-23T15:02:43.175Z"
   },
   {
    "duration": 6,
    "start_time": "2022-04-23T15:02:49.041Z"
   },
   {
    "duration": 369,
    "start_time": "2022-04-23T15:02:49.051Z"
   },
   {
    "duration": 73,
    "start_time": "2022-04-23T15:02:49.422Z"
   },
   {
    "duration": 9,
    "start_time": "2022-04-23T15:02:49.497Z"
   },
   {
    "duration": 28,
    "start_time": "2022-04-23T15:02:49.508Z"
   },
   {
    "duration": 4,
    "start_time": "2022-04-23T15:02:49.538Z"
   },
   {
    "duration": 150,
    "start_time": "2022-04-23T15:02:49.544Z"
   },
   {
    "duration": 97,
    "start_time": "2022-04-23T15:02:49.697Z"
   },
   {
    "duration": 107,
    "start_time": "2022-04-23T15:02:49.796Z"
   },
   {
    "duration": 582,
    "start_time": "2022-04-23T15:02:49.905Z"
   },
   {
    "duration": 3,
    "start_time": "2022-04-23T15:02:50.492Z"
   },
   {
    "duration": 22,
    "start_time": "2022-04-23T15:02:50.497Z"
   },
   {
    "duration": 20,
    "start_time": "2022-04-23T15:02:50.521Z"
   },
   {
    "duration": 11,
    "start_time": "2022-04-23T15:02:50.543Z"
   },
   {
    "duration": 20,
    "start_time": "2022-04-23T15:02:50.555Z"
   },
   {
    "duration": 16,
    "start_time": "2022-04-23T15:02:50.577Z"
   },
   {
    "duration": 0,
    "start_time": "2022-04-23T15:02:50.595Z"
   },
   {
    "duration": 0,
    "start_time": "2022-04-23T15:02:50.596Z"
   },
   {
    "duration": 0,
    "start_time": "2022-04-23T15:02:50.597Z"
   },
   {
    "duration": 0,
    "start_time": "2022-04-23T15:02:50.599Z"
   },
   {
    "duration": 3,
    "start_time": "2022-04-23T15:03:04.775Z"
   },
   {
    "duration": 4,
    "start_time": "2022-04-23T15:03:05.311Z"
   },
   {
    "duration": 12,
    "start_time": "2022-04-23T15:03:06.183Z"
   },
   {
    "duration": 3,
    "start_time": "2022-04-23T15:04:05.343Z"
   },
   {
    "duration": 5,
    "start_time": "2022-04-23T15:04:05.870Z"
   },
   {
    "duration": 12,
    "start_time": "2022-04-23T15:04:06.743Z"
   },
   {
    "duration": 12,
    "start_time": "2022-04-23T15:04:14.759Z"
   },
   {
    "duration": 9,
    "start_time": "2022-04-23T15:04:16.023Z"
   },
   {
    "duration": 8,
    "start_time": "2022-04-23T15:04:18.647Z"
   },
   {
    "duration": 3,
    "start_time": "2022-04-23T15:07:15.185Z"
   },
   {
    "duration": 3,
    "start_time": "2022-04-23T15:07:17.055Z"
   },
   {
    "duration": 5,
    "start_time": "2022-04-23T15:07:17.878Z"
   },
   {
    "duration": 13,
    "start_time": "2022-04-23T15:07:18.559Z"
   },
   {
    "duration": 9,
    "start_time": "2022-04-23T15:08:27.535Z"
   },
   {
    "duration": 14,
    "start_time": "2022-04-23T15:08:59.536Z"
   },
   {
    "duration": 5,
    "start_time": "2022-04-23T15:09:13.152Z"
   },
   {
    "duration": 337,
    "start_time": "2022-04-23T15:09:13.159Z"
   },
   {
    "duration": 58,
    "start_time": "2022-04-23T15:09:13.498Z"
   },
   {
    "duration": 9,
    "start_time": "2022-04-23T15:09:13.557Z"
   },
   {
    "duration": 25,
    "start_time": "2022-04-23T15:09:13.593Z"
   },
   {
    "duration": 4,
    "start_time": "2022-04-23T15:09:13.620Z"
   },
   {
    "duration": 72,
    "start_time": "2022-04-23T15:09:13.626Z"
   },
   {
    "duration": 104,
    "start_time": "2022-04-23T15:09:13.701Z"
   },
   {
    "duration": 192,
    "start_time": "2022-04-23T15:09:13.807Z"
   },
   {
    "duration": 566,
    "start_time": "2022-04-23T15:09:14.092Z"
   },
   {
    "duration": 3,
    "start_time": "2022-04-23T15:09:14.661Z"
   },
   {
    "duration": 6,
    "start_time": "2022-04-23T15:09:14.666Z"
   },
   {
    "duration": 27,
    "start_time": "2022-04-23T15:09:14.673Z"
   },
   {
    "duration": 3,
    "start_time": "2022-04-23T15:09:14.702Z"
   },
   {
    "duration": 13,
    "start_time": "2022-04-23T15:09:14.707Z"
   },
   {
    "duration": 4,
    "start_time": "2022-04-23T15:10:42.821Z"
   },
   {
    "duration": 12,
    "start_time": "2022-04-23T15:10:44.682Z"
   },
   {
    "duration": 9,
    "start_time": "2022-04-23T15:11:55.434Z"
   },
   {
    "duration": 11,
    "start_time": "2022-04-23T15:12:22.251Z"
   },
   {
    "duration": 4,
    "start_time": "2022-04-23T15:14:59.580Z"
   },
   {
    "duration": 5,
    "start_time": "2022-04-23T15:15:19.420Z"
   },
   {
    "duration": 10,
    "start_time": "2022-04-23T15:15:24.724Z"
   },
   {
    "duration": 7,
    "start_time": "2022-04-23T15:15:41.916Z"
   },
   {
    "duration": 9,
    "start_time": "2022-04-23T15:15:47.523Z"
   },
   {
    "duration": 4,
    "start_time": "2022-04-23T15:16:58.814Z"
   },
   {
    "duration": 330,
    "start_time": "2022-04-23T15:16:58.820Z"
   },
   {
    "duration": 75,
    "start_time": "2022-04-23T15:16:59.151Z"
   },
   {
    "duration": 7,
    "start_time": "2022-04-23T15:16:59.228Z"
   },
   {
    "duration": 26,
    "start_time": "2022-04-23T15:16:59.237Z"
   },
   {
    "duration": 4,
    "start_time": "2022-04-23T15:16:59.265Z"
   },
   {
    "duration": 40,
    "start_time": "2022-04-23T15:16:59.270Z"
   },
   {
    "duration": 106,
    "start_time": "2022-04-23T15:16:59.395Z"
   },
   {
    "duration": 99,
    "start_time": "2022-04-23T15:16:59.503Z"
   },
   {
    "duration": 478,
    "start_time": "2022-04-23T15:16:59.694Z"
   },
   {
    "duration": 3,
    "start_time": "2022-04-23T15:17:00.174Z"
   },
   {
    "duration": 15,
    "start_time": "2022-04-23T15:17:00.178Z"
   },
   {
    "duration": 14,
    "start_time": "2022-04-23T15:17:00.196Z"
   },
   {
    "duration": 3,
    "start_time": "2022-04-23T15:17:00.212Z"
   },
   {
    "duration": 10,
    "start_time": "2022-04-23T15:17:00.217Z"
   },
   {
    "duration": 8,
    "start_time": "2022-04-23T15:23:51.237Z"
   },
   {
    "duration": 8,
    "start_time": "2022-04-23T15:24:02.156Z"
   },
   {
    "duration": 8,
    "start_time": "2022-04-23T15:27:22.419Z"
   },
   {
    "duration": 8,
    "start_time": "2022-04-23T15:27:36.148Z"
   },
   {
    "duration": 8,
    "start_time": "2022-04-23T15:27:44.661Z"
   },
   {
    "duration": 12,
    "start_time": "2022-04-23T15:27:50.100Z"
   },
   {
    "duration": 4,
    "start_time": "2022-04-23T15:32:08.627Z"
   },
   {
    "duration": 9,
    "start_time": "2022-04-23T15:32:09.858Z"
   },
   {
    "duration": 9,
    "start_time": "2022-04-23T15:32:11.563Z"
   },
   {
    "duration": 9,
    "start_time": "2022-04-23T15:32:12.147Z"
   },
   {
    "duration": 8,
    "start_time": "2022-04-23T16:24:30.197Z"
   },
   {
    "duration": 9,
    "start_time": "2022-04-23T16:24:55.773Z"
   },
   {
    "duration": 115,
    "start_time": "2022-04-23T16:25:45.326Z"
   },
   {
    "duration": 8,
    "start_time": "2022-04-23T16:25:50.245Z"
   },
   {
    "duration": 8,
    "start_time": "2022-04-23T16:26:04.398Z"
   },
   {
    "duration": 8,
    "start_time": "2022-04-23T16:26:15.045Z"
   },
   {
    "duration": 7,
    "start_time": "2022-04-23T16:26:28.758Z"
   },
   {
    "duration": 3,
    "start_time": "2022-04-23T16:29:29.718Z"
   },
   {
    "duration": 20,
    "start_time": "2022-04-23T16:30:09.470Z"
   },
   {
    "duration": 19,
    "start_time": "2022-04-23T16:30:33.126Z"
   },
   {
    "duration": 20,
    "start_time": "2022-04-23T16:31:23.479Z"
   },
   {
    "duration": 19,
    "start_time": "2022-04-23T16:36:24.487Z"
   },
   {
    "duration": 110,
    "start_time": "2022-04-23T16:41:00.552Z"
   },
   {
    "duration": 5,
    "start_time": "2022-04-23T16:48:09.697Z"
   },
   {
    "duration": 1162,
    "start_time": "2022-04-23T16:49:21.104Z"
   },
   {
    "duration": 4,
    "start_time": "2022-04-23T16:52:02.353Z"
   },
   {
    "duration": 4,
    "start_time": "2022-04-23T16:52:04.515Z"
   },
   {
    "duration": 363,
    "start_time": "2022-04-23T16:52:04.521Z"
   },
   {
    "duration": 65,
    "start_time": "2022-04-23T16:52:04.885Z"
   },
   {
    "duration": 6,
    "start_time": "2022-04-23T16:52:04.952Z"
   },
   {
    "duration": 49,
    "start_time": "2022-04-23T16:52:04.961Z"
   },
   {
    "duration": 3,
    "start_time": "2022-04-23T16:52:05.012Z"
   },
   {
    "duration": 81,
    "start_time": "2022-04-23T16:52:05.017Z"
   },
   {
    "duration": 108,
    "start_time": "2022-04-23T16:52:05.100Z"
   },
   {
    "duration": 196,
    "start_time": "2022-04-23T16:52:05.210Z"
   },
   {
    "duration": 581,
    "start_time": "2022-04-23T16:52:05.408Z"
   },
   {
    "duration": 3,
    "start_time": "2022-04-23T16:52:05.991Z"
   },
   {
    "duration": 10,
    "start_time": "2022-04-23T16:52:05.995Z"
   },
   {
    "duration": 12,
    "start_time": "2022-04-23T16:52:06.007Z"
   },
   {
    "duration": 4,
    "start_time": "2022-04-23T16:52:06.023Z"
   },
   {
    "duration": 20,
    "start_time": "2022-04-23T16:52:06.029Z"
   },
   {
    "duration": 6,
    "start_time": "2022-04-23T16:52:06.051Z"
   },
   {
    "duration": 1031,
    "start_time": "2022-04-23T16:52:06.092Z"
   },
   {
    "duration": 6,
    "start_time": "2022-04-23T16:56:58.929Z"
   },
   {
    "duration": 1537,
    "start_time": "2022-04-23T16:56:59.618Z"
   },
   {
    "duration": 8,
    "start_time": "2022-04-23T16:57:36.202Z"
   },
   {
    "duration": 5,
    "start_time": "2022-04-23T16:58:53.698Z"
   },
   {
    "duration": 1049,
    "start_time": "2022-04-23T16:58:54.689Z"
   },
   {
    "duration": 1018,
    "start_time": "2022-04-23T16:59:25.434Z"
   },
   {
    "duration": 1004,
    "start_time": "2022-04-23T16:59:46.515Z"
   },
   {
    "duration": 1068,
    "start_time": "2022-04-23T16:59:59.346Z"
   },
   {
    "duration": 11,
    "start_time": "2022-04-23T17:06:09.796Z"
   },
   {
    "duration": 131,
    "start_time": "2022-04-23T17:07:47.812Z"
   },
   {
    "duration": 6,
    "start_time": "2022-04-23T17:07:56.148Z"
   },
   {
    "duration": 1071,
    "start_time": "2022-04-23T17:07:57.715Z"
   },
   {
    "duration": 5,
    "start_time": "2022-04-23T17:08:39.732Z"
   },
   {
    "duration": 1011,
    "start_time": "2022-04-23T17:08:40.395Z"
   },
   {
    "duration": 5,
    "start_time": "2022-04-23T17:08:55.747Z"
   },
   {
    "duration": 1004,
    "start_time": "2022-04-23T17:08:56.444Z"
   },
   {
    "duration": 997,
    "start_time": "2022-04-23T17:08:59.971Z"
   },
   {
    "duration": 1004,
    "start_time": "2022-04-23T17:09:03.299Z"
   },
   {
    "duration": 8,
    "start_time": "2022-04-23T17:10:26.389Z"
   },
   {
    "duration": 8,
    "start_time": "2022-04-23T17:13:37.077Z"
   },
   {
    "duration": 8,
    "start_time": "2022-04-23T17:13:40.388Z"
   },
   {
    "duration": 5,
    "start_time": "2022-04-23T17:14:41.925Z"
   },
   {
    "duration": 4,
    "start_time": "2022-04-23T17:14:46.150Z"
   },
   {
    "duration": 350,
    "start_time": "2022-04-23T17:14:46.156Z"
   },
   {
    "duration": 63,
    "start_time": "2022-04-23T17:14:46.508Z"
   },
   {
    "duration": 7,
    "start_time": "2022-04-23T17:14:46.594Z"
   },
   {
    "duration": 25,
    "start_time": "2022-04-23T17:14:46.604Z"
   },
   {
    "duration": 3,
    "start_time": "2022-04-23T17:14:46.631Z"
   },
   {
    "duration": 66,
    "start_time": "2022-04-23T17:14:46.636Z"
   },
   {
    "duration": 16,
    "start_time": "2022-04-23T17:14:46.793Z"
   },
   {
    "duration": 105,
    "start_time": "2022-04-23T17:14:46.892Z"
   },
   {
    "duration": 585,
    "start_time": "2022-04-23T17:14:47.000Z"
   },
   {
    "duration": 3,
    "start_time": "2022-04-23T17:14:47.592Z"
   },
   {
    "duration": 14,
    "start_time": "2022-04-23T17:14:47.596Z"
   },
   {
    "duration": 12,
    "start_time": "2022-04-23T17:14:47.612Z"
   },
   {
    "duration": 4,
    "start_time": "2022-04-23T17:14:47.627Z"
   },
   {
    "duration": 22,
    "start_time": "2022-04-23T17:14:47.633Z"
   },
   {
    "duration": 5,
    "start_time": "2022-04-23T17:14:47.657Z"
   },
   {
    "duration": 1016,
    "start_time": "2022-04-23T17:14:47.663Z"
   },
   {
    "duration": 1014,
    "start_time": "2022-04-23T17:14:48.681Z"
   },
   {
    "duration": 1005,
    "start_time": "2022-04-23T17:14:49.697Z"
   },
   {
    "duration": 8,
    "start_time": "2022-04-23T17:14:50.704Z"
   },
   {
    "duration": 6,
    "start_time": "2022-04-23T17:29:40.182Z"
   },
   {
    "duration": 15,
    "start_time": "2022-04-23T17:29:41.646Z"
   },
   {
    "duration": 5,
    "start_time": "2022-04-23T17:29:57.775Z"
   },
   {
    "duration": 15,
    "start_time": "2022-04-23T17:29:58.582Z"
   },
   {
    "duration": 6,
    "start_time": "2022-04-23T17:30:26.255Z"
   },
   {
    "duration": 1010,
    "start_time": "2022-04-23T17:30:26.942Z"
   },
   {
    "duration": 6,
    "start_time": "2022-04-23T17:30:47.335Z"
   },
   {
    "duration": 1052,
    "start_time": "2022-04-23T17:30:49.463Z"
   },
   {
    "duration": 5,
    "start_time": "2022-04-23T17:31:59.175Z"
   },
   {
    "duration": 1005,
    "start_time": "2022-04-23T17:32:00.127Z"
   },
   {
    "duration": 6,
    "start_time": "2022-04-23T17:33:42.303Z"
   },
   {
    "duration": 1027,
    "start_time": "2022-04-23T17:33:43.167Z"
   },
   {
    "duration": 1043,
    "start_time": "2022-04-23T17:35:40.672Z"
   },
   {
    "duration": 1019,
    "start_time": "2022-04-23T17:35:43.790Z"
   },
   {
    "duration": 1038,
    "start_time": "2022-04-23T17:35:48.857Z"
   },
   {
    "duration": 6,
    "start_time": "2022-04-23T17:36:22.111Z"
   },
   {
    "duration": 984,
    "start_time": "2022-04-23T17:36:22.790Z"
   },
   {
    "duration": 6,
    "start_time": "2022-04-23T17:37:58.704Z"
   },
   {
    "duration": 996,
    "start_time": "2022-04-23T17:37:59.462Z"
   },
   {
    "duration": 5,
    "start_time": "2022-04-23T17:38:47.119Z"
   },
   {
    "duration": 1197,
    "start_time": "2022-04-23T17:38:48.543Z"
   },
   {
    "duration": 6,
    "start_time": "2022-04-23T17:40:50.287Z"
   },
   {
    "duration": 1040,
    "start_time": "2022-04-23T17:40:51.455Z"
   },
   {
    "duration": 979,
    "start_time": "2022-04-23T17:41:06.727Z"
   },
   {
    "duration": 987,
    "start_time": "2022-04-23T17:41:13.830Z"
   },
   {
    "duration": 5,
    "start_time": "2022-04-23T17:43:15.951Z"
   },
   {
    "duration": 1032,
    "start_time": "2022-04-23T17:43:17.167Z"
   },
   {
    "duration": 5,
    "start_time": "2022-04-23T17:44:56.327Z"
   },
   {
    "duration": 981,
    "start_time": "2022-04-23T17:44:58.096Z"
   },
   {
    "duration": 5,
    "start_time": "2022-04-23T17:45:04.265Z"
   },
   {
    "duration": 377,
    "start_time": "2022-04-23T17:45:04.273Z"
   },
   {
    "duration": 168,
    "start_time": "2022-04-23T17:45:04.652Z"
   },
   {
    "duration": 8,
    "start_time": "2022-04-23T17:45:04.822Z"
   },
   {
    "duration": 25,
    "start_time": "2022-04-23T17:45:04.833Z"
   },
   {
    "duration": 5,
    "start_time": "2022-04-23T17:45:04.860Z"
   },
   {
    "duration": 48,
    "start_time": "2022-04-23T17:45:04.867Z"
   },
   {
    "duration": 106,
    "start_time": "2022-04-23T17:45:04.995Z"
   },
   {
    "duration": 190,
    "start_time": "2022-04-23T17:45:05.104Z"
   },
   {
    "duration": 494,
    "start_time": "2022-04-23T17:45:05.296Z"
   },
   {
    "duration": 3,
    "start_time": "2022-04-23T17:45:05.792Z"
   },
   {
    "duration": 24,
    "start_time": "2022-04-23T17:45:05.797Z"
   },
   {
    "duration": 14,
    "start_time": "2022-04-23T17:45:05.823Z"
   },
   {
    "duration": 4,
    "start_time": "2022-04-23T17:45:05.839Z"
   },
   {
    "duration": 23,
    "start_time": "2022-04-23T17:45:05.845Z"
   },
   {
    "duration": 5,
    "start_time": "2022-04-23T17:45:05.869Z"
   },
   {
    "duration": 1021,
    "start_time": "2022-04-23T17:45:05.876Z"
   },
   {
    "duration": 993,
    "start_time": "2022-04-23T17:45:06.898Z"
   },
   {
    "duration": 986,
    "start_time": "2022-04-23T17:45:07.892Z"
   },
   {
    "duration": 14,
    "start_time": "2022-04-23T17:45:08.879Z"
   },
   {
    "duration": 15,
    "start_time": "2022-04-23T17:46:01.887Z"
   },
   {
    "duration": 1030,
    "start_time": "2022-04-23T17:46:14.832Z"
   },
   {
    "duration": 109,
    "start_time": "2022-04-23T17:46:51.407Z"
   },
   {
    "duration": 5,
    "start_time": "2022-04-23T17:47:05.399Z"
   },
   {
    "duration": 974,
    "start_time": "2022-04-23T17:47:07.183Z"
   },
   {
    "duration": 993,
    "start_time": "2022-04-23T17:47:13.935Z"
   },
   {
    "duration": 15,
    "start_time": "2022-04-23T17:47:19.607Z"
   },
   {
    "duration": 1045,
    "start_time": "2022-04-23T17:47:29.023Z"
   },
   {
    "duration": 4,
    "start_time": "2022-04-23T17:49:24.226Z"
   },
   {
    "duration": 541,
    "start_time": "2022-04-23T17:49:24.232Z"
   },
   {
    "duration": 67,
    "start_time": "2022-04-23T17:49:24.774Z"
   },
   {
    "duration": 7,
    "start_time": "2022-04-23T17:49:24.843Z"
   },
   {
    "duration": 54,
    "start_time": "2022-04-23T17:49:24.853Z"
   },
   {
    "duration": 5,
    "start_time": "2022-04-23T17:49:24.909Z"
   },
   {
    "duration": 83,
    "start_time": "2022-04-23T17:49:24.916Z"
   },
   {
    "duration": 107,
    "start_time": "2022-04-23T17:49:25.001Z"
   },
   {
    "duration": 187,
    "start_time": "2022-04-23T17:49:25.110Z"
   },
   {
    "duration": 592,
    "start_time": "2022-04-23T17:49:25.300Z"
   },
   {
    "duration": 3,
    "start_time": "2022-04-23T17:49:25.894Z"
   },
   {
    "duration": 6,
    "start_time": "2022-04-23T17:49:25.899Z"
   },
   {
    "duration": 23,
    "start_time": "2022-04-23T17:49:25.906Z"
   },
   {
    "duration": 4,
    "start_time": "2022-04-23T17:49:25.931Z"
   },
   {
    "duration": 23,
    "start_time": "2022-04-23T17:49:25.937Z"
   },
   {
    "duration": 5,
    "start_time": "2022-04-23T17:49:25.962Z"
   },
   {
    "duration": 1175,
    "start_time": "2022-04-23T17:49:25.969Z"
   },
   {
    "duration": 977,
    "start_time": "2022-04-23T17:49:27.146Z"
   },
   {
    "duration": 995,
    "start_time": "2022-04-23T17:49:28.125Z"
   },
   {
    "duration": 8,
    "start_time": "2022-04-23T17:49:29.123Z"
   },
   {
    "duration": 5,
    "start_time": "2022-04-23T17:49:55.407Z"
   },
   {
    "duration": 984,
    "start_time": "2022-04-23T17:49:56.551Z"
   },
   {
    "duration": 999,
    "start_time": "2022-04-23T17:50:05.040Z"
   },
   {
    "duration": 993,
    "start_time": "2022-04-23T17:50:10.504Z"
   },
   {
    "duration": 5,
    "start_time": "2022-04-23T17:57:21.578Z"
   },
   {
    "duration": 1019,
    "start_time": "2022-04-23T17:57:22.833Z"
   },
   {
    "duration": 989,
    "start_time": "2022-04-23T17:57:38.689Z"
   },
   {
    "duration": 984,
    "start_time": "2022-04-23T17:57:55.105Z"
   },
   {
    "duration": 6,
    "start_time": "2022-04-23T18:00:01.610Z"
   },
   {
    "duration": 981,
    "start_time": "2022-04-23T18:00:02.266Z"
   },
   {
    "duration": 143,
    "start_time": "2022-04-23T18:00:17.138Z"
   },
   {
    "duration": 5,
    "start_time": "2022-04-23T18:00:22.682Z"
   },
   {
    "duration": 976,
    "start_time": "2022-04-23T18:00:25.082Z"
   },
   {
    "duration": 986,
    "start_time": "2022-04-23T18:00:28.425Z"
   },
   {
    "duration": 1091,
    "start_time": "2022-04-23T18:00:30.345Z"
   },
   {
    "duration": 5,
    "start_time": "2022-04-23T18:02:35.813Z"
   },
   {
    "duration": 352,
    "start_time": "2022-04-23T18:02:35.820Z"
   },
   {
    "duration": 59,
    "start_time": "2022-04-23T18:02:36.174Z"
   },
   {
    "duration": 7,
    "start_time": "2022-04-23T18:02:36.235Z"
   },
   {
    "duration": 26,
    "start_time": "2022-04-23T18:02:36.244Z"
   },
   {
    "duration": 21,
    "start_time": "2022-04-23T18:02:36.272Z"
   },
   {
    "duration": 97,
    "start_time": "2022-04-23T18:02:36.295Z"
   },
   {
    "duration": 107,
    "start_time": "2022-04-23T18:02:36.395Z"
   },
   {
    "duration": 191,
    "start_time": "2022-04-23T18:02:36.505Z"
   },
   {
    "duration": 503,
    "start_time": "2022-04-23T18:02:36.703Z"
   },
   {
    "duration": 3,
    "start_time": "2022-04-23T18:02:37.208Z"
   },
   {
    "duration": 6,
    "start_time": "2022-04-23T18:02:37.214Z"
   },
   {
    "duration": 15,
    "start_time": "2022-04-23T18:02:37.222Z"
   },
   {
    "duration": 4,
    "start_time": "2022-04-23T18:02:37.239Z"
   },
   {
    "duration": 49,
    "start_time": "2022-04-23T18:02:37.244Z"
   },
   {
    "duration": 5,
    "start_time": "2022-04-23T18:02:37.295Z"
   },
   {
    "duration": 1043,
    "start_time": "2022-04-23T18:02:37.302Z"
   },
   {
    "duration": 1016,
    "start_time": "2022-04-23T18:02:38.347Z"
   },
   {
    "duration": 1023,
    "start_time": "2022-04-23T18:02:39.365Z"
   },
   {
    "duration": 8,
    "start_time": "2022-04-23T18:02:40.392Z"
   },
   {
    "duration": 6,
    "start_time": "2022-04-23T18:04:18.777Z"
   },
   {
    "duration": 1071,
    "start_time": "2022-04-23T18:04:20.274Z"
   },
   {
    "duration": 9,
    "start_time": "2022-04-23T18:04:46.131Z"
   },
   {
    "duration": 5,
    "start_time": "2022-04-23T18:11:17.022Z"
   },
   {
    "duration": 374,
    "start_time": "2022-04-23T18:11:17.030Z"
   },
   {
    "duration": 91,
    "start_time": "2022-04-23T18:11:17.405Z"
   },
   {
    "duration": 8,
    "start_time": "2022-04-23T18:11:17.498Z"
   },
   {
    "duration": 33,
    "start_time": "2022-04-23T18:11:17.510Z"
   },
   {
    "duration": 6,
    "start_time": "2022-04-23T18:11:17.545Z"
   },
   {
    "duration": 54,
    "start_time": "2022-04-23T18:11:17.553Z"
   },
   {
    "duration": 188,
    "start_time": "2022-04-23T18:11:17.609Z"
   },
   {
    "duration": 110,
    "start_time": "2022-04-23T18:11:17.799Z"
   },
   {
    "duration": 703,
    "start_time": "2022-04-23T18:11:17.912Z"
   },
   {
    "duration": 3,
    "start_time": "2022-04-23T18:11:18.618Z"
   },
   {
    "duration": 5,
    "start_time": "2022-04-23T18:11:18.624Z"
   },
   {
    "duration": 13,
    "start_time": "2022-04-23T18:11:18.631Z"
   },
   {
    "duration": 4,
    "start_time": "2022-04-23T18:11:18.648Z"
   },
   {
    "duration": 53,
    "start_time": "2022-04-23T18:11:18.655Z"
   },
   {
    "duration": 7,
    "start_time": "2022-04-23T18:11:18.710Z"
   },
   {
    "duration": 1091,
    "start_time": "2022-04-23T18:11:18.719Z"
   },
   {
    "duration": 1213,
    "start_time": "2022-04-23T18:11:19.812Z"
   },
   {
    "duration": 1210,
    "start_time": "2022-04-23T18:11:21.027Z"
   },
   {
    "duration": 9,
    "start_time": "2022-04-23T18:11:22.239Z"
   },
   {
    "duration": 123,
    "start_time": "2022-04-24T07:37:48.989Z"
   },
   {
    "duration": 2275,
    "start_time": "2022-04-24T07:38:03.222Z"
   },
   {
    "duration": 439,
    "start_time": "2022-04-24T07:38:05.501Z"
   },
   {
    "duration": 116,
    "start_time": "2022-04-24T07:38:05.942Z"
   },
   {
    "duration": 14,
    "start_time": "2022-04-24T07:38:06.060Z"
   },
   {
    "duration": 49,
    "start_time": "2022-04-24T07:38:06.077Z"
   },
   {
    "duration": 26,
    "start_time": "2022-04-24T07:38:06.128Z"
   },
   {
    "duration": 97,
    "start_time": "2022-04-24T07:38:06.157Z"
   },
   {
    "duration": 109,
    "start_time": "2022-04-24T07:38:06.257Z"
   },
   {
    "duration": 197,
    "start_time": "2022-04-24T07:38:06.369Z"
   },
   {
    "duration": 964,
    "start_time": "2022-04-24T07:38:06.570Z"
   },
   {
    "duration": 18,
    "start_time": "2022-04-24T07:38:07.537Z"
   },
   {
    "duration": 21,
    "start_time": "2022-04-24T07:38:07.558Z"
   },
   {
    "duration": 30,
    "start_time": "2022-04-24T07:38:07.582Z"
   },
   {
    "duration": 6,
    "start_time": "2022-04-24T07:38:22.115Z"
   },
   {
    "duration": 164,
    "start_time": "2022-04-24T07:38:50.418Z"
   },
   {
    "duration": 13,
    "start_time": "2022-04-24T07:40:18.683Z"
   },
   {
    "duration": 306,
    "start_time": "2022-04-24T07:40:44.492Z"
   },
   {
    "duration": 5,
    "start_time": "2022-04-24T07:40:51.015Z"
   },
   {
    "duration": 426,
    "start_time": "2022-04-24T07:40:51.023Z"
   },
   {
    "duration": 110,
    "start_time": "2022-04-24T07:40:51.451Z"
   },
   {
    "duration": 11,
    "start_time": "2022-04-24T07:40:51.564Z"
   },
   {
    "duration": 38,
    "start_time": "2022-04-24T07:40:51.578Z"
   },
   {
    "duration": 6,
    "start_time": "2022-04-24T07:40:51.618Z"
   },
   {
    "duration": 27,
    "start_time": "2022-04-24T07:40:51.652Z"
   },
   {
    "duration": 111,
    "start_time": "2022-04-24T07:40:51.756Z"
   },
   {
    "duration": 188,
    "start_time": "2022-04-24T07:40:51.870Z"
   },
   {
    "duration": 837,
    "start_time": "2022-04-24T07:40:52.063Z"
   },
   {
    "duration": 3,
    "start_time": "2022-04-24T07:40:52.903Z"
   },
   {
    "duration": 8,
    "start_time": "2022-04-24T07:40:52.908Z"
   },
   {
    "duration": 38,
    "start_time": "2022-04-24T07:40:52.918Z"
   },
   {
    "duration": 6,
    "start_time": "2022-04-24T07:40:52.958Z"
   },
   {
    "duration": 270,
    "start_time": "2022-04-24T07:40:52.967Z"
   },
   {
    "duration": 5,
    "start_time": "2022-04-24T07:41:07.276Z"
   },
   {
    "duration": 25,
    "start_time": "2022-04-24T07:41:19.619Z"
   },
   {
    "duration": 8,
    "start_time": "2022-04-24T07:42:14.924Z"
   },
   {
    "duration": 1893,
    "start_time": "2022-04-24T07:42:22.147Z"
   },
   {
    "duration": 1760,
    "start_time": "2022-04-24T07:42:27.355Z"
   },
   {
    "duration": 6,
    "start_time": "2022-04-24T07:42:55.606Z"
   },
   {
    "duration": 435,
    "start_time": "2022-04-24T07:42:55.615Z"
   },
   {
    "duration": 126,
    "start_time": "2022-04-24T07:42:56.053Z"
   },
   {
    "duration": 13,
    "start_time": "2022-04-24T07:42:56.181Z"
   },
   {
    "duration": 63,
    "start_time": "2022-04-24T07:42:56.198Z"
   },
   {
    "duration": 7,
    "start_time": "2022-04-24T07:42:56.264Z"
   },
   {
    "duration": 83,
    "start_time": "2022-04-24T07:42:56.273Z"
   },
   {
    "duration": 194,
    "start_time": "2022-04-24T07:42:56.359Z"
   },
   {
    "duration": 198,
    "start_time": "2022-04-24T07:42:56.556Z"
   },
   {
    "duration": 1006,
    "start_time": "2022-04-24T07:42:56.756Z"
   },
   {
    "duration": 4,
    "start_time": "2022-04-24T07:42:57.765Z"
   },
   {
    "duration": 8,
    "start_time": "2022-04-24T07:42:57.772Z"
   },
   {
    "duration": 16,
    "start_time": "2022-04-24T07:42:57.782Z"
   },
   {
    "duration": 5,
    "start_time": "2022-04-24T07:42:57.802Z"
   },
   {
    "duration": 60,
    "start_time": "2022-04-24T07:42:57.809Z"
   },
   {
    "duration": 8,
    "start_time": "2022-04-24T07:42:57.871Z"
   },
   {
    "duration": 1799,
    "start_time": "2022-04-24T07:42:57.881Z"
   },
   {
    "duration": 1684,
    "start_time": "2022-04-24T07:42:59.683Z"
   },
   {
    "duration": 1699,
    "start_time": "2022-04-24T07:43:01.371Z"
   },
   {
    "duration": 14,
    "start_time": "2022-04-24T07:43:03.072Z"
   },
   {
    "duration": 7,
    "start_time": "2022-04-24T07:43:37.950Z"
   },
   {
    "duration": 471,
    "start_time": "2022-04-24T07:43:37.960Z"
   },
   {
    "duration": 119,
    "start_time": "2022-04-24T07:43:38.433Z"
   },
   {
    "duration": 10,
    "start_time": "2022-04-24T07:43:38.555Z"
   },
   {
    "duration": 35,
    "start_time": "2022-04-24T07:43:38.567Z"
   },
   {
    "duration": 6,
    "start_time": "2022-04-24T07:43:38.604Z"
   },
   {
    "duration": 51,
    "start_time": "2022-04-24T07:43:38.612Z"
   },
   {
    "duration": 193,
    "start_time": "2022-04-24T07:43:38.666Z"
   },
   {
    "duration": 200,
    "start_time": "2022-04-24T07:43:38.862Z"
   },
   {
    "duration": 1069,
    "start_time": "2022-04-24T07:43:39.068Z"
   },
   {
    "duration": 14,
    "start_time": "2022-04-24T07:43:40.139Z"
   },
   {
    "duration": 10,
    "start_time": "2022-04-24T07:43:40.156Z"
   },
   {
    "duration": 22,
    "start_time": "2022-04-24T07:43:40.169Z"
   },
   {
    "duration": 5,
    "start_time": "2022-04-24T07:43:40.194Z"
   },
   {
    "duration": 67,
    "start_time": "2022-04-24T07:43:40.202Z"
   },
   {
    "duration": 10,
    "start_time": "2022-04-24T07:43:40.272Z"
   },
   {
    "duration": 1829,
    "start_time": "2022-04-24T07:43:40.284Z"
   },
   {
    "duration": 1605,
    "start_time": "2022-04-24T07:43:42.115Z"
   },
   {
    "duration": 1590,
    "start_time": "2022-04-24T07:43:43.722Z"
   },
   {
    "duration": 11,
    "start_time": "2022-04-24T07:43:45.314Z"
   },
   {
    "duration": 12,
    "start_time": "2022-04-24T07:44:04.180Z"
   },
   {
    "duration": 15,
    "start_time": "2022-04-24T07:44:19.124Z"
   }
  ],
  "kernelspec": {
   "display_name": "Python 3 (ipykernel)",
   "language": "python",
   "name": "python3"
  },
  "language_info": {
   "codemirror_mode": {
    "name": "ipython",
    "version": 3
   },
   "file_extension": ".py",
   "mimetype": "text/x-python",
   "name": "python",
   "nbconvert_exporter": "python",
   "pygments_lexer": "ipython3",
   "version": "3.9.12"
  },
  "toc": {
   "base_numbering": 1,
   "nav_menu": {
    "height": "190px",
    "width": "301px"
   },
   "number_sections": true,
   "sideBar": true,
   "skip_h1_title": true,
   "title_cell": "Table of Contents",
   "title_sidebar": "Contents",
   "toc_cell": false,
   "toc_position": {},
   "toc_section_display": true,
   "toc_window_display": false
  }
 },
 "nbformat": 4,
 "nbformat_minor": 2
}
