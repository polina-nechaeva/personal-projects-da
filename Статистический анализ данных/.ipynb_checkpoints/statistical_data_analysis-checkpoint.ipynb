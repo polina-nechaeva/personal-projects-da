{
 "cells": [
  {
   "cell_type": "markdown",
   "metadata": {},
   "source": [
    "## Анализ поведения клиентов и определение оптимального тарифа для телеком-компании"
   ]
  },
  {
   "cell_type": "markdown",
   "metadata": {},
   "source": [
    "Необходимо провести предварительный анализ тарифов на данных 500 пользователей «Мегалайна» за 2018 год."
   ]
  },
  {
   "cell_type": "markdown",
   "metadata": {},
   "source": [
    "### Описание тарифов"
   ]
  },
  {
   "cell_type": "markdown",
   "metadata": {},
   "source": [
    "\n",
    "**Тариф «Смарт»**\n",
    "1. Ежемесячная плата: 550 рублей\n",
    "2. Включено 500 минут разговора, 50 сообщений и 15 Гб интернет-трафика\n",
    "3. Стоимость услуг сверх тарифного пакета:\n",
    "            - минута разговора: 3 рубля\n",
    "            - сообщение: 3 рубля\n",
    "            - 1 Гб интернет-трафика: 200 рублей.\n",
    "**Тариф «Ультра»**\n",
    "1. Ежемесячная плата: 1950 рублей\n",
    "2. Включено 3000 минут разговора, 1000 сообщений и 30 Гб интернет-трафика\n",
    "3. Стоимость услуг сверх тарифного пакета:\n",
    "           -минута разговора: 1 рубль\n",
    "           -сообщение: 1 рубль\n",
    "           -1 Гб интернет-трафика: 150 рублей"
   ]
  },
  {
   "cell_type": "markdown",
   "metadata": {},
   "source": [
    "### Описание данных"
   ]
  },
  {
   "cell_type": "markdown",
   "metadata": {},
   "source": [
    "Таблица **data_users** (информация о пользователях): \n",
    "- `user_id` — уникальный идентификатор пользователя\n",
    "- `first_name` — имя пользователя\n",
    "- `last_name` — фамилия пользователя\n",
    "- `age` — возраст пользователя (годы)\n",
    "- `reg_date` — дата подключения тарифа (день, месяц, год)\n",
    "- `churn_date` — дата прекращения пользования тарифом (если значение пропущено, то тариф ещё действовал на момент выгрузки данных)\n",
    "- `city` — город проживания пользователя\n",
    "- `tariff` — название тарифного плана\n",
    "\n",
    "Таблица **data_calls** (информация о звонках):\n",
    "- `id` — уникальный номер звонка\n",
    "- `call_date` — дата звонка\n",
    "- `duration` — длительность звонка в минутах\n",
    "- `user_id` — идентификатор пользователя, сделавшего звонок\n",
    "\n",
    "Таблица **data_messages** (информация о сообщениях):\n",
    "- `id` — уникальный номер сообщения\n",
    "- `message_date` — дата сообщения\n",
    "- `user_id` — идентификатор пользователя, отправившего сообщение\n",
    "\n",
    "Таблица **data_internet** (информация об интернет-сессиях):\n",
    "- `id` — уникальный номер сессии\n",
    "- `mb_used` — объём потраченного за сессию интернет-трафика (в мегабайтах)\n",
    "- `session_date` — дата интернет-сессии\n",
    "- `user_id` — идентификатор пользователя\n",
    "\n",
    "Таблица **data_tariffs** (информация о тарифах):\n",
    "- `tariff_name` — название тарифа\n",
    "- `rub_monthly_fee` — ежемесячная абонентская плата в рублях\n",
    "- `minutes_included` — количество минут разговора в месяц, включённых в абонентскую плату\n",
    "- `messages_included` — количество сообщений в месяц, включённых в абонентскую плату\n",
    "- `mb_per_month_included` — объём интернет-трафика, включённого в абонентскую плату (в мегабайтах)\n",
    "- `rub_per_minute` — стоимость минуты разговора сверх тарифного пакета (например, если в тарифе 100 минут разговора в месяц, то со 101 минуты будет взиматься плата)\n",
    "- `rub_per_message` — стоимость отправки сообщения сверх тарифного пакета\n",
    "- `rub_per_gb` — стоимость дополнительного гигабайта интернет-трафика сверх тарифного пакета (1 гигабайт = 1024 мегабайта)"
   ]
  },
  {
   "cell_type": "markdown",
   "metadata": {},
   "source": [
    "## Изучение общей информации."
   ]
  },
  {
   "cell_type": "code",
   "execution_count": 2,
   "metadata": {},
   "outputs": [],
   "source": [
    "import pandas as pd\n",
    "from scipy import stats as st\n",
    "import numpy as np\n",
    "import matplotlib.pyplot as plt"
   ]
  },
  {
   "cell_type": "code",
   "execution_count": 3,
   "metadata": {},
   "outputs": [],
   "source": [
    "try:\n",
    "    data_calls = pd.read_csv('/datasets/calls.csv')\n",
    "    data_internet = pd.read_csv('/datasets/internet.csv')\n",
    "    data_messages = pd.read_csv('/datasets/messages.csv')\n",
    "    data_tariffs = pd.read_csv('/datasets/tariffs.csv')\n",
    "    data_users = pd.read_csv('/datasets/users.csv')\n",
    "except:\n",
    "    ('Неверный путь к файлам')"
   ]
  },
  {
   "cell_type": "code",
   "execution_count": 128,
   "metadata": {
    "scrolled": false
   },
   "outputs": [
    {
     "name": "stdout",
     "output_type": "stream",
     "text": [
      "звонки\n",
      "\n",
      "<class 'pandas.core.frame.DataFrame'>\n",
      "RangeIndex: 202607 entries, 0 to 202606\n",
      "Data columns (total 4 columns):\n",
      "id           202607 non-null object\n",
      "call_date    202607 non-null object\n",
      "duration     202607 non-null float64\n",
      "user_id      202607 non-null int64\n",
      "dtypes: float64(1), int64(1), object(2)\n",
      "memory usage: 6.2+ MB\n"
     ]
    },
    {
     "data": {
      "text/plain": [
       "None"
      ]
     },
     "metadata": {},
     "output_type": "display_data"
    },
    {
     "data": {
      "text/html": [
       "<div>\n",
       "<style scoped>\n",
       "    .dataframe tbody tr th:only-of-type {\n",
       "        vertical-align: middle;\n",
       "    }\n",
       "\n",
       "    .dataframe tbody tr th {\n",
       "        vertical-align: top;\n",
       "    }\n",
       "\n",
       "    .dataframe thead th {\n",
       "        text-align: right;\n",
       "    }\n",
       "</style>\n",
       "<table border=\"1\" class=\"dataframe\">\n",
       "  <thead>\n",
       "    <tr style=\"text-align: right;\">\n",
       "      <th></th>\n",
       "      <th>duration</th>\n",
       "      <th>user_id</th>\n",
       "    </tr>\n",
       "  </thead>\n",
       "  <tbody>\n",
       "    <tr>\n",
       "      <td>count</td>\n",
       "      <td>202607.000000</td>\n",
       "      <td>202607.000000</td>\n",
       "    </tr>\n",
       "    <tr>\n",
       "      <td>mean</td>\n",
       "      <td>6.755887</td>\n",
       "      <td>1253.940619</td>\n",
       "    </tr>\n",
       "    <tr>\n",
       "      <td>std</td>\n",
       "      <td>5.843365</td>\n",
       "      <td>144.722751</td>\n",
       "    </tr>\n",
       "    <tr>\n",
       "      <td>min</td>\n",
       "      <td>0.000000</td>\n",
       "      <td>1000.000000</td>\n",
       "    </tr>\n",
       "    <tr>\n",
       "      <td>25%</td>\n",
       "      <td>1.300000</td>\n",
       "      <td>1126.000000</td>\n",
       "    </tr>\n",
       "    <tr>\n",
       "      <td>50%</td>\n",
       "      <td>6.000000</td>\n",
       "      <td>1260.000000</td>\n",
       "    </tr>\n",
       "    <tr>\n",
       "      <td>75%</td>\n",
       "      <td>10.700000</td>\n",
       "      <td>1379.000000</td>\n",
       "    </tr>\n",
       "    <tr>\n",
       "      <td>max</td>\n",
       "      <td>38.000000</td>\n",
       "      <td>1499.000000</td>\n",
       "    </tr>\n",
       "  </tbody>\n",
       "</table>\n",
       "</div>"
      ],
      "text/plain": [
       "            duration        user_id\n",
       "count  202607.000000  202607.000000\n",
       "mean        6.755887    1253.940619\n",
       "std         5.843365     144.722751\n",
       "min         0.000000    1000.000000\n",
       "25%         1.300000    1126.000000\n",
       "50%         6.000000    1260.000000\n",
       "75%        10.700000    1379.000000\n",
       "max        38.000000    1499.000000"
      ]
     },
     "metadata": {},
     "output_type": "display_data"
    },
    {
     "data": {
      "text/html": [
       "<div>\n",
       "<style scoped>\n",
       "    .dataframe tbody tr th:only-of-type {\n",
       "        vertical-align: middle;\n",
       "    }\n",
       "\n",
       "    .dataframe tbody tr th {\n",
       "        vertical-align: top;\n",
       "    }\n",
       "\n",
       "    .dataframe thead th {\n",
       "        text-align: right;\n",
       "    }\n",
       "</style>\n",
       "<table border=\"1\" class=\"dataframe\">\n",
       "  <thead>\n",
       "    <tr style=\"text-align: right;\">\n",
       "      <th></th>\n",
       "      <th>id</th>\n",
       "      <th>call_date</th>\n",
       "      <th>duration</th>\n",
       "      <th>user_id</th>\n",
       "    </tr>\n",
       "  </thead>\n",
       "  <tbody>\n",
       "    <tr>\n",
       "      <td>0</td>\n",
       "      <td>1000_0</td>\n",
       "      <td>2018-07-25</td>\n",
       "      <td>0.00</td>\n",
       "      <td>1000</td>\n",
       "    </tr>\n",
       "    <tr>\n",
       "      <td>1</td>\n",
       "      <td>1000_1</td>\n",
       "      <td>2018-08-17</td>\n",
       "      <td>0.00</td>\n",
       "      <td>1000</td>\n",
       "    </tr>\n",
       "    <tr>\n",
       "      <td>2</td>\n",
       "      <td>1000_2</td>\n",
       "      <td>2018-06-11</td>\n",
       "      <td>2.85</td>\n",
       "      <td>1000</td>\n",
       "    </tr>\n",
       "    <tr>\n",
       "      <td>3</td>\n",
       "      <td>1000_3</td>\n",
       "      <td>2018-09-21</td>\n",
       "      <td>13.80</td>\n",
       "      <td>1000</td>\n",
       "    </tr>\n",
       "    <tr>\n",
       "      <td>4</td>\n",
       "      <td>1000_4</td>\n",
       "      <td>2018-12-15</td>\n",
       "      <td>5.18</td>\n",
       "      <td>1000</td>\n",
       "    </tr>\n",
       "  </tbody>\n",
       "</table>\n",
       "</div>"
      ],
      "text/plain": [
       "       id   call_date  duration  user_id\n",
       "0  1000_0  2018-07-25      0.00     1000\n",
       "1  1000_1  2018-08-17      0.00     1000\n",
       "2  1000_2  2018-06-11      2.85     1000\n",
       "3  1000_3  2018-09-21     13.80     1000\n",
       "4  1000_4  2018-12-15      5.18     1000"
      ]
     },
     "metadata": {},
     "output_type": "display_data"
    },
    {
     "name": "stdout",
     "output_type": "stream",
     "text": [
      "\n",
      "интернет\n",
      "\n",
      "<class 'pandas.core.frame.DataFrame'>\n",
      "RangeIndex: 149396 entries, 0 to 149395\n",
      "Data columns (total 5 columns):\n",
      "Unnamed: 0      149396 non-null int64\n",
      "id              149396 non-null object\n",
      "mb_used         149396 non-null float64\n",
      "session_date    149396 non-null object\n",
      "user_id         149396 non-null int64\n",
      "dtypes: float64(1), int64(2), object(2)\n",
      "memory usage: 5.7+ MB\n"
     ]
    },
    {
     "data": {
      "text/plain": [
       "None"
      ]
     },
     "metadata": {},
     "output_type": "display_data"
    },
    {
     "data": {
      "text/html": [
       "<div>\n",
       "<style scoped>\n",
       "    .dataframe tbody tr th:only-of-type {\n",
       "        vertical-align: middle;\n",
       "    }\n",
       "\n",
       "    .dataframe tbody tr th {\n",
       "        vertical-align: top;\n",
       "    }\n",
       "\n",
       "    .dataframe thead th {\n",
       "        text-align: right;\n",
       "    }\n",
       "</style>\n",
       "<table border=\"1\" class=\"dataframe\">\n",
       "  <thead>\n",
       "    <tr style=\"text-align: right;\">\n",
       "      <th></th>\n",
       "      <th>Unnamed: 0</th>\n",
       "      <th>mb_used</th>\n",
       "      <th>user_id</th>\n",
       "    </tr>\n",
       "  </thead>\n",
       "  <tbody>\n",
       "    <tr>\n",
       "      <td>count</td>\n",
       "      <td>149396.000000</td>\n",
       "      <td>149396.000000</td>\n",
       "      <td>149396.000000</td>\n",
       "    </tr>\n",
       "    <tr>\n",
       "      <td>mean</td>\n",
       "      <td>74697.500000</td>\n",
       "      <td>370.192426</td>\n",
       "      <td>1252.099842</td>\n",
       "    </tr>\n",
       "    <tr>\n",
       "      <td>std</td>\n",
       "      <td>43127.054745</td>\n",
       "      <td>278.300951</td>\n",
       "      <td>144.050823</td>\n",
       "    </tr>\n",
       "    <tr>\n",
       "      <td>min</td>\n",
       "      <td>0.000000</td>\n",
       "      <td>0.000000</td>\n",
       "      <td>1000.000000</td>\n",
       "    </tr>\n",
       "    <tr>\n",
       "      <td>25%</td>\n",
       "      <td>37348.750000</td>\n",
       "      <td>138.187500</td>\n",
       "      <td>1130.000000</td>\n",
       "    </tr>\n",
       "    <tr>\n",
       "      <td>50%</td>\n",
       "      <td>74697.500000</td>\n",
       "      <td>348.015000</td>\n",
       "      <td>1251.000000</td>\n",
       "    </tr>\n",
       "    <tr>\n",
       "      <td>75%</td>\n",
       "      <td>112046.250000</td>\n",
       "      <td>559.552500</td>\n",
       "      <td>1380.000000</td>\n",
       "    </tr>\n",
       "    <tr>\n",
       "      <td>max</td>\n",
       "      <td>149395.000000</td>\n",
       "      <td>1724.830000</td>\n",
       "      <td>1499.000000</td>\n",
       "    </tr>\n",
       "  </tbody>\n",
       "</table>\n",
       "</div>"
      ],
      "text/plain": [
       "          Unnamed: 0        mb_used        user_id\n",
       "count  149396.000000  149396.000000  149396.000000\n",
       "mean    74697.500000     370.192426    1252.099842\n",
       "std     43127.054745     278.300951     144.050823\n",
       "min         0.000000       0.000000    1000.000000\n",
       "25%     37348.750000     138.187500    1130.000000\n",
       "50%     74697.500000     348.015000    1251.000000\n",
       "75%    112046.250000     559.552500    1380.000000\n",
       "max    149395.000000    1724.830000    1499.000000"
      ]
     },
     "metadata": {},
     "output_type": "display_data"
    },
    {
     "data": {
      "text/html": [
       "<div>\n",
       "<style scoped>\n",
       "    .dataframe tbody tr th:only-of-type {\n",
       "        vertical-align: middle;\n",
       "    }\n",
       "\n",
       "    .dataframe tbody tr th {\n",
       "        vertical-align: top;\n",
       "    }\n",
       "\n",
       "    .dataframe thead th {\n",
       "        text-align: right;\n",
       "    }\n",
       "</style>\n",
       "<table border=\"1\" class=\"dataframe\">\n",
       "  <thead>\n",
       "    <tr style=\"text-align: right;\">\n",
       "      <th></th>\n",
       "      <th>Unnamed: 0</th>\n",
       "      <th>id</th>\n",
       "      <th>mb_used</th>\n",
       "      <th>session_date</th>\n",
       "      <th>user_id</th>\n",
       "    </tr>\n",
       "  </thead>\n",
       "  <tbody>\n",
       "    <tr>\n",
       "      <td>0</td>\n",
       "      <td>0</td>\n",
       "      <td>1000_0</td>\n",
       "      <td>112.95</td>\n",
       "      <td>2018-11-25</td>\n",
       "      <td>1000</td>\n",
       "    </tr>\n",
       "    <tr>\n",
       "      <td>1</td>\n",
       "      <td>1</td>\n",
       "      <td>1000_1</td>\n",
       "      <td>1052.81</td>\n",
       "      <td>2018-09-07</td>\n",
       "      <td>1000</td>\n",
       "    </tr>\n",
       "    <tr>\n",
       "      <td>2</td>\n",
       "      <td>2</td>\n",
       "      <td>1000_2</td>\n",
       "      <td>1197.26</td>\n",
       "      <td>2018-06-25</td>\n",
       "      <td>1000</td>\n",
       "    </tr>\n",
       "    <tr>\n",
       "      <td>3</td>\n",
       "      <td>3</td>\n",
       "      <td>1000_3</td>\n",
       "      <td>550.27</td>\n",
       "      <td>2018-08-22</td>\n",
       "      <td>1000</td>\n",
       "    </tr>\n",
       "    <tr>\n",
       "      <td>4</td>\n",
       "      <td>4</td>\n",
       "      <td>1000_4</td>\n",
       "      <td>302.56</td>\n",
       "      <td>2018-09-24</td>\n",
       "      <td>1000</td>\n",
       "    </tr>\n",
       "  </tbody>\n",
       "</table>\n",
       "</div>"
      ],
      "text/plain": [
       "   Unnamed: 0      id  mb_used session_date  user_id\n",
       "0           0  1000_0   112.95   2018-11-25     1000\n",
       "1           1  1000_1  1052.81   2018-09-07     1000\n",
       "2           2  1000_2  1197.26   2018-06-25     1000\n",
       "3           3  1000_3   550.27   2018-08-22     1000\n",
       "4           4  1000_4   302.56   2018-09-24     1000"
      ]
     },
     "metadata": {},
     "output_type": "display_data"
    },
    {
     "name": "stdout",
     "output_type": "stream",
     "text": [
      "\n",
      "сообщения\n",
      "\n",
      "<class 'pandas.core.frame.DataFrame'>\n",
      "RangeIndex: 123036 entries, 0 to 123035\n",
      "Data columns (total 3 columns):\n",
      "id              123036 non-null object\n",
      "message_date    123036 non-null object\n",
      "user_id         123036 non-null int64\n",
      "dtypes: int64(1), object(2)\n",
      "memory usage: 2.8+ MB\n"
     ]
    },
    {
     "data": {
      "text/plain": [
       "None"
      ]
     },
     "metadata": {},
     "output_type": "display_data"
    },
    {
     "data": {
      "text/html": [
       "<div>\n",
       "<style scoped>\n",
       "    .dataframe tbody tr th:only-of-type {\n",
       "        vertical-align: middle;\n",
       "    }\n",
       "\n",
       "    .dataframe tbody tr th {\n",
       "        vertical-align: top;\n",
       "    }\n",
       "\n",
       "    .dataframe thead th {\n",
       "        text-align: right;\n",
       "    }\n",
       "</style>\n",
       "<table border=\"1\" class=\"dataframe\">\n",
       "  <thead>\n",
       "    <tr style=\"text-align: right;\">\n",
       "      <th></th>\n",
       "      <th>user_id</th>\n",
       "    </tr>\n",
       "  </thead>\n",
       "  <tbody>\n",
       "    <tr>\n",
       "      <td>count</td>\n",
       "      <td>123036.000000</td>\n",
       "    </tr>\n",
       "    <tr>\n",
       "      <td>mean</td>\n",
       "      <td>1256.989410</td>\n",
       "    </tr>\n",
       "    <tr>\n",
       "      <td>std</td>\n",
       "      <td>143.523967</td>\n",
       "    </tr>\n",
       "    <tr>\n",
       "      <td>min</td>\n",
       "      <td>1000.000000</td>\n",
       "    </tr>\n",
       "    <tr>\n",
       "      <td>25%</td>\n",
       "      <td>1134.000000</td>\n",
       "    </tr>\n",
       "    <tr>\n",
       "      <td>50%</td>\n",
       "      <td>1271.000000</td>\n",
       "    </tr>\n",
       "    <tr>\n",
       "      <td>75%</td>\n",
       "      <td>1381.000000</td>\n",
       "    </tr>\n",
       "    <tr>\n",
       "      <td>max</td>\n",
       "      <td>1499.000000</td>\n",
       "    </tr>\n",
       "  </tbody>\n",
       "</table>\n",
       "</div>"
      ],
      "text/plain": [
       "             user_id\n",
       "count  123036.000000\n",
       "mean     1256.989410\n",
       "std       143.523967\n",
       "min      1000.000000\n",
       "25%      1134.000000\n",
       "50%      1271.000000\n",
       "75%      1381.000000\n",
       "max      1499.000000"
      ]
     },
     "metadata": {},
     "output_type": "display_data"
    },
    {
     "data": {
      "text/html": [
       "<div>\n",
       "<style scoped>\n",
       "    .dataframe tbody tr th:only-of-type {\n",
       "        vertical-align: middle;\n",
       "    }\n",
       "\n",
       "    .dataframe tbody tr th {\n",
       "        vertical-align: top;\n",
       "    }\n",
       "\n",
       "    .dataframe thead th {\n",
       "        text-align: right;\n",
       "    }\n",
       "</style>\n",
       "<table border=\"1\" class=\"dataframe\">\n",
       "  <thead>\n",
       "    <tr style=\"text-align: right;\">\n",
       "      <th></th>\n",
       "      <th>id</th>\n",
       "      <th>message_date</th>\n",
       "      <th>user_id</th>\n",
       "    </tr>\n",
       "  </thead>\n",
       "  <tbody>\n",
       "    <tr>\n",
       "      <td>0</td>\n",
       "      <td>1000_0</td>\n",
       "      <td>2018-06-27</td>\n",
       "      <td>1000</td>\n",
       "    </tr>\n",
       "    <tr>\n",
       "      <td>1</td>\n",
       "      <td>1000_1</td>\n",
       "      <td>2018-10-08</td>\n",
       "      <td>1000</td>\n",
       "    </tr>\n",
       "    <tr>\n",
       "      <td>2</td>\n",
       "      <td>1000_2</td>\n",
       "      <td>2018-08-04</td>\n",
       "      <td>1000</td>\n",
       "    </tr>\n",
       "    <tr>\n",
       "      <td>3</td>\n",
       "      <td>1000_3</td>\n",
       "      <td>2018-06-16</td>\n",
       "      <td>1000</td>\n",
       "    </tr>\n",
       "    <tr>\n",
       "      <td>4</td>\n",
       "      <td>1000_4</td>\n",
       "      <td>2018-12-05</td>\n",
       "      <td>1000</td>\n",
       "    </tr>\n",
       "  </tbody>\n",
       "</table>\n",
       "</div>"
      ],
      "text/plain": [
       "       id message_date  user_id\n",
       "0  1000_0   2018-06-27     1000\n",
       "1  1000_1   2018-10-08     1000\n",
       "2  1000_2   2018-08-04     1000\n",
       "3  1000_3   2018-06-16     1000\n",
       "4  1000_4   2018-12-05     1000"
      ]
     },
     "metadata": {},
     "output_type": "display_data"
    },
    {
     "name": "stdout",
     "output_type": "stream",
     "text": [
      "\n",
      "тарифы\n",
      "\n",
      "<class 'pandas.core.frame.DataFrame'>\n",
      "RangeIndex: 2 entries, 0 to 1\n",
      "Data columns (total 8 columns):\n",
      "messages_included        2 non-null int64\n",
      "mb_per_month_included    2 non-null int64\n",
      "minutes_included         2 non-null int64\n",
      "rub_monthly_fee          2 non-null int64\n",
      "rub_per_gb               2 non-null int64\n",
      "rub_per_message          2 non-null int64\n",
      "rub_per_minute           2 non-null int64\n",
      "tariff_name              2 non-null object\n",
      "dtypes: int64(7), object(1)\n",
      "memory usage: 256.0+ bytes\n"
     ]
    },
    {
     "data": {
      "text/plain": [
       "None"
      ]
     },
     "metadata": {},
     "output_type": "display_data"
    },
    {
     "data": {
      "text/html": [
       "<div>\n",
       "<style scoped>\n",
       "    .dataframe tbody tr th:only-of-type {\n",
       "        vertical-align: middle;\n",
       "    }\n",
       "\n",
       "    .dataframe tbody tr th {\n",
       "        vertical-align: top;\n",
       "    }\n",
       "\n",
       "    .dataframe thead th {\n",
       "        text-align: right;\n",
       "    }\n",
       "</style>\n",
       "<table border=\"1\" class=\"dataframe\">\n",
       "  <thead>\n",
       "    <tr style=\"text-align: right;\">\n",
       "      <th></th>\n",
       "      <th>messages_included</th>\n",
       "      <th>mb_per_month_included</th>\n",
       "      <th>minutes_included</th>\n",
       "      <th>rub_monthly_fee</th>\n",
       "      <th>rub_per_gb</th>\n",
       "      <th>rub_per_message</th>\n",
       "      <th>rub_per_minute</th>\n",
       "    </tr>\n",
       "  </thead>\n",
       "  <tbody>\n",
       "    <tr>\n",
       "      <td>count</td>\n",
       "      <td>2.000000</td>\n",
       "      <td>2.000000</td>\n",
       "      <td>2.000000</td>\n",
       "      <td>2.000000</td>\n",
       "      <td>2.000000</td>\n",
       "      <td>2.000000</td>\n",
       "      <td>2.000000</td>\n",
       "    </tr>\n",
       "    <tr>\n",
       "      <td>mean</td>\n",
       "      <td>525.000000</td>\n",
       "      <td>23040.000000</td>\n",
       "      <td>1750.000000</td>\n",
       "      <td>1250.000000</td>\n",
       "      <td>175.000000</td>\n",
       "      <td>2.000000</td>\n",
       "      <td>2.000000</td>\n",
       "    </tr>\n",
       "    <tr>\n",
       "      <td>std</td>\n",
       "      <td>671.751442</td>\n",
       "      <td>10861.160159</td>\n",
       "      <td>1767.766953</td>\n",
       "      <td>989.949494</td>\n",
       "      <td>35.355339</td>\n",
       "      <td>1.414214</td>\n",
       "      <td>1.414214</td>\n",
       "    </tr>\n",
       "    <tr>\n",
       "      <td>min</td>\n",
       "      <td>50.000000</td>\n",
       "      <td>15360.000000</td>\n",
       "      <td>500.000000</td>\n",
       "      <td>550.000000</td>\n",
       "      <td>150.000000</td>\n",
       "      <td>1.000000</td>\n",
       "      <td>1.000000</td>\n",
       "    </tr>\n",
       "    <tr>\n",
       "      <td>25%</td>\n",
       "      <td>287.500000</td>\n",
       "      <td>19200.000000</td>\n",
       "      <td>1125.000000</td>\n",
       "      <td>900.000000</td>\n",
       "      <td>162.500000</td>\n",
       "      <td>1.500000</td>\n",
       "      <td>1.500000</td>\n",
       "    </tr>\n",
       "    <tr>\n",
       "      <td>50%</td>\n",
       "      <td>525.000000</td>\n",
       "      <td>23040.000000</td>\n",
       "      <td>1750.000000</td>\n",
       "      <td>1250.000000</td>\n",
       "      <td>175.000000</td>\n",
       "      <td>2.000000</td>\n",
       "      <td>2.000000</td>\n",
       "    </tr>\n",
       "    <tr>\n",
       "      <td>75%</td>\n",
       "      <td>762.500000</td>\n",
       "      <td>26880.000000</td>\n",
       "      <td>2375.000000</td>\n",
       "      <td>1600.000000</td>\n",
       "      <td>187.500000</td>\n",
       "      <td>2.500000</td>\n",
       "      <td>2.500000</td>\n",
       "    </tr>\n",
       "    <tr>\n",
       "      <td>max</td>\n",
       "      <td>1000.000000</td>\n",
       "      <td>30720.000000</td>\n",
       "      <td>3000.000000</td>\n",
       "      <td>1950.000000</td>\n",
       "      <td>200.000000</td>\n",
       "      <td>3.000000</td>\n",
       "      <td>3.000000</td>\n",
       "    </tr>\n",
       "  </tbody>\n",
       "</table>\n",
       "</div>"
      ],
      "text/plain": [
       "       messages_included  mb_per_month_included  minutes_included  \\\n",
       "count           2.000000               2.000000          2.000000   \n",
       "mean          525.000000           23040.000000       1750.000000   \n",
       "std           671.751442           10861.160159       1767.766953   \n",
       "min            50.000000           15360.000000        500.000000   \n",
       "25%           287.500000           19200.000000       1125.000000   \n",
       "50%           525.000000           23040.000000       1750.000000   \n",
       "75%           762.500000           26880.000000       2375.000000   \n",
       "max          1000.000000           30720.000000       3000.000000   \n",
       "\n",
       "       rub_monthly_fee  rub_per_gb  rub_per_message  rub_per_minute  \n",
       "count         2.000000    2.000000         2.000000        2.000000  \n",
       "mean       1250.000000  175.000000         2.000000        2.000000  \n",
       "std         989.949494   35.355339         1.414214        1.414214  \n",
       "min         550.000000  150.000000         1.000000        1.000000  \n",
       "25%         900.000000  162.500000         1.500000        1.500000  \n",
       "50%        1250.000000  175.000000         2.000000        2.000000  \n",
       "75%        1600.000000  187.500000         2.500000        2.500000  \n",
       "max        1950.000000  200.000000         3.000000        3.000000  "
      ]
     },
     "metadata": {},
     "output_type": "display_data"
    },
    {
     "data": {
      "text/html": [
       "<div>\n",
       "<style scoped>\n",
       "    .dataframe tbody tr th:only-of-type {\n",
       "        vertical-align: middle;\n",
       "    }\n",
       "\n",
       "    .dataframe tbody tr th {\n",
       "        vertical-align: top;\n",
       "    }\n",
       "\n",
       "    .dataframe thead th {\n",
       "        text-align: right;\n",
       "    }\n",
       "</style>\n",
       "<table border=\"1\" class=\"dataframe\">\n",
       "  <thead>\n",
       "    <tr style=\"text-align: right;\">\n",
       "      <th></th>\n",
       "      <th>messages_included</th>\n",
       "      <th>mb_per_month_included</th>\n",
       "      <th>minutes_included</th>\n",
       "      <th>rub_monthly_fee</th>\n",
       "      <th>rub_per_gb</th>\n",
       "      <th>rub_per_message</th>\n",
       "      <th>rub_per_minute</th>\n",
       "      <th>tariff_name</th>\n",
       "    </tr>\n",
       "  </thead>\n",
       "  <tbody>\n",
       "    <tr>\n",
       "      <td>0</td>\n",
       "      <td>50</td>\n",
       "      <td>15360</td>\n",
       "      <td>500</td>\n",
       "      <td>550</td>\n",
       "      <td>200</td>\n",
       "      <td>3</td>\n",
       "      <td>3</td>\n",
       "      <td>smart</td>\n",
       "    </tr>\n",
       "    <tr>\n",
       "      <td>1</td>\n",
       "      <td>1000</td>\n",
       "      <td>30720</td>\n",
       "      <td>3000</td>\n",
       "      <td>1950</td>\n",
       "      <td>150</td>\n",
       "      <td>1</td>\n",
       "      <td>1</td>\n",
       "      <td>ultra</td>\n",
       "    </tr>\n",
       "  </tbody>\n",
       "</table>\n",
       "</div>"
      ],
      "text/plain": [
       "   messages_included  mb_per_month_included  minutes_included  \\\n",
       "0                 50                  15360               500   \n",
       "1               1000                  30720              3000   \n",
       "\n",
       "   rub_monthly_fee  rub_per_gb  rub_per_message  rub_per_minute tariff_name  \n",
       "0              550         200                3               3       smart  \n",
       "1             1950         150                1               1       ultra  "
      ]
     },
     "metadata": {},
     "output_type": "display_data"
    },
    {
     "name": "stdout",
     "output_type": "stream",
     "text": [
      "\n",
      "пользователи\n",
      "\n",
      "<class 'pandas.core.frame.DataFrame'>\n",
      "RangeIndex: 500 entries, 0 to 499\n",
      "Data columns (total 8 columns):\n",
      "user_id       500 non-null int64\n",
      "age           500 non-null int64\n",
      "churn_date    38 non-null object\n",
      "city          500 non-null object\n",
      "first_name    500 non-null object\n",
      "last_name     500 non-null object\n",
      "reg_date      500 non-null object\n",
      "tariff        500 non-null object\n",
      "dtypes: int64(2), object(6)\n",
      "memory usage: 31.4+ KB\n"
     ]
    },
    {
     "data": {
      "text/plain": [
       "None"
      ]
     },
     "metadata": {},
     "output_type": "display_data"
    },
    {
     "data": {
      "text/html": [
       "<div>\n",
       "<style scoped>\n",
       "    .dataframe tbody tr th:only-of-type {\n",
       "        vertical-align: middle;\n",
       "    }\n",
       "\n",
       "    .dataframe tbody tr th {\n",
       "        vertical-align: top;\n",
       "    }\n",
       "\n",
       "    .dataframe thead th {\n",
       "        text-align: right;\n",
       "    }\n",
       "</style>\n",
       "<table border=\"1\" class=\"dataframe\">\n",
       "  <thead>\n",
       "    <tr style=\"text-align: right;\">\n",
       "      <th></th>\n",
       "      <th>user_id</th>\n",
       "      <th>age</th>\n",
       "    </tr>\n",
       "  </thead>\n",
       "  <tbody>\n",
       "    <tr>\n",
       "      <td>count</td>\n",
       "      <td>500.000000</td>\n",
       "      <td>500.00000</td>\n",
       "    </tr>\n",
       "    <tr>\n",
       "      <td>mean</td>\n",
       "      <td>1249.500000</td>\n",
       "      <td>46.58800</td>\n",
       "    </tr>\n",
       "    <tr>\n",
       "      <td>std</td>\n",
       "      <td>144.481833</td>\n",
       "      <td>16.66763</td>\n",
       "    </tr>\n",
       "    <tr>\n",
       "      <td>min</td>\n",
       "      <td>1000.000000</td>\n",
       "      <td>18.00000</td>\n",
       "    </tr>\n",
       "    <tr>\n",
       "      <td>25%</td>\n",
       "      <td>1124.750000</td>\n",
       "      <td>32.00000</td>\n",
       "    </tr>\n",
       "    <tr>\n",
       "      <td>50%</td>\n",
       "      <td>1249.500000</td>\n",
       "      <td>46.00000</td>\n",
       "    </tr>\n",
       "    <tr>\n",
       "      <td>75%</td>\n",
       "      <td>1374.250000</td>\n",
       "      <td>62.00000</td>\n",
       "    </tr>\n",
       "    <tr>\n",
       "      <td>max</td>\n",
       "      <td>1499.000000</td>\n",
       "      <td>75.00000</td>\n",
       "    </tr>\n",
       "  </tbody>\n",
       "</table>\n",
       "</div>"
      ],
      "text/plain": [
       "           user_id        age\n",
       "count   500.000000  500.00000\n",
       "mean   1249.500000   46.58800\n",
       "std     144.481833   16.66763\n",
       "min    1000.000000   18.00000\n",
       "25%    1124.750000   32.00000\n",
       "50%    1249.500000   46.00000\n",
       "75%    1374.250000   62.00000\n",
       "max    1499.000000   75.00000"
      ]
     },
     "metadata": {},
     "output_type": "display_data"
    },
    {
     "data": {
      "text/html": [
       "<div>\n",
       "<style scoped>\n",
       "    .dataframe tbody tr th:only-of-type {\n",
       "        vertical-align: middle;\n",
       "    }\n",
       "\n",
       "    .dataframe tbody tr th {\n",
       "        vertical-align: top;\n",
       "    }\n",
       "\n",
       "    .dataframe thead th {\n",
       "        text-align: right;\n",
       "    }\n",
       "</style>\n",
       "<table border=\"1\" class=\"dataframe\">\n",
       "  <thead>\n",
       "    <tr style=\"text-align: right;\">\n",
       "      <th></th>\n",
       "      <th>user_id</th>\n",
       "      <th>age</th>\n",
       "      <th>churn_date</th>\n",
       "      <th>city</th>\n",
       "      <th>first_name</th>\n",
       "      <th>last_name</th>\n",
       "      <th>reg_date</th>\n",
       "      <th>tariff</th>\n",
       "    </tr>\n",
       "  </thead>\n",
       "  <tbody>\n",
       "    <tr>\n",
       "      <td>0</td>\n",
       "      <td>1000</td>\n",
       "      <td>52</td>\n",
       "      <td>NaN</td>\n",
       "      <td>Краснодар</td>\n",
       "      <td>Рафаил</td>\n",
       "      <td>Верещагин</td>\n",
       "      <td>2018-05-25</td>\n",
       "      <td>ultra</td>\n",
       "    </tr>\n",
       "    <tr>\n",
       "      <td>1</td>\n",
       "      <td>1001</td>\n",
       "      <td>41</td>\n",
       "      <td>NaN</td>\n",
       "      <td>Москва</td>\n",
       "      <td>Иван</td>\n",
       "      <td>Ежов</td>\n",
       "      <td>2018-11-01</td>\n",
       "      <td>smart</td>\n",
       "    </tr>\n",
       "    <tr>\n",
       "      <td>2</td>\n",
       "      <td>1002</td>\n",
       "      <td>59</td>\n",
       "      <td>NaN</td>\n",
       "      <td>Стерлитамак</td>\n",
       "      <td>Евгений</td>\n",
       "      <td>Абрамович</td>\n",
       "      <td>2018-06-17</td>\n",
       "      <td>smart</td>\n",
       "    </tr>\n",
       "    <tr>\n",
       "      <td>3</td>\n",
       "      <td>1003</td>\n",
       "      <td>23</td>\n",
       "      <td>NaN</td>\n",
       "      <td>Москва</td>\n",
       "      <td>Белла</td>\n",
       "      <td>Белякова</td>\n",
       "      <td>2018-08-17</td>\n",
       "      <td>ultra</td>\n",
       "    </tr>\n",
       "    <tr>\n",
       "      <td>4</td>\n",
       "      <td>1004</td>\n",
       "      <td>68</td>\n",
       "      <td>NaN</td>\n",
       "      <td>Новокузнецк</td>\n",
       "      <td>Татьяна</td>\n",
       "      <td>Авдеенко</td>\n",
       "      <td>2018-05-14</td>\n",
       "      <td>ultra</td>\n",
       "    </tr>\n",
       "  </tbody>\n",
       "</table>\n",
       "</div>"
      ],
      "text/plain": [
       "   user_id  age churn_date         city first_name  last_name    reg_date  \\\n",
       "0     1000   52        NaN    Краснодар     Рафаил  Верещагин  2018-05-25   \n",
       "1     1001   41        NaN       Москва       Иван       Ежов  2018-11-01   \n",
       "2     1002   59        NaN  Стерлитамак    Евгений  Абрамович  2018-06-17   \n",
       "3     1003   23        NaN       Москва      Белла   Белякова  2018-08-17   \n",
       "4     1004   68        NaN  Новокузнецк    Татьяна   Авдеенко  2018-05-14   \n",
       "\n",
       "  tariff  \n",
       "0  ultra  \n",
       "1  smart  \n",
       "2  smart  \n",
       "3  ultra  \n",
       "4  ultra  "
      ]
     },
     "metadata": {},
     "output_type": "display_data"
    },
    {
     "name": "stdout",
     "output_type": "stream",
     "text": [
      "\n"
     ]
    }
   ],
   "source": [
    "data_all = [data_calls, data_internet, data_messages, data_tariffs, data_users]\n",
    "names = ['звонки', 'интернет', 'сообщения', 'тарифы', 'пользователи']\n",
    "for i in range(len(data_all)):\n",
    "    print(names[i])\n",
    "    print('')\n",
    "    display(data_all[i].info())\n",
    "    display(data_all[i].describe())\n",
    "    display(data_all[i].head())\n",
    "    print('')"
   ]
  },
  {
   "cell_type": "markdown",
   "metadata": {},
   "source": [
    "Пропусков нет, кроме таблицы с пользователями. Нет необходимости их заполнять, так как пропуск в данном случае означает, что указанный тариф еще действует. Во всех таблицах необходимо поменять формат записи дат и изменить float на int. В таблице интернет-сессий есть непонятный столбец **'Unnamed: 0'** который не несет никакой важной для исследования информации, поэтому можем от него изабавиться."
   ]
  },
  {
   "cell_type": "markdown",
   "metadata": {},
   "source": [
    "## Подготовка данных"
   ]
  },
  {
   "cell_type": "markdown",
   "metadata": {},
   "source": [
    "### Приведем данные к нужным типам"
   ]
  },
  {
   "cell_type": "markdown",
   "metadata": {},
   "source": [
    "**Таблица звонков:**"
   ]
  },
  {
   "cell_type": "code",
   "execution_count": 129,
   "metadata": {
    "scrolled": true
   },
   "outputs": [
    {
     "data": {
      "text/html": [
       "<div>\n",
       "<style scoped>\n",
       "    .dataframe tbody tr th:only-of-type {\n",
       "        vertical-align: middle;\n",
       "    }\n",
       "\n",
       "    .dataframe tbody tr th {\n",
       "        vertical-align: top;\n",
       "    }\n",
       "\n",
       "    .dataframe thead th {\n",
       "        text-align: right;\n",
       "    }\n",
       "</style>\n",
       "<table border=\"1\" class=\"dataframe\">\n",
       "  <thead>\n",
       "    <tr style=\"text-align: right;\">\n",
       "      <th></th>\n",
       "      <th>id</th>\n",
       "      <th>call_date</th>\n",
       "      <th>duration</th>\n",
       "      <th>user_id</th>\n",
       "    </tr>\n",
       "  </thead>\n",
       "  <tbody>\n",
       "    <tr>\n",
       "      <td>0</td>\n",
       "      <td>1000_0</td>\n",
       "      <td>2018-07-25</td>\n",
       "      <td>0</td>\n",
       "      <td>1000</td>\n",
       "    </tr>\n",
       "    <tr>\n",
       "      <td>1</td>\n",
       "      <td>1000_1</td>\n",
       "      <td>2018-08-17</td>\n",
       "      <td>0</td>\n",
       "      <td>1000</td>\n",
       "    </tr>\n",
       "    <tr>\n",
       "      <td>2</td>\n",
       "      <td>1000_2</td>\n",
       "      <td>2018-06-11</td>\n",
       "      <td>3</td>\n",
       "      <td>1000</td>\n",
       "    </tr>\n",
       "    <tr>\n",
       "      <td>3</td>\n",
       "      <td>1000_3</td>\n",
       "      <td>2018-09-21</td>\n",
       "      <td>14</td>\n",
       "      <td>1000</td>\n",
       "    </tr>\n",
       "    <tr>\n",
       "      <td>4</td>\n",
       "      <td>1000_4</td>\n",
       "      <td>2018-12-15</td>\n",
       "      <td>6</td>\n",
       "      <td>1000</td>\n",
       "    </tr>\n",
       "  </tbody>\n",
       "</table>\n",
       "</div>"
      ],
      "text/plain": [
       "       id  call_date  duration  user_id\n",
       "0  1000_0 2018-07-25         0     1000\n",
       "1  1000_1 2018-08-17         0     1000\n",
       "2  1000_2 2018-06-11         3     1000\n",
       "3  1000_3 2018-09-21        14     1000\n",
       "4  1000_4 2018-12-15         6     1000"
      ]
     },
     "metadata": {},
     "output_type": "display_data"
    }
   ],
   "source": [
    "#меняем формат на datetime:\n",
    "data_calls['call_date'] = pd.to_datetime(data_calls['call_date'], format=\"%Y-%m-%d\")\n",
    "#округляем длительность звонков вверх, как делает \"Мегалайн\", и меняем тип данных на целочисленный:\n",
    "data_calls['duration'] = data_calls['duration'].apply(np.ceil).astype('int')\n",
    "display(data_calls.head())"
   ]
  },
  {
   "cell_type": "code",
   "execution_count": 130,
   "metadata": {
    "scrolled": false
   },
   "outputs": [
    {
     "data": {
      "text/html": [
       "<div>\n",
       "<style scoped>\n",
       "    .dataframe tbody tr th:only-of-type {\n",
       "        vertical-align: middle;\n",
       "    }\n",
       "\n",
       "    .dataframe tbody tr th {\n",
       "        vertical-align: top;\n",
       "    }\n",
       "\n",
       "    .dataframe thead th {\n",
       "        text-align: right;\n",
       "    }\n",
       "</style>\n",
       "<table border=\"1\" class=\"dataframe\">\n",
       "  <thead>\n",
       "    <tr style=\"text-align: right;\">\n",
       "      <th></th>\n",
       "      <th>id</th>\n",
       "      <th>call_date</th>\n",
       "      <th>duration</th>\n",
       "      <th>user_id</th>\n",
       "    </tr>\n",
       "  </thead>\n",
       "  <tbody>\n",
       "    <tr>\n",
       "      <td>0</td>\n",
       "      <td>1000_0</td>\n",
       "      <td>2018-07-25</td>\n",
       "      <td>0</td>\n",
       "      <td>1000</td>\n",
       "    </tr>\n",
       "    <tr>\n",
       "      <td>1</td>\n",
       "      <td>1000_1</td>\n",
       "      <td>2018-08-17</td>\n",
       "      <td>0</td>\n",
       "      <td>1000</td>\n",
       "    </tr>\n",
       "    <tr>\n",
       "      <td>5</td>\n",
       "      <td>1000_5</td>\n",
       "      <td>2018-11-02</td>\n",
       "      <td>0</td>\n",
       "      <td>1000</td>\n",
       "    </tr>\n",
       "    <tr>\n",
       "      <td>6</td>\n",
       "      <td>1000_6</td>\n",
       "      <td>2018-10-18</td>\n",
       "      <td>0</td>\n",
       "      <td>1000</td>\n",
       "    </tr>\n",
       "    <tr>\n",
       "      <td>9</td>\n",
       "      <td>1000_9</td>\n",
       "      <td>2018-08-15</td>\n",
       "      <td>0</td>\n",
       "      <td>1000</td>\n",
       "    </tr>\n",
       "    <tr>\n",
       "      <td>...</td>\n",
       "      <td>...</td>\n",
       "      <td>...</td>\n",
       "      <td>...</td>\n",
       "      <td>...</td>\n",
       "    </tr>\n",
       "    <tr>\n",
       "      <td>202590</td>\n",
       "      <td>1499_203</td>\n",
       "      <td>2018-12-03</td>\n",
       "      <td>0</td>\n",
       "      <td>1499</td>\n",
       "    </tr>\n",
       "    <tr>\n",
       "      <td>202592</td>\n",
       "      <td>1499_205</td>\n",
       "      <td>2018-10-13</td>\n",
       "      <td>0</td>\n",
       "      <td>1499</td>\n",
       "    </tr>\n",
       "    <tr>\n",
       "      <td>202593</td>\n",
       "      <td>1499_206</td>\n",
       "      <td>2018-12-26</td>\n",
       "      <td>0</td>\n",
       "      <td>1499</td>\n",
       "    </tr>\n",
       "    <tr>\n",
       "      <td>202594</td>\n",
       "      <td>1499_207</td>\n",
       "      <td>2018-10-28</td>\n",
       "      <td>0</td>\n",
       "      <td>1499</td>\n",
       "    </tr>\n",
       "    <tr>\n",
       "      <td>202596</td>\n",
       "      <td>1499_209</td>\n",
       "      <td>2018-12-16</td>\n",
       "      <td>0</td>\n",
       "      <td>1499</td>\n",
       "    </tr>\n",
       "  </tbody>\n",
       "</table>\n",
       "<p>39613 rows × 4 columns</p>\n",
       "</div>"
      ],
      "text/plain": [
       "              id  call_date  duration  user_id\n",
       "0         1000_0 2018-07-25         0     1000\n",
       "1         1000_1 2018-08-17         0     1000\n",
       "5         1000_5 2018-11-02         0     1000\n",
       "6         1000_6 2018-10-18         0     1000\n",
       "9         1000_9 2018-08-15         0     1000\n",
       "...          ...        ...       ...      ...\n",
       "202590  1499_203 2018-12-03         0     1499\n",
       "202592  1499_205 2018-10-13         0     1499\n",
       "202593  1499_206 2018-12-26         0     1499\n",
       "202594  1499_207 2018-10-28         0     1499\n",
       "202596  1499_209 2018-12-16         0     1499\n",
       "\n",
       "[39613 rows x 4 columns]"
      ]
     },
     "execution_count": 130,
     "metadata": {},
     "output_type": "execute_result"
    }
   ],
   "source": [
    "data_calls.query('duration == 0')"
   ]
  },
  {
   "cell_type": "markdown",
   "metadata": {},
   "source": [
    "В столбце около 40тыс строк с нулевыми значениями. Согласно описанию в задании, это пропущенные звонки, которые удалять не нужно."
   ]
  },
  {
   "cell_type": "markdown",
   "metadata": {},
   "source": [
    "**Таблица интернет-сессий:**"
   ]
  },
  {
   "cell_type": "code",
   "execution_count": 131,
   "metadata": {},
   "outputs": [],
   "source": [
    "#меняем формат записи даты:\n",
    "data_internet['session_date'] = pd.to_datetime(data_internet['session_date'], format=\"%Y-%m-%d\")\n",
    "#округляем расходованные мегабайты вверх и приводим данные к int:\n",
    "data_internet['mb_used'] = data_internet['mb_used'].apply(np.ceil).astype('int')\n",
    "#удаляем ненужные столбцы:\n",
    "data_internet = data_internet.drop(columns=['Unnamed: 0'], axis=1)"
   ]
  },
  {
   "cell_type": "code",
   "execution_count": 132,
   "metadata": {},
   "outputs": [
    {
     "name": "stdout",
     "output_type": "stream",
     "text": [
      "<class 'pandas.core.frame.DataFrame'>\n",
      "RangeIndex: 149396 entries, 0 to 149395\n",
      "Data columns (total 4 columns):\n",
      "id              149396 non-null object\n",
      "mb_used         149396 non-null int64\n",
      "session_date    149396 non-null datetime64[ns]\n",
      "user_id         149396 non-null int64\n",
      "dtypes: datetime64[ns](1), int64(2), object(1)\n",
      "memory usage: 4.6+ MB\n"
     ]
    }
   ],
   "source": [
    "data_internet.info()"
   ]
  },
  {
   "cell_type": "markdown",
   "metadata": {},
   "source": [
    "**Таблица сообщений:**"
   ]
  },
  {
   "cell_type": "code",
   "execution_count": 133,
   "metadata": {},
   "outputs": [],
   "source": [
    "#меняем формат записи даты:\n",
    "data_messages['message_date'] = pd.to_datetime(data_messages['message_date'], format=\"%Y-%m-%d\")"
   ]
  },
  {
   "cell_type": "code",
   "execution_count": 134,
   "metadata": {},
   "outputs": [
    {
     "name": "stdout",
     "output_type": "stream",
     "text": [
      "<class 'pandas.core.frame.DataFrame'>\n",
      "RangeIndex: 123036 entries, 0 to 123035\n",
      "Data columns (total 3 columns):\n",
      "id              123036 non-null object\n",
      "message_date    123036 non-null datetime64[ns]\n",
      "user_id         123036 non-null int64\n",
      "dtypes: datetime64[ns](1), int64(1), object(1)\n",
      "memory usage: 2.8+ MB\n"
     ]
    }
   ],
   "source": [
    "data_messages.info()"
   ]
  },
  {
   "cell_type": "markdown",
   "metadata": {},
   "source": [
    "**Таблица пользователей:**"
   ]
  },
  {
   "cell_type": "code",
   "execution_count": 135,
   "metadata": {},
   "outputs": [],
   "source": [
    "data_users['churn_date'] = pd.to_datetime(data_users['churn_date'], format=\"%Y-%m-%d\")\n",
    "data_users['reg_date'] = pd.to_datetime(data_users['reg_date'], format=\"%Y-%m-%d\")"
   ]
  },
  {
   "cell_type": "code",
   "execution_count": 136,
   "metadata": {},
   "outputs": [
    {
     "name": "stdout",
     "output_type": "stream",
     "text": [
      "<class 'pandas.core.frame.DataFrame'>\n",
      "RangeIndex: 500 entries, 0 to 499\n",
      "Data columns (total 8 columns):\n",
      "user_id       500 non-null int64\n",
      "age           500 non-null int64\n",
      "churn_date    38 non-null datetime64[ns]\n",
      "city          500 non-null object\n",
      "first_name    500 non-null object\n",
      "last_name     500 non-null object\n",
      "reg_date      500 non-null datetime64[ns]\n",
      "tariff        500 non-null object\n",
      "dtypes: datetime64[ns](2), int64(2), object(4)\n",
      "memory usage: 31.4+ KB\n"
     ]
    }
   ],
   "source": [
    "data_users.info()"
   ]
  },
  {
   "cell_type": "markdown",
   "metadata": {},
   "source": [
    "### Подсчеты."
   ]
  },
  {
   "cell_type": "markdown",
   "metadata": {},
   "source": [
    "Необходимо посчитать количество сделанных звонков и израсходованных минут разговора, количество отправленных сообщений и объем израсходованного интернет-трафика по месяцам. Для этого необходимо из столбцов с датами \"достать\" месяца и добавить их в отдельные столбцы для каждой таблицы."
   ]
  },
  {
   "cell_type": "code",
   "execution_count": 137,
   "metadata": {},
   "outputs": [],
   "source": [
    "#напишем функцию для создания столбцов с месяцами:\n",
    "def month(data):\n",
    "    for i in data:\n",
    "        for column in data.columns:\n",
    "            if 'date' in column and column != 'churn_date':\n",
    "                data['month'] = data[column].dt.month"
   ]
  },
  {
   "cell_type": "markdown",
   "metadata": {},
   "source": [
    "Вызовем функцию для каждой таблицы и проверим результат:"
   ]
  },
  {
   "cell_type": "code",
   "execution_count": 138,
   "metadata": {},
   "outputs": [
    {
     "data": {
      "text/html": [
       "<div>\n",
       "<style scoped>\n",
       "    .dataframe tbody tr th:only-of-type {\n",
       "        vertical-align: middle;\n",
       "    }\n",
       "\n",
       "    .dataframe tbody tr th {\n",
       "        vertical-align: top;\n",
       "    }\n",
       "\n",
       "    .dataframe thead th {\n",
       "        text-align: right;\n",
       "    }\n",
       "</style>\n",
       "<table border=\"1\" class=\"dataframe\">\n",
       "  <thead>\n",
       "    <tr style=\"text-align: right;\">\n",
       "      <th></th>\n",
       "      <th>user_id</th>\n",
       "      <th>age</th>\n",
       "      <th>churn_date</th>\n",
       "      <th>city</th>\n",
       "      <th>first_name</th>\n",
       "      <th>last_name</th>\n",
       "      <th>reg_date</th>\n",
       "      <th>tariff</th>\n",
       "      <th>month</th>\n",
       "    </tr>\n",
       "  </thead>\n",
       "  <tbody>\n",
       "    <tr>\n",
       "      <td>0</td>\n",
       "      <td>1000</td>\n",
       "      <td>52</td>\n",
       "      <td>NaT</td>\n",
       "      <td>Краснодар</td>\n",
       "      <td>Рафаил</td>\n",
       "      <td>Верещагин</td>\n",
       "      <td>2018-05-25</td>\n",
       "      <td>ultra</td>\n",
       "      <td>5</td>\n",
       "    </tr>\n",
       "    <tr>\n",
       "      <td>1</td>\n",
       "      <td>1001</td>\n",
       "      <td>41</td>\n",
       "      <td>NaT</td>\n",
       "      <td>Москва</td>\n",
       "      <td>Иван</td>\n",
       "      <td>Ежов</td>\n",
       "      <td>2018-11-01</td>\n",
       "      <td>smart</td>\n",
       "      <td>11</td>\n",
       "    </tr>\n",
       "    <tr>\n",
       "      <td>2</td>\n",
       "      <td>1002</td>\n",
       "      <td>59</td>\n",
       "      <td>NaT</td>\n",
       "      <td>Стерлитамак</td>\n",
       "      <td>Евгений</td>\n",
       "      <td>Абрамович</td>\n",
       "      <td>2018-06-17</td>\n",
       "      <td>smart</td>\n",
       "      <td>6</td>\n",
       "    </tr>\n",
       "    <tr>\n",
       "      <td>3</td>\n",
       "      <td>1003</td>\n",
       "      <td>23</td>\n",
       "      <td>NaT</td>\n",
       "      <td>Москва</td>\n",
       "      <td>Белла</td>\n",
       "      <td>Белякова</td>\n",
       "      <td>2018-08-17</td>\n",
       "      <td>ultra</td>\n",
       "      <td>8</td>\n",
       "    </tr>\n",
       "    <tr>\n",
       "      <td>4</td>\n",
       "      <td>1004</td>\n",
       "      <td>68</td>\n",
       "      <td>NaT</td>\n",
       "      <td>Новокузнецк</td>\n",
       "      <td>Татьяна</td>\n",
       "      <td>Авдеенко</td>\n",
       "      <td>2018-05-14</td>\n",
       "      <td>ultra</td>\n",
       "      <td>5</td>\n",
       "    </tr>\n",
       "  </tbody>\n",
       "</table>\n",
       "</div>"
      ],
      "text/plain": [
       "   user_id  age churn_date         city first_name  last_name   reg_date  \\\n",
       "0     1000   52        NaT    Краснодар     Рафаил  Верещагин 2018-05-25   \n",
       "1     1001   41        NaT       Москва       Иван       Ежов 2018-11-01   \n",
       "2     1002   59        NaT  Стерлитамак    Евгений  Абрамович 2018-06-17   \n",
       "3     1003   23        NaT       Москва      Белла   Белякова 2018-08-17   \n",
       "4     1004   68        NaT  Новокузнецк    Татьяна   Авдеенко 2018-05-14   \n",
       "\n",
       "  tariff  month  \n",
       "0  ultra      5  \n",
       "1  smart     11  \n",
       "2  smart      6  \n",
       "3  ultra      8  \n",
       "4  ultra      5  "
      ]
     },
     "metadata": {},
     "output_type": "display_data"
    },
    {
     "data": {
      "text/html": [
       "<div>\n",
       "<style scoped>\n",
       "    .dataframe tbody tr th:only-of-type {\n",
       "        vertical-align: middle;\n",
       "    }\n",
       "\n",
       "    .dataframe tbody tr th {\n",
       "        vertical-align: top;\n",
       "    }\n",
       "\n",
       "    .dataframe thead th {\n",
       "        text-align: right;\n",
       "    }\n",
       "</style>\n",
       "<table border=\"1\" class=\"dataframe\">\n",
       "  <thead>\n",
       "    <tr style=\"text-align: right;\">\n",
       "      <th></th>\n",
       "      <th>id</th>\n",
       "      <th>call_date</th>\n",
       "      <th>duration</th>\n",
       "      <th>user_id</th>\n",
       "      <th>month</th>\n",
       "    </tr>\n",
       "  </thead>\n",
       "  <tbody>\n",
       "    <tr>\n",
       "      <td>0</td>\n",
       "      <td>1000_0</td>\n",
       "      <td>2018-07-25</td>\n",
       "      <td>0</td>\n",
       "      <td>1000</td>\n",
       "      <td>7</td>\n",
       "    </tr>\n",
       "    <tr>\n",
       "      <td>1</td>\n",
       "      <td>1000_1</td>\n",
       "      <td>2018-08-17</td>\n",
       "      <td>0</td>\n",
       "      <td>1000</td>\n",
       "      <td>8</td>\n",
       "    </tr>\n",
       "    <tr>\n",
       "      <td>2</td>\n",
       "      <td>1000_2</td>\n",
       "      <td>2018-06-11</td>\n",
       "      <td>3</td>\n",
       "      <td>1000</td>\n",
       "      <td>6</td>\n",
       "    </tr>\n",
       "    <tr>\n",
       "      <td>3</td>\n",
       "      <td>1000_3</td>\n",
       "      <td>2018-09-21</td>\n",
       "      <td>14</td>\n",
       "      <td>1000</td>\n",
       "      <td>9</td>\n",
       "    </tr>\n",
       "    <tr>\n",
       "      <td>4</td>\n",
       "      <td>1000_4</td>\n",
       "      <td>2018-12-15</td>\n",
       "      <td>6</td>\n",
       "      <td>1000</td>\n",
       "      <td>12</td>\n",
       "    </tr>\n",
       "  </tbody>\n",
       "</table>\n",
       "</div>"
      ],
      "text/plain": [
       "       id  call_date  duration  user_id  month\n",
       "0  1000_0 2018-07-25         0     1000      7\n",
       "1  1000_1 2018-08-17         0     1000      8\n",
       "2  1000_2 2018-06-11         3     1000      6\n",
       "3  1000_3 2018-09-21        14     1000      9\n",
       "4  1000_4 2018-12-15         6     1000     12"
      ]
     },
     "metadata": {},
     "output_type": "display_data"
    },
    {
     "data": {
      "text/html": [
       "<div>\n",
       "<style scoped>\n",
       "    .dataframe tbody tr th:only-of-type {\n",
       "        vertical-align: middle;\n",
       "    }\n",
       "\n",
       "    .dataframe tbody tr th {\n",
       "        vertical-align: top;\n",
       "    }\n",
       "\n",
       "    .dataframe thead th {\n",
       "        text-align: right;\n",
       "    }\n",
       "</style>\n",
       "<table border=\"1\" class=\"dataframe\">\n",
       "  <thead>\n",
       "    <tr style=\"text-align: right;\">\n",
       "      <th></th>\n",
       "      <th>id</th>\n",
       "      <th>message_date</th>\n",
       "      <th>user_id</th>\n",
       "      <th>month</th>\n",
       "    </tr>\n",
       "  </thead>\n",
       "  <tbody>\n",
       "    <tr>\n",
       "      <td>0</td>\n",
       "      <td>1000_0</td>\n",
       "      <td>2018-06-27</td>\n",
       "      <td>1000</td>\n",
       "      <td>6</td>\n",
       "    </tr>\n",
       "    <tr>\n",
       "      <td>1</td>\n",
       "      <td>1000_1</td>\n",
       "      <td>2018-10-08</td>\n",
       "      <td>1000</td>\n",
       "      <td>10</td>\n",
       "    </tr>\n",
       "    <tr>\n",
       "      <td>2</td>\n",
       "      <td>1000_2</td>\n",
       "      <td>2018-08-04</td>\n",
       "      <td>1000</td>\n",
       "      <td>8</td>\n",
       "    </tr>\n",
       "    <tr>\n",
       "      <td>3</td>\n",
       "      <td>1000_3</td>\n",
       "      <td>2018-06-16</td>\n",
       "      <td>1000</td>\n",
       "      <td>6</td>\n",
       "    </tr>\n",
       "    <tr>\n",
       "      <td>4</td>\n",
       "      <td>1000_4</td>\n",
       "      <td>2018-12-05</td>\n",
       "      <td>1000</td>\n",
       "      <td>12</td>\n",
       "    </tr>\n",
       "  </tbody>\n",
       "</table>\n",
       "</div>"
      ],
      "text/plain": [
       "       id message_date  user_id  month\n",
       "0  1000_0   2018-06-27     1000      6\n",
       "1  1000_1   2018-10-08     1000     10\n",
       "2  1000_2   2018-08-04     1000      8\n",
       "3  1000_3   2018-06-16     1000      6\n",
       "4  1000_4   2018-12-05     1000     12"
      ]
     },
     "metadata": {},
     "output_type": "display_data"
    },
    {
     "data": {
      "text/html": [
       "<div>\n",
       "<style scoped>\n",
       "    .dataframe tbody tr th:only-of-type {\n",
       "        vertical-align: middle;\n",
       "    }\n",
       "\n",
       "    .dataframe tbody tr th {\n",
       "        vertical-align: top;\n",
       "    }\n",
       "\n",
       "    .dataframe thead th {\n",
       "        text-align: right;\n",
       "    }\n",
       "</style>\n",
       "<table border=\"1\" class=\"dataframe\">\n",
       "  <thead>\n",
       "    <tr style=\"text-align: right;\">\n",
       "      <th></th>\n",
       "      <th>id</th>\n",
       "      <th>mb_used</th>\n",
       "      <th>session_date</th>\n",
       "      <th>user_id</th>\n",
       "      <th>month</th>\n",
       "    </tr>\n",
       "  </thead>\n",
       "  <tbody>\n",
       "    <tr>\n",
       "      <td>0</td>\n",
       "      <td>1000_0</td>\n",
       "      <td>113</td>\n",
       "      <td>2018-11-25</td>\n",
       "      <td>1000</td>\n",
       "      <td>11</td>\n",
       "    </tr>\n",
       "    <tr>\n",
       "      <td>1</td>\n",
       "      <td>1000_1</td>\n",
       "      <td>1053</td>\n",
       "      <td>2018-09-07</td>\n",
       "      <td>1000</td>\n",
       "      <td>9</td>\n",
       "    </tr>\n",
       "    <tr>\n",
       "      <td>2</td>\n",
       "      <td>1000_2</td>\n",
       "      <td>1198</td>\n",
       "      <td>2018-06-25</td>\n",
       "      <td>1000</td>\n",
       "      <td>6</td>\n",
       "    </tr>\n",
       "    <tr>\n",
       "      <td>3</td>\n",
       "      <td>1000_3</td>\n",
       "      <td>551</td>\n",
       "      <td>2018-08-22</td>\n",
       "      <td>1000</td>\n",
       "      <td>8</td>\n",
       "    </tr>\n",
       "    <tr>\n",
       "      <td>4</td>\n",
       "      <td>1000_4</td>\n",
       "      <td>303</td>\n",
       "      <td>2018-09-24</td>\n",
       "      <td>1000</td>\n",
       "      <td>9</td>\n",
       "    </tr>\n",
       "  </tbody>\n",
       "</table>\n",
       "</div>"
      ],
      "text/plain": [
       "       id  mb_used session_date  user_id  month\n",
       "0  1000_0      113   2018-11-25     1000     11\n",
       "1  1000_1     1053   2018-09-07     1000      9\n",
       "2  1000_2     1198   2018-06-25     1000      6\n",
       "3  1000_3      551   2018-08-22     1000      8\n",
       "4  1000_4      303   2018-09-24     1000      9"
      ]
     },
     "metadata": {},
     "output_type": "display_data"
    }
   ],
   "source": [
    "data_all = [data_users, data_calls, data_messages, data_internet]\n",
    "for table in data_all:\n",
    "    month(table)\n",
    "    display(table.head())"
   ]
  },
  {
   "cell_type": "markdown",
   "metadata": {},
   "source": [
    "Столбцы на своих местах, можно переходить к расчетам. "
   ]
  },
  {
   "cell_type": "markdown",
   "metadata": {},
   "source": [
    "#### Количество сделанных звонков и израсходованных минут."
   ]
  },
  {
   "cell_type": "code",
   "execution_count": 139,
   "metadata": {},
   "outputs": [],
   "source": [
    "month_calls = data_calls.groupby(['user_id', 'month'])\\\n",
    "                  .agg({'duration':'sum', 'id': 'count'})\\\n",
    "                  .reset_index()\\\n",
    "                  .rename(columns={'duration':'month_calls_duration', 'id': 'calls_count'})\\"
   ]
  },
  {
   "cell_type": "code",
   "execution_count": 140,
   "metadata": {},
   "outputs": [
    {
     "data": {
      "text/html": [
       "<div>\n",
       "<style scoped>\n",
       "    .dataframe tbody tr th:only-of-type {\n",
       "        vertical-align: middle;\n",
       "    }\n",
       "\n",
       "    .dataframe tbody tr th {\n",
       "        vertical-align: top;\n",
       "    }\n",
       "\n",
       "    .dataframe thead th {\n",
       "        text-align: right;\n",
       "    }\n",
       "</style>\n",
       "<table border=\"1\" class=\"dataframe\">\n",
       "  <thead>\n",
       "    <tr style=\"text-align: right;\">\n",
       "      <th></th>\n",
       "      <th>user_id</th>\n",
       "      <th>month</th>\n",
       "      <th>month_calls_duration</th>\n",
       "      <th>calls_count</th>\n",
       "    </tr>\n",
       "  </thead>\n",
       "  <tbody>\n",
       "    <tr>\n",
       "      <td>0</td>\n",
       "      <td>1000</td>\n",
       "      <td>5</td>\n",
       "      <td>159</td>\n",
       "      <td>22</td>\n",
       "    </tr>\n",
       "    <tr>\n",
       "      <td>1</td>\n",
       "      <td>1000</td>\n",
       "      <td>6</td>\n",
       "      <td>172</td>\n",
       "      <td>43</td>\n",
       "    </tr>\n",
       "    <tr>\n",
       "      <td>2</td>\n",
       "      <td>1000</td>\n",
       "      <td>7</td>\n",
       "      <td>340</td>\n",
       "      <td>47</td>\n",
       "    </tr>\n",
       "    <tr>\n",
       "      <td>3</td>\n",
       "      <td>1000</td>\n",
       "      <td>8</td>\n",
       "      <td>408</td>\n",
       "      <td>52</td>\n",
       "    </tr>\n",
       "    <tr>\n",
       "      <td>4</td>\n",
       "      <td>1000</td>\n",
       "      <td>9</td>\n",
       "      <td>466</td>\n",
       "      <td>58</td>\n",
       "    </tr>\n",
       "    <tr>\n",
       "      <td>5</td>\n",
       "      <td>1000</td>\n",
       "      <td>10</td>\n",
       "      <td>350</td>\n",
       "      <td>57</td>\n",
       "    </tr>\n",
       "    <tr>\n",
       "      <td>6</td>\n",
       "      <td>1000</td>\n",
       "      <td>11</td>\n",
       "      <td>338</td>\n",
       "      <td>43</td>\n",
       "    </tr>\n",
       "    <tr>\n",
       "      <td>7</td>\n",
       "      <td>1000</td>\n",
       "      <td>12</td>\n",
       "      <td>333</td>\n",
       "      <td>46</td>\n",
       "    </tr>\n",
       "    <tr>\n",
       "      <td>8</td>\n",
       "      <td>1001</td>\n",
       "      <td>11</td>\n",
       "      <td>430</td>\n",
       "      <td>59</td>\n",
       "    </tr>\n",
       "    <tr>\n",
       "      <td>9</td>\n",
       "      <td>1001</td>\n",
       "      <td>12</td>\n",
       "      <td>414</td>\n",
       "      <td>63</td>\n",
       "    </tr>\n",
       "  </tbody>\n",
       "</table>\n",
       "</div>"
      ],
      "text/plain": [
       "   user_id  month  month_calls_duration  calls_count\n",
       "0     1000      5                   159           22\n",
       "1     1000      6                   172           43\n",
       "2     1000      7                   340           47\n",
       "3     1000      8                   408           52\n",
       "4     1000      9                   466           58\n",
       "5     1000     10                   350           57\n",
       "6     1000     11                   338           43\n",
       "7     1000     12                   333           46\n",
       "8     1001     11                   430           59\n",
       "9     1001     12                   414           63"
      ]
     },
     "execution_count": 140,
     "metadata": {},
     "output_type": "execute_result"
    }
   ],
   "source": [
    "month_calls.head(10)"
   ]
  },
  {
   "cell_type": "markdown",
   "metadata": {},
   "source": [
    "#### Количество отправленных сообщений по месяцам."
   ]
  },
  {
   "cell_type": "code",
   "execution_count": 141,
   "metadata": {},
   "outputs": [],
   "source": [
    "month_messages = data_messages.groupby(['user_id', 'month'])\\\n",
    "                  .agg({'id': 'count'})\\\n",
    "                  .reset_index()\\\n",
    "                  .rename(columns={'id': 'messages_count'})\\"
   ]
  },
  {
   "cell_type": "code",
   "execution_count": 142,
   "metadata": {},
   "outputs": [
    {
     "data": {
      "text/html": [
       "<div>\n",
       "<style scoped>\n",
       "    .dataframe tbody tr th:only-of-type {\n",
       "        vertical-align: middle;\n",
       "    }\n",
       "\n",
       "    .dataframe tbody tr th {\n",
       "        vertical-align: top;\n",
       "    }\n",
       "\n",
       "    .dataframe thead th {\n",
       "        text-align: right;\n",
       "    }\n",
       "</style>\n",
       "<table border=\"1\" class=\"dataframe\">\n",
       "  <thead>\n",
       "    <tr style=\"text-align: right;\">\n",
       "      <th></th>\n",
       "      <th>user_id</th>\n",
       "      <th>month</th>\n",
       "      <th>messages_count</th>\n",
       "    </tr>\n",
       "  </thead>\n",
       "  <tbody>\n",
       "    <tr>\n",
       "      <td>0</td>\n",
       "      <td>1000</td>\n",
       "      <td>5</td>\n",
       "      <td>22</td>\n",
       "    </tr>\n",
       "    <tr>\n",
       "      <td>1</td>\n",
       "      <td>1000</td>\n",
       "      <td>6</td>\n",
       "      <td>60</td>\n",
       "    </tr>\n",
       "    <tr>\n",
       "      <td>2</td>\n",
       "      <td>1000</td>\n",
       "      <td>7</td>\n",
       "      <td>75</td>\n",
       "    </tr>\n",
       "    <tr>\n",
       "      <td>3</td>\n",
       "      <td>1000</td>\n",
       "      <td>8</td>\n",
       "      <td>81</td>\n",
       "    </tr>\n",
       "    <tr>\n",
       "      <td>4</td>\n",
       "      <td>1000</td>\n",
       "      <td>9</td>\n",
       "      <td>57</td>\n",
       "    </tr>\n",
       "  </tbody>\n",
       "</table>\n",
       "</div>"
      ],
      "text/plain": [
       "   user_id  month  messages_count\n",
       "0     1000      5              22\n",
       "1     1000      6              60\n",
       "2     1000      7              75\n",
       "3     1000      8              81\n",
       "4     1000      9              57"
      ]
     },
     "execution_count": 142,
     "metadata": {},
     "output_type": "execute_result"
    }
   ],
   "source": [
    "month_messages.head()"
   ]
  },
  {
   "cell_type": "markdown",
   "metadata": {},
   "source": [
    "#### Объем израсходованного интернет-трафика."
   ]
  },
  {
   "cell_type": "code",
   "execution_count": 143,
   "metadata": {},
   "outputs": [],
   "source": [
    "month_internet = data_internet.groupby(['user_id', 'month'])\\\n",
    "                  .agg({'mb_used':'sum'})\\\n",
    "                  .reset_index()\\\n",
    "                  .rename(columns={'mb_used':'mb_month'})"
   ]
  },
  {
   "cell_type": "code",
   "execution_count": 144,
   "metadata": {},
   "outputs": [
    {
     "data": {
      "text/html": [
       "<div>\n",
       "<style scoped>\n",
       "    .dataframe tbody tr th:only-of-type {\n",
       "        vertical-align: middle;\n",
       "    }\n",
       "\n",
       "    .dataframe tbody tr th {\n",
       "        vertical-align: top;\n",
       "    }\n",
       "\n",
       "    .dataframe thead th {\n",
       "        text-align: right;\n",
       "    }\n",
       "</style>\n",
       "<table border=\"1\" class=\"dataframe\">\n",
       "  <thead>\n",
       "    <tr style=\"text-align: right;\">\n",
       "      <th></th>\n",
       "      <th>user_id</th>\n",
       "      <th>month</th>\n",
       "      <th>mb_month</th>\n",
       "    </tr>\n",
       "  </thead>\n",
       "  <tbody>\n",
       "    <tr>\n",
       "      <td>0</td>\n",
       "      <td>1000</td>\n",
       "      <td>5</td>\n",
       "      <td>2256</td>\n",
       "    </tr>\n",
       "    <tr>\n",
       "      <td>1</td>\n",
       "      <td>1000</td>\n",
       "      <td>6</td>\n",
       "      <td>23257</td>\n",
       "    </tr>\n",
       "    <tr>\n",
       "      <td>2</td>\n",
       "      <td>1000</td>\n",
       "      <td>7</td>\n",
       "      <td>14016</td>\n",
       "    </tr>\n",
       "    <tr>\n",
       "      <td>3</td>\n",
       "      <td>1000</td>\n",
       "      <td>8</td>\n",
       "      <td>14070</td>\n",
       "    </tr>\n",
       "    <tr>\n",
       "      <td>4</td>\n",
       "      <td>1000</td>\n",
       "      <td>9</td>\n",
       "      <td>14581</td>\n",
       "    </tr>\n",
       "  </tbody>\n",
       "</table>\n",
       "</div>"
      ],
      "text/plain": [
       "   user_id  month  mb_month\n",
       "0     1000      5      2256\n",
       "1     1000      6     23257\n",
       "2     1000      7     14016\n",
       "3     1000      8     14070\n",
       "4     1000      9     14581"
      ]
     },
     "execution_count": 144,
     "metadata": {},
     "output_type": "execute_result"
    }
   ],
   "source": [
    "month_internet.head()"
   ]
  },
  {
   "cell_type": "markdown",
   "metadata": {},
   "source": [
    "#### Помесячная выручку с каждого пользователя. "
   ]
  },
  {
   "cell_type": "markdown",
   "metadata": {},
   "source": [
    "Чтобы найти месячную выручку с каждого пользователя, необходимо полученные ранее таблицы соединить в одну."
   ]
  },
  {
   "cell_type": "code",
   "execution_count": 145,
   "metadata": {},
   "outputs": [
    {
     "data": {
      "text/html": [
       "<div>\n",
       "<style scoped>\n",
       "    .dataframe tbody tr th:only-of-type {\n",
       "        vertical-align: middle;\n",
       "    }\n",
       "\n",
       "    .dataframe tbody tr th {\n",
       "        vertical-align: top;\n",
       "    }\n",
       "\n",
       "    .dataframe thead th {\n",
       "        text-align: right;\n",
       "    }\n",
       "</style>\n",
       "<table border=\"1\" class=\"dataframe\">\n",
       "  <thead>\n",
       "    <tr style=\"text-align: right;\">\n",
       "      <th></th>\n",
       "      <th>user_id</th>\n",
       "      <th>month</th>\n",
       "      <th>month_calls_duration</th>\n",
       "      <th>calls_count</th>\n",
       "      <th>messages_count</th>\n",
       "      <th>mb_month</th>\n",
       "    </tr>\n",
       "  </thead>\n",
       "  <tbody>\n",
       "    <tr>\n",
       "      <td>0</td>\n",
       "      <td>1000</td>\n",
       "      <td>5</td>\n",
       "      <td>159.0</td>\n",
       "      <td>22.0</td>\n",
       "      <td>22.0</td>\n",
       "      <td>2256.0</td>\n",
       "    </tr>\n",
       "    <tr>\n",
       "      <td>1</td>\n",
       "      <td>1000</td>\n",
       "      <td>6</td>\n",
       "      <td>172.0</td>\n",
       "      <td>43.0</td>\n",
       "      <td>60.0</td>\n",
       "      <td>23257.0</td>\n",
       "    </tr>\n",
       "    <tr>\n",
       "      <td>2</td>\n",
       "      <td>1000</td>\n",
       "      <td>7</td>\n",
       "      <td>340.0</td>\n",
       "      <td>47.0</td>\n",
       "      <td>75.0</td>\n",
       "      <td>14016.0</td>\n",
       "    </tr>\n",
       "    <tr>\n",
       "      <td>3</td>\n",
       "      <td>1000</td>\n",
       "      <td>8</td>\n",
       "      <td>408.0</td>\n",
       "      <td>52.0</td>\n",
       "      <td>81.0</td>\n",
       "      <td>14070.0</td>\n",
       "    </tr>\n",
       "    <tr>\n",
       "      <td>4</td>\n",
       "      <td>1000</td>\n",
       "      <td>9</td>\n",
       "      <td>466.0</td>\n",
       "      <td>58.0</td>\n",
       "      <td>57.0</td>\n",
       "      <td>14581.0</td>\n",
       "    </tr>\n",
       "  </tbody>\n",
       "</table>\n",
       "</div>"
      ],
      "text/plain": [
       "   user_id  month  month_calls_duration  calls_count  messages_count  mb_month\n",
       "0     1000      5                 159.0         22.0            22.0    2256.0\n",
       "1     1000      6                 172.0         43.0            60.0   23257.0\n",
       "2     1000      7                 340.0         47.0            75.0   14016.0\n",
       "3     1000      8                 408.0         52.0            81.0   14070.0\n",
       "4     1000      9                 466.0         58.0            57.0   14581.0"
      ]
     },
     "execution_count": 145,
     "metadata": {},
     "output_type": "execute_result"
    }
   ],
   "source": [
    "data_month = month_calls.merge(month_messages, on=['user_id', 'month'], how = 'outer')\n",
    "data_month = data_month.merge(month_internet, on=['user_id', 'month'], how = 'outer')\n",
    "data_month.head()"
   ]
  },
  {
   "cell_type": "code",
   "execution_count": 146,
   "metadata": {},
   "outputs": [
    {
     "data": {
      "text/html": [
       "<div>\n",
       "<style scoped>\n",
       "    .dataframe tbody tr th:only-of-type {\n",
       "        vertical-align: middle;\n",
       "    }\n",
       "\n",
       "    .dataframe tbody tr th {\n",
       "        vertical-align: top;\n",
       "    }\n",
       "\n",
       "    .dataframe thead th {\n",
       "        text-align: right;\n",
       "    }\n",
       "</style>\n",
       "<table border=\"1\" class=\"dataframe\">\n",
       "  <thead>\n",
       "    <tr style=\"text-align: right;\">\n",
       "      <th></th>\n",
       "      <th>user_id</th>\n",
       "      <th>age</th>\n",
       "      <th>churn_date</th>\n",
       "      <th>city</th>\n",
       "      <th>first_name</th>\n",
       "      <th>last_name</th>\n",
       "      <th>reg_date</th>\n",
       "      <th>tariff</th>\n",
       "      <th>month</th>\n",
       "    </tr>\n",
       "  </thead>\n",
       "  <tbody>\n",
       "    <tr>\n",
       "      <td>0</td>\n",
       "      <td>1000</td>\n",
       "      <td>52</td>\n",
       "      <td>NaT</td>\n",
       "      <td>Краснодар</td>\n",
       "      <td>Рафаил</td>\n",
       "      <td>Верещагин</td>\n",
       "      <td>2018-05-25</td>\n",
       "      <td>ultra</td>\n",
       "      <td>5</td>\n",
       "    </tr>\n",
       "    <tr>\n",
       "      <td>1</td>\n",
       "      <td>1001</td>\n",
       "      <td>41</td>\n",
       "      <td>NaT</td>\n",
       "      <td>Москва</td>\n",
       "      <td>Иван</td>\n",
       "      <td>Ежов</td>\n",
       "      <td>2018-11-01</td>\n",
       "      <td>smart</td>\n",
       "      <td>11</td>\n",
       "    </tr>\n",
       "    <tr>\n",
       "      <td>2</td>\n",
       "      <td>1002</td>\n",
       "      <td>59</td>\n",
       "      <td>NaT</td>\n",
       "      <td>Стерлитамак</td>\n",
       "      <td>Евгений</td>\n",
       "      <td>Абрамович</td>\n",
       "      <td>2018-06-17</td>\n",
       "      <td>smart</td>\n",
       "      <td>6</td>\n",
       "    </tr>\n",
       "    <tr>\n",
       "      <td>3</td>\n",
       "      <td>1003</td>\n",
       "      <td>23</td>\n",
       "      <td>NaT</td>\n",
       "      <td>Москва</td>\n",
       "      <td>Белла</td>\n",
       "      <td>Белякова</td>\n",
       "      <td>2018-08-17</td>\n",
       "      <td>ultra</td>\n",
       "      <td>8</td>\n",
       "    </tr>\n",
       "    <tr>\n",
       "      <td>4</td>\n",
       "      <td>1004</td>\n",
       "      <td>68</td>\n",
       "      <td>NaT</td>\n",
       "      <td>Новокузнецк</td>\n",
       "      <td>Татьяна</td>\n",
       "      <td>Авдеенко</td>\n",
       "      <td>2018-05-14</td>\n",
       "      <td>ultra</td>\n",
       "      <td>5</td>\n",
       "    </tr>\n",
       "  </tbody>\n",
       "</table>\n",
       "</div>"
      ],
      "text/plain": [
       "   user_id  age churn_date         city first_name  last_name   reg_date  \\\n",
       "0     1000   52        NaT    Краснодар     Рафаил  Верещагин 2018-05-25   \n",
       "1     1001   41        NaT       Москва       Иван       Ежов 2018-11-01   \n",
       "2     1002   59        NaT  Стерлитамак    Евгений  Абрамович 2018-06-17   \n",
       "3     1003   23        NaT       Москва      Белла   Белякова 2018-08-17   \n",
       "4     1004   68        NaT  Новокузнецк    Татьяна   Авдеенко 2018-05-14   \n",
       "\n",
       "  tariff  month  \n",
       "0  ultra      5  \n",
       "1  smart     11  \n",
       "2  smart      6  \n",
       "3  ultra      8  \n",
       "4  ultra      5  "
      ]
     },
     "execution_count": 146,
     "metadata": {},
     "output_type": "execute_result"
    }
   ],
   "source": [
    "data_users.head()"
   ]
  },
  {
   "cell_type": "code",
   "execution_count": 147,
   "metadata": {
    "scrolled": true
   },
   "outputs": [
    {
     "data": {
      "text/html": [
       "<div>\n",
       "<style scoped>\n",
       "    .dataframe tbody tr th:only-of-type {\n",
       "        vertical-align: middle;\n",
       "    }\n",
       "\n",
       "    .dataframe tbody tr th {\n",
       "        vertical-align: top;\n",
       "    }\n",
       "\n",
       "    .dataframe thead th {\n",
       "        text-align: right;\n",
       "    }\n",
       "</style>\n",
       "<table border=\"1\" class=\"dataframe\">\n",
       "  <thead>\n",
       "    <tr style=\"text-align: right;\">\n",
       "      <th></th>\n",
       "      <th>user_id</th>\n",
       "      <th>month</th>\n",
       "      <th>month_calls_duration</th>\n",
       "      <th>calls_count</th>\n",
       "      <th>messages_count</th>\n",
       "      <th>mb_month</th>\n",
       "      <th>tariff</th>\n",
       "      <th>city</th>\n",
       "    </tr>\n",
       "  </thead>\n",
       "  <tbody>\n",
       "    <tr>\n",
       "      <td>0</td>\n",
       "      <td>1000</td>\n",
       "      <td>5</td>\n",
       "      <td>159.0</td>\n",
       "      <td>22.0</td>\n",
       "      <td>22.0</td>\n",
       "      <td>2256.0</td>\n",
       "      <td>ultra</td>\n",
       "      <td>Краснодар</td>\n",
       "    </tr>\n",
       "    <tr>\n",
       "      <td>1</td>\n",
       "      <td>1000</td>\n",
       "      <td>6</td>\n",
       "      <td>172.0</td>\n",
       "      <td>43.0</td>\n",
       "      <td>60.0</td>\n",
       "      <td>23257.0</td>\n",
       "      <td>ultra</td>\n",
       "      <td>Краснодар</td>\n",
       "    </tr>\n",
       "    <tr>\n",
       "      <td>2</td>\n",
       "      <td>1000</td>\n",
       "      <td>7</td>\n",
       "      <td>340.0</td>\n",
       "      <td>47.0</td>\n",
       "      <td>75.0</td>\n",
       "      <td>14016.0</td>\n",
       "      <td>ultra</td>\n",
       "      <td>Краснодар</td>\n",
       "    </tr>\n",
       "    <tr>\n",
       "      <td>3</td>\n",
       "      <td>1000</td>\n",
       "      <td>8</td>\n",
       "      <td>408.0</td>\n",
       "      <td>52.0</td>\n",
       "      <td>81.0</td>\n",
       "      <td>14070.0</td>\n",
       "      <td>ultra</td>\n",
       "      <td>Краснодар</td>\n",
       "    </tr>\n",
       "    <tr>\n",
       "      <td>4</td>\n",
       "      <td>1000</td>\n",
       "      <td>9</td>\n",
       "      <td>466.0</td>\n",
       "      <td>58.0</td>\n",
       "      <td>57.0</td>\n",
       "      <td>14581.0</td>\n",
       "      <td>ultra</td>\n",
       "      <td>Краснодар</td>\n",
       "    </tr>\n",
       "  </tbody>\n",
       "</table>\n",
       "</div>"
      ],
      "text/plain": [
       "   user_id  month  month_calls_duration  calls_count  messages_count  \\\n",
       "0     1000      5                 159.0         22.0            22.0   \n",
       "1     1000      6                 172.0         43.0            60.0   \n",
       "2     1000      7                 340.0         47.0            75.0   \n",
       "3     1000      8                 408.0         52.0            81.0   \n",
       "4     1000      9                 466.0         58.0            57.0   \n",
       "\n",
       "   mb_month tariff       city  \n",
       "0    2256.0  ultra  Краснодар  \n",
       "1   23257.0  ultra  Краснодар  \n",
       "2   14016.0  ultra  Краснодар  \n",
       "3   14070.0  ultra  Краснодар  \n",
       "4   14581.0  ultra  Краснодар  "
      ]
     },
     "execution_count": 147,
     "metadata": {},
     "output_type": "execute_result"
    }
   ],
   "source": [
    "#Выберем из таблицы пользователей стобцы, чтобы добавить информацию о тарифах:\n",
    "users_part = data_users[['user_id', 'tariff', 'city']]\n",
    "data_month = data_month.merge(users_part, on='user_id', how='left')\n",
    "data_month.head()"
   ]
  },
  {
   "cell_type": "markdown",
   "metadata": {},
   "source": [
    "Не хватает данных о тарифных планах. Добавим их в получившуюся таблицу."
   ]
  },
  {
   "cell_type": "code",
   "execution_count": 148,
   "metadata": {},
   "outputs": [
    {
     "data": {
      "text/html": [
       "<div>\n",
       "<style scoped>\n",
       "    .dataframe tbody tr th:only-of-type {\n",
       "        vertical-align: middle;\n",
       "    }\n",
       "\n",
       "    .dataframe tbody tr th {\n",
       "        vertical-align: top;\n",
       "    }\n",
       "\n",
       "    .dataframe thead th {\n",
       "        text-align: right;\n",
       "    }\n",
       "</style>\n",
       "<table border=\"1\" class=\"dataframe\">\n",
       "  <thead>\n",
       "    <tr style=\"text-align: right;\">\n",
       "      <th></th>\n",
       "      <th>messages_included</th>\n",
       "      <th>mb_per_month_included</th>\n",
       "      <th>minutes_included</th>\n",
       "      <th>rub_monthly_fee</th>\n",
       "      <th>rub_per_gb</th>\n",
       "      <th>rub_per_message</th>\n",
       "      <th>rub_per_minute</th>\n",
       "      <th>tariff_name</th>\n",
       "    </tr>\n",
       "  </thead>\n",
       "  <tbody>\n",
       "    <tr>\n",
       "      <td>0</td>\n",
       "      <td>50</td>\n",
       "      <td>15360</td>\n",
       "      <td>500</td>\n",
       "      <td>550</td>\n",
       "      <td>200</td>\n",
       "      <td>3</td>\n",
       "      <td>3</td>\n",
       "      <td>smart</td>\n",
       "    </tr>\n",
       "    <tr>\n",
       "      <td>1</td>\n",
       "      <td>1000</td>\n",
       "      <td>30720</td>\n",
       "      <td>3000</td>\n",
       "      <td>1950</td>\n",
       "      <td>150</td>\n",
       "      <td>1</td>\n",
       "      <td>1</td>\n",
       "      <td>ultra</td>\n",
       "    </tr>\n",
       "  </tbody>\n",
       "</table>\n",
       "</div>"
      ],
      "text/plain": [
       "   messages_included  mb_per_month_included  minutes_included  \\\n",
       "0                 50                  15360               500   \n",
       "1               1000                  30720              3000   \n",
       "\n",
       "   rub_monthly_fee  rub_per_gb  rub_per_message  rub_per_minute tariff_name  \n",
       "0              550         200                3               3       smart  \n",
       "1             1950         150                1               1       ultra  "
      ]
     },
     "execution_count": 148,
     "metadata": {},
     "output_type": "execute_result"
    }
   ],
   "source": [
    "data_tariffs.head()"
   ]
  },
  {
   "cell_type": "markdown",
   "metadata": {},
   "source": [
    "Чтобы приклеить таблицу с тарифами, необходимо изменить имя столбца, по которому будет происходить присоединение."
   ]
  },
  {
   "cell_type": "code",
   "execution_count": 149,
   "metadata": {},
   "outputs": [
    {
     "data": {
      "text/html": [
       "<div>\n",
       "<style scoped>\n",
       "    .dataframe tbody tr th:only-of-type {\n",
       "        vertical-align: middle;\n",
       "    }\n",
       "\n",
       "    .dataframe tbody tr th {\n",
       "        vertical-align: top;\n",
       "    }\n",
       "\n",
       "    .dataframe thead th {\n",
       "        text-align: right;\n",
       "    }\n",
       "</style>\n",
       "<table border=\"1\" class=\"dataframe\">\n",
       "  <thead>\n",
       "    <tr style=\"text-align: right;\">\n",
       "      <th></th>\n",
       "      <th>messages_included</th>\n",
       "      <th>mb_per_month_included</th>\n",
       "      <th>minutes_included</th>\n",
       "      <th>rub_monthly_fee</th>\n",
       "      <th>rub_per_gb</th>\n",
       "      <th>rub_per_message</th>\n",
       "      <th>rub_per_minute</th>\n",
       "      <th>tariff</th>\n",
       "    </tr>\n",
       "  </thead>\n",
       "  <tbody>\n",
       "    <tr>\n",
       "      <td>0</td>\n",
       "      <td>50</td>\n",
       "      <td>15360</td>\n",
       "      <td>500</td>\n",
       "      <td>550</td>\n",
       "      <td>200</td>\n",
       "      <td>3</td>\n",
       "      <td>3</td>\n",
       "      <td>smart</td>\n",
       "    </tr>\n",
       "    <tr>\n",
       "      <td>1</td>\n",
       "      <td>1000</td>\n",
       "      <td>30720</td>\n",
       "      <td>3000</td>\n",
       "      <td>1950</td>\n",
       "      <td>150</td>\n",
       "      <td>1</td>\n",
       "      <td>1</td>\n",
       "      <td>ultra</td>\n",
       "    </tr>\n",
       "  </tbody>\n",
       "</table>\n",
       "</div>"
      ],
      "text/plain": [
       "   messages_included  mb_per_month_included  minutes_included  \\\n",
       "0                 50                  15360               500   \n",
       "1               1000                  30720              3000   \n",
       "\n",
       "   rub_monthly_fee  rub_per_gb  rub_per_message  rub_per_minute tariff  \n",
       "0              550         200                3               3  smart  \n",
       "1             1950         150                1               1  ultra  "
      ]
     },
     "execution_count": 149,
     "metadata": {},
     "output_type": "execute_result"
    }
   ],
   "source": [
    "data_tariffs = data_tariffs.rename(columns={'tariff_name': 'tariff'})\n",
    "data_tariffs.head()"
   ]
  },
  {
   "cell_type": "code",
   "execution_count": 150,
   "metadata": {},
   "outputs": [
    {
     "name": "stdout",
     "output_type": "stream",
     "text": [
      "<class 'pandas.core.frame.DataFrame'>\n",
      "Int64Index: 3214 entries, 0 to 3213\n",
      "Data columns (total 15 columns):\n",
      "user_id                  3214 non-null int64\n",
      "month                    3214 non-null int64\n",
      "month_calls_duration     3174 non-null float64\n",
      "calls_count              3174 non-null float64\n",
      "messages_count           2717 non-null float64\n",
      "mb_month                 3203 non-null float64\n",
      "tariff                   3214 non-null object\n",
      "city                     3214 non-null object\n",
      "messages_included        3214 non-null int64\n",
      "mb_per_month_included    3214 non-null int64\n",
      "minutes_included         3214 non-null int64\n",
      "rub_monthly_fee          3214 non-null int64\n",
      "rub_per_gb               3214 non-null int64\n",
      "rub_per_message          3214 non-null int64\n",
      "rub_per_minute           3214 non-null int64\n",
      "dtypes: float64(4), int64(9), object(2)\n",
      "memory usage: 401.8+ KB\n"
     ]
    }
   ],
   "source": [
    "data_month = data_month.merge(data_tariffs, on='tariff', how='left')\n",
    "data_month.info()"
   ]
  },
  {
   "cell_type": "markdown",
   "metadata": {},
   "source": [
    "Все нужные столбцы на месте, но необходимо снова изменить типа данных."
   ]
  },
  {
   "cell_type": "code",
   "execution_count": 151,
   "metadata": {},
   "outputs": [
    {
     "data": {
      "text/plain": [
       "user_id                    0\n",
       "month                      0\n",
       "month_calls_duration      40\n",
       "calls_count               40\n",
       "messages_count           497\n",
       "mb_month                  11\n",
       "tariff                     0\n",
       "city                       0\n",
       "messages_included          0\n",
       "mb_per_month_included      0\n",
       "minutes_included           0\n",
       "rub_monthly_fee            0\n",
       "rub_per_gb                 0\n",
       "rub_per_message            0\n",
       "rub_per_minute             0\n",
       "dtype: int64"
      ]
     },
     "execution_count": 151,
     "metadata": {},
     "output_type": "execute_result"
    }
   ],
   "source": [
    "#перед изменением типа данных проверим NaNы\n",
    "data_month.isna().sum()"
   ]
  },
  {
   "cell_type": "code",
   "execution_count": 152,
   "metadata": {},
   "outputs": [],
   "source": [
    "data_month=data_month.fillna(0)"
   ]
  },
  {
   "cell_type": "code",
   "execution_count": 153,
   "metadata": {},
   "outputs": [],
   "source": [
    "columns=['month_calls_duration', 'calls_count', 'messages_count', 'mb_month']\n",
    "for column in data_month.columns:\n",
    "    if column in columns:\n",
    "        data_month[column]=data_month[column].astype('int')"
   ]
  },
  {
   "cell_type": "code",
   "execution_count": 154,
   "metadata": {},
   "outputs": [
    {
     "name": "stdout",
     "output_type": "stream",
     "text": [
      "<class 'pandas.core.frame.DataFrame'>\n",
      "Int64Index: 3214 entries, 0 to 3213\n",
      "Data columns (total 15 columns):\n",
      "user_id                  3214 non-null int64\n",
      "month                    3214 non-null int64\n",
      "month_calls_duration     3214 non-null int64\n",
      "calls_count              3214 non-null int64\n",
      "messages_count           3214 non-null int64\n",
      "mb_month                 3214 non-null int64\n",
      "tariff                   3214 non-null object\n",
      "city                     3214 non-null object\n",
      "messages_included        3214 non-null int64\n",
      "mb_per_month_included    3214 non-null int64\n",
      "minutes_included         3214 non-null int64\n",
      "rub_monthly_fee          3214 non-null int64\n",
      "rub_per_gb               3214 non-null int64\n",
      "rub_per_message          3214 non-null int64\n",
      "rub_per_minute           3214 non-null int64\n",
      "dtypes: int64(13), object(2)\n",
      "memory usage: 401.8+ KB\n"
     ]
    }
   ],
   "source": [
    "data_month.info()"
   ]
  },
  {
   "cell_type": "code",
   "execution_count": 155,
   "metadata": {},
   "outputs": [
    {
     "data": {
      "text/plain": [
       "0"
      ]
     },
     "execution_count": 155,
     "metadata": {},
     "output_type": "execute_result"
    }
   ],
   "source": [
    "data_month.duplicated().sum()"
   ]
  },
  {
   "cell_type": "code",
   "execution_count": 156,
   "metadata": {},
   "outputs": [
    {
     "data": {
      "text/html": [
       "<div>\n",
       "<style scoped>\n",
       "    .dataframe tbody tr th:only-of-type {\n",
       "        vertical-align: middle;\n",
       "    }\n",
       "\n",
       "    .dataframe tbody tr th {\n",
       "        vertical-align: top;\n",
       "    }\n",
       "\n",
       "    .dataframe thead th {\n",
       "        text-align: right;\n",
       "    }\n",
       "</style>\n",
       "<table border=\"1\" class=\"dataframe\">\n",
       "  <thead>\n",
       "    <tr style=\"text-align: right;\">\n",
       "      <th></th>\n",
       "      <th>user_id</th>\n",
       "      <th>month</th>\n",
       "      <th>month_calls_duration</th>\n",
       "      <th>calls_count</th>\n",
       "      <th>messages_count</th>\n",
       "      <th>mb_month</th>\n",
       "      <th>tariff</th>\n",
       "      <th>city</th>\n",
       "      <th>messages_included</th>\n",
       "      <th>mb_per_month_included</th>\n",
       "      <th>minutes_included</th>\n",
       "      <th>rub_monthly_fee</th>\n",
       "      <th>rub_per_gb</th>\n",
       "      <th>rub_per_message</th>\n",
       "      <th>rub_per_minute</th>\n",
       "    </tr>\n",
       "  </thead>\n",
       "  <tbody>\n",
       "    <tr>\n",
       "      <td>0</td>\n",
       "      <td>1000</td>\n",
       "      <td>5</td>\n",
       "      <td>159</td>\n",
       "      <td>22</td>\n",
       "      <td>22</td>\n",
       "      <td>2256</td>\n",
       "      <td>ultra</td>\n",
       "      <td>Краснодар</td>\n",
       "      <td>1000</td>\n",
       "      <td>30720</td>\n",
       "      <td>3000</td>\n",
       "      <td>1950</td>\n",
       "      <td>150</td>\n",
       "      <td>1</td>\n",
       "      <td>1</td>\n",
       "    </tr>\n",
       "    <tr>\n",
       "      <td>1</td>\n",
       "      <td>1000</td>\n",
       "      <td>6</td>\n",
       "      <td>172</td>\n",
       "      <td>43</td>\n",
       "      <td>60</td>\n",
       "      <td>23257</td>\n",
       "      <td>ultra</td>\n",
       "      <td>Краснодар</td>\n",
       "      <td>1000</td>\n",
       "      <td>30720</td>\n",
       "      <td>3000</td>\n",
       "      <td>1950</td>\n",
       "      <td>150</td>\n",
       "      <td>1</td>\n",
       "      <td>1</td>\n",
       "    </tr>\n",
       "    <tr>\n",
       "      <td>2</td>\n",
       "      <td>1000</td>\n",
       "      <td>7</td>\n",
       "      <td>340</td>\n",
       "      <td>47</td>\n",
       "      <td>75</td>\n",
       "      <td>14016</td>\n",
       "      <td>ultra</td>\n",
       "      <td>Краснодар</td>\n",
       "      <td>1000</td>\n",
       "      <td>30720</td>\n",
       "      <td>3000</td>\n",
       "      <td>1950</td>\n",
       "      <td>150</td>\n",
       "      <td>1</td>\n",
       "      <td>1</td>\n",
       "    </tr>\n",
       "    <tr>\n",
       "      <td>3</td>\n",
       "      <td>1000</td>\n",
       "      <td>8</td>\n",
       "      <td>408</td>\n",
       "      <td>52</td>\n",
       "      <td>81</td>\n",
       "      <td>14070</td>\n",
       "      <td>ultra</td>\n",
       "      <td>Краснодар</td>\n",
       "      <td>1000</td>\n",
       "      <td>30720</td>\n",
       "      <td>3000</td>\n",
       "      <td>1950</td>\n",
       "      <td>150</td>\n",
       "      <td>1</td>\n",
       "      <td>1</td>\n",
       "    </tr>\n",
       "    <tr>\n",
       "      <td>4</td>\n",
       "      <td>1000</td>\n",
       "      <td>9</td>\n",
       "      <td>466</td>\n",
       "      <td>58</td>\n",
       "      <td>57</td>\n",
       "      <td>14581</td>\n",
       "      <td>ultra</td>\n",
       "      <td>Краснодар</td>\n",
       "      <td>1000</td>\n",
       "      <td>30720</td>\n",
       "      <td>3000</td>\n",
       "      <td>1950</td>\n",
       "      <td>150</td>\n",
       "      <td>1</td>\n",
       "      <td>1</td>\n",
       "    </tr>\n",
       "  </tbody>\n",
       "</table>\n",
       "</div>"
      ],
      "text/plain": [
       "   user_id  month  month_calls_duration  calls_count  messages_count  \\\n",
       "0     1000      5                   159           22              22   \n",
       "1     1000      6                   172           43              60   \n",
       "2     1000      7                   340           47              75   \n",
       "3     1000      8                   408           52              81   \n",
       "4     1000      9                   466           58              57   \n",
       "\n",
       "   mb_month tariff       city  messages_included  mb_per_month_included  \\\n",
       "0      2256  ultra  Краснодар               1000                  30720   \n",
       "1     23257  ultra  Краснодар               1000                  30720   \n",
       "2     14016  ultra  Краснодар               1000                  30720   \n",
       "3     14070  ultra  Краснодар               1000                  30720   \n",
       "4     14581  ultra  Краснодар               1000                  30720   \n",
       "\n",
       "   minutes_included  rub_monthly_fee  rub_per_gb  rub_per_message  \\\n",
       "0              3000             1950         150                1   \n",
       "1              3000             1950         150                1   \n",
       "2              3000             1950         150                1   \n",
       "3              3000             1950         150                1   \n",
       "4              3000             1950         150                1   \n",
       "\n",
       "   rub_per_minute  \n",
       "0               1  \n",
       "1               1  \n",
       "2               1  \n",
       "3               1  \n",
       "4               1  "
      ]
     },
     "execution_count": 156,
     "metadata": {},
     "output_type": "execute_result"
    }
   ],
   "source": [
    "data_month.head()"
   ]
  },
  {
   "cell_type": "markdown",
   "metadata": {},
   "source": [
    "Вычтем бесплатный лимит из суммарного количества звонков, сообщений и интернет-трафика; остаток умножим на значение из тарифного плана"
   ]
  },
  {
   "cell_type": "code",
   "execution_count": 157,
   "metadata": {},
   "outputs": [],
   "source": [
    "def over_tariff(row):\n",
    "    sms = (row['messages_count'] - row['messages_included']) * row['rub_per_message']\n",
    "    mins = (row['month_calls_duration'] - row['minutes_included']) * row['rub_per_minute']\n",
    "    gbs = np.ceil((row['mb_month'] - row['mb_per_month_included']) * row['rub_per_gb'] / 1024)\n",
    "    total = 0\n",
    "    for i in [sms, mins, gbs]:\n",
    "        if i > 0:\n",
    "            total += i\n",
    "    return total"
   ]
  },
  {
   "cell_type": "code",
   "execution_count": 158,
   "metadata": {},
   "outputs": [],
   "source": [
    "data_month['over_tariff'] = data_month.apply(over_tariff, axis=1)"
   ]
  },
  {
   "cell_type": "markdown",
   "metadata": {},
   "source": [
    "Прибавим абонентскую плату, соответствующую тарифному плану."
   ]
  },
  {
   "cell_type": "code",
   "execution_count": 159,
   "metadata": {},
   "outputs": [],
   "source": [
    "data_month['revenue'] = data_month['rub_monthly_fee'] + data_month['over_tariff']"
   ]
  },
  {
   "cell_type": "code",
   "execution_count": 160,
   "metadata": {},
   "outputs": [
    {
     "data": {
      "text/html": [
       "<div>\n",
       "<style scoped>\n",
       "    .dataframe tbody tr th:only-of-type {\n",
       "        vertical-align: middle;\n",
       "    }\n",
       "\n",
       "    .dataframe tbody tr th {\n",
       "        vertical-align: top;\n",
       "    }\n",
       "\n",
       "    .dataframe thead th {\n",
       "        text-align: right;\n",
       "    }\n",
       "</style>\n",
       "<table border=\"1\" class=\"dataframe\">\n",
       "  <thead>\n",
       "    <tr style=\"text-align: right;\">\n",
       "      <th></th>\n",
       "      <th>user_id</th>\n",
       "      <th>month</th>\n",
       "      <th>month_calls_duration</th>\n",
       "      <th>calls_count</th>\n",
       "      <th>messages_count</th>\n",
       "      <th>mb_month</th>\n",
       "      <th>tariff</th>\n",
       "      <th>city</th>\n",
       "      <th>messages_included</th>\n",
       "      <th>mb_per_month_included</th>\n",
       "      <th>minutes_included</th>\n",
       "      <th>rub_monthly_fee</th>\n",
       "      <th>rub_per_gb</th>\n",
       "      <th>rub_per_message</th>\n",
       "      <th>rub_per_minute</th>\n",
       "      <th>over_tariff</th>\n",
       "      <th>revenue</th>\n",
       "    </tr>\n",
       "  </thead>\n",
       "  <tbody>\n",
       "    <tr>\n",
       "      <td>0</td>\n",
       "      <td>1000</td>\n",
       "      <td>5</td>\n",
       "      <td>159</td>\n",
       "      <td>22</td>\n",
       "      <td>22</td>\n",
       "      <td>2256</td>\n",
       "      <td>ultra</td>\n",
       "      <td>Краснодар</td>\n",
       "      <td>1000</td>\n",
       "      <td>30720</td>\n",
       "      <td>3000</td>\n",
       "      <td>1950</td>\n",
       "      <td>150</td>\n",
       "      <td>1</td>\n",
       "      <td>1</td>\n",
       "      <td>0.0</td>\n",
       "      <td>1950.0</td>\n",
       "    </tr>\n",
       "    <tr>\n",
       "      <td>1</td>\n",
       "      <td>1000</td>\n",
       "      <td>6</td>\n",
       "      <td>172</td>\n",
       "      <td>43</td>\n",
       "      <td>60</td>\n",
       "      <td>23257</td>\n",
       "      <td>ultra</td>\n",
       "      <td>Краснодар</td>\n",
       "      <td>1000</td>\n",
       "      <td>30720</td>\n",
       "      <td>3000</td>\n",
       "      <td>1950</td>\n",
       "      <td>150</td>\n",
       "      <td>1</td>\n",
       "      <td>1</td>\n",
       "      <td>0.0</td>\n",
       "      <td>1950.0</td>\n",
       "    </tr>\n",
       "    <tr>\n",
       "      <td>2</td>\n",
       "      <td>1000</td>\n",
       "      <td>7</td>\n",
       "      <td>340</td>\n",
       "      <td>47</td>\n",
       "      <td>75</td>\n",
       "      <td>14016</td>\n",
       "      <td>ultra</td>\n",
       "      <td>Краснодар</td>\n",
       "      <td>1000</td>\n",
       "      <td>30720</td>\n",
       "      <td>3000</td>\n",
       "      <td>1950</td>\n",
       "      <td>150</td>\n",
       "      <td>1</td>\n",
       "      <td>1</td>\n",
       "      <td>0.0</td>\n",
       "      <td>1950.0</td>\n",
       "    </tr>\n",
       "    <tr>\n",
       "      <td>3</td>\n",
       "      <td>1000</td>\n",
       "      <td>8</td>\n",
       "      <td>408</td>\n",
       "      <td>52</td>\n",
       "      <td>81</td>\n",
       "      <td>14070</td>\n",
       "      <td>ultra</td>\n",
       "      <td>Краснодар</td>\n",
       "      <td>1000</td>\n",
       "      <td>30720</td>\n",
       "      <td>3000</td>\n",
       "      <td>1950</td>\n",
       "      <td>150</td>\n",
       "      <td>1</td>\n",
       "      <td>1</td>\n",
       "      <td>0.0</td>\n",
       "      <td>1950.0</td>\n",
       "    </tr>\n",
       "    <tr>\n",
       "      <td>4</td>\n",
       "      <td>1000</td>\n",
       "      <td>9</td>\n",
       "      <td>466</td>\n",
       "      <td>58</td>\n",
       "      <td>57</td>\n",
       "      <td>14581</td>\n",
       "      <td>ultra</td>\n",
       "      <td>Краснодар</td>\n",
       "      <td>1000</td>\n",
       "      <td>30720</td>\n",
       "      <td>3000</td>\n",
       "      <td>1950</td>\n",
       "      <td>150</td>\n",
       "      <td>1</td>\n",
       "      <td>1</td>\n",
       "      <td>0.0</td>\n",
       "      <td>1950.0</td>\n",
       "    </tr>\n",
       "  </tbody>\n",
       "</table>\n",
       "</div>"
      ],
      "text/plain": [
       "   user_id  month  month_calls_duration  calls_count  messages_count  \\\n",
       "0     1000      5                   159           22              22   \n",
       "1     1000      6                   172           43              60   \n",
       "2     1000      7                   340           47              75   \n",
       "3     1000      8                   408           52              81   \n",
       "4     1000      9                   466           58              57   \n",
       "\n",
       "   mb_month tariff       city  messages_included  mb_per_month_included  \\\n",
       "0      2256  ultra  Краснодар               1000                  30720   \n",
       "1     23257  ultra  Краснодар               1000                  30720   \n",
       "2     14016  ultra  Краснодар               1000                  30720   \n",
       "3     14070  ultra  Краснодар               1000                  30720   \n",
       "4     14581  ultra  Краснодар               1000                  30720   \n",
       "\n",
       "   minutes_included  rub_monthly_fee  rub_per_gb  rub_per_message  \\\n",
       "0              3000             1950         150                1   \n",
       "1              3000             1950         150                1   \n",
       "2              3000             1950         150                1   \n",
       "3              3000             1950         150                1   \n",
       "4              3000             1950         150                1   \n",
       "\n",
       "   rub_per_minute  over_tariff  revenue  \n",
       "0               1          0.0   1950.0  \n",
       "1               1          0.0   1950.0  \n",
       "2               1          0.0   1950.0  \n",
       "3               1          0.0   1950.0  \n",
       "4               1          0.0   1950.0  "
      ]
     },
     "execution_count": 160,
     "metadata": {},
     "output_type": "execute_result"
    }
   ],
   "source": [
    "data_month.head()"
   ]
  },
  {
   "cell_type": "markdown",
   "metadata": {},
   "source": [
    "## Анализ и описание данных."
   ]
  },
  {
   "cell_type": "markdown",
   "metadata": {},
   "source": [
    "Опишем поведение клиентов оператора, исходя из выборки. \n",
    "- Сколько минут разговора, сколько сообщений и какой объём интернет-трафика требуется пользователям каждого тарифа в месяц?\n",
    "- Посчитайте среднее количество, дисперсию и стандартное отклонение. \n",
    "- Постройте гистограммы. Опишите распределения."
   ]
  },
  {
   "cell_type": "markdown",
   "metadata": {},
   "source": [
    "**Длительность звонков.**"
   ]
  },
  {
   "cell_type": "code",
   "execution_count": 161,
   "metadata": {},
   "outputs": [
    {
     "data": {
      "image/png": "[encoded data removed]",
      "text/plain": [
       "<Figure size 576x360 with 1 Axes>"
      ]
     },
     "metadata": {
      "needs_background": "light"
     },
     "output_type": "display_data"
    }
   ],
   "source": [
    "data_month[data_month['tariff'] == 'smart']['month_calls_duration']\\\n",
    ".plot(kind='hist', bins=50, alpha=0.7, grid=True, label='Smart', figsize=(8, 5))\n",
    "data_month[data_month['tariff'] == 'ultra']['month_calls_duration']\\\n",
    ".plot(kind='hist', bins=50, alpha=0.6, grid=True, label='Ultra', figsize=(8, 5))\n",
    "plt.legend(loc='upper right')\n",
    "plt.xlabel('Длительность')\n",
    "plt.ylabel('Частота')\n",
    "plt.title('Длительность звонков в месяц')\n",
    "plt.show()"
   ]
  },
  {
   "cell_type": "code",
   "execution_count": 162,
   "metadata": {},
   "outputs": [
    {
     "data": {
      "text/html": [
       "<style  type=\"text/css\" >\n",
       "</style><table id=\"T_a3f2eb3a_9718_11ec_9d47_02420a399355\" ><thead>    <tr>        <th class=\"blank level0\" ></th>        <th class=\"col_heading level0 col0\" >median</th>        <th class=\"col_heading level0 col1\" >mean</th>        <th class=\"col_heading level0 col2\" >var</th>        <th class=\"col_heading level0 col3\" >std</th>    </tr>    <tr>        <th class=\"blank level1\" ></th>        <th class=\"col_heading level1 col0\" >month_calls_duration</th>        <th class=\"col_heading level1 col1\" >month_calls_duration</th>        <th class=\"col_heading level1 col2\" >month_calls_duration</th>        <th class=\"col_heading level1 col3\" >month_calls_duration</th>    </tr>    <tr>        <th class=\"index_name level0\" >tariff</th>        <th class=\"blank\" ></th>        <th class=\"blank\" ></th>        <th class=\"blank\" ></th>        <th class=\"blank\" ></th>    </tr></thead><tbody>\n",
       "                <tr>\n",
       "                        <th id=\"T_a3f2eb3a_9718_11ec_9d47_02420a399355level0_row0\" class=\"row_heading level0 row0\" >smart</th>\n",
       "                        <td id=\"T_a3f2eb3a_9718_11ec_9d47_02420a399355row0_col0\" class=\"data row0 col0\" >422.00</td>\n",
       "                        <td id=\"T_a3f2eb3a_9718_11ec_9d47_02420a399355row0_col1\" class=\"data row0 col1\" >417.93</td>\n",
       "                        <td id=\"T_a3f2eb3a_9718_11ec_9d47_02420a399355row0_col2\" class=\"data row0 col2\" >36219.32</td>\n",
       "                        <td id=\"T_a3f2eb3a_9718_11ec_9d47_02420a399355row0_col3\" class=\"data row0 col3\" >190.31</td>\n",
       "            </tr>\n",
       "            <tr>\n",
       "                        <th id=\"T_a3f2eb3a_9718_11ec_9d47_02420a399355level0_row1\" class=\"row_heading level0 row1\" >ultra</th>\n",
       "                        <td id=\"T_a3f2eb3a_9718_11ec_9d47_02420a399355row1_col0\" class=\"data row1 col0\" >518.00</td>\n",
       "                        <td id=\"T_a3f2eb3a_9718_11ec_9d47_02420a399355row1_col1\" class=\"data row1 col1\" >526.62</td>\n",
       "                        <td id=\"T_a3f2eb3a_9718_11ec_9d47_02420a399355row1_col2\" class=\"data row1 col2\" >100873.63</td>\n",
       "                        <td id=\"T_a3f2eb3a_9718_11ec_9d47_02420a399355row1_col3\" class=\"data row1 col3\" >317.61</td>\n",
       "            </tr>\n",
       "    </tbody></table>"
      ],
      "text/plain": [
       "<pandas.io.formats.style.Styler at 0x7f3c631a8750>"
      ]
     },
     "metadata": {},
     "output_type": "display_data"
    }
   ],
   "source": [
    "calls_dur_stat = data_month.pivot_table(index= 'tariff', values= 'month_calls_duration', aggfunc= ['median', 'mean', 'var','std']).style.format('{:.2f}')\n",
    "display(calls_dur_stat)"
   ]
  },
  {
   "cell_type": "code",
   "execution_count": 163,
   "metadata": {},
   "outputs": [
    {
     "data": {
      "text/plain": [
       "754"
      ]
     },
     "execution_count": 163,
     "metadata": {},
     "output_type": "execute_result"
    }
   ],
   "source": [
    "data_month.query('tariff==\"smart\" and month_calls_duration>500')['user_id'].count()"
   ]
  },
  {
   "cell_type": "markdown",
   "metadata": {},
   "source": [
    "- В тарифе \"Смарт\" включено 500 минут разговора, и бОльшая часть пользователей не выходят за этот лимит: средняя продолжительность разговоров на тарифе - 418 минуты, в диапазоне 250-550 минут. Стоит отметить, что значительное число пользователей(около 33%) превышают включенное число минут. \n",
    "- Несмотря на то что лимит минут для пользователей \"Ультра\" составляет 3000 минут, средняя продолжительность разговоров не сильно отличается от абонентов на \"Смарте\" (526 минут). Все же из-за лимита они разговаривают дольше, в диапазоне от 250 до 900 минут, а выйти за пределы тарифного лимита вообще кажется невозможным. "
   ]
  },
  {
   "cell_type": "markdown",
   "metadata": {},
   "source": [
    "**Сообщения.**"
   ]
  },
  {
   "cell_type": "code",
   "execution_count": 164,
   "metadata": {},
   "outputs": [
    {
     "data": {
      "image/png": "[encoded data removed]",
      "text/plain": [
       "<Figure size 576x360 with 1 Axes>"
      ]
     },
     "metadata": {
      "needs_background": "light"
     },
     "output_type": "display_data"
    }
   ],
   "source": [
    "data_month[data_month['tariff'] == 'smart']['messages_count']\\\n",
    ".plot(kind='hist', bins=50, alpha=0.7, grid=True, label='Smart', figsize=(8, 5))\n",
    "data_month[data_month['tariff'] == 'ultra']['messages_count']\\\n",
    ".plot(kind='hist', bins=50, alpha=0.6, grid=True, label='Ultra', figsize=(8, 5))\n",
    "plt.legend(loc='upper right')\n",
    "plt.xlabel('Сообщения')\n",
    "plt.ylabel('Частота')\n",
    "plt.title('Количество сообщений')\n",
    "plt.show()"
   ]
  },
  {
   "cell_type": "code",
   "execution_count": 165,
   "metadata": {},
   "outputs": [
    {
     "data": {
      "text/html": [
       "<style  type=\"text/css\" >\n",
       "</style><table id=\"T_a45e3f34_9718_11ec_9d47_02420a399355\" ><thead>    <tr>        <th class=\"blank level0\" ></th>        <th class=\"col_heading level0 col0\" >median</th>        <th class=\"col_heading level0 col1\" >mean</th>        <th class=\"col_heading level0 col2\" >var</th>        <th class=\"col_heading level0 col3\" >std</th>    </tr>    <tr>        <th class=\"blank level1\" ></th>        <th class=\"col_heading level1 col0\" >messages_count</th>        <th class=\"col_heading level1 col1\" >messages_count</th>        <th class=\"col_heading level1 col2\" >messages_count</th>        <th class=\"col_heading level1 col3\" >messages_count</th>    </tr>    <tr>        <th class=\"index_name level0\" >tariff</th>        <th class=\"blank\" ></th>        <th class=\"blank\" ></th>        <th class=\"blank\" ></th>        <th class=\"blank\" ></th>    </tr></thead><tbody>\n",
       "                <tr>\n",
       "                        <th id=\"T_a45e3f34_9718_11ec_9d47_02420a399355level0_row0\" class=\"row_heading level0 row0\" >smart</th>\n",
       "                        <td id=\"T_a45e3f34_9718_11ec_9d47_02420a399355row0_col0\" class=\"data row0 col0\" >28.00</td>\n",
       "                        <td id=\"T_a45e3f34_9718_11ec_9d47_02420a399355row0_col1\" class=\"data row0 col1\" >33.38</td>\n",
       "                        <td id=\"T_a45e3f34_9718_11ec_9d47_02420a399355row0_col2\" class=\"data row0 col2\" >796.81</td>\n",
       "                        <td id=\"T_a45e3f34_9718_11ec_9d47_02420a399355row0_col3\" class=\"data row0 col3\" >28.23</td>\n",
       "            </tr>\n",
       "            <tr>\n",
       "                        <th id=\"T_a45e3f34_9718_11ec_9d47_02420a399355level0_row1\" class=\"row_heading level0 row1\" >ultra</th>\n",
       "                        <td id=\"T_a45e3f34_9718_11ec_9d47_02420a399355row1_col0\" class=\"data row1 col0\" >38.00</td>\n",
       "                        <td id=\"T_a45e3f34_9718_11ec_9d47_02420a399355row1_col1\" class=\"data row1 col1\" >49.36</td>\n",
       "                        <td id=\"T_a45e3f34_9718_11ec_9d47_02420a399355row1_col2\" class=\"data row1 col2\" >2285.27</td>\n",
       "                        <td id=\"T_a45e3f34_9718_11ec_9d47_02420a399355row1_col3\" class=\"data row1 col3\" >47.80</td>\n",
       "            </tr>\n",
       "    </tbody></table>"
      ],
      "text/plain": [
       "<pandas.io.formats.style.Styler at 0x7f3ce47c0e50>"
      ]
     },
     "metadata": {},
     "output_type": "display_data"
    }
   ],
   "source": [
    "mess_stat = data_month.pivot_table(index= 'tariff', values= 'messages_count', aggfunc= ['median', 'mean', 'var','std']).style.format('{:.2f}')\n",
    "display(mess_stat)"
   ]
  },
  {
   "cell_type": "code",
   "execution_count": 166,
   "metadata": {},
   "outputs": [
    {
     "data": {
      "text/plain": [
       "307"
      ]
     },
     "metadata": {},
     "output_type": "display_data"
    },
    {
     "data": {
      "text/plain": [
       "190"
      ]
     },
     "metadata": {},
     "output_type": "display_data"
    }
   ],
   "source": [
    "display(data_month.query('messages_count==0 and tariff==\"smart\"')['user_id'].count())\n",
    "display(data_month.query('messages_count==0 and tariff==\"ultra\"')['user_id'].count())"
   ]
  },
  {
   "cell_type": "code",
   "execution_count": 167,
   "metadata": {},
   "outputs": [
    {
     "data": {
      "text/plain": [
       "smart    2229\n",
       "ultra     985\n",
       "Name: tariff, dtype: int64"
      ]
     },
     "execution_count": 167,
     "metadata": {},
     "output_type": "execute_result"
    }
   ],
   "source": [
    "data_month['tariff'].value_counts()"
   ]
  },
  {
   "cell_type": "markdown",
   "metadata": {},
   "source": [
    "Абоненты обоих тарифов не любят смс-ки. 13% пользователей \"Смарта\" и 20% - \"Ультра\"  не пользуются сообщениями.\n",
    "Клиенты с тарифом \"Смарт\", которые выбирают общение через смс, отправляют до 50 сообщений в месяц, редко превышают тарифный лимит, среднее число смс для них - 33.\n",
    "На тарифе \"Ультра\", где число сообщений ограничивается 1000, среднее количество смс- около 50, основаная масса использующих сообщения находится в диапазоне до 100 сообщений. 15%  особенно общительных отправляют от 100 до 220 сообщений."
   ]
  },
  {
   "cell_type": "markdown",
   "metadata": {},
   "source": [
    "**Интернет-трафик.**"
   ]
  },
  {
   "cell_type": "code",
   "execution_count": 168,
   "metadata": {},
   "outputs": [
    {
     "data": {
      "text/plain": [
       "0        3\n",
       "1       23\n",
       "2       14\n",
       "3       14\n",
       "4       15\n",
       "        ..\n",
       "3209    17\n",
       "3210    20\n",
       "3211    18\n",
       "3212    17\n",
       "3213     1\n",
       "Name: gb_month, Length: 3214, dtype: int64"
      ]
     },
     "execution_count": 168,
     "metadata": {},
     "output_type": "execute_result"
    }
   ],
   "source": [
    "data_month['gb_month'] = np.ceil(data_month['mb_month']/1024).astype('int')\n",
    "data_month['gb_month']"
   ]
  },
  {
   "cell_type": "code",
   "execution_count": 169,
   "metadata": {},
   "outputs": [
    {
     "data": {
      "image/png": "[encoded data removed]",
      "text/plain": [
       "<Figure size 576x360 with 1 Axes>"
      ]
     },
     "metadata": {
      "needs_background": "light"
     },
     "output_type": "display_data"
    }
   ],
   "source": [
    "data_month[data_month['tariff'] == 'smart']['gb_month']\\\n",
    ".plot(kind='hist', bins=6, alpha=0.7, grid=True, label='Smart', figsize=(8, 5))\n",
    "data_month[data_month['tariff'] == 'ultra']['gb_month']\\\n",
    ".plot(kind='hist', bins=10, alpha=0.6, grid=True, label='Ultra', figsize=(8, 5))\n",
    "plt.legend(loc='upper right')\n",
    "plt.xlabel('Гб')\n",
    "plt.ylabel('Частота')\n",
    "plt.title('Объём интернет-трафика')\n",
    "plt.show()"
   ]
  },
  {
   "cell_type": "code",
   "execution_count": 100,
   "metadata": {},
   "outputs": [
    {
     "data": {
      "text/html": [
       "<style  type=\"text/css\" >\n",
       "</style><table id=\"T_46c67d12_9715_11ec_9d47_02420a399355\" ><thead>    <tr>        <th class=\"blank level0\" ></th>        <th class=\"col_heading level0 col0\" >median</th>        <th class=\"col_heading level0 col1\" >mean</th>        <th class=\"col_heading level0 col2\" >var</th>        <th class=\"col_heading level0 col3\" >std</th>    </tr>    <tr>        <th class=\"blank level1\" ></th>        <th class=\"col_heading level1 col0\" >gb_month</th>        <th class=\"col_heading level1 col1\" >gb_month</th>        <th class=\"col_heading level1 col2\" >gb_month</th>        <th class=\"col_heading level1 col3\" >gb_month</th>    </tr>    <tr>        <th class=\"index_name level0\" >tariff</th>        <th class=\"blank\" ></th>        <th class=\"blank\" ></th>        <th class=\"blank\" ></th>        <th class=\"blank\" ></th>    </tr></thead><tbody>\n",
       "                <tr>\n",
       "                        <th id=\"T_46c67d12_9715_11ec_9d47_02420a399355level0_row0\" class=\"row_heading level0 row0\" >smart</th>\n",
       "                        <td id=\"T_46c67d12_9715_11ec_9d47_02420a399355row0_col0\" class=\"data row0 col0\" >17.0</td>\n",
       "                        <td id=\"T_46c67d12_9715_11ec_9d47_02420a399355row0_col1\" class=\"data row0 col1\" >16.4</td>\n",
       "                        <td id=\"T_46c67d12_9715_11ec_9d47_02420a399355row0_col2\" class=\"data row0 col2\" >33.2</td>\n",
       "                        <td id=\"T_46c67d12_9715_11ec_9d47_02420a399355row0_col3\" class=\"data row0 col3\" >5.8</td>\n",
       "            </tr>\n",
       "            <tr>\n",
       "                        <th id=\"T_46c67d12_9715_11ec_9d47_02420a399355level0_row1\" class=\"row_heading level0 row1\" >ultra</th>\n",
       "                        <td id=\"T_46c67d12_9715_11ec_9d47_02420a399355row1_col0\" class=\"data row1 col0\" >19.0</td>\n",
       "                        <td id=\"T_46c67d12_9715_11ec_9d47_02420a399355row1_col1\" class=\"data row1 col1\" >19.5</td>\n",
       "                        <td id=\"T_46c67d12_9715_11ec_9d47_02420a399355row1_col2\" class=\"data row1 col2\" >97.3</td>\n",
       "                        <td id=\"T_46c67d12_9715_11ec_9d47_02420a399355row1_col3\" class=\"data row1 col3\" >9.9</td>\n",
       "            </tr>\n",
       "    </tbody></table>"
      ],
      "text/plain": [
       "<pandas.io.formats.style.Styler at 0x7f3c631ac250>"
      ]
     },
     "metadata": {},
     "output_type": "display_data"
    }
   ],
   "source": [
    "inet_stat = data_month.pivot_table(index= 'tariff', values= 'gb_month', aggfunc= ['median', 'mean', 'var','std']).style.format('{:.1f}')\n",
    "display(inet_stat)"
   ]
  },
  {
   "cell_type": "code",
   "execution_count": 101,
   "metadata": {},
   "outputs": [
    {
     "data": {
      "text/plain": [
       "1309"
      ]
     },
     "execution_count": 101,
     "metadata": {},
     "output_type": "execute_result"
    }
   ],
   "source": [
    "data_month.query('gb_month>15 and tariff==\"smart\"')['user_id'].count()"
   ]
  },
  {
   "cell_type": "markdown",
   "metadata": {},
   "source": [
    "Клиенты с тарифом \"Смарт\" потребляют в месяц в основном от 10 до 22 Гб трафика, бОльшая часть выходит за предел тарифа (15 Гб), среднее число Гб у них 16.4. Дополнительный трафик приобретают почти 59% пользователей.\n",
    "Пользователи \"Ультра\" используют в месяц больше Гб (19Гб в среднем), и за предел (30 Гб), установленный тарифными условиями, выходит 13%. Соответственно, диапазон потребляемых Гб в месяц у них больше: от 7 до 30. "
   ]
  },
  {
   "cell_type": "code",
   "execution_count": 102,
   "metadata": {},
   "outputs": [
    {
     "data": {
      "text/html": [
       "<div>\n",
       "<style scoped>\n",
       "    .dataframe tbody tr th:only-of-type {\n",
       "        vertical-align: middle;\n",
       "    }\n",
       "\n",
       "    .dataframe tbody tr th {\n",
       "        vertical-align: top;\n",
       "    }\n",
       "\n",
       "    .dataframe thead th {\n",
       "        text-align: right;\n",
       "    }\n",
       "</style>\n",
       "<table border=\"1\" class=\"dataframe\">\n",
       "  <thead>\n",
       "    <tr style=\"text-align: right;\">\n",
       "      <th></th>\n",
       "      <th>user_id</th>\n",
       "      <th>month</th>\n",
       "      <th>month_calls_duration</th>\n",
       "      <th>calls_count</th>\n",
       "      <th>messages_count</th>\n",
       "      <th>mb_month</th>\n",
       "      <th>tariff</th>\n",
       "      <th>city</th>\n",
       "      <th>messages_included</th>\n",
       "      <th>mb_per_month_included</th>\n",
       "      <th>minutes_included</th>\n",
       "      <th>rub_monthly_fee</th>\n",
       "      <th>rub_per_gb</th>\n",
       "      <th>rub_per_message</th>\n",
       "      <th>rub_per_minute</th>\n",
       "      <th>over_tariff</th>\n",
       "      <th>revenue</th>\n",
       "      <th>gb_month</th>\n",
       "    </tr>\n",
       "  </thead>\n",
       "  <tbody>\n",
       "    <tr>\n",
       "      <td>0</td>\n",
       "      <td>1000</td>\n",
       "      <td>5</td>\n",
       "      <td>159</td>\n",
       "      <td>22</td>\n",
       "      <td>22</td>\n",
       "      <td>2256</td>\n",
       "      <td>ultra</td>\n",
       "      <td>Краснодар</td>\n",
       "      <td>1000</td>\n",
       "      <td>30720</td>\n",
       "      <td>3000</td>\n",
       "      <td>1950</td>\n",
       "      <td>150</td>\n",
       "      <td>1</td>\n",
       "      <td>1</td>\n",
       "      <td>0.0</td>\n",
       "      <td>1950.0</td>\n",
       "      <td>3</td>\n",
       "    </tr>\n",
       "    <tr>\n",
       "      <td>1</td>\n",
       "      <td>1000</td>\n",
       "      <td>6</td>\n",
       "      <td>172</td>\n",
       "      <td>43</td>\n",
       "      <td>60</td>\n",
       "      <td>23257</td>\n",
       "      <td>ultra</td>\n",
       "      <td>Краснодар</td>\n",
       "      <td>1000</td>\n",
       "      <td>30720</td>\n",
       "      <td>3000</td>\n",
       "      <td>1950</td>\n",
       "      <td>150</td>\n",
       "      <td>1</td>\n",
       "      <td>1</td>\n",
       "      <td>0.0</td>\n",
       "      <td>1950.0</td>\n",
       "      <td>23</td>\n",
       "    </tr>\n",
       "    <tr>\n",
       "      <td>2</td>\n",
       "      <td>1000</td>\n",
       "      <td>7</td>\n",
       "      <td>340</td>\n",
       "      <td>47</td>\n",
       "      <td>75</td>\n",
       "      <td>14016</td>\n",
       "      <td>ultra</td>\n",
       "      <td>Краснодар</td>\n",
       "      <td>1000</td>\n",
       "      <td>30720</td>\n",
       "      <td>3000</td>\n",
       "      <td>1950</td>\n",
       "      <td>150</td>\n",
       "      <td>1</td>\n",
       "      <td>1</td>\n",
       "      <td>0.0</td>\n",
       "      <td>1950.0</td>\n",
       "      <td>14</td>\n",
       "    </tr>\n",
       "    <tr>\n",
       "      <td>3</td>\n",
       "      <td>1000</td>\n",
       "      <td>8</td>\n",
       "      <td>408</td>\n",
       "      <td>52</td>\n",
       "      <td>81</td>\n",
       "      <td>14070</td>\n",
       "      <td>ultra</td>\n",
       "      <td>Краснодар</td>\n",
       "      <td>1000</td>\n",
       "      <td>30720</td>\n",
       "      <td>3000</td>\n",
       "      <td>1950</td>\n",
       "      <td>150</td>\n",
       "      <td>1</td>\n",
       "      <td>1</td>\n",
       "      <td>0.0</td>\n",
       "      <td>1950.0</td>\n",
       "      <td>14</td>\n",
       "    </tr>\n",
       "    <tr>\n",
       "      <td>4</td>\n",
       "      <td>1000</td>\n",
       "      <td>9</td>\n",
       "      <td>466</td>\n",
       "      <td>58</td>\n",
       "      <td>57</td>\n",
       "      <td>14581</td>\n",
       "      <td>ultra</td>\n",
       "      <td>Краснодар</td>\n",
       "      <td>1000</td>\n",
       "      <td>30720</td>\n",
       "      <td>3000</td>\n",
       "      <td>1950</td>\n",
       "      <td>150</td>\n",
       "      <td>1</td>\n",
       "      <td>1</td>\n",
       "      <td>0.0</td>\n",
       "      <td>1950.0</td>\n",
       "      <td>15</td>\n",
       "    </tr>\n",
       "  </tbody>\n",
       "</table>\n",
       "</div>"
      ],
      "text/plain": [
       "   user_id  month  month_calls_duration  calls_count  messages_count  \\\n",
       "0     1000      5                   159           22              22   \n",
       "1     1000      6                   172           43              60   \n",
       "2     1000      7                   340           47              75   \n",
       "3     1000      8                   408           52              81   \n",
       "4     1000      9                   466           58              57   \n",
       "\n",
       "   mb_month tariff       city  messages_included  mb_per_month_included  \\\n",
       "0      2256  ultra  Краснодар               1000                  30720   \n",
       "1     23257  ultra  Краснодар               1000                  30720   \n",
       "2     14016  ultra  Краснодар               1000                  30720   \n",
       "3     14070  ultra  Краснодар               1000                  30720   \n",
       "4     14581  ultra  Краснодар               1000                  30720   \n",
       "\n",
       "   minutes_included  rub_monthly_fee  rub_per_gb  rub_per_message  \\\n",
       "0              3000             1950         150                1   \n",
       "1              3000             1950         150                1   \n",
       "2              3000             1950         150                1   \n",
       "3              3000             1950         150                1   \n",
       "4              3000             1950         150                1   \n",
       "\n",
       "   rub_per_minute  over_tariff  revenue  gb_month  \n",
       "0               1          0.0   1950.0         3  \n",
       "1               1          0.0   1950.0        23  \n",
       "2               1          0.0   1950.0        14  \n",
       "3               1          0.0   1950.0        14  \n",
       "4               1          0.0   1950.0        15  "
      ]
     },
     "execution_count": 102,
     "metadata": {},
     "output_type": "execute_result"
    }
   ],
   "source": [
    "data_month.head()"
   ]
  },
  {
   "cell_type": "code",
   "execution_count": 103,
   "metadata": {},
   "outputs": [
    {
     "data": {
      "image/png": "[encoded data removed]",
      "text/plain": [
       "<Figure size 576x360 with 1 Axes>"
      ]
     },
     "metadata": {
      "needs_background": "light"
     },
     "output_type": "display_data"
    }
   ],
   "source": [
    "data_month[data_month['tariff'] == 'smart']['revenue']\\\n",
    ".plot(kind='hist', bins=50, alpha=0.7, grid=True, label='Smart', figsize=(8, 5))\n",
    "data_month[data_month['tariff'] == 'ultra']['revenue']\\\n",
    ".plot(kind='hist', bins=50, alpha=0.6, grid=True, label='Ultra', figsize=(8, 5))\n",
    "plt.legend(loc='upper right')\n",
    "plt.xlabel('рублей')\n",
    "plt.ylabel('Частота')\n",
    "plt.title('Выручка')\n",
    "plt.show()"
   ]
  },
  {
   "cell_type": "code",
   "execution_count": 104,
   "metadata": {},
   "outputs": [
    {
     "data": {
      "text/html": [
       "<style  type=\"text/css\" >\n",
       "</style><table id=\"T_4734b67e_9715_11ec_9d47_02420a399355\" ><thead>    <tr>        <th class=\"blank level0\" ></th>        <th class=\"col_heading level0 col0\" >median</th>        <th class=\"col_heading level0 col1\" >mean</th>        <th class=\"col_heading level0 col2\" >var</th>        <th class=\"col_heading level0 col3\" >std</th>    </tr>    <tr>        <th class=\"blank level1\" ></th>        <th class=\"col_heading level1 col0\" >revenue</th>        <th class=\"col_heading level1 col1\" >revenue</th>        <th class=\"col_heading level1 col2\" >revenue</th>        <th class=\"col_heading level1 col3\" >revenue</th>    </tr>    <tr>        <th class=\"index_name level0\" >tariff</th>        <th class=\"blank\" ></th>        <th class=\"blank\" ></th>        <th class=\"blank\" ></th>        <th class=\"blank\" ></th>    </tr></thead><tbody>\n",
       "                <tr>\n",
       "                        <th id=\"T_4734b67e_9715_11ec_9d47_02420a399355level0_row0\" class=\"row_heading level0 row0\" >smart</th>\n",
       "                        <td id=\"T_4734b67e_9715_11ec_9d47_02420a399355row0_col0\" class=\"data row0 col0\" >960.0</td>\n",
       "                        <td id=\"T_4734b67e_9715_11ec_9d47_02420a399355row0_col1\" class=\"data row0 col1\" >1233.6</td>\n",
       "                        <td id=\"T_4734b67e_9715_11ec_9d47_02420a399355row0_col2\" class=\"data row0 col2\" >620699.7</td>\n",
       "                        <td id=\"T_4734b67e_9715_11ec_9d47_02420a399355row0_col3\" class=\"data row0 col3\" >787.8</td>\n",
       "            </tr>\n",
       "            <tr>\n",
       "                        <th id=\"T_4734b67e_9715_11ec_9d47_02420a399355level0_row1\" class=\"row_heading level0 row1\" >ultra</th>\n",
       "                        <td id=\"T_4734b67e_9715_11ec_9d47_02420a399355row1_col0\" class=\"data row1 col0\" >1950.0</td>\n",
       "                        <td id=\"T_4734b67e_9715_11ec_9d47_02420a399355row1_col1\" class=\"data row1 col1\" >2060.6</td>\n",
       "                        <td id=\"T_4734b67e_9715_11ec_9d47_02420a399355row1_col2\" class=\"data row1 col2\" >127060.6</td>\n",
       "                        <td id=\"T_4734b67e_9715_11ec_9d47_02420a399355row1_col3\" class=\"data row1 col3\" >356.5</td>\n",
       "            </tr>\n",
       "    </tbody></table>"
      ],
      "text/plain": [
       "<pandas.io.formats.style.Styler at 0x7f3c63101b90>"
      ]
     },
     "metadata": {},
     "output_type": "display_data"
    }
   ],
   "source": [
    "revenue_stat = data_month.pivot_table(index= 'tariff', values= 'revenue', aggfunc= ['median', 'mean', 'var','std']).style.format('{:.1f}')\n",
    "display(revenue_stat)"
   ]
  },
  {
   "cell_type": "code",
   "execution_count": 105,
   "metadata": {},
   "outputs": [
    {
     "data": {
      "text/plain": [
       "851"
      ]
     },
     "execution_count": 105,
     "metadata": {},
     "output_type": "execute_result"
    }
   ],
   "source": [
    "data_month.query('tariff==\"ultra\" and revenue==1950')['user_id'].count()"
   ]
  },
  {
   "cell_type": "code",
   "execution_count": 106,
   "metadata": {},
   "outputs": [
    {
     "data": {
      "text/plain": [
       "2029690.0"
      ]
     },
     "metadata": {},
     "output_type": "display_data"
    },
    {
     "data": {
      "text/plain": [
       "2749786.0"
      ]
     },
     "metadata": {},
     "output_type": "display_data"
    }
   ],
   "source": [
    "#посмотрим на годовую выручку:\n",
    "display(data_month[data_month['tariff']=='ultra']['revenue'].sum())\n",
    "display(data_month[data_month['tariff']=='smart']['revenue'].sum())"
   ]
  },
  {
   "cell_type": "code",
   "execution_count": 107,
   "metadata": {},
   "outputs": [
    {
     "data": {
      "text/plain": [
       "110.5989847715736"
      ]
     },
     "metadata": {},
     "output_type": "display_data"
    },
    {
     "data": {
      "text/plain": [
       "683.6410946612831"
      ]
     },
     "metadata": {},
     "output_type": "display_data"
    }
   ],
   "source": [
    "display(data_month[data_month['tariff']=='ultra']['over_tariff'].mean())\n",
    "display(data_month[data_month['tariff']=='smart']['over_tariff'].mean())"
   ]
  },
  {
   "cell_type": "markdown",
   "metadata": {},
   "source": [
    "Как видно, пользователи \"Смарт\" чаще выходят за пределы тарифного плана и платят сверх абонентской платы в среднем 683руб, абоненты с \"Ультра\", в свою очередь, в подавляющем большинстве не переплачивают за связь. БОльшая годовая выручка у клиентов \"Смарт\" обусловлена их преобладающим количеством. Тем не менее, средний месячный платеж пользователя \"Ультра\" выше. "
   ]
  },
  {
   "cell_type": "markdown",
   "metadata": {},
   "source": [
    "## Проверка гипотез."
   ]
  },
  {
   "cell_type": "markdown",
   "metadata": {},
   "source": [
    "**Гипотеза о различии средней выручки пользователей тарифов «Ультра» и «Смарт».**"
   ]
  },
  {
   "cell_type": "markdown",
   "metadata": {},
   "source": [
    "Сформулируем нулевую и альтернативную гипотезы:\n",
    " - H₀: средняя выручка пользователей тарифов «Ультра» и «Смарт» равны;\n",
    " - H₁: средняя выручка пользователей тарифов «Ультра» и «Смарт» различаются."
   ]
  },
  {
   "cell_type": "markdown",
   "metadata": {},
   "source": [
    "Чтобы проверить гипотезу о равенстве среднего двух генеральных совокупностей по взятым из них независимым выборкам, используем функцию ttest_ind."
   ]
  },
  {
   "cell_type": "code",
   "execution_count": 108,
   "metadata": {},
   "outputs": [
    {
     "name": "stdout",
     "output_type": "stream",
     "text": [
      "p-значение: 1.620572799195892e-295\n",
      "Отвергаем нулевую гипотезу\n"
     ]
    }
   ],
   "source": [
    "#формируем выборки со среднемесячной выручкой по каждому тарифу:\n",
    "smart = data_month[data_month['tariff']=='smart']['revenue']\n",
    "ultra = data_month[data_month['tariff']=='ultra']['revenue']\n",
    "\n",
    "#установим критический уровень статистической значимости\n",
    "alpha = .05 \n",
    "\n",
    "#так как выборки разного размера и, возможно, \n",
    "#имеют разные дисперсии, указываем параметр equal_var\n",
    "results = st.ttest_ind(smart,\n",
    "                      ultra, equal_var = False)\n",
    "print('p-значение:', results.pvalue)\n",
    "\n",
    "if results.pvalue < alpha:\n",
    "    print(\"Отвергаем нулевую гипотезу\")\n",
    "else:\n",
    "    print(\"Не получилось отвергнуть нулевую гипотезу\") "
   ]
  },
  {
   "cell_type": "markdown",
   "metadata": {},
   "source": [
    "Проверка показала, что вероятность равенства выручек тарифов ничтожно мала, поэтому можем выдвинуть гипотезу, выручка рассматриваемых тарифов различается. "
   ]
  },
  {
   "cell_type": "code",
   "execution_count": 109,
   "metadata": {},
   "outputs": [
    {
     "data": {
      "text/plain": [
       "1234"
      ]
     },
     "metadata": {},
     "output_type": "display_data"
    },
    {
     "data": {
      "text/plain": [
       "2061"
      ]
     },
     "metadata": {},
     "output_type": "display_data"
    }
   ],
   "source": [
    "#посмотрим на простые расчеты: \n",
    "display(round(smart.mean()))\n",
    "display(round(ultra.mean()))"
   ]
  },
  {
   "cell_type": "markdown",
   "metadata": {},
   "source": [
    "Видим, что разница, действительно, существенна. "
   ]
  },
  {
   "cell_type": "markdown",
   "metadata": {},
   "source": [
    "**Гипототеза о различии средней выручки пользователей из Москвы и выручки пользователей из других регионов.**"
   ]
  },
  {
   "cell_type": "markdown",
   "metadata": {},
   "source": [
    "Сформулируем нулевую и альтернативную гипотезы:\n",
    " - H₀: средняя выручка пользователей из Москвы и пользователей других регионов равны;\n",
    " - H₁: средняя выручка пользователей из Москвы и пользователей других регионов различаются."
   ]
  },
  {
   "cell_type": "code",
   "execution_count": 110,
   "metadata": {},
   "outputs": [
    {
     "data": {
      "text/plain": [
       "Москва             611\n",
       "Санкт-Петербург    270\n",
       "Новосибирск         98\n",
       "Уфа                 95\n",
       "Краснодар           86\n",
       "                  ... \n",
       "Сургут               6\n",
       "Нижневартовск        6\n",
       "Химки                5\n",
       "Кемерово             5\n",
       "Иваново              2\n",
       "Name: city, Length: 76, dtype: int64"
      ]
     },
     "execution_count": 110,
     "metadata": {},
     "output_type": "execute_result"
    }
   ],
   "source": [
    "data_month['city'].value_counts()"
   ]
  },
  {
   "cell_type": "code",
   "execution_count": 111,
   "metadata": {},
   "outputs": [
    {
     "name": "stdout",
     "output_type": "stream",
     "text": [
      "p-значение: 0.4553974892423337\n",
      "Не получилось отвергнуть нулевую гипотезу\n"
     ]
    }
   ],
   "source": [
    "#формируем выборки:\n",
    "moscow_revenue = data_month[data_month['city'] == 'Москва']['revenue']\n",
    "others_revenue = data_month[data_month['city'] != 'Москва']['revenue']\n",
    "\n",
    "alpha = .05 \n",
    "\n",
    "results = st.ttest_ind(moscow_revenue,\n",
    "                      others_revenue, equal_var = False)\n",
    "print('p-значение:', results.pvalue)\n",
    "\n",
    "if results.pvalue < alpha:\n",
    "    print(\"Отвергаем нулевую гипотезу\")\n",
    "else:\n",
    "    print(\"Не получилось отвергнуть нулевую гипотезу\")"
   ]
  },
  {
   "cell_type": "markdown",
   "metadata": {},
   "source": [
    "P-значение (вероятность в 45% случайно получить равенство) больше уровня значимости, поэтому можем предположить, что существенных различий в выручке по Москве и регионам нет."
   ]
  },
  {
   "cell_type": "code",
   "execution_count": 112,
   "metadata": {},
   "outputs": [
    {
     "data": {
      "text/plain": [
       "1507"
      ]
     },
     "metadata": {},
     "output_type": "display_data"
    },
    {
     "data": {
      "text/plain": [
       "1482"
      ]
     },
     "metadata": {},
     "output_type": "display_data"
    }
   ],
   "source": [
    "display(round(moscow_revenue.mean()))\n",
    "display(round(others_revenue.mean()))"
   ]
  },
  {
   "cell_type": "markdown",
   "metadata": {},
   "source": [
    "Простое сравнение средних подтверждает результат проверки: разницу в 25 рублей нельзя считать существенной."
   ]
  },
  {
   "cell_type": "markdown",
   "metadata": {},
   "source": [
    "## Общий вывод."
   ]
  },
  {
   "cell_type": "markdown",
   "metadata": {},
   "source": [
    "1. При изучении общей информации было выявлено довольно мало проблем с данными. Пропуски, обнаруженные в таблице с пользователями, не были удалены или заполнены, так как пропуск означает то, что клиент все еще подключен к указанному тарифу. Во всех таблицах изменен формат записи дат и перезаписаны данные float на int. Из таблицы интернет-сессий удален не несущий важной информации столбец **'Unnamed: 0'**.\n",
    "2. Для изучения поведения пользователей разных тарифов подсчитали количество сделанных звонков и израсходованных минут разговора, количество отправленных сообщений и объем израсходованного интернет-трафика по месяцам. С полученными данными были созданы соответствующие таблицы: **'month_calls'**, **'month_messages'** и **'month_internet'**. Далее при помощи метода **merge()** получившиеся таблицы были объединены друг с другом, а так же с таблицей с информацией о тарифах, и высчитана помесячная выручка с каждого пользователя. Данные подсчетов добавлены в столбцы **'revenue'** и **over_tariff** объединенной таблицы *data_month*.\n",
    "3. Анализ данных включал построение двойных гистограмм для сравнения длительность звонков, количества сообщений и интернет-трафика пользователей тарифов \"Смарт\" и \"Ультра\"."
   ]
  },
  {
   "cell_type": "markdown",
   "metadata": {},
   "source": [
    "- Анализ показал, что пользователи с тарифом \"Смарт\" чаще превышают тарифные лимиты по всем категориям (минутам разговора, сообщениям и интернету). В среднем они разговаривают от 250 до 550 минут в месяц, в то время как клиенты с тарифом \"Ультра\" тратят до 900 минут в месяц. \n",
    "- Абоненты обоих тарифов не любят смс-ки. 13% пользователей \"Смарта\" и 20% - \"Ультра\" не пользуются сообщениями. Именно в этой категории клиенты с тарифом \"Смарт\" превышают тарифный лимит, среднее число смс для них - 33.\n",
    "- Клиенты с тарифом \"Смарт\" потребляют в месяц в основном от 10 до 22 Гб трафика, бОльшая часть выходит за предел тарифа (15 Гб). Дополнительный трафик приобретают почти 59% пользователей. Пользователи \"Ультра\" используют в месяц больше Гб (19Гб в среднем), и за предел (30 Гб), установленный тарифными условиями, выходит 13%.\n",
    "- Тарифом \"Смарт\" пользуется большинство абонентов (2229 против 985), поэтому годовая выручка с таких клиентов выше. Но благодаря статистической проверке было обнаружено, что абонент с тарифом \"Ультра\" ежемесечно платит больше, и на 985 человек приходится 2029690 руб выручки в год.\n",
    "- Средний абонентский платеж в Москве практически не отличается от платежа абонента из регионов. "
   ]
  },
  {
   "cell_type": "markdown",
   "metadata": {},
   "source": [
    "**Рекомендации.**"
   ]
  },
  {
   "cell_type": "markdown",
   "metadata": {},
   "source": [
    "Для пользователей более выгодной опцией является выбор тарифа \"Смарт\", как в принципе и для «Мегалайна». Но постоянные переплаты могут отпугнуть клиентов, поэтому целесообразно создать промежуточный тариф между \"Смарт\" и \"Ультра\". На нем необходимо расширить лимиты услуг (возможно, кроме смс, которые пользуются наименьшей популярностью у абонентов) и поднять абонентскую плату, так как, судя по частым переплатам, клиенты в целом готовы заплатить за Гб интернета и минуты разговора больше. Средний ежемесячный платеж по тарифу \"Смарт\" достигает примерно 1200р, поэтому имеет смысл установить абонентскую плату по новому тарифу до данной суммы. Лучше всего будет ориентироваться на медиану (960р), чтобы не отпугнуть сильным отрывом от \"дешевого\" \"Смарта\". Тариф \"Ультра\" я бы предложила не менять: анализ данных показывает, что избыточный пакет услуг, который сложно превысить, выглядит привлекательным для клиентов. "
   ]
  }
 ],
 "metadata": {
  "ExecuteTimeLog": [
   {
    "duration": 1028,
    "start_time": "2022-02-21T09:59:55.036Z"
   },
   {
    "duration": 149,
    "start_time": "2022-02-21T10:05:28.467Z"
   },
   {
    "duration": 137,
    "start_time": "2022-02-21T10:09:15.647Z"
   },
   {
    "duration": 384,
    "start_time": "2022-02-21T10:13:30.052Z"
   },
   {
    "duration": 106,
    "start_time": "2022-02-21T10:26:34.635Z"
   },
   {
    "duration": 996,
    "start_time": "2022-02-21T10:36:32.804Z"
   },
   {
    "duration": 571,
    "start_time": "2022-02-21T10:36:54.805Z"
   },
   {
    "duration": 463,
    "start_time": "2022-02-21T10:37:13.184Z"
   },
   {
    "duration": 113,
    "start_time": "2022-02-21T10:37:24.075Z"
   },
   {
    "duration": 4,
    "start_time": "2022-02-21T10:38:26.510Z"
   },
   {
    "duration": 4,
    "start_time": "2022-02-21T10:38:59.987Z"
   },
   {
    "duration": 2483,
    "start_time": "2022-02-21T10:40:17.208Z"
   },
   {
    "duration": 852,
    "start_time": "2022-02-21T10:42:33.321Z"
   },
   {
    "duration": 500,
    "start_time": "2022-02-21T10:43:26.443Z"
   },
   {
    "duration": 87,
    "start_time": "2022-02-21T10:43:49.383Z"
   },
   {
    "duration": 579,
    "start_time": "2022-02-21T10:44:00.870Z"
   },
   {
    "duration": 1484,
    "start_time": "2022-02-21T10:44:06.695Z"
   },
   {
    "duration": 128,
    "start_time": "2022-02-21T10:46:23.207Z"
   },
   {
    "duration": 103,
    "start_time": "2022-02-21T10:46:31.270Z"
   },
   {
    "duration": 104,
    "start_time": "2022-02-21T10:48:50.235Z"
   },
   {
    "duration": 110,
    "start_time": "2022-02-21T10:49:07.131Z"
   },
   {
    "duration": 404,
    "start_time": "2022-02-21T10:50:09.198Z"
   },
   {
    "duration": 57,
    "start_time": "2022-02-21T10:51:36.906Z"
   },
   {
    "duration": 879,
    "start_time": "2022-02-21T10:52:13.895Z"
   },
   {
    "duration": 52,
    "start_time": "2022-02-21T10:54:13.506Z"
   },
   {
    "duration": 52,
    "start_time": "2022-02-21T10:54:43.884Z"
   },
   {
    "duration": 153,
    "start_time": "2022-02-21T10:56:35.993Z"
   },
   {
    "duration": 152,
    "start_time": "2022-02-21T10:56:42.133Z"
   },
   {
    "duration": 139,
    "start_time": "2022-02-21T11:00:10.767Z"
   },
   {
    "duration": 502,
    "start_time": "2022-02-21T11:01:53.743Z"
   },
   {
    "duration": 148,
    "start_time": "2022-02-21T11:02:09.392Z"
   },
   {
    "duration": 430,
    "start_time": "2022-02-21T15:21:38.283Z"
   },
   {
    "duration": 1304,
    "start_time": "2022-02-21T15:21:47.921Z"
   },
   {
    "duration": 558,
    "start_time": "2022-02-21T15:21:49.228Z"
   },
   {
    "duration": 301,
    "start_time": "2022-02-21T15:21:49.789Z"
   },
   {
    "duration": 305,
    "start_time": "2022-02-21T15:43:53.471Z"
   },
   {
    "duration": 55,
    "start_time": "2022-02-21T16:10:12.875Z"
   },
   {
    "duration": 28,
    "start_time": "2022-02-21T16:10:22.143Z"
   },
   {
    "duration": 34,
    "start_time": "2022-02-21T16:13:50.475Z"
   },
   {
    "duration": 22,
    "start_time": "2022-02-21T16:14:01.562Z"
   },
   {
    "duration": 7,
    "start_time": "2022-02-21T16:35:05.251Z"
   },
   {
    "duration": 12,
    "start_time": "2022-02-21T16:35:18.819Z"
   },
   {
    "duration": 21,
    "start_time": "2022-02-21T16:36:46.110Z"
   },
   {
    "duration": 14,
    "start_time": "2022-02-21T16:38:11.482Z"
   },
   {
    "duration": 21,
    "start_time": "2022-02-21T16:38:27.895Z"
   },
   {
    "duration": 11,
    "start_time": "2022-02-21T16:38:30.070Z"
   },
   {
    "duration": 401,
    "start_time": "2022-02-21T16:47:54.893Z"
   },
   {
    "duration": 28,
    "start_time": "2022-02-21T16:48:00.068Z"
   },
   {
    "duration": 478,
    "start_time": "2022-02-21T17:25:53.489Z"
   },
   {
    "duration": 118,
    "start_time": "2022-02-21T17:26:08.224Z"
   },
   {
    "duration": 115,
    "start_time": "2022-02-21T17:26:13.868Z"
   },
   {
    "duration": 393,
    "start_time": "2022-02-21T17:26:49.540Z"
   },
   {
    "duration": 22,
    "start_time": "2022-02-21T17:27:04.100Z"
   },
   {
    "duration": 447,
    "start_time": "2022-02-21T17:27:12.389Z"
   },
   {
    "duration": 28,
    "start_time": "2022-02-21T17:27:19.849Z"
   },
   {
    "duration": 24,
    "start_time": "2022-02-21T17:27:47.774Z"
   },
   {
    "duration": 4,
    "start_time": "2022-02-21T17:28:05.157Z"
   },
   {
    "duration": 545,
    "start_time": "2022-02-21T17:28:05.164Z"
   },
   {
    "duration": 332,
    "start_time": "2022-02-21T17:28:05.712Z"
   },
   {
    "duration": 25,
    "start_time": "2022-02-21T17:28:08.149Z"
   },
   {
    "duration": 24,
    "start_time": "2022-02-21T17:28:13.701Z"
   },
   {
    "duration": 888,
    "start_time": "2022-02-21T17:35:02.062Z"
   },
   {
    "duration": 2377,
    "start_time": "2022-02-21T17:35:24.673Z"
   },
   {
    "duration": 420,
    "start_time": "2022-02-21T17:40:47.036Z"
   },
   {
    "duration": 355,
    "start_time": "2022-02-21T18:42:26.121Z"
   },
   {
    "duration": 4,
    "start_time": "2022-02-21T18:42:38.910Z"
   },
   {
    "duration": 516,
    "start_time": "2022-02-21T18:42:38.917Z"
   },
   {
    "duration": 311,
    "start_time": "2022-02-21T18:42:39.436Z"
   },
   {
    "duration": 80,
    "start_time": "2022-02-21T18:42:39.749Z"
   },
   {
    "duration": 25,
    "start_time": "2022-02-21T18:42:39.831Z"
   },
   {
    "duration": 318,
    "start_time": "2022-02-21T18:42:39.858Z"
   },
   {
    "duration": 347,
    "start_time": "2022-02-21T18:42:45.292Z"
   },
   {
    "duration": 334,
    "start_time": "2022-02-21T18:43:16.192Z"
   },
   {
    "duration": 23,
    "start_time": "2022-02-21T18:43:29.952Z"
   },
   {
    "duration": 320,
    "start_time": "2022-02-21T18:43:32.406Z"
   },
   {
    "duration": 345,
    "start_time": "2022-02-21T18:44:35.639Z"
   },
   {
    "duration": 4,
    "start_time": "2022-02-21T18:44:50.585Z"
   },
   {
    "duration": 555,
    "start_time": "2022-02-21T18:44:50.592Z"
   },
   {
    "duration": 299,
    "start_time": "2022-02-21T18:44:51.150Z"
   },
   {
    "duration": 80,
    "start_time": "2022-02-21T18:44:51.451Z"
   },
   {
    "duration": 27,
    "start_time": "2022-02-21T18:44:51.533Z"
   },
   {
    "duration": 350,
    "start_time": "2022-02-21T18:44:51.563Z"
   },
   {
    "duration": 133770,
    "start_time": "2022-02-21T18:42:38.145Z"
   },
   {
    "duration": 25,
    "start_time": "2022-02-21T18:45:22.376Z"
   },
   {
    "duration": 57,
    "start_time": "2022-02-21T18:46:48.515Z"
   },
   {
    "duration": 29,
    "start_time": "2022-02-21T18:47:07.264Z"
   },
   {
    "duration": 27,
    "start_time": "2022-02-21T18:47:14.951Z"
   },
   {
    "duration": 18,
    "start_time": "2022-02-21T18:47:20.826Z"
   },
   {
    "duration": 4,
    "start_time": "2022-02-21T18:47:33.783Z"
   },
   {
    "duration": 525,
    "start_time": "2022-02-21T18:47:33.790Z"
   },
   {
    "duration": 329,
    "start_time": "2022-02-21T18:47:34.318Z"
   },
   {
    "duration": 86,
    "start_time": "2022-02-21T18:47:34.651Z"
   },
   {
    "duration": 26,
    "start_time": "2022-02-21T18:47:34.740Z"
   },
   {
    "duration": 44,
    "start_time": "2022-02-21T18:47:34.768Z"
   },
   {
    "duration": 50,
    "start_time": "2022-02-21T18:47:34.814Z"
   },
   {
    "duration": 43,
    "start_time": "2022-02-21T18:47:34.867Z"
   },
   {
    "duration": 18,
    "start_time": "2022-02-21T18:48:21.039Z"
   },
   {
    "duration": 16,
    "start_time": "2022-02-21T18:48:43.176Z"
   },
   {
    "duration": 18,
    "start_time": "2022-02-21T18:48:46.432Z"
   },
   {
    "duration": 16,
    "start_time": "2022-02-21T18:50:19.800Z"
   },
   {
    "duration": 319,
    "start_time": "2022-02-21T18:52:18.462Z"
   },
   {
    "duration": 4,
    "start_time": "2022-02-21T18:52:52.900Z"
   },
   {
    "duration": 553,
    "start_time": "2022-02-21T18:52:52.906Z"
   },
   {
    "duration": 305,
    "start_time": "2022-02-21T18:52:53.462Z"
   },
   {
    "duration": 91,
    "start_time": "2022-02-21T18:52:53.769Z"
   },
   {
    "duration": 49,
    "start_time": "2022-02-21T18:52:53.863Z"
   },
   {
    "duration": 13,
    "start_time": "2022-02-21T18:52:53.915Z"
   },
   {
    "duration": 20,
    "start_time": "2022-02-21T18:52:56.899Z"
   },
   {
    "duration": 34,
    "start_time": "2022-02-21T18:53:01.226Z"
   },
   {
    "duration": 11,
    "start_time": "2022-02-21T18:53:04.862Z"
   },
   {
    "duration": 167,
    "start_time": "2022-02-21T18:56:50.275Z"
   },
   {
    "duration": 101,
    "start_time": "2022-02-21T18:56:56.886Z"
   },
   {
    "duration": 32,
    "start_time": "2022-02-21T18:57:01.564Z"
   },
   {
    "duration": 9,
    "start_time": "2022-02-21T18:57:07.823Z"
   },
   {
    "duration": 11,
    "start_time": "2022-02-21T18:59:58.988Z"
   },
   {
    "duration": 9,
    "start_time": "2022-02-21T19:00:10.136Z"
   },
   {
    "duration": 6,
    "start_time": "2022-02-21T19:15:45.610Z"
   },
   {
    "duration": 332,
    "start_time": "2022-02-21T19:16:53.396Z"
   },
   {
    "duration": 656,
    "start_time": "2022-02-21T19:17:04.444Z"
   },
   {
    "duration": 30,
    "start_time": "2022-02-21T19:17:13.058Z"
   },
   {
    "duration": 10,
    "start_time": "2022-02-21T19:17:23.432Z"
   },
   {
    "duration": 5,
    "start_time": "2022-02-21T19:17:36.869Z"
   },
   {
    "duration": 33,
    "start_time": "2022-02-21T19:17:38.923Z"
   },
   {
    "duration": 14,
    "start_time": "2022-02-21T19:17:39.734Z"
   },
   {
    "duration": 4,
    "start_time": "2022-02-21T19:17:54.413Z"
   },
   {
    "duration": 550,
    "start_time": "2022-02-21T19:17:54.419Z"
   },
   {
    "duration": 317,
    "start_time": "2022-02-21T19:17:54.972Z"
   },
   {
    "duration": 54,
    "start_time": "2022-02-21T19:17:55.312Z"
   },
   {
    "duration": 50,
    "start_time": "2022-02-21T19:17:55.368Z"
   },
   {
    "duration": 14,
    "start_time": "2022-02-21T19:17:55.420Z"
   },
   {
    "duration": 34,
    "start_time": "2022-02-21T19:17:55.437Z"
   },
   {
    "duration": 39,
    "start_time": "2022-02-21T19:17:55.476Z"
   },
   {
    "duration": 29,
    "start_time": "2022-02-21T19:17:55.518Z"
   },
   {
    "duration": 9,
    "start_time": "2022-02-21T19:17:55.549Z"
   },
   {
    "duration": 10,
    "start_time": "2022-02-21T19:17:55.560Z"
   },
   {
    "duration": 47,
    "start_time": "2022-02-21T19:17:55.572Z"
   },
   {
    "duration": 9,
    "start_time": "2022-02-21T19:17:55.622Z"
   },
   {
    "duration": 36,
    "start_time": "2022-02-21T19:17:55.633Z"
   },
   {
    "duration": 12,
    "start_time": "2022-02-21T19:17:55.671Z"
   },
   {
    "duration": 8,
    "start_time": "2022-02-21T19:18:26.046Z"
   },
   {
    "duration": 10,
    "start_time": "2022-02-21T19:19:06.669Z"
   },
   {
    "duration": 9,
    "start_time": "2022-02-21T19:19:36.847Z"
   },
   {
    "duration": 9,
    "start_time": "2022-02-21T19:19:48.707Z"
   },
   {
    "duration": 8,
    "start_time": "2022-02-21T19:20:04.631Z"
   },
   {
    "duration": 5,
    "start_time": "2022-02-21T19:24:19.344Z"
   },
   {
    "duration": 12,
    "start_time": "2022-02-21T19:24:30.024Z"
   },
   {
    "duration": 10,
    "start_time": "2022-02-21T19:24:31.283Z"
   },
   {
    "duration": 5,
    "start_time": "2022-02-21T19:24:39.329Z"
   },
   {
    "duration": 508,
    "start_time": "2022-02-21T19:24:39.337Z"
   },
   {
    "duration": 303,
    "start_time": "2022-02-21T19:24:39.848Z"
   },
   {
    "duration": 75,
    "start_time": "2022-02-21T19:24:40.154Z"
   },
   {
    "duration": 25,
    "start_time": "2022-02-21T19:24:40.232Z"
   },
   {
    "duration": 13,
    "start_time": "2022-02-21T19:24:40.260Z"
   },
   {
    "duration": 62,
    "start_time": "2022-02-21T19:24:40.276Z"
   },
   {
    "duration": 9,
    "start_time": "2022-02-21T19:24:40.340Z"
   },
   {
    "duration": 57,
    "start_time": "2022-02-21T19:24:40.353Z"
   },
   {
    "duration": 8,
    "start_time": "2022-02-21T19:24:40.413Z"
   },
   {
    "duration": 8,
    "start_time": "2022-02-21T19:24:40.424Z"
   },
   {
    "duration": 11,
    "start_time": "2022-02-21T19:24:40.434Z"
   },
   {
    "duration": 4,
    "start_time": "2022-02-21T19:24:40.448Z"
   },
   {
    "duration": 17,
    "start_time": "2022-02-21T19:24:40.455Z"
   },
   {
    "duration": 11,
    "start_time": "2022-02-21T19:24:40.511Z"
   },
   {
    "duration": 4,
    "start_time": "2022-02-21T19:24:45.418Z"
   },
   {
    "duration": 4,
    "start_time": "2022-02-21T19:24:52.586Z"
   },
   {
    "duration": 550,
    "start_time": "2022-02-21T19:24:52.593Z"
   },
   {
    "duration": 303,
    "start_time": "2022-02-21T19:24:53.146Z"
   },
   {
    "duration": 83,
    "start_time": "2022-02-21T19:24:53.452Z"
   },
   {
    "duration": 25,
    "start_time": "2022-02-21T19:24:53.538Z"
   },
   {
    "duration": 13,
    "start_time": "2022-02-21T19:24:53.566Z"
   },
   {
    "duration": 60,
    "start_time": "2022-02-21T19:24:53.581Z"
   },
   {
    "duration": 10,
    "start_time": "2022-02-21T19:24:53.644Z"
   },
   {
    "duration": 54,
    "start_time": "2022-02-21T19:24:53.657Z"
   },
   {
    "duration": 9,
    "start_time": "2022-02-21T19:24:53.714Z"
   },
   {
    "duration": 18,
    "start_time": "2022-02-21T19:24:53.725Z"
   },
   {
    "duration": 32,
    "start_time": "2022-02-21T19:24:53.745Z"
   },
   {
    "duration": 4,
    "start_time": "2022-02-21T19:24:58.305Z"
   },
   {
    "duration": 11,
    "start_time": "2022-02-21T19:25:01.256Z"
   },
   {
    "duration": 12,
    "start_time": "2022-02-21T19:25:02.668Z"
   },
   {
    "duration": 7,
    "start_time": "2022-02-21T19:25:17.981Z"
   },
   {
    "duration": 9,
    "start_time": "2022-02-21T19:25:27.918Z"
   },
   {
    "duration": 12,
    "start_time": "2022-02-21T19:44:58.558Z"
   },
   {
    "duration": 795,
    "start_time": "2022-02-21T19:45:05.493Z"
   },
   {
    "duration": 4,
    "start_time": "2022-02-21T19:46:06.983Z"
   },
   {
    "duration": 578,
    "start_time": "2022-02-21T19:46:06.990Z"
   },
   {
    "duration": 380,
    "start_time": "2022-02-21T19:46:07.572Z"
   },
   {
    "duration": 91,
    "start_time": "2022-02-21T19:46:07.956Z"
   },
   {
    "duration": 37,
    "start_time": "2022-02-21T19:46:08.051Z"
   },
   {
    "duration": 15,
    "start_time": "2022-02-21T19:46:08.110Z"
   },
   {
    "duration": 35,
    "start_time": "2022-02-21T19:46:08.128Z"
   },
   {
    "duration": 45,
    "start_time": "2022-02-21T19:46:08.169Z"
   },
   {
    "duration": 30,
    "start_time": "2022-02-21T19:46:08.218Z"
   },
   {
    "duration": 12,
    "start_time": "2022-02-21T19:46:08.250Z"
   },
   {
    "duration": 46,
    "start_time": "2022-02-21T19:46:08.265Z"
   },
   {
    "duration": 11,
    "start_time": "2022-02-21T19:46:08.313Z"
   },
   {
    "duration": 11,
    "start_time": "2022-02-21T19:46:08.327Z"
   },
   {
    "duration": 672,
    "start_time": "2022-02-21T19:46:08.341Z"
   },
   {
    "duration": 133907,
    "start_time": "2022-02-21T19:43:55.108Z"
   },
   {
    "duration": 133853,
    "start_time": "2022-02-21T19:43:55.164Z"
   },
   {
    "duration": 4,
    "start_time": "2022-02-21T19:46:32.488Z"
   },
   {
    "duration": 668,
    "start_time": "2022-02-21T19:46:33.689Z"
   },
   {
    "duration": 328,
    "start_time": "2022-02-21T19:47:17.501Z"
   },
   {
    "duration": 11,
    "start_time": "2022-02-21T19:49:14.963Z"
   },
   {
    "duration": 11,
    "start_time": "2022-02-21T19:49:18.076Z"
   },
   {
    "duration": 16,
    "start_time": "2022-02-21T19:49:26.251Z"
   },
   {
    "duration": 27,
    "start_time": "2022-02-21T19:49:44.001Z"
   },
   {
    "duration": 91,
    "start_time": "2022-02-21T19:50:14.288Z"
   },
   {
    "duration": 45,
    "start_time": "2022-02-21T19:50:45.114Z"
   },
   {
    "duration": 73,
    "start_time": "2022-02-21T19:51:11.675Z"
   },
   {
    "duration": 5,
    "start_time": "2022-02-21T20:01:46.153Z"
   },
   {
    "duration": 815,
    "start_time": "2022-02-21T20:01:46.161Z"
   },
   {
    "duration": 359,
    "start_time": "2022-02-21T20:01:46.980Z"
   },
   {
    "duration": 78,
    "start_time": "2022-02-21T20:01:47.341Z"
   },
   {
    "duration": 27,
    "start_time": "2022-02-21T20:01:47.421Z"
   },
   {
    "duration": 13,
    "start_time": "2022-02-21T20:01:47.451Z"
   },
   {
    "duration": 79,
    "start_time": "2022-02-21T20:01:55.226Z"
   },
   {
    "duration": 13,
    "start_time": "2022-02-21T20:01:57.287Z"
   },
   {
    "duration": 4,
    "start_time": "2022-02-21T20:02:23.551Z"
   },
   {
    "duration": 779,
    "start_time": "2022-02-21T20:02:23.560Z"
   },
   {
    "duration": 425,
    "start_time": "2022-02-21T20:02:24.343Z"
   },
   {
    "duration": 82,
    "start_time": "2022-02-21T20:02:24.772Z"
   },
   {
    "duration": 27,
    "start_time": "2022-02-21T20:02:24.856Z"
   },
   {
    "duration": 37,
    "start_time": "2022-02-21T20:02:24.886Z"
   },
   {
    "duration": 44,
    "start_time": "2022-02-21T20:02:24.926Z"
   },
   {
    "duration": 44,
    "start_time": "2022-02-21T20:02:24.972Z"
   },
   {
    "duration": 39,
    "start_time": "2022-02-21T20:02:25.022Z"
   },
   {
    "duration": 12,
    "start_time": "2022-02-21T20:02:25.065Z"
   },
   {
    "duration": 39,
    "start_time": "2022-02-21T20:02:25.080Z"
   },
   {
    "duration": 18,
    "start_time": "2022-02-21T20:02:25.122Z"
   },
   {
    "duration": 5,
    "start_time": "2022-02-21T20:02:25.142Z"
   },
   {
    "duration": 33,
    "start_time": "2022-02-21T20:02:25.151Z"
   },
   {
    "duration": 131,
    "start_time": "2022-02-21T20:02:25.187Z"
   },
   {
    "duration": 46,
    "start_time": "2022-02-21T20:02:25.320Z"
   },
   {
    "duration": 104,
    "start_time": "2022-02-21T20:02:25.369Z"
   },
   {
    "duration": 8603,
    "start_time": "2022-02-21T20:08:29.797Z"
   },
   {
    "duration": 177,
    "start_time": "2022-02-21T20:13:07.324Z"
   },
   {
    "duration": 110,
    "start_time": "2022-02-21T20:13:22.334Z"
   },
   {
    "duration": 33,
    "start_time": "2022-02-21T20:13:47.248Z"
   },
   {
    "duration": 536,
    "start_time": "2022-02-21T20:13:59.684Z"
   },
   {
    "duration": 23,
    "start_time": "2022-02-21T20:14:26.984Z"
   },
   {
    "duration": 323,
    "start_time": "2022-02-21T20:14:28.058Z"
   },
   {
    "duration": 12,
    "start_time": "2022-02-21T20:14:32.609Z"
   },
   {
    "duration": 12,
    "start_time": "2022-02-21T20:14:39.308Z"
   },
   {
    "duration": 389,
    "start_time": "2022-02-21T20:21:44.404Z"
   },
   {
    "duration": 5,
    "start_time": "2022-02-21T20:22:07.014Z"
   },
   {
    "duration": 2037,
    "start_time": "2022-02-21T20:22:07.022Z"
   },
   {
    "duration": 310,
    "start_time": "2022-02-21T20:22:09.062Z"
   },
   {
    "duration": 80,
    "start_time": "2022-02-21T20:22:09.376Z"
   },
   {
    "duration": 23,
    "start_time": "2022-02-21T20:22:09.458Z"
   },
   {
    "duration": 33,
    "start_time": "2022-02-21T20:22:09.484Z"
   },
   {
    "duration": 38,
    "start_time": "2022-02-21T20:22:09.519Z"
   },
   {
    "duration": 11,
    "start_time": "2022-02-21T20:22:09.561Z"
   },
   {
    "duration": 58,
    "start_time": "2022-02-21T20:22:09.575Z"
   },
   {
    "duration": 10,
    "start_time": "2022-02-21T20:22:09.636Z"
   },
   {
    "duration": 9,
    "start_time": "2022-02-21T20:22:09.649Z"
   },
   {
    "duration": 50,
    "start_time": "2022-02-21T20:22:09.661Z"
   },
   {
    "duration": 4,
    "start_time": "2022-02-21T20:22:09.714Z"
   },
   {
    "duration": 28,
    "start_time": "2022-02-21T20:22:09.720Z"
   },
   {
    "duration": 117,
    "start_time": "2022-02-21T20:22:09.750Z"
   },
   {
    "duration": 56,
    "start_time": "2022-02-21T20:22:09.870Z"
   },
   {
    "duration": 83,
    "start_time": "2022-02-21T20:22:09.929Z"
   },
   {
    "duration": 347,
    "start_time": "2022-02-21T20:22:10.014Z"
   },
   {
    "duration": 133884,
    "start_time": "2022-02-21T20:19:56.479Z"
   },
   {
    "duration": 133884,
    "start_time": "2022-02-21T20:19:56.480Z"
   },
   {
    "duration": 487,
    "start_time": "2022-02-21T20:22:23.095Z"
   },
   {
    "duration": 804,
    "start_time": "2022-02-21T20:23:25.944Z"
   },
   {
    "duration": 362,
    "start_time": "2022-02-21T20:30:51.334Z"
   },
   {
    "duration": 22,
    "start_time": "2022-02-21T20:57:59.175Z"
   },
   {
    "duration": 16,
    "start_time": "2022-02-21T20:58:03.111Z"
   },
   {
    "duration": 3,
    "start_time": "2022-02-21T21:05:33.877Z"
   },
   {
    "duration": 711,
    "start_time": "2022-02-21T21:05:33.884Z"
   },
   {
    "duration": 337,
    "start_time": "2022-02-21T21:05:34.598Z"
   },
   {
    "duration": 4,
    "start_time": "2022-02-21T21:06:02.447Z"
   },
   {
    "duration": 573,
    "start_time": "2022-02-21T21:06:02.454Z"
   },
   {
    "duration": 400,
    "start_time": "2022-02-21T21:06:03.031Z"
   },
   {
    "duration": 102,
    "start_time": "2022-02-21T21:06:03.435Z"
   },
   {
    "duration": 40,
    "start_time": "2022-02-21T21:06:06.159Z"
   },
   {
    "duration": 35,
    "start_time": "2022-02-21T21:06:08.997Z"
   },
   {
    "duration": 21,
    "start_time": "2022-02-21T21:06:59.739Z"
   },
   {
    "duration": 25,
    "start_time": "2022-02-21T21:07:01.385Z"
   },
   {
    "duration": 42,
    "start_time": "2022-02-21T21:07:32.921Z"
   },
   {
    "duration": 20,
    "start_time": "2022-02-21T21:07:33.883Z"
   },
   {
    "duration": 26,
    "start_time": "2022-02-21T21:07:53.509Z"
   },
   {
    "duration": 15,
    "start_time": "2022-02-21T21:07:54.296Z"
   },
   {
    "duration": 10,
    "start_time": "2022-02-21T21:08:00.037Z"
   },
   {
    "duration": 10,
    "start_time": "2022-02-21T21:08:00.559Z"
   },
   {
    "duration": 4,
    "start_time": "2022-02-21T21:08:04.996Z"
   },
   {
    "duration": 36,
    "start_time": "2022-02-21T21:08:07.471Z"
   },
   {
    "duration": 123,
    "start_time": "2022-02-21T21:08:11.525Z"
   },
   {
    "duration": 66,
    "start_time": "2022-02-21T21:08:20.059Z"
   },
   {
    "duration": 104,
    "start_time": "2022-02-21T21:08:22.208Z"
   },
   {
    "duration": 42,
    "start_time": "2022-02-21T21:09:26.784Z"
   },
   {
    "duration": 13,
    "start_time": "2022-02-21T21:09:28.734Z"
   },
   {
    "duration": 13,
    "start_time": "2022-02-21T21:09:43.207Z"
   },
   {
    "duration": 35,
    "start_time": "2022-02-21T21:11:30.246Z"
   },
   {
    "duration": 11,
    "start_time": "2022-02-21T21:11:31.346Z"
   },
   {
    "duration": 11,
    "start_time": "2022-02-21T21:11:36.758Z"
   },
   {
    "duration": 22,
    "start_time": "2022-02-21T21:12:56.383Z"
   },
   {
    "duration": 10,
    "start_time": "2022-02-21T21:13:05.107Z"
   },
   {
    "duration": 23,
    "start_time": "2022-02-21T21:37:35.254Z"
   },
   {
    "duration": 10,
    "start_time": "2022-02-21T21:37:41.654Z"
   },
   {
    "duration": 9,
    "start_time": "2022-02-21T21:37:51.292Z"
   },
   {
    "duration": 334,
    "start_time": "2022-02-21T21:43:37.403Z"
   },
   {
    "duration": 44,
    "start_time": "2022-02-21T21:47:43.663Z"
   },
   {
    "duration": 19,
    "start_time": "2022-02-21T21:54:34.405Z"
   },
   {
    "duration": 4,
    "start_time": "2022-02-21T21:56:21.372Z"
   },
   {
    "duration": 539,
    "start_time": "2022-02-21T21:56:21.379Z"
   },
   {
    "duration": 337,
    "start_time": "2022-02-21T21:56:21.921Z"
   },
   {
    "duration": 79,
    "start_time": "2022-02-21T21:56:22.260Z"
   },
   {
    "duration": 26,
    "start_time": "2022-02-21T21:56:22.342Z"
   },
   {
    "duration": 70,
    "start_time": "2022-02-21T21:56:22.371Z"
   },
   {
    "duration": 21,
    "start_time": "2022-02-21T21:56:22.443Z"
   },
   {
    "duration": 56,
    "start_time": "2022-02-21T21:56:22.467Z"
   },
   {
    "duration": 17,
    "start_time": "2022-02-21T21:56:22.528Z"
   },
   {
    "duration": 8,
    "start_time": "2022-02-21T21:56:22.548Z"
   },
   {
    "duration": 16,
    "start_time": "2022-02-21T21:56:22.559Z"
   },
   {
    "duration": 34,
    "start_time": "2022-02-21T21:56:22.578Z"
   },
   {
    "duration": 27,
    "start_time": "2022-02-21T21:56:22.615Z"
   },
   {
    "duration": 143,
    "start_time": "2022-02-21T21:56:22.644Z"
   },
   {
    "duration": 71,
    "start_time": "2022-02-21T21:56:22.790Z"
   },
   {
    "duration": 108,
    "start_time": "2022-02-21T21:56:22.864Z"
   },
   {
    "duration": 51,
    "start_time": "2022-02-21T21:56:22.974Z"
   },
   {
    "duration": 11,
    "start_time": "2022-02-21T21:56:23.027Z"
   },
   {
    "duration": 35,
    "start_time": "2022-02-21T21:56:23.042Z"
   },
   {
    "duration": 37,
    "start_time": "2022-02-21T21:56:23.080Z"
   },
   {
    "duration": 28,
    "start_time": "2022-02-21T21:56:23.121Z"
   },
   {
    "duration": 13,
    "start_time": "2022-02-21T21:56:23.153Z"
   },
   {
    "duration": 37,
    "start_time": "2022-02-21T21:56:33.011Z"
   },
   {
    "duration": 18,
    "start_time": "2022-02-21T21:56:37.786Z"
   },
   {
    "duration": 30,
    "start_time": "2022-02-21T22:03:10.449Z"
   },
   {
    "duration": 17,
    "start_time": "2022-02-21T22:03:16.723Z"
   },
   {
    "duration": 4,
    "start_time": "2022-02-21T22:03:29.791Z"
   },
   {
    "duration": 769,
    "start_time": "2022-02-21T22:03:29.812Z"
   },
   {
    "duration": 358,
    "start_time": "2022-02-21T22:03:30.584Z"
   },
   {
    "duration": 81,
    "start_time": "2022-02-21T22:03:30.945Z"
   },
   {
    "duration": 26,
    "start_time": "2022-02-21T22:03:31.029Z"
   },
   {
    "duration": 67,
    "start_time": "2022-02-21T22:03:31.058Z"
   },
   {
    "duration": 19,
    "start_time": "2022-02-21T22:03:31.128Z"
   },
   {
    "duration": 27,
    "start_time": "2022-02-21T22:03:31.150Z"
   },
   {
    "duration": 36,
    "start_time": "2022-02-21T22:03:31.181Z"
   },
   {
    "duration": 9,
    "start_time": "2022-02-21T22:03:31.220Z"
   },
   {
    "duration": 12,
    "start_time": "2022-02-21T22:03:31.232Z"
   },
   {
    "duration": 5,
    "start_time": "2022-02-21T22:03:31.246Z"
   },
   {
    "duration": 72,
    "start_time": "2022-02-21T22:03:31.254Z"
   },
   {
    "duration": 142,
    "start_time": "2022-02-21T22:03:31.329Z"
   },
   {
    "duration": 76,
    "start_time": "2022-02-21T22:03:31.474Z"
   },
   {
    "duration": 108,
    "start_time": "2022-02-21T22:03:31.554Z"
   },
   {
    "duration": 48,
    "start_time": "2022-02-21T22:03:31.665Z"
   },
   {
    "duration": 11,
    "start_time": "2022-02-21T22:03:31.715Z"
   },
   {
    "duration": 25,
    "start_time": "2022-02-21T22:03:31.730Z"
   },
   {
    "duration": 11,
    "start_time": "2022-02-21T22:03:31.758Z"
   },
   {
    "duration": 23,
    "start_time": "2022-02-21T22:03:31.812Z"
   },
   {
    "duration": 9,
    "start_time": "2022-02-21T22:03:31.837Z"
   },
   {
    "duration": 32,
    "start_time": "2022-02-21T22:03:31.848Z"
   },
   {
    "duration": 38,
    "start_time": "2022-02-21T22:03:31.885Z"
   },
   {
    "duration": 159,
    "start_time": "2022-02-21T22:03:31.925Z"
   },
   {
    "duration": 25,
    "start_time": "2022-02-21T22:04:46.360Z"
   },
   {
    "duration": 439,
    "start_time": "2022-02-21T22:06:13.748Z"
   },
   {
    "duration": 27,
    "start_time": "2022-02-21T22:06:41.935Z"
   },
   {
    "duration": 345,
    "start_time": "2022-02-21T22:06:53.047Z"
   },
   {
    "duration": 14,
    "start_time": "2022-02-21T22:17:40.057Z"
   },
   {
    "duration": 4,
    "start_time": "2022-02-21T22:19:05.596Z"
   },
   {
    "duration": 568,
    "start_time": "2022-02-21T22:19:05.602Z"
   },
   {
    "duration": 316,
    "start_time": "2022-02-21T22:19:06.173Z"
   },
   {
    "duration": 54,
    "start_time": "2022-02-21T22:19:06.511Z"
   },
   {
    "duration": 61,
    "start_time": "2022-02-21T22:19:06.568Z"
   },
   {
    "duration": 42,
    "start_time": "2022-02-21T22:19:06.633Z"
   },
   {
    "duration": 37,
    "start_time": "2022-02-21T22:19:06.678Z"
   },
   {
    "duration": 27,
    "start_time": "2022-02-21T22:19:06.717Z"
   },
   {
    "duration": 15,
    "start_time": "2022-02-21T22:19:06.748Z"
   },
   {
    "duration": 9,
    "start_time": "2022-02-21T22:19:06.767Z"
   },
   {
    "duration": 43,
    "start_time": "2022-02-21T22:19:06.778Z"
   },
   {
    "duration": 6,
    "start_time": "2022-02-21T22:19:06.824Z"
   },
   {
    "duration": 29,
    "start_time": "2022-02-21T22:19:06.832Z"
   },
   {
    "duration": 169,
    "start_time": "2022-02-21T22:19:06.864Z"
   },
   {
    "duration": 79,
    "start_time": "2022-02-21T22:19:07.036Z"
   },
   {
    "duration": 102,
    "start_time": "2022-02-21T22:19:07.117Z"
   },
   {
    "duration": 36,
    "start_time": "2022-02-21T22:19:07.222Z"
   },
   {
    "duration": 12,
    "start_time": "2022-02-21T22:19:07.261Z"
   },
   {
    "duration": 68,
    "start_time": "2022-02-21T22:19:07.276Z"
   },
   {
    "duration": 13,
    "start_time": "2022-02-21T22:19:07.348Z"
   },
   {
    "duration": 58,
    "start_time": "2022-02-21T22:19:07.364Z"
   },
   {
    "duration": 14,
    "start_time": "2022-02-21T22:19:07.425Z"
   },
   {
    "duration": 29,
    "start_time": "2022-02-21T22:19:07.441Z"
   },
   {
    "duration": 41,
    "start_time": "2022-02-21T22:19:07.473Z"
   },
   {
    "duration": 24,
    "start_time": "2022-02-21T22:19:07.516Z"
   },
   {
    "duration": 14,
    "start_time": "2022-02-21T22:19:07.543Z"
   },
   {
    "duration": 14,
    "start_time": "2022-02-21T22:19:14.560Z"
   },
   {
    "duration": 349,
    "start_time": "2022-02-21T22:19:19.082Z"
   },
   {
    "duration": 355,
    "start_time": "2022-02-21T22:19:49.483Z"
   },
   {
    "duration": 3,
    "start_time": "2022-02-21T22:20:13.723Z"
   },
   {
    "duration": 530,
    "start_time": "2022-02-21T22:20:13.729Z"
   },
   {
    "duration": 326,
    "start_time": "2022-02-21T22:20:14.262Z"
   },
   {
    "duration": 67,
    "start_time": "2022-02-21T22:20:14.591Z"
   },
   {
    "duration": 51,
    "start_time": "2022-02-21T22:20:14.660Z"
   },
   {
    "duration": 41,
    "start_time": "2022-02-21T22:20:14.713Z"
   },
   {
    "duration": 19,
    "start_time": "2022-02-21T22:20:14.757Z"
   },
   {
    "duration": 54,
    "start_time": "2022-02-21T22:20:14.779Z"
   },
   {
    "duration": 16,
    "start_time": "2022-02-21T22:20:14.837Z"
   },
   {
    "duration": 8,
    "start_time": "2022-02-21T22:20:14.856Z"
   },
   {
    "duration": 45,
    "start_time": "2022-02-21T22:20:14.867Z"
   },
   {
    "duration": 6,
    "start_time": "2022-02-21T22:20:14.915Z"
   },
   {
    "duration": 26,
    "start_time": "2022-02-21T22:20:14.924Z"
   },
   {
    "duration": 182,
    "start_time": "2022-02-21T22:20:14.954Z"
   },
   {
    "duration": 92,
    "start_time": "2022-02-21T22:20:15.139Z"
   },
   {
    "duration": 108,
    "start_time": "2022-02-21T22:20:15.234Z"
   },
   {
    "duration": 37,
    "start_time": "2022-02-21T22:20:15.345Z"
   },
   {
    "duration": 34,
    "start_time": "2022-02-21T22:20:15.385Z"
   },
   {
    "duration": 26,
    "start_time": "2022-02-21T22:20:15.422Z"
   },
   {
    "duration": 12,
    "start_time": "2022-02-21T22:20:15.451Z"
   },
   {
    "duration": 60,
    "start_time": "2022-02-21T22:20:15.467Z"
   },
   {
    "duration": 10,
    "start_time": "2022-02-21T22:20:15.530Z"
   },
   {
    "duration": 31,
    "start_time": "2022-02-21T22:20:15.544Z"
   },
   {
    "duration": 17,
    "start_time": "2022-02-21T22:20:15.611Z"
   },
   {
    "duration": 24,
    "start_time": "2022-02-21T22:20:15.631Z"
   },
   {
    "duration": 12,
    "start_time": "2022-02-21T22:20:15.657Z"
   },
   {
    "duration": 14,
    "start_time": "2022-02-21T22:20:15.709Z"
   },
   {
    "duration": 1444,
    "start_time": "2022-02-21T22:20:15.725Z"
   },
   {
    "duration": 326,
    "start_time": "2022-02-21T22:22:29.645Z"
   },
   {
    "duration": 4,
    "start_time": "2022-02-21T22:22:51.885Z"
   },
   {
    "duration": 925,
    "start_time": "2022-02-21T22:22:51.892Z"
   },
   {
    "duration": 425,
    "start_time": "2022-02-21T22:22:52.836Z"
   },
   {
    "duration": 86,
    "start_time": "2022-02-21T22:22:53.265Z"
   },
   {
    "duration": 24,
    "start_time": "2022-02-21T22:22:53.353Z"
   },
   {
    "duration": 66,
    "start_time": "2022-02-21T22:22:53.380Z"
   },
   {
    "duration": 15,
    "start_time": "2022-02-21T22:22:53.448Z"
   },
   {
    "duration": 58,
    "start_time": "2022-02-21T22:22:53.466Z"
   },
   {
    "duration": 15,
    "start_time": "2022-02-21T22:22:53.528Z"
   },
   {
    "duration": 9,
    "start_time": "2022-02-21T22:22:53.546Z"
   },
   {
    "duration": 13,
    "start_time": "2022-02-21T22:22:53.558Z"
   },
   {
    "duration": 40,
    "start_time": "2022-02-21T22:22:53.575Z"
   },
   {
    "duration": 40,
    "start_time": "2022-02-21T22:22:53.618Z"
   },
   {
    "duration": 144,
    "start_time": "2022-02-21T22:22:53.660Z"
   },
   {
    "duration": 63,
    "start_time": "2022-02-21T22:22:53.807Z"
   },
   {
    "duration": 114,
    "start_time": "2022-02-21T22:22:53.872Z"
   },
   {
    "duration": 49,
    "start_time": "2022-02-21T22:22:53.988Z"
   },
   {
    "duration": 10,
    "start_time": "2022-02-21T22:22:54.039Z"
   },
   {
    "duration": 25,
    "start_time": "2022-02-21T22:22:54.051Z"
   },
   {
    "duration": 39,
    "start_time": "2022-02-21T22:22:54.078Z"
   },
   {
    "duration": 23,
    "start_time": "2022-02-21T22:22:54.120Z"
   },
   {
    "duration": 10,
    "start_time": "2022-02-21T22:22:54.145Z"
   },
   {
    "duration": 83,
    "start_time": "2022-02-21T22:22:54.158Z"
   },
   {
    "duration": 24,
    "start_time": "2022-02-21T22:22:54.245Z"
   },
   {
    "duration": 51,
    "start_time": "2022-02-21T22:22:54.272Z"
   },
   {
    "duration": 12,
    "start_time": "2022-02-21T22:22:54.325Z"
   },
   {
    "duration": 17,
    "start_time": "2022-02-21T22:22:54.341Z"
   },
   {
    "duration": 16,
    "start_time": "2022-02-21T22:22:57.098Z"
   },
   {
    "duration": 371,
    "start_time": "2022-02-21T22:23:17.099Z"
   },
   {
    "duration": 1255,
    "start_time": "2022-02-23T13:07:39.285Z"
   },
   {
    "duration": 504,
    "start_time": "2022-02-23T13:07:40.542Z"
   },
   {
    "duration": 306,
    "start_time": "2022-02-23T13:07:41.049Z"
   },
   {
    "duration": 79,
    "start_time": "2022-02-23T13:07:41.358Z"
   },
   {
    "duration": 31,
    "start_time": "2022-02-23T13:07:41.439Z"
   },
   {
    "duration": 63,
    "start_time": "2022-02-23T13:07:41.473Z"
   },
   {
    "duration": 17,
    "start_time": "2022-02-23T13:07:41.538Z"
   },
   {
    "duration": 52,
    "start_time": "2022-02-23T13:07:41.560Z"
   },
   {
    "duration": 14,
    "start_time": "2022-02-23T13:07:41.615Z"
   },
   {
    "duration": 11,
    "start_time": "2022-02-23T13:07:41.632Z"
   },
   {
    "duration": 25,
    "start_time": "2022-02-23T13:07:41.646Z"
   },
   {
    "duration": 4,
    "start_time": "2022-02-23T13:07:41.694Z"
   },
   {
    "duration": 27,
    "start_time": "2022-02-23T13:07:41.700Z"
   },
   {
    "duration": 149,
    "start_time": "2022-02-23T13:07:41.729Z"
   },
   {
    "duration": 76,
    "start_time": "2022-02-23T13:07:41.880Z"
   },
   {
    "duration": 115,
    "start_time": "2022-02-23T13:07:41.958Z"
   },
   {
    "duration": 56,
    "start_time": "2022-02-23T13:07:42.075Z"
   },
   {
    "duration": 11,
    "start_time": "2022-02-23T13:07:42.134Z"
   },
   {
    "duration": 46,
    "start_time": "2022-02-23T13:07:42.147Z"
   },
   {
    "duration": 10,
    "start_time": "2022-02-23T13:07:42.196Z"
   },
   {
    "duration": 23,
    "start_time": "2022-02-23T13:07:42.209Z"
   },
   {
    "duration": 10,
    "start_time": "2022-02-23T13:07:42.235Z"
   },
   {
    "duration": 64,
    "start_time": "2022-02-23T13:07:42.249Z"
   },
   {
    "duration": 15,
    "start_time": "2022-02-23T13:07:42.316Z"
   },
   {
    "duration": 24,
    "start_time": "2022-02-23T13:07:42.333Z"
   },
   {
    "duration": 40,
    "start_time": "2022-02-23T13:07:42.360Z"
   },
   {
    "duration": 17,
    "start_time": "2022-02-23T13:07:42.402Z"
   },
   {
    "duration": 15,
    "start_time": "2022-02-23T13:07:42.421Z"
   },
   {
    "duration": 401,
    "start_time": "2022-02-23T13:07:42.439Z"
   },
   {
    "duration": 342,
    "start_time": "2022-02-23T13:09:23.433Z"
   },
   {
    "duration": 283,
    "start_time": "2022-02-23T13:10:07.871Z"
   },
   {
    "duration": 15,
    "start_time": "2022-02-23T13:10:24.057Z"
   },
   {
    "duration": 5,
    "start_time": "2022-02-23T13:13:34.283Z"
   },
   {
    "duration": 16,
    "start_time": "2022-02-23T13:13:36.606Z"
   },
   {
    "duration": 261,
    "start_time": "2022-02-23T13:13:40.132Z"
   },
   {
    "duration": 262,
    "start_time": "2022-02-23T13:14:04.494Z"
   },
   {
    "duration": 256,
    "start_time": "2022-02-23T13:14:25.921Z"
   },
   {
    "duration": 4,
    "start_time": "2022-02-23T13:14:40.385Z"
   },
   {
    "duration": 507,
    "start_time": "2022-02-23T13:14:40.391Z"
   },
   {
    "duration": 313,
    "start_time": "2022-02-23T13:14:40.900Z"
   },
   {
    "duration": 54,
    "start_time": "2022-02-23T13:14:41.216Z"
   },
   {
    "duration": 27,
    "start_time": "2022-02-23T13:14:41.293Z"
   },
   {
    "duration": 41,
    "start_time": "2022-02-23T13:14:41.322Z"
   },
   {
    "duration": 39,
    "start_time": "2022-02-23T13:14:41.366Z"
   },
   {
    "duration": 25,
    "start_time": "2022-02-23T13:14:41.408Z"
   },
   {
    "duration": 14,
    "start_time": "2022-02-23T13:14:41.435Z"
   },
   {
    "duration": 8,
    "start_time": "2022-02-23T13:14:41.451Z"
   },
   {
    "duration": 11,
    "start_time": "2022-02-23T13:14:41.493Z"
   },
   {
    "duration": 4,
    "start_time": "2022-02-23T13:14:41.507Z"
   },
   {
    "duration": 22,
    "start_time": "2022-02-23T13:14:41.513Z"
   },
   {
    "duration": 157,
    "start_time": "2022-02-23T13:14:41.538Z"
   },
   {
    "duration": 61,
    "start_time": "2022-02-23T13:14:41.698Z"
   },
   {
    "duration": 109,
    "start_time": "2022-02-23T13:14:41.761Z"
   },
   {
    "duration": 46,
    "start_time": "2022-02-23T13:14:41.872Z"
   },
   {
    "duration": 11,
    "start_time": "2022-02-23T13:14:41.920Z"
   },
   {
    "duration": 21,
    "start_time": "2022-02-23T13:14:41.937Z"
   },
   {
    "duration": 39,
    "start_time": "2022-02-23T13:14:41.961Z"
   },
   {
    "duration": 42,
    "start_time": "2022-02-23T13:14:42.002Z"
   },
   {
    "duration": 8,
    "start_time": "2022-02-23T13:14:42.046Z"
   },
   {
    "duration": 42,
    "start_time": "2022-02-23T13:14:42.056Z"
   },
   {
    "duration": 16,
    "start_time": "2022-02-23T13:14:42.100Z"
   },
   {
    "duration": 24,
    "start_time": "2022-02-23T13:14:42.118Z"
   },
   {
    "duration": 11,
    "start_time": "2022-02-23T13:14:42.144Z"
   },
   {
    "duration": 47,
    "start_time": "2022-02-23T13:14:42.157Z"
   },
   {
    "duration": 13,
    "start_time": "2022-02-23T13:14:42.207Z"
   },
   {
    "duration": 25,
    "start_time": "2022-02-23T13:14:42.223Z"
   },
   {
    "duration": 50,
    "start_time": "2022-02-23T13:14:42.250Z"
   },
   {
    "duration": 17,
    "start_time": "2022-02-23T13:24:00.642Z"
   },
   {
    "duration": 102,
    "start_time": "2022-02-23T13:24:43.316Z"
   },
   {
    "duration": 261,
    "start_time": "2022-02-23T13:31:33.732Z"
   },
   {
    "duration": 282,
    "start_time": "2022-02-23T13:32:12.028Z"
   },
   {
    "duration": 5,
    "start_time": "2022-02-23T13:33:32.991Z"
   },
   {
    "duration": 10,
    "start_time": "2022-02-23T13:33:50.745Z"
   },
   {
    "duration": 4,
    "start_time": "2022-02-23T13:34:02.539Z"
   },
   {
    "duration": 503,
    "start_time": "2022-02-23T13:34:02.546Z"
   },
   {
    "duration": 298,
    "start_time": "2022-02-23T13:34:03.052Z"
   },
   {
    "duration": 78,
    "start_time": "2022-02-23T13:34:03.353Z"
   },
   {
    "duration": 24,
    "start_time": "2022-02-23T13:34:03.433Z"
   },
   {
    "duration": 72,
    "start_time": "2022-02-23T13:34:03.459Z"
   },
   {
    "duration": 19,
    "start_time": "2022-02-23T13:34:03.534Z"
   },
   {
    "duration": 50,
    "start_time": "2022-02-23T13:34:03.556Z"
   },
   {
    "duration": 14,
    "start_time": "2022-02-23T13:34:03.609Z"
   },
   {
    "duration": 9,
    "start_time": "2022-02-23T13:34:03.627Z"
   },
   {
    "duration": 38,
    "start_time": "2022-02-23T13:34:03.638Z"
   },
   {
    "duration": 9,
    "start_time": "2022-02-23T13:34:03.678Z"
   },
   {
    "duration": 33,
    "start_time": "2022-02-23T13:34:03.693Z"
   },
   {
    "duration": 138,
    "start_time": "2022-02-23T13:34:03.729Z"
   },
   {
    "duration": 75,
    "start_time": "2022-02-23T13:34:03.869Z"
   },
   {
    "duration": 106,
    "start_time": "2022-02-23T13:34:03.946Z"
   },
   {
    "duration": 49,
    "start_time": "2022-02-23T13:34:04.054Z"
   },
   {
    "duration": 11,
    "start_time": "2022-02-23T13:34:04.105Z"
   },
   {
    "duration": 43,
    "start_time": "2022-02-23T13:34:04.119Z"
   },
   {
    "duration": 9,
    "start_time": "2022-02-23T13:34:04.164Z"
   },
   {
    "duration": 23,
    "start_time": "2022-02-23T13:34:04.194Z"
   },
   {
    "duration": 9,
    "start_time": "2022-02-23T13:34:04.219Z"
   },
   {
    "duration": 61,
    "start_time": "2022-02-23T13:34:04.232Z"
   },
   {
    "duration": 19,
    "start_time": "2022-02-23T13:34:04.296Z"
   },
   {
    "duration": 45,
    "start_time": "2022-02-23T13:34:04.318Z"
   },
   {
    "duration": 28,
    "start_time": "2022-02-23T13:34:04.365Z"
   },
   {
    "duration": 13,
    "start_time": "2022-02-23T13:34:04.396Z"
   },
   {
    "duration": 26,
    "start_time": "2022-02-23T13:34:04.411Z"
   },
   {
    "duration": 5,
    "start_time": "2022-02-23T13:34:04.440Z"
   },
   {
    "duration": 13,
    "start_time": "2022-02-23T13:34:04.447Z"
   },
   {
    "duration": 27,
    "start_time": "2022-02-23T13:34:13.789Z"
   },
   {
    "duration": 9,
    "start_time": "2022-02-23T13:35:00.218Z"
   },
   {
    "duration": 6,
    "start_time": "2022-02-23T13:35:08.794Z"
   },
   {
    "duration": 6,
    "start_time": "2022-02-23T13:38:31.713Z"
   },
   {
    "duration": 4,
    "start_time": "2022-02-23T13:39:47.429Z"
   },
   {
    "duration": 497,
    "start_time": "2022-02-23T13:39:47.436Z"
   },
   {
    "duration": 309,
    "start_time": "2022-02-23T13:39:47.936Z"
   },
   {
    "duration": 75,
    "start_time": "2022-02-23T13:39:48.248Z"
   },
   {
    "duration": 24,
    "start_time": "2022-02-23T13:39:48.327Z"
   },
   {
    "duration": 65,
    "start_time": "2022-02-23T13:39:48.354Z"
   },
   {
    "duration": 15,
    "start_time": "2022-02-23T13:39:48.421Z"
   },
   {
    "duration": 59,
    "start_time": "2022-02-23T13:39:48.439Z"
   },
   {
    "duration": 15,
    "start_time": "2022-02-23T13:39:48.503Z"
   },
   {
    "duration": 9,
    "start_time": "2022-02-23T13:39:48.521Z"
   },
   {
    "duration": 12,
    "start_time": "2022-02-23T13:39:48.532Z"
   },
   {
    "duration": 8,
    "start_time": "2022-02-23T13:39:48.547Z"
   },
   {
    "duration": 55,
    "start_time": "2022-02-23T13:39:48.557Z"
   },
   {
    "duration": 146,
    "start_time": "2022-02-23T13:39:48.614Z"
   },
   {
    "duration": 69,
    "start_time": "2022-02-23T13:39:48.762Z"
   },
   {
    "duration": 108,
    "start_time": "2022-02-23T13:39:48.834Z"
   },
   {
    "duration": 48,
    "start_time": "2022-02-23T13:39:48.945Z"
   },
   {
    "duration": 9,
    "start_time": "2022-02-23T13:39:48.996Z"
   },
   {
    "duration": 27,
    "start_time": "2022-02-23T13:39:49.008Z"
   },
   {
    "duration": 10,
    "start_time": "2022-02-23T13:39:49.038Z"
   },
   {
    "duration": 57,
    "start_time": "2022-02-23T13:39:49.051Z"
   },
   {
    "duration": 10,
    "start_time": "2022-02-23T13:39:49.111Z"
   },
   {
    "duration": 34,
    "start_time": "2022-02-23T13:39:49.124Z"
   },
   {
    "duration": 36,
    "start_time": "2022-02-23T13:39:49.161Z"
   },
   {
    "duration": 29,
    "start_time": "2022-02-23T13:39:49.200Z"
   },
   {
    "duration": 11,
    "start_time": "2022-02-23T13:39:49.231Z"
   },
   {
    "duration": 51,
    "start_time": "2022-02-23T13:39:49.246Z"
   },
   {
    "duration": 20,
    "start_time": "2022-02-23T13:39:49.300Z"
   },
   {
    "duration": 10,
    "start_time": "2022-02-23T13:39:54.539Z"
   },
   {
    "duration": 9,
    "start_time": "2022-02-23T13:40:27.525Z"
   },
   {
    "duration": 9,
    "start_time": "2022-02-23T13:41:18.625Z"
   },
   {
    "duration": 28,
    "start_time": "2022-02-23T13:42:15.270Z"
   },
   {
    "duration": 330,
    "start_time": "2022-02-23T13:42:22.014Z"
   },
   {
    "duration": 7,
    "start_time": "2022-02-23T13:42:27.402Z"
   },
   {
    "duration": 6,
    "start_time": "2022-02-23T13:44:25.488Z"
   },
   {
    "duration": 13,
    "start_time": "2022-02-23T13:44:54.412Z"
   },
   {
    "duration": 5,
    "start_time": "2022-02-23T13:45:09.212Z"
   },
   {
    "duration": 13,
    "start_time": "2022-02-23T13:45:12.801Z"
   },
   {
    "duration": 6,
    "start_time": "2022-02-23T13:45:25.163Z"
   },
   {
    "duration": 9,
    "start_time": "2022-02-23T13:45:26.925Z"
   },
   {
    "duration": 6848,
    "start_time": "2022-02-23T13:45:40.165Z"
   },
   {
    "duration": 8,
    "start_time": "2022-02-23T13:52:26.274Z"
   },
   {
    "duration": 11,
    "start_time": "2022-02-23T13:52:27.911Z"
   },
   {
    "duration": 25,
    "start_time": "2022-02-23T13:53:12.761Z"
   },
   {
    "duration": 29,
    "start_time": "2022-02-23T13:53:35.710Z"
   },
   {
    "duration": 9,
    "start_time": "2022-02-23T13:57:52.774Z"
   },
   {
    "duration": 300,
    "start_time": "2022-02-23T13:58:07.317Z"
   },
   {
    "duration": 325,
    "start_time": "2022-02-23T13:59:30.023Z"
   },
   {
    "duration": 9,
    "start_time": "2022-02-23T13:59:54.034Z"
   },
   {
    "duration": 769,
    "start_time": "2022-02-23T14:00:18.484Z"
   },
   {
    "duration": 279,
    "start_time": "2022-02-23T14:00:29.708Z"
   },
   {
    "duration": 27,
    "start_time": "2022-02-23T14:01:37.323Z"
   },
   {
    "duration": 32,
    "start_time": "2022-02-23T14:02:11.972Z"
   },
   {
    "duration": 15,
    "start_time": "2022-02-23T14:03:30.372Z"
   },
   {
    "duration": 11,
    "start_time": "2022-02-23T14:12:33.506Z"
   },
   {
    "duration": 16,
    "start_time": "2022-02-23T14:19:21.755Z"
   },
   {
    "duration": 6,
    "start_time": "2022-02-23T15:02:19.911Z"
   },
   {
    "duration": 12316,
    "start_time": "2022-02-23T15:03:18.419Z"
   },
   {
    "duration": 6,
    "start_time": "2022-02-23T15:04:49.462Z"
   },
   {
    "duration": 14374,
    "start_time": "2022-02-23T15:04:52.457Z"
   },
   {
    "duration": 54,
    "start_time": "2022-02-23T15:05:18.518Z"
   },
   {
    "duration": 355,
    "start_time": "2022-02-23T15:05:22.830Z"
   },
   {
    "duration": 18,
    "start_time": "2022-02-23T15:05:35.892Z"
   },
   {
    "duration": 5,
    "start_time": "2022-02-23T15:10:14.386Z"
   },
   {
    "duration": 330,
    "start_time": "2022-02-23T15:10:15.795Z"
   },
   {
    "duration": 17,
    "start_time": "2022-02-23T15:10:16.880Z"
   },
   {
    "duration": 678,
    "start_time": "2022-02-23T15:11:25.729Z"
   },
   {
    "duration": 8015,
    "start_time": "2022-02-23T15:13:42.803Z"
   },
   {
    "duration": 587,
    "start_time": "2022-02-23T15:13:54.003Z"
   },
   {
    "duration": 6662,
    "start_time": "2022-02-23T15:14:02.692Z"
   },
   {
    "duration": 5,
    "start_time": "2022-02-23T15:17:55.128Z"
   },
   {
    "duration": 703,
    "start_time": "2022-02-23T15:18:19.717Z"
   },
   {
    "duration": 1253,
    "start_time": "2022-02-23T15:18:40.302Z"
   },
   {
    "duration": 5,
    "start_time": "2022-02-23T15:18:48.216Z"
   },
   {
    "duration": 510,
    "start_time": "2022-02-23T15:18:48.223Z"
   },
   {
    "duration": 333,
    "start_time": "2022-02-23T15:18:48.736Z"
   },
   {
    "duration": 75,
    "start_time": "2022-02-23T15:18:49.073Z"
   },
   {
    "duration": 55,
    "start_time": "2022-02-23T15:18:49.151Z"
   },
   {
    "duration": 42,
    "start_time": "2022-02-23T15:18:49.209Z"
   },
   {
    "duration": 41,
    "start_time": "2022-02-23T15:18:49.253Z"
   },
   {
    "duration": 28,
    "start_time": "2022-02-23T15:18:49.297Z"
   },
   {
    "duration": 20,
    "start_time": "2022-02-23T15:18:49.330Z"
   },
   {
    "duration": 43,
    "start_time": "2022-02-23T15:18:49.353Z"
   },
   {
    "duration": 32,
    "start_time": "2022-02-23T15:18:49.399Z"
   },
   {
    "duration": 16,
    "start_time": "2022-02-23T15:18:49.434Z"
   },
   {
    "duration": 43,
    "start_time": "2022-02-23T15:18:49.453Z"
   },
   {
    "duration": 139,
    "start_time": "2022-02-23T15:18:49.499Z"
   },
   {
    "duration": 84,
    "start_time": "2022-02-23T15:18:49.640Z"
   },
   {
    "duration": 122,
    "start_time": "2022-02-23T15:18:49.727Z"
   },
   {
    "duration": 60,
    "start_time": "2022-02-23T15:18:49.852Z"
   },
   {
    "duration": 12,
    "start_time": "2022-02-23T15:18:49.915Z"
   },
   {
    "duration": 42,
    "start_time": "2022-02-23T15:18:49.929Z"
   },
   {
    "duration": 10,
    "start_time": "2022-02-23T15:18:49.974Z"
   },
   {
    "duration": 30,
    "start_time": "2022-02-23T15:18:49.994Z"
   },
   {
    "duration": 27,
    "start_time": "2022-02-23T15:18:50.028Z"
   },
   {
    "duration": 47,
    "start_time": "2022-02-23T15:18:50.058Z"
   },
   {
    "duration": 15,
    "start_time": "2022-02-23T15:18:50.108Z"
   },
   {
    "duration": 39,
    "start_time": "2022-02-23T15:18:50.126Z"
   },
   {
    "duration": 12,
    "start_time": "2022-02-23T15:18:50.167Z"
   },
   {
    "duration": 13,
    "start_time": "2022-02-23T15:18:50.193Z"
   },
   {
    "duration": 38,
    "start_time": "2022-02-23T15:18:50.209Z"
   },
   {
    "duration": 13,
    "start_time": "2022-02-23T15:18:50.250Z"
   },
   {
    "duration": 7,
    "start_time": "2022-02-23T15:18:50.265Z"
   },
   {
    "duration": 22,
    "start_time": "2022-02-23T15:18:50.274Z"
   },
   {
    "duration": 28,
    "start_time": "2022-02-23T15:18:50.298Z"
   },
   {
    "duration": 32,
    "start_time": "2022-02-23T15:18:50.328Z"
   },
   {
    "duration": 23,
    "start_time": "2022-02-23T15:18:50.363Z"
   },
   {
    "duration": 24,
    "start_time": "2022-02-23T15:18:50.389Z"
   },
   {
    "duration": 2552,
    "start_time": "2022-02-23T15:18:50.415Z"
   },
   {
    "duration": 22,
    "start_time": "2022-02-23T15:18:52.996Z"
   },
   {
    "duration": 692,
    "start_time": "2022-02-23T15:18:53.020Z"
   },
   {
    "duration": 5,
    "start_time": "2022-02-23T15:23:12.377Z"
   },
   {
    "duration": 3632,
    "start_time": "2022-02-23T15:24:47.851Z"
   },
   {
    "duration": 623,
    "start_time": "2022-02-23T15:24:56.676Z"
   },
   {
    "duration": 5,
    "start_time": "2022-02-23T15:25:25.826Z"
   },
   {
    "duration": 337,
    "start_time": "2022-02-23T15:25:29.376Z"
   },
   {
    "duration": 17,
    "start_time": "2022-02-23T15:25:32.888Z"
   },
   {
    "duration": 21,
    "start_time": "2022-02-23T15:28:22.882Z"
   },
   {
    "duration": 7,
    "start_time": "2022-02-23T15:28:38.863Z"
   },
   {
    "duration": 10,
    "start_time": "2022-02-23T15:28:48.629Z"
   },
   {
    "duration": 283,
    "start_time": "2022-02-23T15:34:32.486Z"
   },
   {
    "duration": 7,
    "start_time": "2022-02-23T15:34:52.589Z"
   },
   {
    "duration": 20,
    "start_time": "2022-02-23T15:35:03.237Z"
   },
   {
    "duration": 22,
    "start_time": "2022-02-23T15:36:13.997Z"
   },
   {
    "duration": 3,
    "start_time": "2022-02-23T15:40:31.313Z"
   },
   {
    "duration": 499,
    "start_time": "2022-02-23T15:40:31.319Z"
   },
   {
    "duration": 305,
    "start_time": "2022-02-23T15:40:31.821Z"
   },
   {
    "duration": 75,
    "start_time": "2022-02-23T15:40:32.128Z"
   },
   {
    "duration": 24,
    "start_time": "2022-02-23T15:40:32.205Z"
   },
   {
    "duration": 64,
    "start_time": "2022-02-23T15:40:32.231Z"
   },
   {
    "duration": 14,
    "start_time": "2022-02-23T15:40:32.298Z"
   },
   {
    "duration": 32,
    "start_time": "2022-02-23T15:40:32.315Z"
   },
   {
    "duration": 14,
    "start_time": "2022-02-23T15:40:32.350Z"
   },
   {
    "duration": 34,
    "start_time": "2022-02-23T15:40:32.367Z"
   },
   {
    "duration": 12,
    "start_time": "2022-02-23T15:40:32.404Z"
   },
   {
    "duration": 6,
    "start_time": "2022-02-23T15:40:32.418Z"
   },
   {
    "duration": 28,
    "start_time": "2022-02-23T15:40:32.427Z"
   },
   {
    "duration": 168,
    "start_time": "2022-02-23T15:40:32.458Z"
   },
   {
    "duration": 71,
    "start_time": "2022-02-23T15:40:32.628Z"
   },
   {
    "duration": 105,
    "start_time": "2022-02-23T15:40:32.701Z"
   },
   {
    "duration": 36,
    "start_time": "2022-02-23T15:40:32.808Z"
   },
   {
    "duration": 11,
    "start_time": "2022-02-23T15:40:32.846Z"
   },
   {
    "duration": 45,
    "start_time": "2022-02-23T15:40:32.860Z"
   },
   {
    "duration": 8,
    "start_time": "2022-02-23T15:40:32.908Z"
   },
   {
    "duration": 32,
    "start_time": "2022-02-23T15:40:32.919Z"
   },
   {
    "duration": 11,
    "start_time": "2022-02-23T15:40:32.954Z"
   },
   {
    "duration": 29,
    "start_time": "2022-02-23T15:40:32.995Z"
   },
   {
    "duration": 16,
    "start_time": "2022-02-23T15:40:33.027Z"
   },
   {
    "duration": 24,
    "start_time": "2022-02-23T15:40:49.885Z"
   },
   {
    "duration": 12,
    "start_time": "2022-02-23T15:40:55.531Z"
   },
   {
    "duration": 16,
    "start_time": "2022-02-23T15:40:55.546Z"
   },
   {
    "duration": 26,
    "start_time": "2022-02-23T15:40:55.565Z"
   },
   {
    "duration": 9,
    "start_time": "2022-02-23T15:40:55.594Z"
   },
   {
    "duration": 7,
    "start_time": "2022-02-23T15:40:55.605Z"
   },
   {
    "duration": 9,
    "start_time": "2022-02-23T15:40:55.614Z"
   },
   {
    "duration": 19,
    "start_time": "2022-02-23T15:40:55.625Z"
   },
   {
    "duration": 11,
    "start_time": "2022-02-23T15:40:55.647Z"
   },
   {
    "duration": 46,
    "start_time": "2022-02-23T15:40:55.660Z"
   },
   {
    "duration": 6,
    "start_time": "2022-02-23T15:40:55.708Z"
   },
   {
    "duration": 359,
    "start_time": "2022-02-23T15:40:55.717Z"
   },
   {
    "duration": 5,
    "start_time": "2022-02-23T15:40:56.078Z"
   },
   {
    "duration": 19,
    "start_time": "2022-02-23T15:40:56.094Z"
   },
   {
    "duration": 21,
    "start_time": "2022-02-23T15:41:57.522Z"
   },
   {
    "duration": 19,
    "start_time": "2022-02-23T15:54:03.708Z"
   },
   {
    "duration": 105,
    "start_time": "2022-02-23T15:55:41.057Z"
   },
   {
    "duration": 5,
    "start_time": "2022-02-23T15:55:46.985Z"
   },
   {
    "duration": 20,
    "start_time": "2022-02-23T15:55:47.944Z"
   },
   {
    "duration": 377,
    "start_time": "2022-02-23T17:26:06.878Z"
   },
   {
    "duration": 34,
    "start_time": "2022-02-23T17:26:57.290Z"
   },
   {
    "duration": 12,
    "start_time": "2022-02-23T17:27:05.953Z"
   },
   {
    "duration": 32,
    "start_time": "2022-02-23T17:39:04.289Z"
   },
   {
    "duration": 15,
    "start_time": "2022-02-23T17:39:09.363Z"
   },
   {
    "duration": 276,
    "start_time": "2022-02-23T17:40:30.827Z"
   },
   {
    "duration": 696,
    "start_time": "2022-02-23T17:41:01.427Z"
   },
   {
    "duration": 365,
    "start_time": "2022-02-23T17:41:14.063Z"
   },
   {
    "duration": 865,
    "start_time": "2022-02-23T17:43:05.775Z"
   },
   {
    "duration": 630,
    "start_time": "2022-02-23T17:43:19.128Z"
   },
   {
    "duration": 5,
    "start_time": "2022-02-23T17:43:56.910Z"
   },
   {
    "duration": 627,
    "start_time": "2022-02-23T17:43:56.928Z"
   },
   {
    "duration": 299,
    "start_time": "2022-02-23T17:43:57.558Z"
   },
   {
    "duration": 83,
    "start_time": "2022-02-23T17:43:57.861Z"
   },
   {
    "duration": 49,
    "start_time": "2022-02-23T17:43:57.947Z"
   },
   {
    "duration": 42,
    "start_time": "2022-02-23T17:43:57.998Z"
   },
   {
    "duration": 15,
    "start_time": "2022-02-23T17:43:58.042Z"
   },
   {
    "duration": 60,
    "start_time": "2022-02-23T17:43:58.060Z"
   },
   {
    "duration": 16,
    "start_time": "2022-02-23T17:43:58.122Z"
   },
   {
    "duration": 12,
    "start_time": "2022-02-23T17:43:58.142Z"
   },
   {
    "duration": 38,
    "start_time": "2022-02-23T17:43:58.157Z"
   },
   {
    "duration": 12,
    "start_time": "2022-02-23T17:43:58.198Z"
   },
   {
    "duration": 29,
    "start_time": "2022-02-23T17:43:58.212Z"
   },
   {
    "duration": 139,
    "start_time": "2022-02-23T17:43:58.244Z"
   },
   {
    "duration": 69,
    "start_time": "2022-02-23T17:43:58.386Z"
   },
   {
    "duration": 114,
    "start_time": "2022-02-23T17:43:58.457Z"
   },
   {
    "duration": 48,
    "start_time": "2022-02-23T17:43:58.574Z"
   },
   {
    "duration": 11,
    "start_time": "2022-02-23T17:43:58.625Z"
   },
   {
    "duration": 30,
    "start_time": "2022-02-23T17:43:58.639Z"
   },
   {
    "duration": 29,
    "start_time": "2022-02-23T17:43:58.672Z"
   },
   {
    "duration": 22,
    "start_time": "2022-02-23T17:43:58.703Z"
   },
   {
    "duration": 10,
    "start_time": "2022-02-23T17:43:58.727Z"
   },
   {
    "duration": 67,
    "start_time": "2022-02-23T17:43:58.740Z"
   },
   {
    "duration": 16,
    "start_time": "2022-02-23T17:43:58.810Z"
   },
   {
    "duration": 33,
    "start_time": "2022-02-23T17:43:58.829Z"
   },
   {
    "duration": 36,
    "start_time": "2022-02-23T17:43:58.864Z"
   },
   {
    "duration": 21,
    "start_time": "2022-02-23T17:43:58.902Z"
   },
   {
    "duration": 18,
    "start_time": "2022-02-23T17:43:58.930Z"
   },
   {
    "duration": 8,
    "start_time": "2022-02-23T17:43:58.951Z"
   },
   {
    "duration": 36,
    "start_time": "2022-02-23T17:43:58.961Z"
   },
   {
    "duration": 13,
    "start_time": "2022-02-23T17:43:59.000Z"
   },
   {
    "duration": 15,
    "start_time": "2022-02-23T17:43:59.015Z"
   },
   {
    "duration": 11,
    "start_time": "2022-02-23T17:43:59.032Z"
   },
   {
    "duration": 50,
    "start_time": "2022-02-23T17:43:59.046Z"
   },
   {
    "duration": 10,
    "start_time": "2022-02-23T17:43:59.099Z"
   },
   {
    "duration": 351,
    "start_time": "2022-02-23T17:43:59.111Z"
   },
   {
    "duration": 4,
    "start_time": "2022-02-23T17:43:59.465Z"
   },
   {
    "duration": 38,
    "start_time": "2022-02-23T17:43:59.471Z"
   },
   {
    "duration": 613,
    "start_time": "2022-02-23T17:43:59.512Z"
   },
   {
    "duration": 136787,
    "start_time": "2022-02-23T17:41:43.341Z"
   },
   {
    "duration": 136787,
    "start_time": "2022-02-23T17:41:43.343Z"
   },
   {
    "duration": 364,
    "start_time": "2022-02-23T17:44:14.062Z"
   },
   {
    "duration": 380,
    "start_time": "2022-02-23T17:44:35.475Z"
   },
   {
    "duration": 421,
    "start_time": "2022-02-23T17:46:37.426Z"
   },
   {
    "duration": 394,
    "start_time": "2022-02-23T17:47:06.074Z"
   },
   {
    "duration": 462,
    "start_time": "2022-02-23T17:47:36.326Z"
   },
   {
    "duration": 361,
    "start_time": "2022-02-23T17:47:45.700Z"
   },
   {
    "duration": 41,
    "start_time": "2022-02-23T17:48:04.273Z"
   },
   {
    "duration": 62,
    "start_time": "2022-02-23T17:48:37.175Z"
   },
   {
    "duration": 42,
    "start_time": "2022-02-23T17:48:44.002Z"
   },
   {
    "duration": 45,
    "start_time": "2022-02-23T17:50:48.782Z"
   },
   {
    "duration": 43,
    "start_time": "2022-02-23T17:51:26.737Z"
   },
   {
    "duration": 367,
    "start_time": "2022-02-23T17:52:23.618Z"
   },
   {
    "duration": 391,
    "start_time": "2022-02-23T17:53:04.673Z"
   },
   {
    "duration": 467,
    "start_time": "2022-02-23T17:55:42.599Z"
   },
   {
    "duration": 453,
    "start_time": "2022-02-23T17:58:44.574Z"
   },
   {
    "duration": 388,
    "start_time": "2022-02-23T17:58:56.234Z"
   },
   {
    "duration": 43,
    "start_time": "2022-02-23T18:00:20.973Z"
   },
   {
    "duration": 165,
    "start_time": "2022-02-23T18:12:12.782Z"
   },
   {
    "duration": 95,
    "start_time": "2022-02-23T18:12:47.720Z"
   },
   {
    "duration": 720,
    "start_time": "2022-02-23T18:13:24.506Z"
   },
   {
    "duration": 466,
    "start_time": "2022-02-23T18:14:10.732Z"
   },
   {
    "duration": 628,
    "start_time": "2022-02-23T18:14:27.344Z"
   },
   {
    "duration": 97,
    "start_time": "2022-02-23T18:14:58.119Z"
   },
   {
    "duration": 625,
    "start_time": "2022-02-23T18:15:27.406Z"
   },
   {
    "duration": 800,
    "start_time": "2022-02-23T18:16:06.970Z"
   },
   {
    "duration": 792,
    "start_time": "2022-02-23T18:16:16.944Z"
   },
   {
    "duration": 790,
    "start_time": "2022-02-23T18:16:32.831Z"
   },
   {
    "duration": 703,
    "start_time": "2022-02-23T18:17:17.656Z"
   },
   {
    "duration": 755,
    "start_time": "2022-02-23T18:17:22.134Z"
   },
   {
    "duration": 553,
    "start_time": "2022-02-23T18:25:25.505Z"
   },
   {
    "duration": 484,
    "start_time": "2022-02-23T18:25:38.005Z"
   },
   {
    "duration": 490,
    "start_time": "2022-02-23T18:25:51.129Z"
   },
   {
    "duration": 355,
    "start_time": "2022-02-23T18:25:58.542Z"
   },
   {
    "duration": 448,
    "start_time": "2022-02-23T18:26:14.068Z"
   },
   {
    "duration": 775,
    "start_time": "2022-02-23T18:26:41.754Z"
   },
   {
    "duration": 5,
    "start_time": "2022-02-23T18:33:20.615Z"
   },
   {
    "duration": 8,
    "start_time": "2022-02-23T18:33:30.128Z"
   },
   {
    "duration": 47,
    "start_time": "2022-02-23T18:42:21.175Z"
   },
   {
    "duration": 14,
    "start_time": "2022-02-23T18:48:05.965Z"
   },
   {
    "duration": 36,
    "start_time": "2022-02-23T18:48:31.687Z"
   },
   {
    "duration": 10,
    "start_time": "2022-02-23T18:48:48.108Z"
   },
   {
    "duration": 10,
    "start_time": "2022-02-23T18:49:28.149Z"
   },
   {
    "duration": 4,
    "start_time": "2022-02-23T18:50:31.511Z"
   },
   {
    "duration": 294,
    "start_time": "2022-02-23T19:04:26.023Z"
   },
   {
    "duration": 9,
    "start_time": "2022-02-23T19:04:37.123Z"
   },
   {
    "duration": 31,
    "start_time": "2022-02-23T19:12:29.432Z"
   },
   {
    "duration": 15,
    "start_time": "2022-02-23T19:12:46.965Z"
   },
   {
    "duration": 15,
    "start_time": "2022-02-23T19:12:53.732Z"
   },
   {
    "duration": 21,
    "start_time": "2022-02-23T19:13:00.257Z"
   },
   {
    "duration": 9,
    "start_time": "2022-02-23T19:13:33.664Z"
   },
   {
    "duration": 675,
    "start_time": "2022-02-23T19:15:29.169Z"
   },
   {
    "duration": 609,
    "start_time": "2022-02-23T19:16:05.531Z"
   },
   {
    "duration": 53,
    "start_time": "2022-02-23T19:17:22.893Z"
   },
   {
    "duration": 10,
    "start_time": "2022-02-23T19:20:43.105Z"
   },
   {
    "duration": 9,
    "start_time": "2022-02-23T19:20:52.896Z"
   },
   {
    "duration": 11,
    "start_time": "2022-02-23T19:21:48.205Z"
   },
   {
    "duration": 295,
    "start_time": "2022-02-23T19:25:48.418Z"
   },
   {
    "duration": 11,
    "start_time": "2022-02-23T19:26:02.017Z"
   },
   {
    "duration": 18,
    "start_time": "2022-02-23T19:26:36.266Z"
   },
   {
    "duration": 10,
    "start_time": "2022-02-23T19:27:30.042Z"
   },
   {
    "duration": 9,
    "start_time": "2022-02-23T19:28:01.322Z"
   },
   {
    "duration": 261,
    "start_time": "2022-02-23T19:28:47.083Z"
   },
   {
    "duration": 10,
    "start_time": "2022-02-23T19:29:14.603Z"
   },
   {
    "duration": 8,
    "start_time": "2022-02-23T19:31:27.128Z"
   },
   {
    "duration": 10,
    "start_time": "2022-02-23T19:43:36.230Z"
   },
   {
    "duration": 8,
    "start_time": "2022-02-23T19:44:16.963Z"
   },
   {
    "duration": 12,
    "start_time": "2022-02-23T19:45:49.499Z"
   },
   {
    "duration": 7,
    "start_time": "2022-02-23T19:46:39.476Z"
   },
   {
    "duration": 651,
    "start_time": "2022-02-23T19:54:33.761Z"
   },
   {
    "duration": 9,
    "start_time": "2022-02-23T19:57:04.910Z"
   },
   {
    "duration": 10,
    "start_time": "2022-02-23T19:57:24.897Z"
   },
   {
    "duration": 4,
    "start_time": "2022-02-23T19:57:53.705Z"
   },
   {
    "duration": 535,
    "start_time": "2022-02-23T19:57:53.712Z"
   },
   {
    "duration": 298,
    "start_time": "2022-02-23T19:57:54.250Z"
   },
   {
    "duration": 78,
    "start_time": "2022-02-23T19:57:54.550Z"
   },
   {
    "duration": 27,
    "start_time": "2022-02-23T19:57:54.630Z"
   },
   {
    "duration": 66,
    "start_time": "2022-02-23T19:57:54.660Z"
   },
   {
    "duration": 17,
    "start_time": "2022-02-23T19:57:54.728Z"
   },
   {
    "duration": 49,
    "start_time": "2022-02-23T19:57:54.750Z"
   },
   {
    "duration": 15,
    "start_time": "2022-02-23T19:57:54.802Z"
   },
   {
    "duration": 10,
    "start_time": "2022-02-23T19:57:54.819Z"
   },
   {
    "duration": 21,
    "start_time": "2022-02-23T19:57:54.831Z"
   },
   {
    "duration": 6,
    "start_time": "2022-02-23T19:57:54.855Z"
   },
   {
    "duration": 49,
    "start_time": "2022-02-23T19:57:54.863Z"
   },
   {
    "duration": 140,
    "start_time": "2022-02-23T19:57:54.915Z"
   },
   {
    "duration": 80,
    "start_time": "2022-02-23T19:57:55.058Z"
   },
   {
    "duration": 116,
    "start_time": "2022-02-23T19:57:55.141Z"
   },
   {
    "duration": 51,
    "start_time": "2022-02-23T19:57:55.259Z"
   },
   {
    "duration": 11,
    "start_time": "2022-02-23T19:57:55.313Z"
   },
   {
    "duration": 34,
    "start_time": "2022-02-23T19:57:55.326Z"
   },
   {
    "duration": 10,
    "start_time": "2022-02-23T19:57:55.362Z"
   },
   {
    "duration": 22,
    "start_time": "2022-02-23T19:57:55.394Z"
   },
   {
    "duration": 8,
    "start_time": "2022-02-23T19:57:55.419Z"
   },
   {
    "duration": 31,
    "start_time": "2022-02-23T19:57:55.431Z"
   },
   {
    "duration": 16,
    "start_time": "2022-02-23T19:57:55.493Z"
   },
   {
    "duration": 27,
    "start_time": "2022-02-23T19:57:55.511Z"
   },
   {
    "duration": 11,
    "start_time": "2022-02-23T19:57:55.540Z"
   },
   {
    "duration": 49,
    "start_time": "2022-02-23T19:57:55.554Z"
   },
   {
    "duration": 23,
    "start_time": "2022-02-23T19:57:55.606Z"
   },
   {
    "duration": 8,
    "start_time": "2022-02-23T19:57:55.632Z"
   },
   {
    "duration": 6,
    "start_time": "2022-02-23T19:57:55.642Z"
   },
   {
    "duration": 46,
    "start_time": "2022-02-23T19:57:55.650Z"
   },
   {
    "duration": 19,
    "start_time": "2022-02-23T19:57:55.699Z"
   },
   {
    "duration": 13,
    "start_time": "2022-02-23T19:57:55.720Z"
   },
   {
    "duration": 18,
    "start_time": "2022-02-23T19:57:55.735Z"
   },
   {
    "duration": 8,
    "start_time": "2022-02-23T19:57:55.755Z"
   },
   {
    "duration": 388,
    "start_time": "2022-02-23T19:57:55.765Z"
   },
   {
    "duration": 5,
    "start_time": "2022-02-23T19:57:56.156Z"
   },
   {
    "duration": 35,
    "start_time": "2022-02-23T19:57:56.164Z"
   },
   {
    "duration": 679,
    "start_time": "2022-02-23T19:57:56.202Z"
   },
   {
    "duration": 53,
    "start_time": "2022-02-23T19:57:56.884Z"
   },
   {
    "duration": 13,
    "start_time": "2022-02-23T19:57:56.940Z"
   },
   {
    "duration": 833,
    "start_time": "2022-02-23T19:57:56.956Z"
   },
   {
    "duration": 46,
    "start_time": "2022-02-23T19:57:57.793Z"
   },
   {
    "duration": 17,
    "start_time": "2022-02-23T19:57:57.841Z"
   },
   {
    "duration": 36,
    "start_time": "2022-02-23T19:57:57.860Z"
   },
   {
    "duration": 10,
    "start_time": "2022-02-23T19:57:57.898Z"
   },
   {
    "duration": 777,
    "start_time": "2022-02-23T19:57:57.910Z"
   },
   {
    "duration": 682,
    "start_time": "2022-02-23T19:59:05.197Z"
   },
   {
    "duration": 463,
    "start_time": "2022-02-23T19:59:16.860Z"
   },
   {
    "duration": 647,
    "start_time": "2022-02-23T19:59:30.172Z"
   },
   {
    "duration": 684,
    "start_time": "2022-02-23T20:00:38.671Z"
   },
   {
    "duration": 50,
    "start_time": "2022-02-23T20:01:35.973Z"
   },
   {
    "duration": 4,
    "start_time": "2022-02-23T20:02:27.135Z"
   },
   {
    "duration": 520,
    "start_time": "2022-02-23T20:02:27.142Z"
   },
   {
    "duration": 299,
    "start_time": "2022-02-23T20:02:27.665Z"
   },
   {
    "duration": 76,
    "start_time": "2022-02-23T20:02:27.966Z"
   },
   {
    "duration": 23,
    "start_time": "2022-02-23T20:02:28.045Z"
   },
   {
    "duration": 63,
    "start_time": "2022-02-23T20:02:28.070Z"
   },
   {
    "duration": 15,
    "start_time": "2022-02-23T20:02:28.135Z"
   },
   {
    "duration": 52,
    "start_time": "2022-02-23T20:02:28.153Z"
   },
   {
    "duration": 15,
    "start_time": "2022-02-23T20:02:28.209Z"
   },
   {
    "duration": 8,
    "start_time": "2022-02-23T20:02:28.227Z"
   },
   {
    "duration": 13,
    "start_time": "2022-02-23T20:02:28.238Z"
   },
   {
    "duration": 10,
    "start_time": "2022-02-23T20:02:28.254Z"
   },
   {
    "duration": 48,
    "start_time": "2022-02-23T20:02:28.266Z"
   },
   {
    "duration": 142,
    "start_time": "2022-02-23T20:02:28.316Z"
   },
   {
    "duration": 78,
    "start_time": "2022-02-23T20:02:28.460Z"
   },
   {
    "duration": 108,
    "start_time": "2022-02-23T20:02:28.540Z"
   },
   {
    "duration": 48,
    "start_time": "2022-02-23T20:02:28.650Z"
   },
   {
    "duration": 12,
    "start_time": "2022-02-23T20:02:28.710Z"
   },
   {
    "duration": 28,
    "start_time": "2022-02-23T20:02:28.725Z"
   },
   {
    "duration": 10,
    "start_time": "2022-02-23T20:02:28.755Z"
   },
   {
    "duration": 45,
    "start_time": "2022-02-23T20:02:28.768Z"
   },
   {
    "duration": 9,
    "start_time": "2022-02-23T20:02:28.816Z"
   },
   {
    "duration": 29,
    "start_time": "2022-02-23T20:02:28.827Z"
   },
   {
    "duration": 45,
    "start_time": "2022-02-23T20:02:28.858Z"
   },
   {
    "duration": 27,
    "start_time": "2022-02-23T20:02:28.906Z"
   },
   {
    "duration": 16,
    "start_time": "2022-02-23T20:02:28.935Z"
   },
   {
    "duration": 47,
    "start_time": "2022-02-23T20:02:28.956Z"
   },
   {
    "duration": 20,
    "start_time": "2022-02-23T20:02:29.006Z"
   },
   {
    "duration": 8,
    "start_time": "2022-02-23T20:02:29.029Z"
   },
   {
    "duration": 9,
    "start_time": "2022-02-23T20:02:29.039Z"
   },
   {
    "duration": 43,
    "start_time": "2022-02-23T20:02:29.050Z"
   },
   {
    "duration": 11,
    "start_time": "2022-02-23T20:02:29.096Z"
   },
   {
    "duration": 13,
    "start_time": "2022-02-23T20:02:29.109Z"
   },
   {
    "duration": 15,
    "start_time": "2022-02-23T20:02:29.124Z"
   },
   {
    "duration": 12,
    "start_time": "2022-02-23T20:02:29.142Z"
   },
   {
    "duration": 376,
    "start_time": "2022-02-23T20:02:29.156Z"
   },
   {
    "duration": 5,
    "start_time": "2022-02-23T20:02:29.534Z"
   },
   {
    "duration": 27,
    "start_time": "2022-02-23T20:02:29.541Z"
   },
   {
    "duration": 682,
    "start_time": "2022-02-23T20:02:29.571Z"
   },
   {
    "duration": 60,
    "start_time": "2022-02-23T20:02:30.256Z"
   },
   {
    "duration": 13,
    "start_time": "2022-02-23T20:02:30.318Z"
   },
   {
    "duration": 794,
    "start_time": "2022-02-23T20:02:30.334Z"
   },
   {
    "duration": 63,
    "start_time": "2022-02-23T20:02:31.130Z"
   },
   {
    "duration": 19,
    "start_time": "2022-02-23T20:02:31.196Z"
   },
   {
    "duration": 10,
    "start_time": "2022-02-23T20:02:31.218Z"
   },
   {
    "duration": 13,
    "start_time": "2022-02-23T20:02:31.230Z"
   },
   {
    "duration": 772,
    "start_time": "2022-02-23T20:02:31.246Z"
   },
   {
    "duration": 52,
    "start_time": "2022-02-23T20:02:32.022Z"
   },
   {
    "duration": 49,
    "start_time": "2022-02-23T20:04:43.558Z"
   },
   {
    "duration": 36,
    "start_time": "2022-02-23T21:15:05.206Z"
   },
   {
    "duration": 35,
    "start_time": "2022-02-23T21:16:41.783Z"
   },
   {
    "duration": 12,
    "start_time": "2022-02-23T21:26:49.194Z"
   },
   {
    "duration": 20,
    "start_time": "2022-02-23T21:48:11.002Z"
   },
   {
    "duration": 665,
    "start_time": "2022-02-23T21:49:15.665Z"
   },
   {
    "duration": 941,
    "start_time": "2022-02-23T21:49:30.228Z"
   },
   {
    "duration": 495,
    "start_time": "2022-02-23T21:49:39.579Z"
   },
   {
    "duration": 765,
    "start_time": "2022-02-23T21:52:19.464Z"
   },
   {
    "duration": 42,
    "start_time": "2022-02-23T21:55:43.076Z"
   },
   {
    "duration": 44,
    "start_time": "2022-02-23T21:55:56.613Z"
   },
   {
    "duration": 306,
    "start_time": "2022-02-23T22:03:25.275Z"
   },
   {
    "duration": 180,
    "start_time": "2022-02-23T22:03:31.889Z"
   },
   {
    "duration": 208,
    "start_time": "2022-02-23T22:05:15.750Z"
   },
   {
    "duration": 306,
    "start_time": "2022-02-23T22:05:20.699Z"
   },
   {
    "duration": 3,
    "start_time": "2022-02-23T22:05:24.872Z"
   },
   {
    "duration": 531,
    "start_time": "2022-02-23T22:05:24.878Z"
   },
   {
    "duration": 337,
    "start_time": "2022-02-23T22:05:25.412Z"
   },
   {
    "duration": 77,
    "start_time": "2022-02-23T22:05:25.751Z"
   },
   {
    "duration": 24,
    "start_time": "2022-02-23T22:05:25.830Z"
   },
   {
    "duration": 64,
    "start_time": "2022-02-23T22:05:25.856Z"
   },
   {
    "duration": 15,
    "start_time": "2022-02-23T22:05:25.923Z"
   },
   {
    "duration": 25,
    "start_time": "2022-02-23T22:05:25.942Z"
   },
   {
    "duration": 34,
    "start_time": "2022-02-23T22:05:25.970Z"
   },
   {
    "duration": 9,
    "start_time": "2022-02-23T22:05:26.006Z"
   },
   {
    "duration": 10,
    "start_time": "2022-02-23T22:05:26.017Z"
   },
   {
    "duration": 7,
    "start_time": "2022-02-23T22:05:26.029Z"
   },
   {
    "duration": 57,
    "start_time": "2022-02-23T22:05:26.038Z"
   },
   {
    "duration": 124,
    "start_time": "2022-02-23T22:05:26.097Z"
   },
   {
    "duration": 73,
    "start_time": "2022-02-23T22:05:26.223Z"
   },
   {
    "duration": 102,
    "start_time": "2022-02-23T22:05:26.298Z"
   },
   {
    "duration": 40,
    "start_time": "2022-02-23T22:05:26.402Z"
   },
   {
    "duration": 11,
    "start_time": "2022-02-23T22:05:26.444Z"
   },
   {
    "duration": 51,
    "start_time": "2022-02-23T22:05:26.457Z"
   },
   {
    "duration": 10,
    "start_time": "2022-02-23T22:05:26.511Z"
   },
   {
    "duration": 21,
    "start_time": "2022-02-23T22:05:26.523Z"
   },
   {
    "duration": 9,
    "start_time": "2022-02-23T22:05:26.546Z"
   },
   {
    "duration": 30,
    "start_time": "2022-02-23T22:05:26.593Z"
   },
   {
    "duration": 16,
    "start_time": "2022-02-23T22:05:26.627Z"
   },
   {
    "duration": 49,
    "start_time": "2022-02-23T22:05:26.645Z"
   },
   {
    "duration": 12,
    "start_time": "2022-02-23T22:05:26.696Z"
   },
   {
    "duration": 16,
    "start_time": "2022-02-23T22:05:26.710Z"
   },
   {
    "duration": 25,
    "start_time": "2022-02-23T22:05:26.728Z"
   },
   {
    "duration": 7,
    "start_time": "2022-02-23T22:05:26.755Z"
   },
   {
    "duration": 34,
    "start_time": "2022-02-23T22:05:26.764Z"
   },
   {
    "duration": 18,
    "start_time": "2022-02-23T22:05:26.801Z"
   },
   {
    "duration": 16,
    "start_time": "2022-02-23T22:05:26.821Z"
   },
   {
    "duration": 10,
    "start_time": "2022-02-23T22:05:26.840Z"
   },
   {
    "duration": 17,
    "start_time": "2022-02-23T22:05:26.852Z"
   },
   {
    "duration": 7,
    "start_time": "2022-02-23T22:05:26.894Z"
   },
   {
    "duration": 375,
    "start_time": "2022-02-23T22:05:26.904Z"
   },
   {
    "duration": 13,
    "start_time": "2022-02-23T22:05:27.282Z"
   },
   {
    "duration": 21,
    "start_time": "2022-02-23T22:05:27.298Z"
   },
   {
    "duration": 712,
    "start_time": "2022-02-23T22:05:27.322Z"
   },
   {
    "duration": 62,
    "start_time": "2022-02-23T22:05:28.037Z"
   },
   {
    "duration": 11,
    "start_time": "2022-02-23T22:05:28.102Z"
   },
   {
    "duration": 622,
    "start_time": "2022-02-23T22:05:28.116Z"
   },
   {
    "duration": 60,
    "start_time": "2022-02-23T22:05:28.741Z"
   },
   {
    "duration": 17,
    "start_time": "2022-02-23T22:05:28.803Z"
   },
   {
    "duration": 7,
    "start_time": "2022-02-23T22:05:28.822Z"
   },
   {
    "duration": 10,
    "start_time": "2022-02-23T22:05:28.831Z"
   },
   {
    "duration": 716,
    "start_time": "2022-02-23T22:05:28.843Z"
   },
   {
    "duration": 59,
    "start_time": "2022-02-23T22:05:29.561Z"
   },
   {
    "duration": 12,
    "start_time": "2022-02-23T22:05:29.623Z"
   },
   {
    "duration": 25,
    "start_time": "2022-02-23T22:05:29.637Z"
   },
   {
    "duration": 717,
    "start_time": "2022-02-23T22:05:29.665Z"
   },
   {
    "duration": 49,
    "start_time": "2022-02-23T22:05:30.386Z"
   },
   {
    "duration": 340,
    "start_time": "2022-02-23T22:05:30.438Z"
   },
   {
    "duration": 8,
    "start_time": "2022-02-23T22:06:03.848Z"
   },
   {
    "duration": 8,
    "start_time": "2022-02-23T22:06:21.712Z"
   },
   {
    "duration": 282,
    "start_time": "2022-02-23T22:06:44.460Z"
   },
   {
    "duration": 169,
    "start_time": "2022-02-23T22:06:54.823Z"
   },
   {
    "duration": 185,
    "start_time": "2022-02-23T22:07:09.423Z"
   },
   {
    "duration": 9,
    "start_time": "2022-02-23T22:07:22.012Z"
   },
   {
    "duration": 213,
    "start_time": "2022-02-23T22:07:51.499Z"
   },
   {
    "duration": 11,
    "start_time": "2022-02-23T22:08:02.023Z"
   },
   {
    "duration": 10,
    "start_time": "2022-02-23T22:08:07.448Z"
   },
   {
    "duration": 11,
    "start_time": "2022-02-23T22:08:31.185Z"
   },
   {
    "duration": 11,
    "start_time": "2022-02-23T22:09:15.185Z"
   },
   {
    "duration": 176,
    "start_time": "2022-02-23T22:11:06.361Z"
   },
   {
    "duration": 11,
    "start_time": "2022-02-23T22:11:09.798Z"
   },
   {
    "duration": 417,
    "start_time": "2022-02-24T10:58:18.441Z"
   },
   {
    "duration": 1451,
    "start_time": "2022-02-24T10:58:24.669Z"
   },
   {
    "duration": 544,
    "start_time": "2022-02-24T10:58:26.122Z"
   },
   {
    "duration": 282,
    "start_time": "2022-02-24T10:58:26.670Z"
   },
   {
    "duration": 66,
    "start_time": "2022-02-24T10:58:26.954Z"
   },
   {
    "duration": 32,
    "start_time": "2022-02-24T10:58:27.022Z"
   },
   {
    "duration": 44,
    "start_time": "2022-02-24T10:58:27.056Z"
   },
   {
    "duration": 16,
    "start_time": "2022-02-24T10:58:27.102Z"
   },
   {
    "duration": 26,
    "start_time": "2022-02-24T10:58:27.121Z"
   },
   {
    "duration": 14,
    "start_time": "2022-02-24T10:58:27.150Z"
   },
   {
    "duration": 8,
    "start_time": "2022-02-24T10:58:27.166Z"
   },
   {
    "duration": 13,
    "start_time": "2022-02-24T10:58:27.177Z"
   },
   {
    "duration": 6,
    "start_time": "2022-02-24T10:58:27.192Z"
   },
   {
    "duration": 22,
    "start_time": "2022-02-24T10:58:27.211Z"
   },
   {
    "duration": 131,
    "start_time": "2022-02-24T10:58:27.235Z"
   },
   {
    "duration": 62,
    "start_time": "2022-02-24T10:58:27.368Z"
   },
   {
    "duration": 99,
    "start_time": "2022-02-24T10:58:27.433Z"
   },
   {
    "duration": 43,
    "start_time": "2022-02-24T10:58:27.535Z"
   },
   {
    "duration": 30,
    "start_time": "2022-02-24T10:58:27.580Z"
   },
   {
    "duration": 25,
    "start_time": "2022-02-24T10:58:27.612Z"
   },
   {
    "duration": 9,
    "start_time": "2022-02-24T10:58:27.640Z"
   },
   {
    "duration": 78,
    "start_time": "2022-02-24T10:58:27.651Z"
   },
   {
    "duration": 9,
    "start_time": "2022-02-24T10:58:27.732Z"
   },
   {
    "duration": 29,
    "start_time": "2022-02-24T10:58:27.747Z"
   },
   {
    "duration": 37,
    "start_time": "2022-02-24T10:58:27.779Z"
   },
   {
    "duration": 27,
    "start_time": "2022-02-24T10:58:27.818Z"
   },
   {
    "duration": 10,
    "start_time": "2022-02-24T10:58:27.848Z"
   },
   {
    "duration": 16,
    "start_time": "2022-02-24T10:58:27.861Z"
   },
   {
    "duration": 32,
    "start_time": "2022-02-24T10:58:27.879Z"
   },
   {
    "duration": 8,
    "start_time": "2022-02-24T10:58:27.914Z"
   },
   {
    "duration": 5,
    "start_time": "2022-02-24T10:58:27.924Z"
   },
   {
    "duration": 8,
    "start_time": "2022-02-24T10:58:27.932Z"
   },
   {
    "duration": 15,
    "start_time": "2022-02-24T10:58:27.943Z"
   },
   {
    "duration": 54,
    "start_time": "2022-02-24T10:58:27.961Z"
   },
   {
    "duration": 19,
    "start_time": "2022-02-24T10:58:28.017Z"
   },
   {
    "duration": 7,
    "start_time": "2022-02-24T10:58:28.038Z"
   },
   {
    "duration": 585,
    "start_time": "2022-02-24T10:58:28.048Z"
   },
   {
    "duration": 6,
    "start_time": "2022-02-24T10:58:28.636Z"
   },
   {
    "duration": 21,
    "start_time": "2022-02-24T10:58:28.645Z"
   },
   {
    "duration": 686,
    "start_time": "2022-02-24T10:58:28.668Z"
   },
   {
    "duration": 829,
    "start_time": "2022-02-24T10:58:29.356Z"
   },
   {
    "duration": 15,
    "start_time": "2022-02-24T10:58:30.187Z"
   },
   {
    "duration": 662,
    "start_time": "2022-02-24T10:58:30.211Z"
   },
   {
    "duration": 62,
    "start_time": "2022-02-24T10:58:30.876Z"
   },
   {
    "duration": 18,
    "start_time": "2022-02-24T10:58:30.941Z"
   },
   {
    "duration": 12,
    "start_time": "2022-02-24T10:58:30.961Z"
   },
   {
    "duration": 42,
    "start_time": "2022-02-24T10:58:30.976Z"
   },
   {
    "duration": 715,
    "start_time": "2022-02-24T10:58:31.021Z"
   },
   {
    "duration": 50,
    "start_time": "2022-02-24T10:58:31.738Z"
   },
   {
    "duration": 130,
    "start_time": "2022-02-24T10:58:31.790Z"
   },
   {
    "duration": 22,
    "start_time": "2022-02-24T10:58:31.923Z"
   },
   {
    "duration": 646,
    "start_time": "2022-02-24T10:58:31.947Z"
   },
   {
    "duration": 57,
    "start_time": "2022-02-24T10:58:32.596Z"
   },
   {
    "duration": 10,
    "start_time": "2022-02-24T10:58:32.656Z"
   },
   {
    "duration": 18,
    "start_time": "2022-02-24T10:58:32.669Z"
   },
   {
    "duration": 8,
    "start_time": "2022-02-24T10:58:41.555Z"
   },
   {
    "duration": 8,
    "start_time": "2022-02-24T10:58:57.324Z"
   },
   {
    "duration": 8,
    "start_time": "2022-02-24T10:59:04.143Z"
   },
   {
    "duration": 7,
    "start_time": "2022-02-24T10:59:10.943Z"
   },
   {
    "duration": 6,
    "start_time": "2022-02-24T10:59:17.118Z"
   },
   {
    "duration": 12,
    "start_time": "2022-02-24T11:41:26.784Z"
   },
   {
    "duration": 1003,
    "start_time": "2022-02-24T19:49:16.481Z"
   },
   {
    "duration": 358,
    "start_time": "2022-02-24T19:49:17.485Z"
   },
   {
    "duration": 209,
    "start_time": "2022-02-24T19:49:17.845Z"
   },
   {
    "duration": 43,
    "start_time": "2022-02-24T19:49:18.056Z"
   },
   {
    "duration": 48,
    "start_time": "2022-02-24T19:49:18.101Z"
   },
   {
    "duration": 33,
    "start_time": "2022-02-24T19:49:18.151Z"
   },
   {
    "duration": 11,
    "start_time": "2022-02-24T19:49:18.186Z"
   },
   {
    "duration": 42,
    "start_time": "2022-02-24T19:49:18.199Z"
   },
   {
    "duration": 10,
    "start_time": "2022-02-24T19:49:18.244Z"
   },
   {
    "duration": 6,
    "start_time": "2022-02-24T19:49:18.256Z"
   },
   {
    "duration": 8,
    "start_time": "2022-02-24T19:49:18.264Z"
   },
   {
    "duration": 5,
    "start_time": "2022-02-24T19:49:18.274Z"
   },
   {
    "duration": 16,
    "start_time": "2022-02-24T19:49:18.280Z"
   },
   {
    "duration": 109,
    "start_time": "2022-02-24T19:49:18.297Z"
   },
   {
    "duration": 45,
    "start_time": "2022-02-24T19:49:18.408Z"
   },
   {
    "duration": 63,
    "start_time": "2022-02-24T19:49:18.454Z"
   },
   {
    "duration": 38,
    "start_time": "2022-02-24T19:49:18.518Z"
   },
   {
    "duration": 6,
    "start_time": "2022-02-24T19:49:18.558Z"
   },
   {
    "duration": 20,
    "start_time": "2022-02-24T19:49:18.566Z"
   },
   {
    "duration": 6,
    "start_time": "2022-02-24T19:49:18.587Z"
   },
   {
    "duration": 47,
    "start_time": "2022-02-24T19:49:18.595Z"
   },
   {
    "duration": 6,
    "start_time": "2022-02-24T19:49:18.644Z"
   },
   {
    "duration": 22,
    "start_time": "2022-02-24T19:49:18.652Z"
   },
   {
    "duration": 11,
    "start_time": "2022-02-24T19:49:18.676Z"
   },
   {
    "duration": 18,
    "start_time": "2022-02-24T19:49:18.689Z"
   },
   {
    "duration": 29,
    "start_time": "2022-02-24T19:49:18.708Z"
   },
   {
    "duration": 10,
    "start_time": "2022-02-24T19:49:18.740Z"
   },
   {
    "duration": 14,
    "start_time": "2022-02-24T19:49:18.752Z"
   },
   {
    "duration": 6,
    "start_time": "2022-02-24T19:49:18.767Z"
   },
   {
    "duration": 4,
    "start_time": "2022-02-24T19:49:18.774Z"
   },
   {
    "duration": 8,
    "start_time": "2022-02-24T19:49:18.780Z"
   },
   {
    "duration": 40,
    "start_time": "2022-02-24T19:49:18.790Z"
   },
   {
    "duration": 8,
    "start_time": "2022-02-24T19:49:18.832Z"
   },
   {
    "duration": 10,
    "start_time": "2022-02-24T19:49:18.842Z"
   },
   {
    "duration": 5,
    "start_time": "2022-02-24T19:49:18.854Z"
   },
   {
    "duration": 223,
    "start_time": "2022-02-24T19:49:18.860Z"
   },
   {
    "duration": 6,
    "start_time": "2022-02-24T19:49:19.085Z"
   },
   {
    "duration": 14,
    "start_time": "2022-02-24T19:49:19.092Z"
   },
   {
    "duration": 401,
    "start_time": "2022-02-24T19:49:19.108Z"
   },
   {
    "duration": 276,
    "start_time": "2022-02-24T19:49:19.511Z"
   },
   {
    "duration": 9,
    "start_time": "2022-02-24T19:49:19.789Z"
   },
   {
    "duration": 377,
    "start_time": "2022-02-24T19:49:19.800Z"
   },
   {
    "duration": 31,
    "start_time": "2022-02-24T19:49:20.179Z"
   },
   {
    "duration": 28,
    "start_time": "2022-02-24T19:49:20.211Z"
   },
   {
    "duration": 5,
    "start_time": "2022-02-24T19:49:20.241Z"
   },
   {
    "duration": 9,
    "start_time": "2022-02-24T19:49:20.248Z"
   },
   {
    "duration": 412,
    "start_time": "2022-02-24T19:49:20.258Z"
   },
   {
    "duration": 30,
    "start_time": "2022-02-24T19:49:20.672Z"
   },
   {
    "duration": 8,
    "start_time": "2022-02-24T19:49:20.704Z"
   },
   {
    "duration": 118,
    "start_time": "2022-02-24T19:49:20.713Z"
   },
   {
    "duration": 371,
    "start_time": "2022-02-24T19:49:20.833Z"
   },
   {
    "duration": 37,
    "start_time": "2022-02-24T19:49:21.207Z"
   },
   {
    "duration": 7,
    "start_time": "2022-02-24T19:49:21.245Z"
   },
   {
    "duration": 10,
    "start_time": "2022-02-24T19:49:21.254Z"
   },
   {
    "duration": 7,
    "start_time": "2022-02-24T20:02:33.723Z"
   },
   {
    "duration": 9,
    "start_time": "2022-02-24T20:05:01.153Z"
   },
   {
    "duration": 6,
    "start_time": "2022-02-24T20:12:37.625Z"
   },
   {
    "duration": 6,
    "start_time": "2022-02-24T20:13:07.900Z"
   },
   {
    "duration": 5,
    "start_time": "2022-02-24T21:20:21.563Z"
   },
   {
    "duration": 5,
    "start_time": "2022-02-24T21:20:31.975Z"
   },
   {
    "duration": 7,
    "start_time": "2022-02-24T21:20:55.238Z"
   },
   {
    "duration": 7,
    "start_time": "2022-02-24T21:29:39.260Z"
   },
   {
    "duration": 3,
    "start_time": "2022-02-24T22:35:43.628Z"
   },
   {
    "duration": 393,
    "start_time": "2022-02-24T22:35:43.633Z"
   },
   {
    "duration": 229,
    "start_time": "2022-02-24T22:35:44.029Z"
   },
   {
    "duration": 38,
    "start_time": "2022-02-24T22:35:44.260Z"
   },
   {
    "duration": 43,
    "start_time": "2022-02-24T22:35:44.300Z"
   },
   {
    "duration": 30,
    "start_time": "2022-02-24T22:35:44.344Z"
   },
   {
    "duration": 12,
    "start_time": "2022-02-24T22:35:44.376Z"
   },
   {
    "duration": 42,
    "start_time": "2022-02-24T22:35:44.390Z"
   },
   {
    "duration": 11,
    "start_time": "2022-02-24T22:35:44.435Z"
   },
   {
    "duration": 6,
    "start_time": "2022-02-24T22:35:44.448Z"
   },
   {
    "duration": 10,
    "start_time": "2022-02-24T22:35:44.456Z"
   },
   {
    "duration": 4,
    "start_time": "2022-02-24T22:35:44.467Z"
   },
   {
    "duration": 16,
    "start_time": "2022-02-24T22:35:44.472Z"
   },
   {
    "duration": 111,
    "start_time": "2022-02-24T22:35:44.489Z"
   },
   {
    "duration": 52,
    "start_time": "2022-02-24T22:35:44.602Z"
   },
   {
    "duration": 63,
    "start_time": "2022-02-24T22:35:44.655Z"
   },
   {
    "duration": 27,
    "start_time": "2022-02-24T22:35:44.730Z"
   },
   {
    "duration": 6,
    "start_time": "2022-02-24T22:35:44.759Z"
   },
   {
    "duration": 19,
    "start_time": "2022-02-24T22:35:44.767Z"
   },
   {
    "duration": 6,
    "start_time": "2022-02-24T22:35:44.788Z"
   },
   {
    "duration": 43,
    "start_time": "2022-02-24T22:35:44.795Z"
   },
   {
    "duration": 6,
    "start_time": "2022-02-24T22:35:44.840Z"
   },
   {
    "duration": 23,
    "start_time": "2022-02-24T22:35:44.848Z"
   },
   {
    "duration": 10,
    "start_time": "2022-02-24T22:35:44.873Z"
   },
   {
    "duration": 18,
    "start_time": "2022-02-24T22:35:44.884Z"
   },
   {
    "duration": 27,
    "start_time": "2022-02-24T22:35:44.904Z"
   },
   {
    "duration": 10,
    "start_time": "2022-02-24T22:35:44.934Z"
   },
   {
    "duration": 11,
    "start_time": "2022-02-24T22:35:44.946Z"
   },
   {
    "duration": 6,
    "start_time": "2022-02-24T22:35:44.958Z"
   },
   {
    "duration": 5,
    "start_time": "2022-02-24T22:35:44.965Z"
   },
   {
    "duration": 5,
    "start_time": "2022-02-24T22:35:44.971Z"
   },
   {
    "duration": 8,
    "start_time": "2022-02-24T22:35:44.977Z"
   },
   {
    "duration": 44,
    "start_time": "2022-02-24T22:35:44.986Z"
   },
   {
    "duration": 13,
    "start_time": "2022-02-24T22:35:45.033Z"
   },
   {
    "duration": 8,
    "start_time": "2022-02-24T22:35:45.048Z"
   },
   {
    "duration": 212,
    "start_time": "2022-02-24T22:35:45.057Z"
   },
   {
    "duration": 4,
    "start_time": "2022-02-24T22:35:45.271Z"
   },
   {
    "duration": 13,
    "start_time": "2022-02-24T22:35:45.277Z"
   },
   {
    "duration": 394,
    "start_time": "2022-02-24T22:35:45.292Z"
   },
   {
    "duration": 43,
    "start_time": "2022-02-24T22:35:45.688Z"
   },
   {
    "duration": 8,
    "start_time": "2022-02-24T22:35:45.733Z"
   },
   {
    "duration": 377,
    "start_time": "2022-02-24T22:35:45.743Z"
   },
   {
    "duration": 33,
    "start_time": "2022-02-24T22:35:46.122Z"
   },
   {
    "duration": 10,
    "start_time": "2022-02-24T22:35:46.157Z"
   },
   {
    "duration": 5,
    "start_time": "2022-02-24T22:35:46.168Z"
   },
   {
    "duration": 8,
    "start_time": "2022-02-24T22:35:46.175Z"
   },
   {
    "duration": 411,
    "start_time": "2022-02-24T22:35:46.184Z"
   },
   {
    "duration": 37,
    "start_time": "2022-02-24T22:35:46.597Z"
   },
   {
    "duration": 8,
    "start_time": "2022-02-24T22:35:46.636Z"
   },
   {
    "duration": 14,
    "start_time": "2022-02-24T22:35:46.646Z"
   },
   {
    "duration": 405,
    "start_time": "2022-02-24T22:35:46.662Z"
   },
   {
    "duration": 29,
    "start_time": "2022-02-24T22:35:47.069Z"
   },
   {
    "duration": 7,
    "start_time": "2022-02-24T22:35:47.099Z"
   },
   {
    "duration": 215,
    "start_time": "2022-02-24T22:37:34.740Z"
   },
   {
    "duration": 10,
    "start_time": "2022-02-24T22:37:42.410Z"
   },
   {
    "duration": 2,
    "start_time": "2022-02-24T22:44:15.702Z"
   },
   {
    "duration": 366,
    "start_time": "2022-02-24T22:44:15.707Z"
   },
   {
    "duration": 182,
    "start_time": "2022-02-24T22:44:16.075Z"
   },
   {
    "duration": 34,
    "start_time": "2022-02-24T22:44:16.258Z"
   },
   {
    "duration": 43,
    "start_time": "2022-02-24T22:44:16.294Z"
   },
   {
    "duration": 28,
    "start_time": "2022-02-24T22:44:16.339Z"
   },
   {
    "duration": 11,
    "start_time": "2022-02-24T22:44:16.368Z"
   },
   {
    "duration": 18,
    "start_time": "2022-02-24T22:44:16.382Z"
   },
   {
    "duration": 34,
    "start_time": "2022-02-24T22:44:16.402Z"
   },
   {
    "duration": 5,
    "start_time": "2022-02-24T22:44:16.438Z"
   },
   {
    "duration": 7,
    "start_time": "2022-02-24T22:44:16.445Z"
   },
   {
    "duration": 4,
    "start_time": "2022-02-24T22:44:16.454Z"
   },
   {
    "duration": 14,
    "start_time": "2022-02-24T22:44:16.459Z"
   },
   {
    "duration": 102,
    "start_time": "2022-02-24T22:44:16.474Z"
   },
   {
    "duration": 40,
    "start_time": "2022-02-24T22:44:16.578Z"
   },
   {
    "duration": 71,
    "start_time": "2022-02-24T22:44:16.620Z"
   },
   {
    "duration": 39,
    "start_time": "2022-02-24T22:44:16.693Z"
   },
   {
    "duration": 6,
    "start_time": "2022-02-24T22:44:16.734Z"
   },
   {
    "duration": 18,
    "start_time": "2022-02-24T22:44:16.742Z"
   },
   {
    "duration": 5,
    "start_time": "2022-02-24T22:44:16.762Z"
   },
   {
    "duration": 16,
    "start_time": "2022-02-24T22:44:16.769Z"
   },
   {
    "duration": 6,
    "start_time": "2022-02-24T22:44:16.787Z"
   },
   {
    "duration": 49,
    "start_time": "2022-02-24T22:44:16.797Z"
   },
   {
    "duration": 10,
    "start_time": "2022-02-24T22:44:16.848Z"
   },
   {
    "duration": 15,
    "start_time": "2022-02-24T22:44:16.860Z"
   },
   {
    "duration": 7,
    "start_time": "2022-02-24T22:44:16.877Z"
   },
   {
    "duration": 9,
    "start_time": "2022-02-24T22:44:16.885Z"
   },
   {
    "duration": 42,
    "start_time": "2022-02-24T22:44:16.896Z"
   },
   {
    "duration": 5,
    "start_time": "2022-02-24T22:44:16.940Z"
   },
   {
    "duration": 5,
    "start_time": "2022-02-24T22:44:16.946Z"
   },
   {
    "duration": 5,
    "start_time": "2022-02-24T22:44:16.953Z"
   },
   {
    "duration": 7,
    "start_time": "2022-02-24T22:44:16.959Z"
   },
   {
    "duration": 7,
    "start_time": "2022-02-24T22:44:16.968Z"
   },
   {
    "duration": 10,
    "start_time": "2022-02-24T22:44:16.976Z"
   },
   {
    "duration": 4,
    "start_time": "2022-02-24T22:44:16.987Z"
   },
   {
    "duration": 225,
    "start_time": "2022-02-24T22:44:16.993Z"
   },
   {
    "duration": 11,
    "start_time": "2022-02-24T22:44:17.219Z"
   },
   {
    "duration": 12,
    "start_time": "2022-02-24T22:44:17.231Z"
   },
   {
    "duration": 454,
    "start_time": "2022-02-24T22:44:17.244Z"
   },
   {
    "duration": 36,
    "start_time": "2022-02-24T22:44:17.700Z"
   },
   {
    "duration": 7,
    "start_time": "2022-02-24T22:44:17.738Z"
   },
   {
    "duration": 371,
    "start_time": "2022-02-24T22:44:17.747Z"
   },
   {
    "duration": 38,
    "start_time": "2022-02-24T22:44:18.119Z"
   },
   {
    "duration": 12,
    "start_time": "2022-02-24T22:44:18.159Z"
   },
   {
    "duration": 6,
    "start_time": "2022-02-24T22:44:18.173Z"
   },
   {
    "duration": 7,
    "start_time": "2022-02-24T22:44:18.181Z"
   },
   {
    "duration": 414,
    "start_time": "2022-02-24T22:44:18.190Z"
   },
   {
    "duration": 37,
    "start_time": "2022-02-24T22:44:18.606Z"
   },
   {
    "duration": 9,
    "start_time": "2022-02-24T22:44:18.645Z"
   },
   {
    "duration": 15,
    "start_time": "2022-02-24T22:44:18.656Z"
   },
   {
    "duration": 380,
    "start_time": "2022-02-24T22:44:18.672Z"
   },
   {
    "duration": 27,
    "start_time": "2022-02-24T22:44:19.054Z"
   },
   {
    "duration": 7,
    "start_time": "2022-02-24T22:44:19.083Z"
   },
   {
    "duration": 11,
    "start_time": "2022-02-24T22:44:19.091Z"
   },
   {
    "duration": 32,
    "start_time": "2022-02-24T22:44:19.104Z"
   },
   {
    "duration": 8,
    "start_time": "2022-02-24T22:44:19.138Z"
   },
   {
    "duration": 7,
    "start_time": "2022-02-24T22:44:19.148Z"
   },
   {
    "duration": 9,
    "start_time": "2022-02-24T22:44:19.156Z"
   },
   {
    "duration": 6,
    "start_time": "2022-02-24T22:44:19.167Z"
   },
   {
    "duration": 6,
    "start_time": "2022-02-24T23:00:15.868Z"
   },
   {
    "duration": 11,
    "start_time": "2022-02-24T23:00:45.681Z"
   },
   {
    "duration": 5,
    "start_time": "2022-02-24T23:00:58.991Z"
   },
   {
    "duration": 5,
    "start_time": "2022-02-24T23:01:07.593Z"
   },
   {
    "duration": 10,
    "start_time": "2022-02-24T23:02:23.917Z"
   },
   {
    "duration": 10,
    "start_time": "2022-02-24T23:03:14.917Z"
   },
   {
    "duration": 10,
    "start_time": "2022-02-24T23:04:00.096Z"
   },
   {
    "duration": 2,
    "start_time": "2022-02-24T23:04:54.692Z"
   },
   {
    "duration": 366,
    "start_time": "2022-02-24T23:04:54.696Z"
   },
   {
    "duration": 189,
    "start_time": "2022-02-24T23:04:55.064Z"
   },
   {
    "duration": 35,
    "start_time": "2022-02-24T23:04:55.255Z"
   },
   {
    "duration": 47,
    "start_time": "2022-02-24T23:04:55.292Z"
   },
   {
    "duration": 28,
    "start_time": "2022-02-24T23:04:55.341Z"
   },
   {
    "duration": 12,
    "start_time": "2022-02-24T23:04:55.372Z"
   },
   {
    "duration": 18,
    "start_time": "2022-02-24T23:04:55.386Z"
   },
   {
    "duration": 31,
    "start_time": "2022-02-24T23:04:55.406Z"
   },
   {
    "duration": 5,
    "start_time": "2022-02-24T23:04:55.439Z"
   },
   {
    "duration": 9,
    "start_time": "2022-02-24T23:04:55.446Z"
   },
   {
    "duration": 4,
    "start_time": "2022-02-24T23:04:55.457Z"
   },
   {
    "duration": 16,
    "start_time": "2022-02-24T23:04:55.463Z"
   },
   {
    "duration": 106,
    "start_time": "2022-02-24T23:04:55.481Z"
   },
   {
    "duration": 49,
    "start_time": "2022-02-24T23:04:55.588Z"
   },
   {
    "duration": 61,
    "start_time": "2022-02-24T23:04:55.639Z"
   },
   {
    "duration": 36,
    "start_time": "2022-02-24T23:04:55.702Z"
   },
   {
    "duration": 7,
    "start_time": "2022-02-24T23:04:55.739Z"
   },
   {
    "duration": 19,
    "start_time": "2022-02-24T23:04:55.749Z"
   },
   {
    "duration": 6,
    "start_time": "2022-02-24T23:04:55.771Z"
   },
   {
    "duration": 16,
    "start_time": "2022-02-24T23:04:55.779Z"
   },
   {
    "duration": 5,
    "start_time": "2022-02-24T23:04:55.797Z"
   },
   {
    "duration": 43,
    "start_time": "2022-02-24T23:04:55.804Z"
   },
   {
    "duration": 10,
    "start_time": "2022-02-24T23:04:55.849Z"
   },
   {
    "duration": 15,
    "start_time": "2022-02-24T23:04:55.861Z"
   },
   {
    "duration": 7,
    "start_time": "2022-02-24T23:04:55.877Z"
   },
   {
    "duration": 9,
    "start_time": "2022-02-24T23:04:55.886Z"
   },
   {
    "duration": 42,
    "start_time": "2022-02-24T23:04:55.897Z"
   },
   {
    "duration": 6,
    "start_time": "2022-02-24T23:04:55.940Z"
   },
   {
    "duration": 4,
    "start_time": "2022-02-24T23:04:55.948Z"
   },
   {
    "duration": 6,
    "start_time": "2022-02-24T23:04:55.953Z"
   },
   {
    "duration": 7,
    "start_time": "2022-02-24T23:04:55.960Z"
   },
   {
    "duration": 7,
    "start_time": "2022-02-24T23:04:55.968Z"
   },
   {
    "duration": 10,
    "start_time": "2022-02-24T23:04:55.977Z"
   },
   {
    "duration": 4,
    "start_time": "2022-02-24T23:04:56.030Z"
   },
   {
    "duration": 196,
    "start_time": "2022-02-24T23:04:56.036Z"
   },
   {
    "duration": 4,
    "start_time": "2022-02-24T23:04:56.233Z"
   },
   {
    "duration": 14,
    "start_time": "2022-02-24T23:04:56.239Z"
   },
   {
    "duration": 385,
    "start_time": "2022-02-24T23:04:56.255Z"
   },
   {
    "duration": 28,
    "start_time": "2022-02-24T23:04:56.642Z"
   },
   {
    "duration": 9,
    "start_time": "2022-02-24T23:04:56.672Z"
   },
   {
    "duration": 389,
    "start_time": "2022-02-24T23:04:56.682Z"
   },
   {
    "duration": 30,
    "start_time": "2022-02-24T23:04:57.073Z"
   },
   {
    "duration": 30,
    "start_time": "2022-02-24T23:04:57.105Z"
   },
   {
    "duration": 5,
    "start_time": "2022-02-24T23:04:57.137Z"
   },
   {
    "duration": 6,
    "start_time": "2022-02-24T23:04:57.144Z"
   },
   {
    "duration": 498,
    "start_time": "2022-02-24T23:04:57.152Z"
   },
   {
    "duration": 30,
    "start_time": "2022-02-24T23:04:57.651Z"
   },
   {
    "duration": 8,
    "start_time": "2022-02-24T23:04:57.683Z"
   },
   {
    "duration": 13,
    "start_time": "2022-02-24T23:04:57.692Z"
   },
   {
    "duration": 386,
    "start_time": "2022-02-24T23:04:57.707Z"
   },
   {
    "duration": 37,
    "start_time": "2022-02-24T23:04:58.095Z"
   },
   {
    "duration": 7,
    "start_time": "2022-02-24T23:04:58.134Z"
   },
   {
    "duration": 9,
    "start_time": "2022-02-24T23:04:58.143Z"
   },
   {
    "duration": 8,
    "start_time": "2022-02-24T23:04:58.156Z"
   },
   {
    "duration": 8,
    "start_time": "2022-02-24T23:04:58.166Z"
   },
   {
    "duration": 5,
    "start_time": "2022-02-24T23:04:58.176Z"
   },
   {
    "duration": 49,
    "start_time": "2022-02-24T23:04:58.183Z"
   },
   {
    "duration": 8,
    "start_time": "2022-02-24T23:04:58.234Z"
   },
   {
    "duration": 5,
    "start_time": "2022-02-24T23:04:58.243Z"
   },
   {
    "duration": 50,
    "start_time": "2022-02-24T23:04:58.250Z"
   },
   {
    "duration": 137663,
    "start_time": "2022-02-24T23:02:40.639Z"
   },
   {
    "duration": 3,
    "start_time": "2022-02-24T23:21:31.218Z"
   },
   {
    "duration": 384,
    "start_time": "2022-02-24T23:21:31.223Z"
   },
   {
    "duration": 221,
    "start_time": "2022-02-24T23:21:31.609Z"
   },
   {
    "duration": 35,
    "start_time": "2022-02-24T23:21:31.833Z"
   },
   {
    "duration": 18,
    "start_time": "2022-02-24T23:21:31.871Z"
   },
   {
    "duration": 52,
    "start_time": "2022-02-24T23:21:31.890Z"
   },
   {
    "duration": 11,
    "start_time": "2022-02-24T23:21:31.944Z"
   },
   {
    "duration": 18,
    "start_time": "2022-02-24T23:21:31.957Z"
   },
   {
    "duration": 11,
    "start_time": "2022-02-24T23:21:31.977Z"
   },
   {
    "duration": 5,
    "start_time": "2022-02-24T23:21:31.991Z"
   },
   {
    "duration": 33,
    "start_time": "2022-02-24T23:21:31.998Z"
   },
   {
    "duration": 8,
    "start_time": "2022-02-24T23:21:32.033Z"
   },
   {
    "duration": 17,
    "start_time": "2022-02-24T23:21:32.043Z"
   },
   {
    "duration": 93,
    "start_time": "2022-02-24T23:21:32.062Z"
   },
   {
    "duration": 45,
    "start_time": "2022-02-24T23:21:32.156Z"
   },
   {
    "duration": 82,
    "start_time": "2022-02-24T23:21:32.203Z"
   },
   {
    "duration": 27,
    "start_time": "2022-02-24T23:21:32.286Z"
   },
   {
    "duration": 17,
    "start_time": "2022-02-24T23:21:32.314Z"
   },
   {
    "duration": 20,
    "start_time": "2022-02-24T23:21:32.333Z"
   },
   {
    "duration": 7,
    "start_time": "2022-02-24T23:21:32.355Z"
   },
   {
    "duration": 19,
    "start_time": "2022-02-24T23:21:32.363Z"
   },
   {
    "duration": 6,
    "start_time": "2022-02-24T23:21:32.384Z"
   },
   {
    "duration": 44,
    "start_time": "2022-02-24T23:21:32.392Z"
   },
   {
    "duration": 10,
    "start_time": "2022-02-24T23:21:32.438Z"
   },
   {
    "duration": 19,
    "start_time": "2022-02-24T23:21:32.449Z"
   },
   {
    "duration": 7,
    "start_time": "2022-02-24T23:21:32.470Z"
   },
   {
    "duration": 9,
    "start_time": "2022-02-24T23:21:32.481Z"
   },
   {
    "duration": 39,
    "start_time": "2022-02-24T23:21:32.492Z"
   },
   {
    "duration": 6,
    "start_time": "2022-02-24T23:21:32.532Z"
   },
   {
    "duration": 6,
    "start_time": "2022-02-24T23:21:32.539Z"
   },
   {
    "duration": 6,
    "start_time": "2022-02-24T23:21:32.546Z"
   },
   {
    "duration": 8,
    "start_time": "2022-02-24T23:21:32.553Z"
   },
   {
    "duration": 6,
    "start_time": "2022-02-24T23:21:32.563Z"
   },
   {
    "duration": 10,
    "start_time": "2022-02-24T23:21:32.571Z"
   },
   {
    "duration": 10,
    "start_time": "2022-02-24T23:21:32.582Z"
   },
   {
    "duration": 217,
    "start_time": "2022-02-24T23:21:32.593Z"
   },
   {
    "duration": 3,
    "start_time": "2022-02-24T23:21:32.812Z"
   },
   {
    "duration": 22,
    "start_time": "2022-02-24T23:21:32.817Z"
   },
   {
    "duration": 390,
    "start_time": "2022-02-24T23:21:32.840Z"
   },
   {
    "duration": 30,
    "start_time": "2022-02-24T23:21:33.231Z"
   },
   {
    "duration": 8,
    "start_time": "2022-02-24T23:21:33.263Z"
   },
   {
    "duration": 370,
    "start_time": "2022-02-24T23:21:33.273Z"
   },
   {
    "duration": 29,
    "start_time": "2022-02-24T23:21:33.645Z"
   },
   {
    "duration": 10,
    "start_time": "2022-02-24T23:21:33.676Z"
   },
   {
    "duration": 5,
    "start_time": "2022-02-24T23:21:33.688Z"
   },
   {
    "duration": 10,
    "start_time": "2022-02-24T23:21:33.694Z"
   },
   {
    "duration": 410,
    "start_time": "2022-02-24T23:21:33.731Z"
   },
   {
    "duration": 30,
    "start_time": "2022-02-24T23:21:34.142Z"
   },
   {
    "duration": 7,
    "start_time": "2022-02-24T23:21:34.173Z"
   },
   {
    "duration": 14,
    "start_time": "2022-02-24T23:21:34.182Z"
   },
   {
    "duration": 492,
    "start_time": "2022-02-24T23:21:34.198Z"
   },
   {
    "duration": 40,
    "start_time": "2022-02-24T23:21:34.691Z"
   },
   {
    "duration": 8,
    "start_time": "2022-02-24T23:21:34.733Z"
   },
   {
    "duration": 10,
    "start_time": "2022-02-24T23:21:34.743Z"
   },
   {
    "duration": 7,
    "start_time": "2022-02-24T23:21:34.755Z"
   },
   {
    "duration": 8,
    "start_time": "2022-02-24T23:21:34.764Z"
   },
   {
    "duration": 6,
    "start_time": "2022-02-24T23:21:34.773Z"
   },
   {
    "duration": 6,
    "start_time": "2022-02-24T23:21:34.780Z"
   },
   {
    "duration": 50,
    "start_time": "2022-02-24T23:21:34.788Z"
   },
   {
    "duration": 5,
    "start_time": "2022-02-24T23:21:34.839Z"
   },
   {
    "duration": 1156,
    "start_time": "2022-02-25T19:49:49.830Z"
   },
   {
    "duration": 411,
    "start_time": "2022-02-25T19:49:51.475Z"
   },
   {
    "duration": 264,
    "start_time": "2022-02-25T19:49:51.888Z"
   },
   {
    "duration": 45,
    "start_time": "2022-02-25T19:50:01.913Z"
   },
   {
    "duration": 3,
    "start_time": "2022-02-25T19:51:08.096Z"
   },
   {
    "duration": 426,
    "start_time": "2022-02-25T19:51:08.299Z"
   },
   {
    "duration": 239,
    "start_time": "2022-02-25T19:51:08.727Z"
   },
   {
    "duration": 6,
    "start_time": "2022-02-25T19:51:19.588Z"
   },
   {
    "duration": 6,
    "start_time": "2022-02-25T19:51:29.833Z"
   },
   {
    "duration": 7,
    "start_time": "2022-02-25T19:51:44.310Z"
   },
   {
    "duration": 62,
    "start_time": "2022-02-25T19:55:29.638Z"
   },
   {
    "duration": 19,
    "start_time": "2022-02-25T19:58:54.580Z"
   },
   {
    "duration": 18,
    "start_time": "2022-02-25T20:54:02.145Z"
   },
   {
    "duration": 18,
    "start_time": "2022-02-25T20:54:05.875Z"
   },
   {
    "duration": 12,
    "start_time": "2022-02-25T20:54:06.363Z"
   },
   {
    "duration": 7,
    "start_time": "2022-02-25T20:54:30.897Z"
   },
   {
    "duration": 7,
    "start_time": "2022-02-25T20:54:32.250Z"
   },
   {
    "duration": 4,
    "start_time": "2022-02-25T20:57:46.734Z"
   },
   {
    "duration": 5295,
    "start_time": "2022-02-25T21:00:42.931Z"
   },
   {
    "duration": 246,
    "start_time": "2022-02-25T21:02:22.513Z"
   },
   {
    "duration": 5,
    "start_time": "2022-02-25T21:02:26.706Z"
   },
   {
    "duration": 191,
    "start_time": "2022-02-25T21:02:30.569Z"
   },
   {
    "duration": 187,
    "start_time": "2022-02-25T21:02:36.938Z"
   },
   {
    "duration": 3,
    "start_time": "2022-02-25T21:03:05.328Z"
   },
   {
    "duration": 390,
    "start_time": "2022-02-25T21:03:05.594Z"
   },
   {
    "duration": 226,
    "start_time": "2022-02-25T21:03:05.986Z"
   },
   {
    "duration": 38,
    "start_time": "2022-02-25T21:03:07.155Z"
   },
   {
    "duration": 18,
    "start_time": "2022-02-25T21:03:07.996Z"
   },
   {
    "duration": 31,
    "start_time": "2022-02-25T21:03:08.758Z"
   },
   {
    "duration": 12,
    "start_time": "2022-02-25T21:03:09.190Z"
   },
   {
    "duration": 17,
    "start_time": "2022-02-25T21:03:09.713Z"
   },
   {
    "duration": 11,
    "start_time": "2022-02-25T21:03:10.091Z"
   },
   {
    "duration": 7,
    "start_time": "2022-02-25T21:03:10.951Z"
   },
   {
    "duration": 8,
    "start_time": "2022-02-25T21:03:11.440Z"
   },
   {
    "duration": 24,
    "start_time": "2022-02-25T21:03:15.547Z"
   },
   {
    "duration": 4,
    "start_time": "2022-02-25T21:03:18.299Z"
   },
   {
    "duration": 6,
    "start_time": "2022-02-25T21:03:22.280Z"
   },
   {
    "duration": 4,
    "start_time": "2022-02-25T21:03:25.821Z"
   },
   {
    "duration": 22,
    "start_time": "2022-02-25T21:03:29.623Z"
   },
   {
    "duration": 4,
    "start_time": "2022-02-25T21:03:35.316Z"
   },
   {
    "duration": 59,
    "start_time": "2022-02-25T21:03:38.011Z"
   },
   {
    "duration": 4,
    "start_time": "2022-02-25T21:03:41.550Z"
   },
   {
    "duration": 7,
    "start_time": "2022-02-25T21:04:30.992Z"
   },
   {
    "duration": 7,
    "start_time": "2022-02-25T21:04:58.752Z"
   },
   {
    "duration": 7,
    "start_time": "2022-02-25T21:05:08.396Z"
   },
   {
    "duration": 5,
    "start_time": "2022-02-25T21:05:54.531Z"
   },
   {
    "duration": 185,
    "start_time": "2022-02-25T21:06:01.064Z"
   },
   {
    "duration": 6,
    "start_time": "2022-02-25T21:06:05.862Z"
   },
   {
    "duration": 6,
    "start_time": "2022-02-25T21:06:14.063Z"
   },
   {
    "duration": 4,
    "start_time": "2022-02-25T21:06:27.695Z"
   },
   {
    "duration": 6,
    "start_time": "2022-02-25T21:06:28.273Z"
   },
   {
    "duration": 7,
    "start_time": "2022-02-25T21:06:30.383Z"
   },
   {
    "duration": 6,
    "start_time": "2022-02-25T21:06:42.757Z"
   },
   {
    "duration": 5,
    "start_time": "2022-02-25T21:06:52.675Z"
   },
   {
    "duration": 180,
    "start_time": "2022-02-25T21:12:34.135Z"
   },
   {
    "duration": 4,
    "start_time": "2022-02-25T21:12:37.685Z"
   },
   {
    "duration": 16,
    "start_time": "2022-02-25T21:12:38.551Z"
   },
   {
    "duration": 85,
    "start_time": "2022-02-25T21:12:39.083Z"
   },
   {
    "duration": 42,
    "start_time": "2022-02-25T21:12:39.363Z"
   },
   {
    "duration": 63,
    "start_time": "2022-02-25T21:12:40.564Z"
   },
   {
    "duration": 225,
    "start_time": "2022-02-25T21:14:19.220Z"
   },
   {
    "duration": 16,
    "start_time": "2022-02-25T21:15:05.043Z"
   },
   {
    "duration": 110,
    "start_time": "2022-02-25T21:15:05.231Z"
   },
   {
    "duration": 59,
    "start_time": "2022-02-25T21:15:05.392Z"
   },
   {
    "duration": 83,
    "start_time": "2022-02-25T21:15:05.529Z"
   },
   {
    "duration": 32,
    "start_time": "2022-02-25T21:16:26.626Z"
   },
   {
    "duration": 28,
    "start_time": "2022-02-25T21:16:36.537Z"
   },
   {
    "duration": 8,
    "start_time": "2022-02-25T21:16:37.110Z"
   },
   {
    "duration": 10,
    "start_time": "2022-02-25T21:17:30.731Z"
   },
   {
    "duration": 12,
    "start_time": "2022-02-25T21:17:37.105Z"
   },
   {
    "duration": 71,
    "start_time": "2022-02-25T21:18:01.300Z"
   },
   {
    "duration": 69,
    "start_time": "2022-02-25T21:18:06.008Z"
   },
   {
    "duration": 67,
    "start_time": "2022-02-25T21:18:10.181Z"
   },
   {
    "duration": 76,
    "start_time": "2022-02-25T21:18:17.775Z"
   },
   {
    "duration": 6,
    "start_time": "2022-02-25T21:18:23.278Z"
   },
   {
    "duration": 12,
    "start_time": "2022-02-25T21:18:26.232Z"
   },
   {
    "duration": 4,
    "start_time": "2022-02-25T21:18:53.097Z"
   },
   {
    "duration": 33,
    "start_time": "2022-02-25T21:19:14.643Z"
   },
   {
    "duration": 33,
    "start_time": "2022-02-25T21:19:23.837Z"
   },
   {
    "duration": 35,
    "start_time": "2022-02-25T21:20:15.624Z"
   },
   {
    "duration": 31,
    "start_time": "2022-02-25T21:20:19.416Z"
   },
   {
    "duration": 4,
    "start_time": "2022-02-25T21:20:22.292Z"
   },
   {
    "duration": 31,
    "start_time": "2022-02-25T21:20:25.421Z"
   },
   {
    "duration": 25,
    "start_time": "2022-02-25T21:21:08.098Z"
   },
   {
    "duration": 7,
    "start_time": "2022-02-25T21:21:08.461Z"
   },
   {
    "duration": 18,
    "start_time": "2022-02-25T21:22:57.184Z"
   },
   {
    "duration": 8,
    "start_time": "2022-02-25T21:22:57.565Z"
   },
   {
    "duration": 16,
    "start_time": "2022-02-25T21:23:45.987Z"
   },
   {
    "duration": 7,
    "start_time": "2022-02-25T21:23:46.568Z"
   },
   {
    "duration": 20,
    "start_time": "2022-02-25T21:28:09.017Z"
   },
   {
    "duration": 11,
    "start_time": "2022-02-25T21:34:34.319Z"
   },
   {
    "duration": 17,
    "start_time": "2022-02-25T21:34:59.296Z"
   },
   {
    "duration": 9,
    "start_time": "2022-02-25T21:36:14.488Z"
   },
   {
    "duration": 8,
    "start_time": "2022-02-25T21:42:46.192Z"
   },
   {
    "duration": 9,
    "start_time": "2022-02-25T21:42:47.898Z"
   },
   {
    "duration": 13,
    "start_time": "2022-02-25T21:43:23.742Z"
   },
   {
    "duration": 6,
    "start_time": "2022-02-25T21:43:28.896Z"
   },
   {
    "duration": 179,
    "start_time": "2022-02-25T21:45:43.763Z"
   },
   {
    "duration": 7,
    "start_time": "2022-02-25T21:45:48.668Z"
   },
   {
    "duration": 9,
    "start_time": "2022-02-25T21:45:49.304Z"
   },
   {
    "duration": 13,
    "start_time": "2022-02-25T21:45:49.695Z"
   },
   {
    "duration": 8,
    "start_time": "2022-02-25T21:45:50.491Z"
   },
   {
    "duration": 4,
    "start_time": "2022-02-25T21:45:50.745Z"
   },
   {
    "duration": 6,
    "start_time": "2022-02-25T21:45:51.478Z"
   },
   {
    "duration": 8,
    "start_time": "2022-02-25T21:45:52.182Z"
   },
   {
    "duration": 9,
    "start_time": "2022-02-25T21:45:52.673Z"
   },
   {
    "duration": 15,
    "start_time": "2022-02-25T21:45:54.655Z"
   },
   {
    "duration": 10,
    "start_time": "2022-02-25T21:47:56.184Z"
   },
   {
    "duration": 16,
    "start_time": "2022-02-25T21:47:57.229Z"
   },
   {
    "duration": 4392,
    "start_time": "2022-02-25T21:52:35.106Z"
   },
   {
    "duration": 5,
    "start_time": "2022-02-25T21:52:43.217Z"
   },
   {
    "duration": 5045,
    "start_time": "2022-02-25T21:52:43.495Z"
   },
   {
    "duration": 220,
    "start_time": "2022-02-25T21:52:48.322Z"
   },
   {
    "duration": 16,
    "start_time": "2022-02-25T21:53:33.828Z"
   },
   {
    "duration": 7,
    "start_time": "2022-02-25T21:55:22.430Z"
   },
   {
    "duration": 4,
    "start_time": "2022-02-25T21:55:22.711Z"
   },
   {
    "duration": 5,
    "start_time": "2022-02-25T21:55:23.275Z"
   },
   {
    "duration": 8,
    "start_time": "2022-02-25T21:55:23.382Z"
   },
   {
    "duration": 10,
    "start_time": "2022-02-25T21:55:23.625Z"
   },
   {
    "duration": 15,
    "start_time": "2022-02-25T21:55:23.929Z"
   },
   {
    "duration": 4,
    "start_time": "2022-02-25T21:55:24.440Z"
   },
   {
    "duration": 5435,
    "start_time": "2022-02-25T21:55:24.662Z"
   },
   {
    "duration": 21,
    "start_time": "2022-02-25T21:55:30.751Z"
   },
   {
    "duration": 11,
    "start_time": "2022-02-25T21:55:31.332Z"
   },
   {
    "duration": 16,
    "start_time": "2022-02-25T21:55:31.415Z"
   },
   {
    "duration": 9,
    "start_time": "2022-02-25T21:55:31.668Z"
   },
   {
    "duration": 11,
    "start_time": "2022-02-25T21:55:31.863Z"
   },
   {
    "duration": 13,
    "start_time": "2022-02-25T21:55:31.921Z"
   },
   {
    "duration": 7,
    "start_time": "2022-02-25T21:55:32.090Z"
   },
   {
    "duration": 6,
    "start_time": "2022-02-25T21:55:32.319Z"
   },
   {
    "duration": 7,
    "start_time": "2022-02-25T21:55:32.338Z"
   },
   {
    "duration": 9,
    "start_time": "2022-02-25T21:55:32.428Z"
   },
   {
    "duration": 8,
    "start_time": "2022-02-25T21:55:32.503Z"
   },
   {
    "duration": 13,
    "start_time": "2022-02-25T21:55:32.738Z"
   },
   {
    "duration": 4,
    "start_time": "2022-02-25T21:55:33.368Z"
   },
   {
    "duration": 191,
    "start_time": "2022-02-25T21:55:33.493Z"
   },
   {
    "duration": 5,
    "start_time": "2022-02-25T21:55:36.514Z"
   },
   {
    "duration": 14,
    "start_time": "2022-02-25T21:55:36.787Z"
   },
   {
    "duration": 6,
    "start_time": "2022-02-25T21:55:49.730Z"
   },
   {
    "duration": 398,
    "start_time": "2022-02-25T21:56:15.706Z"
   },
   {
    "duration": 305,
    "start_time": "2022-02-25T21:56:16.604Z"
   },
   {
    "duration": 11,
    "start_time": "2022-02-25T21:56:17.480Z"
   },
   {
    "duration": 439,
    "start_time": "2022-02-25T21:57:37.344Z"
   },
   {
    "duration": 35,
    "start_time": "2022-02-25T21:58:16.538Z"
   },
   {
    "duration": 8,
    "start_time": "2022-02-25T21:58:57.841Z"
   },
   {
    "duration": 500,
    "start_time": "2022-02-25T22:04:08.997Z"
   },
   {
    "duration": 30,
    "start_time": "2022-02-25T22:04:10.157Z"
   },
   {
    "duration": 12,
    "start_time": "2022-02-25T22:04:12.263Z"
   },
   {
    "duration": 7,
    "start_time": "2022-02-25T22:04:12.643Z"
   },
   {
    "duration": 405,
    "start_time": "2022-02-25T22:04:31.292Z"
   },
   {
    "duration": 40,
    "start_time": "2022-02-25T22:04:31.699Z"
   },
   {
    "duration": 12,
    "start_time": "2022-02-25T22:04:32.420Z"
   },
   {
    "duration": 7,
    "start_time": "2022-02-25T22:04:33.465Z"
   },
   {
    "duration": 7,
    "start_time": "2022-02-25T22:07:19.550Z"
   },
   {
    "duration": 447,
    "start_time": "2022-02-25T22:07:19.811Z"
   },
   {
    "duration": 29,
    "start_time": "2022-02-25T22:07:20.727Z"
   },
   {
    "duration": 9,
    "start_time": "2022-02-25T22:07:22.732Z"
   },
   {
    "duration": 14,
    "start_time": "2022-02-25T22:07:24.121Z"
   },
   {
    "duration": 422,
    "start_time": "2022-02-25T22:07:24.528Z"
   },
   {
    "duration": 29,
    "start_time": "2022-02-25T22:07:25.097Z"
   },
   {
    "duration": 9,
    "start_time": "2022-02-25T22:07:25.879Z"
   },
   {
    "duration": 10,
    "start_time": "2022-02-25T22:07:26.407Z"
   },
   {
    "duration": 10,
    "start_time": "2022-02-25T22:07:26.800Z"
   },
   {
    "duration": 328,
    "start_time": "2022-02-25T22:08:35.749Z"
   },
   {
    "duration": 426,
    "start_time": "2022-02-25T22:08:45.600Z"
   },
   {
    "duration": 31,
    "start_time": "2022-02-25T22:09:43.930Z"
   },
   {
    "duration": 8,
    "start_time": "2022-02-25T22:09:44.631Z"
   },
   {
    "duration": 13,
    "start_time": "2022-02-25T22:11:31.129Z"
   },
   {
    "duration": 522,
    "start_time": "2022-02-25T22:11:31.778Z"
   },
   {
    "duration": 36,
    "start_time": "2022-02-25T22:11:33.591Z"
   },
   {
    "duration": 10,
    "start_time": "2022-02-25T22:12:10.203Z"
   },
   {
    "duration": 10,
    "start_time": "2022-02-25T22:12:10.766Z"
   },
   {
    "duration": 8,
    "start_time": "2022-02-25T22:12:11.679Z"
   },
   {
    "duration": 9,
    "start_time": "2022-02-25T22:17:15.346Z"
   },
   {
    "duration": 6,
    "start_time": "2022-02-25T22:18:10.238Z"
   },
   {
    "duration": 8,
    "start_time": "2022-02-25T22:19:05.835Z"
   },
   {
    "duration": 9,
    "start_time": "2022-02-25T22:19:31.810Z"
   },
   {
    "duration": 6,
    "start_time": "2022-02-25T22:19:56.447Z"
   },
   {
    "duration": 1405,
    "start_time": "2022-02-26T14:40:34.756Z"
   },
   {
    "duration": 473,
    "start_time": "2022-02-26T14:40:36.163Z"
   },
   {
    "duration": 289,
    "start_time": "2022-02-26T14:40:36.640Z"
   },
   {
    "duration": 83,
    "start_time": "2022-02-26T14:40:36.932Z"
   },
   {
    "duration": 28,
    "start_time": "2022-02-26T14:40:37.017Z"
   },
   {
    "duration": 64,
    "start_time": "2022-02-26T14:40:37.048Z"
   },
   {
    "duration": 16,
    "start_time": "2022-02-26T14:40:37.114Z"
   },
   {
    "duration": 24,
    "start_time": "2022-02-26T14:40:37.133Z"
   },
   {
    "duration": 32,
    "start_time": "2022-02-26T14:40:37.160Z"
   },
   {
    "duration": 9,
    "start_time": "2022-02-26T14:40:37.194Z"
   },
   {
    "duration": 11,
    "start_time": "2022-02-26T14:40:37.205Z"
   },
   {
    "duration": 11,
    "start_time": "2022-02-26T14:40:37.218Z"
   },
   {
    "duration": 1597,
    "start_time": "2022-02-26T14:45:40.457Z"
   },
   {
    "duration": 251,
    "start_time": "2022-02-26T14:46:03.082Z"
   },
   {
    "duration": 580,
    "start_time": "2022-02-26T14:47:20.488Z"
   },
   {
    "duration": 530,
    "start_time": "2022-02-26T14:50:41.162Z"
   },
   {
    "duration": 35,
    "start_time": "2022-02-26T14:56:29.538Z"
   },
   {
    "duration": 265,
    "start_time": "2022-02-26T14:57:50.704Z"
   },
   {
    "duration": 252,
    "start_time": "2022-02-26T14:58:43.486Z"
   },
   {
    "duration": 3,
    "start_time": "2022-02-26T15:01:48.166Z"
   },
   {
    "duration": 547,
    "start_time": "2022-02-26T15:01:48.172Z"
   },
   {
    "duration": 290,
    "start_time": "2022-02-26T15:01:48.722Z"
   },
   {
    "duration": 74,
    "start_time": "2022-02-26T15:01:49.015Z"
   },
   {
    "duration": 25,
    "start_time": "2022-02-26T15:01:49.091Z"
   },
   {
    "duration": 41,
    "start_time": "2022-02-26T15:01:49.118Z"
   },
   {
    "duration": 36,
    "start_time": "2022-02-26T15:01:49.161Z"
   },
   {
    "duration": 24,
    "start_time": "2022-02-26T15:01:49.200Z"
   },
   {
    "duration": 14,
    "start_time": "2022-02-26T15:01:49.227Z"
   },
   {
    "duration": 43,
    "start_time": "2022-02-26T15:01:49.244Z"
   },
   {
    "duration": 12,
    "start_time": "2022-02-26T15:01:49.289Z"
   },
   {
    "duration": 12,
    "start_time": "2022-02-26T15:01:49.303Z"
   },
   {
    "duration": 15,
    "start_time": "2022-02-26T15:01:49.318Z"
   },
   {
    "duration": 242,
    "start_time": "2022-02-26T15:01:49.336Z"
   },
   {
    "duration": 140376,
    "start_time": "2022-02-26T14:59:29.206Z"
   },
   {
    "duration": 140375,
    "start_time": "2022-02-26T14:59:29.209Z"
   },
   {
    "duration": 140374,
    "start_time": "2022-02-26T14:59:29.211Z"
   },
   {
    "duration": 140374,
    "start_time": "2022-02-26T14:59:29.213Z"
   },
   {
    "duration": 140372,
    "start_time": "2022-02-26T14:59:29.216Z"
   },
   {
    "duration": 140371,
    "start_time": "2022-02-26T14:59:29.218Z"
   },
   {
    "duration": 140371,
    "start_time": "2022-02-26T14:59:29.220Z"
   },
   {
    "duration": 140364,
    "start_time": "2022-02-26T14:59:29.228Z"
   },
   {
    "duration": 140363,
    "start_time": "2022-02-26T14:59:29.230Z"
   },
   {
    "duration": 140362,
    "start_time": "2022-02-26T14:59:29.233Z"
   },
   {
    "duration": 140360,
    "start_time": "2022-02-26T14:59:29.236Z"
   },
   {
    "duration": 140359,
    "start_time": "2022-02-26T14:59:29.238Z"
   },
   {
    "duration": 140354,
    "start_time": "2022-02-26T14:59:29.244Z"
   },
   {
    "duration": 140352,
    "start_time": "2022-02-26T14:59:29.247Z"
   },
   {
    "duration": 140351,
    "start_time": "2022-02-26T14:59:29.249Z"
   },
   {
    "duration": 140351,
    "start_time": "2022-02-26T14:59:29.251Z"
   },
   {
    "duration": 140350,
    "start_time": "2022-02-26T14:59:29.253Z"
   },
   {
    "duration": 140349,
    "start_time": "2022-02-26T14:59:29.255Z"
   },
   {
    "duration": 140347,
    "start_time": "2022-02-26T14:59:29.258Z"
   },
   {
    "duration": 140295,
    "start_time": "2022-02-26T14:59:29.312Z"
   },
   {
    "duration": 140272,
    "start_time": "2022-02-26T14:59:29.336Z"
   },
   {
    "duration": 140270,
    "start_time": "2022-02-26T14:59:29.339Z"
   },
   {
    "duration": 140271,
    "start_time": "2022-02-26T14:59:29.340Z"
   },
   {
    "duration": 140270,
    "start_time": "2022-02-26T14:59:29.342Z"
   },
   {
    "duration": 140269,
    "start_time": "2022-02-26T14:59:29.344Z"
   },
   {
    "duration": 140243,
    "start_time": "2022-02-26T14:59:29.371Z"
   },
   {
    "duration": 140213,
    "start_time": "2022-02-26T14:59:29.403Z"
   },
   {
    "duration": 140212,
    "start_time": "2022-02-26T14:59:29.405Z"
   },
   {
    "duration": 140211,
    "start_time": "2022-02-26T14:59:29.407Z"
   },
   {
    "duration": 140209,
    "start_time": "2022-02-26T14:59:29.410Z"
   },
   {
    "duration": 140208,
    "start_time": "2022-02-26T14:59:29.412Z"
   },
   {
    "duration": 140208,
    "start_time": "2022-02-26T14:59:29.414Z"
   },
   {
    "duration": 140207,
    "start_time": "2022-02-26T14:59:29.416Z"
   },
   {
    "duration": 140206,
    "start_time": "2022-02-26T14:59:29.418Z"
   },
   {
    "duration": 140188,
    "start_time": "2022-02-26T14:59:29.437Z"
   },
   {
    "duration": 140171,
    "start_time": "2022-02-26T14:59:29.455Z"
   },
   {
    "duration": 140168,
    "start_time": "2022-02-26T14:59:29.460Z"
   },
   {
    "duration": 140167,
    "start_time": "2022-02-26T14:59:29.462Z"
   },
   {
    "duration": 140222,
    "start_time": "2022-02-26T14:59:29.464Z"
   },
   {
    "duration": 140221,
    "start_time": "2022-02-26T14:59:29.466Z"
   },
   {
    "duration": 140221,
    "start_time": "2022-02-26T14:59:29.468Z"
   },
   {
    "duration": 140219,
    "start_time": "2022-02-26T14:59:29.471Z"
   },
   {
    "duration": 140218,
    "start_time": "2022-02-26T14:59:29.473Z"
   },
   {
    "duration": 140218,
    "start_time": "2022-02-26T14:59:29.475Z"
   },
   {
    "duration": 140218,
    "start_time": "2022-02-26T14:59:29.476Z"
   },
   {
    "duration": 140217,
    "start_time": "2022-02-26T14:59:29.478Z"
   },
   {
    "duration": 140216,
    "start_time": "2022-02-26T14:59:29.480Z"
   },
   {
    "duration": 140216,
    "start_time": "2022-02-26T14:59:29.482Z"
   },
   {
    "duration": 4,
    "start_time": "2022-02-26T15:02:14.772Z"
   },
   {
    "duration": 255,
    "start_time": "2022-02-26T15:02:20.060Z"
   },
   {
    "duration": 363,
    "start_time": "2022-02-26T15:02:35.732Z"
   },
   {
    "duration": 22,
    "start_time": "2022-02-26T15:02:53.497Z"
   },
   {
    "duration": 4,
    "start_time": "2022-02-26T15:03:04.959Z"
   },
   {
    "duration": 479,
    "start_time": "2022-02-26T15:03:04.966Z"
   },
   {
    "duration": 308,
    "start_time": "2022-02-26T15:03:05.448Z"
   },
   {
    "duration": 78,
    "start_time": "2022-02-26T15:03:05.758Z"
   },
   {
    "duration": 49,
    "start_time": "2022-02-26T15:03:05.838Z"
   },
   {
    "duration": 44,
    "start_time": "2022-02-26T15:03:05.889Z"
   },
   {
    "duration": 15,
    "start_time": "2022-02-26T15:03:05.936Z"
   },
   {
    "duration": 48,
    "start_time": "2022-02-26T15:03:05.955Z"
   },
   {
    "duration": 16,
    "start_time": "2022-02-26T15:03:06.006Z"
   },
   {
    "duration": 10,
    "start_time": "2022-02-26T15:03:06.024Z"
   },
   {
    "duration": 18,
    "start_time": "2022-02-26T15:03:06.036Z"
   },
   {
    "duration": 31,
    "start_time": "2022-02-26T15:03:06.056Z"
   },
   {
    "duration": 5,
    "start_time": "2022-02-26T15:03:06.089Z"
   },
   {
    "duration": 312,
    "start_time": "2022-02-26T15:03:06.096Z"
   },
   {
    "duration": 3,
    "start_time": "2022-02-26T15:03:32.283Z"
   },
   {
    "duration": 516,
    "start_time": "2022-02-26T15:03:32.289Z"
   },
   {
    "duration": 324,
    "start_time": "2022-02-26T15:03:32.809Z"
   },
   {
    "duration": 83,
    "start_time": "2022-02-26T15:03:33.136Z"
   },
   {
    "duration": 25,
    "start_time": "2022-02-26T15:03:33.222Z"
   },
   {
    "duration": 69,
    "start_time": "2022-02-26T15:03:33.250Z"
   },
   {
    "duration": 18,
    "start_time": "2022-02-26T15:03:33.322Z"
   },
   {
    "duration": 51,
    "start_time": "2022-02-26T15:03:33.343Z"
   },
   {
    "duration": 16,
    "start_time": "2022-02-26T15:03:33.399Z"
   },
   {
    "duration": 13,
    "start_time": "2022-02-26T15:03:33.419Z"
   },
   {
    "duration": 21,
    "start_time": "2022-02-26T15:03:33.435Z"
   },
   {
    "duration": 28,
    "start_time": "2022-02-26T15:03:33.459Z"
   },
   {
    "duration": 323,
    "start_time": "2022-02-26T15:03:33.490Z"
   },
   {
    "duration": 22,
    "start_time": "2022-02-26T15:03:33.815Z"
   },
   {
    "duration": 168,
    "start_time": "2022-02-26T15:03:33.840Z"
   },
   {
    "duration": 91,
    "start_time": "2022-02-26T15:03:34.010Z"
   },
   {
    "duration": 121,
    "start_time": "2022-02-26T15:03:34.104Z"
   },
   {
    "duration": 33,
    "start_time": "2022-02-26T15:03:34.228Z"
   },
   {
    "duration": 25,
    "start_time": "2022-02-26T15:03:34.263Z"
   },
   {
    "duration": 22,
    "start_time": "2022-02-26T15:03:34.291Z"
   },
   {
    "duration": 9,
    "start_time": "2022-02-26T15:03:34.316Z"
   },
   {
    "duration": 26,
    "start_time": "2022-02-26T15:03:34.327Z"
   },
   {
    "duration": 38,
    "start_time": "2022-02-26T15:03:34.355Z"
   },
   {
    "duration": 31,
    "start_time": "2022-02-26T15:03:34.395Z"
   },
   {
    "duration": 16,
    "start_time": "2022-02-26T15:03:34.428Z"
   },
   {
    "duration": 56,
    "start_time": "2022-02-26T15:03:34.446Z"
   },
   {
    "duration": 10,
    "start_time": "2022-02-26T15:03:34.508Z"
   },
   {
    "duration": 15,
    "start_time": "2022-02-26T15:03:34.521Z"
   },
   {
    "duration": 19,
    "start_time": "2022-02-26T15:03:34.538Z"
   },
   {
    "duration": 32,
    "start_time": "2022-02-26T15:03:34.559Z"
   },
   {
    "duration": 5,
    "start_time": "2022-02-26T15:03:34.593Z"
   },
   {
    "duration": 8,
    "start_time": "2022-02-26T15:03:34.600Z"
   },
   {
    "duration": 12,
    "start_time": "2022-02-26T15:03:34.609Z"
   },
   {
    "duration": 11,
    "start_time": "2022-02-26T15:03:34.624Z"
   },
   {
    "duration": 58,
    "start_time": "2022-02-26T15:03:34.637Z"
   },
   {
    "duration": 5,
    "start_time": "2022-02-26T15:03:34.698Z"
   },
   {
    "duration": 337,
    "start_time": "2022-02-26T15:03:34.706Z"
   },
   {
    "duration": 5,
    "start_time": "2022-02-26T15:03:35.045Z"
   },
   {
    "duration": 37,
    "start_time": "2022-02-26T15:03:35.052Z"
   },
   {
    "duration": 634,
    "start_time": "2022-02-26T15:03:35.091Z"
   },
   {
    "duration": 531,
    "start_time": "2022-02-26T15:03:35.727Z"
   },
   {
    "duration": 27,
    "start_time": "2022-02-26T15:03:36.261Z"
   },
   {
    "duration": 614,
    "start_time": "2022-02-26T15:03:36.291Z"
   },
   {
    "duration": 45,
    "start_time": "2022-02-26T15:03:36.908Z"
   },
   {
    "duration": 37,
    "start_time": "2022-02-26T15:03:36.955Z"
   },
   {
    "duration": 7,
    "start_time": "2022-02-26T15:03:36.994Z"
   },
   {
    "duration": 11,
    "start_time": "2022-02-26T15:03:37.003Z"
   },
   {
    "duration": 844,
    "start_time": "2022-02-26T15:03:37.016Z"
   },
   {
    "duration": 59,
    "start_time": "2022-02-26T15:03:37.863Z"
   },
   {
    "duration": 11,
    "start_time": "2022-02-26T15:03:37.925Z"
   },
   {
    "duration": 25,
    "start_time": "2022-02-26T15:03:37.939Z"
   },
   {
    "duration": 631,
    "start_time": "2022-02-26T15:03:37.967Z"
   },
   {
    "duration": 43,
    "start_time": "2022-02-26T15:03:38.601Z"
   },
   {
    "duration": 11,
    "start_time": "2022-02-26T15:03:38.647Z"
   },
   {
    "duration": 11,
    "start_time": "2022-02-26T15:03:38.688Z"
   },
   {
    "duration": 16,
    "start_time": "2022-02-26T15:03:38.701Z"
   },
   {
    "duration": 18,
    "start_time": "2022-02-26T15:03:38.719Z"
   },
   {
    "duration": 8,
    "start_time": "2022-02-26T15:03:38.740Z"
   },
   {
    "duration": 44,
    "start_time": "2022-02-26T15:03:38.750Z"
   },
   {
    "duration": 20,
    "start_time": "2022-02-26T15:03:38.796Z"
   },
   {
    "duration": 17,
    "start_time": "2022-02-26T15:03:38.818Z"
   },
   {
    "duration": 4,
    "start_time": "2022-02-26T15:23:40.450Z"
   },
   {
    "duration": 462,
    "start_time": "2022-02-26T15:23:40.456Z"
   },
   {
    "duration": 278,
    "start_time": "2022-02-26T15:23:40.921Z"
   },
   {
    "duration": 50,
    "start_time": "2022-02-26T15:23:41.201Z"
   },
   {
    "duration": 51,
    "start_time": "2022-02-26T15:23:41.253Z"
   },
   {
    "duration": 40,
    "start_time": "2022-02-26T15:23:41.306Z"
   },
   {
    "duration": 14,
    "start_time": "2022-02-26T15:23:41.349Z"
   },
   {
    "duration": 40,
    "start_time": "2022-02-26T15:23:41.366Z"
   },
   {
    "duration": 14,
    "start_time": "2022-02-26T15:23:41.408Z"
   },
   {
    "duration": 9,
    "start_time": "2022-02-26T15:23:41.424Z"
   },
   {
    "duration": 11,
    "start_time": "2022-02-26T15:23:41.435Z"
   },
   {
    "duration": 40,
    "start_time": "2022-02-26T15:23:41.448Z"
   },
   {
    "duration": 304,
    "start_time": "2022-02-26T15:23:41.490Z"
   },
   {
    "duration": 4,
    "start_time": "2022-02-26T15:27:39.574Z"
   },
   {
    "duration": 505,
    "start_time": "2022-02-26T15:27:39.581Z"
   },
   {
    "duration": 310,
    "start_time": "2022-02-26T15:27:40.089Z"
   },
   {
    "duration": 49,
    "start_time": "2022-02-26T15:27:40.402Z"
   },
   {
    "duration": 52,
    "start_time": "2022-02-26T15:27:40.453Z"
   },
   {
    "duration": 40,
    "start_time": "2022-02-26T15:27:40.508Z"
   },
   {
    "duration": 39,
    "start_time": "2022-02-26T15:27:40.551Z"
   },
   {
    "duration": 27,
    "start_time": "2022-02-26T15:27:40.594Z"
   },
   {
    "duration": 14,
    "start_time": "2022-02-26T15:27:40.624Z"
   },
   {
    "duration": 11,
    "start_time": "2022-02-26T15:27:40.641Z"
   },
   {
    "duration": 41,
    "start_time": "2022-02-26T15:27:40.655Z"
   },
   {
    "duration": 6,
    "start_time": "2022-02-26T15:27:40.699Z"
   },
   {
    "duration": 402,
    "start_time": "2022-02-26T15:27:40.708Z"
   },
   {
    "duration": 52,
    "start_time": "2022-02-26T15:27:41.113Z"
   },
   {
    "duration": 26,
    "start_time": "2022-02-26T15:27:41.168Z"
   },
   {
    "duration": 33,
    "start_time": "2022-02-26T15:27:41.197Z"
   },
   {
    "duration": 12,
    "start_time": "2022-02-26T15:27:41.233Z"
   },
   {
    "duration": 58,
    "start_time": "2022-02-26T15:27:41.248Z"
   },
   {
    "duration": 8,
    "start_time": "2022-02-26T15:27:41.308Z"
   },
   {
    "duration": 32,
    "start_time": "2022-02-26T15:27:41.318Z"
   },
   {
    "duration": 37,
    "start_time": "2022-02-26T15:27:41.352Z"
   },
   {
    "duration": 24,
    "start_time": "2022-02-26T15:27:41.391Z"
   },
   {
    "duration": 10,
    "start_time": "2022-02-26T15:27:41.420Z"
   },
   {
    "duration": 14,
    "start_time": "2022-02-26T15:27:41.432Z"
   },
   {
    "duration": 49,
    "start_time": "2022-02-26T15:27:41.448Z"
   },
   {
    "duration": 7,
    "start_time": "2022-02-26T15:27:41.500Z"
   },
   {
    "duration": 6,
    "start_time": "2022-02-26T15:27:41.509Z"
   },
   {
    "duration": 7,
    "start_time": "2022-02-26T15:27:41.518Z"
   },
   {
    "duration": 12,
    "start_time": "2022-02-26T15:27:41.527Z"
   },
   {
    "duration": 47,
    "start_time": "2022-02-26T15:27:41.542Z"
   },
   {
    "duration": 17,
    "start_time": "2022-02-26T15:27:41.591Z"
   },
   {
    "duration": 6,
    "start_time": "2022-02-26T15:27:41.610Z"
   },
   {
    "duration": 369,
    "start_time": "2022-02-26T15:27:41.618Z"
   },
   {
    "duration": 5,
    "start_time": "2022-02-26T15:27:41.990Z"
   },
   {
    "duration": 27,
    "start_time": "2022-02-26T15:27:41.997Z"
   },
   {
    "duration": 653,
    "start_time": "2022-02-26T15:27:42.026Z"
   },
   {
    "duration": 45,
    "start_time": "2022-02-26T15:27:42.686Z"
   },
   {
    "duration": 11,
    "start_time": "2022-02-26T15:27:42.734Z"
   },
   {
    "duration": 641,
    "start_time": "2022-02-26T15:27:42.747Z"
   },
   {
    "duration": 43,
    "start_time": "2022-02-26T15:27:43.391Z"
   },
   {
    "duration": 16,
    "start_time": "2022-02-26T15:27:43.436Z"
   },
   {
    "duration": 37,
    "start_time": "2022-02-26T15:27:43.454Z"
   },
   {
    "duration": 11,
    "start_time": "2022-02-26T15:27:43.493Z"
   },
   {
    "duration": 359,
    "start_time": "2022-02-26T15:27:50.042Z"
   }
  ],
  "kernelspec": {
   "display_name": "Python 3 (ipykernel)",
   "language": "python",
   "name": "python3"
  },
  "language_info": {
   "codemirror_mode": {
    "name": "ipython",
    "version": 3
   },
   "file_extension": ".py",
   "mimetype": "text/x-python",
   "name": "python",
   "nbconvert_exporter": "python",
   "pygments_lexer": "ipython3",
   "version": "3.9.12"
  },
  "toc": {
   "base_numbering": 1,
   "nav_menu": {
    "height": "217px",
    "width": "490px"
   },
   "number_sections": true,
   "sideBar": true,
   "skip_h1_title": true,
   "title_cell": "Table of Contents",
   "title_sidebar": "Contents",
   "toc_cell": false,
   "toc_position": {
    "height": "calc(100% - 180px)",
    "left": "10px",
    "top": "150px",
    "width": "384px"
   },
   "toc_section_display": true,
   "toc_window_display": true
  }
 },
 "nbformat": 4,
 "nbformat_minor": 2
}
