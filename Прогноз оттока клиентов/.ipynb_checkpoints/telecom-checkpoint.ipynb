{
 "cells": [
  {
   "cell_type": "code",
   "execution_count": 9,
   "metadata": {
    "colab": {
     "base_uri": "https://localhost:8080/"
    },
    "id": "CxeF38e6dUvI",
    "outputId": "403a26ee-37b9-4128-dd59-c9fb33e657b9"
   },
   "outputs": [
    {
     "name": "stdout",
     "output_type": "stream",
     "text": [
      "Requirement already satisfied: catboost in /opt/conda/lib/python3.9/site-packages (1.0.3)\n",
      "Requirement already satisfied: matplotlib in /opt/conda/lib/python3.9/site-packages (from catboost) (3.3.4)\n",
      "Requirement already satisfied: graphviz in /opt/conda/lib/python3.9/site-packages (from catboost) (0.20)\n",
      "Requirement already satisfied: six in /opt/conda/lib/python3.9/site-packages (from catboost) (1.16.0)\n",
      "Requirement already satisfied: numpy>=1.16.0 in /opt/conda/lib/python3.9/site-packages (from catboost) (1.21.1)\n",
      "Requirement already satisfied: plotly in /opt/conda/lib/python3.9/site-packages (from catboost) (5.4.0)\n",
      "Requirement already satisfied: scipy in /opt/conda/lib/python3.9/site-packages (from catboost) (1.8.0)\n",
      "Requirement already satisfied: pandas>=0.24.0 in /opt/conda/lib/python3.9/site-packages (from catboost) (1.2.4)\n",
      "Requirement already satisfied: python-dateutil>=2.7.3 in /opt/conda/lib/python3.9/site-packages (from pandas>=0.24.0->catboost) (2.8.1)\n",
      "Requirement already satisfied: pytz>=2017.3 in /opt/conda/lib/python3.9/site-packages (from pandas>=0.24.0->catboost) (2021.1)\n",
      "Requirement already satisfied: cycler>=0.10 in /opt/conda/lib/python3.9/site-packages (from matplotlib->catboost) (0.11.0)\n",
      "Requirement already satisfied: kiwisolver>=1.0.1 in /opt/conda/lib/python3.9/site-packages (from matplotlib->catboost) (1.4.2)\n",
      "Requirement already satisfied: pyparsing!=2.0.4,!=2.1.2,!=2.1.6,>=2.0.3 in /opt/conda/lib/python3.9/site-packages (from matplotlib->catboost) (2.4.7)\n",
      "Requirement already satisfied: pillow>=6.2.0 in /opt/conda/lib/python3.9/site-packages (from matplotlib->catboost) (8.4.0)\n",
      "Requirement already satisfied: tenacity>=6.2.0 in /opt/conda/lib/python3.9/site-packages (from plotly->catboost) (8.0.1)\n"
     ]
    }
   ],
   "source": [
    "import pandas as pd\n",
    "import numpy as np\n",
    "import seaborn as sns\n",
    "from scipy import stats as sts\n",
    "import matplotlib.pyplot as plt\n",
    "\n",
    "from sklearn.model_selection import train_test_split, GridSearchCV, RandomizedSearchCV, cross_val_score\n",
    "from sklearn.utils import shuffle\n",
    "\n",
    "\n",
    "from sklearn.preprocessing import StandardScaler\n",
    "\n",
    "from sklearn.tree import DecisionTreeClassifier\n",
    "from sklearn.linear_model import LogisticRegression\n",
    "from sklearn.ensemble import RandomForestClassifier\n",
    "\n",
    "!pip install catboost\n",
    "from catboost import CatBoostClassifier\n",
    "from lightgbm import LGBMClassifier\n",
    "\n",
    "from sklearn.metrics import accuracy_score, roc_auc_score, roc_curve\n",
    "\n",
    "import warnings \n",
    "warnings.filterwarnings('ignore')\n",
    "RANDOM_STATE = 80822"
   ]
  },
  {
   "cell_type": "markdown",
   "metadata": {
    "id": "Twfuaxw5dUvM"
   },
   "source": [
    "## Загрузка и просмотр данных."
   ]
  },
  {
   "cell_type": "code",
   "execution_count": 10,
   "metadata": {
    "id": "c0CyQA_udUvN"
   },
   "outputs": [],
   "source": [
    "try:\n",
    "    phone = pd.read_csv('/datasets/phone.csv')\n",
    "    contract = pd.read_csv('/datasets/contract.csv')\n",
    "    personal = pd.read_csv('/datasets/personal.csv')\n",
    "    internet = pd.read_csv('/datasets/internet.csv')\n",
    "except:\n",
    "    print('Проверьте путь к данным')"
   ]
  },
  {
   "cell_type": "code",
   "execution_count": 11,
   "metadata": {
    "colab": {
     "base_uri": "https://localhost:8080/"
    },
    "id": "yYDRBflLeb_K",
    "outputId": "923540d6-7c10-4b8c-b6e0-dc64bbdf0ed6"
   },
   "outputs": [],
   "source": [
    "#from google.colab import drive\n",
    "#drive.mount('/content/drive')"
   ]
  },
  {
   "cell_type": "code",
   "execution_count": 12,
   "metadata": {
    "id": "hs813N2BdUvO"
   },
   "outputs": [],
   "source": [
    "#функция для открытия таблиц и информации о них:\n",
    "def info(df, name):\n",
    "    print('\\033[1m' + 'Таблица '+ name + '\\033[0m')\n",
    "    print('')\n",
    "    print('Первые 10 строк таблицы:')\n",
    "    display(df.head(10))\n",
    "    print('Рандомные 10 строк таблицы:')\n",
    "    display(df.sample(10, random_state=1))\n",
    "    print('Последние 10 строк таблицы:')\n",
    "    display(df.tail(10))\n",
    "    print('Информация')\n",
    "    print('')\n",
    "    print(df.info())"
   ]
  },
  {
   "cell_type": "markdown",
   "metadata": {
    "id": "MV2aHrQ-dUvO"
   },
   "source": [
    "**1) CONTRACT**"
   ]
  },
  {
   "cell_type": "code",
   "execution_count": 13,
   "metadata": {
    "colab": {
     "base_uri": "https://localhost:8080/",
     "height": 1000
    },
    "id": "xQLrdj3edUvO",
    "outputId": "9afdca39-d997-485a-bc72-5313c01891d3",
    "scrolled": false
   },
   "outputs": [
    {
     "name": "stdout",
     "output_type": "stream",
     "text": [
      "\u001b[1mТаблица CONTRACT, информация о договоре\u001b[0m\n",
      "\n",
      "Первые 10 строк таблицы:\n"
     ]
    },
    {
     "data": {
      "text/html": [
       "<div>\n",
       "<style scoped>\n",
       "    .dataframe tbody tr th:only-of-type {\n",
       "        vertical-align: middle;\n",
       "    }\n",
       "\n",
       "    .dataframe tbody tr th {\n",
       "        vertical-align: top;\n",
       "    }\n",
       "\n",
       "    .dataframe thead th {\n",
       "        text-align: right;\n",
       "    }\n",
       "</style>\n",
       "<table border=\"1\" class=\"dataframe\">\n",
       "  <thead>\n",
       "    <tr style=\"text-align: right;\">\n",
       "      <th></th>\n",
       "      <th>customerID</th>\n",
       "      <th>BeginDate</th>\n",
       "      <th>EndDate</th>\n",
       "      <th>Type</th>\n",
       "      <th>PaperlessBilling</th>\n",
       "      <th>PaymentMethod</th>\n",
       "      <th>MonthlyCharges</th>\n",
       "      <th>TotalCharges</th>\n",
       "    </tr>\n",
       "  </thead>\n",
       "  <tbody>\n",
       "    <tr>\n",
       "      <th>0</th>\n",
       "      <td>7590-VHVEG</td>\n",
       "      <td>2020-01-01</td>\n",
       "      <td>No</td>\n",
       "      <td>Month-to-month</td>\n",
       "      <td>Yes</td>\n",
       "      <td>Electronic check</td>\n",
       "      <td>29.85</td>\n",
       "      <td>29.85</td>\n",
       "    </tr>\n",
       "    <tr>\n",
       "      <th>1</th>\n",
       "      <td>5575-GNVDE</td>\n",
       "      <td>2017-04-01</td>\n",
       "      <td>No</td>\n",
       "      <td>One year</td>\n",
       "      <td>No</td>\n",
       "      <td>Mailed check</td>\n",
       "      <td>56.95</td>\n",
       "      <td>1889.5</td>\n",
       "    </tr>\n",
       "    <tr>\n",
       "      <th>2</th>\n",
       "      <td>3668-QPYBK</td>\n",
       "      <td>2019-10-01</td>\n",
       "      <td>2019-12-01 00:00:00</td>\n",
       "      <td>Month-to-month</td>\n",
       "      <td>Yes</td>\n",
       "      <td>Mailed check</td>\n",
       "      <td>53.85</td>\n",
       "      <td>108.15</td>\n",
       "    </tr>\n",
       "    <tr>\n",
       "      <th>3</th>\n",
       "      <td>7795-CFOCW</td>\n",
       "      <td>2016-05-01</td>\n",
       "      <td>No</td>\n",
       "      <td>One year</td>\n",
       "      <td>No</td>\n",
       "      <td>Bank transfer (automatic)</td>\n",
       "      <td>42.30</td>\n",
       "      <td>1840.75</td>\n",
       "    </tr>\n",
       "    <tr>\n",
       "      <th>4</th>\n",
       "      <td>9237-HQITU</td>\n",
       "      <td>2019-09-01</td>\n",
       "      <td>2019-11-01 00:00:00</td>\n",
       "      <td>Month-to-month</td>\n",
       "      <td>Yes</td>\n",
       "      <td>Electronic check</td>\n",
       "      <td>70.70</td>\n",
       "      <td>151.65</td>\n",
       "    </tr>\n",
       "    <tr>\n",
       "      <th>5</th>\n",
       "      <td>9305-CDSKC</td>\n",
       "      <td>2019-03-01</td>\n",
       "      <td>2019-11-01 00:00:00</td>\n",
       "      <td>Month-to-month</td>\n",
       "      <td>Yes</td>\n",
       "      <td>Electronic check</td>\n",
       "      <td>99.65</td>\n",
       "      <td>820.5</td>\n",
       "    </tr>\n",
       "    <tr>\n",
       "      <th>6</th>\n",
       "      <td>1452-KIOVK</td>\n",
       "      <td>2018-04-01</td>\n",
       "      <td>No</td>\n",
       "      <td>Month-to-month</td>\n",
       "      <td>Yes</td>\n",
       "      <td>Credit card (automatic)</td>\n",
       "      <td>89.10</td>\n",
       "      <td>1949.4</td>\n",
       "    </tr>\n",
       "    <tr>\n",
       "      <th>7</th>\n",
       "      <td>6713-OKOMC</td>\n",
       "      <td>2019-04-01</td>\n",
       "      <td>No</td>\n",
       "      <td>Month-to-month</td>\n",
       "      <td>No</td>\n",
       "      <td>Mailed check</td>\n",
       "      <td>29.75</td>\n",
       "      <td>301.9</td>\n",
       "    </tr>\n",
       "    <tr>\n",
       "      <th>8</th>\n",
       "      <td>7892-POOKP</td>\n",
       "      <td>2017-07-01</td>\n",
       "      <td>2019-11-01 00:00:00</td>\n",
       "      <td>Month-to-month</td>\n",
       "      <td>Yes</td>\n",
       "      <td>Electronic check</td>\n",
       "      <td>104.80</td>\n",
       "      <td>3046.05</td>\n",
       "    </tr>\n",
       "    <tr>\n",
       "      <th>9</th>\n",
       "      <td>6388-TABGU</td>\n",
       "      <td>2014-12-01</td>\n",
       "      <td>No</td>\n",
       "      <td>One year</td>\n",
       "      <td>No</td>\n",
       "      <td>Bank transfer (automatic)</td>\n",
       "      <td>56.15</td>\n",
       "      <td>3487.95</td>\n",
       "    </tr>\n",
       "  </tbody>\n",
       "</table>\n",
       "</div>"
      ],
      "text/plain": [
       "   customerID   BeginDate              EndDate            Type  \\\n",
       "0  7590-VHVEG  2020-01-01                   No  Month-to-month   \n",
       "1  5575-GNVDE  2017-04-01                   No        One year   \n",
       "2  3668-QPYBK  2019-10-01  2019-12-01 00:00:00  Month-to-month   \n",
       "3  7795-CFOCW  2016-05-01                   No        One year   \n",
       "4  9237-HQITU  2019-09-01  2019-11-01 00:00:00  Month-to-month   \n",
       "5  9305-CDSKC  2019-03-01  2019-11-01 00:00:00  Month-to-month   \n",
       "6  1452-KIOVK  2018-04-01                   No  Month-to-month   \n",
       "7  6713-OKOMC  2019-04-01                   No  Month-to-month   \n",
       "8  7892-POOKP  2017-07-01  2019-11-01 00:00:00  Month-to-month   \n",
       "9  6388-TABGU  2014-12-01                   No        One year   \n",
       "\n",
       "  PaperlessBilling              PaymentMethod  MonthlyCharges TotalCharges  \n",
       "0              Yes           Electronic check           29.85        29.85  \n",
       "1               No               Mailed check           56.95       1889.5  \n",
       "2              Yes               Mailed check           53.85       108.15  \n",
       "3               No  Bank transfer (automatic)           42.30      1840.75  \n",
       "4              Yes           Electronic check           70.70       151.65  \n",
       "5              Yes           Electronic check           99.65        820.5  \n",
       "6              Yes    Credit card (automatic)           89.10       1949.4  \n",
       "7               No               Mailed check           29.75        301.9  \n",
       "8              Yes           Electronic check          104.80      3046.05  \n",
       "9               No  Bank transfer (automatic)           56.15      3487.95  "
      ]
     },
     "metadata": {},
     "output_type": "display_data"
    },
    {
     "name": "stdout",
     "output_type": "stream",
     "text": [
      "Рандомные 10 строк таблицы:\n"
     ]
    },
    {
     "data": {
      "text/html": [
       "<div>\n",
       "<style scoped>\n",
       "    .dataframe tbody tr th:only-of-type {\n",
       "        vertical-align: middle;\n",
       "    }\n",
       "\n",
       "    .dataframe tbody tr th {\n",
       "        vertical-align: top;\n",
       "    }\n",
       "\n",
       "    .dataframe thead th {\n",
       "        text-align: right;\n",
       "    }\n",
       "</style>\n",
       "<table border=\"1\" class=\"dataframe\">\n",
       "  <thead>\n",
       "    <tr style=\"text-align: right;\">\n",
       "      <th></th>\n",
       "      <th>customerID</th>\n",
       "      <th>BeginDate</th>\n",
       "      <th>EndDate</th>\n",
       "      <th>Type</th>\n",
       "      <th>PaperlessBilling</th>\n",
       "      <th>PaymentMethod</th>\n",
       "      <th>MonthlyCharges</th>\n",
       "      <th>TotalCharges</th>\n",
       "    </tr>\n",
       "  </thead>\n",
       "  <tbody>\n",
       "    <tr>\n",
       "      <th>3381</th>\n",
       "      <td>8879-ZKJOF</td>\n",
       "      <td>2016-09-01</td>\n",
       "      <td>No</td>\n",
       "      <td>One year</td>\n",
       "      <td>Yes</td>\n",
       "      <td>Bank transfer (automatic)</td>\n",
       "      <td>79.85</td>\n",
       "      <td>3320.75</td>\n",
       "    </tr>\n",
       "    <tr>\n",
       "      <th>6180</th>\n",
       "      <td>0201-MIBOL</td>\n",
       "      <td>2014-08-01</td>\n",
       "      <td>No</td>\n",
       "      <td>Two year</td>\n",
       "      <td>Yes</td>\n",
       "      <td>Bank transfer (automatic)</td>\n",
       "      <td>102.40</td>\n",
       "      <td>6471.85</td>\n",
       "    </tr>\n",
       "    <tr>\n",
       "      <th>4829</th>\n",
       "      <td>1600-DILPE</td>\n",
       "      <td>2019-02-01</td>\n",
       "      <td>No</td>\n",
       "      <td>Month-to-month</td>\n",
       "      <td>Yes</td>\n",
       "      <td>Bank transfer (automatic)</td>\n",
       "      <td>45.00</td>\n",
       "      <td>524.35</td>\n",
       "    </tr>\n",
       "    <tr>\n",
       "      <th>3737</th>\n",
       "      <td>8601-QACRS</td>\n",
       "      <td>2019-07-01</td>\n",
       "      <td>2019-12-01 00:00:00</td>\n",
       "      <td>Month-to-month</td>\n",
       "      <td>Yes</td>\n",
       "      <td>Mailed check</td>\n",
       "      <td>50.60</td>\n",
       "      <td>249.95</td>\n",
       "    </tr>\n",
       "    <tr>\n",
       "      <th>4249</th>\n",
       "      <td>7919-ZODZZ</td>\n",
       "      <td>2019-04-01</td>\n",
       "      <td>No</td>\n",
       "      <td>One year</td>\n",
       "      <td>Yes</td>\n",
       "      <td>Mailed check</td>\n",
       "      <td>65.90</td>\n",
       "      <td>660.05</td>\n",
       "    </tr>\n",
       "    <tr>\n",
       "      <th>6835</th>\n",
       "      <td>7964-ZRKKG</td>\n",
       "      <td>2014-07-01</td>\n",
       "      <td>No</td>\n",
       "      <td>One year</td>\n",
       "      <td>Yes</td>\n",
       "      <td>Bank transfer (automatic)</td>\n",
       "      <td>88.40</td>\n",
       "      <td>5798.3</td>\n",
       "    </tr>\n",
       "    <tr>\n",
       "      <th>3869</th>\n",
       "      <td>1357-BIJKI</td>\n",
       "      <td>2015-12-01</td>\n",
       "      <td>No</td>\n",
       "      <td>One year</td>\n",
       "      <td>Yes</td>\n",
       "      <td>Electronic check</td>\n",
       "      <td>98.25</td>\n",
       "      <td>4858.7</td>\n",
       "    </tr>\n",
       "    <tr>\n",
       "      <th>3943</th>\n",
       "      <td>8720-RQSBJ</td>\n",
       "      <td>2020-01-01</td>\n",
       "      <td>No</td>\n",
       "      <td>Month-to-month</td>\n",
       "      <td>No</td>\n",
       "      <td>Electronic check</td>\n",
       "      <td>44.00</td>\n",
       "      <td>44</td>\n",
       "    </tr>\n",
       "    <tr>\n",
       "      <th>3491</th>\n",
       "      <td>4682-BLBUC</td>\n",
       "      <td>2016-06-01</td>\n",
       "      <td>No</td>\n",
       "      <td>One year</td>\n",
       "      <td>Yes</td>\n",
       "      <td>Electronic check</td>\n",
       "      <td>70.95</td>\n",
       "      <td>3250.45</td>\n",
       "    </tr>\n",
       "    <tr>\n",
       "      <th>6847</th>\n",
       "      <td>8930-XOTDP</td>\n",
       "      <td>2018-08-01</td>\n",
       "      <td>No</td>\n",
       "      <td>Month-to-month</td>\n",
       "      <td>No</td>\n",
       "      <td>Mailed check</td>\n",
       "      <td>55.95</td>\n",
       "      <td>1082.8</td>\n",
       "    </tr>\n",
       "  </tbody>\n",
       "</table>\n",
       "</div>"
      ],
      "text/plain": [
       "      customerID   BeginDate              EndDate            Type  \\\n",
       "3381  8879-ZKJOF  2016-09-01                   No        One year   \n",
       "6180  0201-MIBOL  2014-08-01                   No        Two year   \n",
       "4829  1600-DILPE  2019-02-01                   No  Month-to-month   \n",
       "3737  8601-QACRS  2019-07-01  2019-12-01 00:00:00  Month-to-month   \n",
       "4249  7919-ZODZZ  2019-04-01                   No        One year   \n",
       "6835  7964-ZRKKG  2014-07-01                   No        One year   \n",
       "3869  1357-BIJKI  2015-12-01                   No        One year   \n",
       "3943  8720-RQSBJ  2020-01-01                   No  Month-to-month   \n",
       "3491  4682-BLBUC  2016-06-01                   No        One year   \n",
       "6847  8930-XOTDP  2018-08-01                   No  Month-to-month   \n",
       "\n",
       "     PaperlessBilling              PaymentMethod  MonthlyCharges TotalCharges  \n",
       "3381              Yes  Bank transfer (automatic)           79.85      3320.75  \n",
       "6180              Yes  Bank transfer (automatic)          102.40      6471.85  \n",
       "4829              Yes  Bank transfer (automatic)           45.00       524.35  \n",
       "3737              Yes               Mailed check           50.60       249.95  \n",
       "4249              Yes               Mailed check           65.90       660.05  \n",
       "6835              Yes  Bank transfer (automatic)           88.40       5798.3  \n",
       "3869              Yes           Electronic check           98.25       4858.7  \n",
       "3943               No           Electronic check           44.00           44  \n",
       "3491              Yes           Electronic check           70.95      3250.45  \n",
       "6847               No               Mailed check           55.95       1082.8  "
      ]
     },
     "metadata": {},
     "output_type": "display_data"
    },
    {
     "name": "stdout",
     "output_type": "stream",
     "text": [
      "Последние 10 строк таблицы:\n"
     ]
    },
    {
     "data": {
      "text/html": [
       "<div>\n",
       "<style scoped>\n",
       "    .dataframe tbody tr th:only-of-type {\n",
       "        vertical-align: middle;\n",
       "    }\n",
       "\n",
       "    .dataframe tbody tr th {\n",
       "        vertical-align: top;\n",
       "    }\n",
       "\n",
       "    .dataframe thead th {\n",
       "        text-align: right;\n",
       "    }\n",
       "</style>\n",
       "<table border=\"1\" class=\"dataframe\">\n",
       "  <thead>\n",
       "    <tr style=\"text-align: right;\">\n",
       "      <th></th>\n",
       "      <th>customerID</th>\n",
       "      <th>BeginDate</th>\n",
       "      <th>EndDate</th>\n",
       "      <th>Type</th>\n",
       "      <th>PaperlessBilling</th>\n",
       "      <th>PaymentMethod</th>\n",
       "      <th>MonthlyCharges</th>\n",
       "      <th>TotalCharges</th>\n",
       "    </tr>\n",
       "  </thead>\n",
       "  <tbody>\n",
       "    <tr>\n",
       "      <th>7033</th>\n",
       "      <td>9767-FFLEM</td>\n",
       "      <td>2016-12-01</td>\n",
       "      <td>No</td>\n",
       "      <td>Month-to-month</td>\n",
       "      <td>Yes</td>\n",
       "      <td>Credit card (automatic)</td>\n",
       "      <td>69.50</td>\n",
       "      <td>2625.25</td>\n",
       "    </tr>\n",
       "    <tr>\n",
       "      <th>7034</th>\n",
       "      <td>0639-TSIQW</td>\n",
       "      <td>2014-03-01</td>\n",
       "      <td>2019-10-01 00:00:00</td>\n",
       "      <td>Month-to-month</td>\n",
       "      <td>Yes</td>\n",
       "      <td>Credit card (automatic)</td>\n",
       "      <td>102.95</td>\n",
       "      <td>6886.25</td>\n",
       "    </tr>\n",
       "    <tr>\n",
       "      <th>7035</th>\n",
       "      <td>8456-QDAVC</td>\n",
       "      <td>2018-07-01</td>\n",
       "      <td>No</td>\n",
       "      <td>Month-to-month</td>\n",
       "      <td>Yes</td>\n",
       "      <td>Bank transfer (automatic)</td>\n",
       "      <td>78.70</td>\n",
       "      <td>1495.1</td>\n",
       "    </tr>\n",
       "    <tr>\n",
       "      <th>7036</th>\n",
       "      <td>7750-EYXWZ</td>\n",
       "      <td>2019-02-01</td>\n",
       "      <td>No</td>\n",
       "      <td>One year</td>\n",
       "      <td>No</td>\n",
       "      <td>Electronic check</td>\n",
       "      <td>60.65</td>\n",
       "      <td>743.3</td>\n",
       "    </tr>\n",
       "    <tr>\n",
       "      <th>7037</th>\n",
       "      <td>2569-WGERO</td>\n",
       "      <td>2014-02-01</td>\n",
       "      <td>No</td>\n",
       "      <td>Two year</td>\n",
       "      <td>Yes</td>\n",
       "      <td>Bank transfer (automatic)</td>\n",
       "      <td>21.15</td>\n",
       "      <td>1419.4</td>\n",
       "    </tr>\n",
       "    <tr>\n",
       "      <th>7038</th>\n",
       "      <td>6840-RESVB</td>\n",
       "      <td>2018-02-01</td>\n",
       "      <td>No</td>\n",
       "      <td>One year</td>\n",
       "      <td>Yes</td>\n",
       "      <td>Mailed check</td>\n",
       "      <td>84.80</td>\n",
       "      <td>1990.5</td>\n",
       "    </tr>\n",
       "    <tr>\n",
       "      <th>7039</th>\n",
       "      <td>2234-XADUH</td>\n",
       "      <td>2014-02-01</td>\n",
       "      <td>No</td>\n",
       "      <td>One year</td>\n",
       "      <td>Yes</td>\n",
       "      <td>Credit card (automatic)</td>\n",
       "      <td>103.20</td>\n",
       "      <td>7362.9</td>\n",
       "    </tr>\n",
       "    <tr>\n",
       "      <th>7040</th>\n",
       "      <td>4801-JZAZL</td>\n",
       "      <td>2019-03-01</td>\n",
       "      <td>No</td>\n",
       "      <td>Month-to-month</td>\n",
       "      <td>Yes</td>\n",
       "      <td>Electronic check</td>\n",
       "      <td>29.60</td>\n",
       "      <td>346.45</td>\n",
       "    </tr>\n",
       "    <tr>\n",
       "      <th>7041</th>\n",
       "      <td>8361-LTMKD</td>\n",
       "      <td>2019-07-01</td>\n",
       "      <td>2019-11-01 00:00:00</td>\n",
       "      <td>Month-to-month</td>\n",
       "      <td>Yes</td>\n",
       "      <td>Mailed check</td>\n",
       "      <td>74.40</td>\n",
       "      <td>306.6</td>\n",
       "    </tr>\n",
       "    <tr>\n",
       "      <th>7042</th>\n",
       "      <td>3186-AJIEK</td>\n",
       "      <td>2014-08-01</td>\n",
       "      <td>No</td>\n",
       "      <td>Two year</td>\n",
       "      <td>Yes</td>\n",
       "      <td>Bank transfer (automatic)</td>\n",
       "      <td>105.65</td>\n",
       "      <td>6844.5</td>\n",
       "    </tr>\n",
       "  </tbody>\n",
       "</table>\n",
       "</div>"
      ],
      "text/plain": [
       "      customerID   BeginDate              EndDate            Type  \\\n",
       "7033  9767-FFLEM  2016-12-01                   No  Month-to-month   \n",
       "7034  0639-TSIQW  2014-03-01  2019-10-01 00:00:00  Month-to-month   \n",
       "7035  8456-QDAVC  2018-07-01                   No  Month-to-month   \n",
       "7036  7750-EYXWZ  2019-02-01                   No        One year   \n",
       "7037  2569-WGERO  2014-02-01                   No        Two year   \n",
       "7038  6840-RESVB  2018-02-01                   No        One year   \n",
       "7039  2234-XADUH  2014-02-01                   No        One year   \n",
       "7040  4801-JZAZL  2019-03-01                   No  Month-to-month   \n",
       "7041  8361-LTMKD  2019-07-01  2019-11-01 00:00:00  Month-to-month   \n",
       "7042  3186-AJIEK  2014-08-01                   No        Two year   \n",
       "\n",
       "     PaperlessBilling              PaymentMethod  MonthlyCharges TotalCharges  \n",
       "7033              Yes    Credit card (automatic)           69.50      2625.25  \n",
       "7034              Yes    Credit card (automatic)          102.95      6886.25  \n",
       "7035              Yes  Bank transfer (automatic)           78.70       1495.1  \n",
       "7036               No           Electronic check           60.65        743.3  \n",
       "7037              Yes  Bank transfer (automatic)           21.15       1419.4  \n",
       "7038              Yes               Mailed check           84.80       1990.5  \n",
       "7039              Yes    Credit card (automatic)          103.20       7362.9  \n",
       "7040              Yes           Electronic check           29.60       346.45  \n",
       "7041              Yes               Mailed check           74.40        306.6  \n",
       "7042              Yes  Bank transfer (automatic)          105.65       6844.5  "
      ]
     },
     "metadata": {},
     "output_type": "display_data"
    },
    {
     "name": "stdout",
     "output_type": "stream",
     "text": [
      "Информация\n",
      "\n",
      "<class 'pandas.core.frame.DataFrame'>\n",
      "RangeIndex: 7043 entries, 0 to 7042\n",
      "Data columns (total 8 columns):\n",
      " #   Column            Non-Null Count  Dtype  \n",
      "---  ------            --------------  -----  \n",
      " 0   customerID        7043 non-null   object \n",
      " 1   BeginDate         7043 non-null   object \n",
      " 2   EndDate           7043 non-null   object \n",
      " 3   Type              7043 non-null   object \n",
      " 4   PaperlessBilling  7043 non-null   object \n",
      " 5   PaymentMethod     7043 non-null   object \n",
      " 6   MonthlyCharges    7043 non-null   float64\n",
      " 7   TotalCharges      7043 non-null   object \n",
      "dtypes: float64(1), object(7)\n",
      "memory usage: 440.3+ KB\n",
      "None\n"
     ]
    }
   ],
   "source": [
    "info(contract, 'CONTRACT, информация о договоре')"
   ]
  },
  {
   "cell_type": "code",
   "execution_count": 14,
   "metadata": {
    "colab": {
     "base_uri": "https://localhost:8080/"
    },
    "id": "DtILsnctdUvP",
    "outputId": "88921c4a-a319-4f6b-a770-87138bae2b1c"
   },
   "outputs": [
    {
     "data": {
      "text/plain": [
       "0"
      ]
     },
     "execution_count": 14,
     "metadata": {},
     "output_type": "execute_result"
    }
   ],
   "source": [
    "contract.duplicated().sum()"
   ]
  },
  {
   "cell_type": "markdown",
   "metadata": {
    "id": "7xoE0_HfdUvQ"
   },
   "source": [
    "Пропусков и дубликатов нет, рассмотрим таблицу подробнее:\n",
    "- `customerID`-идентификатор пользователя;\n",
    "\n",
    "- `BeginDate`-дата подключения клиента, тип данных _object_, необходимо будет изменить на _datetime_;\n",
    "\n",
    "- `EndDate`- дата ухода пользователя. Столбец хранит дату прекращения договора, либо значение \"No\", если клиент все еще пользуется услугами оператора на 1 февраля 2020.\n",
    "\n",
    "- `Type`- тип оплаты (помесячная, годовая, двухгодовая);\n",
    "\n",
    "- `PaperlessBilling`- онлайн-чеки;\n",
    "\n",
    "- `PaymentMethod`- метод оплаты;\n",
    "\n",
    "- `MonthlyCharges`- ежемесячная плата;\n",
    "\n",
    "- `TotalCharges`- общая сумма, потраченная клиентом, тип данных _object_, необходимо рассмотреть поближе и поменять на численный.\n",
    "\n"
   ]
  },
  {
   "cell_type": "code",
   "execution_count": 15,
   "metadata": {
    "colab": {
     "base_uri": "https://localhost:8080/"
    },
    "id": "a2hhQhC9dUvQ",
    "outputId": "c90df46a-9f33-4f9c-fb99-004d715d0be3"
   },
   "outputs": [
    {
     "name": "stdout",
     "output_type": "stream",
     "text": [
      "Количество уникальных пользователей:  7043\n"
     ]
    }
   ],
   "source": [
    "print('Количество уникальных пользователей: ', len(contract['customerID'].unique()))"
   ]
  },
  {
   "cell_type": "code",
   "execution_count": 16,
   "metadata": {
    "id": "QkxwcJXIdUvR"
   },
   "outputs": [],
   "source": [
    "contract['BeginDate'] = pd.to_datetime(contract['BeginDate'], format='%Y-%m-%d')"
   ]
  },
  {
   "cell_type": "code",
   "execution_count": 17,
   "metadata": {
    "colab": {
     "base_uri": "https://localhost:8080/",
     "height": 412
    },
    "id": "p_9oAKGTdUvR",
    "outputId": "cbb8bed0-b0cb-44fc-acf4-87ad5e68c18a"
   },
   "outputs": [
    {
     "data": {
      "text/html": [
       "<div>\n",
       "<style scoped>\n",
       "    .dataframe tbody tr th:only-of-type {\n",
       "        vertical-align: middle;\n",
       "    }\n",
       "\n",
       "    .dataframe tbody tr th {\n",
       "        vertical-align: top;\n",
       "    }\n",
       "\n",
       "    .dataframe thead th {\n",
       "        text-align: right;\n",
       "    }\n",
       "</style>\n",
       "<table border=\"1\" class=\"dataframe\">\n",
       "  <thead>\n",
       "    <tr style=\"text-align: right;\">\n",
       "      <th></th>\n",
       "      <th>customerID</th>\n",
       "      <th>BeginDate</th>\n",
       "      <th>EndDate</th>\n",
       "      <th>Type</th>\n",
       "      <th>PaperlessBilling</th>\n",
       "      <th>PaymentMethod</th>\n",
       "      <th>MonthlyCharges</th>\n",
       "      <th>TotalCharges</th>\n",
       "    </tr>\n",
       "  </thead>\n",
       "  <tbody>\n",
       "    <tr>\n",
       "      <th>488</th>\n",
       "      <td>4472-LVYGI</td>\n",
       "      <td>2020-02-01</td>\n",
       "      <td>No</td>\n",
       "      <td>Two year</td>\n",
       "      <td>Yes</td>\n",
       "      <td>Bank transfer (automatic)</td>\n",
       "      <td>52.55</td>\n",
       "      <td></td>\n",
       "    </tr>\n",
       "    <tr>\n",
       "      <th>753</th>\n",
       "      <td>3115-CZMZD</td>\n",
       "      <td>2020-02-01</td>\n",
       "      <td>No</td>\n",
       "      <td>Two year</td>\n",
       "      <td>No</td>\n",
       "      <td>Mailed check</td>\n",
       "      <td>20.25</td>\n",
       "      <td></td>\n",
       "    </tr>\n",
       "    <tr>\n",
       "      <th>936</th>\n",
       "      <td>5709-LVOEQ</td>\n",
       "      <td>2020-02-01</td>\n",
       "      <td>No</td>\n",
       "      <td>Two year</td>\n",
       "      <td>No</td>\n",
       "      <td>Mailed check</td>\n",
       "      <td>80.85</td>\n",
       "      <td></td>\n",
       "    </tr>\n",
       "    <tr>\n",
       "      <th>1082</th>\n",
       "      <td>4367-NUYAO</td>\n",
       "      <td>2020-02-01</td>\n",
       "      <td>No</td>\n",
       "      <td>Two year</td>\n",
       "      <td>No</td>\n",
       "      <td>Mailed check</td>\n",
       "      <td>25.75</td>\n",
       "      <td></td>\n",
       "    </tr>\n",
       "    <tr>\n",
       "      <th>1340</th>\n",
       "      <td>1371-DWPAZ</td>\n",
       "      <td>2020-02-01</td>\n",
       "      <td>No</td>\n",
       "      <td>Two year</td>\n",
       "      <td>No</td>\n",
       "      <td>Credit card (automatic)</td>\n",
       "      <td>56.05</td>\n",
       "      <td></td>\n",
       "    </tr>\n",
       "    <tr>\n",
       "      <th>3331</th>\n",
       "      <td>7644-OMVMY</td>\n",
       "      <td>2020-02-01</td>\n",
       "      <td>No</td>\n",
       "      <td>Two year</td>\n",
       "      <td>No</td>\n",
       "      <td>Mailed check</td>\n",
       "      <td>19.85</td>\n",
       "      <td></td>\n",
       "    </tr>\n",
       "    <tr>\n",
       "      <th>3826</th>\n",
       "      <td>3213-VVOLG</td>\n",
       "      <td>2020-02-01</td>\n",
       "      <td>No</td>\n",
       "      <td>Two year</td>\n",
       "      <td>No</td>\n",
       "      <td>Mailed check</td>\n",
       "      <td>25.35</td>\n",
       "      <td></td>\n",
       "    </tr>\n",
       "    <tr>\n",
       "      <th>4380</th>\n",
       "      <td>2520-SGTTA</td>\n",
       "      <td>2020-02-01</td>\n",
       "      <td>No</td>\n",
       "      <td>Two year</td>\n",
       "      <td>No</td>\n",
       "      <td>Mailed check</td>\n",
       "      <td>20.00</td>\n",
       "      <td></td>\n",
       "    </tr>\n",
       "    <tr>\n",
       "      <th>5218</th>\n",
       "      <td>2923-ARZLG</td>\n",
       "      <td>2020-02-01</td>\n",
       "      <td>No</td>\n",
       "      <td>One year</td>\n",
       "      <td>Yes</td>\n",
       "      <td>Mailed check</td>\n",
       "      <td>19.70</td>\n",
       "      <td></td>\n",
       "    </tr>\n",
       "    <tr>\n",
       "      <th>6670</th>\n",
       "      <td>4075-WKNIU</td>\n",
       "      <td>2020-02-01</td>\n",
       "      <td>No</td>\n",
       "      <td>Two year</td>\n",
       "      <td>No</td>\n",
       "      <td>Mailed check</td>\n",
       "      <td>73.35</td>\n",
       "      <td></td>\n",
       "    </tr>\n",
       "    <tr>\n",
       "      <th>6754</th>\n",
       "      <td>2775-SEFEE</td>\n",
       "      <td>2020-02-01</td>\n",
       "      <td>No</td>\n",
       "      <td>Two year</td>\n",
       "      <td>Yes</td>\n",
       "      <td>Bank transfer (automatic)</td>\n",
       "      <td>61.90</td>\n",
       "      <td></td>\n",
       "    </tr>\n",
       "  </tbody>\n",
       "</table>\n",
       "</div>"
      ],
      "text/plain": [
       "      customerID  BeginDate EndDate      Type PaperlessBilling  \\\n",
       "488   4472-LVYGI 2020-02-01      No  Two year              Yes   \n",
       "753   3115-CZMZD 2020-02-01      No  Two year               No   \n",
       "936   5709-LVOEQ 2020-02-01      No  Two year               No   \n",
       "1082  4367-NUYAO 2020-02-01      No  Two year               No   \n",
       "1340  1371-DWPAZ 2020-02-01      No  Two year               No   \n",
       "3331  7644-OMVMY 2020-02-01      No  Two year               No   \n",
       "3826  3213-VVOLG 2020-02-01      No  Two year               No   \n",
       "4380  2520-SGTTA 2020-02-01      No  Two year               No   \n",
       "5218  2923-ARZLG 2020-02-01      No  One year              Yes   \n",
       "6670  4075-WKNIU 2020-02-01      No  Two year               No   \n",
       "6754  2775-SEFEE 2020-02-01      No  Two year              Yes   \n",
       "\n",
       "                  PaymentMethod  MonthlyCharges TotalCharges  \n",
       "488   Bank transfer (automatic)           52.55               \n",
       "753                Mailed check           20.25               \n",
       "936                Mailed check           80.85               \n",
       "1082               Mailed check           25.75               \n",
       "1340    Credit card (automatic)           56.05               \n",
       "3331               Mailed check           19.85               \n",
       "3826               Mailed check           25.35               \n",
       "4380               Mailed check           20.00               \n",
       "5218               Mailed check           19.70               \n",
       "6670               Mailed check           73.35               \n",
       "6754  Bank transfer (automatic)           61.90               "
      ]
     },
     "metadata": {},
     "output_type": "display_data"
    },
    {
     "data": {
      "text/plain": [
       "11"
      ]
     },
     "metadata": {},
     "output_type": "display_data"
    }
   ],
   "source": [
    "nans=contract.query('TotalCharges == \" \"')\n",
    "display(nans)\n",
    "display(len(nans))"
   ]
  },
  {
   "cell_type": "markdown",
   "metadata": {
    "id": "7HKgHDWQdUvR"
   },
   "source": [
    "Колонка `TotalCharges` имеет тип данных _object_ из-за пробелов не получится изменить тип. Пропущенных значений всего 11, поэтому можем их удалить."
   ]
  },
  {
   "cell_type": "code",
   "execution_count": 18,
   "metadata": {
    "id": "kG3ARy3sdUvS"
   },
   "outputs": [],
   "source": [
    "contract=contract.query('TotalCharges != \" \"')"
   ]
  },
  {
   "cell_type": "code",
   "execution_count": 19,
   "metadata": {
    "colab": {
     "base_uri": "https://localhost:8080/"
    },
    "id": "F4kTndr7dUvS",
    "outputId": "82e7fb13-18af-4552-82c4-42ae2e4ed2d0"
   },
   "outputs": [
    {
     "name": "stdout",
     "output_type": "stream",
     "text": [
      "<class 'pandas.core.frame.DataFrame'>\n",
      "Int64Index: 7032 entries, 0 to 7042\n",
      "Data columns (total 8 columns):\n",
      " #   Column            Non-Null Count  Dtype         \n",
      "---  ------            --------------  -----         \n",
      " 0   customerID        7032 non-null   object        \n",
      " 1   BeginDate         7032 non-null   datetime64[ns]\n",
      " 2   EndDate           7032 non-null   object        \n",
      " 3   Type              7032 non-null   object        \n",
      " 4   PaperlessBilling  7032 non-null   object        \n",
      " 5   PaymentMethod     7032 non-null   object        \n",
      " 6   MonthlyCharges    7032 non-null   float64       \n",
      " 7   TotalCharges      7032 non-null   float64       \n",
      "dtypes: datetime64[ns](1), float64(2), object(5)\n",
      "memory usage: 494.4+ KB\n"
     ]
    }
   ],
   "source": [
    "contract['TotalCharges'] = contract['TotalCharges'].astype('float64')\n",
    "contract.info()"
   ]
  },
  {
   "cell_type": "code",
   "execution_count": 20,
   "metadata": {
    "colab": {
     "base_uri": "https://localhost:8080/"
    },
    "id": "Y0_rzsJmdUvS",
    "outputId": "716615ad-7723-45dc-e590-f5507f57de40"
   },
   "outputs": [
    {
     "data": {
      "text/plain": [
       "array(['Yes', 'No'], dtype=object)"
      ]
     },
     "execution_count": 20,
     "metadata": {},
     "output_type": "execute_result"
    }
   ],
   "source": [
    "contract['PaperlessBilling'].unique()"
   ]
  },
  {
   "cell_type": "markdown",
   "metadata": {
    "id": "dGZ9be0gdUvS"
   },
   "source": [
    "Признак `PaperlessBilling` бинарный, можно его закодировать, присвоив значениям Yes и No 1 и 0 соответственно."
   ]
  },
  {
   "cell_type": "code",
   "execution_count": 21,
   "metadata": {
    "id": "Lni8aB73dUvT"
   },
   "outputs": [],
   "source": [
    "contract['PaperlessBilling']=contract['PaperlessBilling'].replace('No', 0)\n",
    "contract['PaperlessBilling']=contract['PaperlessBilling'].replace('Yes', 1)"
   ]
  },
  {
   "cell_type": "code",
   "execution_count": 22,
   "metadata": {
    "colab": {
     "base_uri": "https://localhost:8080/"
    },
    "id": "REFS4prWdUvT",
    "outputId": "d7a59c67-b93a-40b2-dcba-4a1c8a15ab1f"
   },
   "outputs": [
    {
     "data": {
      "text/plain": [
       "array([1, 0])"
      ]
     },
     "execution_count": 22,
     "metadata": {},
     "output_type": "execute_result"
    }
   ],
   "source": [
    "contract['PaperlessBilling'].unique()"
   ]
  },
  {
   "cell_type": "markdown",
   "metadata": {
    "id": "d5TuXdvSdUvT"
   },
   "source": [
    "Из столбца `EndDate` можем извлечь таргет, преобразовав его. В новой колонке `churn` 0 будет соответствовать оставшемуся клиенту, а 1 - ушедшему. Признак `EndDate` пока что удалять не будем, он пригодится в анализе."
   ]
  },
  {
   "cell_type": "code",
   "execution_count": 23,
   "metadata": {
    "id": "qKzHQpWSdUvT"
   },
   "outputs": [],
   "source": [
    "contract['churn'] = pd.Series(np.where(contract['EndDate'].values == 'No', 0, 1), contract.index)"
   ]
  },
  {
   "cell_type": "code",
   "execution_count": 24,
   "metadata": {
    "colab": {
     "base_uri": "https://localhost:8080/",
     "height": 1000
    },
    "id": "EEgxe42MdUvT",
    "outputId": "af6a9b72-7d21-4b07-95fc-7c0527865c51"
   },
   "outputs": [
    {
     "name": "stdout",
     "output_type": "stream",
     "text": [
      "Диаграмма распределения Type\n"
     ]
    },
    {
     "data": {
      "image/png": "[encoded data removed]",
      "text/plain": [
       "<Figure size 432x288 with 1 Axes>"
      ]
     },
     "metadata": {
      "needs_background": "light"
     },
     "output_type": "display_data"
    },
    {
     "name": "stdout",
     "output_type": "stream",
     "text": [
      "Диаграмма распределения PaperlessBilling\n"
     ]
    },
    {
     "data": {
      "image/png": "[encoded data removed]",
      "text/plain": [
       "<Figure size 432x288 with 1 Axes>"
      ]
     },
     "metadata": {
      "needs_background": "light"
     },
     "output_type": "display_data"
    },
    {
     "name": "stdout",
     "output_type": "stream",
     "text": [
      "Диаграмма распределения PaymentMethod\n"
     ]
    },
    {
     "data": {
      "image/png": "[encoded data removed]",
      "text/plain": [
       "<Figure size 432x288 with 1 Axes>"
      ]
     },
     "metadata": {
      "needs_background": "light"
     },
     "output_type": "display_data"
    },
    {
     "name": "stdout",
     "output_type": "stream",
     "text": [
      "Диаграмма распределения churn\n"
     ]
    },
    {
     "data": {
      "image/png": "[encoded data removed]",
      "text/plain": [
       "<Figure size 432x288 with 1 Axes>"
      ]
     },
     "metadata": {
      "needs_background": "light"
     },
     "output_type": "display_data"
    }
   ],
   "source": [
    "col_list=['Type', 'PaperlessBilling', 'PaymentMethod', 'churn']\n",
    "for col in col_list:\n",
    "    print(f'Диаграмма распределения {col}')\n",
    "    contract[col].hist()\n",
    "    plt.xticks(rotation = 20)\n",
    "    plt.show()\n",
    "    "
   ]
  },
  {
   "cell_type": "code",
   "execution_count": 25,
   "metadata": {
    "colab": {
     "base_uri": "https://localhost:8080/",
     "height": 374
    },
    "id": "I3wKghVddUvU",
    "outputId": "5d94080d-8e74-4813-f8e3-de0b5d1d11e6"
   },
   "outputs": [
    {
     "name": "stdout",
     "output_type": "stream",
     "text": [
      "Статистика для признака ежемесячной оплаты:\n"
     ]
    },
    {
     "data": {
      "text/plain": [
       "count    7032.000000\n",
       "mean       64.798208\n",
       "std        30.085974\n",
       "min        18.250000\n",
       "25%        35.587500\n",
       "50%        70.350000\n",
       "75%        89.862500\n",
       "max       118.750000\n",
       "Name: MonthlyCharges, dtype: float64"
      ]
     },
     "metadata": {},
     "output_type": "display_data"
    },
    {
     "name": "stdout",
     "output_type": "stream",
     "text": [
      "Статистика для признака суммы выплат:\n"
     ]
    },
    {
     "data": {
      "text/plain": [
       "count    7032.000000\n",
       "mean     2283.300441\n",
       "std      2266.771362\n",
       "min        18.800000\n",
       "25%       401.450000\n",
       "50%      1397.475000\n",
       "75%      3794.737500\n",
       "max      8684.800000\n",
       "Name: TotalCharges, dtype: float64"
      ]
     },
     "metadata": {},
     "output_type": "display_data"
    }
   ],
   "source": [
    "print('Статистика для признака ежемесячной оплаты:')\n",
    "display(contract.MonthlyCharges.describe())\n",
    "print('Статистика для признака суммы выплат:')\n",
    "display(contract.TotalCharges.describe())"
   ]
  },
  {
   "cell_type": "code",
   "execution_count": 26,
   "metadata": {
    "colab": {
     "base_uri": "https://localhost:8080/",
     "height": 352
    },
    "id": "44kyZ57rdUvU",
    "outputId": "68178628-3161-43d1-8fae-b971765e51c0"
   },
   "outputs": [
    {
     "data": {
      "text/plain": [
       "(10.0, 125.0)"
      ]
     },
     "execution_count": 26,
     "metadata": {},
     "output_type": "execute_result"
    },
    {
     "data": {
      "image/png": "[encoded data removed]",
      "text/plain": [
       "<Figure size 720x360 with 1 Axes>"
      ]
     },
     "metadata": {
      "needs_background": "light"
     },
     "output_type": "display_data"
    }
   ],
   "source": [
    "plt.figure(figsize=(10,5))\n",
    "ax = sns.boxplot(x=contract['MonthlyCharges'])\n",
    "plt.xlim(10, 125)\n"
   ]
  },
  {
   "cell_type": "code",
   "execution_count": 27,
   "metadata": {
    "colab": {
     "base_uri": "https://localhost:8080/",
     "height": 352
    },
    "id": "9s2-IqnXdUvU",
    "outputId": "5c481437-64a9-4a7f-d382-e6c836ff5368"
   },
   "outputs": [
    {
     "data": {
      "text/plain": [
       "(-1000.0, 10000.0)"
      ]
     },
     "execution_count": 27,
     "metadata": {},
     "output_type": "execute_result"
    },
    {
     "data": {
      "image/png": "[encoded data removed]",
      "text/plain": [
       "<Figure size 720x360 with 1 Axes>"
      ]
     },
     "metadata": {
      "needs_background": "light"
     },
     "output_type": "display_data"
    }
   ],
   "source": [
    "plt.figure(figsize=(10,5))\n",
    "ax = sns.boxplot(x=contract['TotalCharges'])\n",
    "plt.xlim(-1000, 10000)"
   ]
  },
  {
   "cell_type": "markdown",
   "metadata": {
    "id": "sSHoq3EzdUvU"
   },
   "source": [
    "В обоих количественных признаках нет аномалий или выбросов, но распределение смещено влево: это логично, учитывая что помесячная оплата является самой популярной формой как для старых, так и для новых клиентов. А для целевого признака наблюдается существенный дисбаланс классов."
   ]
  },
  {
   "cell_type": "code",
   "execution_count": 28,
   "metadata": {
    "colab": {
     "base_uri": "https://localhost:8080/"
    },
    "id": "O_B501HvdUvV",
    "outputId": "6075cf22-ee72-4d23-b842-c46e8ff10fe7",
    "scrolled": true
   },
   "outputs": [
    {
     "name": "stdout",
     "output_type": "stream",
     "text": [
      "<class 'pandas.core.frame.DataFrame'>\n",
      "Int64Index: 7032 entries, 0 to 7042\n",
      "Data columns (total 9 columns):\n",
      " #   Column            Non-Null Count  Dtype         \n",
      "---  ------            --------------  -----         \n",
      " 0   customerID        7032 non-null   object        \n",
      " 1   BeginDate         7032 non-null   datetime64[ns]\n",
      " 2   EndDate           7032 non-null   object        \n",
      " 3   Type              7032 non-null   object        \n",
      " 4   PaperlessBilling  7032 non-null   int64         \n",
      " 5   PaymentMethod     7032 non-null   object        \n",
      " 6   MonthlyCharges    7032 non-null   float64       \n",
      " 7   TotalCharges      7032 non-null   float64       \n",
      " 8   churn             7032 non-null   int64         \n",
      "dtypes: datetime64[ns](1), float64(2), int64(2), object(4)\n",
      "memory usage: 549.4+ KB\n"
     ]
    }
   ],
   "source": [
    "contract.info()"
   ]
  },
  {
   "cell_type": "code",
   "execution_count": 29,
   "metadata": {
    "colab": {
     "base_uri": "https://localhost:8080/",
     "height": 381
    },
    "id": "XtHuIX9_dUvV",
    "outputId": "5df8cc38-2766-4325-8218-89b9cd76091f",
    "scrolled": false
   },
   "outputs": [
    {
     "data": {
      "image/png": "[encoded data removed]",
      "text/plain": [
       "<Figure size 800x400 with 1 Axes>"
      ]
     },
     "metadata": {
      "needs_background": "light"
     },
     "output_type": "display_data"
    }
   ],
   "source": [
    "quits = contract.query('churn == 1')\n",
    "\n",
    "plt.figure(figsize=(10,5), dpi= 80)\n",
    "sns.distplot(quits['MonthlyCharges'], color='r', label='Ушедшие')\n",
    "sns.distplot(contract['MonthlyCharges'], color='g', label='Все')\n",
    "\n",
    "plt.title('Сравнение ежемесячных платежей ушедших и всех клиентов', fontsize=10)\n",
    "plt.legend()\n",
    "plt.xlabel('Сумма')\n",
    "plt.show()"
   ]
  },
  {
   "cell_type": "code",
   "execution_count": 30,
   "metadata": {
    "colab": {
     "base_uri": "https://localhost:8080/",
     "height": 381
    },
    "id": "-Z6uc7QTdUvY",
    "outputId": "dacdaa14-acac-4a73-d39e-a399dbc3496a"
   },
   "outputs": [
    {
     "data": {
      "image/png": "[encoded data removed]",
      "text/plain": [
       "<Figure size 800x400 with 1 Axes>"
      ]
     },
     "metadata": {
      "needs_background": "light"
     },
     "output_type": "display_data"
    }
   ],
   "source": [
    "plt.figure(figsize=(10,5), dpi= 80)\n",
    "sns.distplot(quits['TotalCharges'], color='r', label='Ушедшие')\n",
    "sns.distplot(contract['TotalCharges'], color='g', label='Все')\n",
    "\n",
    "plt.title('Сравнение суммы платежей ушедших и всех клиентов', fontsize=10)\n",
    "plt.legend()\n",
    "plt.xlabel('Сумма')\n",
    "plt.show()"
   ]
  },
  {
   "cell_type": "markdown",
   "metadata": {
    "id": "ljTfcyEWdUvY"
   },
   "source": [
    "В среднем быстро уходящие клиенты платили в месяц бОльшие суммы, но в итоге, логично, отдали компании меньше денег."
   ]
  },
  {
   "cell_type": "markdown",
   "metadata": {
    "id": "vgtwgQw-dUvY"
   },
   "source": [
    "**2) INTERNET**"
   ]
  },
  {
   "cell_type": "code",
   "execution_count": 31,
   "metadata": {
    "colab": {
     "base_uri": "https://localhost:8080/",
     "height": 1000
    },
    "id": "-iJ2o9y0dUvY",
    "outputId": "d2dbb75f-1817-4a3c-ab9d-ff8679738e54"
   },
   "outputs": [
    {
     "name": "stdout",
     "output_type": "stream",
     "text": [
      "\u001b[1mТаблица INTERNET, информация об интернет-услугах\u001b[0m\n",
      "\n",
      "Первые 10 строк таблицы:\n"
     ]
    },
    {
     "data": {
      "text/html": [
       "<div>\n",
       "<style scoped>\n",
       "    .dataframe tbody tr th:only-of-type {\n",
       "        vertical-align: middle;\n",
       "    }\n",
       "\n",
       "    .dataframe tbody tr th {\n",
       "        vertical-align: top;\n",
       "    }\n",
       "\n",
       "    .dataframe thead th {\n",
       "        text-align: right;\n",
       "    }\n",
       "</style>\n",
       "<table border=\"1\" class=\"dataframe\">\n",
       "  <thead>\n",
       "    <tr style=\"text-align: right;\">\n",
       "      <th></th>\n",
       "      <th>customerID</th>\n",
       "      <th>InternetService</th>\n",
       "      <th>OnlineSecurity</th>\n",
       "      <th>OnlineBackup</th>\n",
       "      <th>DeviceProtection</th>\n",
       "      <th>TechSupport</th>\n",
       "      <th>StreamingTV</th>\n",
       "      <th>StreamingMovies</th>\n",
       "    </tr>\n",
       "  </thead>\n",
       "  <tbody>\n",
       "    <tr>\n",
       "      <th>0</th>\n",
       "      <td>7590-VHVEG</td>\n",
       "      <td>DSL</td>\n",
       "      <td>No</td>\n",
       "      <td>Yes</td>\n",
       "      <td>No</td>\n",
       "      <td>No</td>\n",
       "      <td>No</td>\n",
       "      <td>No</td>\n",
       "    </tr>\n",
       "    <tr>\n",
       "      <th>1</th>\n",
       "      <td>5575-GNVDE</td>\n",
       "      <td>DSL</td>\n",
       "      <td>Yes</td>\n",
       "      <td>No</td>\n",
       "      <td>Yes</td>\n",
       "      <td>No</td>\n",
       "      <td>No</td>\n",
       "      <td>No</td>\n",
       "    </tr>\n",
       "    <tr>\n",
       "      <th>2</th>\n",
       "      <td>3668-QPYBK</td>\n",
       "      <td>DSL</td>\n",
       "      <td>Yes</td>\n",
       "      <td>Yes</td>\n",
       "      <td>No</td>\n",
       "      <td>No</td>\n",
       "      <td>No</td>\n",
       "      <td>No</td>\n",
       "    </tr>\n",
       "    <tr>\n",
       "      <th>3</th>\n",
       "      <td>7795-CFOCW</td>\n",
       "      <td>DSL</td>\n",
       "      <td>Yes</td>\n",
       "      <td>No</td>\n",
       "      <td>Yes</td>\n",
       "      <td>Yes</td>\n",
       "      <td>No</td>\n",
       "      <td>No</td>\n",
       "    </tr>\n",
       "    <tr>\n",
       "      <th>4</th>\n",
       "      <td>9237-HQITU</td>\n",
       "      <td>Fiber optic</td>\n",
       "      <td>No</td>\n",
       "      <td>No</td>\n",
       "      <td>No</td>\n",
       "      <td>No</td>\n",
       "      <td>No</td>\n",
       "      <td>No</td>\n",
       "    </tr>\n",
       "    <tr>\n",
       "      <th>5</th>\n",
       "      <td>9305-CDSKC</td>\n",
       "      <td>Fiber optic</td>\n",
       "      <td>No</td>\n",
       "      <td>No</td>\n",
       "      <td>Yes</td>\n",
       "      <td>No</td>\n",
       "      <td>Yes</td>\n",
       "      <td>Yes</td>\n",
       "    </tr>\n",
       "    <tr>\n",
       "      <th>6</th>\n",
       "      <td>1452-KIOVK</td>\n",
       "      <td>Fiber optic</td>\n",
       "      <td>No</td>\n",
       "      <td>Yes</td>\n",
       "      <td>No</td>\n",
       "      <td>No</td>\n",
       "      <td>Yes</td>\n",
       "      <td>No</td>\n",
       "    </tr>\n",
       "    <tr>\n",
       "      <th>7</th>\n",
       "      <td>6713-OKOMC</td>\n",
       "      <td>DSL</td>\n",
       "      <td>Yes</td>\n",
       "      <td>No</td>\n",
       "      <td>No</td>\n",
       "      <td>No</td>\n",
       "      <td>No</td>\n",
       "      <td>No</td>\n",
       "    </tr>\n",
       "    <tr>\n",
       "      <th>8</th>\n",
       "      <td>7892-POOKP</td>\n",
       "      <td>Fiber optic</td>\n",
       "      <td>No</td>\n",
       "      <td>No</td>\n",
       "      <td>Yes</td>\n",
       "      <td>Yes</td>\n",
       "      <td>Yes</td>\n",
       "      <td>Yes</td>\n",
       "    </tr>\n",
       "    <tr>\n",
       "      <th>9</th>\n",
       "      <td>6388-TABGU</td>\n",
       "      <td>DSL</td>\n",
       "      <td>Yes</td>\n",
       "      <td>Yes</td>\n",
       "      <td>No</td>\n",
       "      <td>No</td>\n",
       "      <td>No</td>\n",
       "      <td>No</td>\n",
       "    </tr>\n",
       "  </tbody>\n",
       "</table>\n",
       "</div>"
      ],
      "text/plain": [
       "   customerID InternetService OnlineSecurity OnlineBackup DeviceProtection  \\\n",
       "0  7590-VHVEG             DSL             No          Yes               No   \n",
       "1  5575-GNVDE             DSL            Yes           No              Yes   \n",
       "2  3668-QPYBK             DSL            Yes          Yes               No   \n",
       "3  7795-CFOCW             DSL            Yes           No              Yes   \n",
       "4  9237-HQITU     Fiber optic             No           No               No   \n",
       "5  9305-CDSKC     Fiber optic             No           No              Yes   \n",
       "6  1452-KIOVK     Fiber optic             No          Yes               No   \n",
       "7  6713-OKOMC             DSL            Yes           No               No   \n",
       "8  7892-POOKP     Fiber optic             No           No              Yes   \n",
       "9  6388-TABGU             DSL            Yes          Yes               No   \n",
       "\n",
       "  TechSupport StreamingTV StreamingMovies  \n",
       "0          No          No              No  \n",
       "1          No          No              No  \n",
       "2          No          No              No  \n",
       "3         Yes          No              No  \n",
       "4          No          No              No  \n",
       "5          No         Yes             Yes  \n",
       "6          No         Yes              No  \n",
       "7          No          No              No  \n",
       "8         Yes         Yes             Yes  \n",
       "9          No          No              No  "
      ]
     },
     "metadata": {},
     "output_type": "display_data"
    },
    {
     "name": "stdout",
     "output_type": "stream",
     "text": [
      "Рандомные 10 строк таблицы:\n"
     ]
    },
    {
     "data": {
      "text/html": [
       "<div>\n",
       "<style scoped>\n",
       "    .dataframe tbody tr th:only-of-type {\n",
       "        vertical-align: middle;\n",
       "    }\n",
       "\n",
       "    .dataframe tbody tr th {\n",
       "        vertical-align: top;\n",
       "    }\n",
       "\n",
       "    .dataframe thead th {\n",
       "        text-align: right;\n",
       "    }\n",
       "</style>\n",
       "<table border=\"1\" class=\"dataframe\">\n",
       "  <thead>\n",
       "    <tr style=\"text-align: right;\">\n",
       "      <th></th>\n",
       "      <th>customerID</th>\n",
       "      <th>InternetService</th>\n",
       "      <th>OnlineSecurity</th>\n",
       "      <th>OnlineBackup</th>\n",
       "      <th>DeviceProtection</th>\n",
       "      <th>TechSupport</th>\n",
       "      <th>StreamingTV</th>\n",
       "      <th>StreamingMovies</th>\n",
       "    </tr>\n",
       "  </thead>\n",
       "  <tbody>\n",
       "    <tr>\n",
       "      <th>2708</th>\n",
       "      <td>9576-SYUHJ</td>\n",
       "      <td>Fiber optic</td>\n",
       "      <td>Yes</td>\n",
       "      <td>No</td>\n",
       "      <td>No</td>\n",
       "      <td>No</td>\n",
       "      <td>Yes</td>\n",
       "      <td>No</td>\n",
       "    </tr>\n",
       "    <tr>\n",
       "      <th>4167</th>\n",
       "      <td>0334-ZFJSR</td>\n",
       "      <td>DSL</td>\n",
       "      <td>Yes</td>\n",
       "      <td>Yes</td>\n",
       "      <td>No</td>\n",
       "      <td>Yes</td>\n",
       "      <td>No</td>\n",
       "      <td>No</td>\n",
       "    </tr>\n",
       "    <tr>\n",
       "      <th>1038</th>\n",
       "      <td>5989-OMNJE</td>\n",
       "      <td>DSL</td>\n",
       "      <td>Yes</td>\n",
       "      <td>Yes</td>\n",
       "      <td>Yes</td>\n",
       "      <td>No</td>\n",
       "      <td>Yes</td>\n",
       "      <td>Yes</td>\n",
       "    </tr>\n",
       "    <tr>\n",
       "      <th>2975</th>\n",
       "      <td>7973-DZRKH</td>\n",
       "      <td>Fiber optic</td>\n",
       "      <td>Yes</td>\n",
       "      <td>No</td>\n",
       "      <td>Yes</td>\n",
       "      <td>Yes</td>\n",
       "      <td>No</td>\n",
       "      <td>No</td>\n",
       "    </tr>\n",
       "    <tr>\n",
       "      <th>4009</th>\n",
       "      <td>8010-EZLOU</td>\n",
       "      <td>Fiber optic</td>\n",
       "      <td>No</td>\n",
       "      <td>Yes</td>\n",
       "      <td>No</td>\n",
       "      <td>No</td>\n",
       "      <td>No</td>\n",
       "      <td>No</td>\n",
       "    </tr>\n",
       "    <tr>\n",
       "      <th>1907</th>\n",
       "      <td>7021-XSNYE</td>\n",
       "      <td>DSL</td>\n",
       "      <td>Yes</td>\n",
       "      <td>No</td>\n",
       "      <td>Yes</td>\n",
       "      <td>Yes</td>\n",
       "      <td>No</td>\n",
       "      <td>Yes</td>\n",
       "    </tr>\n",
       "    <tr>\n",
       "      <th>4994</th>\n",
       "      <td>3259-FDWOY</td>\n",
       "      <td>Fiber optic</td>\n",
       "      <td>No</td>\n",
       "      <td>Yes</td>\n",
       "      <td>Yes</td>\n",
       "      <td>No</td>\n",
       "      <td>Yes</td>\n",
       "      <td>Yes</td>\n",
       "    </tr>\n",
       "    <tr>\n",
       "      <th>116</th>\n",
       "      <td>2636-SJDOU</td>\n",
       "      <td>Fiber optic</td>\n",
       "      <td>Yes</td>\n",
       "      <td>Yes</td>\n",
       "      <td>No</td>\n",
       "      <td>No</td>\n",
       "      <td>No</td>\n",
       "      <td>No</td>\n",
       "    </tr>\n",
       "    <tr>\n",
       "      <th>4571</th>\n",
       "      <td>3398-ZOUAA</td>\n",
       "      <td>Fiber optic</td>\n",
       "      <td>No</td>\n",
       "      <td>No</td>\n",
       "      <td>No</td>\n",
       "      <td>No</td>\n",
       "      <td>No</td>\n",
       "      <td>No</td>\n",
       "    </tr>\n",
       "    <tr>\n",
       "      <th>1552</th>\n",
       "      <td>1024-VRZHF</td>\n",
       "      <td>Fiber optic</td>\n",
       "      <td>No</td>\n",
       "      <td>No</td>\n",
       "      <td>No</td>\n",
       "      <td>No</td>\n",
       "      <td>No</td>\n",
       "      <td>No</td>\n",
       "    </tr>\n",
       "  </tbody>\n",
       "</table>\n",
       "</div>"
      ],
      "text/plain": [
       "      customerID InternetService OnlineSecurity OnlineBackup DeviceProtection  \\\n",
       "2708  9576-SYUHJ     Fiber optic            Yes           No               No   \n",
       "4167  0334-ZFJSR             DSL            Yes          Yes               No   \n",
       "1038  5989-OMNJE             DSL            Yes          Yes              Yes   \n",
       "2975  7973-DZRKH     Fiber optic            Yes           No              Yes   \n",
       "4009  8010-EZLOU     Fiber optic             No          Yes               No   \n",
       "1907  7021-XSNYE             DSL            Yes           No              Yes   \n",
       "4994  3259-FDWOY     Fiber optic             No          Yes              Yes   \n",
       "116   2636-SJDOU     Fiber optic            Yes          Yes               No   \n",
       "4571  3398-ZOUAA     Fiber optic             No           No               No   \n",
       "1552  1024-VRZHF     Fiber optic             No           No               No   \n",
       "\n",
       "     TechSupport StreamingTV StreamingMovies  \n",
       "2708          No         Yes              No  \n",
       "4167         Yes          No              No  \n",
       "1038          No         Yes             Yes  \n",
       "2975         Yes          No              No  \n",
       "4009          No          No              No  \n",
       "1907         Yes          No             Yes  \n",
       "4994          No         Yes             Yes  \n",
       "116           No          No              No  \n",
       "4571          No          No              No  \n",
       "1552          No          No              No  "
      ]
     },
     "metadata": {},
     "output_type": "display_data"
    },
    {
     "name": "stdout",
     "output_type": "stream",
     "text": [
      "Последние 10 строк таблицы:\n"
     ]
    },
    {
     "data": {
      "text/html": [
       "<div>\n",
       "<style scoped>\n",
       "    .dataframe tbody tr th:only-of-type {\n",
       "        vertical-align: middle;\n",
       "    }\n",
       "\n",
       "    .dataframe tbody tr th {\n",
       "        vertical-align: top;\n",
       "    }\n",
       "\n",
       "    .dataframe thead th {\n",
       "        text-align: right;\n",
       "    }\n",
       "</style>\n",
       "<table border=\"1\" class=\"dataframe\">\n",
       "  <thead>\n",
       "    <tr style=\"text-align: right;\">\n",
       "      <th></th>\n",
       "      <th>customerID</th>\n",
       "      <th>InternetService</th>\n",
       "      <th>OnlineSecurity</th>\n",
       "      <th>OnlineBackup</th>\n",
       "      <th>DeviceProtection</th>\n",
       "      <th>TechSupport</th>\n",
       "      <th>StreamingTV</th>\n",
       "      <th>StreamingMovies</th>\n",
       "    </tr>\n",
       "  </thead>\n",
       "  <tbody>\n",
       "    <tr>\n",
       "      <th>5507</th>\n",
       "      <td>6894-LFHLY</td>\n",
       "      <td>Fiber optic</td>\n",
       "      <td>No</td>\n",
       "      <td>No</td>\n",
       "      <td>No</td>\n",
       "      <td>No</td>\n",
       "      <td>No</td>\n",
       "      <td>No</td>\n",
       "    </tr>\n",
       "    <tr>\n",
       "      <th>5508</th>\n",
       "      <td>9767-FFLEM</td>\n",
       "      <td>Fiber optic</td>\n",
       "      <td>No</td>\n",
       "      <td>No</td>\n",
       "      <td>No</td>\n",
       "      <td>No</td>\n",
       "      <td>No</td>\n",
       "      <td>No</td>\n",
       "    </tr>\n",
       "    <tr>\n",
       "      <th>5509</th>\n",
       "      <td>0639-TSIQW</td>\n",
       "      <td>Fiber optic</td>\n",
       "      <td>Yes</td>\n",
       "      <td>Yes</td>\n",
       "      <td>Yes</td>\n",
       "      <td>No</td>\n",
       "      <td>Yes</td>\n",
       "      <td>No</td>\n",
       "    </tr>\n",
       "    <tr>\n",
       "      <th>5510</th>\n",
       "      <td>8456-QDAVC</td>\n",
       "      <td>Fiber optic</td>\n",
       "      <td>No</td>\n",
       "      <td>No</td>\n",
       "      <td>No</td>\n",
       "      <td>No</td>\n",
       "      <td>Yes</td>\n",
       "      <td>No</td>\n",
       "    </tr>\n",
       "    <tr>\n",
       "      <th>5511</th>\n",
       "      <td>7750-EYXWZ</td>\n",
       "      <td>DSL</td>\n",
       "      <td>No</td>\n",
       "      <td>Yes</td>\n",
       "      <td>Yes</td>\n",
       "      <td>Yes</td>\n",
       "      <td>Yes</td>\n",
       "      <td>Yes</td>\n",
       "    </tr>\n",
       "    <tr>\n",
       "      <th>5512</th>\n",
       "      <td>6840-RESVB</td>\n",
       "      <td>DSL</td>\n",
       "      <td>Yes</td>\n",
       "      <td>No</td>\n",
       "      <td>Yes</td>\n",
       "      <td>Yes</td>\n",
       "      <td>Yes</td>\n",
       "      <td>Yes</td>\n",
       "    </tr>\n",
       "    <tr>\n",
       "      <th>5513</th>\n",
       "      <td>2234-XADUH</td>\n",
       "      <td>Fiber optic</td>\n",
       "      <td>No</td>\n",
       "      <td>Yes</td>\n",
       "      <td>Yes</td>\n",
       "      <td>No</td>\n",
       "      <td>Yes</td>\n",
       "      <td>Yes</td>\n",
       "    </tr>\n",
       "    <tr>\n",
       "      <th>5514</th>\n",
       "      <td>4801-JZAZL</td>\n",
       "      <td>DSL</td>\n",
       "      <td>Yes</td>\n",
       "      <td>No</td>\n",
       "      <td>No</td>\n",
       "      <td>No</td>\n",
       "      <td>No</td>\n",
       "      <td>No</td>\n",
       "    </tr>\n",
       "    <tr>\n",
       "      <th>5515</th>\n",
       "      <td>8361-LTMKD</td>\n",
       "      <td>Fiber optic</td>\n",
       "      <td>No</td>\n",
       "      <td>No</td>\n",
       "      <td>No</td>\n",
       "      <td>No</td>\n",
       "      <td>No</td>\n",
       "      <td>No</td>\n",
       "    </tr>\n",
       "    <tr>\n",
       "      <th>5516</th>\n",
       "      <td>3186-AJIEK</td>\n",
       "      <td>Fiber optic</td>\n",
       "      <td>Yes</td>\n",
       "      <td>No</td>\n",
       "      <td>Yes</td>\n",
       "      <td>Yes</td>\n",
       "      <td>Yes</td>\n",
       "      <td>Yes</td>\n",
       "    </tr>\n",
       "  </tbody>\n",
       "</table>\n",
       "</div>"
      ],
      "text/plain": [
       "      customerID InternetService OnlineSecurity OnlineBackup DeviceProtection  \\\n",
       "5507  6894-LFHLY     Fiber optic             No           No               No   \n",
       "5508  9767-FFLEM     Fiber optic             No           No               No   \n",
       "5509  0639-TSIQW     Fiber optic            Yes          Yes              Yes   \n",
       "5510  8456-QDAVC     Fiber optic             No           No               No   \n",
       "5511  7750-EYXWZ             DSL             No          Yes              Yes   \n",
       "5512  6840-RESVB             DSL            Yes           No              Yes   \n",
       "5513  2234-XADUH     Fiber optic             No          Yes              Yes   \n",
       "5514  4801-JZAZL             DSL            Yes           No               No   \n",
       "5515  8361-LTMKD     Fiber optic             No           No               No   \n",
       "5516  3186-AJIEK     Fiber optic            Yes           No              Yes   \n",
       "\n",
       "     TechSupport StreamingTV StreamingMovies  \n",
       "5507          No          No              No  \n",
       "5508          No          No              No  \n",
       "5509          No         Yes              No  \n",
       "5510          No         Yes              No  \n",
       "5511         Yes         Yes             Yes  \n",
       "5512         Yes         Yes             Yes  \n",
       "5513          No         Yes             Yes  \n",
       "5514          No          No              No  \n",
       "5515          No          No              No  \n",
       "5516         Yes         Yes             Yes  "
      ]
     },
     "metadata": {},
     "output_type": "display_data"
    },
    {
     "name": "stdout",
     "output_type": "stream",
     "text": [
      "Информация\n",
      "\n",
      "<class 'pandas.core.frame.DataFrame'>\n",
      "RangeIndex: 5517 entries, 0 to 5516\n",
      "Data columns (total 8 columns):\n",
      " #   Column            Non-Null Count  Dtype \n",
      "---  ------            --------------  ----- \n",
      " 0   customerID        5517 non-null   object\n",
      " 1   InternetService   5517 non-null   object\n",
      " 2   OnlineSecurity    5517 non-null   object\n",
      " 3   OnlineBackup      5517 non-null   object\n",
      " 4   DeviceProtection  5517 non-null   object\n",
      " 5   TechSupport       5517 non-null   object\n",
      " 6   StreamingTV       5517 non-null   object\n",
      " 7   StreamingMovies   5517 non-null   object\n",
      "dtypes: object(8)\n",
      "memory usage: 344.9+ KB\n",
      "None\n"
     ]
    }
   ],
   "source": [
    "info(internet, 'INTERNET, информация об интернет-услугах')"
   ]
  },
  {
   "cell_type": "code",
   "execution_count": 32,
   "metadata": {
    "colab": {
     "base_uri": "https://localhost:8080/"
    },
    "id": "tTjJKTivdUvY",
    "outputId": "5f7f220b-8c0f-4957-e290-76c87bff8903"
   },
   "outputs": [
    {
     "data": {
      "text/plain": [
       "0"
      ]
     },
     "execution_count": 32,
     "metadata": {},
     "output_type": "execute_result"
    }
   ],
   "source": [
    "internet.duplicated().sum()"
   ]
  },
  {
   "cell_type": "markdown",
   "metadata": {
    "id": "ckhmRwvcdUvZ"
   },
   "source": [
    "Аналогично с предыдущей таблицей, нет пропусков и дубликатов."
   ]
  },
  {
   "cell_type": "markdown",
   "metadata": {
    "id": "_zDZLMordUvZ"
   },
   "source": [
    "- `customerID`- уникальный идентификатор клиента;\n",
    "- `InternetService`- тип подключения интернета (через телефонную линию (DSL) или оптоволоконный кабель;\n",
    "- `OnlineSecurity`- подключенная услуга блокировки небезопасных сайтов;\n",
    "- `OnlineBackup`- облачное хранилище файлов для резервного копирования данных;\n",
    "- `DeviceProtection`- наличие услуги антивируса;\n",
    "- `TechSupport`- выделенная линия технической поддержки;\n",
    "- `StreamingTV`- подключенное стриминговое телевидение;\n",
    "- `StreamingMovies`- каталог фильмов."
   ]
  },
  {
   "cell_type": "markdown",
   "metadata": {
    "id": "5iCUxjy2dUvZ"
   },
   "source": [
    "Так же видим много бинарных признаков, которые можно закодировать."
   ]
  },
  {
   "cell_type": "code",
   "execution_count": 33,
   "metadata": {
    "id": "-RH7cJxndUvZ"
   },
   "outputs": [],
   "source": [
    "for i in ['OnlineSecurity', 'OnlineBackup', 'DeviceProtection', 'TechSupport', 'StreamingTV', 'StreamingMovies']:\n",
    "    internet[i] = (internet[i] == 'Yes').astype('int8')"
   ]
  },
  {
   "cell_type": "code",
   "execution_count": 34,
   "metadata": {
    "id": "WnEfT2hsdUvZ"
   },
   "outputs": [],
   "source": [
    "internet['DLS'] = (internet['InternetService'] == 'DSL').astype('int8')\n"
   ]
  },
  {
   "cell_type": "code",
   "execution_count": 35,
   "metadata": {
    "colab": {
     "base_uri": "https://localhost:8080/",
     "height": 206
    },
    "id": "5NsxXsV0dUvZ",
    "outputId": "e6842134-b3b1-4bcf-ebbd-01f881af8d91"
   },
   "outputs": [
    {
     "data": {
      "text/html": [
       "<div>\n",
       "<style scoped>\n",
       "    .dataframe tbody tr th:only-of-type {\n",
       "        vertical-align: middle;\n",
       "    }\n",
       "\n",
       "    .dataframe tbody tr th {\n",
       "        vertical-align: top;\n",
       "    }\n",
       "\n",
       "    .dataframe thead th {\n",
       "        text-align: right;\n",
       "    }\n",
       "</style>\n",
       "<table border=\"1\" class=\"dataframe\">\n",
       "  <thead>\n",
       "    <tr style=\"text-align: right;\">\n",
       "      <th></th>\n",
       "      <th>customerID</th>\n",
       "      <th>OnlineSecurity</th>\n",
       "      <th>OnlineBackup</th>\n",
       "      <th>DeviceProtection</th>\n",
       "      <th>TechSupport</th>\n",
       "      <th>StreamingTV</th>\n",
       "      <th>StreamingMovies</th>\n",
       "      <th>DLS</th>\n",
       "    </tr>\n",
       "  </thead>\n",
       "  <tbody>\n",
       "    <tr>\n",
       "      <th>0</th>\n",
       "      <td>7590-VHVEG</td>\n",
       "      <td>0</td>\n",
       "      <td>1</td>\n",
       "      <td>0</td>\n",
       "      <td>0</td>\n",
       "      <td>0</td>\n",
       "      <td>0</td>\n",
       "      <td>1</td>\n",
       "    </tr>\n",
       "    <tr>\n",
       "      <th>1</th>\n",
       "      <td>5575-GNVDE</td>\n",
       "      <td>1</td>\n",
       "      <td>0</td>\n",
       "      <td>1</td>\n",
       "      <td>0</td>\n",
       "      <td>0</td>\n",
       "      <td>0</td>\n",
       "      <td>1</td>\n",
       "    </tr>\n",
       "    <tr>\n",
       "      <th>2</th>\n",
       "      <td>3668-QPYBK</td>\n",
       "      <td>1</td>\n",
       "      <td>1</td>\n",
       "      <td>0</td>\n",
       "      <td>0</td>\n",
       "      <td>0</td>\n",
       "      <td>0</td>\n",
       "      <td>1</td>\n",
       "    </tr>\n",
       "    <tr>\n",
       "      <th>3</th>\n",
       "      <td>7795-CFOCW</td>\n",
       "      <td>1</td>\n",
       "      <td>0</td>\n",
       "      <td>1</td>\n",
       "      <td>1</td>\n",
       "      <td>0</td>\n",
       "      <td>0</td>\n",
       "      <td>1</td>\n",
       "    </tr>\n",
       "    <tr>\n",
       "      <th>4</th>\n",
       "      <td>9237-HQITU</td>\n",
       "      <td>0</td>\n",
       "      <td>0</td>\n",
       "      <td>0</td>\n",
       "      <td>0</td>\n",
       "      <td>0</td>\n",
       "      <td>0</td>\n",
       "      <td>0</td>\n",
       "    </tr>\n",
       "  </tbody>\n",
       "</table>\n",
       "</div>"
      ],
      "text/plain": [
       "   customerID  OnlineSecurity  OnlineBackup  DeviceProtection  TechSupport  \\\n",
       "0  7590-VHVEG               0             1                 0            0   \n",
       "1  5575-GNVDE               1             0                 1            0   \n",
       "2  3668-QPYBK               1             1                 0            0   \n",
       "3  7795-CFOCW               1             0                 1            1   \n",
       "4  9237-HQITU               0             0                 0            0   \n",
       "\n",
       "   StreamingTV  StreamingMovies  DLS  \n",
       "0            0                0    1  \n",
       "1            0                0    1  \n",
       "2            0                0    1  \n",
       "3            0                0    1  \n",
       "4            0                0    0  "
      ]
     },
     "execution_count": 35,
     "metadata": {},
     "output_type": "execute_result"
    }
   ],
   "source": [
    "internet=internet.drop('InternetService', axis=1)\n",
    "internet.head()"
   ]
  },
  {
   "cell_type": "code",
   "execution_count": 36,
   "metadata": {
    "colab": {
     "base_uri": "https://localhost:8080/",
     "height": 1000
    },
    "id": "wD_7mKUldUva",
    "outputId": "f54ed337-979f-420f-cac9-7f0f59ef9972",
    "scrolled": false
   },
   "outputs": [
    {
     "name": "stdout",
     "output_type": "stream",
     "text": [
      "Диаграмма распределения OnlineSecurity\n"
     ]
    },
    {
     "data": {
      "image/png": "[encoded data removed]",
      "text/plain": [
       "<Figure size 432x288 with 1 Axes>"
      ]
     },
     "metadata": {
      "needs_background": "light"
     },
     "output_type": "display_data"
    },
    {
     "name": "stdout",
     "output_type": "stream",
     "text": [
      "Диаграмма распределения OnlineBackup\n"
     ]
    },
    {
     "data": {
      "image/png": "[encoded data removed]",
      "text/plain": [
       "<Figure size 432x288 with 1 Axes>"
      ]
     },
     "metadata": {
      "needs_background": "light"
     },
     "output_type": "display_data"
    },
    {
     "name": "stdout",
     "output_type": "stream",
     "text": [
      "Диаграмма распределения DeviceProtection\n"
     ]
    },
    {
     "data": {
      "image/png": "[encoded data removed]",
      "text/plain": [
       "<Figure size 432x288 with 1 Axes>"
      ]
     },
     "metadata": {
      "needs_background": "light"
     },
     "output_type": "display_data"
    },
    {
     "name": "stdout",
     "output_type": "stream",
     "text": [
      "Диаграмма распределения TechSupport\n"
     ]
    },
    {
     "data": {
      "image/png": "[encoded data removed]",
      "text/plain": [
       "<Figure size 432x288 with 1 Axes>"
      ]
     },
     "metadata": {
      "needs_background": "light"
     },
     "output_type": "display_data"
    },
    {
     "name": "stdout",
     "output_type": "stream",
     "text": [
      "Диаграмма распределения StreamingTV\n"
     ]
    },
    {
     "data": {
      "image/png": "[encoded data removed]",
      "text/plain": [
       "<Figure size 432x288 with 1 Axes>"
      ]
     },
     "metadata": {
      "needs_background": "light"
     },
     "output_type": "display_data"
    },
    {
     "name": "stdout",
     "output_type": "stream",
     "text": [
      "Диаграмма распределения StreamingMovies\n"
     ]
    },
    {
     "data": {
      "image/png": "[encoded data removed]",
      "text/plain": [
       "<Figure size 432x288 with 1 Axes>"
      ]
     },
     "metadata": {
      "needs_background": "light"
     },
     "output_type": "display_data"
    },
    {
     "name": "stdout",
     "output_type": "stream",
     "text": [
      "Диаграмма распределения DLS\n"
     ]
    },
    {
     "data": {
      "image/png": "[encoded data removed]",
      "text/plain": [
       "<Figure size 432x288 with 1 Axes>"
      ]
     },
     "metadata": {
      "needs_background": "light"
     },
     "output_type": "display_data"
    }
   ],
   "source": [
    "col_list=['OnlineSecurity','OnlineBackup','DeviceProtection','TechSupport','StreamingTV','StreamingMovies','DLS']\n",
    "for col in col_list:\n",
    "    print(f'Диаграмма распределения {col}')\n",
    "    internet[col].hist()\n",
    "    plt.xticks(rotation = 20)\n",
    "    plt.show()"
   ]
  },
  {
   "cell_type": "markdown",
   "metadata": {
    "id": "aO5ivA5sdUva"
   },
   "source": [
    "В файле с интернет-услугами данные в признаках распределены равномерно."
   ]
  },
  {
   "cell_type": "markdown",
   "metadata": {
    "id": "RrrdXSqldUva"
   },
   "source": [
    "**3) PERSONAL**"
   ]
  },
  {
   "cell_type": "code",
   "execution_count": 37,
   "metadata": {
    "colab": {
     "base_uri": "https://localhost:8080/",
     "height": 1000
    },
    "id": "rK7Ie91idUva",
    "outputId": "77a8e2ea-fba1-47af-fdf0-ae640009662c"
   },
   "outputs": [
    {
     "name": "stdout",
     "output_type": "stream",
     "text": [
      "\u001b[1mТаблица PERSONAL, персональные данные клиента\u001b[0m\n",
      "\n",
      "Первые 10 строк таблицы:\n"
     ]
    },
    {
     "data": {
      "text/html": [
       "<div>\n",
       "<style scoped>\n",
       "    .dataframe tbody tr th:only-of-type {\n",
       "        vertical-align: middle;\n",
       "    }\n",
       "\n",
       "    .dataframe tbody tr th {\n",
       "        vertical-align: top;\n",
       "    }\n",
       "\n",
       "    .dataframe thead th {\n",
       "        text-align: right;\n",
       "    }\n",
       "</style>\n",
       "<table border=\"1\" class=\"dataframe\">\n",
       "  <thead>\n",
       "    <tr style=\"text-align: right;\">\n",
       "      <th></th>\n",
       "      <th>customerID</th>\n",
       "      <th>gender</th>\n",
       "      <th>SeniorCitizen</th>\n",
       "      <th>Partner</th>\n",
       "      <th>Dependents</th>\n",
       "    </tr>\n",
       "  </thead>\n",
       "  <tbody>\n",
       "    <tr>\n",
       "      <th>0</th>\n",
       "      <td>7590-VHVEG</td>\n",
       "      <td>Female</td>\n",
       "      <td>0</td>\n",
       "      <td>Yes</td>\n",
       "      <td>No</td>\n",
       "    </tr>\n",
       "    <tr>\n",
       "      <th>1</th>\n",
       "      <td>5575-GNVDE</td>\n",
       "      <td>Male</td>\n",
       "      <td>0</td>\n",
       "      <td>No</td>\n",
       "      <td>No</td>\n",
       "    </tr>\n",
       "    <tr>\n",
       "      <th>2</th>\n",
       "      <td>3668-QPYBK</td>\n",
       "      <td>Male</td>\n",
       "      <td>0</td>\n",
       "      <td>No</td>\n",
       "      <td>No</td>\n",
       "    </tr>\n",
       "    <tr>\n",
       "      <th>3</th>\n",
       "      <td>7795-CFOCW</td>\n",
       "      <td>Male</td>\n",
       "      <td>0</td>\n",
       "      <td>No</td>\n",
       "      <td>No</td>\n",
       "    </tr>\n",
       "    <tr>\n",
       "      <th>4</th>\n",
       "      <td>9237-HQITU</td>\n",
       "      <td>Female</td>\n",
       "      <td>0</td>\n",
       "      <td>No</td>\n",
       "      <td>No</td>\n",
       "    </tr>\n",
       "    <tr>\n",
       "      <th>5</th>\n",
       "      <td>9305-CDSKC</td>\n",
       "      <td>Female</td>\n",
       "      <td>0</td>\n",
       "      <td>No</td>\n",
       "      <td>No</td>\n",
       "    </tr>\n",
       "    <tr>\n",
       "      <th>6</th>\n",
       "      <td>1452-KIOVK</td>\n",
       "      <td>Male</td>\n",
       "      <td>0</td>\n",
       "      <td>No</td>\n",
       "      <td>Yes</td>\n",
       "    </tr>\n",
       "    <tr>\n",
       "      <th>7</th>\n",
       "      <td>6713-OKOMC</td>\n",
       "      <td>Female</td>\n",
       "      <td>0</td>\n",
       "      <td>No</td>\n",
       "      <td>No</td>\n",
       "    </tr>\n",
       "    <tr>\n",
       "      <th>8</th>\n",
       "      <td>7892-POOKP</td>\n",
       "      <td>Female</td>\n",
       "      <td>0</td>\n",
       "      <td>Yes</td>\n",
       "      <td>No</td>\n",
       "    </tr>\n",
       "    <tr>\n",
       "      <th>9</th>\n",
       "      <td>6388-TABGU</td>\n",
       "      <td>Male</td>\n",
       "      <td>0</td>\n",
       "      <td>No</td>\n",
       "      <td>Yes</td>\n",
       "    </tr>\n",
       "  </tbody>\n",
       "</table>\n",
       "</div>"
      ],
      "text/plain": [
       "   customerID  gender  SeniorCitizen Partner Dependents\n",
       "0  7590-VHVEG  Female              0     Yes         No\n",
       "1  5575-GNVDE    Male              0      No         No\n",
       "2  3668-QPYBK    Male              0      No         No\n",
       "3  7795-CFOCW    Male              0      No         No\n",
       "4  9237-HQITU  Female              0      No         No\n",
       "5  9305-CDSKC  Female              0      No         No\n",
       "6  1452-KIOVK    Male              0      No        Yes\n",
       "7  6713-OKOMC  Female              0      No         No\n",
       "8  7892-POOKP  Female              0     Yes         No\n",
       "9  6388-TABGU    Male              0      No        Yes"
      ]
     },
     "metadata": {},
     "output_type": "display_data"
    },
    {
     "name": "stdout",
     "output_type": "stream",
     "text": [
      "Рандомные 10 строк таблицы:\n"
     ]
    },
    {
     "data": {
      "text/html": [
       "<div>\n",
       "<style scoped>\n",
       "    .dataframe tbody tr th:only-of-type {\n",
       "        vertical-align: middle;\n",
       "    }\n",
       "\n",
       "    .dataframe tbody tr th {\n",
       "        vertical-align: top;\n",
       "    }\n",
       "\n",
       "    .dataframe thead th {\n",
       "        text-align: right;\n",
       "    }\n",
       "</style>\n",
       "<table border=\"1\" class=\"dataframe\">\n",
       "  <thead>\n",
       "    <tr style=\"text-align: right;\">\n",
       "      <th></th>\n",
       "      <th>customerID</th>\n",
       "      <th>gender</th>\n",
       "      <th>SeniorCitizen</th>\n",
       "      <th>Partner</th>\n",
       "      <th>Dependents</th>\n",
       "    </tr>\n",
       "  </thead>\n",
       "  <tbody>\n",
       "    <tr>\n",
       "      <th>3381</th>\n",
       "      <td>8879-ZKJOF</td>\n",
       "      <td>Female</td>\n",
       "      <td>0</td>\n",
       "      <td>No</td>\n",
       "      <td>No</td>\n",
       "    </tr>\n",
       "    <tr>\n",
       "      <th>6180</th>\n",
       "      <td>0201-MIBOL</td>\n",
       "      <td>Female</td>\n",
       "      <td>1</td>\n",
       "      <td>No</td>\n",
       "      <td>No</td>\n",
       "    </tr>\n",
       "    <tr>\n",
       "      <th>4829</th>\n",
       "      <td>1600-DILPE</td>\n",
       "      <td>Female</td>\n",
       "      <td>0</td>\n",
       "      <td>No</td>\n",
       "      <td>No</td>\n",
       "    </tr>\n",
       "    <tr>\n",
       "      <th>3737</th>\n",
       "      <td>8601-QACRS</td>\n",
       "      <td>Female</td>\n",
       "      <td>0</td>\n",
       "      <td>No</td>\n",
       "      <td>No</td>\n",
       "    </tr>\n",
       "    <tr>\n",
       "      <th>4249</th>\n",
       "      <td>7919-ZODZZ</td>\n",
       "      <td>Female</td>\n",
       "      <td>0</td>\n",
       "      <td>Yes</td>\n",
       "      <td>Yes</td>\n",
       "    </tr>\n",
       "    <tr>\n",
       "      <th>6835</th>\n",
       "      <td>7964-ZRKKG</td>\n",
       "      <td>Male</td>\n",
       "      <td>0</td>\n",
       "      <td>Yes</td>\n",
       "      <td>No</td>\n",
       "    </tr>\n",
       "    <tr>\n",
       "      <th>3869</th>\n",
       "      <td>1357-BIJKI</td>\n",
       "      <td>Male</td>\n",
       "      <td>0</td>\n",
       "      <td>Yes</td>\n",
       "      <td>No</td>\n",
       "    </tr>\n",
       "    <tr>\n",
       "      <th>3943</th>\n",
       "      <td>8720-RQSBJ</td>\n",
       "      <td>Male</td>\n",
       "      <td>1</td>\n",
       "      <td>No</td>\n",
       "      <td>No</td>\n",
       "    </tr>\n",
       "    <tr>\n",
       "      <th>3491</th>\n",
       "      <td>4682-BLBUC</td>\n",
       "      <td>Male</td>\n",
       "      <td>0</td>\n",
       "      <td>Yes</td>\n",
       "      <td>No</td>\n",
       "    </tr>\n",
       "    <tr>\n",
       "      <th>6847</th>\n",
       "      <td>8930-XOTDP</td>\n",
       "      <td>Female</td>\n",
       "      <td>0</td>\n",
       "      <td>Yes</td>\n",
       "      <td>Yes</td>\n",
       "    </tr>\n",
       "  </tbody>\n",
       "</table>\n",
       "</div>"
      ],
      "text/plain": [
       "      customerID  gender  SeniorCitizen Partner Dependents\n",
       "3381  8879-ZKJOF  Female              0      No         No\n",
       "6180  0201-MIBOL  Female              1      No         No\n",
       "4829  1600-DILPE  Female              0      No         No\n",
       "3737  8601-QACRS  Female              0      No         No\n",
       "4249  7919-ZODZZ  Female              0     Yes        Yes\n",
       "6835  7964-ZRKKG    Male              0     Yes         No\n",
       "3869  1357-BIJKI    Male              0     Yes         No\n",
       "3943  8720-RQSBJ    Male              1      No         No\n",
       "3491  4682-BLBUC    Male              0     Yes         No\n",
       "6847  8930-XOTDP  Female              0     Yes        Yes"
      ]
     },
     "metadata": {},
     "output_type": "display_data"
    },
    {
     "name": "stdout",
     "output_type": "stream",
     "text": [
      "Последние 10 строк таблицы:\n"
     ]
    },
    {
     "data": {
      "text/html": [
       "<div>\n",
       "<style scoped>\n",
       "    .dataframe tbody tr th:only-of-type {\n",
       "        vertical-align: middle;\n",
       "    }\n",
       "\n",
       "    .dataframe tbody tr th {\n",
       "        vertical-align: top;\n",
       "    }\n",
       "\n",
       "    .dataframe thead th {\n",
       "        text-align: right;\n",
       "    }\n",
       "</style>\n",
       "<table border=\"1\" class=\"dataframe\">\n",
       "  <thead>\n",
       "    <tr style=\"text-align: right;\">\n",
       "      <th></th>\n",
       "      <th>customerID</th>\n",
       "      <th>gender</th>\n",
       "      <th>SeniorCitizen</th>\n",
       "      <th>Partner</th>\n",
       "      <th>Dependents</th>\n",
       "    </tr>\n",
       "  </thead>\n",
       "  <tbody>\n",
       "    <tr>\n",
       "      <th>7033</th>\n",
       "      <td>9767-FFLEM</td>\n",
       "      <td>Male</td>\n",
       "      <td>0</td>\n",
       "      <td>No</td>\n",
       "      <td>No</td>\n",
       "    </tr>\n",
       "    <tr>\n",
       "      <th>7034</th>\n",
       "      <td>0639-TSIQW</td>\n",
       "      <td>Female</td>\n",
       "      <td>0</td>\n",
       "      <td>No</td>\n",
       "      <td>No</td>\n",
       "    </tr>\n",
       "    <tr>\n",
       "      <th>7035</th>\n",
       "      <td>8456-QDAVC</td>\n",
       "      <td>Male</td>\n",
       "      <td>0</td>\n",
       "      <td>No</td>\n",
       "      <td>No</td>\n",
       "    </tr>\n",
       "    <tr>\n",
       "      <th>7036</th>\n",
       "      <td>7750-EYXWZ</td>\n",
       "      <td>Female</td>\n",
       "      <td>0</td>\n",
       "      <td>No</td>\n",
       "      <td>No</td>\n",
       "    </tr>\n",
       "    <tr>\n",
       "      <th>7037</th>\n",
       "      <td>2569-WGERO</td>\n",
       "      <td>Female</td>\n",
       "      <td>0</td>\n",
       "      <td>No</td>\n",
       "      <td>No</td>\n",
       "    </tr>\n",
       "    <tr>\n",
       "      <th>7038</th>\n",
       "      <td>6840-RESVB</td>\n",
       "      <td>Male</td>\n",
       "      <td>0</td>\n",
       "      <td>Yes</td>\n",
       "      <td>Yes</td>\n",
       "    </tr>\n",
       "    <tr>\n",
       "      <th>7039</th>\n",
       "      <td>2234-XADUH</td>\n",
       "      <td>Female</td>\n",
       "      <td>0</td>\n",
       "      <td>Yes</td>\n",
       "      <td>Yes</td>\n",
       "    </tr>\n",
       "    <tr>\n",
       "      <th>7040</th>\n",
       "      <td>4801-JZAZL</td>\n",
       "      <td>Female</td>\n",
       "      <td>0</td>\n",
       "      <td>Yes</td>\n",
       "      <td>Yes</td>\n",
       "    </tr>\n",
       "    <tr>\n",
       "      <th>7041</th>\n",
       "      <td>8361-LTMKD</td>\n",
       "      <td>Male</td>\n",
       "      <td>1</td>\n",
       "      <td>Yes</td>\n",
       "      <td>No</td>\n",
       "    </tr>\n",
       "    <tr>\n",
       "      <th>7042</th>\n",
       "      <td>3186-AJIEK</td>\n",
       "      <td>Male</td>\n",
       "      <td>0</td>\n",
       "      <td>No</td>\n",
       "      <td>No</td>\n",
       "    </tr>\n",
       "  </tbody>\n",
       "</table>\n",
       "</div>"
      ],
      "text/plain": [
       "      customerID  gender  SeniorCitizen Partner Dependents\n",
       "7033  9767-FFLEM    Male              0      No         No\n",
       "7034  0639-TSIQW  Female              0      No         No\n",
       "7035  8456-QDAVC    Male              0      No         No\n",
       "7036  7750-EYXWZ  Female              0      No         No\n",
       "7037  2569-WGERO  Female              0      No         No\n",
       "7038  6840-RESVB    Male              0     Yes        Yes\n",
       "7039  2234-XADUH  Female              0     Yes        Yes\n",
       "7040  4801-JZAZL  Female              0     Yes        Yes\n",
       "7041  8361-LTMKD    Male              1     Yes         No\n",
       "7042  3186-AJIEK    Male              0      No         No"
      ]
     },
     "metadata": {},
     "output_type": "display_data"
    },
    {
     "name": "stdout",
     "output_type": "stream",
     "text": [
      "Информация\n",
      "\n",
      "<class 'pandas.core.frame.DataFrame'>\n",
      "RangeIndex: 7043 entries, 0 to 7042\n",
      "Data columns (total 5 columns):\n",
      " #   Column         Non-Null Count  Dtype \n",
      "---  ------         --------------  ----- \n",
      " 0   customerID     7043 non-null   object\n",
      " 1   gender         7043 non-null   object\n",
      " 2   SeniorCitizen  7043 non-null   int64 \n",
      " 3   Partner        7043 non-null   object\n",
      " 4   Dependents     7043 non-null   object\n",
      "dtypes: int64(1), object(4)\n",
      "memory usage: 275.2+ KB\n",
      "None\n"
     ]
    }
   ],
   "source": [
    "info(personal, 'PERSONAL, персональные данные клиента')"
   ]
  },
  {
   "cell_type": "markdown",
   "metadata": {
    "id": "LO_8h7-SdUva"
   },
   "source": [
    "- `customerID`- уникальный идентификатор клиента;\n",
    "- `gender`- пол;\n",
    "- `SeniorCitizen`- наличие пенсионного статуса по возрасту;\n",
    "- `Partner`- наличие супруга(и);\n",
    "- `Dependents`- наличие иждивенцев."
   ]
  },
  {
   "cell_type": "code",
   "execution_count": 38,
   "metadata": {
    "id": "y7630eXUdUva"
   },
   "outputs": [],
   "source": [
    "for i in ['Partner', 'Dependents']:\n",
    "    personal[i] = (personal[i] == 'Yes').astype('int8')"
   ]
  },
  {
   "cell_type": "code",
   "execution_count": 39,
   "metadata": {
    "id": "Z5XoAuxrdUva"
   },
   "outputs": [],
   "source": [
    "personal = pd.get_dummies(personal, columns=['gender'])\n",
    "personal = personal.drop('gender_Female', axis=1)"
   ]
  },
  {
   "cell_type": "code",
   "execution_count": 40,
   "metadata": {
    "colab": {
     "base_uri": "https://localhost:8080/",
     "height": 206
    },
    "id": "SBBUTFS_dUvb",
    "outputId": "b5e49199-84c9-4df6-cea3-de5c3f4397fe"
   },
   "outputs": [
    {
     "data": {
      "text/html": [
       "<div>\n",
       "<style scoped>\n",
       "    .dataframe tbody tr th:only-of-type {\n",
       "        vertical-align: middle;\n",
       "    }\n",
       "\n",
       "    .dataframe tbody tr th {\n",
       "        vertical-align: top;\n",
       "    }\n",
       "\n",
       "    .dataframe thead th {\n",
       "        text-align: right;\n",
       "    }\n",
       "</style>\n",
       "<table border=\"1\" class=\"dataframe\">\n",
       "  <thead>\n",
       "    <tr style=\"text-align: right;\">\n",
       "      <th></th>\n",
       "      <th>customerID</th>\n",
       "      <th>SeniorCitizen</th>\n",
       "      <th>Partner</th>\n",
       "      <th>Dependents</th>\n",
       "      <th>gender_Male</th>\n",
       "    </tr>\n",
       "  </thead>\n",
       "  <tbody>\n",
       "    <tr>\n",
       "      <th>0</th>\n",
       "      <td>7590-VHVEG</td>\n",
       "      <td>0</td>\n",
       "      <td>1</td>\n",
       "      <td>0</td>\n",
       "      <td>0</td>\n",
       "    </tr>\n",
       "    <tr>\n",
       "      <th>1</th>\n",
       "      <td>5575-GNVDE</td>\n",
       "      <td>0</td>\n",
       "      <td>0</td>\n",
       "      <td>0</td>\n",
       "      <td>1</td>\n",
       "    </tr>\n",
       "    <tr>\n",
       "      <th>2</th>\n",
       "      <td>3668-QPYBK</td>\n",
       "      <td>0</td>\n",
       "      <td>0</td>\n",
       "      <td>0</td>\n",
       "      <td>1</td>\n",
       "    </tr>\n",
       "    <tr>\n",
       "      <th>3</th>\n",
       "      <td>7795-CFOCW</td>\n",
       "      <td>0</td>\n",
       "      <td>0</td>\n",
       "      <td>0</td>\n",
       "      <td>1</td>\n",
       "    </tr>\n",
       "    <tr>\n",
       "      <th>4</th>\n",
       "      <td>9237-HQITU</td>\n",
       "      <td>0</td>\n",
       "      <td>0</td>\n",
       "      <td>0</td>\n",
       "      <td>0</td>\n",
       "    </tr>\n",
       "  </tbody>\n",
       "</table>\n",
       "</div>"
      ],
      "text/plain": [
       "   customerID  SeniorCitizen  Partner  Dependents  gender_Male\n",
       "0  7590-VHVEG              0        1           0            0\n",
       "1  5575-GNVDE              0        0           0            1\n",
       "2  3668-QPYBK              0        0           0            1\n",
       "3  7795-CFOCW              0        0           0            1\n",
       "4  9237-HQITU              0        0           0            0"
      ]
     },
     "execution_count": 40,
     "metadata": {},
     "output_type": "execute_result"
    }
   ],
   "source": [
    "personal.head()"
   ]
  },
  {
   "cell_type": "code",
   "execution_count": 41,
   "metadata": {
    "colab": {
     "base_uri": "https://localhost:8080/",
     "height": 1000
    },
    "id": "B3GXT86xdUvb",
    "outputId": "8c496bd3-85bc-4af0-8bc4-1dc5ad9774a0"
   },
   "outputs": [
    {
     "name": "stdout",
     "output_type": "stream",
     "text": [
      "Диаграмма распределения SeniorCitizen\n"
     ]
    },
    {
     "data": {
      "image/png": "[encoded data removed]",
      "text/plain": [
       "<Figure size 432x288 with 1 Axes>"
      ]
     },
     "metadata": {
      "needs_background": "light"
     },
     "output_type": "display_data"
    },
    {
     "name": "stdout",
     "output_type": "stream",
     "text": [
      "Диаграмма распределения Partner\n"
     ]
    },
    {
     "data": {
      "image/png": "[encoded data removed]",
      "text/plain": [
       "<Figure size 432x288 with 1 Axes>"
      ]
     },
     "metadata": {
      "needs_background": "light"
     },
     "output_type": "display_data"
    },
    {
     "name": "stdout",
     "output_type": "stream",
     "text": [
      "Диаграмма распределения Dependents\n"
     ]
    },
    {
     "data": {
      "image/png": "[encoded data removed]",
      "text/plain": [
       "<Figure size 432x288 with 1 Axes>"
      ]
     },
     "metadata": {
      "needs_background": "light"
     },
     "output_type": "display_data"
    },
    {
     "name": "stdout",
     "output_type": "stream",
     "text": [
      "Диаграмма распределения gender_Male\n"
     ]
    },
    {
     "data": {
      "image/png": "[encoded data removed]",
      "text/plain": [
       "<Figure size 432x288 with 1 Axes>"
      ]
     },
     "metadata": {
      "needs_background": "light"
     },
     "output_type": "display_data"
    }
   ],
   "source": [
    "col_list=['SeniorCitizen','Partner','Dependents','gender_Male']\n",
    "for col in col_list:\n",
    "    print(f'Диаграмма распределения {col}')\n",
    "    personal[col].hist()\n",
    "    plt.xticks(rotation = 20)\n",
    "    plt.show()"
   ]
  },
  {
   "cell_type": "markdown",
   "metadata": {
    "id": "iFy5R5FedUvb"
   },
   "source": [
    "В файле с персональными данными страдает распределение признака с пенсионным статусом и признака с данными о наличии иждевенцев. В дальнейшем анализе необходимо будет проверить необходимость их наличия для обучения модели."
   ]
  },
  {
   "cell_type": "markdown",
   "metadata": {
    "id": "1oxtgz3wdUvb"
   },
   "source": [
    "**4) PHONE**"
   ]
  },
  {
   "cell_type": "code",
   "execution_count": 42,
   "metadata": {
    "colab": {
     "base_uri": "https://localhost:8080/",
     "height": 1000
    },
    "id": "oDhMi-wPdUvb",
    "outputId": "686f43ec-4580-4908-dc52-45e7d584f80b"
   },
   "outputs": [
    {
     "name": "stdout",
     "output_type": "stream",
     "text": [
      "\u001b[1mТаблица PHONE, информация об услугах телефонии.\u001b[0m\n",
      "\n",
      "Первые 10 строк таблицы:\n"
     ]
    },
    {
     "data": {
      "text/html": [
       "<div>\n",
       "<style scoped>\n",
       "    .dataframe tbody tr th:only-of-type {\n",
       "        vertical-align: middle;\n",
       "    }\n",
       "\n",
       "    .dataframe tbody tr th {\n",
       "        vertical-align: top;\n",
       "    }\n",
       "\n",
       "    .dataframe thead th {\n",
       "        text-align: right;\n",
       "    }\n",
       "</style>\n",
       "<table border=\"1\" class=\"dataframe\">\n",
       "  <thead>\n",
       "    <tr style=\"text-align: right;\">\n",
       "      <th></th>\n",
       "      <th>customerID</th>\n",
       "      <th>MultipleLines</th>\n",
       "    </tr>\n",
       "  </thead>\n",
       "  <tbody>\n",
       "    <tr>\n",
       "      <th>0</th>\n",
       "      <td>5575-GNVDE</td>\n",
       "      <td>No</td>\n",
       "    </tr>\n",
       "    <tr>\n",
       "      <th>1</th>\n",
       "      <td>3668-QPYBK</td>\n",
       "      <td>No</td>\n",
       "    </tr>\n",
       "    <tr>\n",
       "      <th>2</th>\n",
       "      <td>9237-HQITU</td>\n",
       "      <td>No</td>\n",
       "    </tr>\n",
       "    <tr>\n",
       "      <th>3</th>\n",
       "      <td>9305-CDSKC</td>\n",
       "      <td>Yes</td>\n",
       "    </tr>\n",
       "    <tr>\n",
       "      <th>4</th>\n",
       "      <td>1452-KIOVK</td>\n",
       "      <td>Yes</td>\n",
       "    </tr>\n",
       "    <tr>\n",
       "      <th>5</th>\n",
       "      <td>7892-POOKP</td>\n",
       "      <td>Yes</td>\n",
       "    </tr>\n",
       "    <tr>\n",
       "      <th>6</th>\n",
       "      <td>6388-TABGU</td>\n",
       "      <td>No</td>\n",
       "    </tr>\n",
       "    <tr>\n",
       "      <th>7</th>\n",
       "      <td>9763-GRSKD</td>\n",
       "      <td>No</td>\n",
       "    </tr>\n",
       "    <tr>\n",
       "      <th>8</th>\n",
       "      <td>7469-LKBCI</td>\n",
       "      <td>No</td>\n",
       "    </tr>\n",
       "    <tr>\n",
       "      <th>9</th>\n",
       "      <td>8091-TTVAX</td>\n",
       "      <td>Yes</td>\n",
       "    </tr>\n",
       "  </tbody>\n",
       "</table>\n",
       "</div>"
      ],
      "text/plain": [
       "   customerID MultipleLines\n",
       "0  5575-GNVDE            No\n",
       "1  3668-QPYBK            No\n",
       "2  9237-HQITU            No\n",
       "3  9305-CDSKC           Yes\n",
       "4  1452-KIOVK           Yes\n",
       "5  7892-POOKP           Yes\n",
       "6  6388-TABGU            No\n",
       "7  9763-GRSKD            No\n",
       "8  7469-LKBCI            No\n",
       "9  8091-TTVAX           Yes"
      ]
     },
     "metadata": {},
     "output_type": "display_data"
    },
    {
     "name": "stdout",
     "output_type": "stream",
     "text": [
      "Рандомные 10 строк таблицы:\n"
     ]
    },
    {
     "data": {
      "text/html": [
       "<div>\n",
       "<style scoped>\n",
       "    .dataframe tbody tr th:only-of-type {\n",
       "        vertical-align: middle;\n",
       "    }\n",
       "\n",
       "    .dataframe tbody tr th {\n",
       "        vertical-align: top;\n",
       "    }\n",
       "\n",
       "    .dataframe thead th {\n",
       "        text-align: right;\n",
       "    }\n",
       "</style>\n",
       "<table border=\"1\" class=\"dataframe\">\n",
       "  <thead>\n",
       "    <tr style=\"text-align: right;\">\n",
       "      <th></th>\n",
       "      <th>customerID</th>\n",
       "      <th>MultipleLines</th>\n",
       "    </tr>\n",
       "  </thead>\n",
       "  <tbody>\n",
       "    <tr>\n",
       "      <th>5732</th>\n",
       "      <td>4378-MYPGO</td>\n",
       "      <td>No</td>\n",
       "    </tr>\n",
       "    <tr>\n",
       "      <th>1549</th>\n",
       "      <td>6961-MJKBO</td>\n",
       "      <td>No</td>\n",
       "    </tr>\n",
       "    <tr>\n",
       "      <th>3687</th>\n",
       "      <td>1629-DQQVB</td>\n",
       "      <td>No</td>\n",
       "    </tr>\n",
       "    <tr>\n",
       "      <th>5678</th>\n",
       "      <td>4636-OLWOE</td>\n",
       "      <td>No</td>\n",
       "    </tr>\n",
       "    <tr>\n",
       "      <th>4358</th>\n",
       "      <td>7067-KSAZT</td>\n",
       "      <td>Yes</td>\n",
       "    </tr>\n",
       "    <tr>\n",
       "      <th>2968</th>\n",
       "      <td>4132-KALRO</td>\n",
       "      <td>Yes</td>\n",
       "    </tr>\n",
       "    <tr>\n",
       "      <th>2067</th>\n",
       "      <td>6204-IEUXJ</td>\n",
       "      <td>No</td>\n",
       "    </tr>\n",
       "    <tr>\n",
       "      <th>4262</th>\n",
       "      <td>3647-GMGDH</td>\n",
       "      <td>No</td>\n",
       "    </tr>\n",
       "    <tr>\n",
       "      <th>3689</th>\n",
       "      <td>3045-XETSH</td>\n",
       "      <td>Yes</td>\n",
       "    </tr>\n",
       "    <tr>\n",
       "      <th>6337</th>\n",
       "      <td>1471-GIQKQ</td>\n",
       "      <td>No</td>\n",
       "    </tr>\n",
       "  </tbody>\n",
       "</table>\n",
       "</div>"
      ],
      "text/plain": [
       "      customerID MultipleLines\n",
       "5732  4378-MYPGO            No\n",
       "1549  6961-MJKBO            No\n",
       "3687  1629-DQQVB            No\n",
       "5678  4636-OLWOE            No\n",
       "4358  7067-KSAZT           Yes\n",
       "2968  4132-KALRO           Yes\n",
       "2067  6204-IEUXJ            No\n",
       "4262  3647-GMGDH            No\n",
       "3689  3045-XETSH           Yes\n",
       "6337  1471-GIQKQ            No"
      ]
     },
     "metadata": {},
     "output_type": "display_data"
    },
    {
     "name": "stdout",
     "output_type": "stream",
     "text": [
      "Последние 10 строк таблицы:\n"
     ]
    },
    {
     "data": {
      "text/html": [
       "<div>\n",
       "<style scoped>\n",
       "    .dataframe tbody tr th:only-of-type {\n",
       "        vertical-align: middle;\n",
       "    }\n",
       "\n",
       "    .dataframe tbody tr th {\n",
       "        vertical-align: top;\n",
       "    }\n",
       "\n",
       "    .dataframe thead th {\n",
       "        text-align: right;\n",
       "    }\n",
       "</style>\n",
       "<table border=\"1\" class=\"dataframe\">\n",
       "  <thead>\n",
       "    <tr style=\"text-align: right;\">\n",
       "      <th></th>\n",
       "      <th>customerID</th>\n",
       "      <th>MultipleLines</th>\n",
       "    </tr>\n",
       "  </thead>\n",
       "  <tbody>\n",
       "    <tr>\n",
       "      <th>6351</th>\n",
       "      <td>3605-JISKB</td>\n",
       "      <td>Yes</td>\n",
       "    </tr>\n",
       "    <tr>\n",
       "      <th>6352</th>\n",
       "      <td>6894-LFHLY</td>\n",
       "      <td>Yes</td>\n",
       "    </tr>\n",
       "    <tr>\n",
       "      <th>6353</th>\n",
       "      <td>9767-FFLEM</td>\n",
       "      <td>No</td>\n",
       "    </tr>\n",
       "    <tr>\n",
       "      <th>6354</th>\n",
       "      <td>0639-TSIQW</td>\n",
       "      <td>Yes</td>\n",
       "    </tr>\n",
       "    <tr>\n",
       "      <th>6355</th>\n",
       "      <td>8456-QDAVC</td>\n",
       "      <td>No</td>\n",
       "    </tr>\n",
       "    <tr>\n",
       "      <th>6356</th>\n",
       "      <td>2569-WGERO</td>\n",
       "      <td>No</td>\n",
       "    </tr>\n",
       "    <tr>\n",
       "      <th>6357</th>\n",
       "      <td>6840-RESVB</td>\n",
       "      <td>Yes</td>\n",
       "    </tr>\n",
       "    <tr>\n",
       "      <th>6358</th>\n",
       "      <td>2234-XADUH</td>\n",
       "      <td>Yes</td>\n",
       "    </tr>\n",
       "    <tr>\n",
       "      <th>6359</th>\n",
       "      <td>8361-LTMKD</td>\n",
       "      <td>Yes</td>\n",
       "    </tr>\n",
       "    <tr>\n",
       "      <th>6360</th>\n",
       "      <td>3186-AJIEK</td>\n",
       "      <td>No</td>\n",
       "    </tr>\n",
       "  </tbody>\n",
       "</table>\n",
       "</div>"
      ],
      "text/plain": [
       "      customerID MultipleLines\n",
       "6351  3605-JISKB           Yes\n",
       "6352  6894-LFHLY           Yes\n",
       "6353  9767-FFLEM            No\n",
       "6354  0639-TSIQW           Yes\n",
       "6355  8456-QDAVC            No\n",
       "6356  2569-WGERO            No\n",
       "6357  6840-RESVB           Yes\n",
       "6358  2234-XADUH           Yes\n",
       "6359  8361-LTMKD           Yes\n",
       "6360  3186-AJIEK            No"
      ]
     },
     "metadata": {},
     "output_type": "display_data"
    },
    {
     "name": "stdout",
     "output_type": "stream",
     "text": [
      "Информация\n",
      "\n",
      "<class 'pandas.core.frame.DataFrame'>\n",
      "RangeIndex: 6361 entries, 0 to 6360\n",
      "Data columns (total 2 columns):\n",
      " #   Column         Non-Null Count  Dtype \n",
      "---  ------         --------------  ----- \n",
      " 0   customerID     6361 non-null   object\n",
      " 1   MultipleLines  6361 non-null   object\n",
      "dtypes: object(2)\n",
      "memory usage: 99.5+ KB\n",
      "None\n"
     ]
    }
   ],
   "source": [
    "info(phone, 'PHONE, информация об услугах телефонии.')"
   ]
  },
  {
   "cell_type": "code",
   "execution_count": 43,
   "metadata": {
    "id": "yKhqnpWGdUvb"
   },
   "outputs": [],
   "source": [
    "for i in ['MultipleLines']:\n",
    "    phone[i] = (phone[i] == 'Yes').astype('int8')"
   ]
  },
  {
   "cell_type": "code",
   "execution_count": 44,
   "metadata": {
    "colab": {
     "base_uri": "https://localhost:8080/",
     "height": 206
    },
    "id": "mMkoQJSJdUvb",
    "outputId": "2b0b0a35-63df-41dc-af94-2d7e1d400eb1"
   },
   "outputs": [
    {
     "data": {
      "text/html": [
       "<div>\n",
       "<style scoped>\n",
       "    .dataframe tbody tr th:only-of-type {\n",
       "        vertical-align: middle;\n",
       "    }\n",
       "\n",
       "    .dataframe tbody tr th {\n",
       "        vertical-align: top;\n",
       "    }\n",
       "\n",
       "    .dataframe thead th {\n",
       "        text-align: right;\n",
       "    }\n",
       "</style>\n",
       "<table border=\"1\" class=\"dataframe\">\n",
       "  <thead>\n",
       "    <tr style=\"text-align: right;\">\n",
       "      <th></th>\n",
       "      <th>customerID</th>\n",
       "      <th>MultipleLines</th>\n",
       "    </tr>\n",
       "  </thead>\n",
       "  <tbody>\n",
       "    <tr>\n",
       "      <th>0</th>\n",
       "      <td>5575-GNVDE</td>\n",
       "      <td>0</td>\n",
       "    </tr>\n",
       "    <tr>\n",
       "      <th>1</th>\n",
       "      <td>3668-QPYBK</td>\n",
       "      <td>0</td>\n",
       "    </tr>\n",
       "    <tr>\n",
       "      <th>2</th>\n",
       "      <td>9237-HQITU</td>\n",
       "      <td>0</td>\n",
       "    </tr>\n",
       "    <tr>\n",
       "      <th>3</th>\n",
       "      <td>9305-CDSKC</td>\n",
       "      <td>1</td>\n",
       "    </tr>\n",
       "    <tr>\n",
       "      <th>4</th>\n",
       "      <td>1452-KIOVK</td>\n",
       "      <td>1</td>\n",
       "    </tr>\n",
       "  </tbody>\n",
       "</table>\n",
       "</div>"
      ],
      "text/plain": [
       "   customerID  MultipleLines\n",
       "0  5575-GNVDE              0\n",
       "1  3668-QPYBK              0\n",
       "2  9237-HQITU              0\n",
       "3  9305-CDSKC              1\n",
       "4  1452-KIOVK              1"
      ]
     },
     "execution_count": 44,
     "metadata": {},
     "output_type": "execute_result"
    }
   ],
   "source": [
    "phone.head()"
   ]
  },
  {
   "cell_type": "code",
   "execution_count": 45,
   "metadata": {
    "colab": {
     "base_uri": "https://localhost:8080/",
     "height": 289
    },
    "id": "GqlsiW5idUvb",
    "outputId": "fb4d3e4e-83b4-42b4-b425-c946fe6fda6f"
   },
   "outputs": [
    {
     "name": "stdout",
     "output_type": "stream",
     "text": [
      "Диаграмма распределения MultipleLines\n"
     ]
    },
    {
     "data": {
      "image/png": "[encoded data removed]",
      "text/plain": [
       "<Figure size 432x288 with 1 Axes>"
      ]
     },
     "metadata": {
      "needs_background": "light"
     },
     "output_type": "display_data"
    }
   ],
   "source": [
    "col_list=['MultipleLines']\n",
    "for col in col_list:\n",
    "    print(f'Диаграмма распределения {col}')\n",
    "    phone[col].hist()\n",
    "    plt.xticks(rotation = 20)\n",
    "    plt.show()"
   ]
  },
  {
   "cell_type": "markdown",
   "metadata": {
    "id": "RkLgYmbVdUvc"
   },
   "source": [
    "Помимо таргета в таблицу CONTRACT можно добавить срок жизни клиента. Для этого вычтем `EndDate` из `BeginDate`, а в в случае действительных клиентов значение 'No' заменим на актуальную дату 1 февраля 2020."
   ]
  },
  {
   "cell_type": "code",
   "execution_count": 46,
   "metadata": {
    "id": "kcfyQw25dUvc"
   },
   "outputs": [],
   "source": [
    "contract['EndDateNew']=contract['EndDate']\n",
    "contract.loc[(contract['EndDateNew'] == 'No'), 'EndDateNew'] = '2020-02-01'\n",
    "contract['EndDateNew'] = pd.to_datetime(contract['EndDateNew'], format='%Y-%m-%d')"
   ]
  },
  {
   "cell_type": "code",
   "execution_count": 47,
   "metadata": {
    "id": "Kj9E6qQ-dUvc"
   },
   "outputs": [],
   "source": [
    "contract['lifespan']=(contract['EndDateNew']-contract['BeginDate']).dt.days"
   ]
  },
  {
   "cell_type": "code",
   "execution_count": 48,
   "metadata": {
    "id": "tcoklLPVdUvc"
   },
   "outputs": [],
   "source": [
    "contract=contract.drop('EndDateNew', axis=1)"
   ]
  },
  {
   "cell_type": "code",
   "execution_count": 49,
   "metadata": {
    "colab": {
     "base_uri": "https://localhost:8080/",
     "height": 206
    },
    "id": "rAqnnqSadUvc",
    "outputId": "8eadb809-9cb4-440c-e509-172d8fbbf3aa"
   },
   "outputs": [
    {
     "data": {
      "text/html": [
       "<div>\n",
       "<style scoped>\n",
       "    .dataframe tbody tr th:only-of-type {\n",
       "        vertical-align: middle;\n",
       "    }\n",
       "\n",
       "    .dataframe tbody tr th {\n",
       "        vertical-align: top;\n",
       "    }\n",
       "\n",
       "    .dataframe thead th {\n",
       "        text-align: right;\n",
       "    }\n",
       "</style>\n",
       "<table border=\"1\" class=\"dataframe\">\n",
       "  <thead>\n",
       "    <tr style=\"text-align: right;\">\n",
       "      <th></th>\n",
       "      <th>customerID</th>\n",
       "      <th>BeginDate</th>\n",
       "      <th>EndDate</th>\n",
       "      <th>Type</th>\n",
       "      <th>PaperlessBilling</th>\n",
       "      <th>PaymentMethod</th>\n",
       "      <th>MonthlyCharges</th>\n",
       "      <th>TotalCharges</th>\n",
       "      <th>churn</th>\n",
       "      <th>lifespan</th>\n",
       "    </tr>\n",
       "  </thead>\n",
       "  <tbody>\n",
       "    <tr>\n",
       "      <th>0</th>\n",
       "      <td>7590-VHVEG</td>\n",
       "      <td>2020-01-01</td>\n",
       "      <td>No</td>\n",
       "      <td>Month-to-month</td>\n",
       "      <td>1</td>\n",
       "      <td>Electronic check</td>\n",
       "      <td>29.85</td>\n",
       "      <td>29.85</td>\n",
       "      <td>0</td>\n",
       "      <td>31</td>\n",
       "    </tr>\n",
       "    <tr>\n",
       "      <th>1</th>\n",
       "      <td>5575-GNVDE</td>\n",
       "      <td>2017-04-01</td>\n",
       "      <td>No</td>\n",
       "      <td>One year</td>\n",
       "      <td>0</td>\n",
       "      <td>Mailed check</td>\n",
       "      <td>56.95</td>\n",
       "      <td>1889.50</td>\n",
       "      <td>0</td>\n",
       "      <td>1036</td>\n",
       "    </tr>\n",
       "    <tr>\n",
       "      <th>2</th>\n",
       "      <td>3668-QPYBK</td>\n",
       "      <td>2019-10-01</td>\n",
       "      <td>2019-12-01 00:00:00</td>\n",
       "      <td>Month-to-month</td>\n",
       "      <td>1</td>\n",
       "      <td>Mailed check</td>\n",
       "      <td>53.85</td>\n",
       "      <td>108.15</td>\n",
       "      <td>1</td>\n",
       "      <td>61</td>\n",
       "    </tr>\n",
       "    <tr>\n",
       "      <th>3</th>\n",
       "      <td>7795-CFOCW</td>\n",
       "      <td>2016-05-01</td>\n",
       "      <td>No</td>\n",
       "      <td>One year</td>\n",
       "      <td>0</td>\n",
       "      <td>Bank transfer (automatic)</td>\n",
       "      <td>42.30</td>\n",
       "      <td>1840.75</td>\n",
       "      <td>0</td>\n",
       "      <td>1371</td>\n",
       "    </tr>\n",
       "    <tr>\n",
       "      <th>4</th>\n",
       "      <td>9237-HQITU</td>\n",
       "      <td>2019-09-01</td>\n",
       "      <td>2019-11-01 00:00:00</td>\n",
       "      <td>Month-to-month</td>\n",
       "      <td>1</td>\n",
       "      <td>Electronic check</td>\n",
       "      <td>70.70</td>\n",
       "      <td>151.65</td>\n",
       "      <td>1</td>\n",
       "      <td>61</td>\n",
       "    </tr>\n",
       "  </tbody>\n",
       "</table>\n",
       "</div>"
      ],
      "text/plain": [
       "   customerID  BeginDate              EndDate            Type  \\\n",
       "0  7590-VHVEG 2020-01-01                   No  Month-to-month   \n",
       "1  5575-GNVDE 2017-04-01                   No        One year   \n",
       "2  3668-QPYBK 2019-10-01  2019-12-01 00:00:00  Month-to-month   \n",
       "3  7795-CFOCW 2016-05-01                   No        One year   \n",
       "4  9237-HQITU 2019-09-01  2019-11-01 00:00:00  Month-to-month   \n",
       "\n",
       "   PaperlessBilling              PaymentMethod  MonthlyCharges  TotalCharges  \\\n",
       "0                 1           Electronic check           29.85         29.85   \n",
       "1                 0               Mailed check           56.95       1889.50   \n",
       "2                 1               Mailed check           53.85        108.15   \n",
       "3                 0  Bank transfer (automatic)           42.30       1840.75   \n",
       "4                 1           Electronic check           70.70        151.65   \n",
       "\n",
       "   churn  lifespan  \n",
       "0      0        31  \n",
       "1      0      1036  \n",
       "2      1        61  \n",
       "3      0      1371  \n",
       "4      1        61  "
      ]
     },
     "execution_count": 49,
     "metadata": {},
     "output_type": "execute_result"
    }
   ],
   "source": [
    "contract.head()"
   ]
  },
  {
   "cell_type": "code",
   "execution_count": 50,
   "metadata": {
    "colab": {
     "base_uri": "https://localhost:8080/",
     "height": 523
    },
    "id": "hKMtxX9VdUvc",
    "outputId": "64aabf1a-397b-4d28-c9d7-05b6c301780a"
   },
   "outputs": [
    {
     "data": {
      "text/html": [
       "<div>\n",
       "<style scoped>\n",
       "    .dataframe tbody tr th:only-of-type {\n",
       "        vertical-align: middle;\n",
       "    }\n",
       "\n",
       "    .dataframe tbody tr th {\n",
       "        vertical-align: top;\n",
       "    }\n",
       "\n",
       "    .dataframe thead th {\n",
       "        text-align: right;\n",
       "    }\n",
       "</style>\n",
       "<table border=\"1\" class=\"dataframe\">\n",
       "  <thead>\n",
       "    <tr style=\"text-align: right;\">\n",
       "      <th></th>\n",
       "      <th>customerID</th>\n",
       "      <th>BeginDate</th>\n",
       "      <th>EndDate</th>\n",
       "      <th>Type</th>\n",
       "      <th>PaperlessBilling</th>\n",
       "      <th>PaymentMethod</th>\n",
       "      <th>MonthlyCharges</th>\n",
       "      <th>TotalCharges</th>\n",
       "      <th>churn</th>\n",
       "      <th>lifespan</th>\n",
       "    </tr>\n",
       "  </thead>\n",
       "  <tbody>\n",
       "    <tr>\n",
       "      <th>0</th>\n",
       "      <td>7590-VHVEG</td>\n",
       "      <td>2020-01-01</td>\n",
       "      <td>No</td>\n",
       "      <td>Month-to-month</td>\n",
       "      <td>1</td>\n",
       "      <td>Electronic check</td>\n",
       "      <td>29.85</td>\n",
       "      <td>29.85</td>\n",
       "      <td>0</td>\n",
       "      <td>31</td>\n",
       "    </tr>\n",
       "    <tr>\n",
       "      <th>1</th>\n",
       "      <td>5575-GNVDE</td>\n",
       "      <td>2017-04-01</td>\n",
       "      <td>No</td>\n",
       "      <td>One year</td>\n",
       "      <td>0</td>\n",
       "      <td>Mailed check</td>\n",
       "      <td>56.95</td>\n",
       "      <td>1889.50</td>\n",
       "      <td>0</td>\n",
       "      <td>1036</td>\n",
       "    </tr>\n",
       "    <tr>\n",
       "      <th>2</th>\n",
       "      <td>3668-QPYBK</td>\n",
       "      <td>2019-10-01</td>\n",
       "      <td>2019-12-01 00:00:00</td>\n",
       "      <td>Month-to-month</td>\n",
       "      <td>1</td>\n",
       "      <td>Mailed check</td>\n",
       "      <td>53.85</td>\n",
       "      <td>108.15</td>\n",
       "      <td>1</td>\n",
       "      <td>61</td>\n",
       "    </tr>\n",
       "  </tbody>\n",
       "</table>\n",
       "</div>"
      ],
      "text/plain": [
       "   customerID  BeginDate              EndDate            Type  \\\n",
       "0  7590-VHVEG 2020-01-01                   No  Month-to-month   \n",
       "1  5575-GNVDE 2017-04-01                   No        One year   \n",
       "2  3668-QPYBK 2019-10-01  2019-12-01 00:00:00  Month-to-month   \n",
       "\n",
       "   PaperlessBilling     PaymentMethod  MonthlyCharges  TotalCharges  churn  \\\n",
       "0                 1  Electronic check           29.85         29.85      0   \n",
       "1                 0      Mailed check           56.95       1889.50      0   \n",
       "2                 1      Mailed check           53.85        108.15      1   \n",
       "\n",
       "   lifespan  \n",
       "0        31  \n",
       "1      1036  \n",
       "2        61  "
      ]
     },
     "metadata": {},
     "output_type": "display_data"
    },
    {
     "data": {
      "text/html": [
       "<div>\n",
       "<style scoped>\n",
       "    .dataframe tbody tr th:only-of-type {\n",
       "        vertical-align: middle;\n",
       "    }\n",
       "\n",
       "    .dataframe tbody tr th {\n",
       "        vertical-align: top;\n",
       "    }\n",
       "\n",
       "    .dataframe thead th {\n",
       "        text-align: right;\n",
       "    }\n",
       "</style>\n",
       "<table border=\"1\" class=\"dataframe\">\n",
       "  <thead>\n",
       "    <tr style=\"text-align: right;\">\n",
       "      <th></th>\n",
       "      <th>customerID</th>\n",
       "      <th>SeniorCitizen</th>\n",
       "      <th>Partner</th>\n",
       "      <th>Dependents</th>\n",
       "      <th>gender_Male</th>\n",
       "    </tr>\n",
       "  </thead>\n",
       "  <tbody>\n",
       "    <tr>\n",
       "      <th>0</th>\n",
       "      <td>7590-VHVEG</td>\n",
       "      <td>0</td>\n",
       "      <td>1</td>\n",
       "      <td>0</td>\n",
       "      <td>0</td>\n",
       "    </tr>\n",
       "    <tr>\n",
       "      <th>1</th>\n",
       "      <td>5575-GNVDE</td>\n",
       "      <td>0</td>\n",
       "      <td>0</td>\n",
       "      <td>0</td>\n",
       "      <td>1</td>\n",
       "    </tr>\n",
       "    <tr>\n",
       "      <th>2</th>\n",
       "      <td>3668-QPYBK</td>\n",
       "      <td>0</td>\n",
       "      <td>0</td>\n",
       "      <td>0</td>\n",
       "      <td>1</td>\n",
       "    </tr>\n",
       "  </tbody>\n",
       "</table>\n",
       "</div>"
      ],
      "text/plain": [
       "   customerID  SeniorCitizen  Partner  Dependents  gender_Male\n",
       "0  7590-VHVEG              0        1           0            0\n",
       "1  5575-GNVDE              0        0           0            1\n",
       "2  3668-QPYBK              0        0           0            1"
      ]
     },
     "metadata": {},
     "output_type": "display_data"
    },
    {
     "data": {
      "text/html": [
       "<div>\n",
       "<style scoped>\n",
       "    .dataframe tbody tr th:only-of-type {\n",
       "        vertical-align: middle;\n",
       "    }\n",
       "\n",
       "    .dataframe tbody tr th {\n",
       "        vertical-align: top;\n",
       "    }\n",
       "\n",
       "    .dataframe thead th {\n",
       "        text-align: right;\n",
       "    }\n",
       "</style>\n",
       "<table border=\"1\" class=\"dataframe\">\n",
       "  <thead>\n",
       "    <tr style=\"text-align: right;\">\n",
       "      <th></th>\n",
       "      <th>customerID</th>\n",
       "      <th>OnlineSecurity</th>\n",
       "      <th>OnlineBackup</th>\n",
       "      <th>DeviceProtection</th>\n",
       "      <th>TechSupport</th>\n",
       "      <th>StreamingTV</th>\n",
       "      <th>StreamingMovies</th>\n",
       "      <th>DLS</th>\n",
       "    </tr>\n",
       "  </thead>\n",
       "  <tbody>\n",
       "    <tr>\n",
       "      <th>0</th>\n",
       "      <td>7590-VHVEG</td>\n",
       "      <td>0</td>\n",
       "      <td>1</td>\n",
       "      <td>0</td>\n",
       "      <td>0</td>\n",
       "      <td>0</td>\n",
       "      <td>0</td>\n",
       "      <td>1</td>\n",
       "    </tr>\n",
       "    <tr>\n",
       "      <th>1</th>\n",
       "      <td>5575-GNVDE</td>\n",
       "      <td>1</td>\n",
       "      <td>0</td>\n",
       "      <td>1</td>\n",
       "      <td>0</td>\n",
       "      <td>0</td>\n",
       "      <td>0</td>\n",
       "      <td>1</td>\n",
       "    </tr>\n",
       "    <tr>\n",
       "      <th>2</th>\n",
       "      <td>3668-QPYBK</td>\n",
       "      <td>1</td>\n",
       "      <td>1</td>\n",
       "      <td>0</td>\n",
       "      <td>0</td>\n",
       "      <td>0</td>\n",
       "      <td>0</td>\n",
       "      <td>1</td>\n",
       "    </tr>\n",
       "  </tbody>\n",
       "</table>\n",
       "</div>"
      ],
      "text/plain": [
       "   customerID  OnlineSecurity  OnlineBackup  DeviceProtection  TechSupport  \\\n",
       "0  7590-VHVEG               0             1                 0            0   \n",
       "1  5575-GNVDE               1             0                 1            0   \n",
       "2  3668-QPYBK               1             1                 0            0   \n",
       "\n",
       "   StreamingTV  StreamingMovies  DLS  \n",
       "0            0                0    1  \n",
       "1            0                0    1  \n",
       "2            0                0    1  "
      ]
     },
     "metadata": {},
     "output_type": "display_data"
    },
    {
     "data": {
      "text/html": [
       "<div>\n",
       "<style scoped>\n",
       "    .dataframe tbody tr th:only-of-type {\n",
       "        vertical-align: middle;\n",
       "    }\n",
       "\n",
       "    .dataframe tbody tr th {\n",
       "        vertical-align: top;\n",
       "    }\n",
       "\n",
       "    .dataframe thead th {\n",
       "        text-align: right;\n",
       "    }\n",
       "</style>\n",
       "<table border=\"1\" class=\"dataframe\">\n",
       "  <thead>\n",
       "    <tr style=\"text-align: right;\">\n",
       "      <th></th>\n",
       "      <th>customerID</th>\n",
       "      <th>MultipleLines</th>\n",
       "    </tr>\n",
       "  </thead>\n",
       "  <tbody>\n",
       "    <tr>\n",
       "      <th>0</th>\n",
       "      <td>5575-GNVDE</td>\n",
       "      <td>0</td>\n",
       "    </tr>\n",
       "    <tr>\n",
       "      <th>1</th>\n",
       "      <td>3668-QPYBK</td>\n",
       "      <td>0</td>\n",
       "    </tr>\n",
       "    <tr>\n",
       "      <th>2</th>\n",
       "      <td>9237-HQITU</td>\n",
       "      <td>0</td>\n",
       "    </tr>\n",
       "  </tbody>\n",
       "</table>\n",
       "</div>"
      ],
      "text/plain": [
       "   customerID  MultipleLines\n",
       "0  5575-GNVDE              0\n",
       "1  3668-QPYBK              0\n",
       "2  9237-HQITU              0"
      ]
     },
     "metadata": {},
     "output_type": "display_data"
    }
   ],
   "source": [
    "data_list = [contract, personal, internet, phone]\n",
    "for i in data_list:\n",
    "    display(i.head(3))"
   ]
  },
  {
   "cell_type": "markdown",
   "metadata": {
    "id": "crehVMwbdUvc"
   },
   "source": [
    "Загрузили и открыли даблицы, закодировали бинарные признаки, изменили типы данных (datetime и float), создали таргет(`churn`) и признак `lifespan` - продолжительность пользования услугами."
   ]
  },
  {
   "cell_type": "markdown",
   "metadata": {
    "id": "ujKNQdZ9dUvd"
   },
   "source": [
    "## Исследовательский анализ."
   ]
  },
  {
   "cell_type": "code",
   "execution_count": 51,
   "metadata": {
    "colab": {
     "base_uri": "https://localhost:8080/"
    },
    "id": "I85T9NFydUvd",
    "outputId": "391fde89-1978-4e26-b2da-bcf3fff93c81"
   },
   "outputs": [
    {
     "name": "stdout",
     "output_type": "stream",
     "text": [
      "Процент ушедших клиентов от всех: 26.58 %\n"
     ]
    }
   ],
   "source": [
    "print('Процент ушедших клиентов от всех:', round(((len(contract.query('churn == 1'))/contract.shape[0])*100), 2),'%')"
   ]
  },
  {
   "cell_type": "code",
   "execution_count": 52,
   "metadata": {
    "colab": {
     "base_uri": "https://localhost:8080/",
     "height": 404
    },
    "id": "qjx0sI2SdUvd",
    "outputId": "43ff084f-4977-455a-b765-1cf7e521ef51",
    "scrolled": false
   },
   "outputs": [
    {
     "data": {
      "image/png": "[encoded data removed]",
      "text/plain": [
       "<Figure size 720x432 with 1 Axes>"
      ]
     },
     "metadata": {
      "needs_background": "light"
     },
     "output_type": "display_data"
    }
   ],
   "source": [
    "plt.figure(figsize=(10,6))\n",
    "contract.query('churn == 1')['BeginDate'].dt.year.plot(kind='hist', bins=30, grid=True)\n",
    "plt.title('Гистограмма оттока клиентов по году подключения')\n",
    "plt.xlabel('Год подключения')\n",
    "plt.ylabel('Количество ушедших клиентов')\n",
    "plt.show()"
   ]
  },
  {
   "cell_type": "code",
   "execution_count": 53,
   "metadata": {
    "colab": {
     "base_uri": "https://localhost:8080/"
    },
    "id": "jPK4Vn5FdUvd",
    "outputId": "fe340c1f-47ec-442a-83bd-9fa8e539421b"
   },
   "outputs": [
    {
     "data": {
      "text/plain": [
       "No                     5163\n",
       "2019-11-01 00:00:00     485\n",
       "2019-12-01 00:00:00     466\n",
       "2020-01-01 00:00:00     460\n",
       "2019-10-01 00:00:00     458\n",
       "Name: EndDate, dtype: int64"
      ]
     },
     "execution_count": 53,
     "metadata": {},
     "output_type": "execute_result"
    }
   ],
   "source": [
    "contract['EndDate'].value_counts()"
   ]
  },
  {
   "cell_type": "markdown",
   "metadata": {
    "id": "SHolbiIGdUvd"
   },
   "source": [
    "По таблице и подсчету значений видим, что сильный отток клиентов начался в последние четыре месяца (более 20 процентов покинули компанию за этот срок), и особенно активно уходят недавно подключившиеся пользователи."
   ]
  },
  {
   "cell_type": "code",
   "execution_count": 54,
   "metadata": {
    "colab": {
     "base_uri": "https://localhost:8080/",
     "height": 445
    },
    "id": "aTwIrwGbdUvd",
    "outputId": "31580fff-3de1-40c1-b219-1110fe28ff67"
   },
   "outputs": [
    {
     "data": {
      "text/plain": [
       "<AxesSubplot:xlabel='lifespan', ylabel='Density'>"
      ]
     },
     "execution_count": 54,
     "metadata": {},
     "output_type": "execute_result"
    },
    {
     "data": {
      "image/png": "[encoded data removed]",
      "text/plain": [
       "<Figure size 640x480 with 1 Axes>"
      ]
     },
     "metadata": {
      "needs_background": "light"
     },
     "output_type": "display_data"
    }
   ],
   "source": [
    "plt.figure(figsize=(8, 6), dpi=80)\n",
    "sns.distplot(contract['lifespan'], bins=30)"
   ]
  },
  {
   "cell_type": "markdown",
   "metadata": {
    "id": "_NlRQGMndUve"
   },
   "source": [
    "Как видно, много клиентов уходят в течение 1-2x месяцев после подключения."
   ]
  },
  {
   "cell_type": "markdown",
   "metadata": {
    "id": "w0l3rCfWdUve"
   },
   "source": [
    "### Объединение таблиц. "
   ]
  },
  {
   "cell_type": "code",
   "execution_count": 55,
   "metadata": {
    "colab": {
     "base_uri": "https://localhost:8080/"
    },
    "id": "d1qR52EqdUve",
    "outputId": "0f1e2153-e92a-4d28-96ff-a0d23eb8811e"
   },
   "outputs": [
    {
     "name": "stdout",
     "output_type": "stream",
     "text": [
      "<class 'pandas.core.frame.DataFrame'>\n",
      "Int64Index: 7032 entries, 0 to 7031\n",
      "Data columns (total 14 columns):\n",
      " #   Column            Non-Null Count  Dtype         \n",
      "---  ------            --------------  -----         \n",
      " 0   customerID        7032 non-null   object        \n",
      " 1   BeginDate         7032 non-null   datetime64[ns]\n",
      " 2   EndDate           7032 non-null   object        \n",
      " 3   Type              7032 non-null   object        \n",
      " 4   PaperlessBilling  7032 non-null   int64         \n",
      " 5   PaymentMethod     7032 non-null   object        \n",
      " 6   MonthlyCharges    7032 non-null   float64       \n",
      " 7   TotalCharges      7032 non-null   float64       \n",
      " 8   churn             7032 non-null   int64         \n",
      " 9   lifespan          7032 non-null   int64         \n",
      " 10  SeniorCitizen     7032 non-null   int64         \n",
      " 11  Partner           7032 non-null   int8          \n",
      " 12  Dependents        7032 non-null   int8          \n",
      " 13  gender_Male       7032 non-null   uint8         \n",
      "dtypes: datetime64[ns](1), float64(2), int64(4), int8(2), object(4), uint8(1)\n",
      "memory usage: 679.9+ KB\n"
     ]
    }
   ],
   "source": [
    "df_total = contract.merge(personal, on=['customerID'], how='left')\n",
    "df_total.info()"
   ]
  },
  {
   "cell_type": "markdown",
   "metadata": {
    "id": "GPke-7esdUve"
   },
   "source": [
    "Далее будем присоединять таблицы с информацией об интернет-услугах  услугах телефонии. Так как не все пользователи использовали данные услуги, пропуски вобъединенной таблице будем заменять на -1, что будет означать отсутствие подключенной услуги."
   ]
  },
  {
   "cell_type": "code",
   "execution_count": 56,
   "metadata": {
    "colab": {
     "base_uri": "https://localhost:8080/"
    },
    "id": "FtxIlQ2_dUve",
    "outputId": "47725c35-fd6d-4582-9c8a-b1ebbdc0ebcb"
   },
   "outputs": [
    {
     "name": "stdout",
     "output_type": "stream",
     "text": [
      "<class 'pandas.core.frame.DataFrame'>\n",
      "Int64Index: 7032 entries, 0 to 7031\n",
      "Data columns (total 22 columns):\n",
      " #   Column            Non-Null Count  Dtype         \n",
      "---  ------            --------------  -----         \n",
      " 0   customerID        7032 non-null   object        \n",
      " 1   BeginDate         7032 non-null   datetime64[ns]\n",
      " 2   EndDate           7032 non-null   object        \n",
      " 3   Type              7032 non-null   object        \n",
      " 4   PaperlessBilling  7032 non-null   int64         \n",
      " 5   PaymentMethod     7032 non-null   object        \n",
      " 6   MonthlyCharges    7032 non-null   float64       \n",
      " 7   TotalCharges      7032 non-null   float64       \n",
      " 8   churn             7032 non-null   int64         \n",
      " 9   lifespan          7032 non-null   int64         \n",
      " 10  SeniorCitizen     7032 non-null   int64         \n",
      " 11  Partner           7032 non-null   int8          \n",
      " 12  Dependents        7032 non-null   int8          \n",
      " 13  gender_Male       7032 non-null   uint8         \n",
      " 14  OnlineSecurity    7032 non-null   float64       \n",
      " 15  OnlineBackup      7032 non-null   float64       \n",
      " 16  DeviceProtection  7032 non-null   float64       \n",
      " 17  TechSupport       7032 non-null   float64       \n",
      " 18  StreamingTV       7032 non-null   float64       \n",
      " 19  StreamingMovies   7032 non-null   float64       \n",
      " 20  DLS               7032 non-null   float64       \n",
      " 21  MultipleLines     7032 non-null   float64       \n",
      "dtypes: datetime64[ns](1), float64(10), int64(4), int8(2), object(4), uint8(1)\n",
      "memory usage: 1.1+ MB\n"
     ]
    }
   ],
   "source": [
    "df_total = pd.merge(df_total, internet, on ='customerID', how= 'left')\n",
    "df_total = pd.merge(df_total, phone, on ='customerID', how= 'left')\n",
    "df_total = df_total.fillna(-1)\n",
    "df_total.info()"
   ]
  },
  {
   "cell_type": "code",
   "execution_count": 57,
   "metadata": {
    "id": "b3cP6wA7dUve"
   },
   "outputs": [],
   "source": [
    "for col in ['OnlineSecurity', 'OnlineBackup',\n",
    "            'DeviceProtection',\n",
    "            'TechSupport',\n",
    "            'StreamingTV',\n",
    "            'StreamingMovies',\n",
    "            'DLS',\n",
    "            'MultipleLines']:\n",
    "    df_total[col] = df_total[col].astype('int8')"
   ]
  },
  {
   "cell_type": "code",
   "execution_count": 58,
   "metadata": {
    "colab": {
     "base_uri": "https://localhost:8080/",
     "height": 236
    },
    "id": "EX7h_pmrdUvf",
    "outputId": "7fa6f180-0da8-4357-cecd-d4507f5d90cf"
   },
   "outputs": [
    {
     "data": {
      "text/html": [
       "<div>\n",
       "<style scoped>\n",
       "    .dataframe tbody tr th:only-of-type {\n",
       "        vertical-align: middle;\n",
       "    }\n",
       "\n",
       "    .dataframe tbody tr th {\n",
       "        vertical-align: top;\n",
       "    }\n",
       "\n",
       "    .dataframe thead th {\n",
       "        text-align: right;\n",
       "    }\n",
       "</style>\n",
       "<table border=\"1\" class=\"dataframe\">\n",
       "  <thead>\n",
       "    <tr style=\"text-align: right;\">\n",
       "      <th></th>\n",
       "      <th>customerID</th>\n",
       "      <th>BeginDate</th>\n",
       "      <th>EndDate</th>\n",
       "      <th>Type</th>\n",
       "      <th>PaperlessBilling</th>\n",
       "      <th>PaymentMethod</th>\n",
       "      <th>MonthlyCharges</th>\n",
       "      <th>TotalCharges</th>\n",
       "      <th>churn</th>\n",
       "      <th>lifespan</th>\n",
       "      <th>...</th>\n",
       "      <th>Dependents</th>\n",
       "      <th>gender_Male</th>\n",
       "      <th>OnlineSecurity</th>\n",
       "      <th>OnlineBackup</th>\n",
       "      <th>DeviceProtection</th>\n",
       "      <th>TechSupport</th>\n",
       "      <th>StreamingTV</th>\n",
       "      <th>StreamingMovies</th>\n",
       "      <th>DLS</th>\n",
       "      <th>MultipleLines</th>\n",
       "    </tr>\n",
       "  </thead>\n",
       "  <tbody>\n",
       "    <tr>\n",
       "      <th>0</th>\n",
       "      <td>7590-VHVEG</td>\n",
       "      <td>2020-01-01</td>\n",
       "      <td>No</td>\n",
       "      <td>Month-to-month</td>\n",
       "      <td>1</td>\n",
       "      <td>Electronic check</td>\n",
       "      <td>29.85</td>\n",
       "      <td>29.85</td>\n",
       "      <td>0</td>\n",
       "      <td>31</td>\n",
       "      <td>...</td>\n",
       "      <td>0</td>\n",
       "      <td>0</td>\n",
       "      <td>0</td>\n",
       "      <td>1</td>\n",
       "      <td>0</td>\n",
       "      <td>0</td>\n",
       "      <td>0</td>\n",
       "      <td>0</td>\n",
       "      <td>1</td>\n",
       "      <td>-1</td>\n",
       "    </tr>\n",
       "    <tr>\n",
       "      <th>1</th>\n",
       "      <td>5575-GNVDE</td>\n",
       "      <td>2017-04-01</td>\n",
       "      <td>No</td>\n",
       "      <td>One year</td>\n",
       "      <td>0</td>\n",
       "      <td>Mailed check</td>\n",
       "      <td>56.95</td>\n",
       "      <td>1889.50</td>\n",
       "      <td>0</td>\n",
       "      <td>1036</td>\n",
       "      <td>...</td>\n",
       "      <td>0</td>\n",
       "      <td>1</td>\n",
       "      <td>1</td>\n",
       "      <td>0</td>\n",
       "      <td>1</td>\n",
       "      <td>0</td>\n",
       "      <td>0</td>\n",
       "      <td>0</td>\n",
       "      <td>1</td>\n",
       "      <td>0</td>\n",
       "    </tr>\n",
       "    <tr>\n",
       "      <th>2</th>\n",
       "      <td>3668-QPYBK</td>\n",
       "      <td>2019-10-01</td>\n",
       "      <td>2019-12-01 00:00:00</td>\n",
       "      <td>Month-to-month</td>\n",
       "      <td>1</td>\n",
       "      <td>Mailed check</td>\n",
       "      <td>53.85</td>\n",
       "      <td>108.15</td>\n",
       "      <td>1</td>\n",
       "      <td>61</td>\n",
       "      <td>...</td>\n",
       "      <td>0</td>\n",
       "      <td>1</td>\n",
       "      <td>1</td>\n",
       "      <td>1</td>\n",
       "      <td>0</td>\n",
       "      <td>0</td>\n",
       "      <td>0</td>\n",
       "      <td>0</td>\n",
       "      <td>1</td>\n",
       "      <td>0</td>\n",
       "    </tr>\n",
       "    <tr>\n",
       "      <th>3</th>\n",
       "      <td>7795-CFOCW</td>\n",
       "      <td>2016-05-01</td>\n",
       "      <td>No</td>\n",
       "      <td>One year</td>\n",
       "      <td>0</td>\n",
       "      <td>Bank transfer (automatic)</td>\n",
       "      <td>42.30</td>\n",
       "      <td>1840.75</td>\n",
       "      <td>0</td>\n",
       "      <td>1371</td>\n",
       "      <td>...</td>\n",
       "      <td>0</td>\n",
       "      <td>1</td>\n",
       "      <td>1</td>\n",
       "      <td>0</td>\n",
       "      <td>1</td>\n",
       "      <td>1</td>\n",
       "      <td>0</td>\n",
       "      <td>0</td>\n",
       "      <td>1</td>\n",
       "      <td>-1</td>\n",
       "    </tr>\n",
       "    <tr>\n",
       "      <th>4</th>\n",
       "      <td>9237-HQITU</td>\n",
       "      <td>2019-09-01</td>\n",
       "      <td>2019-11-01 00:00:00</td>\n",
       "      <td>Month-to-month</td>\n",
       "      <td>1</td>\n",
       "      <td>Electronic check</td>\n",
       "      <td>70.70</td>\n",
       "      <td>151.65</td>\n",
       "      <td>1</td>\n",
       "      <td>61</td>\n",
       "      <td>...</td>\n",
       "      <td>0</td>\n",
       "      <td>0</td>\n",
       "      <td>0</td>\n",
       "      <td>0</td>\n",
       "      <td>0</td>\n",
       "      <td>0</td>\n",
       "      <td>0</td>\n",
       "      <td>0</td>\n",
       "      <td>0</td>\n",
       "      <td>0</td>\n",
       "    </tr>\n",
       "  </tbody>\n",
       "</table>\n",
       "<p>5 rows × 22 columns</p>\n",
       "</div>"
      ],
      "text/plain": [
       "   customerID  BeginDate              EndDate            Type  \\\n",
       "0  7590-VHVEG 2020-01-01                   No  Month-to-month   \n",
       "1  5575-GNVDE 2017-04-01                   No        One year   \n",
       "2  3668-QPYBK 2019-10-01  2019-12-01 00:00:00  Month-to-month   \n",
       "3  7795-CFOCW 2016-05-01                   No        One year   \n",
       "4  9237-HQITU 2019-09-01  2019-11-01 00:00:00  Month-to-month   \n",
       "\n",
       "   PaperlessBilling              PaymentMethod  MonthlyCharges  TotalCharges  \\\n",
       "0                 1           Electronic check           29.85         29.85   \n",
       "1                 0               Mailed check           56.95       1889.50   \n",
       "2                 1               Mailed check           53.85        108.15   \n",
       "3                 0  Bank transfer (automatic)           42.30       1840.75   \n",
       "4                 1           Electronic check           70.70        151.65   \n",
       "\n",
       "   churn  lifespan  ...  Dependents  gender_Male  OnlineSecurity  \\\n",
       "0      0        31  ...           0            0               0   \n",
       "1      0      1036  ...           0            1               1   \n",
       "2      1        61  ...           0            1               1   \n",
       "3      0      1371  ...           0            1               1   \n",
       "4      1        61  ...           0            0               0   \n",
       "\n",
       "   OnlineBackup  DeviceProtection  TechSupport  StreamingTV  StreamingMovies  \\\n",
       "0             1                 0            0            0                0   \n",
       "1             0                 1            0            0                0   \n",
       "2             1                 0            0            0                0   \n",
       "3             0                 1            1            0                0   \n",
       "4             0                 0            0            0                0   \n",
       "\n",
       "   DLS  MultipleLines  \n",
       "0    1             -1  \n",
       "1    1              0  \n",
       "2    1              0  \n",
       "3    1             -1  \n",
       "4    0              0  \n",
       "\n",
       "[5 rows x 22 columns]"
      ]
     },
     "execution_count": 58,
     "metadata": {},
     "output_type": "execute_result"
    }
   ],
   "source": [
    "df_total.head()"
   ]
  },
  {
   "cell_type": "markdown",
   "metadata": {
    "id": "uNwyjuPadUvf"
   },
   "source": [
    "Посмотрим на зависимость ухода клиентов и типа оплаты:"
   ]
  },
  {
   "cell_type": "code",
   "execution_count": 59,
   "metadata": {
    "colab": {
     "base_uri": "https://localhost:8080/",
     "height": 337
    },
    "id": "NJXrgY-qdUvf",
    "outputId": "d76ccbca-0fdb-4d55-8aaf-c6de6c04c98e"
   },
   "outputs": [
    {
     "data": {
      "image/png": "[encoded data removed]",
      "text/plain": [
       "<Figure size 432x288 with 2 Axes>"
      ]
     },
     "metadata": {
      "needs_background": "light"
     },
     "output_type": "display_data"
    }
   ],
   "source": [
    "ax1=plt.subplot(1,2,1)\n",
    "ax3=plt.subplot(1,2,2)\n",
    "\n",
    "plot1=sns.countplot(x='Type', hue=\"churn\" , data=df_total, ax = ax1)\n",
    "plot1.set_title('Ушедшие(1) и оставшиеся(0) клиенты')\n",
    "plot1.set_ylabel('количество пользователей')\n",
    "plot2=sns.countplot(x='Type', data=df_total, ax = ax3)\n",
    "plot2.set_title('Общее количество клиентов')\n",
    "plot2.set_ylabel('количество пользователей')\n",
    "plt.subplots_adjust(top=1, bottom=0.1, left=0.10, right=1.5, hspace=1, wspace=0.4)\n",
    "\n",
    "plt.show()"
   ]
  },
  {
   "cell_type": "markdown",
   "metadata": {
    "id": "5DZJOhh8dUvf"
   },
   "source": [
    "Большинство ушедших клиентов выбирали помесячную оплату, и очень редко более долгие платежные обязательства. Но в целом ежемесячный тип оплаты является самым популярным среди клиентов."
   ]
  },
  {
   "cell_type": "code",
   "execution_count": 60,
   "metadata": {
    "colab": {
     "base_uri": "https://localhost:8080/",
     "height": 476
    },
    "id": "xxBVRUf2dUvf",
    "outputId": "2b52c75c-76f4-4c26-fcbf-4d2d464b4e8f"
   },
   "outputs": [
    {
     "data": {
      "image/png": "[encoded data removed]",
      "text/plain": [
       "<Figure size 640x480 with 1 Axes>"
      ]
     },
     "metadata": {
      "needs_background": "light"
     },
     "output_type": "display_data"
    }
   ],
   "source": [
    "plt.figure(figsize=(8, 6), dpi=80)\n",
    "sns.countplot(x='PaymentMethod', hue='churn', data=df_total)\n",
    "plt.xticks(rotation=20)\n",
    "plt.show()"
   ]
  },
  {
   "cell_type": "markdown",
   "metadata": {
    "id": "Q3OJFeKHdUvf"
   },
   "source": [
    "Отказавшиеся от услуг клиенты чаще выбирали оплату Electronic check. Вероятно, это связано с тем, что такая оплата не автоматическая, и у клиента есть возможно всегда отказаться от оплаты."
   ]
  },
  {
   "cell_type": "code",
   "execution_count": 61,
   "metadata": {
    "colab": {
     "base_uri": "https://localhost:8080/",
     "height": 297
    },
    "id": "1pl0pxqVdUvg",
    "outputId": "b4a8ff1f-07aa-4ba7-ec55-4ad0fb30ca2f",
    "scrolled": true
   },
   "outputs": [
    {
     "data": {
      "text/plain": [
       "<AxesSubplot:xlabel='DLS', ylabel='count'>"
      ]
     },
     "execution_count": 61,
     "metadata": {},
     "output_type": "execute_result"
    },
    {
     "data": {
      "image/png": "[encoded data removed]",
      "text/plain": [
       "<Figure size 432x288 with 1 Axes>"
      ]
     },
     "metadata": {
      "needs_background": "light"
     },
     "output_type": "display_data"
    }
   ],
   "source": [
    "sns.countplot(x='DLS', hue='churn', data=df_total)"
   ]
  },
  {
   "cell_type": "markdown",
   "metadata": {
    "id": "oRFl-7RTdUvg"
   },
   "source": [
    "Покинувшие компанию клиенты чаще использовали оптоволокно для подключения к интернету."
   ]
  },
  {
   "cell_type": "code",
   "execution_count": 62,
   "metadata": {
    "colab": {
     "base_uri": "https://localhost:8080/",
     "height": 297
    },
    "id": "TZuYNfOHdUvg",
    "outputId": "b2af26bb-ceef-4d87-b9a8-afdd435e550e"
   },
   "outputs": [
    {
     "data": {
      "text/plain": [
       "<AxesSubplot:xlabel='MultipleLines', ylabel='count'>"
      ]
     },
     "execution_count": 62,
     "metadata": {},
     "output_type": "execute_result"
    },
    {
     "data": {
      "image/png": "[encoded data removed]",
      "text/plain": [
       "<Figure size 432x288 with 1 Axes>"
      ]
     },
     "metadata": {
      "needs_background": "light"
     },
     "output_type": "display_data"
    }
   ],
   "source": [
    "sns.countplot(x='MultipleLines', hue='churn', data=df_total)"
   ]
  },
  {
   "cell_type": "markdown",
   "metadata": {
    "id": "Tr5LWbgidUvg"
   },
   "source": [
    "Как видно, ушедшие клиенты чаще пользовались интернетом и услугами телефонии, то есть от даты подключения до отказа от услуг у них была возможность попробовать предлагаемые планы компании."
   ]
  },
  {
   "cell_type": "markdown",
   "metadata": {
    "id": "3X4_Q8-UdUvg"
   },
   "source": [
    "### План."
   ]
  },
  {
   "cell_type": "markdown",
   "metadata": {
    "id": "70rIkuG1dUvg"
   },
   "source": [
    "1. Анализ и предобработка данных:\n",
    "   обработка дубликатов и пропусков, их обработка, изменение типов данных, кодирование бинароных принаков, выделение таргета, объединение таблиц в одну.\n",
    "2. Исследовательский анализ данных: сравнение распределения ежемесячных платежей и выплаченной суммы ушедших и всех клиентов, построение графиков для отображения зависимости целевого признака от типа оплаты и способа подключения к интернету, анализ жизненного цикла клиента.\n",
    "3. Подготовка к обучению: разделение на выборки, масштабирование количественных признаков, кодирование категориальных, удаление малоинформативных признаков. \n",
    "4. Обучение моделей: обучить и сравнить несколько моделей на кросс валидации, выбрать наилучший результат.\n",
    "5. Тестирование моделей: тестирование наилучшей модели.\n",
    "6. Общий вывод."
   ]
  },
  {
   "cell_type": "markdown",
   "metadata": {
    "id": "Zcd5_dmBdUvh"
   },
   "source": [
    "## Подготовка данных к обучению."
   ]
  },
  {
   "cell_type": "code",
   "execution_count": 63,
   "metadata": {
    "colab": {
     "base_uri": "https://localhost:8080/",
     "height": 236
    },
    "id": "2iSyXFYRdUvh",
    "outputId": "476758c8-9b9d-497f-f136-2dfb494618b3",
    "scrolled": true
   },
   "outputs": [
    {
     "data": {
      "text/html": [
       "<div>\n",
       "<style scoped>\n",
       "    .dataframe tbody tr th:only-of-type {\n",
       "        vertical-align: middle;\n",
       "    }\n",
       "\n",
       "    .dataframe tbody tr th {\n",
       "        vertical-align: top;\n",
       "    }\n",
       "\n",
       "    .dataframe thead th {\n",
       "        text-align: right;\n",
       "    }\n",
       "</style>\n",
       "<table border=\"1\" class=\"dataframe\">\n",
       "  <thead>\n",
       "    <tr style=\"text-align: right;\">\n",
       "      <th></th>\n",
       "      <th>customerID</th>\n",
       "      <th>BeginDate</th>\n",
       "      <th>EndDate</th>\n",
       "      <th>Type</th>\n",
       "      <th>PaperlessBilling</th>\n",
       "      <th>PaymentMethod</th>\n",
       "      <th>MonthlyCharges</th>\n",
       "      <th>TotalCharges</th>\n",
       "      <th>churn</th>\n",
       "      <th>lifespan</th>\n",
       "      <th>...</th>\n",
       "      <th>Dependents</th>\n",
       "      <th>gender_Male</th>\n",
       "      <th>OnlineSecurity</th>\n",
       "      <th>OnlineBackup</th>\n",
       "      <th>DeviceProtection</th>\n",
       "      <th>TechSupport</th>\n",
       "      <th>StreamingTV</th>\n",
       "      <th>StreamingMovies</th>\n",
       "      <th>DLS</th>\n",
       "      <th>MultipleLines</th>\n",
       "    </tr>\n",
       "  </thead>\n",
       "  <tbody>\n",
       "    <tr>\n",
       "      <th>0</th>\n",
       "      <td>7590-VHVEG</td>\n",
       "      <td>2020-01-01</td>\n",
       "      <td>No</td>\n",
       "      <td>Month-to-month</td>\n",
       "      <td>1</td>\n",
       "      <td>Electronic check</td>\n",
       "      <td>29.85</td>\n",
       "      <td>29.85</td>\n",
       "      <td>0</td>\n",
       "      <td>31</td>\n",
       "      <td>...</td>\n",
       "      <td>0</td>\n",
       "      <td>0</td>\n",
       "      <td>0</td>\n",
       "      <td>1</td>\n",
       "      <td>0</td>\n",
       "      <td>0</td>\n",
       "      <td>0</td>\n",
       "      <td>0</td>\n",
       "      <td>1</td>\n",
       "      <td>-1</td>\n",
       "    </tr>\n",
       "    <tr>\n",
       "      <th>1</th>\n",
       "      <td>5575-GNVDE</td>\n",
       "      <td>2017-04-01</td>\n",
       "      <td>No</td>\n",
       "      <td>One year</td>\n",
       "      <td>0</td>\n",
       "      <td>Mailed check</td>\n",
       "      <td>56.95</td>\n",
       "      <td>1889.50</td>\n",
       "      <td>0</td>\n",
       "      <td>1036</td>\n",
       "      <td>...</td>\n",
       "      <td>0</td>\n",
       "      <td>1</td>\n",
       "      <td>1</td>\n",
       "      <td>0</td>\n",
       "      <td>1</td>\n",
       "      <td>0</td>\n",
       "      <td>0</td>\n",
       "      <td>0</td>\n",
       "      <td>1</td>\n",
       "      <td>0</td>\n",
       "    </tr>\n",
       "    <tr>\n",
       "      <th>2</th>\n",
       "      <td>3668-QPYBK</td>\n",
       "      <td>2019-10-01</td>\n",
       "      <td>2019-12-01 00:00:00</td>\n",
       "      <td>Month-to-month</td>\n",
       "      <td>1</td>\n",
       "      <td>Mailed check</td>\n",
       "      <td>53.85</td>\n",
       "      <td>108.15</td>\n",
       "      <td>1</td>\n",
       "      <td>61</td>\n",
       "      <td>...</td>\n",
       "      <td>0</td>\n",
       "      <td>1</td>\n",
       "      <td>1</td>\n",
       "      <td>1</td>\n",
       "      <td>0</td>\n",
       "      <td>0</td>\n",
       "      <td>0</td>\n",
       "      <td>0</td>\n",
       "      <td>1</td>\n",
       "      <td>0</td>\n",
       "    </tr>\n",
       "    <tr>\n",
       "      <th>3</th>\n",
       "      <td>7795-CFOCW</td>\n",
       "      <td>2016-05-01</td>\n",
       "      <td>No</td>\n",
       "      <td>One year</td>\n",
       "      <td>0</td>\n",
       "      <td>Bank transfer (automatic)</td>\n",
       "      <td>42.30</td>\n",
       "      <td>1840.75</td>\n",
       "      <td>0</td>\n",
       "      <td>1371</td>\n",
       "      <td>...</td>\n",
       "      <td>0</td>\n",
       "      <td>1</td>\n",
       "      <td>1</td>\n",
       "      <td>0</td>\n",
       "      <td>1</td>\n",
       "      <td>1</td>\n",
       "      <td>0</td>\n",
       "      <td>0</td>\n",
       "      <td>1</td>\n",
       "      <td>-1</td>\n",
       "    </tr>\n",
       "    <tr>\n",
       "      <th>4</th>\n",
       "      <td>9237-HQITU</td>\n",
       "      <td>2019-09-01</td>\n",
       "      <td>2019-11-01 00:00:00</td>\n",
       "      <td>Month-to-month</td>\n",
       "      <td>1</td>\n",
       "      <td>Electronic check</td>\n",
       "      <td>70.70</td>\n",
       "      <td>151.65</td>\n",
       "      <td>1</td>\n",
       "      <td>61</td>\n",
       "      <td>...</td>\n",
       "      <td>0</td>\n",
       "      <td>0</td>\n",
       "      <td>0</td>\n",
       "      <td>0</td>\n",
       "      <td>0</td>\n",
       "      <td>0</td>\n",
       "      <td>0</td>\n",
       "      <td>0</td>\n",
       "      <td>0</td>\n",
       "      <td>0</td>\n",
       "    </tr>\n",
       "  </tbody>\n",
       "</table>\n",
       "<p>5 rows × 22 columns</p>\n",
       "</div>"
      ],
      "text/plain": [
       "   customerID  BeginDate              EndDate            Type  \\\n",
       "0  7590-VHVEG 2020-01-01                   No  Month-to-month   \n",
       "1  5575-GNVDE 2017-04-01                   No        One year   \n",
       "2  3668-QPYBK 2019-10-01  2019-12-01 00:00:00  Month-to-month   \n",
       "3  7795-CFOCW 2016-05-01                   No        One year   \n",
       "4  9237-HQITU 2019-09-01  2019-11-01 00:00:00  Month-to-month   \n",
       "\n",
       "   PaperlessBilling              PaymentMethod  MonthlyCharges  TotalCharges  \\\n",
       "0                 1           Electronic check           29.85         29.85   \n",
       "1                 0               Mailed check           56.95       1889.50   \n",
       "2                 1               Mailed check           53.85        108.15   \n",
       "3                 0  Bank transfer (automatic)           42.30       1840.75   \n",
       "4                 1           Electronic check           70.70        151.65   \n",
       "\n",
       "   churn  lifespan  ...  Dependents  gender_Male  OnlineSecurity  \\\n",
       "0      0        31  ...           0            0               0   \n",
       "1      0      1036  ...           0            1               1   \n",
       "2      1        61  ...           0            1               1   \n",
       "3      0      1371  ...           0            1               1   \n",
       "4      1        61  ...           0            0               0   \n",
       "\n",
       "   OnlineBackup  DeviceProtection  TechSupport  StreamingTV  StreamingMovies  \\\n",
       "0             1                 0            0            0                0   \n",
       "1             0                 1            0            0                0   \n",
       "2             1                 0            0            0                0   \n",
       "3             0                 1            1            0                0   \n",
       "4             0                 0            0            0                0   \n",
       "\n",
       "   DLS  MultipleLines  \n",
       "0    1             -1  \n",
       "1    1              0  \n",
       "2    1              0  \n",
       "3    1             -1  \n",
       "4    0              0  \n",
       "\n",
       "[5 rows x 22 columns]"
      ]
     },
     "execution_count": 63,
     "metadata": {},
     "output_type": "execute_result"
    }
   ],
   "source": [
    "df_total.head()"
   ]
  },
  {
   "cell_type": "markdown",
   "metadata": {
    "id": "CPmEhykhdUvh"
   },
   "source": [
    "Сразу видно, что можно удалить столбцы `customerID` и `BeginDate` c `EndDate`. Первый не информативен для модели, а два последних будут создавать утечку целевого признака, так как он был создан на их данных, как и признак `lifespan`."
   ]
  },
  {
   "cell_type": "code",
   "execution_count": 64,
   "metadata": {
    "colab": {
     "base_uri": "https://localhost:8080/",
     "height": 206
    },
    "id": "un6duTxedUvh",
    "outputId": "a1b9f182-38e2-425b-8072-d0bfd22e604d"
   },
   "outputs": [
    {
     "data": {
      "text/html": [
       "<div>\n",
       "<style scoped>\n",
       "    .dataframe tbody tr th:only-of-type {\n",
       "        vertical-align: middle;\n",
       "    }\n",
       "\n",
       "    .dataframe tbody tr th {\n",
       "        vertical-align: top;\n",
       "    }\n",
       "\n",
       "    .dataframe thead th {\n",
       "        text-align: right;\n",
       "    }\n",
       "</style>\n",
       "<table border=\"1\" class=\"dataframe\">\n",
       "  <thead>\n",
       "    <tr style=\"text-align: right;\">\n",
       "      <th></th>\n",
       "      <th>Type</th>\n",
       "      <th>PaperlessBilling</th>\n",
       "      <th>PaymentMethod</th>\n",
       "      <th>MonthlyCharges</th>\n",
       "      <th>TotalCharges</th>\n",
       "      <th>churn</th>\n",
       "      <th>lifespan</th>\n",
       "      <th>SeniorCitizen</th>\n",
       "      <th>Partner</th>\n",
       "      <th>Dependents</th>\n",
       "      <th>gender_Male</th>\n",
       "      <th>OnlineSecurity</th>\n",
       "      <th>OnlineBackup</th>\n",
       "      <th>DeviceProtection</th>\n",
       "      <th>TechSupport</th>\n",
       "      <th>StreamingTV</th>\n",
       "      <th>StreamingMovies</th>\n",
       "      <th>DLS</th>\n",
       "      <th>MultipleLines</th>\n",
       "    </tr>\n",
       "  </thead>\n",
       "  <tbody>\n",
       "    <tr>\n",
       "      <th>0</th>\n",
       "      <td>Month-to-month</td>\n",
       "      <td>1</td>\n",
       "      <td>Electronic check</td>\n",
       "      <td>29.85</td>\n",
       "      <td>29.85</td>\n",
       "      <td>0</td>\n",
       "      <td>31</td>\n",
       "      <td>0</td>\n",
       "      <td>1</td>\n",
       "      <td>0</td>\n",
       "      <td>0</td>\n",
       "      <td>0</td>\n",
       "      <td>1</td>\n",
       "      <td>0</td>\n",
       "      <td>0</td>\n",
       "      <td>0</td>\n",
       "      <td>0</td>\n",
       "      <td>1</td>\n",
       "      <td>-1</td>\n",
       "    </tr>\n",
       "    <tr>\n",
       "      <th>1</th>\n",
       "      <td>One year</td>\n",
       "      <td>0</td>\n",
       "      <td>Mailed check</td>\n",
       "      <td>56.95</td>\n",
       "      <td>1889.50</td>\n",
       "      <td>0</td>\n",
       "      <td>1036</td>\n",
       "      <td>0</td>\n",
       "      <td>0</td>\n",
       "      <td>0</td>\n",
       "      <td>1</td>\n",
       "      <td>1</td>\n",
       "      <td>0</td>\n",
       "      <td>1</td>\n",
       "      <td>0</td>\n",
       "      <td>0</td>\n",
       "      <td>0</td>\n",
       "      <td>1</td>\n",
       "      <td>0</td>\n",
       "    </tr>\n",
       "    <tr>\n",
       "      <th>2</th>\n",
       "      <td>Month-to-month</td>\n",
       "      <td>1</td>\n",
       "      <td>Mailed check</td>\n",
       "      <td>53.85</td>\n",
       "      <td>108.15</td>\n",
       "      <td>1</td>\n",
       "      <td>61</td>\n",
       "      <td>0</td>\n",
       "      <td>0</td>\n",
       "      <td>0</td>\n",
       "      <td>1</td>\n",
       "      <td>1</td>\n",
       "      <td>1</td>\n",
       "      <td>0</td>\n",
       "      <td>0</td>\n",
       "      <td>0</td>\n",
       "      <td>0</td>\n",
       "      <td>1</td>\n",
       "      <td>0</td>\n",
       "    </tr>\n",
       "    <tr>\n",
       "      <th>3</th>\n",
       "      <td>One year</td>\n",
       "      <td>0</td>\n",
       "      <td>Bank transfer (automatic)</td>\n",
       "      <td>42.30</td>\n",
       "      <td>1840.75</td>\n",
       "      <td>0</td>\n",
       "      <td>1371</td>\n",
       "      <td>0</td>\n",
       "      <td>0</td>\n",
       "      <td>0</td>\n",
       "      <td>1</td>\n",
       "      <td>1</td>\n",
       "      <td>0</td>\n",
       "      <td>1</td>\n",
       "      <td>1</td>\n",
       "      <td>0</td>\n",
       "      <td>0</td>\n",
       "      <td>1</td>\n",
       "      <td>-1</td>\n",
       "    </tr>\n",
       "    <tr>\n",
       "      <th>4</th>\n",
       "      <td>Month-to-month</td>\n",
       "      <td>1</td>\n",
       "      <td>Electronic check</td>\n",
       "      <td>70.70</td>\n",
       "      <td>151.65</td>\n",
       "      <td>1</td>\n",
       "      <td>61</td>\n",
       "      <td>0</td>\n",
       "      <td>0</td>\n",
       "      <td>0</td>\n",
       "      <td>0</td>\n",
       "      <td>0</td>\n",
       "      <td>0</td>\n",
       "      <td>0</td>\n",
       "      <td>0</td>\n",
       "      <td>0</td>\n",
       "      <td>0</td>\n",
       "      <td>0</td>\n",
       "      <td>0</td>\n",
       "    </tr>\n",
       "  </tbody>\n",
       "</table>\n",
       "</div>"
      ],
      "text/plain": [
       "             Type  PaperlessBilling              PaymentMethod  \\\n",
       "0  Month-to-month                 1           Electronic check   \n",
       "1        One year                 0               Mailed check   \n",
       "2  Month-to-month                 1               Mailed check   \n",
       "3        One year                 0  Bank transfer (automatic)   \n",
       "4  Month-to-month                 1           Electronic check   \n",
       "\n",
       "   MonthlyCharges  TotalCharges  churn  lifespan  SeniorCitizen  Partner  \\\n",
       "0           29.85         29.85      0        31              0        1   \n",
       "1           56.95       1889.50      0      1036              0        0   \n",
       "2           53.85        108.15      1        61              0        0   \n",
       "3           42.30       1840.75      0      1371              0        0   \n",
       "4           70.70        151.65      1        61              0        0   \n",
       "\n",
       "   Dependents  gender_Male  OnlineSecurity  OnlineBackup  DeviceProtection  \\\n",
       "0           0            0               0             1                 0   \n",
       "1           0            1               1             0                 1   \n",
       "2           0            1               1             1                 0   \n",
       "3           0            1               1             0                 1   \n",
       "4           0            0               0             0                 0   \n",
       "\n",
       "   TechSupport  StreamingTV  StreamingMovies  DLS  MultipleLines  \n",
       "0            0            0                0    1             -1  \n",
       "1            0            0                0    1              0  \n",
       "2            0            0                0    1              0  \n",
       "3            1            0                0    1             -1  \n",
       "4            0            0                0    0              0  "
      ]
     },
     "execution_count": 64,
     "metadata": {},
     "output_type": "execute_result"
    }
   ],
   "source": [
    "df_total=df_total.drop(['customerID', 'BeginDate', 'EndDate'], axis=1)\n",
    "df_total.head()"
   ]
  },
  {
   "cell_type": "code",
   "execution_count": 65,
   "metadata": {
    "colab": {
     "base_uri": "https://localhost:8080/",
     "height": 609
    },
    "id": "ggfWAjpndUvh",
    "outputId": "9c492ab1-acd4-40c5-c8eb-b5ab24c7d0fb"
   },
   "outputs": [
    {
     "data": {
      "image/png": "[encoded data removed]",
      "text/plain": [
       "<Figure size 720x720 with 2 Axes>"
      ]
     },
     "metadata": {
      "needs_background": "light"
     },
     "output_type": "display_data"
    }
   ],
   "source": [
    "fig, ax = plt.subplots(figsize=(10, 10))\n",
    "ax.set_title('Матрица корреляции количественных признаков', fontsize=15)\n",
    "sns.heatmap(df_total[['churn', 'MonthlyCharges', 'TotalCharges', 'lifespan']].corr(), cmap='RdPu', linewidths=.2, cbar=True, annot=True, ax=ax)\n",
    "plt.show()"
   ]
  },
  {
   "cell_type": "markdown",
   "metadata": {
    "id": "InH9bmUodUvh"
   },
   "source": [
    "Видим, что сильная корреляция наблюдается между продолжительностью жизни клиента `lifespan` и суммой всех выплат `TotalCharges`. Последний в свою очередь имеет корреляцию 0.65 с признаком `MonthlyCharges`. Признаки кажутся взаимозаменяемыми, проверим, так ли это."
   ]
  },
  {
   "cell_type": "code",
   "execution_count": 66,
   "metadata": {
    "colab": {
     "base_uri": "https://localhost:8080/",
     "height": 424
    },
    "id": "v1HJuluGdUvh",
    "outputId": "60076d1f-7c6e-456f-bea5-1fbef761a930"
   },
   "outputs": [
    {
     "data": {
      "text/html": [
       "<div>\n",
       "<style scoped>\n",
       "    .dataframe tbody tr th:only-of-type {\n",
       "        vertical-align: middle;\n",
       "    }\n",
       "\n",
       "    .dataframe tbody tr th {\n",
       "        vertical-align: top;\n",
       "    }\n",
       "\n",
       "    .dataframe thead th {\n",
       "        text-align: right;\n",
       "    }\n",
       "</style>\n",
       "<table border=\"1\" class=\"dataframe\">\n",
       "  <thead>\n",
       "    <tr style=\"text-align: right;\">\n",
       "      <th></th>\n",
       "      <th>month_count</th>\n",
       "      <th>MonthlyCharges</th>\n",
       "    </tr>\n",
       "  </thead>\n",
       "  <tbody>\n",
       "    <tr>\n",
       "      <th>0</th>\n",
       "      <td>29.85</td>\n",
       "      <td>29.85</td>\n",
       "    </tr>\n",
       "    <tr>\n",
       "      <th>1</th>\n",
       "      <td>56.54</td>\n",
       "      <td>56.95</td>\n",
       "    </tr>\n",
       "    <tr>\n",
       "      <th>2</th>\n",
       "      <td>54.96</td>\n",
       "      <td>53.85</td>\n",
       "    </tr>\n",
       "    <tr>\n",
       "      <th>3</th>\n",
       "      <td>41.62</td>\n",
       "      <td>42.30</td>\n",
       "    </tr>\n",
       "    <tr>\n",
       "      <th>4</th>\n",
       "      <td>77.07</td>\n",
       "      <td>70.70</td>\n",
       "    </tr>\n",
       "    <tr>\n",
       "      <th>...</th>\n",
       "      <td>...</td>\n",
       "      <td>...</td>\n",
       "    </tr>\n",
       "    <tr>\n",
       "      <th>7027</th>\n",
       "      <td>84.53</td>\n",
       "      <td>84.80</td>\n",
       "    </tr>\n",
       "    <tr>\n",
       "      <th>7028</th>\n",
       "      <td>104.18</td>\n",
       "      <td>103.20</td>\n",
       "    </tr>\n",
       "    <tr>\n",
       "      <th>7029</th>\n",
       "      <td>31.87</td>\n",
       "      <td>29.60</td>\n",
       "    </tr>\n",
       "    <tr>\n",
       "      <th>7030</th>\n",
       "      <td>77.27</td>\n",
       "      <td>74.40</td>\n",
       "    </tr>\n",
       "    <tr>\n",
       "      <th>7031</th>\n",
       "      <td>105.56</td>\n",
       "      <td>105.65</td>\n",
       "    </tr>\n",
       "  </tbody>\n",
       "</table>\n",
       "<p>7032 rows × 2 columns</p>\n",
       "</div>"
      ],
      "text/plain": [
       "      month_count  MonthlyCharges\n",
       "0           29.85           29.85\n",
       "1           56.54           56.95\n",
       "2           54.96           53.85\n",
       "3           41.62           42.30\n",
       "4           77.07           70.70\n",
       "...           ...             ...\n",
       "7027        84.53           84.80\n",
       "7028       104.18          103.20\n",
       "7029        31.87           29.60\n",
       "7030        77.27           74.40\n",
       "7031       105.56          105.65\n",
       "\n",
       "[7032 rows x 2 columns]"
      ]
     },
     "execution_count": 66,
     "metadata": {},
     "output_type": "execute_result"
    }
   ],
   "source": [
    "df_total['month_count'] = round(df_total['TotalCharges']/df_total['lifespan']*31, 2)\n",
    "df_total[['month_count', 'MonthlyCharges']]"
   ]
  },
  {
   "cell_type": "markdown",
   "metadata": {
    "id": "lG13SqOCdUvi"
   },
   "source": [
    "Наглядно убедились, что можно \"вытащить\" `TotalCharges` из помесячной оплаты и срока жизни клиента, поэтому ввиду его сильно корреляции удалим его. "
   ]
  },
  {
   "cell_type": "code",
   "execution_count": 67,
   "metadata": {
    "colab": {
     "base_uri": "https://localhost:8080/",
     "height": 143
    },
    "id": "elU6q8Z3dUvi",
    "outputId": "eeb27dec-2a6a-4a12-baff-ad44304ac7b6"
   },
   "outputs": [
    {
     "data": {
      "text/html": [
       "<div>\n",
       "<style scoped>\n",
       "    .dataframe tbody tr th:only-of-type {\n",
       "        vertical-align: middle;\n",
       "    }\n",
       "\n",
       "    .dataframe tbody tr th {\n",
       "        vertical-align: top;\n",
       "    }\n",
       "\n",
       "    .dataframe thead th {\n",
       "        text-align: right;\n",
       "    }\n",
       "</style>\n",
       "<table border=\"1\" class=\"dataframe\">\n",
       "  <thead>\n",
       "    <tr style=\"text-align: right;\">\n",
       "      <th></th>\n",
       "      <th>Type</th>\n",
       "      <th>PaperlessBilling</th>\n",
       "      <th>PaymentMethod</th>\n",
       "      <th>MonthlyCharges</th>\n",
       "      <th>churn</th>\n",
       "      <th>lifespan</th>\n",
       "      <th>SeniorCitizen</th>\n",
       "      <th>Partner</th>\n",
       "      <th>Dependents</th>\n",
       "      <th>gender_Male</th>\n",
       "      <th>OnlineSecurity</th>\n",
       "      <th>OnlineBackup</th>\n",
       "      <th>DeviceProtection</th>\n",
       "      <th>TechSupport</th>\n",
       "      <th>StreamingTV</th>\n",
       "      <th>StreamingMovies</th>\n",
       "      <th>DLS</th>\n",
       "      <th>MultipleLines</th>\n",
       "    </tr>\n",
       "  </thead>\n",
       "  <tbody>\n",
       "    <tr>\n",
       "      <th>0</th>\n",
       "      <td>Month-to-month</td>\n",
       "      <td>1</td>\n",
       "      <td>Electronic check</td>\n",
       "      <td>29.85</td>\n",
       "      <td>0</td>\n",
       "      <td>31</td>\n",
       "      <td>0</td>\n",
       "      <td>1</td>\n",
       "      <td>0</td>\n",
       "      <td>0</td>\n",
       "      <td>0</td>\n",
       "      <td>1</td>\n",
       "      <td>0</td>\n",
       "      <td>0</td>\n",
       "      <td>0</td>\n",
       "      <td>0</td>\n",
       "      <td>1</td>\n",
       "      <td>-1</td>\n",
       "    </tr>\n",
       "    <tr>\n",
       "      <th>1</th>\n",
       "      <td>One year</td>\n",
       "      <td>0</td>\n",
       "      <td>Mailed check</td>\n",
       "      <td>56.95</td>\n",
       "      <td>0</td>\n",
       "      <td>1036</td>\n",
       "      <td>0</td>\n",
       "      <td>0</td>\n",
       "      <td>0</td>\n",
       "      <td>1</td>\n",
       "      <td>1</td>\n",
       "      <td>0</td>\n",
       "      <td>1</td>\n",
       "      <td>0</td>\n",
       "      <td>0</td>\n",
       "      <td>0</td>\n",
       "      <td>1</td>\n",
       "      <td>0</td>\n",
       "    </tr>\n",
       "    <tr>\n",
       "      <th>2</th>\n",
       "      <td>Month-to-month</td>\n",
       "      <td>1</td>\n",
       "      <td>Mailed check</td>\n",
       "      <td>53.85</td>\n",
       "      <td>1</td>\n",
       "      <td>61</td>\n",
       "      <td>0</td>\n",
       "      <td>0</td>\n",
       "      <td>0</td>\n",
       "      <td>1</td>\n",
       "      <td>1</td>\n",
       "      <td>1</td>\n",
       "      <td>0</td>\n",
       "      <td>0</td>\n",
       "      <td>0</td>\n",
       "      <td>0</td>\n",
       "      <td>1</td>\n",
       "      <td>0</td>\n",
       "    </tr>\n",
       "  </tbody>\n",
       "</table>\n",
       "</div>"
      ],
      "text/plain": [
       "             Type  PaperlessBilling     PaymentMethod  MonthlyCharges  churn  \\\n",
       "0  Month-to-month                 1  Electronic check           29.85      0   \n",
       "1        One year                 0      Mailed check           56.95      0   \n",
       "2  Month-to-month                 1      Mailed check           53.85      1   \n",
       "\n",
       "   lifespan  SeniorCitizen  Partner  Dependents  gender_Male  OnlineSecurity  \\\n",
       "0        31              0        1           0            0               0   \n",
       "1      1036              0        0           0            1               1   \n",
       "2        61              0        0           0            1               1   \n",
       "\n",
       "   OnlineBackup  DeviceProtection  TechSupport  StreamingTV  StreamingMovies  \\\n",
       "0             1                 0            0            0                0   \n",
       "1             0                 1            0            0                0   \n",
       "2             1                 0            0            0                0   \n",
       "\n",
       "   DLS  MultipleLines  \n",
       "0    1             -1  \n",
       "1    1              0  \n",
       "2    1              0  "
      ]
     },
     "execution_count": 67,
     "metadata": {},
     "output_type": "execute_result"
    }
   ],
   "source": [
    "df_total = df_total.drop(['month_count', 'TotalCharges'], axis=1)\n",
    "df_total.head(3)"
   ]
  },
  {
   "cell_type": "markdown",
   "metadata": {
    "id": "v0GhcoVbdUvi"
   },
   "source": [
    "У нас остались незакодированные категориальные признаки `Type` и `PaymentMethod`, которые можно закодировать аналогично бинарным, чтобы не создавать много признаков."
   ]
  },
  {
   "cell_type": "code",
   "execution_count": 68,
   "metadata": {
    "id": "VWk5XO_DdUvi"
   },
   "outputs": [],
   "source": [
    "def type_coder(paytype):\n",
    "    if paytype == 'Month-to-month' :\n",
    "        res = -1\n",
    "    elif paytype == 'One year' :\n",
    "        res = 0\n",
    "    elif paytype == 'Two year' :\n",
    "        res = 1\n",
    "    return res\n",
    "df_total['Type'] = df_total['Type'].apply(type_coder).astype('int8')"
   ]
  },
  {
   "cell_type": "code",
   "execution_count": 69,
   "metadata": {
    "id": "Xu6ShLq2dUvi"
   },
   "outputs": [],
   "source": [
    "def pay_method_coder(paymethod):\n",
    "    if paymethod == 'Electronic check' :\n",
    "        res = -1\n",
    "    elif paymethod == 'Mailed check' :\n",
    "        res = 0\n",
    "    elif paymethod == 'Credit card (automatic)' :\n",
    "        res = 1\n",
    "    elif paymethod == 'Bank transfer (automatic)':\n",
    "        res = 2\n",
    "    return res\n",
    "df_total['PaymentMethod'] = df_total['PaymentMethod'].apply(pay_method_coder).astype('int8')"
   ]
  },
  {
   "cell_type": "code",
   "execution_count": 70,
   "metadata": {
    "colab": {
     "base_uri": "https://localhost:8080/"
    },
    "id": "dB7dqmvIdUvi",
    "outputId": "3c9bc30f-b1b4-4404-994b-ea65e98076b1"
   },
   "outputs": [
    {
     "name": "stdout",
     "output_type": "stream",
     "text": [
      "<class 'pandas.core.frame.DataFrame'>\n",
      "Int64Index: 7032 entries, 0 to 7031\n",
      "Data columns (total 18 columns):\n",
      " #   Column            Non-Null Count  Dtype  \n",
      "---  ------            --------------  -----  \n",
      " 0   Type              7032 non-null   int8   \n",
      " 1   PaperlessBilling  7032 non-null   int64  \n",
      " 2   PaymentMethod     7032 non-null   int8   \n",
      " 3   MonthlyCharges    7032 non-null   float64\n",
      " 4   churn             7032 non-null   int64  \n",
      " 5   lifespan          7032 non-null   int64  \n",
      " 6   SeniorCitizen     7032 non-null   int64  \n",
      " 7   Partner           7032 non-null   int8   \n",
      " 8   Dependents        7032 non-null   int8   \n",
      " 9   gender_Male       7032 non-null   uint8  \n",
      " 10  OnlineSecurity    7032 non-null   int8   \n",
      " 11  OnlineBackup      7032 non-null   int8   \n",
      " 12  DeviceProtection  7032 non-null   int8   \n",
      " 13  TechSupport       7032 non-null   int8   \n",
      " 14  StreamingTV       7032 non-null   int8   \n",
      " 15  StreamingMovies   7032 non-null   int8   \n",
      " 16  DLS               7032 non-null   int8   \n",
      " 17  MultipleLines     7032 non-null   int8   \n",
      "dtypes: float64(1), int64(4), int8(12), uint8(1)\n",
      "memory usage: 676.9 KB\n"
     ]
    }
   ],
   "source": [
    "df_total.info()"
   ]
  },
  {
   "cell_type": "markdown",
   "metadata": {
    "id": "_hbFPybEdUvi"
   },
   "source": [
    "Выделим таргет и признаки:"
   ]
  },
  {
   "cell_type": "code",
   "execution_count": 71,
   "metadata": {
    "colab": {
     "base_uri": "https://localhost:8080/"
    },
    "id": "7szquE8ZdUvi",
    "outputId": "771fdbd2-76d7-4e2b-92dc-8ad14f700121"
   },
   "outputs": [
    {
     "name": "stdout",
     "output_type": "stream",
     "text": [
      "Размер обучающей выборки:  (4922, 17) (4922,)\n",
      "Размер тестовой выборки:  (2110, 17) (2110,)\n"
     ]
    }
   ],
   "source": [
    "X = df_total.drop(columns=['churn'])\n",
    "y = df_total['churn']\n",
    "X_train, X_test, y_train, y_test = train_test_split(X, y, test_size=0.3, random_state=RANDOM_STATE)\n",
    "print('Размер обучающей выборки: ', X_train.shape,  y_train.shape)\n",
    "print('Размер тестовой выборки: ', X_test.shape,  y_test.shape)"
   ]
  },
  {
   "cell_type": "markdown",
   "metadata": {
    "id": "HGjrW14kdUvj"
   },
   "source": [
    "Масштабируем количественные признаки:"
   ]
  },
  {
   "cell_type": "code",
   "execution_count": 72,
   "metadata": {
    "colab": {
     "base_uri": "https://localhost:8080/",
     "height": 270
    },
    "id": "Lc1TkHeDdUvj",
    "outputId": "b09fed1c-f286-4769-a3d2-e08b844df123"
   },
   "outputs": [
    {
     "data": {
      "text/html": [
       "<div>\n",
       "<style scoped>\n",
       "    .dataframe tbody tr th:only-of-type {\n",
       "        vertical-align: middle;\n",
       "    }\n",
       "\n",
       "    .dataframe tbody tr th {\n",
       "        vertical-align: top;\n",
       "    }\n",
       "\n",
       "    .dataframe thead th {\n",
       "        text-align: right;\n",
       "    }\n",
       "</style>\n",
       "<table border=\"1\" class=\"dataframe\">\n",
       "  <thead>\n",
       "    <tr style=\"text-align: right;\">\n",
       "      <th></th>\n",
       "      <th>Type</th>\n",
       "      <th>PaperlessBilling</th>\n",
       "      <th>PaymentMethod</th>\n",
       "      <th>MonthlyCharges</th>\n",
       "      <th>lifespan</th>\n",
       "      <th>SeniorCitizen</th>\n",
       "      <th>Partner</th>\n",
       "      <th>Dependents</th>\n",
       "      <th>gender_Male</th>\n",
       "      <th>OnlineSecurity</th>\n",
       "      <th>OnlineBackup</th>\n",
       "      <th>DeviceProtection</th>\n",
       "      <th>TechSupport</th>\n",
       "      <th>StreamingTV</th>\n",
       "      <th>StreamingMovies</th>\n",
       "      <th>DLS</th>\n",
       "      <th>MultipleLines</th>\n",
       "    </tr>\n",
       "  </thead>\n",
       "  <tbody>\n",
       "    <tr>\n",
       "      <th>612</th>\n",
       "      <td>0</td>\n",
       "      <td>1</td>\n",
       "      <td>1</td>\n",
       "      <td>1.501044</td>\n",
       "      <td>0.478159</td>\n",
       "      <td>1</td>\n",
       "      <td>0</td>\n",
       "      <td>0</td>\n",
       "      <td>0</td>\n",
       "      <td>1</td>\n",
       "      <td>1</td>\n",
       "      <td>1</td>\n",
       "      <td>0</td>\n",
       "      <td>1</td>\n",
       "      <td>1</td>\n",
       "      <td>0</td>\n",
       "      <td>1</td>\n",
       "    </tr>\n",
       "    <tr>\n",
       "      <th>6582</th>\n",
       "      <td>-1</td>\n",
       "      <td>1</td>\n",
       "      <td>1</td>\n",
       "      <td>0.184885</td>\n",
       "      <td>-1.239276</td>\n",
       "      <td>0</td>\n",
       "      <td>0</td>\n",
       "      <td>0</td>\n",
       "      <td>1</td>\n",
       "      <td>0</td>\n",
       "      <td>0</td>\n",
       "      <td>0</td>\n",
       "      <td>0</td>\n",
       "      <td>0</td>\n",
       "      <td>0</td>\n",
       "      <td>0</td>\n",
       "      <td>0</td>\n",
       "    </tr>\n",
       "    <tr>\n",
       "      <th>2216</th>\n",
       "      <td>1</td>\n",
       "      <td>0</td>\n",
       "      <td>1</td>\n",
       "      <td>-0.004313</td>\n",
       "      <td>1.583280</td>\n",
       "      <td>0</td>\n",
       "      <td>1</td>\n",
       "      <td>1</td>\n",
       "      <td>0</td>\n",
       "      <td>1</td>\n",
       "      <td>1</td>\n",
       "      <td>1</td>\n",
       "      <td>1</td>\n",
       "      <td>0</td>\n",
       "      <td>0</td>\n",
       "      <td>1</td>\n",
       "      <td>0</td>\n",
       "    </tr>\n",
       "  </tbody>\n",
       "</table>\n",
       "</div>"
      ],
      "text/plain": [
       "      Type  PaperlessBilling  PaymentMethod  MonthlyCharges  lifespan  \\\n",
       "612      0                 1              1        1.501044  0.478159   \n",
       "6582    -1                 1              1        0.184885 -1.239276   \n",
       "2216     1                 0              1       -0.004313  1.583280   \n",
       "\n",
       "      SeniorCitizen  Partner  Dependents  gender_Male  OnlineSecurity  \\\n",
       "612               1        0           0            0               1   \n",
       "6582              0        0           0            1               0   \n",
       "2216              0        1           1            0               1   \n",
       "\n",
       "      OnlineBackup  DeviceProtection  TechSupport  StreamingTV  \\\n",
       "612              1                 1            0            1   \n",
       "6582             0                 0            0            0   \n",
       "2216             1                 1            1            0   \n",
       "\n",
       "      StreamingMovies  DLS  MultipleLines  \n",
       "612                 1    0              1  \n",
       "6582                0    0              0  \n",
       "2216                0    1              0  "
      ]
     },
     "metadata": {},
     "output_type": "display_data"
    },
    {
     "data": {
      "text/html": [
       "<div>\n",
       "<style scoped>\n",
       "    .dataframe tbody tr th:only-of-type {\n",
       "        vertical-align: middle;\n",
       "    }\n",
       "\n",
       "    .dataframe tbody tr th {\n",
       "        vertical-align: top;\n",
       "    }\n",
       "\n",
       "    .dataframe thead th {\n",
       "        text-align: right;\n",
       "    }\n",
       "</style>\n",
       "<table border=\"1\" class=\"dataframe\">\n",
       "  <thead>\n",
       "    <tr style=\"text-align: right;\">\n",
       "      <th></th>\n",
       "      <th>Type</th>\n",
       "      <th>PaperlessBilling</th>\n",
       "      <th>PaymentMethod</th>\n",
       "      <th>MonthlyCharges</th>\n",
       "      <th>lifespan</th>\n",
       "      <th>SeniorCitizen</th>\n",
       "      <th>Partner</th>\n",
       "      <th>Dependents</th>\n",
       "      <th>gender_Male</th>\n",
       "      <th>OnlineSecurity</th>\n",
       "      <th>OnlineBackup</th>\n",
       "      <th>DeviceProtection</th>\n",
       "      <th>TechSupport</th>\n",
       "      <th>StreamingTV</th>\n",
       "      <th>StreamingMovies</th>\n",
       "      <th>DLS</th>\n",
       "      <th>MultipleLines</th>\n",
       "    </tr>\n",
       "  </thead>\n",
       "  <tbody>\n",
       "    <tr>\n",
       "      <th>5193</th>\n",
       "      <td>0</td>\n",
       "      <td>1</td>\n",
       "      <td>-1</td>\n",
       "      <td>-1.457023</td>\n",
       "      <td>-0.950575</td>\n",
       "      <td>0</td>\n",
       "      <td>0</td>\n",
       "      <td>0</td>\n",
       "      <td>1</td>\n",
       "      <td>-1</td>\n",
       "      <td>-1</td>\n",
       "      <td>-1</td>\n",
       "      <td>-1</td>\n",
       "      <td>-1</td>\n",
       "      <td>-1</td>\n",
       "      <td>-1</td>\n",
       "      <td>0</td>\n",
       "    </tr>\n",
       "    <tr>\n",
       "      <th>2012</th>\n",
       "      <td>1</td>\n",
       "      <td>0</td>\n",
       "      <td>2</td>\n",
       "      <td>-1.440571</td>\n",
       "      <td>0.232428</td>\n",
       "      <td>0</td>\n",
       "      <td>1</td>\n",
       "      <td>0</td>\n",
       "      <td>1</td>\n",
       "      <td>-1</td>\n",
       "      <td>-1</td>\n",
       "      <td>-1</td>\n",
       "      <td>-1</td>\n",
       "      <td>-1</td>\n",
       "      <td>-1</td>\n",
       "      <td>-1</td>\n",
       "      <td>0</td>\n",
       "    </tr>\n",
       "    <tr>\n",
       "      <th>81</th>\n",
       "      <td>-1</td>\n",
       "      <td>0</td>\n",
       "      <td>-1</td>\n",
       "      <td>-0.448516</td>\n",
       "      <td>-0.868665</td>\n",
       "      <td>0</td>\n",
       "      <td>1</td>\n",
       "      <td>1</td>\n",
       "      <td>0</td>\n",
       "      <td>1</td>\n",
       "      <td>0</td>\n",
       "      <td>0</td>\n",
       "      <td>0</td>\n",
       "      <td>1</td>\n",
       "      <td>1</td>\n",
       "      <td>1</td>\n",
       "      <td>-1</td>\n",
       "    </tr>\n",
       "  </tbody>\n",
       "</table>\n",
       "</div>"
      ],
      "text/plain": [
       "      Type  PaperlessBilling  PaymentMethod  MonthlyCharges  lifespan  \\\n",
       "5193     0                 1             -1       -1.457023 -0.950575   \n",
       "2012     1                 0              2       -1.440571  0.232428   \n",
       "81      -1                 0             -1       -0.448516 -0.868665   \n",
       "\n",
       "      SeniorCitizen  Partner  Dependents  gender_Male  OnlineSecurity  \\\n",
       "5193              0        0           0            1              -1   \n",
       "2012              0        1           0            1              -1   \n",
       "81                0        1           1            0               1   \n",
       "\n",
       "      OnlineBackup  DeviceProtection  TechSupport  StreamingTV  \\\n",
       "5193            -1                -1           -1           -1   \n",
       "2012            -1                -1           -1           -1   \n",
       "81               0                 0            0            1   \n",
       "\n",
       "      StreamingMovies  DLS  MultipleLines  \n",
       "5193               -1   -1              0  \n",
       "2012               -1   -1              0  \n",
       "81                  1    1             -1  "
      ]
     },
     "metadata": {},
     "output_type": "display_data"
    }
   ],
   "source": [
    "numeric = ['MonthlyCharges', 'lifespan']\n",
    "\n",
    "scaler = StandardScaler()\n",
    "scaler.fit(X_train[numeric])\n",
    "\n",
    "X_train[numeric] = scaler.transform(X_train[numeric])\n",
    "X_test[numeric] = scaler.transform(X_test[numeric])\n",
    "\n",
    "display(X_train.head(3))\n",
    "display(X_test.head(3))"
   ]
  },
  {
   "cell_type": "markdown",
   "metadata": {
    "id": "GP0xORyndUvj"
   },
   "source": [
    "## Подбор параметров и тестирование лучших моделей."
   ]
  },
  {
   "cell_type": "markdown",
   "metadata": {
    "id": "4U_zvMNsdUvj"
   },
   "source": [
    "### RandomForest"
   ]
  },
  {
   "cell_type": "code",
   "execution_count": 73,
   "metadata": {
    "colab": {
     "base_uri": "https://localhost:8080/"
    },
    "id": "kxH8mQ7cdUvj",
    "outputId": "3925dde3-5499-44d3-8190-a0a8b134c866"
   },
   "outputs": [
    {
     "name": "stdout",
     "output_type": "stream",
     "text": [
      "Fitting 3 folds for each of 72 candidates, totalling 216 fits\n",
      "CPU times: user 4min 27s, sys: 1.46 s, total: 4min 29s\n",
      "Wall time: 4min 30s\n"
     ]
    },
    {
     "data": {
      "text/plain": [
       "GridSearchCV(cv=3, estimator=RandomForestClassifier(random_state=80822),\n",
       "             n_jobs=-1,\n",
       "             param_grid={'class_weight': ['balanced', None],\n",
       "                         'max_depth': [3, 7, 9, 13],\n",
       "                         'min_samples_leaf': [2, 4, 6],\n",
       "                         'n_estimators': [300, 500, 700]},\n",
       "             scoring='roc_auc', verbose=1)"
      ]
     },
     "execution_count": 73,
     "metadata": {},
     "output_type": "execute_result"
    }
   ],
   "source": [
    "%%time\n",
    "\n",
    "rf_param_grid={'max_depth': [3,7,9, 13],\n",
    "                   'class_weight':['balanced', None],\n",
    "                   'n_estimators': [300, 500, 700],\n",
    "                   'min_samples_leaf': [2, 4, 6]}\n",
    "\n",
    "rf = RandomForestClassifier(random_state=RANDOM_STATE)\n",
    "\n",
    "gs_rf = GridSearchCV(rf, rf_param_grid, cv = 3, verbose = 1, n_jobs=-1, scoring = 'roc_auc')\n",
    "gs_rf.fit(X_train, y_train)"
   ]
  },
  {
   "cell_type": "markdown",
   "metadata": {
    "id": "mZVfr46_dUvj"
   },
   "source": [
    "### LogisticRegression"
   ]
  },
  {
   "cell_type": "code",
   "execution_count": 74,
   "metadata": {
    "colab": {
     "base_uri": "https://localhost:8080/"
    },
    "id": "r6nF6QN4dUvj",
    "outputId": "ab1b7db3-accd-4d57-9cab-d0b441e3efaf"
   },
   "outputs": [
    {
     "name": "stdout",
     "output_type": "stream",
     "text": [
      "CPU times: user 11.1 s, sys: 13 s, total: 24.1 s\n",
      "Wall time: 24.1 s\n"
     ]
    },
    {
     "data": {
      "text/plain": [
       "GridSearchCV(cv=5, estimator=LogisticRegression(n_jobs=-1, random_state=80822),\n",
       "             param_grid={'C': [0.001, 0.01, 0.1, 1, 10, 100, 1000],\n",
       "                         'class_weight': ['balanced', None],\n",
       "                         'penalty': ['l1', 'l2']},\n",
       "             scoring='roc_auc')"
      ]
     },
     "execution_count": 74,
     "metadata": {},
     "output_type": "execute_result"
    }
   ],
   "source": [
    "%%time\n",
    "param_grid = {'C': [0.001, 0.01, 0.1, 1, 10, 100, 1000],\n",
    "              'class_weight':['balanced', None],\n",
    "              'penalty':['l1','l2']}\n",
    "\n",
    "lr = LogisticRegression(solver='lbfgs', n_jobs=-1, random_state=RANDOM_STATE)\n",
    "\n",
    "lr_gs = GridSearchCV(lr, param_grid, cv=5, scoring='roc_auc')\n",
    "lr_gs.fit(X_train, y_train)"
   ]
  },
  {
   "cell_type": "code",
   "execution_count": 75,
   "metadata": {
    "colab": {
     "base_uri": "https://localhost:8080/",
     "height": 112
    },
    "id": "eznICMVkdUvj",
    "outputId": "de35d880-56ca-49cd-a4a3-3f9bd8341104"
   },
   "outputs": [
    {
     "data": {
      "text/html": [
       "<div>\n",
       "<style scoped>\n",
       "    .dataframe tbody tr th:only-of-type {\n",
       "        vertical-align: middle;\n",
       "    }\n",
       "\n",
       "    .dataframe tbody tr th {\n",
       "        vertical-align: top;\n",
       "    }\n",
       "\n",
       "    .dataframe thead th {\n",
       "        text-align: right;\n",
       "    }\n",
       "</style>\n",
       "<table border=\"1\" class=\"dataframe\">\n",
       "  <thead>\n",
       "    <tr style=\"text-align: right;\">\n",
       "      <th></th>\n",
       "      <th>Модель</th>\n",
       "      <th>ROC-AUC на cv без учета баланса классов</th>\n",
       "    </tr>\n",
       "  </thead>\n",
       "  <tbody>\n",
       "    <tr>\n",
       "      <th>0</th>\n",
       "      <td>Случайный лес</td>\n",
       "      <td>0.856</td>\n",
       "    </tr>\n",
       "    <tr>\n",
       "      <th>1</th>\n",
       "      <td>Линейная регрессия</td>\n",
       "      <td>0.836</td>\n",
       "    </tr>\n",
       "  </tbody>\n",
       "</table>\n",
       "</div>"
      ],
      "text/plain": [
       "               Модель  ROC-AUC на cv без учета баланса классов\n",
       "0       Случайный лес                                    0.856\n",
       "1  Линейная регрессия                                    0.836"
      ]
     },
     "execution_count": 75,
     "metadata": {},
     "output_type": "execute_result"
    }
   ],
   "source": [
    "results = pd.DataFrame({'Модель':['Случайный лес', 'Линейная регрессия'], \n",
    "        'ROC-AUC на cv без учета баланса классов': [round(gs_rf.best_score_, 3), round(lr_gs.best_score_, 3)],})\n",
    "\n",
    "results"
   ]
  },
  {
   "cell_type": "markdown",
   "metadata": {
    "id": "6mscCR0ldUvk"
   },
   "source": [
    "Лучшие модели дают спорный результат и не учитывают дисбаланс классов. Попробуем самостоятельно выровнять классы."
   ]
  },
  {
   "cell_type": "code",
   "execution_count": 76,
   "metadata": {
    "id": "BFTP28BzdUvk"
   },
   "outputs": [],
   "source": [
    "def upsample(X, y, repeat):     \n",
    "    X_zeros = X[y == 0]     \n",
    "    X_ones = X[y == 1]     \n",
    "    y_zeros = y[y == 0]     \n",
    "    y_ones = y[y == 1] \n",
    "\n",
    "    X_upsampled = pd.concat([X_zeros] + [X_ones] * repeat)     \n",
    "    y_upsampled = pd.concat([y_zeros] + [y_ones] * repeat)     \n",
    "    \n",
    "    X_upsampled, y_upsampled = shuffle(         \n",
    "        X_upsampled, y_upsampled, random_state=RANDOM_STATE)          \n",
    "    \n",
    "    return X_upsampled, y_upsampled"
   ]
  },
  {
   "cell_type": "code",
   "execution_count": 77,
   "metadata": {
    "id": "JAlW9ATPdUvk"
   },
   "outputs": [],
   "source": [
    "X_train_up, y_train_up = upsample(X_train, y_train, 3)"
   ]
  },
  {
   "cell_type": "code",
   "execution_count": 78,
   "metadata": {
    "colab": {
     "base_uri": "https://localhost:8080/",
     "height": 323
    },
    "id": "Kl4YOg0NdUvk",
    "outputId": "d2164820-77b2-405f-8104-72c06fe4e3f3"
   },
   "outputs": [
    {
     "data": {
      "image/png": "[encoded data removed]",
      "text/plain": [
       "<Figure size 432x288 with 2 Axes>"
      ]
     },
     "metadata": {
      "needs_background": "light"
     },
     "output_type": "display_data"
    }
   ],
   "source": [
    "\n",
    "    plt.figure(1)\n",
    "    ax1 = plt.subplot2grid((1,2), (0,0))\n",
    "    ax1= y_train_up.hist()\n",
    "    ax1.set_title('Распределение целевого признака c upsampling')\n",
    "\n",
    "\n",
    "    ax3 = plt.subplot2grid((1,2), (0,1))\n",
    "    ax3 = y_train.hist()\n",
    "    ax3.set_title('Распределение целевого признака')\n",
    "    plt.subplots_adjust(top=1, bottom=0.1, left=0.10, right=1.5, hspace=1, wspace=0.4)\n",
    "    plt.show()\n"
   ]
  },
  {
   "cell_type": "code",
   "execution_count": 79,
   "metadata": {
    "colab": {
     "base_uri": "https://localhost:8080/"
    },
    "id": "aAb-MOKqdUvk",
    "outputId": "618c4571-8bc6-46cb-958b-bfe6d8e27c3c"
   },
   "outputs": [
    {
     "data": {
      "text/plain": [
       "0.9017145929782858"
      ]
     },
     "execution_count": 79,
     "metadata": {},
     "output_type": "execute_result"
    }
   ],
   "source": [
    "rf_best = RandomForestClassifier(**gs_rf.best_params_, random_state=RANDOM_STATE)\n",
    "rf_best.fit(X_train_up, y_train_up)\n",
    "\n",
    "\n",
    "roc_auc_rf_up=cross_val_score(rf_best, X_train_up, y_train_up, cv=3, scoring='roc_auc').mean()\n",
    "roc_auc_rf_up"
   ]
  },
  {
   "cell_type": "code",
   "execution_count": 80,
   "metadata": {
    "colab": {
     "base_uri": "https://localhost:8080/"
    },
    "id": "0OqLEbendUvk",
    "outputId": "67de4044-d724-4ae8-9557-9390e2f1a0da"
   },
   "outputs": [
    {
     "data": {
      "text/plain": [
       "0.8377627902732813"
      ]
     },
     "execution_count": 80,
     "metadata": {},
     "output_type": "execute_result"
    }
   ],
   "source": [
    "lr_best = LogisticRegression(**lr_gs.best_params_, random_state=RANDOM_STATE)\n",
    "lr_best.fit(X_train_up, y_train_up)\n",
    "\n",
    "\n",
    "roc_auc_lr_up=cross_val_score(lr_best, X_train_up, y_train_up, cv=3, scoring='roc_auc').mean()\n",
    "roc_auc_lr_up"
   ]
  },
  {
   "cell_type": "code",
   "execution_count": 81,
   "metadata": {
    "colab": {
     "base_uri": "https://localhost:8080/",
     "height": 112
    },
    "id": "8yLWtnGhdUvk",
    "outputId": "1e517155-5933-43b6-af25-f3b20f911554"
   },
   "outputs": [
    {
     "data": {
      "text/html": [
       "<div>\n",
       "<style scoped>\n",
       "    .dataframe tbody tr th:only-of-type {\n",
       "        vertical-align: middle;\n",
       "    }\n",
       "\n",
       "    .dataframe tbody tr th {\n",
       "        vertical-align: top;\n",
       "    }\n",
       "\n",
       "    .dataframe thead th {\n",
       "        text-align: right;\n",
       "    }\n",
       "</style>\n",
       "<table border=\"1\" class=\"dataframe\">\n",
       "  <thead>\n",
       "    <tr style=\"text-align: right;\">\n",
       "      <th></th>\n",
       "      <th>Модель</th>\n",
       "      <th>ROC-AUC на cv с дисбалансом классов</th>\n",
       "      <th>ROC_AUC на cv upsample</th>\n",
       "    </tr>\n",
       "  </thead>\n",
       "  <tbody>\n",
       "    <tr>\n",
       "      <th>0</th>\n",
       "      <td>Случайный лес</td>\n",
       "      <td>0.856</td>\n",
       "      <td>0.902</td>\n",
       "    </tr>\n",
       "    <tr>\n",
       "      <th>1</th>\n",
       "      <td>Линейная регрессия</td>\n",
       "      <td>0.836</td>\n",
       "      <td>0.838</td>\n",
       "    </tr>\n",
       "  </tbody>\n",
       "</table>\n",
       "</div>"
      ],
      "text/plain": [
       "               Модель  ROC-AUC на cv с дисбалансом классов  \\\n",
       "0       Случайный лес                                0.856   \n",
       "1  Линейная регрессия                                0.836   \n",
       "\n",
       "   ROC_AUC на cv upsample  \n",
       "0                   0.902  \n",
       "1                   0.838  "
      ]
     },
     "execution_count": 81,
     "metadata": {},
     "output_type": "execute_result"
    }
   ],
   "source": [
    "results = pd.DataFrame({'Модель':['Случайный лес', 'Линейная регрессия'], \n",
    "        'ROC-AUC на cv с дисбалансом классов': [round(gs_rf.best_score_, 3), round(lr_gs.best_score_, 3)],\n",
    "                        'ROC_AUC на cv upsample': [round(roc_auc_rf_up, 3), round(roc_auc_lr_up, 3)]})\n",
    "\n",
    "results"
   ]
  },
  {
   "cell_type": "markdown",
   "metadata": {
    "id": "wO9Q1yfgdUvl"
   },
   "source": [
    "Протестируем модель RandomForest, которая показала высокий ROC_AUC на выборке с балансом классов."
   ]
  },
  {
   "cell_type": "code",
   "execution_count": 82,
   "metadata": {
    "colab": {
     "base_uri": "https://localhost:8080/",
     "height": 540
    },
    "id": "cl_YWifAdUvl",
    "outputId": "f144f559-c1eb-40bf-ca5e-f108e0abc3e1"
   },
   "outputs": [
    {
     "name": "stdout",
     "output_type": "stream",
     "text": [
      "ROC-AUC : 0.86\n",
      "Accuracy : 76.40%\n"
     ]
    },
    {
     "data": {
      "image/png": "[encoded data removed]",
      "text/plain": [
       "<Figure size 800x560 with 1 Axes>"
      ]
     },
     "metadata": {
      "needs_background": "light"
     },
     "output_type": "display_data"
    }
   ],
   "source": [
    "print('ROC-AUC : {:.2f}'.format(roc_auc_score(y_test,\n",
    "                                        rf_best.predict_proba(X_test)[:, 1])))\n",
    "print('Accuracy : {:.2%}'.format(accuracy_score(y_test,\n",
    "                                                rf_best.predict(X_test))))\n",
    "\n",
    "def make_roc_curve(y_test, pred_test):\n",
    "    fpr, tpr, thresholds = roc_curve(y_test, pred_test)\n",
    "\n",
    "    plt.figure(figsize=(10, 7), dpi=80)\n",
    "    plt.plot(fpr, tpr)\n",
    "    plt.plot([0, 1], [0, 1], linestyle='--')\n",
    "    plt.xlim([0.0, 1.0])\n",
    "    plt.ylim([0.0, 1.0])\n",
    "    plt.xlabel('False Positive Rate')\n",
    "    plt.ylabel('True Positive Rate')\n",
    "    plt.title('ROC-curve')\n",
    "    plt.show()\n",
    "    \n",
    "make_roc_curve(y_test, rf_best.predict_proba(X_test)[:, 1])"
   ]
  },
  {
   "cell_type": "markdown",
   "metadata": {
    "id": "JxubK2wpdUvl"
   },
   "source": [
    "На тестовой выборке модель показывает себя хуже: скорее всего, upsample привел к переобучению на тренировочных данных."
   ]
  },
  {
   "cell_type": "markdown",
   "metadata": {
    "id": "pDUl0aFOdUvl"
   },
   "source": [
    "### CatBoost"
   ]
  },
  {
   "cell_type": "code",
   "execution_count": 83,
   "metadata": {
    "colab": {
     "base_uri": "https://localhost:8080/"
    },
    "id": "SXe9oyoddUvl",
    "outputId": "2ef4ac8a-8d5d-4b33-cad5-5ec222cafa72"
   },
   "outputs": [
    {
     "data": {
      "text/plain": [
       "GridSearchCV(cv=5,\n",
       "             estimator=<catboost.core.CatBoostClassifier object at 0x7f021c0b3e50>,\n",
       "             param_grid={'iterations': [50, 100], 'l2_leaf_reg': [3, 9],\n",
       "                         'learning_rate': [0.1, 0.3]},\n",
       "             scoring='roc_auc')"
      ]
     },
     "execution_count": 83,
     "metadata": {},
     "output_type": "execute_result"
    }
   ],
   "source": [
    "param_grid = {\n",
    "    'learning_rate': [0.1, 0.3],\n",
    "    'iterations': [50, 100],\n",
    "    'l2_leaf_reg': [3, 9]\n",
    "}\n",
    "\n",
    "cat = CatBoostClassifier(random_state=RANDOM_STATE, verbose=0)\n",
    "\n",
    "cat_gs = GridSearchCV(cat, param_grid, cv=5, scoring='roc_auc')\n",
    "cat_gs.fit(X_train, y_train)"
   ]
  },
  {
   "cell_type": "code",
   "execution_count": 84,
   "metadata": {
    "colab": {
     "base_uri": "https://localhost:8080/"
    },
    "id": "toWDais1dUvl",
    "outputId": "78361453-7804-4dcc-9725-69edddfba4c8"
   },
   "outputs": [
    {
     "data": {
      "text/plain": [
       "0.8840998780372109"
      ]
     },
     "execution_count": 84,
     "metadata": {},
     "output_type": "execute_result"
    }
   ],
   "source": [
    "cat_gs.best_score_"
   ]
  },
  {
   "cell_type": "code",
   "execution_count": 85,
   "metadata": {
    "colab": {
     "base_uri": "https://localhost:8080/"
    },
    "id": "BttXKfKTdUvl",
    "outputId": "a16f50be-f66a-4b8d-8c85-fdab02fb761b"
   },
   "outputs": [
    {
     "data": {
      "text/plain": [
       "{'iterations': 100, 'l2_leaf_reg': 3, 'learning_rate': 0.3}"
      ]
     },
     "execution_count": 85,
     "metadata": {},
     "output_type": "execute_result"
    }
   ],
   "source": [
    "cat_gs.best_params_"
   ]
  },
  {
   "cell_type": "code",
   "execution_count": 86,
   "metadata": {
    "colab": {
     "base_uri": "https://localhost:8080/"
    },
    "id": "cawD_c-0dUvm",
    "outputId": "0d523096-bcb5-4082-d4e1-41dc793fcdc5"
   },
   "outputs": [
    {
     "data": {
      "text/plain": [
       "<catboost.core.CatBoostClassifier at 0x7f021c0b3e80>"
      ]
     },
     "execution_count": 86,
     "metadata": {},
     "output_type": "execute_result"
    }
   ],
   "source": [
    "cat_best=CatBoostClassifier(**cat_gs.best_params_, random_state=RANDOM_STATE, verbose=0)\n",
    "cat_best.fit(X_train, y_train)"
   ]
  },
  {
   "cell_type": "code",
   "execution_count": 87,
   "metadata": {
    "colab": {
     "base_uri": "https://localhost:8080/",
     "height": 540
    },
    "id": "jYQIDC02dUvm",
    "outputId": "d10601d5-bb5f-4bd7-aca7-579c5d13f4ec"
   },
   "outputs": [
    {
     "name": "stdout",
     "output_type": "stream",
     "text": [
      "ROC-AUC : 0.904\n",
      "Accuracy : 84.79%\n"
     ]
    },
    {
     "data": {
      "image/png": "[encoded data removed]",
      "text/plain": [
       "<Figure size 800x560 with 1 Axes>"
      ]
     },
     "metadata": {
      "needs_background": "light"
     },
     "output_type": "display_data"
    }
   ],
   "source": [
    "print('ROC-AUC : {:.3f}'.format(roc_auc_score(y_test,\n",
    "                                        cat_best.predict_proba(X_test)[:, 1])))\n",
    "print('Accuracy : {:.2%}'.format(accuracy_score(y_test,\n",
    "                                                cat_best.predict(X_test))))\n",
    "make_roc_curve(y_test, cat_best.predict_proba(X_test)[:, 1])"
   ]
  },
  {
   "cell_type": "markdown",
   "metadata": {
    "id": "pJdc_BKFdUvm"
   },
   "source": [
    "### LightGBM"
   ]
  },
  {
   "cell_type": "code",
   "execution_count": 88,
   "metadata": {
    "colab": {
     "base_uri": "https://localhost:8080/"
    },
    "id": "WCMXh0rndUvm",
    "outputId": "3ac96d41-b9ef-46dc-c501-83d100dd13b1"
   },
   "outputs": [
    {
     "name": "stdout",
     "output_type": "stream",
     "text": [
      "CPU times: user 4min 59s, sys: 2.33 s, total: 5min 1s\n",
      "Wall time: 5min 4s\n"
     ]
    },
    {
     "data": {
      "text/plain": [
       "GridSearchCV(cv=3, estimator=LGBMClassifier(random_state=80822),\n",
       "             param_grid=[{'class_weight': [None, 'balanced'],\n",
       "                          'learning_rate': [0.1, 0.05], 'max_depth': [5, 10],\n",
       "                          'n_estimators': [800, 900]}],\n",
       "             scoring='roc_auc')"
      ]
     },
     "execution_count": 88,
     "metadata": {},
     "output_type": "execute_result"
    }
   ],
   "source": [
    "%%time \n",
    "lgbm_params = [{'max_depth': [5, 10],\n",
    "               'learning_rate': [0.1, 0.05],\n",
    "               'n_estimators': [800, 900],\n",
    "               'class_weight':[None,'balanced']}]\n",
    "\n",
    "lgbm = LGBMClassifier(random_state=RANDOM_STATE)\n",
    "\n",
    "\n",
    "lgbm_gs = GridSearchCV(lgbm, param_grid=lgbm_params, scoring='roc_auc', \n",
    "                   cv=3, verbose=0)\n",
    "lgbm_gs.fit(X_train, y_train)"
   ]
  },
  {
   "cell_type": "code",
   "execution_count": 89,
   "metadata": {
    "colab": {
     "base_uri": "https://localhost:8080/"
    },
    "id": "E4f1r-p3dUvm",
    "outputId": "42791e65-3218-4068-c430-dcfe89c98026"
   },
   "outputs": [
    {
     "data": {
      "text/plain": [
       "0.8915758410204049"
      ]
     },
     "execution_count": 89,
     "metadata": {},
     "output_type": "execute_result"
    }
   ],
   "source": [
    "lgbm_gs.best_score_"
   ]
  },
  {
   "cell_type": "code",
   "execution_count": 90,
   "metadata": {
    "colab": {
     "base_uri": "https://localhost:8080/"
    },
    "id": "ASPkiQCIdUvm",
    "outputId": "f6f9410e-a11a-4207-fbc9-5406ce3e2fd3"
   },
   "outputs": [
    {
     "data": {
      "text/plain": [
       "{'class_weight': None,\n",
       " 'learning_rate': 0.05,\n",
       " 'max_depth': 5,\n",
       " 'n_estimators': 800}"
      ]
     },
     "execution_count": 90,
     "metadata": {},
     "output_type": "execute_result"
    }
   ],
   "source": [
    "lgbm_gs.best_params_"
   ]
  },
  {
   "cell_type": "code",
   "execution_count": 91,
   "metadata": {
    "colab": {
     "base_uri": "https://localhost:8080/"
    },
    "id": "1bWhgOfXdUvm",
    "outputId": "4443c613-b06b-4c3e-a423-5dc04df187b2",
    "scrolled": false
   },
   "outputs": [
    {
     "data": {
      "text/plain": [
       "LGBMClassifier(learning_rate=0.05, max_depth=5, n_estimators=800,\n",
       "               random_state=80822, verbose=-1)"
      ]
     },
     "execution_count": 91,
     "metadata": {},
     "output_type": "execute_result"
    }
   ],
   "source": [
    "lgbm_best=LGBMClassifier(**lgbm_gs.best_params_, verbose=-1, random_state=RANDOM_STATE)\n",
    "lgbm_best.fit(X_train, y_train)"
   ]
  },
  {
   "cell_type": "code",
   "execution_count": 92,
   "metadata": {
    "colab": {
     "base_uri": "https://localhost:8080/",
     "height": 540
    },
    "id": "mKwWWNLDdUvn",
    "outputId": "6f6d4953-2ced-4575-8fc6-4b6cb5978a73"
   },
   "outputs": [
    {
     "name": "stdout",
     "output_type": "stream",
     "text": [
      "ROC-AUC : 0.914\n",
      "Accuracy : 86.07%\n"
     ]
    },
    {
     "data": {
      "image/png": "[encoded data removed]",
      "text/plain": [
       "<Figure size 800x560 with 1 Axes>"
      ]
     },
     "metadata": {
      "needs_background": "light"
     },
     "output_type": "display_data"
    }
   ],
   "source": [
    "print('ROC-AUC : {:.3f}'.format(roc_auc_score(y_test,\n",
    "                                        lgbm_best.predict_proba(X_test)[:, 1])))\n",
    "print('Accuracy : {:.2%}'.format(accuracy_score(y_test,\n",
    "                                                lgbm_best.predict(X_test))))\n",
    "make_roc_curve(y_test, lgbm_best.predict_proba(X_test)[:, 1])"
   ]
  },
  {
   "cell_type": "code",
   "execution_count": 93,
   "metadata": {
    "colab": {
     "base_uri": "https://localhost:8080/",
     "height": 175
    },
    "id": "x5JcqauldUvn",
    "outputId": "1a5538ff-22f5-460d-9038-ccd528a2d156"
   },
   "outputs": [
    {
     "data": {
      "text/html": [
       "<div>\n",
       "<style scoped>\n",
       "    .dataframe tbody tr th:only-of-type {\n",
       "        vertical-align: middle;\n",
       "    }\n",
       "\n",
       "    .dataframe tbody tr th {\n",
       "        vertical-align: top;\n",
       "    }\n",
       "\n",
       "    .dataframe thead th {\n",
       "        text-align: right;\n",
       "    }\n",
       "</style>\n",
       "<table border=\"1\" class=\"dataframe\">\n",
       "  <thead>\n",
       "    <tr style=\"text-align: right;\">\n",
       "      <th></th>\n",
       "      <th>Модель</th>\n",
       "      <th>ROC-AUC на cv с дисбалансом классов</th>\n",
       "      <th>ROC_AUC на cv upsample</th>\n",
       "      <th>ROC_AUC на тесте</th>\n",
       "      <th>Accuracy</th>\n",
       "    </tr>\n",
       "  </thead>\n",
       "  <tbody>\n",
       "    <tr>\n",
       "      <th>0</th>\n",
       "      <td>Случайный лес</td>\n",
       "      <td>0.856</td>\n",
       "      <td>0.902</td>\n",
       "      <td>0.863</td>\n",
       "      <td>0.764</td>\n",
       "    </tr>\n",
       "    <tr>\n",
       "      <th>1</th>\n",
       "      <td>Линейная регрессия</td>\n",
       "      <td>0.836</td>\n",
       "      <td>0.838</td>\n",
       "      <td>-</td>\n",
       "      <td>0.736</td>\n",
       "    </tr>\n",
       "    <tr>\n",
       "      <th>2</th>\n",
       "      <td>CatBoost</td>\n",
       "      <td>0.884</td>\n",
       "      <td>-</td>\n",
       "      <td>0.904</td>\n",
       "      <td>0.848</td>\n",
       "    </tr>\n",
       "    <tr>\n",
       "      <th>3</th>\n",
       "      <td>LGBM</td>\n",
       "      <td>0.892</td>\n",
       "      <td>-</td>\n",
       "      <td>0.914</td>\n",
       "      <td>0.861</td>\n",
       "    </tr>\n",
       "  </tbody>\n",
       "</table>\n",
       "</div>"
      ],
      "text/plain": [
       "               Модель  ROC-AUC на cv с дисбалансом классов  \\\n",
       "0       Случайный лес                                0.856   \n",
       "1  Линейная регрессия                                0.836   \n",
       "2            CatBoost                                0.884   \n",
       "3                LGBM                                0.892   \n",
       "\n",
       "  ROC_AUC на cv upsample ROC_AUC на тесте  Accuracy  \n",
       "0                  0.902            0.863     0.764  \n",
       "1                  0.838                -     0.736  \n",
       "2                      -            0.904     0.848  \n",
       "3                      -            0.914     0.861  "
      ]
     },
     "execution_count": 93,
     "metadata": {},
     "output_type": "execute_result"
    }
   ],
   "source": [
    "roc_test_rf=round(roc_auc_score(y_test, rf_best.predict_proba(X_test)[:, 1]), 3)\n",
    "roc_test_cat=round(roc_auc_score(y_test, cat_best.predict_proba(X_test)[:, 1]), 3)\n",
    "roc_test_lgbm=round(roc_auc_score(y_test, lgbm_best.predict_proba(X_test)[:, 1]),3)\n",
    "\n",
    "acc_rf=round(accuracy_score(y_test, rf_best.predict(X_test)), 3)\n",
    "acc_lr=round(accuracy_score(y_test, lr_best.predict(X_test)), 3)\n",
    "acc_cat=round(accuracy_score(y_test, cat_best.predict(X_test)), 3)\n",
    "acc_lgbm=round(accuracy_score(y_test, lgbm_best.predict(X_test)),3)              \n",
    "\n",
    "results = pd.DataFrame({'Модель':['Случайный лес', 'Линейная регрессия', 'CatBoost', 'LGBM'], \n",
    "        'ROC-AUC на cv с дисбалансом классов': [round(gs_rf.best_score_, 3), round(lr_gs.best_score_, 3), round(cat_gs.best_score_, 3), round(lgbm_gs.best_score_, 3)],\n",
    "                        'ROC_AUC на cv upsample': [round(roc_auc_rf_up, 3), round(roc_auc_lr_up, 3), '-', '-'],\n",
    "                       'ROC_AUC на тесте': [roc_test_rf, '-', roc_test_cat, roc_test_lgbm],\n",
    "                       'Accuracy': [acc_rf, acc_lr, acc_cat, acc_lgbm]})\n",
    "\n",
    "results"
   ]
  },
  {
   "cell_type": "code",
   "execution_count": 94,
   "metadata": {
    "colab": {
     "base_uri": "https://localhost:8080/",
     "height": 582
    },
    "id": "R8dM4T5wdUvn",
    "outputId": "cda9e3cb-dc1b-42a8-f5c3-4726d45c4797"
   },
   "outputs": [
    {
     "data": {
      "text/html": [
       "<div>\n",
       "<style scoped>\n",
       "    .dataframe tbody tr th:only-of-type {\n",
       "        vertical-align: middle;\n",
       "    }\n",
       "\n",
       "    .dataframe tbody tr th {\n",
       "        vertical-align: top;\n",
       "    }\n",
       "\n",
       "    .dataframe thead th {\n",
       "        text-align: right;\n",
       "    }\n",
       "</style>\n",
       "<table border=\"1\" class=\"dataframe\">\n",
       "  <thead>\n",
       "    <tr style=\"text-align: right;\">\n",
       "      <th></th>\n",
       "      <th>feature</th>\n",
       "      <th>importance</th>\n",
       "    </tr>\n",
       "  </thead>\n",
       "  <tbody>\n",
       "    <tr>\n",
       "      <th>4</th>\n",
       "      <td>lifespan</td>\n",
       "      <td>5690</td>\n",
       "    </tr>\n",
       "    <tr>\n",
       "      <th>3</th>\n",
       "      <td>MonthlyCharges</td>\n",
       "      <td>4403</td>\n",
       "    </tr>\n",
       "    <tr>\n",
       "      <th>2</th>\n",
       "      <td>PaymentMethod</td>\n",
       "      <td>876</td>\n",
       "    </tr>\n",
       "    <tr>\n",
       "      <th>0</th>\n",
       "      <td>Type</td>\n",
       "      <td>542</td>\n",
       "    </tr>\n",
       "    <tr>\n",
       "      <th>8</th>\n",
       "      <td>gender_Male</td>\n",
       "      <td>506</td>\n",
       "    </tr>\n",
       "    <tr>\n",
       "      <th>5</th>\n",
       "      <td>SeniorCitizen</td>\n",
       "      <td>327</td>\n",
       "    </tr>\n",
       "    <tr>\n",
       "      <th>16</th>\n",
       "      <td>MultipleLines</td>\n",
       "      <td>300</td>\n",
       "    </tr>\n",
       "    <tr>\n",
       "      <th>1</th>\n",
       "      <td>PaperlessBilling</td>\n",
       "      <td>288</td>\n",
       "    </tr>\n",
       "    <tr>\n",
       "      <th>9</th>\n",
       "      <td>OnlineSecurity</td>\n",
       "      <td>261</td>\n",
       "    </tr>\n",
       "    <tr>\n",
       "      <th>6</th>\n",
       "      <td>Partner</td>\n",
       "      <td>253</td>\n",
       "    </tr>\n",
       "    <tr>\n",
       "      <th>12</th>\n",
       "      <td>TechSupport</td>\n",
       "      <td>231</td>\n",
       "    </tr>\n",
       "    <tr>\n",
       "      <th>14</th>\n",
       "      <td>StreamingMovies</td>\n",
       "      <td>221</td>\n",
       "    </tr>\n",
       "    <tr>\n",
       "      <th>10</th>\n",
       "      <td>OnlineBackup</td>\n",
       "      <td>218</td>\n",
       "    </tr>\n",
       "    <tr>\n",
       "      <th>11</th>\n",
       "      <td>DeviceProtection</td>\n",
       "      <td>218</td>\n",
       "    </tr>\n",
       "    <tr>\n",
       "      <th>7</th>\n",
       "      <td>Dependents</td>\n",
       "      <td>187</td>\n",
       "    </tr>\n",
       "    <tr>\n",
       "      <th>13</th>\n",
       "      <td>StreamingTV</td>\n",
       "      <td>169</td>\n",
       "    </tr>\n",
       "    <tr>\n",
       "      <th>15</th>\n",
       "      <td>DLS</td>\n",
       "      <td>85</td>\n",
       "    </tr>\n",
       "  </tbody>\n",
       "</table>\n",
       "</div>"
      ],
      "text/plain": [
       "             feature  importance\n",
       "4           lifespan        5690\n",
       "3     MonthlyCharges        4403\n",
       "2      PaymentMethod         876\n",
       "0               Type         542\n",
       "8        gender_Male         506\n",
       "5      SeniorCitizen         327\n",
       "16     MultipleLines         300\n",
       "1   PaperlessBilling         288\n",
       "9     OnlineSecurity         261\n",
       "6            Partner         253\n",
       "12       TechSupport         231\n",
       "14   StreamingMovies         221\n",
       "10      OnlineBackup         218\n",
       "11  DeviceProtection         218\n",
       "7         Dependents         187\n",
       "13       StreamingTV         169\n",
       "15               DLS          85"
      ]
     },
     "execution_count": 94,
     "metadata": {},
     "output_type": "execute_result"
    }
   ],
   "source": [
    "boost = lgbm_best.booster_\n",
    "df_feature_importance = (\n",
    "    pd.DataFrame({\n",
    "        'feature': boost.feature_name(),\n",
    "        'importance': boost.feature_importance(),\n",
    "    })\n",
    "    .sort_values('importance', ascending=False)\n",
    ")\n",
    "df_feature_importance"
   ]
  },
  {
   "cell_type": "markdown",
   "metadata": {
    "id": "SQOrfeBtdUvn"
   },
   "source": [
    "Лучшие результаты по метрике AUC_ROC показала модель **LightGBM**.\n",
    "Удалось добиться AUC_ROC **0.914** и accuracy **86%**. Недостаток модели-долгий подбор параметров.\n",
    "Самыми важными признаками для модели оказались срок жизни клиента и помесячная оплата."
   ]
  },
  {
   "cell_type": "markdown",
   "metadata": {},
   "source": [
    "## Отчет по решению."
   ]
  },
  {
   "cell_type": "markdown",
   "metadata": {},
   "source": [
    "**1. Какие пункты плана были выполнены, а какие — нет (поясните почему)?**"
   ]
  },
  {
   "cell_type": "markdown",
   "metadata": {},
   "source": [
    "Были выполнены все пункты плана:\n",
    "1. Анализ и предобработка\n",
    "- дубликатов в данных не оказалось, вместо NaN в столбце `TotalCharges` нашлись строки с пробелами вместо значений (11 строк), они были удалены;\n",
    "- изменены типы данных столбцов `BeginDate` (на _datetime_) и `TotalCharges` (на _float_);\n",
    "- из столбца `EndDate` выделен целевой признак - столбец `churn` и важный признак `lifespan`(срок жизни клиента);\n",
    "- бинарные признаки закодированы: значения 'YES'/'NO' преобразованы в 1 и 0 в столбцах `PaperlessBilling`, `SeniorCitizen`,\t`Partner`, `Dependents`, `gender_Male`, `OnlineSecurity`, `OnlineBackup`, `DeviceProtection`, `TechSupport`, `StreamingTV`,\t`StreamingMovies`, `DLS`, `MultipleLines`.\n",
    "- таблицы объьеденены методом merge() способом 'left', чтобы в итоговой таблице остались все уникальные id клиентов."
   ]
  },
  {
   "cell_type": "markdown",
   "metadata": {},
   "source": [
    "2. ИАД\n",
    "- построили гистограмы для бинарных признаков: все оказались более или менее сбалансированы;\n",
    "- по таблице и подсчету значений увидели, что сильный отток клиентов начался в последние четыре месяца (более 20 процентов покинули компанию за этот срок), и особенно активно уходили недавно подключившиеся пользователи;\n",
    "- согласно построенным графикам, отказавшиеся от услуг клиенты чаще выбирали оплату Electronic check, помесячную оплату, и в большинстве своем пользовались услугами интернета и телефонии. Кроме того, их помесячные платежи были больше, чем у оставшихся клиентов;"
   ]
  },
  {
   "cell_type": "markdown",
   "metadata": {},
   "source": [
    "3. Подготовка данных к обучению\n",
    "- удалены столбцы `customerID` и `BeginDate` c `EndDate` для избежания утечки тагрета и переобучения модели;\n",
    "- после изучения матрицы корреляции числовых признаков обнаружили мультиколлинеарность, и удалили признак `TotalCharges`;\n",
    "- выделили target и features, масштабировали числовые признаки с помощью StandardScaler"
   ]
  },
  {
   "cell_type": "markdown",
   "metadata": {},
   "source": [
    "4. Обучение моделей:\n",
    "- с помощью GridSearch были подобраны гиперпараметры для моделей RandomForestClassifier, LogisticRegression, CatBoostClassifier, LGBMClassifier."
   ]
  },
  {
   "cell_type": "markdown",
   "metadata": {},
   "source": [
    "**2. Какие трудности возникли и как вы их преодолели?**\n"
   ]
  },
  {
   "cell_type": "markdown",
   "metadata": {},
   "source": [
    "Возникла трудность с несбалансированным распределением целевого признака. При попытке самостоятельно его выровнять, модель переобучалась, но в итоге лучшие показатели и требуемые метрики были достигнуты без уделения внимания дисбалансу классов."
   ]
  },
  {
   "cell_type": "markdown",
   "metadata": {},
   "source": [
    "**3. Какие ключевые шаги в решении задачи выделили?**\n"
   ]
  },
  {
   "cell_type": "markdown",
   "metadata": {},
   "source": [
    "См. п.**1**."
   ]
  },
  {
   "cell_type": "markdown",
   "metadata": {},
   "source": [
    "**4. Какая ваша итоговая модель и какое у неё качество?**"
   ]
  },
  {
   "cell_type": "code",
   "execution_count": 104,
   "metadata": {},
   "outputs": [
    {
     "data": {
      "text/html": [
       "<div>\n",
       "<style scoped>\n",
       "    .dataframe tbody tr th:only-of-type {\n",
       "        vertical-align: middle;\n",
       "    }\n",
       "\n",
       "    .dataframe tbody tr th {\n",
       "        vertical-align: top;\n",
       "    }\n",
       "\n",
       "    .dataframe thead th {\n",
       "        text-align: right;\n",
       "    }\n",
       "</style>\n",
       "<table border=\"1\" class=\"dataframe\">\n",
       "  <thead>\n",
       "    <tr style=\"text-align: right;\">\n",
       "      <th></th>\n",
       "      <th>best_params</th>\n",
       "      <th>best_score</th>\n",
       "    </tr>\n",
       "    <tr>\n",
       "      <th>Модель</th>\n",
       "      <th></th>\n",
       "      <th></th>\n",
       "    </tr>\n",
       "  </thead>\n",
       "  <tbody>\n",
       "    <tr>\n",
       "      <th>RandomForest</th>\n",
       "      <td>{'class_weight': None, 'max_depth': 9, 'min_sa...</td>\n",
       "      <td>0.856</td>\n",
       "    </tr>\n",
       "    <tr>\n",
       "      <th>LinearRegression</th>\n",
       "      <td>{'C': 10, 'class_weight': None, 'penalty': 'l2'}</td>\n",
       "      <td>0.836</td>\n",
       "    </tr>\n",
       "    <tr>\n",
       "      <th>CatBoost</th>\n",
       "      <td>{'iterations': 100, 'l2_leaf_reg': 3, 'learnin...</td>\n",
       "      <td>0.884</td>\n",
       "    </tr>\n",
       "    <tr>\n",
       "      <th>LGBM</th>\n",
       "      <td>{'class_weight': None, 'learning_rate': 0.05, ...</td>\n",
       "      <td>0.892</td>\n",
       "    </tr>\n",
       "  </tbody>\n",
       "</table>\n",
       "</div>"
      ],
      "text/plain": [
       "                                                        best_params  \\\n",
       "Модель                                                                \n",
       "RandomForest      {'class_weight': None, 'max_depth': 9, 'min_sa...   \n",
       "LinearRegression   {'C': 10, 'class_weight': None, 'penalty': 'l2'}   \n",
       "CatBoost          {'iterations': 100, 'l2_leaf_reg': 3, 'learnin...   \n",
       "LGBM              {'class_weight': None, 'learning_rate': 0.05, ...   \n",
       "\n",
       "                  best_score  \n",
       "Модель                        \n",
       "RandomForest           0.856  \n",
       "LinearRegression       0.836  \n",
       "CatBoost               0.884  \n",
       "LGBM                   0.892  "
      ]
     },
     "execution_count": 104,
     "metadata": {},
     "output_type": "execute_result"
    }
   ],
   "source": [
    "res = pd.DataFrame({'Модель':['RandomForest', 'LinearRegression', 'CatBoost', 'LGBM'], \n",
    "        'best_params': [gs_rf.best_params_, lr_gs.best_params_, cat_gs.best_params_, lgbm_gs.best_params_],\n",
    "          'best_score': [round(gs_rf.best_score_,3), round(lr_gs.best_score_,3), round(cat_gs.best_score_,3), round(lgbm_gs.best_score_,3)]})\n",
    "\n",
    "res.set_index('Модель')"
   ]
  },
  {
   "cell_type": "markdown",
   "metadata": {},
   "source": [
    "Итоговой моделью выбрали **LGBMClassifier**. На кросс-валидации она показала метрику ROC_AUC = **0.892**, а на тестовых данных ROC_AUC = **0.914**. "
   ]
  }
 ],
 "metadata": {
  "ExecuteTimeLog": [
   {
    "duration": 487,
    "start_time": "2022-08-09T07:49:56.130Z"
   },
   {
    "duration": 42,
    "start_time": "2022-08-09T07:50:23.517Z"
   },
   {
    "duration": 42,
    "start_time": "2022-08-09T07:50:43.254Z"
   },
   {
    "duration": 305,
    "start_time": "2022-08-09T07:54:55.950Z"
   },
   {
    "duration": 16,
    "start_time": "2022-08-09T07:55:10.013Z"
   },
   {
    "duration": 379,
    "start_time": "2022-08-09T15:16:25.214Z"
   },
   {
    "duration": 293,
    "start_time": "2022-08-09T15:16:26.341Z"
   },
   {
    "duration": 19,
    "start_time": "2022-08-09T15:16:30.051Z"
   },
   {
    "duration": 351,
    "start_time": "2022-08-10T10:12:45.162Z"
   },
   {
    "duration": 316,
    "start_time": "2022-08-10T10:12:46.343Z"
   },
   {
    "duration": 3,
    "start_time": "2022-08-10T10:13:07.135Z"
   },
   {
    "duration": 46,
    "start_time": "2022-08-10T10:14:24.137Z"
   },
   {
    "duration": 4,
    "start_time": "2022-08-10T10:14:37.661Z"
   },
   {
    "duration": 41,
    "start_time": "2022-08-10T10:14:38.709Z"
   },
   {
    "duration": 3,
    "start_time": "2022-08-10T10:15:08.119Z"
   },
   {
    "duration": 58,
    "start_time": "2022-08-10T10:15:09.806Z"
   },
   {
    "duration": 3,
    "start_time": "2022-08-10T10:15:33.907Z"
   },
   {
    "duration": 47,
    "start_time": "2022-08-10T10:15:58.702Z"
   },
   {
    "duration": 957,
    "start_time": "2022-08-10T10:30:16.979Z"
   },
   {
    "duration": 107,
    "start_time": "2022-08-10T10:30:18.659Z"
   },
   {
    "duration": 3,
    "start_time": "2022-08-10T10:34:09.458Z"
   },
   {
    "duration": 3,
    "start_time": "2022-08-10T10:45:19.117Z"
   },
   {
    "duration": 109,
    "start_time": "2022-08-10T10:45:19.892Z"
   },
   {
    "duration": 3,
    "start_time": "2022-08-10T10:45:20.772Z"
   },
   {
    "duration": 4,
    "start_time": "2022-08-10T10:45:36.032Z"
   },
   {
    "duration": 54,
    "start_time": "2022-08-10T10:45:38.735Z"
   },
   {
    "duration": 5,
    "start_time": "2022-08-10T10:46:17.210Z"
   },
   {
    "duration": 4,
    "start_time": "2022-08-10T10:46:26.193Z"
   },
   {
    "duration": 50,
    "start_time": "2022-08-10T10:46:29.492Z"
   },
   {
    "duration": 4,
    "start_time": "2022-08-10T10:46:46.457Z"
   },
   {
    "duration": 47,
    "start_time": "2022-08-10T10:46:47.586Z"
   },
   {
    "duration": 4,
    "start_time": "2022-08-10T10:47:06.430Z"
   },
   {
    "duration": 61,
    "start_time": "2022-08-10T10:47:07.347Z"
   },
   {
    "duration": 4,
    "start_time": "2022-08-10T10:47:30.896Z"
   },
   {
    "duration": 37,
    "start_time": "2022-08-10T10:47:31.757Z"
   },
   {
    "duration": 11,
    "start_time": "2022-08-10T11:04:17.542Z"
   },
   {
    "duration": 49,
    "start_time": "2022-08-11T17:52:15.141Z"
   },
   {
    "duration": 1259,
    "start_time": "2022-08-11T17:52:23.611Z"
   },
   {
    "duration": 314,
    "start_time": "2022-08-11T17:52:24.872Z"
   },
   {
    "duration": 3,
    "start_time": "2022-08-11T17:52:25.188Z"
   },
   {
    "duration": 69,
    "start_time": "2022-08-11T17:52:25.193Z"
   },
   {
    "duration": 10,
    "start_time": "2022-08-11T17:52:25.264Z"
   },
   {
    "duration": 90,
    "start_time": "2022-08-11T17:52:25.276Z"
   },
   {
    "duration": 59,
    "start_time": "2022-08-11T17:52:36.265Z"
   },
   {
    "duration": 9,
    "start_time": "2022-08-11T17:52:59.358Z"
   },
   {
    "duration": 63,
    "start_time": "2022-08-11T17:53:16.352Z"
   },
   {
    "duration": 5,
    "start_time": "2022-08-11T17:53:24.261Z"
   },
   {
    "duration": 7,
    "start_time": "2022-08-11T17:55:08.666Z"
   },
   {
    "duration": 12,
    "start_time": "2022-08-11T17:55:18.501Z"
   },
   {
    "duration": 5,
    "start_time": "2022-08-11T18:03:01.047Z"
   },
   {
    "duration": 16,
    "start_time": "2022-08-11T18:05:24.216Z"
   },
   {
    "duration": 5,
    "start_time": "2022-08-11T18:05:45.101Z"
   },
   {
    "duration": 14,
    "start_time": "2022-08-11T18:06:33.941Z"
   },
   {
    "duration": 10,
    "start_time": "2022-08-11T18:06:48.221Z"
   },
   {
    "duration": 8,
    "start_time": "2022-08-11T18:07:10.520Z"
   },
   {
    "duration": 15,
    "start_time": "2022-08-11T18:07:15.658Z"
   },
   {
    "duration": 14,
    "start_time": "2022-08-11T18:11:04.048Z"
   },
   {
    "duration": 10,
    "start_time": "2022-08-11T18:22:32.754Z"
   },
   {
    "duration": 12,
    "start_time": "2022-08-11T18:22:42.433Z"
   },
   {
    "duration": 8,
    "start_time": "2022-08-11T18:23:25.093Z"
   },
   {
    "duration": 16,
    "start_time": "2022-08-11T18:23:26.181Z"
   },
   {
    "duration": 3,
    "start_time": "2022-08-11T18:26:33.661Z"
   },
   {
    "duration": 159,
    "start_time": "2022-08-11T18:26:33.669Z"
   },
   {
    "duration": 5,
    "start_time": "2022-08-11T18:26:33.831Z"
   },
   {
    "duration": 66,
    "start_time": "2022-08-11T18:26:33.837Z"
   },
   {
    "duration": 9,
    "start_time": "2022-08-11T18:26:33.910Z"
   },
   {
    "duration": 4,
    "start_time": "2022-08-11T18:26:33.921Z"
   },
   {
    "duration": 13,
    "start_time": "2022-08-11T18:26:33.927Z"
   },
   {
    "duration": 18,
    "start_time": "2022-08-11T18:26:33.941Z"
   },
   {
    "duration": 7,
    "start_time": "2022-08-11T18:26:33.961Z"
   },
   {
    "duration": 45,
    "start_time": "2022-08-11T18:26:33.970Z"
   },
   {
    "duration": 4,
    "start_time": "2022-08-11T18:52:05.615Z"
   },
   {
    "duration": 3,
    "start_time": "2022-08-11T19:09:48.803Z"
   },
   {
    "duration": 11,
    "start_time": "2022-08-11T19:10:14.198Z"
   },
   {
    "duration": 8,
    "start_time": "2022-08-11T19:14:55.001Z"
   },
   {
    "duration": 3,
    "start_time": "2022-08-11T19:15:04.590Z"
   },
   {
    "duration": 12,
    "start_time": "2022-08-11T19:15:05.816Z"
   },
   {
    "duration": 2,
    "start_time": "2022-08-11T19:15:45.533Z"
   },
   {
    "duration": 16,
    "start_time": "2022-08-11T19:15:46.360Z"
   },
   {
    "duration": 71,
    "start_time": "2022-08-11T19:18:44.046Z"
   },
   {
    "duration": 15,
    "start_time": "2022-08-11T19:18:45.134Z"
   },
   {
    "duration": 3,
    "start_time": "2022-08-11T19:18:58.190Z"
   },
   {
    "duration": 13,
    "start_time": "2022-08-11T19:19:02.400Z"
   },
   {
    "duration": 3,
    "start_time": "2022-08-11T19:19:20.993Z"
   },
   {
    "duration": 16,
    "start_time": "2022-08-11T19:19:22.165Z"
   },
   {
    "duration": 15,
    "start_time": "2022-08-11T19:21:58.519Z"
   },
   {
    "duration": 3,
    "start_time": "2022-08-11T19:22:19.159Z"
   },
   {
    "duration": 120,
    "start_time": "2022-08-11T19:22:19.163Z"
   },
   {
    "duration": 3,
    "start_time": "2022-08-11T19:22:19.285Z"
   },
   {
    "duration": 42,
    "start_time": "2022-08-11T19:22:19.289Z"
   },
   {
    "duration": 8,
    "start_time": "2022-08-11T19:22:19.333Z"
   },
   {
    "duration": 3,
    "start_time": "2022-08-11T19:22:19.343Z"
   },
   {
    "duration": 6,
    "start_time": "2022-08-11T19:22:19.348Z"
   },
   {
    "duration": 15,
    "start_time": "2022-08-11T19:22:19.356Z"
   },
   {
    "duration": 37,
    "start_time": "2022-08-11T19:22:19.373Z"
   },
   {
    "duration": 12,
    "start_time": "2022-08-11T19:22:19.412Z"
   },
   {
    "duration": 4,
    "start_time": "2022-08-11T19:22:19.426Z"
   },
   {
    "duration": 4,
    "start_time": "2022-08-11T19:22:19.431Z"
   },
   {
    "duration": 18,
    "start_time": "2022-08-11T19:22:19.437Z"
   },
   {
    "duration": 3,
    "start_time": "2022-08-11T19:24:05.731Z"
   },
   {
    "duration": 3,
    "start_time": "2022-08-11T19:25:26.341Z"
   },
   {
    "duration": 11,
    "start_time": "2022-08-11T19:25:44.646Z"
   },
   {
    "duration": 3,
    "start_time": "2022-08-11T19:26:06.146Z"
   },
   {
    "duration": 123,
    "start_time": "2022-08-11T19:26:06.151Z"
   },
   {
    "duration": 5,
    "start_time": "2022-08-11T19:26:06.275Z"
   },
   {
    "duration": 50,
    "start_time": "2022-08-11T19:26:06.283Z"
   },
   {
    "duration": 9,
    "start_time": "2022-08-11T19:26:06.335Z"
   },
   {
    "duration": 6,
    "start_time": "2022-08-11T19:26:06.346Z"
   },
   {
    "duration": 11,
    "start_time": "2022-08-11T19:26:06.354Z"
   },
   {
    "duration": 60,
    "start_time": "2022-08-11T19:26:06.367Z"
   },
   {
    "duration": 7,
    "start_time": "2022-08-11T19:26:06.430Z"
   },
   {
    "duration": 21,
    "start_time": "2022-08-11T19:26:06.439Z"
   },
   {
    "duration": 6,
    "start_time": "2022-08-11T19:26:06.462Z"
   },
   {
    "duration": 9,
    "start_time": "2022-08-11T19:26:06.470Z"
   },
   {
    "duration": 30,
    "start_time": "2022-08-11T19:26:06.481Z"
   },
   {
    "duration": 22,
    "start_time": "2022-08-11T19:26:06.513Z"
   },
   {
    "duration": 11,
    "start_time": "2022-08-11T19:26:10.756Z"
   },
   {
    "duration": 12,
    "start_time": "2022-08-11T19:27:08.808Z"
   },
   {
    "duration": 9,
    "start_time": "2022-08-11T19:27:22.526Z"
   },
   {
    "duration": 11,
    "start_time": "2022-08-11T19:27:25.427Z"
   },
   {
    "duration": 3,
    "start_time": "2022-08-11T19:27:33.128Z"
   },
   {
    "duration": 120,
    "start_time": "2022-08-11T19:27:33.133Z"
   },
   {
    "duration": 4,
    "start_time": "2022-08-11T19:27:33.255Z"
   },
   {
    "duration": 43,
    "start_time": "2022-08-11T19:27:33.261Z"
   },
   {
    "duration": 9,
    "start_time": "2022-08-11T19:27:33.307Z"
   },
   {
    "duration": 6,
    "start_time": "2022-08-11T19:27:33.317Z"
   },
   {
    "duration": 14,
    "start_time": "2022-08-11T19:27:33.324Z"
   },
   {
    "duration": 25,
    "start_time": "2022-08-11T19:27:33.340Z"
   },
   {
    "duration": 6,
    "start_time": "2022-08-11T19:27:33.367Z"
   },
   {
    "duration": 32,
    "start_time": "2022-08-11T19:27:33.374Z"
   },
   {
    "duration": 17,
    "start_time": "2022-08-11T19:27:33.408Z"
   },
   {
    "duration": 15,
    "start_time": "2022-08-11T19:27:33.426Z"
   },
   {
    "duration": 26,
    "start_time": "2022-08-11T19:27:33.442Z"
   },
   {
    "duration": 11,
    "start_time": "2022-08-11T19:27:48.903Z"
   },
   {
    "duration": 2,
    "start_time": "2022-08-11T19:36:38.399Z"
   },
   {
    "duration": 118,
    "start_time": "2022-08-11T19:36:38.403Z"
   },
   {
    "duration": 3,
    "start_time": "2022-08-11T19:36:38.523Z"
   },
   {
    "duration": 39,
    "start_time": "2022-08-11T19:36:38.528Z"
   },
   {
    "duration": 9,
    "start_time": "2022-08-11T19:36:38.569Z"
   },
   {
    "duration": 4,
    "start_time": "2022-08-11T19:36:38.579Z"
   },
   {
    "duration": 30,
    "start_time": "2022-08-11T19:36:38.584Z"
   },
   {
    "duration": 20,
    "start_time": "2022-08-11T19:36:38.616Z"
   },
   {
    "duration": 6,
    "start_time": "2022-08-11T19:36:38.638Z"
   },
   {
    "duration": 15,
    "start_time": "2022-08-11T19:36:38.646Z"
   },
   {
    "duration": 5,
    "start_time": "2022-08-11T19:36:38.663Z"
   },
   {
    "duration": 5,
    "start_time": "2022-08-11T19:36:38.669Z"
   },
   {
    "duration": 5,
    "start_time": "2022-08-11T19:36:38.676Z"
   },
   {
    "duration": 27,
    "start_time": "2022-08-11T19:36:38.683Z"
   },
   {
    "duration": 11,
    "start_time": "2022-08-11T19:37:04.003Z"
   },
   {
    "duration": 3,
    "start_time": "2022-08-11T19:38:16.654Z"
   },
   {
    "duration": 108,
    "start_time": "2022-08-11T19:38:16.661Z"
   },
   {
    "duration": 3,
    "start_time": "2022-08-11T19:38:16.771Z"
   },
   {
    "duration": 43,
    "start_time": "2022-08-11T19:38:16.776Z"
   },
   {
    "duration": 9,
    "start_time": "2022-08-11T19:38:16.821Z"
   },
   {
    "duration": 4,
    "start_time": "2022-08-11T19:38:16.831Z"
   },
   {
    "duration": 8,
    "start_time": "2022-08-11T19:38:16.836Z"
   },
   {
    "duration": 18,
    "start_time": "2022-08-11T19:38:16.846Z"
   },
   {
    "duration": 5,
    "start_time": "2022-08-11T19:38:16.865Z"
   },
   {
    "duration": 41,
    "start_time": "2022-08-11T19:38:16.872Z"
   },
   {
    "duration": 4,
    "start_time": "2022-08-11T19:38:16.915Z"
   },
   {
    "duration": 6,
    "start_time": "2022-08-11T19:38:16.920Z"
   },
   {
    "duration": 6,
    "start_time": "2022-08-11T19:38:16.927Z"
   },
   {
    "duration": 14,
    "start_time": "2022-08-11T19:38:16.934Z"
   },
   {
    "duration": 16,
    "start_time": "2022-08-11T19:38:16.950Z"
   },
   {
    "duration": 3,
    "start_time": "2022-08-11T19:38:56.852Z"
   },
   {
    "duration": 110,
    "start_time": "2022-08-11T19:38:56.858Z"
   },
   {
    "duration": 3,
    "start_time": "2022-08-11T19:38:56.970Z"
   },
   {
    "duration": 38,
    "start_time": "2022-08-11T19:38:56.975Z"
   },
   {
    "duration": 10,
    "start_time": "2022-08-11T19:38:57.015Z"
   },
   {
    "duration": 4,
    "start_time": "2022-08-11T19:38:57.027Z"
   },
   {
    "duration": 8,
    "start_time": "2022-08-11T19:38:57.032Z"
   },
   {
    "duration": 16,
    "start_time": "2022-08-11T19:38:57.041Z"
   },
   {
    "duration": 7,
    "start_time": "2022-08-11T19:38:57.058Z"
   },
   {
    "duration": 16,
    "start_time": "2022-08-11T19:38:57.066Z"
   },
   {
    "duration": 4,
    "start_time": "2022-08-11T19:38:57.110Z"
   },
   {
    "duration": 5,
    "start_time": "2022-08-11T19:38:57.116Z"
   },
   {
    "duration": 6,
    "start_time": "2022-08-11T19:38:57.122Z"
   },
   {
    "duration": 19,
    "start_time": "2022-08-11T19:38:57.130Z"
   },
   {
    "duration": 10,
    "start_time": "2022-08-11T19:38:57.150Z"
   },
   {
    "duration": 3,
    "start_time": "2022-08-11T19:39:21.460Z"
   },
   {
    "duration": 3,
    "start_time": "2022-08-11T19:39:22.137Z"
   },
   {
    "duration": 15,
    "start_time": "2022-08-11T19:39:22.671Z"
   },
   {
    "duration": 11,
    "start_time": "2022-08-11T19:39:23.157Z"
   },
   {
    "duration": 44,
    "start_time": "2022-08-11T19:41:31.615Z"
   },
   {
    "duration": 34,
    "start_time": "2022-08-11T19:42:18.633Z"
   },
   {
    "duration": 3,
    "start_time": "2022-08-11T19:42:46.548Z"
   },
   {
    "duration": 113,
    "start_time": "2022-08-11T19:42:46.554Z"
   },
   {
    "duration": 3,
    "start_time": "2022-08-11T19:42:46.669Z"
   },
   {
    "duration": 44,
    "start_time": "2022-08-11T19:42:46.674Z"
   },
   {
    "duration": 12,
    "start_time": "2022-08-11T19:42:46.720Z"
   },
   {
    "duration": 3,
    "start_time": "2022-08-11T19:42:46.734Z"
   },
   {
    "duration": 6,
    "start_time": "2022-08-11T19:42:46.739Z"
   },
   {
    "duration": 17,
    "start_time": "2022-08-11T19:42:46.746Z"
   },
   {
    "duration": 6,
    "start_time": "2022-08-11T19:42:46.764Z"
   },
   {
    "duration": 38,
    "start_time": "2022-08-11T19:42:46.772Z"
   },
   {
    "duration": 7,
    "start_time": "2022-08-11T19:42:46.813Z"
   },
   {
    "duration": 40,
    "start_time": "2022-08-11T19:42:46.822Z"
   },
   {
    "duration": 11,
    "start_time": "2022-08-11T19:44:12.017Z"
   },
   {
    "duration": 50,
    "start_time": "2022-08-11T19:53:41.027Z"
   },
   {
    "duration": 10,
    "start_time": "2022-08-11T19:57:06.126Z"
   },
   {
    "duration": 9,
    "start_time": "2022-08-11T19:57:14.945Z"
   },
   {
    "duration": 3,
    "start_time": "2022-08-11T19:57:43.185Z"
   },
   {
    "duration": 110,
    "start_time": "2022-08-11T19:57:43.190Z"
   },
   {
    "duration": 3,
    "start_time": "2022-08-11T19:57:43.303Z"
   },
   {
    "duration": 47,
    "start_time": "2022-08-11T19:57:43.308Z"
   },
   {
    "duration": 11,
    "start_time": "2022-08-11T19:57:43.357Z"
   },
   {
    "duration": 5,
    "start_time": "2022-08-11T19:57:43.370Z"
   },
   {
    "duration": 32,
    "start_time": "2022-08-11T19:57:43.377Z"
   },
   {
    "duration": 23,
    "start_time": "2022-08-11T19:57:43.411Z"
   },
   {
    "duration": 12,
    "start_time": "2022-08-11T19:57:43.436Z"
   },
   {
    "duration": 14,
    "start_time": "2022-08-11T19:57:43.450Z"
   },
   {
    "duration": 5,
    "start_time": "2022-08-11T19:57:43.466Z"
   },
   {
    "duration": 63,
    "start_time": "2022-08-11T19:57:43.473Z"
   },
   {
    "duration": 8,
    "start_time": "2022-08-11T19:57:43.538Z"
   },
   {
    "duration": 10,
    "start_time": "2022-08-11T19:57:45.839Z"
   },
   {
    "duration": 12,
    "start_time": "2022-08-11T19:57:46.421Z"
   },
   {
    "duration": 3,
    "start_time": "2022-08-11T20:00:01.681Z"
   },
   {
    "duration": 174,
    "start_time": "2022-08-11T20:00:01.686Z"
   },
   {
    "duration": 4,
    "start_time": "2022-08-11T20:00:01.862Z"
   },
   {
    "duration": 64,
    "start_time": "2022-08-11T20:00:01.868Z"
   },
   {
    "duration": 22,
    "start_time": "2022-08-11T20:00:01.934Z"
   },
   {
    "duration": 23,
    "start_time": "2022-08-11T20:00:01.958Z"
   },
   {
    "duration": 64,
    "start_time": "2022-08-11T20:00:01.983Z"
   },
   {
    "duration": 36,
    "start_time": "2022-08-11T20:00:02.049Z"
   },
   {
    "duration": 20,
    "start_time": "2022-08-11T20:00:02.087Z"
   },
   {
    "duration": 96,
    "start_time": "2022-08-11T20:00:02.109Z"
   },
   {
    "duration": 35,
    "start_time": "2022-08-11T20:00:02.207Z"
   },
   {
    "duration": 40,
    "start_time": "2022-08-11T20:00:02.244Z"
   },
   {
    "duration": 97,
    "start_time": "2022-08-11T20:00:02.287Z"
   },
   {
    "duration": 8,
    "start_time": "2022-08-11T20:00:02.386Z"
   },
   {
    "duration": 57,
    "start_time": "2022-08-11T20:00:02.395Z"
   },
   {
    "duration": 56,
    "start_time": "2022-08-11T20:00:02.454Z"
   },
   {
    "duration": 3,
    "start_time": "2022-08-11T20:00:20.734Z"
   },
   {
    "duration": 113,
    "start_time": "2022-08-11T20:00:20.751Z"
   },
   {
    "duration": 4,
    "start_time": "2022-08-11T20:00:20.866Z"
   },
   {
    "duration": 58,
    "start_time": "2022-08-11T20:00:20.871Z"
   },
   {
    "duration": 9,
    "start_time": "2022-08-11T20:00:20.931Z"
   },
   {
    "duration": 4,
    "start_time": "2022-08-11T20:00:20.943Z"
   },
   {
    "duration": 9,
    "start_time": "2022-08-11T20:00:20.948Z"
   },
   {
    "duration": 18,
    "start_time": "2022-08-11T20:00:20.958Z"
   },
   {
    "duration": 6,
    "start_time": "2022-08-11T20:00:20.978Z"
   },
   {
    "duration": 36,
    "start_time": "2022-08-11T20:00:20.985Z"
   },
   {
    "duration": 5,
    "start_time": "2022-08-11T20:00:21.025Z"
   },
   {
    "duration": 8,
    "start_time": "2022-08-11T20:00:21.032Z"
   },
   {
    "duration": 11,
    "start_time": "2022-08-11T20:00:24.089Z"
   },
   {
    "duration": 3,
    "start_time": "2022-08-11T20:00:45.850Z"
   },
   {
    "duration": 127,
    "start_time": "2022-08-11T20:00:45.856Z"
   },
   {
    "duration": 5,
    "start_time": "2022-08-11T20:00:45.985Z"
   },
   {
    "duration": 61,
    "start_time": "2022-08-11T20:00:45.992Z"
   },
   {
    "duration": 14,
    "start_time": "2022-08-11T20:00:46.056Z"
   },
   {
    "duration": 5,
    "start_time": "2022-08-11T20:00:46.072Z"
   },
   {
    "duration": 32,
    "start_time": "2022-08-11T20:00:46.079Z"
   },
   {
    "duration": 17,
    "start_time": "2022-08-11T20:00:46.123Z"
   },
   {
    "duration": 7,
    "start_time": "2022-08-11T20:00:46.142Z"
   },
   {
    "duration": 18,
    "start_time": "2022-08-11T20:00:46.151Z"
   },
   {
    "duration": 5,
    "start_time": "2022-08-11T20:00:46.171Z"
   },
   {
    "duration": 8,
    "start_time": "2022-08-11T20:00:46.178Z"
   },
   {
    "duration": 31,
    "start_time": "2022-08-11T20:00:46.187Z"
   },
   {
    "duration": 53,
    "start_time": "2022-08-11T20:00:46.223Z"
   },
   {
    "duration": 8,
    "start_time": "2022-08-11T20:00:46.278Z"
   },
   {
    "duration": 25,
    "start_time": "2022-08-11T20:00:46.287Z"
   },
   {
    "duration": 10,
    "start_time": "2022-08-11T20:00:46.319Z"
   },
   {
    "duration": 3,
    "start_time": "2022-08-11T20:02:24.834Z"
   },
   {
    "duration": 116,
    "start_time": "2022-08-11T20:02:24.838Z"
   },
   {
    "duration": 4,
    "start_time": "2022-08-11T20:02:24.956Z"
   },
   {
    "duration": 45,
    "start_time": "2022-08-11T20:02:24.961Z"
   },
   {
    "duration": 11,
    "start_time": "2022-08-11T20:02:25.007Z"
   },
   {
    "duration": 5,
    "start_time": "2022-08-11T20:02:25.020Z"
   },
   {
    "duration": 10,
    "start_time": "2022-08-11T20:02:25.027Z"
   },
   {
    "duration": 18,
    "start_time": "2022-08-11T20:02:25.039Z"
   },
   {
    "duration": 6,
    "start_time": "2022-08-11T20:02:25.060Z"
   },
   {
    "duration": 42,
    "start_time": "2022-08-11T20:02:25.068Z"
   },
   {
    "duration": 6,
    "start_time": "2022-08-11T20:02:25.112Z"
   },
   {
    "duration": 7,
    "start_time": "2022-08-11T20:02:29.280Z"
   },
   {
    "duration": 11,
    "start_time": "2022-08-11T20:02:42.468Z"
   },
   {
    "duration": 3,
    "start_time": "2022-08-11T20:02:55.074Z"
   },
   {
    "duration": 110,
    "start_time": "2022-08-11T20:02:55.079Z"
   },
   {
    "duration": 3,
    "start_time": "2022-08-11T20:02:55.191Z"
   },
   {
    "duration": 45,
    "start_time": "2022-08-11T20:02:55.195Z"
   },
   {
    "duration": 8,
    "start_time": "2022-08-11T20:02:55.242Z"
   },
   {
    "duration": 3,
    "start_time": "2022-08-11T20:02:55.252Z"
   },
   {
    "duration": 9,
    "start_time": "2022-08-11T20:02:55.257Z"
   },
   {
    "duration": 51,
    "start_time": "2022-08-11T20:02:55.268Z"
   },
   {
    "duration": 6,
    "start_time": "2022-08-11T20:02:55.321Z"
   },
   {
    "duration": 15,
    "start_time": "2022-08-11T20:02:55.329Z"
   },
   {
    "duration": 4,
    "start_time": "2022-08-11T20:02:55.346Z"
   },
   {
    "duration": 7,
    "start_time": "2022-08-11T20:02:55.352Z"
   },
   {
    "duration": 4,
    "start_time": "2022-08-11T20:02:58.286Z"
   },
   {
    "duration": 11,
    "start_time": "2022-08-11T20:03:48.412Z"
   },
   {
    "duration": 3,
    "start_time": "2022-08-11T20:11:39.849Z"
   },
   {
    "duration": 110,
    "start_time": "2022-08-11T20:11:39.855Z"
   },
   {
    "duration": 3,
    "start_time": "2022-08-11T20:11:39.968Z"
   },
   {
    "duration": 45,
    "start_time": "2022-08-11T20:11:39.973Z"
   },
   {
    "duration": 9,
    "start_time": "2022-08-11T20:11:40.020Z"
   },
   {
    "duration": 17,
    "start_time": "2022-08-11T20:11:40.032Z"
   },
   {
    "duration": 15,
    "start_time": "2022-08-11T20:11:40.050Z"
   },
   {
    "duration": 18,
    "start_time": "2022-08-11T20:11:40.067Z"
   },
   {
    "duration": 22,
    "start_time": "2022-08-11T20:11:40.087Z"
   },
   {
    "duration": 17,
    "start_time": "2022-08-11T20:11:40.111Z"
   },
   {
    "duration": 5,
    "start_time": "2022-08-11T20:11:40.129Z"
   },
   {
    "duration": 9,
    "start_time": "2022-08-11T20:11:40.135Z"
   },
   {
    "duration": 9,
    "start_time": "2022-08-11T20:11:40.146Z"
   },
   {
    "duration": 62,
    "start_time": "2022-08-11T20:11:40.156Z"
   },
   {
    "duration": 8,
    "start_time": "2022-08-11T20:11:40.221Z"
   },
   {
    "duration": 9,
    "start_time": "2022-08-11T20:11:40.231Z"
   },
   {
    "duration": 9,
    "start_time": "2022-08-11T20:11:40.242Z"
   },
   {
    "duration": 12,
    "start_time": "2022-08-11T20:11:40.252Z"
   },
   {
    "duration": 16,
    "start_time": "2022-08-11T20:11:40.266Z"
   },
   {
    "duration": 3,
    "start_time": "2022-08-11T20:13:15.733Z"
   },
   {
    "duration": 114,
    "start_time": "2022-08-11T20:13:15.738Z"
   },
   {
    "duration": 3,
    "start_time": "2022-08-11T20:13:15.854Z"
   },
   {
    "duration": 49,
    "start_time": "2022-08-11T20:13:15.859Z"
   },
   {
    "duration": 9,
    "start_time": "2022-08-11T20:13:15.911Z"
   },
   {
    "duration": 6,
    "start_time": "2022-08-11T20:13:15.921Z"
   },
   {
    "duration": 7,
    "start_time": "2022-08-11T20:13:15.928Z"
   },
   {
    "duration": 22,
    "start_time": "2022-08-11T20:13:15.937Z"
   },
   {
    "duration": 10,
    "start_time": "2022-08-11T20:13:15.961Z"
   },
   {
    "duration": 23,
    "start_time": "2022-08-11T20:13:15.973Z"
   },
   {
    "duration": 13,
    "start_time": "2022-08-11T20:13:15.998Z"
   },
   {
    "duration": 14,
    "start_time": "2022-08-11T20:13:16.013Z"
   },
   {
    "duration": 8,
    "start_time": "2022-08-11T20:13:16.029Z"
   },
   {
    "duration": 39,
    "start_time": "2022-08-11T20:13:16.040Z"
   },
   {
    "duration": 35,
    "start_time": "2022-08-11T20:13:16.081Z"
   },
   {
    "duration": 11,
    "start_time": "2022-08-11T20:13:16.117Z"
   },
   {
    "duration": 4,
    "start_time": "2022-08-11T20:13:16.130Z"
   },
   {
    "duration": 15,
    "start_time": "2022-08-11T20:13:16.136Z"
   },
   {
    "duration": 11,
    "start_time": "2022-08-11T20:13:16.152Z"
   },
   {
    "duration": 36,
    "start_time": "2022-08-11T20:17:47.335Z"
   },
   {
    "duration": 29,
    "start_time": "2022-08-11T20:18:13.009Z"
   },
   {
    "duration": 792,
    "start_time": "2022-08-11T20:31:22.429Z"
   },
   {
    "duration": 10,
    "start_time": "2022-08-11T20:31:41.379Z"
   },
   {
    "duration": 4,
    "start_time": "2022-08-11T20:32:21.822Z"
   },
   {
    "duration": 9,
    "start_time": "2022-08-11T20:32:33.050Z"
   },
   {
    "duration": 6,
    "start_time": "2022-08-11T20:37:24.879Z"
   },
   {
    "duration": 6,
    "start_time": "2022-08-11T20:37:38.047Z"
   },
   {
    "duration": 4,
    "start_time": "2022-08-11T20:37:51.417Z"
   },
   {
    "duration": 3,
    "start_time": "2022-08-11T20:39:38.761Z"
   },
   {
    "duration": 114,
    "start_time": "2022-08-11T20:39:38.765Z"
   },
   {
    "duration": 4,
    "start_time": "2022-08-11T20:39:38.881Z"
   },
   {
    "duration": 40,
    "start_time": "2022-08-11T20:39:38.886Z"
   },
   {
    "duration": 8,
    "start_time": "2022-08-11T20:39:38.928Z"
   },
   {
    "duration": 4,
    "start_time": "2022-08-11T20:39:38.938Z"
   },
   {
    "duration": 7,
    "start_time": "2022-08-11T20:39:38.944Z"
   },
   {
    "duration": 30,
    "start_time": "2022-08-11T20:39:38.953Z"
   },
   {
    "duration": 12,
    "start_time": "2022-08-11T20:39:38.985Z"
   },
   {
    "duration": 22,
    "start_time": "2022-08-11T20:39:38.998Z"
   },
   {
    "duration": 4,
    "start_time": "2022-08-11T20:39:39.023Z"
   },
   {
    "duration": 14,
    "start_time": "2022-08-11T20:39:39.028Z"
   },
   {
    "duration": 6,
    "start_time": "2022-08-11T20:39:39.044Z"
   },
   {
    "duration": 36,
    "start_time": "2022-08-11T20:39:39.051Z"
   },
   {
    "duration": 8,
    "start_time": "2022-08-11T20:39:39.108Z"
   },
   {
    "duration": 9,
    "start_time": "2022-08-11T20:39:39.117Z"
   },
   {
    "duration": 3,
    "start_time": "2022-08-11T20:39:39.127Z"
   },
   {
    "duration": 12,
    "start_time": "2022-08-11T20:39:39.132Z"
   },
   {
    "duration": 29,
    "start_time": "2022-08-11T20:39:39.145Z"
   },
   {
    "duration": 4,
    "start_time": "2022-08-11T20:39:39.176Z"
   },
   {
    "duration": 413,
    "start_time": "2022-08-11T20:44:18.575Z"
   },
   {
    "duration": 20,
    "start_time": "2022-08-11T20:44:23.215Z"
   },
   {
    "duration": 2,
    "start_time": "2022-08-11T20:45:24.379Z"
   },
   {
    "duration": 113,
    "start_time": "2022-08-11T20:45:24.383Z"
   },
   {
    "duration": 3,
    "start_time": "2022-08-11T20:45:24.498Z"
   },
   {
    "duration": 53,
    "start_time": "2022-08-11T20:45:24.503Z"
   },
   {
    "duration": 9,
    "start_time": "2022-08-11T20:45:24.557Z"
   },
   {
    "duration": 17,
    "start_time": "2022-08-11T20:45:24.567Z"
   },
   {
    "duration": 23,
    "start_time": "2022-08-11T20:45:24.586Z"
   },
   {
    "duration": 16,
    "start_time": "2022-08-11T20:45:24.610Z"
   },
   {
    "duration": 5,
    "start_time": "2022-08-11T20:45:24.628Z"
   },
   {
    "duration": 39,
    "start_time": "2022-08-11T20:45:24.634Z"
   },
   {
    "duration": 4,
    "start_time": "2022-08-11T20:45:24.674Z"
   },
   {
    "duration": 7,
    "start_time": "2022-08-11T20:45:24.680Z"
   },
   {
    "duration": 4,
    "start_time": "2022-08-11T20:45:24.689Z"
   },
   {
    "duration": 40,
    "start_time": "2022-08-11T20:45:24.695Z"
   },
   {
    "duration": 7,
    "start_time": "2022-08-11T20:45:24.737Z"
   },
   {
    "duration": 10,
    "start_time": "2022-08-11T20:45:24.745Z"
   },
   {
    "duration": 6,
    "start_time": "2022-08-11T20:45:24.756Z"
   },
   {
    "duration": 20,
    "start_time": "2022-08-11T20:45:24.763Z"
   },
   {
    "duration": 49,
    "start_time": "2022-08-11T20:45:24.785Z"
   },
   {
    "duration": 6,
    "start_time": "2022-08-11T20:45:24.836Z"
   },
   {
    "duration": 4,
    "start_time": "2022-08-11T20:45:27.595Z"
   },
   {
    "duration": 12,
    "start_time": "2022-08-11T20:45:28.941Z"
   },
   {
    "duration": 10,
    "start_time": "2022-08-11T20:45:45.882Z"
   },
   {
    "duration": 9,
    "start_time": "2022-08-11T20:45:48.512Z"
   },
   {
    "duration": 3,
    "start_time": "2022-08-11T20:50:46.671Z"
   },
   {
    "duration": 108,
    "start_time": "2022-08-11T20:50:46.677Z"
   },
   {
    "duration": 4,
    "start_time": "2022-08-11T20:50:46.787Z"
   },
   {
    "duration": 40,
    "start_time": "2022-08-11T20:50:46.792Z"
   },
   {
    "duration": 9,
    "start_time": "2022-08-11T20:50:46.834Z"
   },
   {
    "duration": 4,
    "start_time": "2022-08-11T20:50:46.844Z"
   },
   {
    "duration": 7,
    "start_time": "2022-08-11T20:50:46.849Z"
   },
   {
    "duration": 16,
    "start_time": "2022-08-11T20:50:46.857Z"
   },
   {
    "duration": 35,
    "start_time": "2022-08-11T20:50:46.874Z"
   },
   {
    "duration": 13,
    "start_time": "2022-08-11T20:50:46.910Z"
   },
   {
    "duration": 4,
    "start_time": "2022-08-11T20:50:46.925Z"
   },
   {
    "duration": 8,
    "start_time": "2022-08-11T20:50:46.930Z"
   },
   {
    "duration": 5,
    "start_time": "2022-08-11T20:50:46.939Z"
   },
   {
    "duration": 65,
    "start_time": "2022-08-11T20:50:46.945Z"
   },
   {
    "duration": 7,
    "start_time": "2022-08-11T20:50:47.012Z"
   },
   {
    "duration": 8,
    "start_time": "2022-08-11T20:50:47.021Z"
   },
   {
    "duration": 8,
    "start_time": "2022-08-11T20:50:47.031Z"
   },
   {
    "duration": 10,
    "start_time": "2022-08-11T20:50:47.041Z"
   },
   {
    "duration": 56,
    "start_time": "2022-08-11T20:50:47.053Z"
   },
   {
    "duration": 7,
    "start_time": "2022-08-11T20:50:47.111Z"
   },
   {
    "duration": 4,
    "start_time": "2022-08-11T20:50:49.574Z"
   },
   {
    "duration": 6,
    "start_time": "2022-08-11T20:50:50.299Z"
   },
   {
    "duration": 11,
    "start_time": "2022-08-11T20:50:51.252Z"
   },
   {
    "duration": 12,
    "start_time": "2022-08-11T20:51:08.507Z"
   },
   {
    "duration": 3,
    "start_time": "2022-08-11T20:51:37.999Z"
   },
   {
    "duration": 113,
    "start_time": "2022-08-11T20:51:38.003Z"
   },
   {
    "duration": 3,
    "start_time": "2022-08-11T20:51:38.118Z"
   },
   {
    "duration": 42,
    "start_time": "2022-08-11T20:51:38.122Z"
   },
   {
    "duration": 8,
    "start_time": "2022-08-11T20:51:38.166Z"
   },
   {
    "duration": 3,
    "start_time": "2022-08-11T20:51:38.176Z"
   },
   {
    "duration": 8,
    "start_time": "2022-08-11T20:51:38.180Z"
   },
   {
    "duration": 37,
    "start_time": "2022-08-11T20:51:38.190Z"
   },
   {
    "duration": 6,
    "start_time": "2022-08-11T20:51:38.228Z"
   },
   {
    "duration": 13,
    "start_time": "2022-08-11T20:51:38.236Z"
   },
   {
    "duration": 4,
    "start_time": "2022-08-11T20:51:38.251Z"
   },
   {
    "duration": 8,
    "start_time": "2022-08-11T20:51:38.256Z"
   },
   {
    "duration": 4,
    "start_time": "2022-08-11T20:51:38.266Z"
   },
   {
    "duration": 61,
    "start_time": "2022-08-11T20:51:38.271Z"
   },
   {
    "duration": 7,
    "start_time": "2022-08-11T20:51:38.333Z"
   },
   {
    "duration": 9,
    "start_time": "2022-08-11T20:51:38.342Z"
   },
   {
    "duration": 9,
    "start_time": "2022-08-11T20:51:38.352Z"
   },
   {
    "duration": 15,
    "start_time": "2022-08-11T20:51:38.362Z"
   },
   {
    "duration": 53,
    "start_time": "2022-08-11T20:51:38.378Z"
   },
   {
    "duration": 5,
    "start_time": "2022-08-11T20:51:38.433Z"
   },
   {
    "duration": 7,
    "start_time": "2022-08-11T20:51:43.061Z"
   },
   {
    "duration": 14,
    "start_time": "2022-08-11T20:52:24.304Z"
   },
   {
    "duration": 11,
    "start_time": "2022-08-11T20:52:42.353Z"
   },
   {
    "duration": 3,
    "start_time": "2022-08-11T20:52:50.117Z"
   },
   {
    "duration": 107,
    "start_time": "2022-08-11T20:52:50.123Z"
   },
   {
    "duration": 4,
    "start_time": "2022-08-11T20:52:50.232Z"
   },
   {
    "duration": 66,
    "start_time": "2022-08-11T20:52:50.238Z"
   },
   {
    "duration": 8,
    "start_time": "2022-08-11T20:52:50.308Z"
   },
   {
    "duration": 6,
    "start_time": "2022-08-11T20:52:50.318Z"
   },
   {
    "duration": 9,
    "start_time": "2022-08-11T20:52:50.325Z"
   },
   {
    "duration": 17,
    "start_time": "2022-08-11T20:52:50.335Z"
   },
   {
    "duration": 9,
    "start_time": "2022-08-11T20:52:50.354Z"
   },
   {
    "duration": 13,
    "start_time": "2022-08-11T20:52:50.365Z"
   },
   {
    "duration": 4,
    "start_time": "2022-08-11T20:52:50.381Z"
   },
   {
    "duration": 6,
    "start_time": "2022-08-11T20:52:50.409Z"
   },
   {
    "duration": 14,
    "start_time": "2022-08-11T20:52:50.417Z"
   },
   {
    "duration": 58,
    "start_time": "2022-08-11T20:52:50.432Z"
   },
   {
    "duration": 8,
    "start_time": "2022-08-11T20:52:50.492Z"
   },
   {
    "duration": 16,
    "start_time": "2022-08-11T20:52:50.501Z"
   },
   {
    "duration": 9,
    "start_time": "2022-08-11T20:52:50.519Z"
   },
   {
    "duration": 13,
    "start_time": "2022-08-11T20:52:50.530Z"
   },
   {
    "duration": 38,
    "start_time": "2022-08-11T20:52:50.545Z"
   },
   {
    "duration": 6,
    "start_time": "2022-08-11T20:52:50.584Z"
   },
   {
    "duration": 7,
    "start_time": "2022-08-11T20:52:50.609Z"
   },
   {
    "duration": 12,
    "start_time": "2022-08-11T20:52:56.890Z"
   },
   {
    "duration": 3,
    "start_time": "2022-08-11T20:53:01.430Z"
   },
   {
    "duration": 136,
    "start_time": "2022-08-11T20:53:01.435Z"
   },
   {
    "duration": 4,
    "start_time": "2022-08-11T20:53:01.573Z"
   },
   {
    "duration": 70,
    "start_time": "2022-08-11T20:53:01.579Z"
   },
   {
    "duration": 15,
    "start_time": "2022-08-11T20:53:01.652Z"
   },
   {
    "duration": 5,
    "start_time": "2022-08-11T20:53:01.670Z"
   },
   {
    "duration": 34,
    "start_time": "2022-08-11T20:53:01.677Z"
   },
   {
    "duration": 22,
    "start_time": "2022-08-11T20:53:01.712Z"
   },
   {
    "duration": 14,
    "start_time": "2022-08-11T20:53:01.736Z"
   },
   {
    "duration": 21,
    "start_time": "2022-08-11T20:53:01.751Z"
   },
   {
    "duration": 5,
    "start_time": "2022-08-11T20:53:01.774Z"
   },
   {
    "duration": 25,
    "start_time": "2022-08-11T20:53:01.780Z"
   },
   {
    "duration": 14,
    "start_time": "2022-08-11T20:53:01.806Z"
   },
   {
    "duration": 50,
    "start_time": "2022-08-11T20:53:01.822Z"
   },
   {
    "duration": 8,
    "start_time": "2022-08-11T20:53:01.874Z"
   },
   {
    "duration": 31,
    "start_time": "2022-08-11T20:53:01.883Z"
   },
   {
    "duration": 13,
    "start_time": "2022-08-11T20:53:01.916Z"
   },
   {
    "duration": 13,
    "start_time": "2022-08-11T20:53:01.931Z"
   },
   {
    "duration": 35,
    "start_time": "2022-08-11T20:53:01.946Z"
   },
   {
    "duration": 23,
    "start_time": "2022-08-11T20:53:01.982Z"
   },
   {
    "duration": 19,
    "start_time": "2022-08-11T20:53:02.006Z"
   },
   {
    "duration": 43,
    "start_time": "2022-08-11T20:53:02.027Z"
   },
   {
    "duration": 4,
    "start_time": "2022-08-11T20:53:41.829Z"
   },
   {
    "duration": 10,
    "start_time": "2022-08-11T20:53:46.980Z"
   },
   {
    "duration": 3,
    "start_time": "2022-08-11T20:54:05.415Z"
   },
   {
    "duration": 105,
    "start_time": "2022-08-11T20:54:05.424Z"
   },
   {
    "duration": 4,
    "start_time": "2022-08-11T20:54:05.530Z"
   },
   {
    "duration": 40,
    "start_time": "2022-08-11T20:54:05.535Z"
   },
   {
    "duration": 8,
    "start_time": "2022-08-11T20:54:05.577Z"
   },
   {
    "duration": 3,
    "start_time": "2022-08-11T20:54:05.587Z"
   },
   {
    "duration": 21,
    "start_time": "2022-08-11T20:54:05.592Z"
   },
   {
    "duration": 19,
    "start_time": "2022-08-11T20:54:05.614Z"
   },
   {
    "duration": 9,
    "start_time": "2022-08-11T20:54:05.634Z"
   },
   {
    "duration": 18,
    "start_time": "2022-08-11T20:54:05.644Z"
   },
   {
    "duration": 10,
    "start_time": "2022-08-11T20:54:05.664Z"
   },
   {
    "duration": 15,
    "start_time": "2022-08-11T20:54:05.675Z"
   },
   {
    "duration": 19,
    "start_time": "2022-08-11T20:54:05.692Z"
   },
   {
    "duration": 44,
    "start_time": "2022-08-11T20:54:05.713Z"
   },
   {
    "duration": 7,
    "start_time": "2022-08-11T20:54:05.759Z"
   },
   {
    "duration": 21,
    "start_time": "2022-08-11T20:54:05.767Z"
   },
   {
    "duration": 9,
    "start_time": "2022-08-11T20:54:05.790Z"
   },
   {
    "duration": 16,
    "start_time": "2022-08-11T20:54:05.800Z"
   },
   {
    "duration": 32,
    "start_time": "2022-08-11T20:54:05.817Z"
   },
   {
    "duration": 5,
    "start_time": "2022-08-11T20:54:05.851Z"
   },
   {
    "duration": 14,
    "start_time": "2022-08-11T20:54:05.857Z"
   },
   {
    "duration": 11,
    "start_time": "2022-08-11T20:54:05.873Z"
   },
   {
    "duration": 8,
    "start_time": "2022-08-11T20:54:28.472Z"
   },
   {
    "duration": 22,
    "start_time": "2022-08-11T20:59:07.074Z"
   },
   {
    "duration": 5,
    "start_time": "2022-08-11T21:00:27.320Z"
   },
   {
    "duration": 6,
    "start_time": "2022-08-11T21:00:36.971Z"
   },
   {
    "duration": 1350,
    "start_time": "2022-08-12T08:44:51.661Z"
   },
   {
    "duration": 313,
    "start_time": "2022-08-12T08:44:53.013Z"
   },
   {
    "duration": 4,
    "start_time": "2022-08-12T08:44:53.328Z"
   },
   {
    "duration": 55,
    "start_time": "2022-08-12T08:44:53.335Z"
   },
   {
    "duration": 12,
    "start_time": "2022-08-12T08:44:53.391Z"
   },
   {
    "duration": 17,
    "start_time": "2022-08-12T08:44:53.404Z"
   },
   {
    "duration": 12,
    "start_time": "2022-08-12T08:44:53.423Z"
   },
   {
    "duration": 43,
    "start_time": "2022-08-12T08:44:53.436Z"
   },
   {
    "duration": 6,
    "start_time": "2022-08-12T08:44:53.480Z"
   },
   {
    "duration": 24,
    "start_time": "2022-08-12T08:44:53.488Z"
   },
   {
    "duration": 8,
    "start_time": "2022-08-12T08:44:53.513Z"
   },
   {
    "duration": 20,
    "start_time": "2022-08-12T08:44:53.523Z"
   },
   {
    "duration": 11,
    "start_time": "2022-08-12T08:44:53.544Z"
   },
   {
    "duration": 110,
    "start_time": "2022-08-12T08:51:35.239Z"
   },
   {
    "duration": 4,
    "start_time": "2022-08-12T08:51:44.752Z"
   },
   {
    "duration": 17,
    "start_time": "2022-08-12T08:51:55.277Z"
   },
   {
    "duration": 3,
    "start_time": "2022-08-12T08:54:27.096Z"
   },
   {
    "duration": 118,
    "start_time": "2022-08-12T08:54:27.100Z"
   },
   {
    "duration": 4,
    "start_time": "2022-08-12T08:54:27.220Z"
   },
   {
    "duration": 42,
    "start_time": "2022-08-12T08:54:27.225Z"
   },
   {
    "duration": 11,
    "start_time": "2022-08-12T08:54:27.270Z"
   },
   {
    "duration": 30,
    "start_time": "2022-08-12T08:54:27.282Z"
   },
   {
    "duration": 6,
    "start_time": "2022-08-12T08:54:27.313Z"
   },
   {
    "duration": 21,
    "start_time": "2022-08-12T08:54:27.321Z"
   },
   {
    "duration": 6,
    "start_time": "2022-08-12T08:54:27.343Z"
   },
   {
    "duration": 13,
    "start_time": "2022-08-12T08:54:27.351Z"
   },
   {
    "duration": 4,
    "start_time": "2022-08-12T08:54:27.367Z"
   },
   {
    "duration": 40,
    "start_time": "2022-08-12T08:54:27.373Z"
   },
   {
    "duration": 6,
    "start_time": "2022-08-12T08:54:27.415Z"
   },
   {
    "duration": 5,
    "start_time": "2022-08-12T08:54:27.423Z"
   },
   {
    "duration": 47,
    "start_time": "2022-08-12T08:54:27.430Z"
   },
   {
    "duration": 11,
    "start_time": "2022-08-12T08:54:27.512Z"
   },
   {
    "duration": 13,
    "start_time": "2022-08-12T08:54:27.525Z"
   },
   {
    "duration": 5,
    "start_time": "2022-08-12T08:54:27.540Z"
   },
   {
    "duration": 20,
    "start_time": "2022-08-12T08:54:27.547Z"
   },
   {
    "duration": 61,
    "start_time": "2022-08-12T08:54:27.569Z"
   },
   {
    "duration": 6,
    "start_time": "2022-08-12T08:54:27.631Z"
   },
   {
    "duration": 13,
    "start_time": "2022-08-12T08:54:27.639Z"
   },
   {
    "duration": 10,
    "start_time": "2022-08-12T08:54:27.653Z"
   },
   {
    "duration": 58,
    "start_time": "2022-08-12T08:54:27.664Z"
   },
   {
    "duration": 5,
    "start_time": "2022-08-12T08:54:27.724Z"
   },
   {
    "duration": 9,
    "start_time": "2022-08-12T08:54:27.731Z"
   },
   {
    "duration": 12,
    "start_time": "2022-08-12T08:55:49.539Z"
   },
   {
    "duration": 23,
    "start_time": "2022-08-12T08:56:03.070Z"
   },
   {
    "duration": 5,
    "start_time": "2022-08-12T09:23:13.029Z"
   },
   {
    "duration": 19,
    "start_time": "2022-08-12T09:23:21.537Z"
   },
   {
    "duration": 5,
    "start_time": "2022-08-12T09:23:45.040Z"
   },
   {
    "duration": 20,
    "start_time": "2022-08-12T09:23:46.025Z"
   },
   {
    "duration": 3,
    "start_time": "2022-08-12T09:24:08.469Z"
   },
   {
    "duration": 124,
    "start_time": "2022-08-12T09:24:08.476Z"
   },
   {
    "duration": 4,
    "start_time": "2022-08-12T09:24:08.601Z"
   },
   {
    "duration": 57,
    "start_time": "2022-08-12T09:24:08.606Z"
   },
   {
    "duration": 9,
    "start_time": "2022-08-12T09:24:08.665Z"
   },
   {
    "duration": 14,
    "start_time": "2022-08-12T09:24:08.675Z"
   },
   {
    "duration": 17,
    "start_time": "2022-08-12T09:24:08.691Z"
   },
   {
    "duration": 35,
    "start_time": "2022-08-12T09:24:08.711Z"
   },
   {
    "duration": 22,
    "start_time": "2022-08-12T09:24:08.748Z"
   },
   {
    "duration": 19,
    "start_time": "2022-08-12T09:24:08.771Z"
   },
   {
    "duration": 8,
    "start_time": "2022-08-12T09:24:08.793Z"
   },
   {
    "duration": 24,
    "start_time": "2022-08-12T09:24:08.803Z"
   },
   {
    "duration": 17,
    "start_time": "2022-08-12T09:24:08.828Z"
   },
   {
    "duration": 18,
    "start_time": "2022-08-12T09:24:08.847Z"
   },
   {
    "duration": 43,
    "start_time": "2022-08-12T09:24:08.866Z"
   },
   {
    "duration": 14,
    "start_time": "2022-08-12T09:24:08.914Z"
   },
   {
    "duration": 33,
    "start_time": "2022-08-12T09:24:08.929Z"
   },
   {
    "duration": 19,
    "start_time": "2022-08-12T09:24:08.963Z"
   },
   {
    "duration": 34,
    "start_time": "2022-08-12T09:24:08.983Z"
   },
   {
    "duration": 59,
    "start_time": "2022-08-12T09:24:09.018Z"
   },
   {
    "duration": 7,
    "start_time": "2022-08-12T09:24:09.078Z"
   },
   {
    "duration": 42,
    "start_time": "2022-08-12T09:24:09.087Z"
   },
   {
    "duration": 30,
    "start_time": "2022-08-12T09:24:09.131Z"
   },
   {
    "duration": 39,
    "start_time": "2022-08-12T09:24:09.163Z"
   },
   {
    "duration": 25,
    "start_time": "2022-08-12T09:24:09.204Z"
   },
   {
    "duration": 32,
    "start_time": "2022-08-12T09:24:09.230Z"
   },
   {
    "duration": 39,
    "start_time": "2022-08-12T09:24:09.264Z"
   },
   {
    "duration": 21,
    "start_time": "2022-08-12T09:24:09.304Z"
   },
   {
    "duration": 4,
    "start_time": "2022-08-12T09:26:39.265Z"
   },
   {
    "duration": 18,
    "start_time": "2022-08-12T09:26:41.467Z"
   },
   {
    "duration": 4,
    "start_time": "2022-08-12T09:27:28.981Z"
   },
   {
    "duration": 17,
    "start_time": "2022-08-12T09:27:29.744Z"
   },
   {
    "duration": 3,
    "start_time": "2022-08-12T09:28:59.332Z"
   },
   {
    "duration": 128,
    "start_time": "2022-08-12T09:28:59.337Z"
   },
   {
    "duration": 5,
    "start_time": "2022-08-12T09:28:59.467Z"
   },
   {
    "duration": 66,
    "start_time": "2022-08-12T09:28:59.474Z"
   },
   {
    "duration": 12,
    "start_time": "2022-08-12T09:28:59.542Z"
   },
   {
    "duration": 4,
    "start_time": "2022-08-12T09:28:59.556Z"
   },
   {
    "duration": 6,
    "start_time": "2022-08-12T09:28:59.562Z"
   },
   {
    "duration": 50,
    "start_time": "2022-08-12T09:28:59.569Z"
   },
   {
    "duration": 6,
    "start_time": "2022-08-12T09:28:59.622Z"
   },
   {
    "duration": 14,
    "start_time": "2022-08-12T09:28:59.630Z"
   },
   {
    "duration": 4,
    "start_time": "2022-08-12T09:28:59.646Z"
   },
   {
    "duration": 8,
    "start_time": "2022-08-12T09:28:59.652Z"
   },
   {
    "duration": 11,
    "start_time": "2022-08-12T09:28:59.661Z"
   },
   {
    "duration": 6,
    "start_time": "2022-08-12T09:28:59.674Z"
   },
   {
    "duration": 80,
    "start_time": "2022-08-12T09:28:59.682Z"
   },
   {
    "duration": 9,
    "start_time": "2022-08-12T09:28:59.763Z"
   },
   {
    "duration": 40,
    "start_time": "2022-08-12T09:28:59.773Z"
   },
   {
    "duration": 4,
    "start_time": "2022-08-12T09:28:59.814Z"
   },
   {
    "duration": 14,
    "start_time": "2022-08-12T09:28:59.820Z"
   },
   {
    "duration": 32,
    "start_time": "2022-08-12T09:28:59.835Z"
   },
   {
    "duration": 6,
    "start_time": "2022-08-12T09:28:59.868Z"
   },
   {
    "duration": 39,
    "start_time": "2022-08-12T09:28:59.875Z"
   },
   {
    "duration": 8,
    "start_time": "2022-08-12T09:28:59.916Z"
   },
   {
    "duration": 24,
    "start_time": "2022-08-12T09:28:59.926Z"
   },
   {
    "duration": 4,
    "start_time": "2022-08-12T09:28:59.952Z"
   },
   {
    "duration": 9,
    "start_time": "2022-08-12T09:28:59.957Z"
   },
   {
    "duration": 57,
    "start_time": "2022-08-12T09:28:59.968Z"
   },
   {
    "duration": 5,
    "start_time": "2022-08-12T09:29:03.670Z"
   },
   {
    "duration": 18,
    "start_time": "2022-08-12T09:29:05.525Z"
   },
   {
    "duration": 3,
    "start_time": "2022-08-12T09:29:52.224Z"
   },
   {
    "duration": 111,
    "start_time": "2022-08-12T09:29:52.229Z"
   },
   {
    "duration": 4,
    "start_time": "2022-08-12T09:29:52.342Z"
   },
   {
    "duration": 58,
    "start_time": "2022-08-12T09:29:52.347Z"
   },
   {
    "duration": 10,
    "start_time": "2022-08-12T09:29:52.407Z"
   },
   {
    "duration": 20,
    "start_time": "2022-08-12T09:29:52.419Z"
   },
   {
    "duration": 12,
    "start_time": "2022-08-12T09:29:52.441Z"
   },
   {
    "duration": 37,
    "start_time": "2022-08-12T09:29:52.455Z"
   },
   {
    "duration": 18,
    "start_time": "2022-08-12T09:29:52.493Z"
   },
   {
    "duration": 39,
    "start_time": "2022-08-12T09:29:52.513Z"
   },
   {
    "duration": 13,
    "start_time": "2022-08-12T09:29:52.555Z"
   },
   {
    "duration": 25,
    "start_time": "2022-08-12T09:29:52.569Z"
   },
   {
    "duration": 17,
    "start_time": "2022-08-12T09:29:52.596Z"
   },
   {
    "duration": 21,
    "start_time": "2022-08-12T09:29:52.615Z"
   },
   {
    "duration": 71,
    "start_time": "2022-08-12T09:29:52.638Z"
   },
   {
    "duration": 10,
    "start_time": "2022-08-12T09:29:52.711Z"
   },
   {
    "duration": 22,
    "start_time": "2022-08-12T09:29:52.723Z"
   },
   {
    "duration": 37,
    "start_time": "2022-08-12T09:29:52.747Z"
   },
   {
    "duration": 21,
    "start_time": "2022-08-12T09:29:52.786Z"
   },
   {
    "duration": 46,
    "start_time": "2022-08-12T09:29:52.809Z"
   },
   {
    "duration": 4,
    "start_time": "2022-08-12T09:29:52.857Z"
   },
   {
    "duration": 32,
    "start_time": "2022-08-12T09:29:52.863Z"
   },
   {
    "duration": 16,
    "start_time": "2022-08-12T09:29:52.897Z"
   },
   {
    "duration": 41,
    "start_time": "2022-08-12T09:29:52.914Z"
   },
   {
    "duration": 5,
    "start_time": "2022-08-12T09:29:52.956Z"
   },
   {
    "duration": 15,
    "start_time": "2022-08-12T09:29:52.962Z"
   },
   {
    "duration": 41,
    "start_time": "2022-08-12T09:29:52.979Z"
   },
   {
    "duration": 4,
    "start_time": "2022-08-12T09:29:55.740Z"
   },
   {
    "duration": 19,
    "start_time": "2022-08-12T09:29:57.538Z"
   },
   {
    "duration": 6,
    "start_time": "2022-08-12T09:30:57.584Z"
   },
   {
    "duration": 17,
    "start_time": "2022-08-12T09:30:58.849Z"
   },
   {
    "duration": 26,
    "start_time": "2022-08-12T09:31:12.183Z"
   },
   {
    "duration": 14,
    "start_time": "2022-08-12T09:31:13.443Z"
   },
   {
    "duration": 3,
    "start_time": "2022-08-12T09:31:18.285Z"
   },
   {
    "duration": 130,
    "start_time": "2022-08-12T09:31:18.292Z"
   },
   {
    "duration": 4,
    "start_time": "2022-08-12T09:31:18.424Z"
   },
   {
    "duration": 52,
    "start_time": "2022-08-12T09:31:18.430Z"
   },
   {
    "duration": 10,
    "start_time": "2022-08-12T09:31:18.484Z"
   },
   {
    "duration": 7,
    "start_time": "2022-08-12T09:31:18.495Z"
   },
   {
    "duration": 37,
    "start_time": "2022-08-12T09:31:18.504Z"
   },
   {
    "duration": 24,
    "start_time": "2022-08-12T09:31:18.542Z"
   },
   {
    "duration": 13,
    "start_time": "2022-08-12T09:31:18.568Z"
   },
   {
    "duration": 24,
    "start_time": "2022-08-12T09:31:18.583Z"
   },
   {
    "duration": 18,
    "start_time": "2022-08-12T09:31:18.609Z"
   },
   {
    "duration": 16,
    "start_time": "2022-08-12T09:31:18.628Z"
   },
   {
    "duration": 12,
    "start_time": "2022-08-12T09:31:18.645Z"
   },
   {
    "duration": 8,
    "start_time": "2022-08-12T09:31:18.658Z"
   },
   {
    "duration": 55,
    "start_time": "2022-08-12T09:31:18.667Z"
   },
   {
    "duration": 8,
    "start_time": "2022-08-12T09:31:18.724Z"
   },
   {
    "duration": 23,
    "start_time": "2022-08-12T09:31:18.734Z"
   },
   {
    "duration": 10,
    "start_time": "2022-08-12T09:31:18.758Z"
   },
   {
    "duration": 19,
    "start_time": "2022-08-12T09:31:18.770Z"
   },
   {
    "duration": 58,
    "start_time": "2022-08-12T09:31:18.790Z"
   },
   {
    "duration": 6,
    "start_time": "2022-08-12T09:31:18.849Z"
   },
   {
    "duration": 22,
    "start_time": "2022-08-12T09:31:18.858Z"
   },
   {
    "duration": 20,
    "start_time": "2022-08-12T09:31:18.881Z"
   },
   {
    "duration": 42,
    "start_time": "2022-08-12T09:31:18.902Z"
   },
   {
    "duration": 5,
    "start_time": "2022-08-12T09:31:18.946Z"
   },
   {
    "duration": 23,
    "start_time": "2022-08-12T09:31:18.953Z"
   },
   {
    "duration": 47,
    "start_time": "2022-08-12T09:31:18.978Z"
   },
   {
    "duration": 26,
    "start_time": "2022-08-12T09:31:22.934Z"
   },
   {
    "duration": 14,
    "start_time": "2022-08-12T09:31:24.881Z"
   },
   {
    "duration": 3,
    "start_time": "2022-08-12T09:31:58.327Z"
   },
   {
    "duration": 114,
    "start_time": "2022-08-12T09:31:58.332Z"
   },
   {
    "duration": 3,
    "start_time": "2022-08-12T09:31:58.448Z"
   },
   {
    "duration": 45,
    "start_time": "2022-08-12T09:31:58.453Z"
   },
   {
    "duration": 18,
    "start_time": "2022-08-12T09:31:58.499Z"
   },
   {
    "duration": 4,
    "start_time": "2022-08-12T09:31:58.519Z"
   },
   {
    "duration": 9,
    "start_time": "2022-08-12T09:31:58.524Z"
   },
   {
    "duration": 19,
    "start_time": "2022-08-12T09:31:58.534Z"
   },
   {
    "duration": 18,
    "start_time": "2022-08-12T09:31:58.555Z"
   },
   {
    "duration": 16,
    "start_time": "2022-08-12T09:31:58.574Z"
   },
   {
    "duration": 5,
    "start_time": "2022-08-12T09:31:58.592Z"
   },
   {
    "duration": 16,
    "start_time": "2022-08-12T09:31:58.598Z"
   },
   {
    "duration": 5,
    "start_time": "2022-08-12T09:31:58.616Z"
   },
   {
    "duration": 6,
    "start_time": "2022-08-12T09:31:58.623Z"
   },
   {
    "duration": 35,
    "start_time": "2022-08-12T09:31:58.631Z"
   },
   {
    "duration": 8,
    "start_time": "2022-08-12T09:31:58.668Z"
   },
   {
    "duration": 39,
    "start_time": "2022-08-12T09:31:58.677Z"
   },
   {
    "duration": 3,
    "start_time": "2022-08-12T09:31:58.718Z"
   },
   {
    "duration": 14,
    "start_time": "2022-08-12T09:31:58.723Z"
   },
   {
    "duration": 38,
    "start_time": "2022-08-12T09:31:58.739Z"
   },
   {
    "duration": 34,
    "start_time": "2022-08-12T09:31:58.779Z"
   },
   {
    "duration": 11,
    "start_time": "2022-08-12T09:31:58.815Z"
   },
   {
    "duration": 13,
    "start_time": "2022-08-12T09:31:58.827Z"
   },
   {
    "duration": 23,
    "start_time": "2022-08-12T09:31:58.843Z"
   },
   {
    "duration": 4,
    "start_time": "2022-08-12T09:31:58.868Z"
   },
   {
    "duration": 11,
    "start_time": "2022-08-12T09:31:58.873Z"
   },
   {
    "duration": 24,
    "start_time": "2022-08-12T09:31:58.910Z"
   },
   {
    "duration": 25,
    "start_time": "2022-08-12T09:32:01.312Z"
   },
   {
    "duration": 15,
    "start_time": "2022-08-12T09:32:02.152Z"
   },
   {
    "duration": 11,
    "start_time": "2022-08-12T09:32:12.943Z"
   },
   {
    "duration": 3,
    "start_time": "2022-08-12T09:34:39.454Z"
   },
   {
    "duration": 114,
    "start_time": "2022-08-12T09:34:39.459Z"
   },
   {
    "duration": 5,
    "start_time": "2022-08-12T09:34:39.574Z"
   },
   {
    "duration": 55,
    "start_time": "2022-08-12T09:34:39.581Z"
   },
   {
    "duration": 14,
    "start_time": "2022-08-12T09:34:39.637Z"
   },
   {
    "duration": 4,
    "start_time": "2022-08-12T09:34:39.653Z"
   },
   {
    "duration": 7,
    "start_time": "2022-08-12T09:34:39.658Z"
   },
   {
    "duration": 21,
    "start_time": "2022-08-12T09:34:39.667Z"
   },
   {
    "duration": 8,
    "start_time": "2022-08-12T09:34:39.710Z"
   },
   {
    "duration": 21,
    "start_time": "2022-08-12T09:34:39.720Z"
   },
   {
    "duration": 5,
    "start_time": "2022-08-12T09:34:39.743Z"
   },
   {
    "duration": 12,
    "start_time": "2022-08-12T09:34:39.750Z"
   },
   {
    "duration": 4,
    "start_time": "2022-08-12T09:34:39.764Z"
   },
   {
    "duration": 6,
    "start_time": "2022-08-12T09:34:39.770Z"
   },
   {
    "duration": 71,
    "start_time": "2022-08-12T09:34:39.778Z"
   },
   {
    "duration": 11,
    "start_time": "2022-08-12T09:34:39.851Z"
   },
   {
    "duration": 12,
    "start_time": "2022-08-12T09:34:39.864Z"
   },
   {
    "duration": 5,
    "start_time": "2022-08-12T09:34:39.878Z"
   },
   {
    "duration": 39,
    "start_time": "2022-08-12T09:34:39.884Z"
   },
   {
    "duration": 35,
    "start_time": "2022-08-12T09:34:39.924Z"
   },
   {
    "duration": 5,
    "start_time": "2022-08-12T09:34:39.960Z"
   },
   {
    "duration": 13,
    "start_time": "2022-08-12T09:34:39.966Z"
   },
   {
    "duration": 7,
    "start_time": "2022-08-12T09:34:39.980Z"
   },
   {
    "duration": 26,
    "start_time": "2022-08-12T09:34:40.012Z"
   },
   {
    "duration": 4,
    "start_time": "2022-08-12T09:34:40.040Z"
   },
   {
    "duration": 15,
    "start_time": "2022-08-12T09:34:40.045Z"
   },
   {
    "duration": 54,
    "start_time": "2022-08-12T09:34:40.062Z"
   },
   {
    "duration": 6,
    "start_time": "2022-08-12T09:34:45.591Z"
   },
   {
    "duration": 12,
    "start_time": "2022-08-12T09:34:46.687Z"
   },
   {
    "duration": 3,
    "start_time": "2022-08-12T09:35:04.371Z"
   },
   {
    "duration": 14,
    "start_time": "2022-08-12T09:35:05.267Z"
   },
   {
    "duration": 2,
    "start_time": "2022-08-12T09:36:01.376Z"
   },
   {
    "duration": 131,
    "start_time": "2022-08-12T09:36:01.382Z"
   },
   {
    "duration": 4,
    "start_time": "2022-08-12T09:36:01.515Z"
   },
   {
    "duration": 45,
    "start_time": "2022-08-12T09:36:01.520Z"
   },
   {
    "duration": 16,
    "start_time": "2022-08-12T09:36:01.566Z"
   },
   {
    "duration": 24,
    "start_time": "2022-08-12T09:36:01.583Z"
   },
   {
    "duration": 16,
    "start_time": "2022-08-12T09:36:01.609Z"
   },
   {
    "duration": 25,
    "start_time": "2022-08-12T09:36:01.627Z"
   },
   {
    "duration": 12,
    "start_time": "2022-08-12T09:36:01.653Z"
   },
   {
    "duration": 23,
    "start_time": "2022-08-12T09:36:01.667Z"
   },
   {
    "duration": 4,
    "start_time": "2022-08-12T09:36:01.693Z"
   },
   {
    "duration": 44,
    "start_time": "2022-08-12T09:36:01.698Z"
   },
   {
    "duration": 10,
    "start_time": "2022-08-12T09:36:01.743Z"
   },
   {
    "duration": 25,
    "start_time": "2022-08-12T09:36:01.755Z"
   },
   {
    "duration": 45,
    "start_time": "2022-08-12T09:36:01.781Z"
   },
   {
    "duration": 7,
    "start_time": "2022-08-12T09:36:01.828Z"
   },
   {
    "duration": 19,
    "start_time": "2022-08-12T09:36:01.836Z"
   },
   {
    "duration": 6,
    "start_time": "2022-08-12T09:36:01.857Z"
   },
   {
    "duration": 14,
    "start_time": "2022-08-12T09:36:01.864Z"
   },
   {
    "duration": 43,
    "start_time": "2022-08-12T09:36:01.880Z"
   },
   {
    "duration": 5,
    "start_time": "2022-08-12T09:36:01.924Z"
   },
   {
    "duration": 18,
    "start_time": "2022-08-12T09:36:01.930Z"
   },
   {
    "duration": 10,
    "start_time": "2022-08-12T09:36:01.950Z"
   },
   {
    "duration": 31,
    "start_time": "2022-08-12T09:36:01.961Z"
   },
   {
    "duration": 4,
    "start_time": "2022-08-12T09:36:01.993Z"
   },
   {
    "duration": 7,
    "start_time": "2022-08-12T09:36:02.011Z"
   },
   {
    "duration": 36,
    "start_time": "2022-08-12T09:36:02.019Z"
   },
   {
    "duration": 7,
    "start_time": "2022-08-12T09:36:11.135Z"
   },
   {
    "duration": 15,
    "start_time": "2022-08-12T09:36:12.568Z"
   },
   {
    "duration": 3,
    "start_time": "2022-08-12T09:38:55.038Z"
   },
   {
    "duration": 127,
    "start_time": "2022-08-12T09:38:55.043Z"
   },
   {
    "duration": 4,
    "start_time": "2022-08-12T09:38:55.172Z"
   },
   {
    "duration": 47,
    "start_time": "2022-08-12T09:38:55.177Z"
   },
   {
    "duration": 8,
    "start_time": "2022-08-12T09:38:55.227Z"
   },
   {
    "duration": 3,
    "start_time": "2022-08-12T09:38:55.237Z"
   },
   {
    "duration": 6,
    "start_time": "2022-08-12T09:38:55.241Z"
   },
   {
    "duration": 16,
    "start_time": "2022-08-12T09:38:55.249Z"
   },
   {
    "duration": 5,
    "start_time": "2022-08-12T09:38:55.267Z"
   },
   {
    "duration": 12,
    "start_time": "2022-08-12T09:38:55.273Z"
   },
   {
    "duration": 14,
    "start_time": "2022-08-12T09:38:55.310Z"
   },
   {
    "duration": 10,
    "start_time": "2022-08-12T09:38:55.325Z"
   },
   {
    "duration": 4,
    "start_time": "2022-08-12T09:38:55.336Z"
   },
   {
    "duration": 5,
    "start_time": "2022-08-12T09:38:55.342Z"
   },
   {
    "duration": 40,
    "start_time": "2022-08-12T09:38:55.348Z"
   },
   {
    "duration": 33,
    "start_time": "2022-08-12T09:38:55.390Z"
   },
   {
    "duration": 10,
    "start_time": "2022-08-12T09:38:55.425Z"
   },
   {
    "duration": 9,
    "start_time": "2022-08-12T09:38:55.437Z"
   },
   {
    "duration": 19,
    "start_time": "2022-08-12T09:38:55.448Z"
   },
   {
    "duration": 44,
    "start_time": "2022-08-12T09:38:55.469Z"
   },
   {
    "duration": 10,
    "start_time": "2022-08-12T09:38:55.514Z"
   },
   {
    "duration": 24,
    "start_time": "2022-08-12T09:38:55.525Z"
   },
   {
    "duration": 7,
    "start_time": "2022-08-12T09:38:55.551Z"
   },
   {
    "duration": 27,
    "start_time": "2022-08-12T09:38:55.559Z"
   },
   {
    "duration": 4,
    "start_time": "2022-08-12T09:38:55.587Z"
   },
   {
    "duration": 9,
    "start_time": "2022-08-12T09:38:55.592Z"
   },
   {
    "duration": 37,
    "start_time": "2022-08-12T09:38:55.610Z"
   },
   {
    "duration": 8,
    "start_time": "2022-08-12T09:38:58.451Z"
   },
   {
    "duration": 12,
    "start_time": "2022-08-12T09:38:59.560Z"
   },
   {
    "duration": 5,
    "start_time": "2022-08-12T09:40:47.527Z"
   },
   {
    "duration": 28,
    "start_time": "2022-08-12T09:40:52.599Z"
   },
   {
    "duration": 3,
    "start_time": "2022-08-12T09:46:09.436Z"
   },
   {
    "duration": 121,
    "start_time": "2022-08-12T09:46:09.443Z"
   },
   {
    "duration": 5,
    "start_time": "2022-08-12T09:46:09.566Z"
   },
   {
    "duration": 52,
    "start_time": "2022-08-12T09:46:09.572Z"
   },
   {
    "duration": 10,
    "start_time": "2022-08-12T09:46:09.627Z"
   },
   {
    "duration": 13,
    "start_time": "2022-08-12T09:46:09.639Z"
   },
   {
    "duration": 20,
    "start_time": "2022-08-12T09:46:09.654Z"
   },
   {
    "duration": 42,
    "start_time": "2022-08-12T09:46:09.675Z"
   },
   {
    "duration": 12,
    "start_time": "2022-08-12T09:46:09.718Z"
   },
   {
    "duration": 20,
    "start_time": "2022-08-12T09:46:09.731Z"
   },
   {
    "duration": 9,
    "start_time": "2022-08-12T09:46:09.753Z"
   },
   {
    "duration": 19,
    "start_time": "2022-08-12T09:46:09.764Z"
   },
   {
    "duration": 9,
    "start_time": "2022-08-12T09:46:09.785Z"
   },
   {
    "duration": 18,
    "start_time": "2022-08-12T09:46:09.795Z"
   },
   {
    "duration": 44,
    "start_time": "2022-08-12T09:46:09.815Z"
   },
   {
    "duration": 8,
    "start_time": "2022-08-12T09:46:09.860Z"
   },
   {
    "duration": 16,
    "start_time": "2022-08-12T09:46:09.869Z"
   },
   {
    "duration": 15,
    "start_time": "2022-08-12T09:46:09.887Z"
   },
   {
    "duration": 37,
    "start_time": "2022-08-12T09:46:09.904Z"
   },
   {
    "duration": 36,
    "start_time": "2022-08-12T09:46:09.942Z"
   },
   {
    "duration": 5,
    "start_time": "2022-08-12T09:46:09.979Z"
   },
   {
    "duration": 36,
    "start_time": "2022-08-12T09:46:09.986Z"
   },
   {
    "duration": 21,
    "start_time": "2022-08-12T09:46:10.024Z"
   },
   {
    "duration": 33,
    "start_time": "2022-08-12T09:46:10.046Z"
   },
   {
    "duration": 4,
    "start_time": "2022-08-12T09:46:10.080Z"
   },
   {
    "duration": 16,
    "start_time": "2022-08-12T09:46:10.086Z"
   },
   {
    "duration": 28,
    "start_time": "2022-08-12T09:46:10.104Z"
   },
   {
    "duration": 8,
    "start_time": "2022-08-12T09:46:10.134Z"
   },
   {
    "duration": 33,
    "start_time": "2022-08-12T09:46:10.145Z"
   },
   {
    "duration": 12,
    "start_time": "2022-08-12T09:46:16.025Z"
   },
   {
    "duration": 12,
    "start_time": "2022-08-12T09:46:17.208Z"
   },
   {
    "duration": 5,
    "start_time": "2022-08-12T09:46:29.936Z"
   },
   {
    "duration": 20,
    "start_time": "2022-08-12T09:46:33.233Z"
   },
   {
    "duration": 5,
    "start_time": "2022-08-12T09:47:44.958Z"
   },
   {
    "duration": 11,
    "start_time": "2022-08-12T09:47:59.320Z"
   },
   {
    "duration": 24,
    "start_time": "2022-08-12T09:48:53.597Z"
   },
   {
    "duration": 332,
    "start_time": "2022-08-12T09:52:50.407Z"
   },
   {
    "duration": 195,
    "start_time": "2022-08-12T09:54:00.934Z"
   },
   {
    "duration": 190,
    "start_time": "2022-08-12T09:54:46.647Z"
   },
   {
    "duration": 196,
    "start_time": "2022-08-12T09:57:06.217Z"
   },
   {
    "duration": 121,
    "start_time": "2022-08-12T09:58:28.534Z"
   },
   {
    "duration": 228,
    "start_time": "2022-08-12T09:58:48.541Z"
   },
   {
    "duration": 190,
    "start_time": "2022-08-12T09:58:58.427Z"
   },
   {
    "duration": 228,
    "start_time": "2022-08-12T09:59:52.680Z"
   },
   {
    "duration": 207,
    "start_time": "2022-08-12T11:21:28.915Z"
   },
   {
    "duration": 142,
    "start_time": "2022-08-12T11:21:45.957Z"
   },
   {
    "duration": 230,
    "start_time": "2022-08-12T11:22:03.993Z"
   },
   {
    "duration": 170,
    "start_time": "2022-08-12T11:22:23.962Z"
   },
   {
    "duration": 183,
    "start_time": "2022-08-12T11:22:34.219Z"
   },
   {
    "duration": 172,
    "start_time": "2022-08-12T11:22:41.027Z"
   },
   {
    "duration": 1359,
    "start_time": "2022-08-12T11:25:34.962Z"
   },
   {
    "duration": 5,
    "start_time": "2022-08-12T11:25:54.089Z"
   },
   {
    "duration": 6,
    "start_time": "2022-08-12T11:26:01.334Z"
   },
   {
    "duration": 6,
    "start_time": "2022-08-12T11:26:11.837Z"
   },
   {
    "duration": 8,
    "start_time": "2022-08-12T11:28:39.867Z"
   },
   {
    "duration": 8,
    "start_time": "2022-08-12T11:28:46.619Z"
   },
   {
    "duration": 6,
    "start_time": "2022-08-12T11:29:16.272Z"
   },
   {
    "duration": 12,
    "start_time": "2022-08-12T11:32:10.384Z"
   },
   {
    "duration": 11,
    "start_time": "2022-08-12T11:32:28.714Z"
   },
   {
    "duration": 19,
    "start_time": "2022-08-12T11:32:51.442Z"
   },
   {
    "duration": 3,
    "start_time": "2022-08-12T11:32:55.254Z"
   },
   {
    "duration": 107,
    "start_time": "2022-08-12T11:32:55.259Z"
   },
   {
    "duration": 4,
    "start_time": "2022-08-12T11:32:55.368Z"
   },
   {
    "duration": 42,
    "start_time": "2022-08-12T11:32:55.374Z"
   },
   {
    "duration": 9,
    "start_time": "2022-08-12T11:32:55.419Z"
   },
   {
    "duration": 4,
    "start_time": "2022-08-12T11:32:55.429Z"
   },
   {
    "duration": 13,
    "start_time": "2022-08-12T11:32:55.435Z"
   },
   {
    "duration": 18,
    "start_time": "2022-08-12T11:32:55.450Z"
   },
   {
    "duration": 11,
    "start_time": "2022-08-12T11:32:55.470Z"
   },
   {
    "duration": 31,
    "start_time": "2022-08-12T11:32:55.482Z"
   },
   {
    "duration": 4,
    "start_time": "2022-08-12T11:32:55.515Z"
   },
   {
    "duration": 8,
    "start_time": "2022-08-12T11:32:55.521Z"
   },
   {
    "duration": 10,
    "start_time": "2022-08-12T11:32:55.530Z"
   },
   {
    "duration": 9,
    "start_time": "2022-08-12T11:32:55.542Z"
   },
   {
    "duration": 71,
    "start_time": "2022-08-12T11:32:55.553Z"
   },
   {
    "duration": 13,
    "start_time": "2022-08-12T11:32:55.626Z"
   },
   {
    "duration": 13,
    "start_time": "2022-08-12T11:32:55.641Z"
   },
   {
    "duration": 5,
    "start_time": "2022-08-12T11:32:55.656Z"
   },
   {
    "duration": 16,
    "start_time": "2022-08-12T11:32:55.663Z"
   },
   {
    "duration": 67,
    "start_time": "2022-08-12T11:32:55.681Z"
   },
   {
    "duration": 6,
    "start_time": "2022-08-12T11:32:55.749Z"
   },
   {
    "duration": 8,
    "start_time": "2022-08-12T11:32:55.757Z"
   },
   {
    "duration": 10,
    "start_time": "2022-08-12T11:32:55.767Z"
   },
   {
    "duration": 25,
    "start_time": "2022-08-12T11:32:55.811Z"
   },
   {
    "duration": 5,
    "start_time": "2022-08-12T11:32:55.837Z"
   },
   {
    "duration": 9,
    "start_time": "2022-08-12T11:32:55.844Z"
   },
   {
    "duration": 10,
    "start_time": "2022-08-12T11:32:55.855Z"
   },
   {
    "duration": 5,
    "start_time": "2022-08-12T11:32:55.867Z"
   },
   {
    "duration": 6,
    "start_time": "2022-08-12T11:32:55.911Z"
   },
   {
    "duration": 15,
    "start_time": "2022-08-12T11:32:55.919Z"
   },
   {
    "duration": 31,
    "start_time": "2022-08-12T11:32:55.935Z"
   },
   {
    "duration": 11,
    "start_time": "2022-08-12T11:32:55.967Z"
   },
   {
    "duration": 62,
    "start_time": "2022-08-12T11:33:01.775Z"
   },
   {
    "duration": 12,
    "start_time": "2022-08-12T11:33:14.185Z"
   },
   {
    "duration": 21,
    "start_time": "2022-08-12T11:34:19.817Z"
   },
   {
    "duration": 6,
    "start_time": "2022-08-12T11:34:29.494Z"
   },
   {
    "duration": 6,
    "start_time": "2022-08-12T11:35:17.015Z"
   },
   {
    "duration": 7,
    "start_time": "2022-08-12T11:36:54.808Z"
   },
   {
    "duration": 6,
    "start_time": "2022-08-12T11:37:23.134Z"
   },
   {
    "duration": 6,
    "start_time": "2022-08-12T11:37:59.708Z"
   },
   {
    "duration": 77,
    "start_time": "2022-08-12T11:38:18.178Z"
   },
   {
    "duration": 6,
    "start_time": "2022-08-12T11:38:22.492Z"
   },
   {
    "duration": 6,
    "start_time": "2022-08-12T11:38:34.601Z"
   },
   {
    "duration": 6,
    "start_time": "2022-08-12T11:39:23.963Z"
   },
   {
    "duration": 54,
    "start_time": "2022-08-12T11:39:32.894Z"
   },
   {
    "duration": 8,
    "start_time": "2022-08-12T11:39:37.437Z"
   },
   {
    "duration": 175,
    "start_time": "2022-08-12T11:41:02.334Z"
   },
   {
    "duration": 169,
    "start_time": "2022-08-12T11:41:18.986Z"
   },
   {
    "duration": 9,
    "start_time": "2022-08-12T11:48:02.484Z"
   },
   {
    "duration": 6,
    "start_time": "2022-08-12T11:49:14.763Z"
   },
   {
    "duration": 7,
    "start_time": "2022-08-12T11:52:40.579Z"
   },
   {
    "duration": 7,
    "start_time": "2022-08-12T11:52:49.833Z"
   },
   {
    "duration": 13,
    "start_time": "2022-08-12T12:02:23.704Z"
   },
   {
    "duration": 17,
    "start_time": "2022-08-12T12:02:48.472Z"
   },
   {
    "duration": 14,
    "start_time": "2022-08-12T12:03:04.618Z"
   },
   {
    "duration": 39,
    "start_time": "2022-08-12T12:03:32.642Z"
   },
   {
    "duration": 145,
    "start_time": "2022-08-12T12:03:41.309Z"
   },
   {
    "duration": 32,
    "start_time": "2022-08-12T12:04:02.294Z"
   },
   {
    "duration": 24,
    "start_time": "2022-08-12T12:08:51.104Z"
   },
   {
    "duration": 28,
    "start_time": "2022-08-12T12:09:17.954Z"
   },
   {
    "duration": 3,
    "start_time": "2022-08-12T12:12:07.692Z"
   },
   {
    "duration": 136,
    "start_time": "2022-08-12T12:12:07.700Z"
   },
   {
    "duration": 5,
    "start_time": "2022-08-12T12:12:07.838Z"
   },
   {
    "duration": 46,
    "start_time": "2022-08-12T12:12:07.845Z"
   },
   {
    "duration": 18,
    "start_time": "2022-08-12T12:12:07.893Z"
   },
   {
    "duration": 5,
    "start_time": "2022-08-12T12:12:07.913Z"
   },
   {
    "duration": 11,
    "start_time": "2022-08-12T12:12:07.919Z"
   },
   {
    "duration": 16,
    "start_time": "2022-08-12T12:12:07.931Z"
   },
   {
    "duration": 6,
    "start_time": "2022-08-12T12:12:07.948Z"
   },
   {
    "duration": 12,
    "start_time": "2022-08-12T12:12:07.956Z"
   },
   {
    "duration": 4,
    "start_time": "2022-08-12T12:12:07.971Z"
   },
   {
    "duration": 38,
    "start_time": "2022-08-12T12:12:07.976Z"
   },
   {
    "duration": 4,
    "start_time": "2022-08-12T12:12:08.016Z"
   },
   {
    "duration": 7,
    "start_time": "2022-08-12T12:12:08.021Z"
   },
   {
    "duration": 35,
    "start_time": "2022-08-12T12:12:08.030Z"
   },
   {
    "duration": 8,
    "start_time": "2022-08-12T12:12:08.066Z"
   },
   {
    "duration": 35,
    "start_time": "2022-08-12T12:12:08.076Z"
   },
   {
    "duration": 4,
    "start_time": "2022-08-12T12:12:08.113Z"
   },
   {
    "duration": 12,
    "start_time": "2022-08-12T12:12:08.118Z"
   },
   {
    "duration": 31,
    "start_time": "2022-08-12T12:12:08.131Z"
   },
   {
    "duration": 5,
    "start_time": "2022-08-12T12:12:08.164Z"
   },
   {
    "duration": 41,
    "start_time": "2022-08-12T12:12:08.170Z"
   },
   {
    "duration": 8,
    "start_time": "2022-08-12T12:12:08.212Z"
   },
   {
    "duration": 23,
    "start_time": "2022-08-12T12:12:08.221Z"
   },
   {
    "duration": 4,
    "start_time": "2022-08-12T12:12:08.246Z"
   },
   {
    "duration": 27,
    "start_time": "2022-08-12T12:12:08.251Z"
   },
   {
    "duration": 10,
    "start_time": "2022-08-12T12:12:08.280Z"
   },
   {
    "duration": 20,
    "start_time": "2022-08-12T12:12:08.291Z"
   },
   {
    "duration": 5,
    "start_time": "2022-08-12T12:12:08.313Z"
   },
   {
    "duration": 13,
    "start_time": "2022-08-12T12:12:08.320Z"
   },
   {
    "duration": 27,
    "start_time": "2022-08-12T12:12:08.335Z"
   },
   {
    "duration": 6,
    "start_time": "2022-08-12T12:12:08.364Z"
   },
   {
    "duration": 196,
    "start_time": "2022-08-12T12:12:08.372Z"
   },
   {
    "duration": 6,
    "start_time": "2022-08-12T12:12:08.570Z"
   },
   {
    "duration": 19,
    "start_time": "2022-08-12T12:12:11.730Z"
   },
   {
    "duration": 4,
    "start_time": "2022-08-12T12:12:41.646Z"
   },
   {
    "duration": 106,
    "start_time": "2022-08-12T12:12:41.655Z"
   },
   {
    "duration": 5,
    "start_time": "2022-08-12T12:12:41.763Z"
   },
   {
    "duration": 50,
    "start_time": "2022-08-12T12:12:41.769Z"
   },
   {
    "duration": 10,
    "start_time": "2022-08-12T12:12:41.821Z"
   },
   {
    "duration": 4,
    "start_time": "2022-08-12T12:12:41.832Z"
   },
   {
    "duration": 9,
    "start_time": "2022-08-12T12:12:41.838Z"
   },
   {
    "duration": 17,
    "start_time": "2022-08-12T12:12:41.848Z"
   },
   {
    "duration": 7,
    "start_time": "2022-08-12T12:12:41.867Z"
   },
   {
    "duration": 44,
    "start_time": "2022-08-12T12:12:41.876Z"
   },
   {
    "duration": 5,
    "start_time": "2022-08-12T12:12:41.923Z"
   },
   {
    "duration": 8,
    "start_time": "2022-08-12T12:12:41.929Z"
   },
   {
    "duration": 11,
    "start_time": "2022-08-12T12:12:41.938Z"
   },
   {
    "duration": 12,
    "start_time": "2022-08-12T12:12:41.950Z"
   },
   {
    "duration": 64,
    "start_time": "2022-08-12T12:12:41.964Z"
   },
   {
    "duration": 8,
    "start_time": "2022-08-12T12:12:42.029Z"
   },
   {
    "duration": 10,
    "start_time": "2022-08-12T12:12:42.038Z"
   },
   {
    "duration": 5,
    "start_time": "2022-08-12T12:12:42.049Z"
   },
   {
    "duration": 12,
    "start_time": "2022-08-12T12:12:42.056Z"
   },
   {
    "duration": 65,
    "start_time": "2022-08-12T12:12:42.070Z"
   },
   {
    "duration": 6,
    "start_time": "2022-08-12T12:12:42.136Z"
   },
   {
    "duration": 19,
    "start_time": "2022-08-12T12:12:42.143Z"
   },
   {
    "duration": 9,
    "start_time": "2022-08-12T12:12:42.164Z"
   },
   {
    "duration": 52,
    "start_time": "2022-08-12T12:12:42.175Z"
   },
   {
    "duration": 4,
    "start_time": "2022-08-12T12:12:42.228Z"
   },
   {
    "duration": 13,
    "start_time": "2022-08-12T12:12:42.233Z"
   },
   {
    "duration": 7,
    "start_time": "2022-08-12T12:12:42.247Z"
   },
   {
    "duration": 4,
    "start_time": "2022-08-12T12:12:42.255Z"
   },
   {
    "duration": 4,
    "start_time": "2022-08-12T12:12:42.262Z"
   },
   {
    "duration": 11,
    "start_time": "2022-08-12T12:12:42.268Z"
   },
   {
    "duration": 53,
    "start_time": "2022-08-12T12:12:42.281Z"
   },
   {
    "duration": 6,
    "start_time": "2022-08-12T12:12:42.336Z"
   },
   {
    "duration": 229,
    "start_time": "2022-08-12T12:12:42.344Z"
   },
   {
    "duration": 8,
    "start_time": "2022-08-12T12:12:42.575Z"
   },
   {
    "duration": 23,
    "start_time": "2022-08-12T12:12:45.300Z"
   },
   {
    "duration": 22,
    "start_time": "2022-08-12T12:16:10.975Z"
   },
   {
    "duration": 19,
    "start_time": "2022-08-12T12:16:19.790Z"
   },
   {
    "duration": 9,
    "start_time": "2022-08-12T12:25:29.316Z"
   },
   {
    "duration": 8,
    "start_time": "2022-08-12T12:25:35.509Z"
   },
   {
    "duration": 13,
    "start_time": "2022-08-12T12:25:39.799Z"
   },
   {
    "duration": 27,
    "start_time": "2022-08-12T12:25:49.541Z"
   },
   {
    "duration": 51,
    "start_time": "2022-08-12T12:25:53.876Z"
   },
   {
    "duration": 26,
    "start_time": "2022-08-12T12:26:05.284Z"
   },
   {
    "duration": 27,
    "start_time": "2022-08-12T12:26:11.253Z"
   },
   {
    "duration": 3,
    "start_time": "2022-08-12T12:26:40.663Z"
   },
   {
    "duration": 125,
    "start_time": "2022-08-12T12:26:40.668Z"
   },
   {
    "duration": 4,
    "start_time": "2022-08-12T12:26:40.795Z"
   },
   {
    "duration": 64,
    "start_time": "2022-08-12T12:26:40.800Z"
   },
   {
    "duration": 11,
    "start_time": "2022-08-12T12:26:40.865Z"
   },
   {
    "duration": 8,
    "start_time": "2022-08-12T12:26:40.878Z"
   },
   {
    "duration": 18,
    "start_time": "2022-08-12T12:26:40.888Z"
   },
   {
    "duration": 19,
    "start_time": "2022-08-12T12:26:40.911Z"
   },
   {
    "duration": 14,
    "start_time": "2022-08-12T12:26:40.932Z"
   },
   {
    "duration": 53,
    "start_time": "2022-08-12T12:26:40.947Z"
   },
   {
    "duration": 21,
    "start_time": "2022-08-12T12:26:41.001Z"
   },
   {
    "duration": 22,
    "start_time": "2022-08-12T12:26:41.023Z"
   },
   {
    "duration": 17,
    "start_time": "2022-08-12T12:26:41.047Z"
   },
   {
    "duration": 37,
    "start_time": "2022-08-12T12:26:41.065Z"
   },
   {
    "duration": 55,
    "start_time": "2022-08-12T12:26:41.103Z"
   },
   {
    "duration": 9,
    "start_time": "2022-08-12T12:26:41.159Z"
   },
   {
    "duration": 36,
    "start_time": "2022-08-12T12:26:41.169Z"
   },
   {
    "duration": 29,
    "start_time": "2022-08-12T12:26:41.207Z"
   },
   {
    "duration": 23,
    "start_time": "2022-08-12T12:26:41.238Z"
   },
   {
    "duration": 35,
    "start_time": "2022-08-12T12:26:41.263Z"
   },
   {
    "duration": 8,
    "start_time": "2022-08-12T12:26:41.300Z"
   },
   {
    "duration": 31,
    "start_time": "2022-08-12T12:26:41.309Z"
   },
   {
    "duration": 12,
    "start_time": "2022-08-12T12:26:41.341Z"
   },
   {
    "duration": 44,
    "start_time": "2022-08-12T12:26:41.356Z"
   },
   {
    "duration": 4,
    "start_time": "2022-08-12T12:26:41.402Z"
   },
   {
    "duration": 40,
    "start_time": "2022-08-12T12:26:41.408Z"
   },
   {
    "duration": 29,
    "start_time": "2022-08-12T12:26:41.450Z"
   },
   {
    "duration": 33,
    "start_time": "2022-08-12T12:26:41.480Z"
   },
   {
    "duration": 14,
    "start_time": "2022-08-12T12:26:41.515Z"
   },
   {
    "duration": 21,
    "start_time": "2022-08-12T12:26:41.531Z"
   },
   {
    "duration": 26,
    "start_time": "2022-08-12T12:26:41.554Z"
   },
   {
    "duration": 9,
    "start_time": "2022-08-12T12:26:41.583Z"
   },
   {
    "duration": 182,
    "start_time": "2022-08-12T12:26:41.594Z"
   },
   {
    "duration": 8,
    "start_time": "2022-08-12T12:26:41.777Z"
   },
   {
    "duration": 35,
    "start_time": "2022-08-12T12:26:41.787Z"
   },
   {
    "duration": 25,
    "start_time": "2022-08-12T12:29:29.619Z"
   },
   {
    "duration": 21,
    "start_time": "2022-08-12T12:29:54.099Z"
   },
   {
    "duration": 49,
    "start_time": "2022-08-12T12:30:24.047Z"
   },
   {
    "duration": 33,
    "start_time": "2022-08-12T12:30:55.613Z"
   },
   {
    "duration": 4,
    "start_time": "2022-08-12T12:31:02.318Z"
   },
   {
    "duration": 140,
    "start_time": "2022-08-12T12:31:02.324Z"
   },
   {
    "duration": 4,
    "start_time": "2022-08-12T12:31:02.467Z"
   },
   {
    "duration": 86,
    "start_time": "2022-08-12T12:31:02.473Z"
   },
   {
    "duration": 11,
    "start_time": "2022-08-12T12:31:02.562Z"
   },
   {
    "duration": 4,
    "start_time": "2022-08-12T12:31:02.575Z"
   },
   {
    "duration": 32,
    "start_time": "2022-08-12T12:31:02.581Z"
   },
   {
    "duration": 33,
    "start_time": "2022-08-12T12:31:02.615Z"
   },
   {
    "duration": 19,
    "start_time": "2022-08-12T12:31:02.651Z"
   },
   {
    "duration": 41,
    "start_time": "2022-08-12T12:31:02.672Z"
   },
   {
    "duration": 39,
    "start_time": "2022-08-12T12:31:02.716Z"
   },
   {
    "duration": 11,
    "start_time": "2022-08-12T12:31:02.756Z"
   },
   {
    "duration": 5,
    "start_time": "2022-08-12T12:31:02.769Z"
   },
   {
    "duration": 14,
    "start_time": "2022-08-12T12:31:02.776Z"
   },
   {
    "duration": 76,
    "start_time": "2022-08-12T12:31:02.792Z"
   },
   {
    "duration": 11,
    "start_time": "2022-08-12T12:31:02.870Z"
   },
   {
    "duration": 13,
    "start_time": "2022-08-12T12:31:02.883Z"
   },
   {
    "duration": 21,
    "start_time": "2022-08-12T12:31:02.911Z"
   },
   {
    "duration": 25,
    "start_time": "2022-08-12T12:31:02.934Z"
   },
   {
    "duration": 50,
    "start_time": "2022-08-12T12:31:02.961Z"
   },
   {
    "duration": 6,
    "start_time": "2022-08-12T12:31:03.013Z"
   },
   {
    "duration": 11,
    "start_time": "2022-08-12T12:31:03.021Z"
   },
   {
    "duration": 12,
    "start_time": "2022-08-12T12:31:03.034Z"
   },
   {
    "duration": 25,
    "start_time": "2022-08-12T12:31:03.048Z"
   },
   {
    "duration": 4,
    "start_time": "2022-08-12T12:31:03.074Z"
   },
   {
    "duration": 39,
    "start_time": "2022-08-12T12:31:03.079Z"
   },
   {
    "duration": 10,
    "start_time": "2022-08-12T12:31:03.120Z"
   },
   {
    "duration": 5,
    "start_time": "2022-08-12T12:31:03.131Z"
   },
   {
    "duration": 5,
    "start_time": "2022-08-12T12:31:03.140Z"
   },
   {
    "duration": 15,
    "start_time": "2022-08-12T12:31:03.147Z"
   },
   {
    "duration": 60,
    "start_time": "2022-08-12T12:31:03.164Z"
   },
   {
    "duration": 8,
    "start_time": "2022-08-12T12:31:03.225Z"
   },
   {
    "duration": 190,
    "start_time": "2022-08-12T12:31:03.235Z"
   },
   {
    "duration": 8,
    "start_time": "2022-08-12T12:31:03.427Z"
   },
   {
    "duration": 39,
    "start_time": "2022-08-12T12:31:03.437Z"
   },
   {
    "duration": 60,
    "start_time": "2022-08-12T12:31:03.480Z"
   },
   {
    "duration": 30,
    "start_time": "2022-08-12T12:31:31.266Z"
   },
   {
    "duration": 4,
    "start_time": "2022-08-12T12:31:41.513Z"
   },
   {
    "duration": 112,
    "start_time": "2022-08-12T12:31:41.520Z"
   },
   {
    "duration": 4,
    "start_time": "2022-08-12T12:31:41.634Z"
   },
   {
    "duration": 47,
    "start_time": "2022-08-12T12:31:41.640Z"
   },
   {
    "duration": 30,
    "start_time": "2022-08-12T12:31:41.690Z"
   },
   {
    "duration": 4,
    "start_time": "2022-08-12T12:31:41.721Z"
   },
   {
    "duration": 29,
    "start_time": "2022-08-12T12:31:41.727Z"
   },
   {
    "duration": 17,
    "start_time": "2022-08-12T12:31:41.758Z"
   },
   {
    "duration": 7,
    "start_time": "2022-08-12T12:31:41.776Z"
   },
   {
    "duration": 20,
    "start_time": "2022-08-12T12:31:41.785Z"
   },
   {
    "duration": 5,
    "start_time": "2022-08-12T12:31:41.813Z"
   },
   {
    "duration": 12,
    "start_time": "2022-08-12T12:31:41.820Z"
   },
   {
    "duration": 7,
    "start_time": "2022-08-12T12:31:41.834Z"
   },
   {
    "duration": 8,
    "start_time": "2022-08-12T12:31:41.843Z"
   },
   {
    "duration": 83,
    "start_time": "2022-08-12T12:31:41.853Z"
   },
   {
    "duration": 8,
    "start_time": "2022-08-12T12:31:41.938Z"
   },
   {
    "duration": 12,
    "start_time": "2022-08-12T12:31:41.948Z"
   },
   {
    "duration": 5,
    "start_time": "2022-08-12T12:31:41.962Z"
   },
   {
    "duration": 13,
    "start_time": "2022-08-12T12:31:41.968Z"
   },
   {
    "duration": 67,
    "start_time": "2022-08-12T12:31:41.983Z"
   },
   {
    "duration": 7,
    "start_time": "2022-08-12T12:31:42.052Z"
   },
   {
    "duration": 13,
    "start_time": "2022-08-12T12:31:42.061Z"
   },
   {
    "duration": 7,
    "start_time": "2022-08-12T12:31:42.076Z"
   },
   {
    "duration": 50,
    "start_time": "2022-08-12T12:31:42.085Z"
   },
   {
    "duration": 4,
    "start_time": "2022-08-12T12:31:42.138Z"
   },
   {
    "duration": 9,
    "start_time": "2022-08-12T12:31:42.144Z"
   },
   {
    "duration": 9,
    "start_time": "2022-08-12T12:31:42.155Z"
   },
   {
    "duration": 5,
    "start_time": "2022-08-12T12:31:42.166Z"
   },
   {
    "duration": 7,
    "start_time": "2022-08-12T12:31:42.211Z"
   },
   {
    "duration": 15,
    "start_time": "2022-08-12T12:31:42.220Z"
   },
   {
    "duration": 29,
    "start_time": "2022-08-12T12:31:42.237Z"
   },
   {
    "duration": 9,
    "start_time": "2022-08-12T12:31:42.267Z"
   },
   {
    "duration": 210,
    "start_time": "2022-08-12T12:31:42.278Z"
   },
   {
    "duration": 7,
    "start_time": "2022-08-12T12:31:42.490Z"
   },
   {
    "duration": 33,
    "start_time": "2022-08-12T12:31:42.498Z"
   },
   {
    "duration": 36,
    "start_time": "2022-08-12T12:31:42.535Z"
   },
   {
    "duration": 22,
    "start_time": "2022-08-12T12:38:06.989Z"
   },
   {
    "duration": 7,
    "start_time": "2022-08-12T12:39:57.663Z"
   },
   {
    "duration": 19,
    "start_time": "2022-08-12T12:40:04.341Z"
   },
   {
    "duration": 123,
    "start_time": "2022-08-12T12:44:13.268Z"
   },
   {
    "duration": 130,
    "start_time": "2022-08-12T12:44:38.373Z"
   },
   {
    "duration": 0,
    "start_time": "2022-08-12T12:48:29.522Z"
   },
   {
    "duration": 3,
    "start_time": "2022-08-12T12:48:30.937Z"
   },
   {
    "duration": 111,
    "start_time": "2022-08-12T12:48:30.945Z"
   },
   {
    "duration": 4,
    "start_time": "2022-08-12T12:48:31.058Z"
   },
   {
    "duration": 80,
    "start_time": "2022-08-12T12:48:31.064Z"
   },
   {
    "duration": 15,
    "start_time": "2022-08-12T12:48:31.146Z"
   },
   {
    "duration": 19,
    "start_time": "2022-08-12T12:48:31.162Z"
   },
   {
    "duration": 25,
    "start_time": "2022-08-12T12:48:31.183Z"
   },
   {
    "duration": 33,
    "start_time": "2022-08-12T12:48:31.209Z"
   },
   {
    "duration": 21,
    "start_time": "2022-08-12T12:48:31.244Z"
   },
   {
    "duration": 31,
    "start_time": "2022-08-12T12:48:31.267Z"
   },
   {
    "duration": 10,
    "start_time": "2022-08-12T12:48:31.301Z"
   },
   {
    "duration": 22,
    "start_time": "2022-08-12T12:48:31.312Z"
   },
   {
    "duration": 11,
    "start_time": "2022-08-12T12:48:31.336Z"
   },
   {
    "duration": 25,
    "start_time": "2022-08-12T12:48:31.349Z"
   },
   {
    "duration": 66,
    "start_time": "2022-08-12T12:48:31.376Z"
   },
   {
    "duration": 14,
    "start_time": "2022-08-12T12:48:31.444Z"
   },
   {
    "duration": 19,
    "start_time": "2022-08-12T12:48:31.459Z"
   },
   {
    "duration": 19,
    "start_time": "2022-08-12T12:48:31.480Z"
   },
   {
    "duration": 36,
    "start_time": "2022-08-12T12:48:31.500Z"
   },
   {
    "duration": 51,
    "start_time": "2022-08-12T12:48:31.538Z"
   },
   {
    "duration": 7,
    "start_time": "2022-08-12T12:48:31.590Z"
   },
   {
    "duration": 35,
    "start_time": "2022-08-12T12:48:31.598Z"
   },
   {
    "duration": 20,
    "start_time": "2022-08-12T12:48:31.634Z"
   },
   {
    "duration": 42,
    "start_time": "2022-08-12T12:48:31.655Z"
   },
   {
    "duration": 5,
    "start_time": "2022-08-12T12:48:31.699Z"
   },
   {
    "duration": 21,
    "start_time": "2022-08-12T12:48:31.706Z"
   },
   {
    "duration": 33,
    "start_time": "2022-08-12T12:48:31.729Z"
   },
   {
    "duration": 16,
    "start_time": "2022-08-12T12:48:31.764Z"
   },
   {
    "duration": 10,
    "start_time": "2022-08-12T12:48:31.784Z"
   },
   {
    "duration": 44,
    "start_time": "2022-08-12T12:48:31.795Z"
   },
   {
    "duration": 49,
    "start_time": "2022-08-12T12:48:31.841Z"
   },
   {
    "duration": 7,
    "start_time": "2022-08-12T12:48:31.892Z"
   },
   {
    "duration": 202,
    "start_time": "2022-08-12T12:48:31.901Z"
   },
   {
    "duration": 8,
    "start_time": "2022-08-12T12:48:32.105Z"
   },
   {
    "duration": 44,
    "start_time": "2022-08-12T12:48:32.114Z"
   },
   {
    "duration": 50,
    "start_time": "2022-08-12T12:48:32.163Z"
   },
   {
    "duration": 8,
    "start_time": "2022-08-12T12:48:32.215Z"
   },
   {
    "duration": 39,
    "start_time": "2022-08-12T12:48:32.225Z"
   },
   {
    "duration": 160,
    "start_time": "2022-08-12T12:48:32.266Z"
   },
   {
    "duration": 105750,
    "start_time": "2022-08-12T12:48:32.431Z"
   },
   {
    "duration": 136185,
    "start_time": "2022-08-12T12:52:02.300Z"
   },
   {
    "duration": 18,
    "start_time": "2022-08-12T12:55:47.994Z"
   },
   {
    "duration": 6,
    "start_time": "2022-08-12T12:56:03.874Z"
   },
   {
    "duration": 110,
    "start_time": "2022-08-12T12:56:17.448Z"
   },
   {
    "duration": 31,
    "start_time": "2022-08-12T12:56:20.675Z"
   },
   {
    "duration": 10,
    "start_time": "2022-08-12T13:02:59.332Z"
   },
   {
    "duration": 11,
    "start_time": "2022-08-12T13:03:04.697Z"
   },
   {
    "duration": 110,
    "start_time": "2022-08-12T13:03:09.650Z"
   },
   {
    "duration": 146,
    "start_time": "2022-08-12T13:03:30.352Z"
   },
   {
    "duration": 146,
    "start_time": "2022-08-12T13:03:48.608Z"
   },
   {
    "duration": 135,
    "start_time": "2022-08-12T13:04:56.338Z"
   },
   {
    "duration": 135,
    "start_time": "2022-08-12T13:05:38.655Z"
   },
   {
    "duration": 137,
    "start_time": "2022-08-12T13:06:09.474Z"
   },
   {
    "duration": 139,
    "start_time": "2022-08-12T13:08:21.439Z"
   },
   {
    "duration": 157,
    "start_time": "2022-08-12T13:08:41.993Z"
   },
   {
    "duration": 241,
    "start_time": "2022-08-12T13:11:12.613Z"
   },
   {
    "duration": 229,
    "start_time": "2022-08-12T13:11:43.112Z"
   },
   {
    "duration": 241,
    "start_time": "2022-08-12T13:12:02.768Z"
   },
   {
    "duration": 328,
    "start_time": "2022-08-12T13:12:46.398Z"
   },
   {
    "duration": 216,
    "start_time": "2022-08-12T13:12:54.259Z"
   },
   {
    "duration": 235,
    "start_time": "2022-08-12T13:13:03.093Z"
   },
   {
    "duration": 111,
    "start_time": "2022-08-12T13:13:28.981Z"
   },
   {
    "duration": 74,
    "start_time": "2022-08-12T13:13:45.942Z"
   },
   {
    "duration": 102,
    "start_time": "2022-08-12T13:13:50.310Z"
   },
   {
    "duration": 221,
    "start_time": "2022-08-12T13:14:02.523Z"
   },
   {
    "duration": 278,
    "start_time": "2022-08-12T13:14:12.364Z"
   },
   {
    "duration": 112,
    "start_time": "2022-08-12T13:14:36.718Z"
   },
   {
    "duration": 221,
    "start_time": "2022-08-12T13:14:43.664Z"
   },
   {
    "duration": 212,
    "start_time": "2022-08-12T13:23:28.735Z"
   },
   {
    "duration": 181,
    "start_time": "2022-08-12T13:23:38.670Z"
   },
   {
    "duration": 191,
    "start_time": "2022-08-12T13:23:42.852Z"
   },
   {
    "duration": 170,
    "start_time": "2022-08-12T13:23:56.566Z"
   },
   {
    "duration": 231,
    "start_time": "2022-08-12T13:24:01.916Z"
   },
   {
    "duration": 226,
    "start_time": "2022-08-12T13:26:09.977Z"
   },
   {
    "duration": 105,
    "start_time": "2022-08-12T13:26:55.218Z"
   },
   {
    "duration": 112,
    "start_time": "2022-08-12T13:27:46.829Z"
   },
   {
    "duration": 101,
    "start_time": "2022-08-12T13:29:20.587Z"
   },
   {
    "duration": 151,
    "start_time": "2022-08-12T13:29:36.685Z"
   },
   {
    "duration": 157,
    "start_time": "2022-08-12T13:30:33.202Z"
   },
   {
    "duration": 263,
    "start_time": "2022-08-12T13:30:50.381Z"
   },
   {
    "duration": 236,
    "start_time": "2022-08-12T13:36:47.120Z"
   },
   {
    "duration": 229,
    "start_time": "2022-08-12T13:37:21.281Z"
   },
   {
    "duration": 287,
    "start_time": "2022-08-12T13:40:21.984Z"
   },
   {
    "duration": 302,
    "start_time": "2022-08-12T13:40:42.556Z"
   },
   {
    "duration": 248,
    "start_time": "2022-08-12T13:40:55.693Z"
   },
   {
    "duration": 197,
    "start_time": "2022-08-12T13:41:42.291Z"
   },
   {
    "duration": 212,
    "start_time": "2022-08-12T13:41:58.828Z"
   },
   {
    "duration": 218,
    "start_time": "2022-08-12T13:42:56.851Z"
   },
   {
    "duration": 355,
    "start_time": "2022-08-12T13:44:10.198Z"
   },
   {
    "duration": 8,
    "start_time": "2022-08-12T13:49:54.231Z"
   },
   {
    "duration": 1463,
    "start_time": "2022-08-12T13:50:02.747Z"
   },
   {
    "duration": 12,
    "start_time": "2022-08-12T13:50:23.625Z"
   },
   {
    "duration": 13,
    "start_time": "2022-08-12T13:50:39.693Z"
   },
   {
    "duration": 142,
    "start_time": "2022-08-12T13:51:21.317Z"
   },
   {
    "duration": 137,
    "start_time": "2022-08-12T13:51:30.290Z"
   },
   {
    "duration": 156,
    "start_time": "2022-08-12T13:52:37.649Z"
   },
   {
    "duration": 8,
    "start_time": "2022-08-12T13:52:53.594Z"
   },
   {
    "duration": 8,
    "start_time": "2022-08-12T13:54:08.055Z"
   },
   {
    "duration": 149,
    "start_time": "2022-08-12T13:54:13.613Z"
   },
   {
    "duration": 165,
    "start_time": "2022-08-12T13:56:15.329Z"
   },
   {
    "duration": 154,
    "start_time": "2022-08-12T13:56:27.123Z"
   },
   {
    "duration": 166,
    "start_time": "2022-08-12T13:56:34.623Z"
   },
   {
    "duration": 10,
    "start_time": "2022-08-12T14:00:35.035Z"
   },
   {
    "duration": 155,
    "start_time": "2022-08-12T14:00:41.638Z"
   },
   {
    "duration": 152,
    "start_time": "2022-08-12T14:00:51.715Z"
   },
   {
    "duration": 1797,
    "start_time": "2022-08-12T14:01:31.956Z"
   },
   {
    "duration": 208,
    "start_time": "2022-08-12T14:01:55.445Z"
   },
   {
    "duration": 130,
    "start_time": "2022-08-12T14:02:07.074Z"
   },
   {
    "duration": 118,
    "start_time": "2022-08-12T14:02:18.926Z"
   },
   {
    "duration": 128,
    "start_time": "2022-08-12T14:02:26.381Z"
   },
   {
    "duration": 155,
    "start_time": "2022-08-12T14:02:35.677Z"
   },
   {
    "duration": 168,
    "start_time": "2022-08-12T14:04:36.273Z"
   },
   {
    "duration": 172,
    "start_time": "2022-08-12T14:05:47.441Z"
   },
   {
    "duration": 184,
    "start_time": "2022-08-12T14:06:05.622Z"
   },
   {
    "duration": 8,
    "start_time": "2022-08-12T14:11:18.588Z"
   },
   {
    "duration": 130,
    "start_time": "2022-08-12T14:11:23.728Z"
   },
   {
    "duration": 263,
    "start_time": "2022-08-12T14:12:30.331Z"
   },
   {
    "duration": 183,
    "start_time": "2022-08-12T14:15:57.992Z"
   },
   {
    "duration": 8,
    "start_time": "2022-08-12T14:16:20.766Z"
   },
   {
    "duration": 7,
    "start_time": "2022-08-12T14:16:45.830Z"
   },
   {
    "duration": 179,
    "start_time": "2022-08-12T14:22:40.655Z"
   },
   {
    "duration": 171,
    "start_time": "2022-08-12T14:22:58.672Z"
   },
   {
    "duration": 69,
    "start_time": "2022-08-12T14:26:15.306Z"
   },
   {
    "duration": 66,
    "start_time": "2022-08-12T14:26:37.566Z"
   },
   {
    "duration": 49,
    "start_time": "2022-08-12T14:27:16.696Z"
   },
   {
    "duration": 2,
    "start_time": "2022-08-12T14:28:03.125Z"
   },
   {
    "duration": 101,
    "start_time": "2022-08-12T14:28:03.130Z"
   },
   {
    "duration": 4,
    "start_time": "2022-08-12T14:28:03.233Z"
   },
   {
    "duration": 43,
    "start_time": "2022-08-12T14:28:03.238Z"
   },
   {
    "duration": 29,
    "start_time": "2022-08-12T14:28:03.283Z"
   },
   {
    "duration": 5,
    "start_time": "2022-08-12T14:28:03.313Z"
   },
   {
    "duration": 6,
    "start_time": "2022-08-12T14:28:03.320Z"
   },
   {
    "duration": 19,
    "start_time": "2022-08-12T14:28:03.327Z"
   },
   {
    "duration": 8,
    "start_time": "2022-08-12T14:28:03.348Z"
   },
   {
    "duration": 26,
    "start_time": "2022-08-12T14:28:03.358Z"
   },
   {
    "duration": 4,
    "start_time": "2022-08-12T14:28:03.410Z"
   },
   {
    "duration": 15,
    "start_time": "2022-08-12T14:28:03.416Z"
   },
   {
    "duration": 22,
    "start_time": "2022-08-12T14:28:03.433Z"
   },
   {
    "duration": 13,
    "start_time": "2022-08-12T14:28:03.456Z"
   },
   {
    "duration": 35,
    "start_time": "2022-08-12T14:28:03.471Z"
   },
   {
    "duration": 8,
    "start_time": "2022-08-12T14:28:03.507Z"
   },
   {
    "duration": 9,
    "start_time": "2022-08-12T14:28:03.516Z"
   },
   {
    "duration": 3,
    "start_time": "2022-08-12T14:28:03.526Z"
   },
   {
    "duration": 12,
    "start_time": "2022-08-12T14:28:03.531Z"
   },
   {
    "duration": 29,
    "start_time": "2022-08-12T14:28:03.544Z"
   },
   {
    "duration": 39,
    "start_time": "2022-08-12T14:28:03.575Z"
   },
   {
    "duration": 8,
    "start_time": "2022-08-12T14:28:03.615Z"
   },
   {
    "duration": 7,
    "start_time": "2022-08-12T14:28:03.625Z"
   },
   {
    "duration": 23,
    "start_time": "2022-08-12T14:28:03.634Z"
   },
   {
    "duration": 3,
    "start_time": "2022-08-12T14:28:03.659Z"
   },
   {
    "duration": 10,
    "start_time": "2022-08-12T14:28:03.663Z"
   },
   {
    "duration": 39,
    "start_time": "2022-08-12T14:28:03.674Z"
   },
   {
    "duration": 5,
    "start_time": "2022-08-12T14:28:03.715Z"
   },
   {
    "duration": 13,
    "start_time": "2022-08-12T14:28:03.723Z"
   },
   {
    "duration": 13,
    "start_time": "2022-08-12T14:28:03.737Z"
   },
   {
    "duration": 25,
    "start_time": "2022-08-12T14:28:03.752Z"
   },
   {
    "duration": 7,
    "start_time": "2022-08-12T14:28:03.779Z"
   },
   {
    "duration": 187,
    "start_time": "2022-08-12T14:28:03.788Z"
   },
   {
    "duration": 6,
    "start_time": "2022-08-12T14:28:03.976Z"
   },
   {
    "duration": 31,
    "start_time": "2022-08-12T14:28:03.983Z"
   },
   {
    "duration": 28,
    "start_time": "2022-08-12T14:28:04.015Z"
   },
   {
    "duration": 6,
    "start_time": "2022-08-12T14:28:04.044Z"
   },
   {
    "duration": 18,
    "start_time": "2022-08-12T14:28:04.052Z"
   },
   {
    "duration": 241,
    "start_time": "2022-08-12T14:28:04.071Z"
   },
   {
    "duration": 154,
    "start_time": "2022-08-12T14:28:04.313Z"
   },
   {
    "duration": 133,
    "start_time": "2022-08-12T14:28:04.468Z"
   },
   {
    "duration": 187,
    "start_time": "2022-08-12T14:28:04.610Z"
   },
   {
    "duration": 173,
    "start_time": "2022-08-12T14:28:04.798Z"
   },
   {
    "duration": 7,
    "start_time": "2022-08-12T14:28:19.810Z"
   },
   {
    "duration": 137,
    "start_time": "2022-08-12T14:28:24.213Z"
   },
   {
    "duration": 6,
    "start_time": "2022-08-12T14:28:29.691Z"
   },
   {
    "duration": 35,
    "start_time": "2022-08-12T14:28:34.903Z"
   },
   {
    "duration": 331,
    "start_time": "2022-08-12T14:29:36.907Z"
   },
   {
    "duration": 313,
    "start_time": "2022-08-12T14:29:53.538Z"
   },
   {
    "duration": 288,
    "start_time": "2022-08-12T14:30:20.027Z"
   },
   {
    "duration": 303,
    "start_time": "2022-08-12T14:31:01.617Z"
   },
   {
    "duration": 249,
    "start_time": "2022-08-12T14:31:11.830Z"
   },
   {
    "duration": 245,
    "start_time": "2022-08-12T14:31:25.200Z"
   },
   {
    "duration": 51,
    "start_time": "2022-08-12T14:32:58.101Z"
   },
   {
    "duration": 1219,
    "start_time": "2022-08-13T11:41:13.449Z"
   },
   {
    "duration": 361,
    "start_time": "2022-08-13T11:41:14.670Z"
   },
   {
    "duration": 4,
    "start_time": "2022-08-13T11:41:15.033Z"
   },
   {
    "duration": 50,
    "start_time": "2022-08-13T11:41:15.039Z"
   },
   {
    "duration": 10,
    "start_time": "2022-08-13T11:41:15.091Z"
   },
   {
    "duration": 4,
    "start_time": "2022-08-13T11:41:15.102Z"
   },
   {
    "duration": 33,
    "start_time": "2022-08-13T11:41:15.107Z"
   },
   {
    "duration": 16,
    "start_time": "2022-08-13T11:41:15.141Z"
   },
   {
    "duration": 5,
    "start_time": "2022-08-13T11:41:15.159Z"
   },
   {
    "duration": 13,
    "start_time": "2022-08-13T11:41:15.167Z"
   },
   {
    "duration": 5,
    "start_time": "2022-08-13T11:41:15.181Z"
   },
   {
    "duration": 7,
    "start_time": "2022-08-13T11:41:15.187Z"
   },
   {
    "duration": 5,
    "start_time": "2022-08-13T11:41:15.196Z"
   },
   {
    "duration": 36,
    "start_time": "2022-08-13T11:41:15.202Z"
   },
   {
    "duration": 31,
    "start_time": "2022-08-13T11:41:15.240Z"
   },
   {
    "duration": 6,
    "start_time": "2022-08-13T11:41:15.273Z"
   },
   {
    "duration": 17,
    "start_time": "2022-08-13T11:41:15.280Z"
   },
   {
    "duration": 11,
    "start_time": "2022-08-13T11:41:15.298Z"
   },
   {
    "duration": 19,
    "start_time": "2022-08-13T11:41:15.311Z"
   },
   {
    "duration": 32,
    "start_time": "2022-08-13T11:41:15.337Z"
   },
   {
    "duration": 4,
    "start_time": "2022-08-13T11:41:15.371Z"
   },
   {
    "duration": 17,
    "start_time": "2022-08-13T11:41:15.376Z"
   },
   {
    "duration": 16,
    "start_time": "2022-08-13T11:41:15.394Z"
   },
   {
    "duration": 38,
    "start_time": "2022-08-13T11:41:15.412Z"
   },
   {
    "duration": 4,
    "start_time": "2022-08-13T11:41:15.452Z"
   },
   {
    "duration": 14,
    "start_time": "2022-08-13T11:41:15.458Z"
   },
   {
    "duration": 15,
    "start_time": "2022-08-13T11:41:15.473Z"
   },
   {
    "duration": 11,
    "start_time": "2022-08-13T11:41:15.491Z"
   },
   {
    "duration": 16,
    "start_time": "2022-08-13T11:41:15.504Z"
   },
   {
    "duration": 15,
    "start_time": "2022-08-13T11:41:15.522Z"
   },
   {
    "duration": 23,
    "start_time": "2022-08-13T11:41:15.539Z"
   },
   {
    "duration": 7,
    "start_time": "2022-08-13T11:41:15.564Z"
   },
   {
    "duration": 198,
    "start_time": "2022-08-13T11:41:15.572Z"
   },
   {
    "duration": 5,
    "start_time": "2022-08-13T11:41:15.771Z"
   },
   {
    "duration": 3,
    "start_time": "2022-08-13T13:08:11.045Z"
   },
   {
    "duration": 108,
    "start_time": "2022-08-13T13:08:11.050Z"
   },
   {
    "duration": 4,
    "start_time": "2022-08-13T13:08:11.160Z"
   },
   {
    "duration": 45,
    "start_time": "2022-08-13T13:08:11.165Z"
   },
   {
    "duration": 9,
    "start_time": "2022-08-13T13:08:11.212Z"
   },
   {
    "duration": 17,
    "start_time": "2022-08-13T13:08:11.222Z"
   },
   {
    "duration": 11,
    "start_time": "2022-08-13T13:08:11.240Z"
   },
   {
    "duration": 15,
    "start_time": "2022-08-13T13:08:11.252Z"
   },
   {
    "duration": 5,
    "start_time": "2022-08-13T13:08:11.269Z"
   },
   {
    "duration": 12,
    "start_time": "2022-08-13T13:08:11.276Z"
   },
   {
    "duration": 4,
    "start_time": "2022-08-13T13:08:11.289Z"
   },
   {
    "duration": 7,
    "start_time": "2022-08-13T13:08:11.295Z"
   },
   {
    "duration": 5,
    "start_time": "2022-08-13T13:08:11.303Z"
   },
   {
    "duration": 29,
    "start_time": "2022-08-13T13:08:11.310Z"
   },
   {
    "duration": 198,
    "start_time": "2022-08-13T13:08:33.922Z"
   },
   {
    "duration": 109,
    "start_time": "2022-08-13T13:08:44.022Z"
   },
   {
    "duration": 3,
    "start_time": "2022-08-13T13:22:05.234Z"
   },
   {
    "duration": 104,
    "start_time": "2022-08-13T13:22:41.510Z"
   },
   {
    "duration": 127,
    "start_time": "2022-08-13T13:22:47.930Z"
   },
   {
    "duration": 107,
    "start_time": "2022-08-13T13:22:59.253Z"
   },
   {
    "duration": 95,
    "start_time": "2022-08-13T13:23:10.665Z"
   },
   {
    "duration": 47,
    "start_time": "2022-08-13T13:23:15.303Z"
   },
   {
    "duration": 110,
    "start_time": "2022-08-13T13:23:26.690Z"
   },
   {
    "duration": 49,
    "start_time": "2022-08-13T13:23:39.091Z"
   },
   {
    "duration": 44,
    "start_time": "2022-08-13T13:24:58.653Z"
   },
   {
    "duration": 3,
    "start_time": "2022-08-13T13:26:59.954Z"
   },
   {
    "duration": 106,
    "start_time": "2022-08-13T13:27:03.011Z"
   },
   {
    "duration": 3,
    "start_time": "2022-08-13T13:27:31.342Z"
   },
   {
    "duration": 100,
    "start_time": "2022-08-13T13:27:32.954Z"
   },
   {
    "duration": 470,
    "start_time": "2022-08-13T13:32:07.979Z"
   },
   {
    "duration": 432,
    "start_time": "2022-08-13T13:38:35.716Z"
   },
   {
    "duration": 417,
    "start_time": "2022-08-13T13:39:21.223Z"
   },
   {
    "duration": 487,
    "start_time": "2022-08-13T13:39:32.222Z"
   },
   {
    "duration": 19,
    "start_time": "2022-08-13T13:45:48.324Z"
   },
   {
    "duration": 13,
    "start_time": "2022-08-13T13:46:26.128Z"
   },
   {
    "duration": 13,
    "start_time": "2022-08-13T13:47:08.963Z"
   },
   {
    "duration": 13,
    "start_time": "2022-08-13T13:47:27.689Z"
   },
   {
    "duration": 73,
    "start_time": "2022-08-13T13:48:26.889Z"
   },
   {
    "duration": 75,
    "start_time": "2022-08-13T13:55:03.128Z"
   },
   {
    "duration": 78,
    "start_time": "2022-08-13T13:55:16.191Z"
   },
   {
    "duration": 82,
    "start_time": "2022-08-13T13:55:20.791Z"
   },
   {
    "duration": 97,
    "start_time": "2022-08-13T13:55:42.427Z"
   },
   {
    "duration": 100,
    "start_time": "2022-08-13T13:56:42.905Z"
   },
   {
    "duration": 92,
    "start_time": "2022-08-13T13:56:51.441Z"
   },
   {
    "duration": 94,
    "start_time": "2022-08-13T13:56:59.229Z"
   },
   {
    "duration": 149,
    "start_time": "2022-08-13T13:57:34.092Z"
   },
   {
    "duration": 103,
    "start_time": "2022-08-13T13:57:42.280Z"
   },
   {
    "duration": 92,
    "start_time": "2022-08-13T13:58:02.142Z"
   },
   {
    "duration": 88,
    "start_time": "2022-08-13T13:58:07.743Z"
   },
   {
    "duration": 90,
    "start_time": "2022-08-13T13:58:15.355Z"
   },
   {
    "duration": 86,
    "start_time": "2022-08-13T13:58:22.342Z"
   },
   {
    "duration": 83,
    "start_time": "2022-08-13T13:58:27.543Z"
   },
   {
    "duration": 84,
    "start_time": "2022-08-13T13:58:32.118Z"
   },
   {
    "duration": 14,
    "start_time": "2022-08-13T14:00:43.644Z"
   },
   {
    "duration": 115,
    "start_time": "2022-08-13T14:01:26.957Z"
   },
   {
    "duration": 107,
    "start_time": "2022-08-13T14:01:55.233Z"
   },
   {
    "duration": 145,
    "start_time": "2022-08-13T14:02:42.631Z"
   },
   {
    "duration": 144,
    "start_time": "2022-08-13T14:04:03.482Z"
   },
   {
    "duration": 205,
    "start_time": "2022-08-13T14:04:09.082Z"
   },
   {
    "duration": 157,
    "start_time": "2022-08-13T14:04:38.922Z"
   },
   {
    "duration": 125,
    "start_time": "2022-08-13T14:04:43.271Z"
   },
   {
    "duration": 10,
    "start_time": "2022-08-13T14:35:20.159Z"
   },
   {
    "duration": 7413,
    "start_time": "2022-08-13T14:43:11.536Z"
   },
   {
    "duration": 3,
    "start_time": "2022-08-13T14:43:20.865Z"
   },
   {
    "duration": 106,
    "start_time": "2022-08-13T14:43:20.870Z"
   },
   {
    "duration": 4,
    "start_time": "2022-08-13T14:43:20.978Z"
   },
   {
    "duration": 42,
    "start_time": "2022-08-13T14:43:20.984Z"
   },
   {
    "duration": 8,
    "start_time": "2022-08-13T14:43:21.027Z"
   },
   {
    "duration": 4,
    "start_time": "2022-08-13T14:43:21.037Z"
   },
   {
    "duration": 27,
    "start_time": "2022-08-13T14:43:21.042Z"
   },
   {
    "duration": 15,
    "start_time": "2022-08-13T14:43:21.070Z"
   },
   {
    "duration": 5,
    "start_time": "2022-08-13T14:43:21.088Z"
   },
   {
    "duration": 12,
    "start_time": "2022-08-13T14:43:21.094Z"
   },
   {
    "duration": 4,
    "start_time": "2022-08-13T14:43:21.107Z"
   },
   {
    "duration": 7,
    "start_time": "2022-08-13T14:43:21.112Z"
   },
   {
    "duration": 18,
    "start_time": "2022-08-13T14:43:21.120Z"
   },
   {
    "duration": 3,
    "start_time": "2022-08-13T14:43:21.140Z"
   },
   {
    "duration": 428,
    "start_time": "2022-08-13T14:43:21.144Z"
   },
   {
    "duration": 13,
    "start_time": "2022-08-13T14:43:21.574Z"
   },
   {
    "duration": 106,
    "start_time": "2022-08-13T14:43:21.588Z"
   },
   {
    "duration": 95,
    "start_time": "2022-08-13T14:43:21.695Z"
   },
   {
    "duration": 12,
    "start_time": "2022-08-13T14:43:21.791Z"
   },
   {
    "duration": 51,
    "start_time": "2022-08-13T14:43:21.805Z"
   },
   {
    "duration": 7,
    "start_time": "2022-08-13T14:43:21.857Z"
   },
   {
    "duration": 7,
    "start_time": "2022-08-13T14:43:21.866Z"
   },
   {
    "duration": 4,
    "start_time": "2022-08-13T14:43:21.875Z"
   },
   {
    "duration": 10,
    "start_time": "2022-08-13T14:43:21.881Z"
   },
   {
    "duration": 814,
    "start_time": "2022-08-13T14:43:21.892Z"
   },
   {
    "duration": 854,
    "start_time": "2022-08-13T14:43:25.286Z"
   },
   {
    "duration": 863,
    "start_time": "2022-08-13T14:43:40.311Z"
   },
   {
    "duration": 10,
    "start_time": "2022-08-13T14:45:58.711Z"
   },
   {
    "duration": 1048,
    "start_time": "2022-08-13T14:47:09.162Z"
   },
   {
    "duration": 4,
    "start_time": "2022-08-13T14:47:34.186Z"
   },
   {
    "duration": 112,
    "start_time": "2022-08-13T14:47:34.191Z"
   },
   {
    "duration": 3,
    "start_time": "2022-08-13T14:47:34.305Z"
   },
   {
    "duration": 52,
    "start_time": "2022-08-13T14:47:34.310Z"
   },
   {
    "duration": 8,
    "start_time": "2022-08-13T14:47:34.364Z"
   },
   {
    "duration": 3,
    "start_time": "2022-08-13T14:47:34.374Z"
   },
   {
    "duration": 8,
    "start_time": "2022-08-13T14:47:34.378Z"
   },
   {
    "duration": 15,
    "start_time": "2022-08-13T14:47:34.387Z"
   },
   {
    "duration": 5,
    "start_time": "2022-08-13T14:47:34.404Z"
   },
   {
    "duration": 36,
    "start_time": "2022-08-13T14:47:34.410Z"
   },
   {
    "duration": 3,
    "start_time": "2022-08-13T14:47:34.448Z"
   },
   {
    "duration": 8,
    "start_time": "2022-08-13T14:47:34.452Z"
   },
   {
    "duration": 10,
    "start_time": "2022-08-13T14:47:34.461Z"
   },
   {
    "duration": 7,
    "start_time": "2022-08-13T14:47:34.472Z"
   },
   {
    "duration": 448,
    "start_time": "2022-08-13T14:47:34.481Z"
   },
   {
    "duration": 19,
    "start_time": "2022-08-13T14:47:34.930Z"
   },
   {
    "duration": 100,
    "start_time": "2022-08-13T14:47:34.950Z"
   },
   {
    "duration": 94,
    "start_time": "2022-08-13T14:47:35.052Z"
   },
   {
    "duration": 11,
    "start_time": "2022-08-13T14:47:35.147Z"
   },
   {
    "duration": 32,
    "start_time": "2022-08-13T14:47:35.159Z"
   },
   {
    "duration": 7,
    "start_time": "2022-08-13T14:47:35.193Z"
   },
   {
    "duration": 42,
    "start_time": "2022-08-13T14:47:35.201Z"
   },
   {
    "duration": 4,
    "start_time": "2022-08-13T14:47:35.244Z"
   },
   {
    "duration": 10,
    "start_time": "2022-08-13T14:47:35.252Z"
   },
   {
    "duration": 868,
    "start_time": "2022-08-13T14:47:35.264Z"
   },
   {
    "duration": 31,
    "start_time": "2022-08-13T14:47:36.138Z"
   },
   {
    "duration": 5,
    "start_time": "2022-08-13T14:47:36.170Z"
   },
   {
    "duration": 10,
    "start_time": "2022-08-13T14:47:36.176Z"
   },
   {
    "duration": 7,
    "start_time": "2022-08-13T14:47:36.188Z"
   },
   {
    "duration": 8,
    "start_time": "2022-08-13T14:47:42.686Z"
   },
   {
    "duration": 444,
    "start_time": "2022-08-13T14:47:44.162Z"
   },
   {
    "duration": 795,
    "start_time": "2022-08-13T14:51:38.726Z"
   },
   {
    "duration": 29,
    "start_time": "2022-08-13T14:52:25.689Z"
   },
   {
    "duration": 3,
    "start_time": "2022-08-13T14:52:32.431Z"
   },
   {
    "duration": 106,
    "start_time": "2022-08-13T14:52:32.436Z"
   },
   {
    "duration": 3,
    "start_time": "2022-08-13T14:52:32.543Z"
   },
   {
    "duration": 38,
    "start_time": "2022-08-13T14:52:32.548Z"
   },
   {
    "duration": 9,
    "start_time": "2022-08-13T14:52:32.587Z"
   },
   {
    "duration": 4,
    "start_time": "2022-08-13T14:52:32.597Z"
   },
   {
    "duration": 38,
    "start_time": "2022-08-13T14:52:32.602Z"
   },
   {
    "duration": 16,
    "start_time": "2022-08-13T14:52:32.642Z"
   },
   {
    "duration": 8,
    "start_time": "2022-08-13T14:52:32.660Z"
   },
   {
    "duration": 15,
    "start_time": "2022-08-13T14:52:32.670Z"
   },
   {
    "duration": 5,
    "start_time": "2022-08-13T14:52:32.686Z"
   },
   {
    "duration": 9,
    "start_time": "2022-08-13T14:52:32.692Z"
   },
   {
    "duration": 7,
    "start_time": "2022-08-13T14:52:32.702Z"
   },
   {
    "duration": 8,
    "start_time": "2022-08-13T14:52:32.710Z"
   },
   {
    "duration": 511,
    "start_time": "2022-08-13T14:52:32.738Z"
   },
   {
    "duration": 13,
    "start_time": "2022-08-13T14:52:33.251Z"
   },
   {
    "duration": 102,
    "start_time": "2022-08-13T14:52:33.265Z"
   },
   {
    "duration": 109,
    "start_time": "2022-08-13T14:52:33.369Z"
   },
   {
    "duration": 10,
    "start_time": "2022-08-13T14:52:33.479Z"
   },
   {
    "duration": 48,
    "start_time": "2022-08-13T14:52:33.491Z"
   },
   {
    "duration": 7,
    "start_time": "2022-08-13T14:52:33.540Z"
   },
   {
    "duration": 8,
    "start_time": "2022-08-13T14:52:33.548Z"
   },
   {
    "duration": 4,
    "start_time": "2022-08-13T14:52:33.557Z"
   },
   {
    "duration": 9,
    "start_time": "2022-08-13T14:52:33.563Z"
   },
   {
    "duration": 787,
    "start_time": "2022-08-13T14:52:33.574Z"
   },
   {
    "duration": 26,
    "start_time": "2022-08-13T14:52:34.363Z"
   },
   {
    "duration": 4,
    "start_time": "2022-08-13T14:52:34.391Z"
   },
   {
    "duration": 10,
    "start_time": "2022-08-13T14:52:34.397Z"
   },
   {
    "duration": 8,
    "start_time": "2022-08-13T14:52:34.408Z"
   },
   {
    "duration": 578,
    "start_time": "2022-08-13T14:52:34.417Z"
   },
   {
    "duration": 10695,
    "start_time": "2022-08-13T14:52:47.952Z"
   },
   {
    "duration": 3,
    "start_time": "2022-08-13T14:53:35.565Z"
   },
   {
    "duration": 115,
    "start_time": "2022-08-13T14:53:35.569Z"
   },
   {
    "duration": 5,
    "start_time": "2022-08-13T14:53:35.686Z"
   },
   {
    "duration": 62,
    "start_time": "2022-08-13T14:53:35.693Z"
   },
   {
    "duration": 9,
    "start_time": "2022-08-13T14:53:35.757Z"
   },
   {
    "duration": 4,
    "start_time": "2022-08-13T14:53:35.767Z"
   },
   {
    "duration": 8,
    "start_time": "2022-08-13T14:53:35.772Z"
   },
   {
    "duration": 17,
    "start_time": "2022-08-13T14:53:35.781Z"
   },
   {
    "duration": 7,
    "start_time": "2022-08-13T14:53:35.800Z"
   },
   {
    "duration": 33,
    "start_time": "2022-08-13T14:53:35.808Z"
   },
   {
    "duration": 3,
    "start_time": "2022-08-13T14:53:35.842Z"
   },
   {
    "duration": 9,
    "start_time": "2022-08-13T14:53:35.847Z"
   },
   {
    "duration": 5,
    "start_time": "2022-08-13T14:53:35.858Z"
   },
   {
    "duration": 5,
    "start_time": "2022-08-13T14:53:35.864Z"
   },
   {
    "duration": 458,
    "start_time": "2022-08-13T14:53:35.870Z"
   },
   {
    "duration": 18,
    "start_time": "2022-08-13T14:53:36.330Z"
   },
   {
    "duration": 101,
    "start_time": "2022-08-13T14:53:36.350Z"
   },
   {
    "duration": 94,
    "start_time": "2022-08-13T14:53:36.452Z"
   },
   {
    "duration": 11,
    "start_time": "2022-08-13T14:53:36.548Z"
   },
   {
    "duration": 37,
    "start_time": "2022-08-13T14:53:36.561Z"
   },
   {
    "duration": 7,
    "start_time": "2022-08-13T14:53:36.600Z"
   },
   {
    "duration": 35,
    "start_time": "2022-08-13T14:53:36.608Z"
   },
   {
    "duration": 6,
    "start_time": "2022-08-13T14:53:36.645Z"
   },
   {
    "duration": 13,
    "start_time": "2022-08-13T14:53:36.654Z"
   },
   {
    "duration": 844,
    "start_time": "2022-08-13T14:53:36.669Z"
   },
   {
    "duration": 37,
    "start_time": "2022-08-13T14:53:37.515Z"
   },
   {
    "duration": 5,
    "start_time": "2022-08-13T14:53:37.553Z"
   },
   {
    "duration": 10,
    "start_time": "2022-08-13T14:53:37.559Z"
   },
   {
    "duration": 8,
    "start_time": "2022-08-13T14:53:37.570Z"
   },
   {
    "duration": 464,
    "start_time": "2022-08-13T14:53:37.580Z"
   },
   {
    "duration": 22,
    "start_time": "2022-08-13T14:53:38.045Z"
   },
   {
    "duration": 4,
    "start_time": "2022-08-13T14:53:38.068Z"
   },
   {
    "duration": 8,
    "start_time": "2022-08-13T14:53:38.073Z"
   },
   {
    "duration": 10,
    "start_time": "2022-08-13T14:53:38.083Z"
   },
   {
    "duration": 6,
    "start_time": "2022-08-13T14:53:38.094Z"
   },
   {
    "duration": 7,
    "start_time": "2022-08-13T14:53:38.102Z"
   },
   {
    "duration": 10,
    "start_time": "2022-08-13T14:53:38.138Z"
   },
   {
    "duration": 21,
    "start_time": "2022-08-13T14:53:38.150Z"
   },
   {
    "duration": 6,
    "start_time": "2022-08-13T14:53:38.172Z"
   },
   {
    "duration": 180,
    "start_time": "2022-08-13T14:53:38.179Z"
   },
   {
    "duration": 5,
    "start_time": "2022-08-13T14:53:38.361Z"
   },
   {
    "duration": 20,
    "start_time": "2022-08-13T14:53:38.367Z"
   },
   {
    "duration": 26,
    "start_time": "2022-08-13T14:53:38.389Z"
   },
   {
    "duration": 22,
    "start_time": "2022-08-13T14:53:38.416Z"
   },
   {
    "duration": 17,
    "start_time": "2022-08-13T14:53:38.440Z"
   },
   {
    "duration": 222,
    "start_time": "2022-08-13T14:53:38.458Z"
   },
   {
    "duration": 156,
    "start_time": "2022-08-13T14:53:38.682Z"
   },
   {
    "duration": 163,
    "start_time": "2022-08-13T14:53:38.840Z"
   },
   {
    "duration": 202,
    "start_time": "2022-08-13T14:53:39.005Z"
   },
   {
    "duration": 167,
    "start_time": "2022-08-13T14:53:39.209Z"
   },
   {
    "duration": 336,
    "start_time": "2022-08-13T14:53:39.378Z"
   },
   {
    "duration": 254,
    "start_time": "2022-08-13T14:53:39.716Z"
   },
   {
    "duration": 177,
    "start_time": "2022-08-13T14:53:43.901Z"
   },
   {
    "duration": 3,
    "start_time": "2022-08-13T14:54:37.005Z"
   },
   {
    "duration": 106,
    "start_time": "2022-08-13T14:54:37.010Z"
   },
   {
    "duration": 3,
    "start_time": "2022-08-13T14:54:37.118Z"
   },
   {
    "duration": 52,
    "start_time": "2022-08-13T14:54:37.122Z"
   },
   {
    "duration": 9,
    "start_time": "2022-08-13T14:54:37.176Z"
   },
   {
    "duration": 4,
    "start_time": "2022-08-13T14:54:37.186Z"
   },
   {
    "duration": 11,
    "start_time": "2022-08-13T14:54:37.192Z"
   },
   {
    "duration": 16,
    "start_time": "2022-08-13T14:54:37.205Z"
   },
   {
    "duration": 5,
    "start_time": "2022-08-13T14:54:37.238Z"
   },
   {
    "duration": 19,
    "start_time": "2022-08-13T14:54:37.244Z"
   },
   {
    "duration": 10,
    "start_time": "2022-08-13T14:54:37.264Z"
   },
   {
    "duration": 12,
    "start_time": "2022-08-13T14:54:37.276Z"
   },
   {
    "duration": 5,
    "start_time": "2022-08-13T14:54:37.289Z"
   },
   {
    "duration": 5,
    "start_time": "2022-08-13T14:54:37.296Z"
   },
   {
    "duration": 456,
    "start_time": "2022-08-13T14:54:37.302Z"
   },
   {
    "duration": 14,
    "start_time": "2022-08-13T14:54:37.759Z"
   },
   {
    "duration": 100,
    "start_time": "2022-08-13T14:54:37.774Z"
   },
   {
    "duration": 93,
    "start_time": "2022-08-13T14:54:37.876Z"
   },
   {
    "duration": 11,
    "start_time": "2022-08-13T14:54:37.971Z"
   },
   {
    "duration": 58,
    "start_time": "2022-08-13T14:54:37.983Z"
   },
   {
    "duration": 10,
    "start_time": "2022-08-13T14:54:38.043Z"
   },
   {
    "duration": 9,
    "start_time": "2022-08-13T14:54:38.054Z"
   },
   {
    "duration": 5,
    "start_time": "2022-08-13T14:54:38.065Z"
   },
   {
    "duration": 11,
    "start_time": "2022-08-13T14:54:38.072Z"
   },
   {
    "duration": 929,
    "start_time": "2022-08-13T14:54:38.085Z"
   },
   {
    "duration": 44,
    "start_time": "2022-08-13T14:54:39.017Z"
   },
   {
    "duration": 6,
    "start_time": "2022-08-13T14:54:39.063Z"
   },
   {
    "duration": 18,
    "start_time": "2022-08-13T14:54:39.071Z"
   },
   {
    "duration": 12,
    "start_time": "2022-08-13T14:54:39.091Z"
   },
   {
    "duration": 475,
    "start_time": "2022-08-13T14:54:39.105Z"
   },
   {
    "duration": 24,
    "start_time": "2022-08-13T14:54:39.581Z"
   },
   {
    "duration": 3,
    "start_time": "2022-08-13T14:54:39.607Z"
   },
   {
    "duration": 29,
    "start_time": "2022-08-13T14:54:39.612Z"
   },
   {
    "duration": 111,
    "start_time": "2022-08-13T14:55:25.316Z"
   },
   {
    "duration": 3,
    "start_time": "2022-08-13T14:58:54.828Z"
   },
   {
    "duration": 104,
    "start_time": "2022-08-13T14:58:54.833Z"
   },
   {
    "duration": 4,
    "start_time": "2022-08-13T14:58:54.939Z"
   },
   {
    "duration": 37,
    "start_time": "2022-08-13T14:58:54.944Z"
   },
   {
    "duration": 8,
    "start_time": "2022-08-13T14:58:54.982Z"
   },
   {
    "duration": 3,
    "start_time": "2022-08-13T14:58:54.991Z"
   },
   {
    "duration": 8,
    "start_time": "2022-08-13T14:58:54.995Z"
   },
   {
    "duration": 39,
    "start_time": "2022-08-13T14:58:55.004Z"
   },
   {
    "duration": 10,
    "start_time": "2022-08-13T14:58:55.045Z"
   },
   {
    "duration": 13,
    "start_time": "2022-08-13T14:58:55.056Z"
   },
   {
    "duration": 4,
    "start_time": "2022-08-13T14:58:55.070Z"
   },
   {
    "duration": 7,
    "start_time": "2022-08-13T14:58:55.076Z"
   },
   {
    "duration": 6,
    "start_time": "2022-08-13T14:58:55.084Z"
   },
   {
    "duration": 5,
    "start_time": "2022-08-13T14:58:55.091Z"
   },
   {
    "duration": 450,
    "start_time": "2022-08-13T14:58:55.097Z"
   },
   {
    "duration": 13,
    "start_time": "2022-08-13T14:58:55.548Z"
   },
   {
    "duration": 104,
    "start_time": "2022-08-13T14:58:55.563Z"
   },
   {
    "duration": 200,
    "start_time": "2022-08-13T14:58:55.668Z"
   },
   {
    "duration": 11,
    "start_time": "2022-08-13T14:58:55.870Z"
   },
   {
    "duration": 55,
    "start_time": "2022-08-13T14:58:55.883Z"
   },
   {
    "duration": 7,
    "start_time": "2022-08-13T14:58:55.940Z"
   },
   {
    "duration": 7,
    "start_time": "2022-08-13T14:58:55.948Z"
   },
   {
    "duration": 3,
    "start_time": "2022-08-13T14:58:55.957Z"
   },
   {
    "duration": 11,
    "start_time": "2022-08-13T14:58:55.963Z"
   },
   {
    "duration": 778,
    "start_time": "2022-08-13T14:58:55.975Z"
   },
   {
    "duration": 27,
    "start_time": "2022-08-13T14:58:56.755Z"
   },
   {
    "duration": 5,
    "start_time": "2022-08-13T14:58:56.783Z"
   },
   {
    "duration": 10,
    "start_time": "2022-08-13T14:58:56.789Z"
   },
   {
    "duration": 38,
    "start_time": "2022-08-13T14:58:56.800Z"
   },
   {
    "duration": 436,
    "start_time": "2022-08-13T14:58:56.840Z"
   },
   {
    "duration": 23,
    "start_time": "2022-08-13T14:58:57.278Z"
   },
   {
    "duration": 4,
    "start_time": "2022-08-13T14:58:57.302Z"
   },
   {
    "duration": 32,
    "start_time": "2022-08-13T14:58:57.307Z"
   },
   {
    "duration": 114,
    "start_time": "2022-08-13T14:58:57.340Z"
   },
   {
    "duration": 7,
    "start_time": "2022-08-13T14:58:57.455Z"
   },
   {
    "duration": 7,
    "start_time": "2022-08-13T14:58:57.463Z"
   },
   {
    "duration": 7,
    "start_time": "2022-08-13T14:58:57.471Z"
   },
   {
    "duration": 12,
    "start_time": "2022-08-13T14:58:57.480Z"
   },
   {
    "duration": 22,
    "start_time": "2022-08-13T14:58:57.493Z"
   },
   {
    "duration": 6,
    "start_time": "2022-08-13T14:58:57.538Z"
   },
   {
    "duration": 172,
    "start_time": "2022-08-13T14:58:57.545Z"
   },
   {
    "duration": 6,
    "start_time": "2022-08-13T14:58:57.718Z"
   },
   {
    "duration": 282,
    "start_time": "2022-08-13T14:59:01.890Z"
   },
   {
    "duration": 87,
    "start_time": "2022-08-13T14:59:29.856Z"
   },
   {
    "duration": 234,
    "start_time": "2022-08-13T15:02:05.466Z"
   },
   {
    "duration": 242,
    "start_time": "2022-08-13T15:02:44.667Z"
   },
   {
    "duration": 3,
    "start_time": "2022-08-13T15:03:39.945Z"
   },
   {
    "duration": 113,
    "start_time": "2022-08-13T15:03:39.949Z"
   },
   {
    "duration": 4,
    "start_time": "2022-08-13T15:03:40.064Z"
   },
   {
    "duration": 42,
    "start_time": "2022-08-13T15:03:40.070Z"
   },
   {
    "duration": 8,
    "start_time": "2022-08-13T15:03:40.114Z"
   },
   {
    "duration": 15,
    "start_time": "2022-08-13T15:03:40.123Z"
   },
   {
    "duration": 5,
    "start_time": "2022-08-13T15:03:40.139Z"
   },
   {
    "duration": 15,
    "start_time": "2022-08-13T15:03:40.146Z"
   },
   {
    "duration": 6,
    "start_time": "2022-08-13T15:03:40.162Z"
   },
   {
    "duration": 17,
    "start_time": "2022-08-13T15:03:40.169Z"
   },
   {
    "duration": 5,
    "start_time": "2022-08-13T15:03:40.187Z"
   },
   {
    "duration": 13,
    "start_time": "2022-08-13T15:03:40.193Z"
   },
   {
    "duration": 8,
    "start_time": "2022-08-13T15:03:40.209Z"
   },
   {
    "duration": 7,
    "start_time": "2022-08-13T15:03:40.238Z"
   },
   {
    "duration": 436,
    "start_time": "2022-08-13T15:03:40.247Z"
   },
   {
    "duration": 13,
    "start_time": "2022-08-13T15:03:40.685Z"
   },
   {
    "duration": 105,
    "start_time": "2022-08-13T15:03:40.699Z"
   },
   {
    "duration": 95,
    "start_time": "2022-08-13T15:03:40.806Z"
   },
   {
    "duration": 13,
    "start_time": "2022-08-13T15:03:40.902Z"
   },
   {
    "duration": 252,
    "start_time": "2022-08-13T15:03:40.916Z"
   },
   {
    "duration": 257,
    "start_time": "2022-08-13T15:03:41.169Z"
   },
   {
    "duration": 39,
    "start_time": "2022-08-13T15:03:41.428Z"
   },
   {
    "duration": 6,
    "start_time": "2022-08-13T15:03:41.468Z"
   },
   {
    "duration": 8,
    "start_time": "2022-08-13T15:03:41.476Z"
   },
   {
    "duration": 4,
    "start_time": "2022-08-13T15:03:41.485Z"
   },
   {
    "duration": 10,
    "start_time": "2022-08-13T15:03:41.490Z"
   },
   {
    "duration": 955,
    "start_time": "2022-08-13T15:03:41.502Z"
   },
   {
    "duration": 30,
    "start_time": "2022-08-13T15:03:42.459Z"
   },
   {
    "duration": 5,
    "start_time": "2022-08-13T15:03:42.490Z"
   },
   {
    "duration": 10,
    "start_time": "2022-08-13T15:03:42.497Z"
   },
   {
    "duration": 28,
    "start_time": "2022-08-13T15:03:42.509Z"
   },
   {
    "duration": 445,
    "start_time": "2022-08-13T15:03:42.539Z"
   },
   {
    "duration": 22,
    "start_time": "2022-08-13T15:03:42.985Z"
   },
   {
    "duration": 4,
    "start_time": "2022-08-13T15:03:43.009Z"
   },
   {
    "duration": 27,
    "start_time": "2022-08-13T15:03:43.014Z"
   },
   {
    "duration": 129,
    "start_time": "2022-08-13T15:03:43.042Z"
   },
   {
    "duration": 8,
    "start_time": "2022-08-13T15:03:43.174Z"
   },
   {
    "duration": 8,
    "start_time": "2022-08-13T15:03:43.183Z"
   },
   {
    "duration": 12,
    "start_time": "2022-08-13T15:03:43.193Z"
   },
   {
    "duration": 25,
    "start_time": "2022-08-13T15:03:43.207Z"
   },
   {
    "duration": 41,
    "start_time": "2022-08-13T15:03:43.233Z"
   },
   {
    "duration": 9,
    "start_time": "2022-08-13T15:03:43.275Z"
   },
   {
    "duration": 200,
    "start_time": "2022-08-13T15:03:43.285Z"
   },
   {
    "duration": 6,
    "start_time": "2022-08-13T15:03:43.486Z"
   },
   {
    "duration": 217,
    "start_time": "2022-08-13T15:03:43.494Z"
   },
   {
    "duration": 34,
    "start_time": "2022-08-13T15:03:43.713Z"
   },
   {
    "duration": 34,
    "start_time": "2022-08-13T15:03:43.748Z"
   },
   {
    "duration": 7,
    "start_time": "2022-08-13T15:03:43.784Z"
   },
   {
    "duration": 23,
    "start_time": "2022-08-13T15:03:43.793Z"
   },
   {
    "duration": 376,
    "start_time": "2022-08-13T15:03:43.818Z"
   },
   {
    "duration": 175,
    "start_time": "2022-08-13T15:03:44.196Z"
   },
   {
    "duration": 131,
    "start_time": "2022-08-13T15:03:44.373Z"
   },
   {
    "duration": 107,
    "start_time": "2022-08-13T15:04:11.068Z"
   },
   {
    "duration": 112,
    "start_time": "2022-08-13T15:05:05.793Z"
   },
   {
    "duration": 1344,
    "start_time": "2022-08-16T08:39:56.710Z"
   },
   {
    "duration": 338,
    "start_time": "2022-08-16T08:39:58.061Z"
   },
   {
    "duration": 3,
    "start_time": "2022-08-16T08:39:58.401Z"
   },
   {
    "duration": 44,
    "start_time": "2022-08-16T08:39:58.406Z"
   },
   {
    "duration": 19,
    "start_time": "2022-08-16T08:39:58.451Z"
   },
   {
    "duration": 6,
    "start_time": "2022-08-16T08:39:58.471Z"
   },
   {
    "duration": 6,
    "start_time": "2022-08-16T08:39:58.478Z"
   },
   {
    "duration": 17,
    "start_time": "2022-08-16T08:39:58.485Z"
   },
   {
    "duration": 5,
    "start_time": "2022-08-16T08:39:58.503Z"
   },
   {
    "duration": 14,
    "start_time": "2022-08-16T08:39:58.510Z"
   },
   {
    "duration": 6,
    "start_time": "2022-08-16T08:39:58.526Z"
   },
   {
    "duration": 15,
    "start_time": "2022-08-16T08:39:58.556Z"
   },
   {
    "duration": 23,
    "start_time": "2022-08-16T08:39:58.572Z"
   },
   {
    "duration": 5,
    "start_time": "2022-08-16T08:39:58.597Z"
   },
   {
    "duration": 504,
    "start_time": "2022-08-16T08:39:58.604Z"
   },
   {
    "duration": 14,
    "start_time": "2022-08-16T08:39:59.109Z"
   },
   {
    "duration": 109,
    "start_time": "2022-08-16T08:39:59.125Z"
   },
   {
    "duration": 104,
    "start_time": "2022-08-16T08:39:59.236Z"
   },
   {
    "duration": 23,
    "start_time": "2022-08-16T08:39:59.342Z"
   },
   {
    "duration": 273,
    "start_time": "2022-08-16T08:39:59.370Z"
   },
   {
    "duration": 0,
    "start_time": "2022-08-16T08:39:59.645Z"
   },
   {
    "duration": 0,
    "start_time": "2022-08-16T08:39:59.646Z"
   },
   {
    "duration": 0,
    "start_time": "2022-08-16T08:39:59.658Z"
   },
   {
    "duration": 0,
    "start_time": "2022-08-16T08:39:59.660Z"
   },
   {
    "duration": 0,
    "start_time": "2022-08-16T08:39:59.661Z"
   },
   {
    "duration": 0,
    "start_time": "2022-08-16T08:39:59.662Z"
   },
   {
    "duration": 0,
    "start_time": "2022-08-16T08:39:59.663Z"
   },
   {
    "duration": 0,
    "start_time": "2022-08-16T08:39:59.664Z"
   },
   {
    "duration": 0,
    "start_time": "2022-08-16T08:39:59.665Z"
   },
   {
    "duration": 0,
    "start_time": "2022-08-16T08:39:59.667Z"
   },
   {
    "duration": 0,
    "start_time": "2022-08-16T08:39:59.669Z"
   },
   {
    "duration": 0,
    "start_time": "2022-08-16T08:39:59.670Z"
   },
   {
    "duration": 0,
    "start_time": "2022-08-16T08:39:59.672Z"
   },
   {
    "duration": 0,
    "start_time": "2022-08-16T08:39:59.673Z"
   },
   {
    "duration": 0,
    "start_time": "2022-08-16T08:39:59.674Z"
   },
   {
    "duration": 0,
    "start_time": "2022-08-16T08:39:59.676Z"
   },
   {
    "duration": 0,
    "start_time": "2022-08-16T08:39:59.677Z"
   },
   {
    "duration": 0,
    "start_time": "2022-08-16T08:39:59.678Z"
   },
   {
    "duration": 0,
    "start_time": "2022-08-16T08:39:59.680Z"
   },
   {
    "duration": 0,
    "start_time": "2022-08-16T08:39:59.681Z"
   },
   {
    "duration": 0,
    "start_time": "2022-08-16T08:39:59.682Z"
   },
   {
    "duration": 0,
    "start_time": "2022-08-16T08:39:59.683Z"
   },
   {
    "duration": 0,
    "start_time": "2022-08-16T08:39:59.685Z"
   },
   {
    "duration": 0,
    "start_time": "2022-08-16T08:39:59.686Z"
   },
   {
    "duration": 0,
    "start_time": "2022-08-16T08:39:59.688Z"
   },
   {
    "duration": 0,
    "start_time": "2022-08-16T08:39:59.689Z"
   },
   {
    "duration": 0,
    "start_time": "2022-08-16T08:39:59.690Z"
   },
   {
    "duration": 0,
    "start_time": "2022-08-16T08:39:59.692Z"
   },
   {
    "duration": 0,
    "start_time": "2022-08-16T08:39:59.693Z"
   },
   {
    "duration": 0,
    "start_time": "2022-08-16T08:39:59.694Z"
   },
   {
    "duration": 0,
    "start_time": "2022-08-16T08:39:59.696Z"
   },
   {
    "duration": 0,
    "start_time": "2022-08-16T08:39:59.697Z"
   },
   {
    "duration": 0,
    "start_time": "2022-08-16T08:39:59.698Z"
   },
   {
    "duration": 0,
    "start_time": "2022-08-16T08:39:59.699Z"
   },
   {
    "duration": 3,
    "start_time": "2022-08-16T08:40:16.920Z"
   },
   {
    "duration": 109,
    "start_time": "2022-08-16T08:40:18.331Z"
   },
   {
    "duration": 4,
    "start_time": "2022-08-16T08:40:19.482Z"
   },
   {
    "duration": 39,
    "start_time": "2022-08-16T08:41:13.059Z"
   },
   {
    "duration": 3,
    "start_time": "2022-08-16T08:41:49.189Z"
   },
   {
    "duration": 115,
    "start_time": "2022-08-16T08:41:49.195Z"
   },
   {
    "duration": 5,
    "start_time": "2022-08-16T08:41:49.311Z"
   },
   {
    "duration": 48,
    "start_time": "2022-08-16T08:41:49.318Z"
   },
   {
    "duration": 12,
    "start_time": "2022-08-16T08:41:49.373Z"
   },
   {
    "duration": 5,
    "start_time": "2022-08-16T08:41:49.388Z"
   },
   {
    "duration": 8,
    "start_time": "2022-08-16T08:41:49.394Z"
   },
   {
    "duration": 18,
    "start_time": "2022-08-16T08:41:49.404Z"
   },
   {
    "duration": 39,
    "start_time": "2022-08-16T08:41:49.424Z"
   },
   {
    "duration": 14,
    "start_time": "2022-08-16T08:41:49.464Z"
   },
   {
    "duration": 5,
    "start_time": "2022-08-16T08:41:49.480Z"
   },
   {
    "duration": 9,
    "start_time": "2022-08-16T08:41:49.486Z"
   },
   {
    "duration": 5,
    "start_time": "2022-08-16T08:41:49.497Z"
   },
   {
    "duration": 4,
    "start_time": "2022-08-16T08:41:55.082Z"
   },
   {
    "duration": 572,
    "start_time": "2022-08-16T08:41:58.632Z"
   },
   {
    "duration": 16,
    "start_time": "2022-08-16T08:42:01.073Z"
   },
   {
    "duration": 99,
    "start_time": "2022-08-16T08:42:09.721Z"
   },
   {
    "duration": 105,
    "start_time": "2022-08-16T08:42:10.533Z"
   },
   {
    "duration": 11,
    "start_time": "2022-08-16T08:42:13.221Z"
   },
   {
    "duration": 267,
    "start_time": "2022-08-16T08:42:21.946Z"
   },
   {
    "duration": 200,
    "start_time": "2022-08-16T08:42:25.171Z"
   },
   {
    "duration": 262,
    "start_time": "2022-08-16T08:42:36.473Z"
   },
   {
    "duration": 49,
    "start_time": "2022-08-16T08:42:45.632Z"
   },
   {
    "duration": 11,
    "start_time": "2022-08-16T08:42:50.087Z"
   },
   {
    "duration": 11,
    "start_time": "2022-08-16T08:42:50.100Z"
   },
   {
    "duration": 9,
    "start_time": "2022-08-16T08:42:50.112Z"
   },
   {
    "duration": 12,
    "start_time": "2022-08-16T08:42:50.123Z"
   },
   {
    "duration": 1103,
    "start_time": "2022-08-16T08:42:50.136Z"
   },
   {
    "duration": 47,
    "start_time": "2022-08-16T08:42:51.256Z"
   },
   {
    "duration": 7,
    "start_time": "2022-08-16T08:42:51.305Z"
   },
   {
    "duration": 28,
    "start_time": "2022-08-16T08:42:51.315Z"
   },
   {
    "duration": 45,
    "start_time": "2022-08-16T08:42:51.355Z"
   },
   {
    "duration": 597,
    "start_time": "2022-08-16T08:42:51.403Z"
   },
   {
    "duration": 26,
    "start_time": "2022-08-16T08:42:52.002Z"
   },
   {
    "duration": 32,
    "start_time": "2022-08-16T08:42:52.030Z"
   },
   {
    "duration": 22,
    "start_time": "2022-08-16T08:42:52.064Z"
   },
   {
    "duration": 151,
    "start_time": "2022-08-16T08:42:52.088Z"
   },
   {
    "duration": 29,
    "start_time": "2022-08-16T08:42:52.241Z"
   },
   {
    "duration": 11,
    "start_time": "2022-08-16T08:42:52.272Z"
   },
   {
    "duration": 6,
    "start_time": "2022-08-16T08:42:52.285Z"
   },
   {
    "duration": 16,
    "start_time": "2022-08-16T08:42:52.292Z"
   },
   {
    "duration": 26,
    "start_time": "2022-08-16T08:42:52.310Z"
   },
   {
    "duration": 24,
    "start_time": "2022-08-16T08:42:52.338Z"
   },
   {
    "duration": 206,
    "start_time": "2022-08-16T08:42:52.364Z"
   },
   {
    "duration": 7,
    "start_time": "2022-08-16T08:42:52.572Z"
   },
   {
    "duration": 13,
    "start_time": "2022-08-16T08:42:52.581Z"
   },
   {
    "duration": 0,
    "start_time": "2022-08-16T08:42:52.595Z"
   },
   {
    "duration": 0,
    "start_time": "2022-08-16T08:42:52.597Z"
   },
   {
    "duration": 0,
    "start_time": "2022-08-16T08:42:52.597Z"
   },
   {
    "duration": 0,
    "start_time": "2022-08-16T08:42:52.599Z"
   },
   {
    "duration": 0,
    "start_time": "2022-08-16T08:42:52.600Z"
   },
   {
    "duration": 0,
    "start_time": "2022-08-16T08:42:52.601Z"
   },
   {
    "duration": 0,
    "start_time": "2022-08-16T08:42:52.603Z"
   },
   {
    "duration": 0,
    "start_time": "2022-08-16T08:42:52.604Z"
   },
   {
    "duration": 0,
    "start_time": "2022-08-16T08:42:52.605Z"
   },
   {
    "duration": 336,
    "start_time": "2022-08-16T08:43:25.597Z"
   },
   {
    "duration": 22,
    "start_time": "2022-08-16T08:43:42.096Z"
   },
   {
    "duration": 30,
    "start_time": "2022-08-16T08:43:43.622Z"
   },
   {
    "duration": 10,
    "start_time": "2022-08-16T08:43:45.209Z"
   },
   {
    "duration": 30,
    "start_time": "2022-08-16T08:43:47.691Z"
   },
   {
    "duration": 308,
    "start_time": "2022-08-16T08:43:52.722Z"
   },
   {
    "duration": 202,
    "start_time": "2022-08-16T08:43:59.597Z"
   },
   {
    "duration": 148,
    "start_time": "2022-08-16T08:44:07.658Z"
   },
   {
    "duration": 161,
    "start_time": "2022-08-16T08:44:16.447Z"
   },
   {
    "duration": 20,
    "start_time": "2022-08-16T08:46:00.885Z"
   },
   {
    "duration": 1559,
    "start_time": "2022-08-16T09:11:38.653Z"
   },
   {
    "duration": 1613,
    "start_time": "2022-08-16T09:11:55.409Z"
   },
   {
    "duration": 1734,
    "start_time": "2022-08-16T09:13:09.834Z"
   },
   {
    "duration": 8,
    "start_time": "2022-08-16T09:19:40.600Z"
   },
   {
    "duration": 13,
    "start_time": "2022-08-16T09:20:04.788Z"
   },
   {
    "duration": 16,
    "start_time": "2022-08-16T09:20:58.271Z"
   },
   {
    "duration": 15,
    "start_time": "2022-08-16T09:21:10.426Z"
   },
   {
    "duration": 13,
    "start_time": "2022-08-16T09:25:45.139Z"
   },
   {
    "duration": 3,
    "start_time": "2022-08-16T09:25:56.450Z"
   },
   {
    "duration": 129,
    "start_time": "2022-08-16T09:25:56.456Z"
   },
   {
    "duration": 3,
    "start_time": "2022-08-16T09:25:56.587Z"
   },
   {
    "duration": 42,
    "start_time": "2022-08-16T09:25:56.592Z"
   },
   {
    "duration": 35,
    "start_time": "2022-08-16T09:25:56.636Z"
   },
   {
    "duration": 5,
    "start_time": "2022-08-16T09:25:56.674Z"
   },
   {
    "duration": 9,
    "start_time": "2022-08-16T09:25:56.680Z"
   },
   {
    "duration": 22,
    "start_time": "2022-08-16T09:25:56.690Z"
   },
   {
    "duration": 12,
    "start_time": "2022-08-16T09:25:56.716Z"
   },
   {
    "duration": 29,
    "start_time": "2022-08-16T09:25:56.730Z"
   },
   {
    "duration": 13,
    "start_time": "2022-08-16T09:25:56.765Z"
   },
   {
    "duration": 12,
    "start_time": "2022-08-16T09:25:56.781Z"
   },
   {
    "duration": 8,
    "start_time": "2022-08-16T09:25:56.795Z"
   },
   {
    "duration": 8,
    "start_time": "2022-08-16T09:25:56.805Z"
   },
   {
    "duration": 509,
    "start_time": "2022-08-16T09:25:56.815Z"
   },
   {
    "duration": 34,
    "start_time": "2022-08-16T09:25:57.326Z"
   },
   {
    "duration": 130,
    "start_time": "2022-08-16T09:25:57.362Z"
   },
   {
    "duration": 210,
    "start_time": "2022-08-16T09:25:57.493Z"
   },
   {
    "duration": 14,
    "start_time": "2022-08-16T09:25:57.705Z"
   },
   {
    "duration": 277,
    "start_time": "2022-08-16T09:25:57.721Z"
   },
   {
    "duration": 279,
    "start_time": "2022-08-16T09:25:58.000Z"
   },
   {
    "duration": 45,
    "start_time": "2022-08-16T09:25:58.280Z"
   },
   {
    "duration": 43,
    "start_time": "2022-08-16T09:25:58.326Z"
   },
   {
    "duration": 10,
    "start_time": "2022-08-16T09:25:58.372Z"
   },
   {
    "duration": 4,
    "start_time": "2022-08-16T09:25:58.383Z"
   },
   {
    "duration": 10,
    "start_time": "2022-08-16T09:25:58.389Z"
   },
   {
    "duration": 828,
    "start_time": "2022-08-16T09:25:58.401Z"
   },
   {
    "duration": 58,
    "start_time": "2022-08-16T09:25:59.230Z"
   },
   {
    "duration": 7,
    "start_time": "2022-08-16T09:25:59.290Z"
   },
   {
    "duration": 11,
    "start_time": "2022-08-16T09:25:59.299Z"
   },
   {
    "duration": 7,
    "start_time": "2022-08-16T09:25:59.312Z"
   },
   {
    "duration": 606,
    "start_time": "2022-08-16T09:25:59.320Z"
   },
   {
    "duration": 51,
    "start_time": "2022-08-16T09:25:59.927Z"
   },
   {
    "duration": 4,
    "start_time": "2022-08-16T09:25:59.980Z"
   },
   {
    "duration": 9,
    "start_time": "2022-08-16T09:25:59.985Z"
   },
   {
    "duration": 145,
    "start_time": "2022-08-16T09:25:59.996Z"
   },
   {
    "duration": 20,
    "start_time": "2022-08-16T09:26:00.142Z"
   },
   {
    "duration": 7,
    "start_time": "2022-08-16T09:26:00.164Z"
   },
   {
    "duration": 15,
    "start_time": "2022-08-16T09:26:00.173Z"
   },
   {
    "duration": 20,
    "start_time": "2022-08-16T09:26:00.189Z"
   },
   {
    "duration": 31,
    "start_time": "2022-08-16T09:26:00.211Z"
   },
   {
    "duration": 21,
    "start_time": "2022-08-16T09:26:00.244Z"
   },
   {
    "duration": 202,
    "start_time": "2022-08-16T09:26:00.269Z"
   },
   {
    "duration": 6,
    "start_time": "2022-08-16T09:26:00.472Z"
   },
   {
    "duration": 211,
    "start_time": "2022-08-16T09:26:00.480Z"
   },
   {
    "duration": 21,
    "start_time": "2022-08-16T09:26:00.692Z"
   },
   {
    "duration": 50,
    "start_time": "2022-08-16T09:26:00.714Z"
   },
   {
    "duration": 12,
    "start_time": "2022-08-16T09:26:00.765Z"
   },
   {
    "duration": 30,
    "start_time": "2022-08-16T09:26:00.779Z"
   },
   {
    "duration": 247,
    "start_time": "2022-08-16T09:26:00.811Z"
   },
   {
    "duration": 181,
    "start_time": "2022-08-16T09:26:01.060Z"
   },
   {
    "duration": 163,
    "start_time": "2022-08-16T09:26:01.244Z"
   },
   {
    "duration": 163,
    "start_time": "2022-08-16T09:26:01.409Z"
   },
   {
    "duration": 21,
    "start_time": "2022-08-16T09:26:01.573Z"
   },
   {
    "duration": 21,
    "start_time": "2022-08-16T09:26:09.889Z"
   },
   {
    "duration": 3,
    "start_time": "2022-08-16T09:26:34.990Z"
   },
   {
    "duration": 117,
    "start_time": "2022-08-16T09:26:34.995Z"
   },
   {
    "duration": 4,
    "start_time": "2022-08-16T09:26:35.113Z"
   },
   {
    "duration": 56,
    "start_time": "2022-08-16T09:26:35.118Z"
   },
   {
    "duration": 9,
    "start_time": "2022-08-16T09:26:35.176Z"
   },
   {
    "duration": 4,
    "start_time": "2022-08-16T09:26:35.186Z"
   },
   {
    "duration": 5,
    "start_time": "2022-08-16T09:26:35.192Z"
   },
   {
    "duration": 15,
    "start_time": "2022-08-16T09:26:35.199Z"
   },
   {
    "duration": 39,
    "start_time": "2022-08-16T09:26:35.216Z"
   },
   {
    "duration": 20,
    "start_time": "2022-08-16T09:26:35.256Z"
   },
   {
    "duration": 6,
    "start_time": "2022-08-16T09:26:35.278Z"
   },
   {
    "duration": 7,
    "start_time": "2022-08-16T09:26:35.285Z"
   },
   {
    "duration": 7,
    "start_time": "2022-08-16T09:26:35.294Z"
   },
   {
    "duration": 5,
    "start_time": "2022-08-16T09:26:35.303Z"
   },
   {
    "duration": 635,
    "start_time": "2022-08-16T09:26:35.309Z"
   },
   {
    "duration": 34,
    "start_time": "2022-08-16T09:26:35.946Z"
   },
   {
    "duration": 119,
    "start_time": "2022-08-16T09:26:35.982Z"
   },
   {
    "duration": 117,
    "start_time": "2022-08-16T09:26:36.102Z"
   },
   {
    "duration": 12,
    "start_time": "2022-08-16T09:26:36.220Z"
   },
   {
    "duration": 279,
    "start_time": "2022-08-16T09:26:36.234Z"
   },
   {
    "duration": 292,
    "start_time": "2022-08-16T09:26:36.514Z"
   },
   {
    "duration": 69,
    "start_time": "2022-08-16T09:26:36.808Z"
   },
   {
    "duration": 10,
    "start_time": "2022-08-16T09:26:36.879Z"
   },
   {
    "duration": 12,
    "start_time": "2022-08-16T09:26:36.891Z"
   },
   {
    "duration": 8,
    "start_time": "2022-08-16T09:26:36.905Z"
   },
   {
    "duration": 16,
    "start_time": "2022-08-16T09:26:36.915Z"
   },
   {
    "duration": 1025,
    "start_time": "2022-08-16T09:26:36.955Z"
   },
   {
    "duration": 32,
    "start_time": "2022-08-16T09:26:37.982Z"
   },
   {
    "duration": 43,
    "start_time": "2022-08-16T09:26:38.016Z"
   },
   {
    "duration": 19,
    "start_time": "2022-08-16T09:26:38.062Z"
   },
   {
    "duration": 8,
    "start_time": "2022-08-16T09:26:38.082Z"
   },
   {
    "duration": 484,
    "start_time": "2022-08-16T09:26:38.091Z"
   },
   {
    "duration": 23,
    "start_time": "2022-08-16T09:26:38.577Z"
   },
   {
    "duration": 4,
    "start_time": "2022-08-16T09:26:38.601Z"
   },
   {
    "duration": 9,
    "start_time": "2022-08-16T09:26:38.607Z"
   },
   {
    "duration": 168,
    "start_time": "2022-08-16T09:26:38.618Z"
   },
   {
    "duration": 8,
    "start_time": "2022-08-16T09:26:38.788Z"
   },
   {
    "duration": 7,
    "start_time": "2022-08-16T09:26:38.797Z"
   },
   {
    "duration": 4,
    "start_time": "2022-08-16T09:26:38.806Z"
   },
   {
    "duration": 15,
    "start_time": "2022-08-16T09:26:38.812Z"
   },
   {
    "duration": 30,
    "start_time": "2022-08-16T09:26:38.855Z"
   },
   {
    "duration": 7,
    "start_time": "2022-08-16T09:26:38.886Z"
   },
   {
    "duration": 228,
    "start_time": "2022-08-16T09:26:38.894Z"
   },
   {
    "duration": 5,
    "start_time": "2022-08-16T09:26:39.124Z"
   },
   {
    "duration": 209,
    "start_time": "2022-08-16T09:26:39.131Z"
   },
   {
    "duration": 31,
    "start_time": "2022-08-16T09:26:39.341Z"
   },
   {
    "duration": 38,
    "start_time": "2022-08-16T09:26:39.374Z"
   },
   {
    "duration": 7,
    "start_time": "2022-08-16T09:26:39.413Z"
   },
   {
    "duration": 44,
    "start_time": "2022-08-16T09:26:39.422Z"
   },
   {
    "duration": 228,
    "start_time": "2022-08-16T09:26:39.468Z"
   },
   {
    "duration": 176,
    "start_time": "2022-08-16T09:26:39.698Z"
   },
   {
    "duration": 130,
    "start_time": "2022-08-16T09:26:39.876Z"
   },
   {
    "duration": 268,
    "start_time": "2022-08-16T09:26:40.007Z"
   },
   {
    "duration": 31,
    "start_time": "2022-08-16T09:26:40.277Z"
   },
   {
    "duration": 16,
    "start_time": "2022-08-16T09:26:46.167Z"
   },
   {
    "duration": 1507,
    "start_time": "2022-08-16T09:27:57.297Z"
   },
   {
    "duration": 331,
    "start_time": "2022-08-16T09:28:26.790Z"
   },
   {
    "duration": 5,
    "start_time": "2022-08-16T09:41:37.695Z"
   },
   {
    "duration": 14,
    "start_time": "2022-08-16T09:41:50.370Z"
   },
   {
    "duration": 12,
    "start_time": "2022-08-16T09:42:19.784Z"
   },
   {
    "duration": 3,
    "start_time": "2022-08-16T09:42:47.916Z"
   },
   {
    "duration": 117,
    "start_time": "2022-08-16T09:42:47.921Z"
   },
   {
    "duration": 4,
    "start_time": "2022-08-16T09:42:48.040Z"
   },
   {
    "duration": 48,
    "start_time": "2022-08-16T09:42:48.046Z"
   },
   {
    "duration": 9,
    "start_time": "2022-08-16T09:42:48.095Z"
   },
   {
    "duration": 3,
    "start_time": "2022-08-16T09:42:48.106Z"
   },
   {
    "duration": 7,
    "start_time": "2022-08-16T09:42:48.111Z"
   },
   {
    "duration": 54,
    "start_time": "2022-08-16T09:42:48.119Z"
   },
   {
    "duration": 5,
    "start_time": "2022-08-16T09:42:48.176Z"
   },
   {
    "duration": 14,
    "start_time": "2022-08-16T09:42:48.183Z"
   },
   {
    "duration": 4,
    "start_time": "2022-08-16T09:42:48.198Z"
   },
   {
    "duration": 6,
    "start_time": "2022-08-16T09:42:48.204Z"
   },
   {
    "duration": 4,
    "start_time": "2022-08-16T09:42:48.212Z"
   },
   {
    "duration": 17,
    "start_time": "2022-08-16T09:42:48.256Z"
   },
   {
    "duration": 463,
    "start_time": "2022-08-16T09:42:48.274Z"
   },
   {
    "duration": 34,
    "start_time": "2022-08-16T09:42:48.739Z"
   },
   {
    "duration": 104,
    "start_time": "2022-08-16T09:42:48.775Z"
   },
   {
    "duration": 123,
    "start_time": "2022-08-16T09:42:48.881Z"
   },
   {
    "duration": 14,
    "start_time": "2022-08-16T09:42:49.006Z"
   },
   {
    "duration": 279,
    "start_time": "2022-08-16T09:42:49.021Z"
   },
   {
    "duration": 299,
    "start_time": "2022-08-16T09:42:49.301Z"
   },
   {
    "duration": 62,
    "start_time": "2022-08-16T09:42:49.602Z"
   },
   {
    "duration": 10,
    "start_time": "2022-08-16T09:42:49.668Z"
   },
   {
    "duration": 11,
    "start_time": "2022-08-16T09:42:49.682Z"
   },
   {
    "duration": 5,
    "start_time": "2022-08-16T09:42:49.694Z"
   },
   {
    "duration": 19,
    "start_time": "2022-08-16T09:42:49.701Z"
   },
   {
    "duration": 999,
    "start_time": "2022-08-16T09:42:49.722Z"
   },
   {
    "duration": 59,
    "start_time": "2022-08-16T09:42:50.723Z"
   },
   {
    "duration": 5,
    "start_time": "2022-08-16T09:42:50.784Z"
   },
   {
    "duration": 31,
    "start_time": "2022-08-16T09:42:50.791Z"
   },
   {
    "duration": 29,
    "start_time": "2022-08-16T09:42:50.823Z"
   },
   {
    "duration": 492,
    "start_time": "2022-08-16T09:42:50.854Z"
   },
   {
    "duration": 45,
    "start_time": "2022-08-16T09:42:51.348Z"
   },
   {
    "duration": 4,
    "start_time": "2022-08-16T09:42:51.395Z"
   },
   {
    "duration": 15,
    "start_time": "2022-08-16T09:42:51.401Z"
   },
   {
    "duration": 170,
    "start_time": "2022-08-16T09:42:51.418Z"
   },
   {
    "duration": 8,
    "start_time": "2022-08-16T09:42:51.589Z"
   },
   {
    "duration": 4,
    "start_time": "2022-08-16T09:42:51.599Z"
   },
   {
    "duration": 6,
    "start_time": "2022-08-16T09:42:51.604Z"
   },
   {
    "duration": 17,
    "start_time": "2022-08-16T09:42:51.612Z"
   },
   {
    "duration": 70,
    "start_time": "2022-08-16T09:42:51.631Z"
   },
   {
    "duration": 8,
    "start_time": "2022-08-16T09:42:51.703Z"
   },
   {
    "duration": 184,
    "start_time": "2022-08-16T09:42:51.713Z"
   },
   {
    "duration": 6,
    "start_time": "2022-08-16T09:42:51.899Z"
   },
   {
    "duration": 212,
    "start_time": "2022-08-16T09:42:51.906Z"
   },
   {
    "duration": 20,
    "start_time": "2022-08-16T09:42:52.120Z"
   },
   {
    "duration": 48,
    "start_time": "2022-08-16T09:42:52.141Z"
   },
   {
    "duration": 7,
    "start_time": "2022-08-16T09:42:52.191Z"
   },
   {
    "duration": 19,
    "start_time": "2022-08-16T09:42:52.200Z"
   },
   {
    "duration": 364,
    "start_time": "2022-08-16T09:42:52.220Z"
   },
   {
    "duration": 168,
    "start_time": "2022-08-16T09:42:52.585Z"
   },
   {
    "duration": 155,
    "start_time": "2022-08-16T09:42:52.759Z"
   },
   {
    "duration": 132,
    "start_time": "2022-08-16T09:42:52.915Z"
   },
   {
    "duration": 23,
    "start_time": "2022-08-16T09:42:53.055Z"
   },
   {
    "duration": 15,
    "start_time": "2022-08-16T09:42:53.079Z"
   },
   {
    "duration": 381,
    "start_time": "2022-08-16T09:42:53.095Z"
   },
   {
    "duration": 5,
    "start_time": "2022-08-16T09:42:58.089Z"
   },
   {
    "duration": 15,
    "start_time": "2022-08-16T09:42:58.744Z"
   },
   {
    "duration": 4,
    "start_time": "2022-08-16T09:43:37.798Z"
   },
   {
    "duration": 10,
    "start_time": "2022-08-16T09:43:38.408Z"
   },
   {
    "duration": 12,
    "start_time": "2022-08-16T09:45:11.733Z"
   },
   {
    "duration": 12,
    "start_time": "2022-08-16T09:47:53.647Z"
   },
   {
    "duration": 13,
    "start_time": "2022-08-16T09:49:09.910Z"
   },
   {
    "duration": 25,
    "start_time": "2022-08-16T09:50:06.813Z"
   },
   {
    "duration": 3,
    "start_time": "2022-08-16T09:50:31.126Z"
   },
   {
    "duration": 113,
    "start_time": "2022-08-16T09:50:31.131Z"
   },
   {
    "duration": 4,
    "start_time": "2022-08-16T09:50:31.246Z"
   },
   {
    "duration": 56,
    "start_time": "2022-08-16T09:50:31.253Z"
   },
   {
    "duration": 13,
    "start_time": "2022-08-16T09:50:31.311Z"
   },
   {
    "duration": 13,
    "start_time": "2022-08-16T09:50:31.326Z"
   },
   {
    "duration": 18,
    "start_time": "2022-08-16T09:50:31.355Z"
   },
   {
    "duration": 23,
    "start_time": "2022-08-16T09:50:31.374Z"
   },
   {
    "duration": 13,
    "start_time": "2022-08-16T09:50:31.399Z"
   },
   {
    "duration": 17,
    "start_time": "2022-08-16T09:50:31.414Z"
   },
   {
    "duration": 8,
    "start_time": "2022-08-16T09:50:31.434Z"
   },
   {
    "duration": 47,
    "start_time": "2022-08-16T09:50:31.455Z"
   },
   {
    "duration": 11,
    "start_time": "2022-08-16T09:50:31.504Z"
   },
   {
    "duration": 20,
    "start_time": "2022-08-16T09:50:31.517Z"
   },
   {
    "duration": 466,
    "start_time": "2022-08-16T09:50:31.539Z"
   },
   {
    "duration": 16,
    "start_time": "2022-08-16T09:50:32.007Z"
   },
   {
    "duration": 107,
    "start_time": "2022-08-16T09:50:32.054Z"
   },
   {
    "duration": 98,
    "start_time": "2022-08-16T09:50:32.162Z"
   },
   {
    "duration": 12,
    "start_time": "2022-08-16T09:50:32.261Z"
   },
   {
    "duration": 266,
    "start_time": "2022-08-16T09:50:32.275Z"
   },
   {
    "duration": 386,
    "start_time": "2022-08-16T09:50:32.543Z"
   },
   {
    "duration": 52,
    "start_time": "2022-08-16T09:50:32.931Z"
   },
   {
    "duration": 9,
    "start_time": "2022-08-16T09:50:32.984Z"
   },
   {
    "duration": 22,
    "start_time": "2022-08-16T09:50:32.996Z"
   },
   {
    "duration": 35,
    "start_time": "2022-08-16T09:50:33.020Z"
   },
   {
    "duration": 23,
    "start_time": "2022-08-16T09:50:33.057Z"
   },
   {
    "duration": 814,
    "start_time": "2022-08-16T09:50:33.082Z"
   },
   {
    "duration": 63,
    "start_time": "2022-08-16T09:50:33.898Z"
   },
   {
    "duration": 6,
    "start_time": "2022-08-16T09:50:33.963Z"
   },
   {
    "duration": 14,
    "start_time": "2022-08-16T09:50:33.970Z"
   },
   {
    "duration": 24,
    "start_time": "2022-08-16T09:50:33.986Z"
   },
   {
    "duration": 463,
    "start_time": "2022-08-16T09:50:34.012Z"
   },
   {
    "duration": 24,
    "start_time": "2022-08-16T09:50:34.477Z"
   },
   {
    "duration": 18,
    "start_time": "2022-08-16T09:50:34.503Z"
   },
   {
    "duration": 34,
    "start_time": "2022-08-16T09:50:34.522Z"
   },
   {
    "duration": 127,
    "start_time": "2022-08-16T09:50:34.557Z"
   },
   {
    "duration": 9,
    "start_time": "2022-08-16T09:50:34.685Z"
   },
   {
    "duration": 23,
    "start_time": "2022-08-16T09:50:34.696Z"
   },
   {
    "duration": 15,
    "start_time": "2022-08-16T09:50:34.721Z"
   },
   {
    "duration": 26,
    "start_time": "2022-08-16T09:50:34.738Z"
   },
   {
    "duration": 31,
    "start_time": "2022-08-16T09:50:34.766Z"
   },
   {
    "duration": 7,
    "start_time": "2022-08-16T09:50:34.798Z"
   },
   {
    "duration": 310,
    "start_time": "2022-08-16T09:50:34.807Z"
   },
   {
    "duration": 5,
    "start_time": "2022-08-16T09:50:35.119Z"
   },
   {
    "duration": 227,
    "start_time": "2022-08-16T09:50:35.126Z"
   },
   {
    "duration": 21,
    "start_time": "2022-08-16T09:50:35.355Z"
   },
   {
    "duration": 28,
    "start_time": "2022-08-16T09:50:35.378Z"
   },
   {
    "duration": 7,
    "start_time": "2022-08-16T09:50:35.407Z"
   },
   {
    "duration": 54,
    "start_time": "2022-08-16T09:50:35.415Z"
   },
   {
    "duration": 238,
    "start_time": "2022-08-16T09:50:35.471Z"
   },
   {
    "duration": 183,
    "start_time": "2022-08-16T09:50:35.711Z"
   },
   {
    "duration": 153,
    "start_time": "2022-08-16T09:50:35.895Z"
   },
   {
    "duration": 150,
    "start_time": "2022-08-16T09:50:36.049Z"
   },
   {
    "duration": 19,
    "start_time": "2022-08-16T09:50:36.201Z"
   },
   {
    "duration": 36,
    "start_time": "2022-08-16T09:50:36.222Z"
   },
   {
    "duration": 365,
    "start_time": "2022-08-16T09:50:36.260Z"
   },
   {
    "duration": 15,
    "start_time": "2022-08-16T09:50:36.626Z"
   },
   {
    "duration": 18,
    "start_time": "2022-08-16T09:50:36.656Z"
   },
   {
    "duration": 15,
    "start_time": "2022-08-16T09:51:06.661Z"
   },
   {
    "duration": 341,
    "start_time": "2022-08-16T10:12:18.892Z"
   },
   {
    "duration": 9,
    "start_time": "2022-08-16T10:13:12.808Z"
   },
   {
    "duration": 25,
    "start_time": "2022-08-16T10:13:19.674Z"
   },
   {
    "duration": 1743,
    "start_time": "2022-08-16T10:14:09.960Z"
   },
   {
    "duration": 7,
    "start_time": "2022-08-16T10:26:38.744Z"
   },
   {
    "duration": 6,
    "start_time": "2022-08-16T10:26:48.288Z"
   },
   {
    "duration": 19,
    "start_time": "2022-08-16T10:30:17.809Z"
   },
   {
    "duration": 8,
    "start_time": "2022-08-16T10:30:44.703Z"
   },
   {
    "duration": 8,
    "start_time": "2022-08-16T10:30:55.728Z"
   },
   {
    "duration": 5,
    "start_time": "2022-08-16T10:31:13.293Z"
   },
   {
    "duration": 208,
    "start_time": "2022-08-16T10:31:24.222Z"
   },
   {
    "duration": 206,
    "start_time": "2022-08-16T10:31:35.108Z"
   },
   {
    "duration": 148,
    "start_time": "2022-08-16T10:31:40.053Z"
   },
   {
    "duration": 12,
    "start_time": "2022-08-16T10:31:54.803Z"
   },
   {
    "duration": 351,
    "start_time": "2022-08-16T11:42:55.797Z"
   },
   {
    "duration": 102,
    "start_time": "2022-08-16T11:42:56.150Z"
   },
   {
    "duration": 4,
    "start_time": "2022-08-16T11:42:56.254Z"
   },
   {
    "duration": 43,
    "start_time": "2022-08-16T11:42:56.259Z"
   },
   {
    "duration": 9,
    "start_time": "2022-08-16T11:42:56.303Z"
   },
   {
    "duration": 43,
    "start_time": "2022-08-16T11:42:56.313Z"
   },
   {
    "duration": 5,
    "start_time": "2022-08-16T11:42:56.358Z"
   },
   {
    "duration": 18,
    "start_time": "2022-08-16T11:42:56.365Z"
   },
   {
    "duration": 7,
    "start_time": "2022-08-16T11:42:56.385Z"
   },
   {
    "duration": 21,
    "start_time": "2022-08-16T11:42:56.394Z"
   },
   {
    "duration": 41,
    "start_time": "2022-08-16T11:42:56.417Z"
   },
   {
    "duration": 8,
    "start_time": "2022-08-16T11:42:56.459Z"
   },
   {
    "duration": 9,
    "start_time": "2022-08-16T11:42:56.468Z"
   },
   {
    "duration": 6,
    "start_time": "2022-08-16T11:42:56.481Z"
   },
   {
    "duration": 523,
    "start_time": "2022-08-16T11:42:56.488Z"
   },
   {
    "duration": 13,
    "start_time": "2022-08-16T11:42:57.013Z"
   },
   {
    "duration": 110,
    "start_time": "2022-08-16T11:42:57.027Z"
   },
   {
    "duration": 220,
    "start_time": "2022-08-16T11:42:57.138Z"
   },
   {
    "duration": 16,
    "start_time": "2022-08-16T11:42:57.360Z"
   },
   {
    "duration": 344,
    "start_time": "2022-08-16T11:42:57.378Z"
   },
   {
    "duration": 268,
    "start_time": "2022-08-16T11:42:57.723Z"
   },
   {
    "duration": 62,
    "start_time": "2022-08-16T11:42:57.993Z"
   },
   {
    "duration": 8,
    "start_time": "2022-08-16T11:42:58.056Z"
   },
   {
    "duration": 9,
    "start_time": "2022-08-16T11:42:58.065Z"
   },
   {
    "duration": 4,
    "start_time": "2022-08-16T11:42:58.075Z"
   },
   {
    "duration": 10,
    "start_time": "2022-08-16T11:42:58.080Z"
   },
   {
    "duration": 844,
    "start_time": "2022-08-16T11:42:58.092Z"
   },
   {
    "duration": 35,
    "start_time": "2022-08-16T11:42:58.937Z"
   },
   {
    "duration": 6,
    "start_time": "2022-08-16T11:42:58.974Z"
   },
   {
    "duration": 10,
    "start_time": "2022-08-16T11:42:58.981Z"
   },
   {
    "duration": 12,
    "start_time": "2022-08-16T11:42:58.993Z"
   },
   {
    "duration": 530,
    "start_time": "2022-08-16T11:42:59.006Z"
   },
   {
    "duration": 28,
    "start_time": "2022-08-16T11:42:59.538Z"
   },
   {
    "duration": 4,
    "start_time": "2022-08-16T11:42:59.568Z"
   },
   {
    "duration": 7,
    "start_time": "2022-08-16T11:42:59.573Z"
   },
   {
    "duration": 163,
    "start_time": "2022-08-16T11:42:59.582Z"
   },
   {
    "duration": 11,
    "start_time": "2022-08-16T11:42:59.746Z"
   },
   {
    "duration": 4,
    "start_time": "2022-08-16T11:42:59.759Z"
   },
   {
    "duration": 6,
    "start_time": "2022-08-16T11:42:59.765Z"
   },
   {
    "duration": 15,
    "start_time": "2022-08-16T11:42:59.773Z"
   },
   {
    "duration": 64,
    "start_time": "2022-08-16T11:42:59.792Z"
   },
   {
    "duration": 6,
    "start_time": "2022-08-16T11:42:59.857Z"
   },
   {
    "duration": 187,
    "start_time": "2022-08-16T11:42:59.865Z"
   },
   {
    "duration": 6,
    "start_time": "2022-08-16T11:43:00.054Z"
   },
   {
    "duration": 366,
    "start_time": "2022-08-16T11:43:00.061Z"
   },
   {
    "duration": 30,
    "start_time": "2022-08-16T11:43:00.429Z"
   },
   {
    "duration": 28,
    "start_time": "2022-08-16T11:43:00.460Z"
   },
   {
    "duration": 7,
    "start_time": "2022-08-16T11:43:00.490Z"
   },
   {
    "duration": 63,
    "start_time": "2022-08-16T11:43:00.499Z"
   },
   {
    "duration": 244,
    "start_time": "2022-08-16T11:43:00.564Z"
   },
   {
    "duration": 165,
    "start_time": "2022-08-16T11:43:00.809Z"
   },
   {
    "duration": 172,
    "start_time": "2022-08-16T11:43:00.976Z"
   },
   {
    "duration": 137,
    "start_time": "2022-08-16T11:43:01.150Z"
   },
   {
    "duration": 20,
    "start_time": "2022-08-16T11:43:01.289Z"
   },
   {
    "duration": 15,
    "start_time": "2022-08-16T11:43:01.310Z"
   },
   {
    "duration": 394,
    "start_time": "2022-08-16T11:43:01.326Z"
   },
   {
    "duration": 14,
    "start_time": "2022-08-16T11:43:01.721Z"
   },
   {
    "duration": 32,
    "start_time": "2022-08-16T11:43:01.736Z"
   },
   {
    "duration": 20,
    "start_time": "2022-08-16T11:43:01.770Z"
   },
   {
    "duration": 10,
    "start_time": "2022-08-16T11:43:01.791Z"
   },
   {
    "duration": 47,
    "start_time": "2022-08-16T11:43:01.803Z"
   },
   {
    "duration": 12,
    "start_time": "2022-08-16T12:02:52.970Z"
   },
   {
    "duration": 11,
    "start_time": "2022-08-16T12:04:24.871Z"
   },
   {
    "duration": 36,
    "start_time": "2022-08-16T12:07:20.394Z"
   },
   {
    "duration": 4,
    "start_time": "2022-08-16T12:07:37.071Z"
   },
   {
    "duration": 116,
    "start_time": "2022-08-16T12:07:37.077Z"
   },
   {
    "duration": 4,
    "start_time": "2022-08-16T12:07:37.194Z"
   },
   {
    "duration": 53,
    "start_time": "2022-08-16T12:07:37.199Z"
   },
   {
    "duration": 13,
    "start_time": "2022-08-16T12:07:37.259Z"
   },
   {
    "duration": 19,
    "start_time": "2022-08-16T12:07:37.276Z"
   },
   {
    "duration": 40,
    "start_time": "2022-08-16T12:07:37.297Z"
   },
   {
    "duration": 26,
    "start_time": "2022-08-16T12:07:37.339Z"
   },
   {
    "duration": 34,
    "start_time": "2022-08-16T12:07:37.368Z"
   },
   {
    "duration": 20,
    "start_time": "2022-08-16T12:07:37.405Z"
   },
   {
    "duration": 16,
    "start_time": "2022-08-16T12:07:37.427Z"
   },
   {
    "duration": 38,
    "start_time": "2022-08-16T12:07:37.445Z"
   },
   {
    "duration": 8,
    "start_time": "2022-08-16T12:07:37.486Z"
   },
   {
    "duration": 7,
    "start_time": "2022-08-16T12:07:37.498Z"
   },
   {
    "duration": 520,
    "start_time": "2022-08-16T12:07:37.507Z"
   },
   {
    "duration": 36,
    "start_time": "2022-08-16T12:07:38.028Z"
   },
   {
    "duration": 100,
    "start_time": "2022-08-16T12:07:38.070Z"
   },
   {
    "duration": 114,
    "start_time": "2022-08-16T12:07:38.172Z"
   },
   {
    "duration": 14,
    "start_time": "2022-08-16T12:07:38.289Z"
   },
   {
    "duration": 292,
    "start_time": "2022-08-16T12:07:38.304Z"
   },
   {
    "duration": 283,
    "start_time": "2022-08-16T12:07:38.598Z"
   },
   {
    "duration": 41,
    "start_time": "2022-08-16T12:07:38.883Z"
   },
   {
    "duration": 13,
    "start_time": "2022-08-16T12:07:38.954Z"
   },
   {
    "duration": 27,
    "start_time": "2022-08-16T12:07:38.968Z"
   },
   {
    "duration": 17,
    "start_time": "2022-08-16T12:07:38.997Z"
   },
   {
    "duration": 20,
    "start_time": "2022-08-16T12:07:39.016Z"
   },
   {
    "duration": 1051,
    "start_time": "2022-08-16T12:07:39.037Z"
   },
   {
    "duration": 68,
    "start_time": "2022-08-16T12:07:40.090Z"
   },
   {
    "duration": 11,
    "start_time": "2022-08-16T12:07:40.164Z"
   },
   {
    "duration": 20,
    "start_time": "2022-08-16T12:07:40.176Z"
   },
   {
    "duration": 9,
    "start_time": "2022-08-16T12:07:40.199Z"
   },
   {
    "duration": 585,
    "start_time": "2022-08-16T12:07:40.209Z"
   },
   {
    "duration": 25,
    "start_time": "2022-08-16T12:07:40.795Z"
   },
   {
    "duration": 4,
    "start_time": "2022-08-16T12:07:40.822Z"
   },
   {
    "duration": 38,
    "start_time": "2022-08-16T12:07:40.827Z"
   },
   {
    "duration": 145,
    "start_time": "2022-08-16T12:07:40.866Z"
   },
   {
    "duration": 11,
    "start_time": "2022-08-16T12:07:41.014Z"
   },
   {
    "duration": 5,
    "start_time": "2022-08-16T12:07:41.027Z"
   },
   {
    "duration": 30,
    "start_time": "2022-08-16T12:07:41.034Z"
   },
   {
    "duration": 22,
    "start_time": "2022-08-16T12:07:41.065Z"
   },
   {
    "duration": 25,
    "start_time": "2022-08-16T12:07:41.091Z"
   },
   {
    "duration": 7,
    "start_time": "2022-08-16T12:07:41.118Z"
   },
   {
    "duration": 220,
    "start_time": "2022-08-16T12:07:41.126Z"
   },
   {
    "duration": 12,
    "start_time": "2022-08-16T12:07:41.354Z"
   },
   {
    "duration": 213,
    "start_time": "2022-08-16T12:07:41.372Z"
   },
   {
    "duration": 21,
    "start_time": "2022-08-16T12:07:41.587Z"
   },
   {
    "duration": 57,
    "start_time": "2022-08-16T12:07:41.610Z"
   },
   {
    "duration": 7,
    "start_time": "2022-08-16T12:07:41.673Z"
   },
   {
    "duration": 22,
    "start_time": "2022-08-16T12:07:41.682Z"
   },
   {
    "duration": 246,
    "start_time": "2022-08-16T12:07:41.705Z"
   },
   {
    "duration": 171,
    "start_time": "2022-08-16T12:07:41.954Z"
   },
   {
    "duration": 154,
    "start_time": "2022-08-16T12:07:42.126Z"
   },
   {
    "duration": 320,
    "start_time": "2022-08-16T12:07:42.281Z"
   },
   {
    "duration": 19,
    "start_time": "2022-08-16T12:07:42.603Z"
   },
   {
    "duration": 42,
    "start_time": "2022-08-16T12:07:42.624Z"
   },
   {
    "duration": 368,
    "start_time": "2022-08-16T12:07:42.668Z"
   },
   {
    "duration": 29,
    "start_time": "2022-08-16T12:07:43.038Z"
   },
   {
    "duration": 15,
    "start_time": "2022-08-16T12:07:43.068Z"
   },
   {
    "duration": 29,
    "start_time": "2022-08-16T12:07:43.085Z"
   },
   {
    "duration": 27,
    "start_time": "2022-08-16T12:07:43.115Z"
   },
   {
    "duration": 41,
    "start_time": "2022-08-16T12:07:43.144Z"
   },
   {
    "duration": 10,
    "start_time": "2022-08-16T12:07:43.187Z"
   },
   {
    "duration": 18,
    "start_time": "2022-08-16T12:07:59.693Z"
   },
   {
    "duration": 6,
    "start_time": "2022-08-16T12:08:31.350Z"
   },
   {
    "duration": 144,
    "start_time": "2022-08-16T12:08:31.359Z"
   },
   {
    "duration": 5,
    "start_time": "2022-08-16T12:08:31.505Z"
   },
   {
    "duration": 79,
    "start_time": "2022-08-16T12:08:31.512Z"
   },
   {
    "duration": 10,
    "start_time": "2022-08-16T12:08:31.593Z"
   },
   {
    "duration": 17,
    "start_time": "2022-08-16T12:08:31.605Z"
   },
   {
    "duration": 10,
    "start_time": "2022-08-16T12:08:31.624Z"
   },
   {
    "duration": 42,
    "start_time": "2022-08-16T12:08:31.636Z"
   },
   {
    "duration": 6,
    "start_time": "2022-08-16T12:08:31.679Z"
   },
   {
    "duration": 24,
    "start_time": "2022-08-16T12:08:31.688Z"
   },
   {
    "duration": 5,
    "start_time": "2022-08-16T12:08:31.714Z"
   },
   {
    "duration": 53,
    "start_time": "2022-08-16T12:08:31.720Z"
   },
   {
    "duration": 11,
    "start_time": "2022-08-16T12:08:31.775Z"
   },
   {
    "duration": 10,
    "start_time": "2022-08-16T12:08:31.788Z"
   },
   {
    "duration": 671,
    "start_time": "2022-08-16T12:08:31.800Z"
   },
   {
    "duration": 18,
    "start_time": "2022-08-16T12:08:32.473Z"
   },
   {
    "duration": 114,
    "start_time": "2022-08-16T12:08:32.492Z"
   },
   {
    "duration": 111,
    "start_time": "2022-08-16T12:08:32.607Z"
   },
   {
    "duration": 16,
    "start_time": "2022-08-16T12:08:32.720Z"
   },
   {
    "duration": 288,
    "start_time": "2022-08-16T12:08:32.738Z"
   },
   {
    "duration": 291,
    "start_time": "2022-08-16T12:08:33.028Z"
   },
   {
    "duration": 64,
    "start_time": "2022-08-16T12:08:33.321Z"
   },
   {
    "duration": 7,
    "start_time": "2022-08-16T12:08:33.387Z"
   },
   {
    "duration": 8,
    "start_time": "2022-08-16T12:08:33.396Z"
   },
   {
    "duration": 8,
    "start_time": "2022-08-16T12:08:33.405Z"
   },
   {
    "duration": 14,
    "start_time": "2022-08-16T12:08:33.415Z"
   },
   {
    "duration": 1031,
    "start_time": "2022-08-16T12:08:33.455Z"
   },
   {
    "duration": 32,
    "start_time": "2022-08-16T12:08:34.490Z"
   },
   {
    "duration": 37,
    "start_time": "2022-08-16T12:08:34.523Z"
   },
   {
    "duration": 16,
    "start_time": "2022-08-16T12:08:34.567Z"
   },
   {
    "duration": 10,
    "start_time": "2022-08-16T12:08:34.585Z"
   },
   {
    "duration": 497,
    "start_time": "2022-08-16T12:08:34.596Z"
   },
   {
    "duration": 27,
    "start_time": "2022-08-16T12:08:35.095Z"
   },
   {
    "duration": 4,
    "start_time": "2022-08-16T12:08:35.124Z"
   },
   {
    "duration": 16,
    "start_time": "2022-08-16T12:08:35.129Z"
   },
   {
    "duration": 141,
    "start_time": "2022-08-16T12:08:35.147Z"
   },
   {
    "duration": 8,
    "start_time": "2022-08-16T12:08:35.290Z"
   },
   {
    "duration": 6,
    "start_time": "2022-08-16T12:08:35.299Z"
   },
   {
    "duration": 6,
    "start_time": "2022-08-16T12:08:35.307Z"
   },
   {
    "duration": 12,
    "start_time": "2022-08-16T12:08:35.314Z"
   },
   {
    "duration": 24,
    "start_time": "2022-08-16T12:08:35.328Z"
   },
   {
    "duration": 12,
    "start_time": "2022-08-16T12:08:35.358Z"
   },
   {
    "duration": 190,
    "start_time": "2022-08-16T12:08:35.373Z"
   },
   {
    "duration": 6,
    "start_time": "2022-08-16T12:08:35.573Z"
   },
   {
    "duration": 200,
    "start_time": "2022-08-16T12:08:35.580Z"
   },
   {
    "duration": 20,
    "start_time": "2022-08-16T12:08:35.781Z"
   },
   {
    "duration": 28,
    "start_time": "2022-08-16T12:08:35.802Z"
   },
   {
    "duration": 10,
    "start_time": "2022-08-16T12:08:35.832Z"
   },
   {
    "duration": 37,
    "start_time": "2022-08-16T12:08:35.844Z"
   },
   {
    "duration": 241,
    "start_time": "2022-08-16T12:08:35.882Z"
   },
   {
    "duration": 188,
    "start_time": "2022-08-16T12:08:36.124Z"
   },
   {
    "duration": 131,
    "start_time": "2022-08-16T12:08:36.313Z"
   },
   {
    "duration": 130,
    "start_time": "2022-08-16T12:08:36.446Z"
   },
   {
    "duration": 18,
    "start_time": "2022-08-16T12:08:36.577Z"
   },
   {
    "duration": 15,
    "start_time": "2022-08-16T12:08:36.596Z"
   },
   {
    "duration": 361,
    "start_time": "2022-08-16T12:08:36.613Z"
   },
   {
    "duration": 16,
    "start_time": "2022-08-16T12:08:36.975Z"
   },
   {
    "duration": 15,
    "start_time": "2022-08-16T12:08:36.993Z"
   },
   {
    "duration": 10,
    "start_time": "2022-08-16T12:08:37.010Z"
   },
   {
    "duration": 13,
    "start_time": "2022-08-16T12:08:37.022Z"
   },
   {
    "duration": 15,
    "start_time": "2022-08-16T12:08:37.037Z"
   },
   {
    "duration": 11,
    "start_time": "2022-08-16T12:08:37.054Z"
   },
   {
    "duration": 22,
    "start_time": "2022-08-16T12:08:40.073Z"
   },
   {
    "duration": 49,
    "start_time": "2022-08-16T12:08:57.278Z"
   },
   {
    "duration": 71,
    "start_time": "2022-08-16T12:29:03.514Z"
   },
   {
    "duration": 436159,
    "start_time": "2022-08-16T12:30:09.827Z"
   },
   {
    "duration": 263786,
    "start_time": "2022-08-16T12:37:55.773Z"
   },
   {
    "duration": 10,
    "start_time": "2022-08-16T12:45:24.451Z"
   },
   {
    "duration": 4,
    "start_time": "2022-08-16T12:45:40.133Z"
   },
   {
    "duration": 10,
    "start_time": "2022-08-16T12:54:16.005Z"
   },
   {
    "duration": 181,
    "start_time": "2022-08-16T12:54:23.699Z"
   },
   {
    "duration": 175,
    "start_time": "2022-08-16T12:54:41.910Z"
   },
   {
    "duration": 220,
    "start_time": "2022-08-16T12:55:17.149Z"
   },
   {
    "duration": 87,
    "start_time": "2022-08-16T13:11:04.825Z"
   },
   {
    "duration": 81,
    "start_time": "2022-08-16T13:11:12.393Z"
   },
   {
    "duration": 14872,
    "start_time": "2022-08-16T13:11:17.496Z"
   },
   {
    "duration": 11,
    "start_time": "2022-08-16T13:12:21.178Z"
   },
   {
    "duration": 9,
    "start_time": "2022-08-16T13:12:38.868Z"
   },
   {
    "duration": 9,
    "start_time": "2022-08-16T13:12:56.144Z"
   },
   {
    "duration": 3,
    "start_time": "2022-08-16T13:22:52.115Z"
   },
   {
    "duration": 4,
    "start_time": "2022-08-16T13:22:57.225Z"
   },
   {
    "duration": 10,
    "start_time": "2022-08-16T13:23:48.160Z"
   },
   {
    "duration": 4,
    "start_time": "2022-08-16T13:23:55.360Z"
   },
   {
    "duration": 10,
    "start_time": "2022-08-16T13:24:02.259Z"
   },
   {
    "duration": 12,
    "start_time": "2022-08-16T13:24:25.310Z"
   },
   {
    "duration": 4,
    "start_time": "2022-08-16T13:32:54.450Z"
   },
   {
    "duration": 13,
    "start_time": "2022-08-16T13:33:19.228Z"
   },
   {
    "duration": 135,
    "start_time": "2022-08-16T13:33:43.302Z"
   },
   {
    "duration": 134,
    "start_time": "2022-08-16T13:34:03.603Z"
   },
   {
    "duration": 5,
    "start_time": "2022-08-16T13:36:50.028Z"
   },
   {
    "duration": 112,
    "start_time": "2022-08-16T13:36:50.035Z"
   },
   {
    "duration": 5,
    "start_time": "2022-08-16T13:36:50.148Z"
   },
   {
    "duration": 40,
    "start_time": "2022-08-16T13:36:50.155Z"
   },
   {
    "duration": 9,
    "start_time": "2022-08-16T13:36:50.197Z"
   },
   {
    "duration": 4,
    "start_time": "2022-08-16T13:36:50.207Z"
   },
   {
    "duration": 42,
    "start_time": "2022-08-16T13:36:50.213Z"
   },
   {
    "duration": 20,
    "start_time": "2022-08-16T13:36:50.257Z"
   },
   {
    "duration": 6,
    "start_time": "2022-08-16T13:36:50.279Z"
   },
   {
    "duration": 15,
    "start_time": "2022-08-16T13:36:50.287Z"
   },
   {
    "duration": 4,
    "start_time": "2022-08-16T13:36:50.304Z"
   },
   {
    "duration": 16,
    "start_time": "2022-08-16T13:36:50.310Z"
   },
   {
    "duration": 28,
    "start_time": "2022-08-16T13:36:50.327Z"
   },
   {
    "duration": 5,
    "start_time": "2022-08-16T13:36:50.357Z"
   },
   {
    "duration": 608,
    "start_time": "2022-08-16T13:36:50.363Z"
   },
   {
    "duration": 15,
    "start_time": "2022-08-16T13:36:50.973Z"
   },
   {
    "duration": 125,
    "start_time": "2022-08-16T13:36:50.990Z"
   },
   {
    "duration": 115,
    "start_time": "2022-08-16T13:36:51.117Z"
   },
   {
    "duration": 24,
    "start_time": "2022-08-16T13:36:51.234Z"
   },
   {
    "duration": 269,
    "start_time": "2022-08-16T13:36:51.260Z"
   },
   {
    "duration": 263,
    "start_time": "2022-08-16T13:36:51.530Z"
   },
   {
    "duration": 61,
    "start_time": "2022-08-16T13:36:51.794Z"
   },
   {
    "duration": 9,
    "start_time": "2022-08-16T13:36:51.856Z"
   },
   {
    "duration": 15,
    "start_time": "2022-08-16T13:36:51.867Z"
   },
   {
    "duration": 8,
    "start_time": "2022-08-16T13:36:51.884Z"
   },
   {
    "duration": 12,
    "start_time": "2022-08-16T13:36:51.893Z"
   },
   {
    "duration": 856,
    "start_time": "2022-08-16T13:36:51.907Z"
   },
   {
    "duration": 32,
    "start_time": "2022-08-16T13:36:52.768Z"
   },
   {
    "duration": 6,
    "start_time": "2022-08-16T13:36:52.801Z"
   },
   {
    "duration": 51,
    "start_time": "2022-08-16T13:36:52.808Z"
   },
   {
    "duration": 13,
    "start_time": "2022-08-16T13:36:52.861Z"
   },
   {
    "duration": 544,
    "start_time": "2022-08-16T13:36:52.876Z"
   },
   {
    "duration": 44,
    "start_time": "2022-08-16T13:36:53.421Z"
   },
   {
    "duration": 6,
    "start_time": "2022-08-16T13:36:53.466Z"
   },
   {
    "duration": 10,
    "start_time": "2022-08-16T13:36:53.473Z"
   },
   {
    "duration": 154,
    "start_time": "2022-08-16T13:36:53.485Z"
   },
   {
    "duration": 20,
    "start_time": "2022-08-16T13:36:53.641Z"
   },
   {
    "duration": 5,
    "start_time": "2022-08-16T13:36:53.662Z"
   },
   {
    "duration": 6,
    "start_time": "2022-08-16T13:36:53.668Z"
   },
   {
    "duration": 15,
    "start_time": "2022-08-16T13:36:53.675Z"
   },
   {
    "duration": 24,
    "start_time": "2022-08-16T13:36:53.691Z"
   },
   {
    "duration": 44,
    "start_time": "2022-08-16T13:36:53.717Z"
   },
   {
    "duration": 354,
    "start_time": "2022-08-16T13:36:53.763Z"
   },
   {
    "duration": 6,
    "start_time": "2022-08-16T13:36:54.119Z"
   },
   {
    "duration": 212,
    "start_time": "2022-08-16T13:36:54.127Z"
   },
   {
    "duration": 28,
    "start_time": "2022-08-16T13:36:54.340Z"
   },
   {
    "duration": 31,
    "start_time": "2022-08-16T13:36:54.369Z"
   },
   {
    "duration": 7,
    "start_time": "2022-08-16T13:36:54.402Z"
   },
   {
    "duration": 51,
    "start_time": "2022-08-16T13:36:54.410Z"
   },
   {
    "duration": 288,
    "start_time": "2022-08-16T13:36:54.463Z"
   },
   {
    "duration": 161,
    "start_time": "2022-08-16T13:36:54.755Z"
   },
   {
    "duration": 146,
    "start_time": "2022-08-16T13:36:54.917Z"
   },
   {
    "duration": 136,
    "start_time": "2022-08-16T13:36:55.065Z"
   },
   {
    "duration": 18,
    "start_time": "2022-08-16T13:36:55.203Z"
   },
   {
    "duration": 34,
    "start_time": "2022-08-16T13:36:55.222Z"
   },
   {
    "duration": 314,
    "start_time": "2022-08-16T13:36:55.257Z"
   },
   {
    "duration": 12,
    "start_time": "2022-08-16T13:36:55.572Z"
   },
   {
    "duration": 13,
    "start_time": "2022-08-16T13:36:55.586Z"
   },
   {
    "duration": 8,
    "start_time": "2022-08-16T13:36:55.600Z"
   },
   {
    "duration": 7,
    "start_time": "2022-08-16T13:36:55.610Z"
   },
   {
    "duration": 43,
    "start_time": "2022-08-16T13:36:55.618Z"
   },
   {
    "duration": 7,
    "start_time": "2022-08-16T13:36:55.663Z"
   },
   {
    "duration": 28,
    "start_time": "2022-08-16T13:36:55.671Z"
   },
   {
    "duration": 259938,
    "start_time": "2022-08-16T13:36:55.700Z"
   },
   {
    "duration": 183,
    "start_time": "2022-08-16T13:41:15.639Z"
   },
   {
    "duration": 17837,
    "start_time": "2022-08-16T13:41:15.823Z"
   },
   {
    "duration": 103,
    "start_time": "2022-08-16T13:41:33.661Z"
   },
   {
    "duration": 9,
    "start_time": "2022-08-16T13:41:42.827Z"
   },
   {
    "duration": 4,
    "start_time": "2022-08-16T13:41:45.966Z"
   },
   {
    "duration": 11,
    "start_time": "2022-08-16T13:41:46.553Z"
   },
   {
    "duration": 443,
    "start_time": "2022-08-16T13:41:48.354Z"
   },
   {
    "duration": 189,
    "start_time": "2022-08-16T13:41:58.419Z"
   },
   {
    "duration": 199,
    "start_time": "2022-08-16T13:42:24.467Z"
   },
   {
    "duration": 215,
    "start_time": "2022-08-16T13:44:31.718Z"
   },
   {
    "duration": 2190,
    "start_time": "2022-08-16T14:01:24.578Z"
   },
   {
    "duration": 2574,
    "start_time": "2022-08-16T14:05:02.752Z"
   },
   {
    "duration": 16,
    "start_time": "2022-08-16T14:05:07.190Z"
   },
   {
    "duration": 220,
    "start_time": "2022-08-16T14:05:07.217Z"
   },
   {
    "duration": 5,
    "start_time": "2022-08-16T14:05:07.440Z"
   },
   {
    "duration": 83,
    "start_time": "2022-08-16T14:05:07.447Z"
   },
   {
    "duration": 54,
    "start_time": "2022-08-16T14:05:07.533Z"
   },
   {
    "duration": 23,
    "start_time": "2022-08-16T14:05:07.597Z"
   },
   {
    "duration": 49,
    "start_time": "2022-08-16T14:05:07.622Z"
   },
   {
    "duration": 99,
    "start_time": "2022-08-16T14:05:07.673Z"
   },
   {
    "duration": 46,
    "start_time": "2022-08-16T14:05:07.774Z"
   },
   {
    "duration": 42,
    "start_time": "2022-08-16T14:05:07.822Z"
   },
   {
    "duration": 41,
    "start_time": "2022-08-16T14:05:07.866Z"
   },
   {
    "duration": 34,
    "start_time": "2022-08-16T14:05:07.910Z"
   },
   {
    "duration": 98,
    "start_time": "2022-08-16T14:05:07.949Z"
   },
   {
    "duration": 71,
    "start_time": "2022-08-16T14:05:08.051Z"
   },
   {
    "duration": 793,
    "start_time": "2022-08-16T14:05:08.123Z"
   },
   {
    "duration": 19,
    "start_time": "2022-08-16T14:05:08.919Z"
   },
   {
    "duration": 200,
    "start_time": "2022-08-16T14:05:08.940Z"
   },
   {
    "duration": 161,
    "start_time": "2022-08-16T14:05:09.141Z"
   },
   {
    "duration": 20,
    "start_time": "2022-08-16T14:05:09.304Z"
   },
   {
    "duration": 402,
    "start_time": "2022-08-16T14:05:09.326Z"
   },
   {
    "duration": 444,
    "start_time": "2022-08-16T14:05:09.730Z"
   },
   {
    "duration": 64,
    "start_time": "2022-08-16T14:05:10.181Z"
   },
   {
    "duration": 57,
    "start_time": "2022-08-16T14:05:10.247Z"
   },
   {
    "duration": 39,
    "start_time": "2022-08-16T14:05:10.306Z"
   },
   {
    "duration": 79,
    "start_time": "2022-08-16T14:05:10.348Z"
   },
   {
    "duration": 38,
    "start_time": "2022-08-16T14:05:10.430Z"
   },
   {
    "duration": 1682,
    "start_time": "2022-08-16T14:05:10.469Z"
   },
   {
    "duration": 59,
    "start_time": "2022-08-16T14:05:12.163Z"
   },
   {
    "duration": 7,
    "start_time": "2022-08-16T14:05:12.224Z"
   },
   {
    "duration": 31,
    "start_time": "2022-08-16T14:05:12.233Z"
   },
   {
    "duration": 18,
    "start_time": "2022-08-16T14:05:12.266Z"
   },
   {
    "duration": 762,
    "start_time": "2022-08-16T14:05:12.298Z"
   },
   {
    "duration": 29,
    "start_time": "2022-08-16T14:05:13.061Z"
   },
   {
    "duration": 25,
    "start_time": "2022-08-16T14:05:13.092Z"
   },
   {
    "duration": 14,
    "start_time": "2022-08-16T14:05:13.119Z"
   },
   {
    "duration": 184,
    "start_time": "2022-08-16T14:05:13.135Z"
   },
   {
    "duration": 9,
    "start_time": "2022-08-16T14:05:13.322Z"
   },
   {
    "duration": 6,
    "start_time": "2022-08-16T14:05:13.333Z"
   },
   {
    "duration": 58,
    "start_time": "2022-08-16T14:05:13.340Z"
   },
   {
    "duration": 19,
    "start_time": "2022-08-16T14:05:13.400Z"
   },
   {
    "duration": 22,
    "start_time": "2022-08-16T14:05:13.425Z"
   },
   {
    "duration": 14,
    "start_time": "2022-08-16T14:05:13.449Z"
   },
   {
    "duration": 269,
    "start_time": "2022-08-16T14:05:13.477Z"
   },
   {
    "duration": 14,
    "start_time": "2022-08-16T14:05:13.748Z"
   },
   {
    "duration": 270,
    "start_time": "2022-08-16T14:05:13.764Z"
   },
   {
    "duration": 50,
    "start_time": "2022-08-16T14:05:14.036Z"
   },
   {
    "duration": 31,
    "start_time": "2022-08-16T14:05:14.095Z"
   },
   {
    "duration": 9,
    "start_time": "2022-08-16T14:05:14.128Z"
   },
   {
    "duration": 39,
    "start_time": "2022-08-16T14:05:14.139Z"
   },
   {
    "duration": 343,
    "start_time": "2022-08-16T14:05:14.181Z"
   },
   {
    "duration": 197,
    "start_time": "2022-08-16T14:05:14.526Z"
   },
   {
    "duration": 183,
    "start_time": "2022-08-16T14:05:14.725Z"
   },
   {
    "duration": 158,
    "start_time": "2022-08-16T14:05:14.910Z"
   },
   {
    "duration": 29,
    "start_time": "2022-08-16T14:05:15.069Z"
   },
   {
    "duration": 42,
    "start_time": "2022-08-16T14:05:15.100Z"
   },
   {
    "duration": 383,
    "start_time": "2022-08-16T14:05:15.144Z"
   },
   {
    "duration": 33,
    "start_time": "2022-08-16T14:05:15.529Z"
   },
   {
    "duration": 15,
    "start_time": "2022-08-16T14:05:15.564Z"
   },
   {
    "duration": 31,
    "start_time": "2022-08-16T14:05:15.581Z"
   },
   {
    "duration": 12,
    "start_time": "2022-08-16T14:05:15.614Z"
   },
   {
    "duration": 15,
    "start_time": "2022-08-16T14:05:15.628Z"
   },
   {
    "duration": 31,
    "start_time": "2022-08-16T14:05:15.645Z"
   },
   {
    "duration": 41,
    "start_time": "2022-08-16T14:05:15.691Z"
   },
   {
    "duration": 55424,
    "start_time": "2022-08-16T14:05:15.734Z"
   },
   {
    "duration": 94,
    "start_time": "2022-08-16T14:06:11.165Z"
   },
   {
    "duration": 101,
    "start_time": "2022-08-16T14:06:11.269Z"
   },
   {
    "duration": 6,
    "start_time": "2022-08-16T14:06:11.372Z"
   },
   {
    "duration": 29,
    "start_time": "2022-08-16T14:06:11.379Z"
   },
   {
    "duration": 271,
    "start_time": "2022-08-16T14:06:11.410Z"
   },
   {
    "duration": 8620,
    "start_time": "2022-08-16T14:06:11.689Z"
   },
   {
    "duration": 4703,
    "start_time": "2022-08-16T14:09:11.609Z"
   },
   {
    "duration": 4,
    "start_time": "2022-08-16T14:09:18.204Z"
   },
   {
    "duration": 127,
    "start_time": "2022-08-16T14:09:18.210Z"
   },
   {
    "duration": 4,
    "start_time": "2022-08-16T14:09:18.339Z"
   },
   {
    "duration": 62,
    "start_time": "2022-08-16T14:09:18.345Z"
   },
   {
    "duration": 10,
    "start_time": "2022-08-16T14:09:18.410Z"
   },
   {
    "duration": 4,
    "start_time": "2022-08-16T14:09:18.421Z"
   },
   {
    "duration": 34,
    "start_time": "2022-08-16T14:09:18.427Z"
   },
   {
    "duration": 37,
    "start_time": "2022-08-16T14:09:18.463Z"
   },
   {
    "duration": 10,
    "start_time": "2022-08-16T14:09:18.503Z"
   },
   {
    "duration": 12,
    "start_time": "2022-08-16T14:09:18.515Z"
   },
   {
    "duration": 5,
    "start_time": "2022-08-16T14:09:18.529Z"
   },
   {
    "duration": 33,
    "start_time": "2022-08-16T14:09:18.536Z"
   },
   {
    "duration": 38,
    "start_time": "2022-08-16T14:09:18.573Z"
   },
   {
    "duration": 4,
    "start_time": "2022-08-16T14:09:18.615Z"
   },
   {
    "duration": 559,
    "start_time": "2022-08-16T14:09:18.621Z"
   },
   {
    "duration": 20,
    "start_time": "2022-08-16T14:09:19.182Z"
   },
   {
    "duration": 125,
    "start_time": "2022-08-16T14:09:19.204Z"
   },
   {
    "duration": 116,
    "start_time": "2022-08-16T14:09:19.331Z"
   },
   {
    "duration": 26,
    "start_time": "2022-08-16T14:09:19.449Z"
   },
   {
    "duration": 313,
    "start_time": "2022-08-16T14:09:19.477Z"
   },
   {
    "duration": 324,
    "start_time": "2022-08-16T14:09:19.799Z"
   },
   {
    "duration": 80,
    "start_time": "2022-08-16T14:09:20.124Z"
   },
   {
    "duration": 7,
    "start_time": "2022-08-16T14:09:20.206Z"
   },
   {
    "duration": 11,
    "start_time": "2022-08-16T14:09:20.215Z"
   },
   {
    "duration": 3,
    "start_time": "2022-08-16T14:09:20.228Z"
   },
   {
    "duration": 35,
    "start_time": "2022-08-16T14:09:20.233Z"
   },
   {
    "duration": 1021,
    "start_time": "2022-08-16T14:09:20.269Z"
   },
   {
    "duration": 36,
    "start_time": "2022-08-16T14:09:21.292Z"
   },
   {
    "duration": 5,
    "start_time": "2022-08-16T14:09:21.330Z"
   },
   {
    "duration": 44,
    "start_time": "2022-08-16T14:09:21.336Z"
   },
   {
    "duration": 32,
    "start_time": "2022-08-16T14:09:21.381Z"
   },
   {
    "duration": 544,
    "start_time": "2022-08-16T14:09:21.415Z"
   },
   {
    "duration": 31,
    "start_time": "2022-08-16T14:09:21.964Z"
   },
   {
    "duration": 22,
    "start_time": "2022-08-16T14:09:21.997Z"
   },
   {
    "duration": 9,
    "start_time": "2022-08-16T14:09:22.020Z"
   },
   {
    "duration": 164,
    "start_time": "2022-08-16T14:09:22.030Z"
   },
   {
    "duration": 12,
    "start_time": "2022-08-16T14:09:22.198Z"
   },
   {
    "duration": 8,
    "start_time": "2022-08-16T14:09:22.212Z"
   },
   {
    "duration": 5,
    "start_time": "2022-08-16T14:09:22.222Z"
   },
   {
    "duration": 15,
    "start_time": "2022-08-16T14:09:22.228Z"
   },
   {
    "duration": 40,
    "start_time": "2022-08-16T14:09:22.256Z"
   },
   {
    "duration": 25,
    "start_time": "2022-08-16T14:09:22.297Z"
   },
   {
    "duration": 396,
    "start_time": "2022-08-16T14:09:22.324Z"
   },
   {
    "duration": 6,
    "start_time": "2022-08-16T14:09:22.721Z"
   },
   {
    "duration": 236,
    "start_time": "2022-08-16T14:09:22.728Z"
   },
   {
    "duration": 36,
    "start_time": "2022-08-16T14:09:22.965Z"
   },
   {
    "duration": 33,
    "start_time": "2022-08-16T14:09:23.010Z"
   },
   {
    "duration": 23,
    "start_time": "2022-08-16T14:09:23.045Z"
   },
   {
    "duration": 24,
    "start_time": "2022-08-16T14:09:23.080Z"
   },
   {
    "duration": 278,
    "start_time": "2022-08-16T14:09:23.106Z"
   },
   {
    "duration": 204,
    "start_time": "2022-08-16T14:09:23.395Z"
   },
   {
    "duration": 142,
    "start_time": "2022-08-16T14:09:23.601Z"
   },
   {
    "duration": 159,
    "start_time": "2022-08-16T14:09:23.744Z"
   },
   {
    "duration": 20,
    "start_time": "2022-08-16T14:09:23.905Z"
   },
   {
    "duration": 14,
    "start_time": "2022-08-16T14:09:23.927Z"
   },
   {
    "duration": 387,
    "start_time": "2022-08-16T14:09:23.942Z"
   },
   {
    "duration": 13,
    "start_time": "2022-08-16T14:09:24.331Z"
   },
   {
    "duration": 24,
    "start_time": "2022-08-16T14:09:24.346Z"
   },
   {
    "duration": 37,
    "start_time": "2022-08-16T14:09:24.372Z"
   },
   {
    "duration": 8,
    "start_time": "2022-08-16T14:09:24.410Z"
   },
   {
    "duration": 14,
    "start_time": "2022-08-16T14:09:24.420Z"
   },
   {
    "duration": 8,
    "start_time": "2022-08-16T14:09:24.435Z"
   },
   {
    "duration": 40,
    "start_time": "2022-08-16T14:09:24.445Z"
   },
   {
    "duration": 302430,
    "start_time": "2022-08-16T14:09:24.487Z"
   },
   {
    "duration": 240,
    "start_time": "2022-08-16T14:14:26.919Z"
   },
   {
    "duration": 53818,
    "start_time": "2022-08-16T14:14:27.162Z"
   },
   {
    "duration": 18,
    "start_time": "2022-08-16T14:15:21.056Z"
   },
   {
    "duration": 204,
    "start_time": "2022-08-16T14:15:21.076Z"
   },
   {
    "duration": 7,
    "start_time": "2022-08-16T14:15:21.282Z"
   },
   {
    "duration": 17,
    "start_time": "2022-08-16T14:15:21.291Z"
   },
   {
    "duration": 305,
    "start_time": "2022-08-16T14:15:21.310Z"
   },
   {
    "duration": 7502,
    "start_time": "2022-08-16T14:15:21.617Z"
   },
   {
    "duration": 2649,
    "start_time": "2022-08-16T14:15:29.121Z"
   },
   {
    "duration": 9,
    "start_time": "2022-08-16T14:23:03.773Z"
   },
   {
    "duration": 151,
    "start_time": "2022-08-16T14:25:07.623Z"
   },
   {
    "duration": 12,
    "start_time": "2022-08-16T14:25:15.474Z"
   },
   {
    "duration": 186,
    "start_time": "2022-08-16T17:05:01.553Z"
   },
   {
    "duration": 364,
    "start_time": "2022-08-16T17:29:15.861Z"
   },
   {
    "duration": 621,
    "start_time": "2022-08-16T17:35:04.791Z"
   },
   {
    "duration": 653,
    "start_time": "2022-08-16T17:37:30.974Z"
   },
   {
    "duration": 10,
    "start_time": "2022-08-16T18:11:30.024Z"
   },
   {
    "duration": 10,
    "start_time": "2022-08-16T18:11:42.313Z"
   },
   {
    "duration": 28445,
    "start_time": "2022-08-16T18:11:51.287Z"
   },
   {
    "duration": 4,
    "start_time": "2022-08-16T18:14:45.252Z"
   },
   {
    "duration": 11,
    "start_time": "2022-08-16T18:15:26.137Z"
   },
   {
    "duration": 11,
    "start_time": "2022-08-16T18:15:29.103Z"
   },
   {
    "duration": 4,
    "start_time": "2022-08-16T18:19:42.641Z"
   },
   {
    "duration": 10,
    "start_time": "2022-08-16T18:24:22.000Z"
   },
   {
    "duration": 718,
    "start_time": "2022-08-16T18:24:28.829Z"
   },
   {
    "duration": 121,
    "start_time": "2022-08-16T18:24:58.395Z"
   },
   {
    "duration": 285,
    "start_time": "2022-08-16T18:25:27.681Z"
   },
   {
    "duration": 139,
    "start_time": "2022-08-16T18:25:37.728Z"
   },
   {
    "duration": 203,
    "start_time": "2022-08-16T18:29:01.575Z"
   },
   {
    "duration": 1450244,
    "start_time": "2022-08-16T18:37:23.618Z"
   },
   {
    "duration": 941102,
    "start_time": "2022-08-16T19:01:47.867Z"
   },
   {
    "duration": 4,
    "start_time": "2022-08-16T19:18:29.736Z"
   },
   {
    "duration": 4,
    "start_time": "2022-08-16T19:18:45.867Z"
   },
   {
    "duration": 14662,
    "start_time": "2022-08-16T19:20:26.701Z"
   },
   {
    "duration": 48705,
    "start_time": "2022-08-16T19:21:00.062Z"
   },
   {
    "duration": 107052,
    "start_time": "2022-08-16T19:26:56.315Z"
   },
   {
    "duration": 581,
    "start_time": "2022-08-16T19:29:59.831Z"
   },
   {
    "duration": 293,
    "start_time": "2022-08-16T19:35:20.888Z"
   },
   {
    "duration": 367,
    "start_time": "2022-08-16T19:37:17.504Z"
   },
   {
    "duration": 350,
    "start_time": "2022-08-16T19:37:36.028Z"
   },
   {
    "duration": 306,
    "start_time": "2022-08-16T19:37:46.166Z"
   },
   {
    "duration": 9,
    "start_time": "2022-08-16T19:43:57.119Z"
   },
   {
    "duration": 4,
    "start_time": "2022-08-16T19:44:04.955Z"
   },
   {
    "duration": 76,
    "start_time": "2022-08-16T19:47:00.139Z"
   },
   {
    "duration": 534,
    "start_time": "2022-08-16T19:47:33.072Z"
   },
   {
    "duration": 621,
    "start_time": "2022-08-16T19:47:58.257Z"
   },
   {
    "duration": 9,
    "start_time": "2022-08-16T19:55:43.217Z"
   },
   {
    "duration": 13,
    "start_time": "2022-08-16T20:04:11.647Z"
   },
   {
    "duration": 11,
    "start_time": "2022-08-16T20:06:03.205Z"
   },
   {
    "duration": 9,
    "start_time": "2022-08-16T20:06:13.891Z"
   },
   {
    "duration": 9,
    "start_time": "2022-08-16T20:06:32.004Z"
   },
   {
    "duration": 8,
    "start_time": "2022-08-16T20:06:39.229Z"
   },
   {
    "duration": 11,
    "start_time": "2022-08-16T20:09:16.768Z"
   },
   {
    "duration": 10,
    "start_time": "2022-08-16T20:13:47.095Z"
   },
   {
    "duration": 4,
    "start_time": "2022-08-16T20:15:09.047Z"
   },
   {
    "duration": 5,
    "start_time": "2022-08-16T20:16:07.397Z"
   },
   {
    "duration": 12,
    "start_time": "2022-08-16T20:16:08.258Z"
   },
   {
    "duration": 14,
    "start_time": "2022-08-16T20:16:21.173Z"
   },
   {
    "duration": 3,
    "start_time": "2022-08-16T20:17:02.473Z"
   },
   {
    "duration": 12,
    "start_time": "2022-08-16T20:17:03.572Z"
   },
   {
    "duration": 8,
    "start_time": "2022-08-16T20:18:03.549Z"
   },
   {
    "duration": 3,
    "start_time": "2022-08-16T20:19:19.248Z"
   },
   {
    "duration": 4,
    "start_time": "2022-08-16T20:19:44.811Z"
   },
   {
    "duration": 9,
    "start_time": "2022-08-16T20:19:56.636Z"
   },
   {
    "duration": 5,
    "start_time": "2022-08-16T20:33:25.850Z"
   },
   {
    "duration": 112,
    "start_time": "2022-08-16T20:33:25.858Z"
   },
   {
    "duration": 5,
    "start_time": "2022-08-16T20:33:25.972Z"
   },
   {
    "duration": 76,
    "start_time": "2022-08-16T20:33:25.979Z"
   },
   {
    "duration": 12,
    "start_time": "2022-08-16T20:33:26.057Z"
   },
   {
    "duration": 5,
    "start_time": "2022-08-16T20:33:26.071Z"
   },
   {
    "duration": 7,
    "start_time": "2022-08-16T20:33:26.078Z"
   },
   {
    "duration": 16,
    "start_time": "2022-08-16T20:33:26.087Z"
   },
   {
    "duration": 49,
    "start_time": "2022-08-16T20:33:26.106Z"
   },
   {
    "duration": 13,
    "start_time": "2022-08-16T20:33:26.156Z"
   },
   {
    "duration": 4,
    "start_time": "2022-08-16T20:33:26.170Z"
   },
   {
    "duration": 8,
    "start_time": "2022-08-16T20:33:26.175Z"
   },
   {
    "duration": 5,
    "start_time": "2022-08-16T20:33:26.185Z"
   },
   {
    "duration": 5,
    "start_time": "2022-08-16T20:33:26.192Z"
   },
   {
    "duration": 488,
    "start_time": "2022-08-16T20:33:26.199Z"
   },
   {
    "duration": 15,
    "start_time": "2022-08-16T20:33:26.688Z"
   },
   {
    "duration": 131,
    "start_time": "2022-08-16T20:33:26.705Z"
   },
   {
    "duration": 95,
    "start_time": "2022-08-16T20:33:26.838Z"
   },
   {
    "duration": 30,
    "start_time": "2022-08-16T20:33:26.934Z"
   },
   {
    "duration": 253,
    "start_time": "2022-08-16T20:33:26.965Z"
   },
   {
    "duration": 313,
    "start_time": "2022-08-16T20:33:27.219Z"
   },
   {
    "duration": 43,
    "start_time": "2022-08-16T20:33:27.534Z"
   },
   {
    "duration": 9,
    "start_time": "2022-08-16T20:33:27.578Z"
   },
   {
    "duration": 8,
    "start_time": "2022-08-16T20:33:27.591Z"
   },
   {
    "duration": 4,
    "start_time": "2022-08-16T20:33:27.601Z"
   },
   {
    "duration": 50,
    "start_time": "2022-08-16T20:33:27.606Z"
   },
   {
    "duration": 857,
    "start_time": "2022-08-16T20:33:27.658Z"
   },
   {
    "duration": 47,
    "start_time": "2022-08-16T20:33:28.517Z"
   },
   {
    "duration": 6,
    "start_time": "2022-08-16T20:33:28.566Z"
   },
   {
    "duration": 9,
    "start_time": "2022-08-16T20:33:28.573Z"
   },
   {
    "duration": 7,
    "start_time": "2022-08-16T20:33:28.583Z"
   },
   {
    "duration": 699,
    "start_time": "2022-08-16T20:33:28.592Z"
   },
   {
    "duration": 24,
    "start_time": "2022-08-16T20:33:29.293Z"
   },
   {
    "duration": 4,
    "start_time": "2022-08-16T20:33:29.318Z"
   },
   {
    "duration": 33,
    "start_time": "2022-08-16T20:33:29.323Z"
   },
   {
    "duration": 142,
    "start_time": "2022-08-16T20:33:29.358Z"
   },
   {
    "duration": 8,
    "start_time": "2022-08-16T20:33:29.501Z"
   },
   {
    "duration": 7,
    "start_time": "2022-08-16T20:33:29.511Z"
   },
   {
    "duration": 5,
    "start_time": "2022-08-16T20:33:29.520Z"
   },
   {
    "duration": 34,
    "start_time": "2022-08-16T20:33:29.526Z"
   },
   {
    "duration": 25,
    "start_time": "2022-08-16T20:33:29.561Z"
   },
   {
    "duration": 8,
    "start_time": "2022-08-16T20:33:29.587Z"
   },
   {
    "duration": 214,
    "start_time": "2022-08-16T20:33:29.596Z"
   },
   {
    "duration": 6,
    "start_time": "2022-08-16T20:33:29.812Z"
   },
   {
    "duration": 199,
    "start_time": "2022-08-16T20:33:29.819Z"
   },
   {
    "duration": 19,
    "start_time": "2022-08-16T20:33:30.020Z"
   },
   {
    "duration": 30,
    "start_time": "2022-08-16T20:33:30.054Z"
   },
   {
    "duration": 8,
    "start_time": "2022-08-16T20:33:30.085Z"
   },
   {
    "duration": 290,
    "start_time": "2022-08-16T20:33:30.094Z"
   },
   {
    "duration": 229,
    "start_time": "2022-08-16T20:33:30.385Z"
   },
   {
    "duration": 189,
    "start_time": "2022-08-16T20:33:30.616Z"
   },
   {
    "duration": 132,
    "start_time": "2022-08-16T20:33:30.806Z"
   },
   {
    "duration": 130,
    "start_time": "2022-08-16T20:33:30.939Z"
   },
   {
    "duration": 18,
    "start_time": "2022-08-16T20:33:31.071Z"
   },
   {
    "duration": 16,
    "start_time": "2022-08-16T20:33:31.090Z"
   },
   {
    "duration": 356,
    "start_time": "2022-08-16T20:33:31.107Z"
   },
   {
    "duration": 11,
    "start_time": "2022-08-16T20:33:31.465Z"
   },
   {
    "duration": 11,
    "start_time": "2022-08-16T20:33:31.477Z"
   },
   {
    "duration": 12,
    "start_time": "2022-08-16T20:33:31.489Z"
   },
   {
    "duration": 10,
    "start_time": "2022-08-16T20:33:31.502Z"
   },
   {
    "duration": 19,
    "start_time": "2022-08-16T20:33:31.514Z"
   },
   {
    "duration": 27,
    "start_time": "2022-08-16T20:33:31.535Z"
   },
   {
    "duration": 29,
    "start_time": "2022-08-16T20:33:31.564Z"
   },
   {
    "duration": 257659,
    "start_time": "2022-08-16T20:33:31.595Z"
   },
   {
    "duration": 30299,
    "start_time": "2022-08-16T20:37:49.256Z"
   },
   {
    "duration": 99,
    "start_time": "2022-08-16T20:38:19.557Z"
   },
   {
    "duration": 4,
    "start_time": "2022-08-16T20:38:19.657Z"
   },
   {
    "duration": 13,
    "start_time": "2022-08-16T20:38:19.663Z"
   },
   {
    "duration": 230,
    "start_time": "2022-08-16T20:38:19.681Z"
   },
   {
    "duration": 6908,
    "start_time": "2022-08-16T20:38:19.912Z"
   },
   {
    "duration": 1235,
    "start_time": "2022-08-16T20:38:26.821Z"
   },
   {
    "duration": 97,
    "start_time": "2022-08-16T20:38:28.059Z"
   },
   {
    "duration": 654,
    "start_time": "2022-08-16T20:38:28.158Z"
   },
   {
    "duration": 25630,
    "start_time": "2022-08-16T20:38:28.814Z"
   },
   {
    "duration": 4,
    "start_time": "2022-08-16T20:38:54.445Z"
   },
   {
    "duration": 9,
    "start_time": "2022-08-16T20:38:54.451Z"
   },
   {
    "duration": 609,
    "start_time": "2022-08-16T20:38:54.461Z"
   },
   {
    "duration": 134,
    "start_time": "2022-08-16T20:38:55.072Z"
   },
   {
    "duration": 4908,
    "start_time": "2022-08-18T16:12:38.067Z"
   },
   {
    "duration": 141,
    "start_time": "2022-08-18T16:12:46.179Z"
   },
   {
    "duration": 352,
    "start_time": "2022-08-18T16:16:40.518Z"
   },
   {
    "duration": 10,
    "start_time": "2022-08-18T16:16:41.745Z"
   },
   {
    "duration": 4,
    "start_time": "2022-08-18T16:16:48.249Z"
   },
   {
    "duration": 78,
    "start_time": "2022-08-18T16:16:49.449Z"
   },
   {
    "duration": 11,
    "start_time": "2022-08-18T16:16:50.137Z"
   },
   {
    "duration": 5,
    "start_time": "2022-08-18T16:16:50.807Z"
   },
   {
    "duration": 7,
    "start_time": "2022-08-18T16:16:51.004Z"
   },
   {
    "duration": 19,
    "start_time": "2022-08-18T16:16:51.168Z"
   },
   {
    "duration": 9,
    "start_time": "2022-08-18T16:16:51.887Z"
   },
   {
    "duration": 20,
    "start_time": "2022-08-18T16:16:52.088Z"
   },
   {
    "duration": 5,
    "start_time": "2022-08-18T16:16:52.305Z"
   },
   {
    "duration": 7,
    "start_time": "2022-08-18T16:16:52.856Z"
   },
   {
    "duration": 4,
    "start_time": "2022-08-18T16:16:53.048Z"
   },
   {
    "duration": 4,
    "start_time": "2022-08-18T16:16:53.440Z"
   },
   {
    "duration": 576,
    "start_time": "2022-08-18T16:16:53.616Z"
   },
   {
    "duration": 20,
    "start_time": "2022-08-18T16:16:54.195Z"
   },
   {
    "duration": 223,
    "start_time": "2022-08-18T16:16:54.216Z"
   },
   {
    "duration": 113,
    "start_time": "2022-08-18T16:16:54.568Z"
   },
   {
    "duration": 12,
    "start_time": "2022-08-18T16:16:55.328Z"
   },
   {
    "duration": 324,
    "start_time": "2022-08-18T16:16:55.808Z"
   },
   {
    "duration": 318,
    "start_time": "2022-08-18T16:16:56.345Z"
   },
   {
    "duration": 40,
    "start_time": "2022-08-18T16:16:57.449Z"
   },
   {
    "duration": 10,
    "start_time": "2022-08-18T16:16:57.648Z"
   },
   {
    "duration": 10,
    "start_time": "2022-08-18T16:16:58.539Z"
   },
   {
    "duration": 4,
    "start_time": "2022-08-18T16:16:58.745Z"
   },
   {
    "duration": 12,
    "start_time": "2022-08-18T16:16:58.904Z"
   },
   {
    "duration": 1199,
    "start_time": "2022-08-18T16:16:59.353Z"
   },
   {
    "duration": 57,
    "start_time": "2022-08-18T16:17:00.554Z"
   },
   {
    "duration": 6,
    "start_time": "2022-08-18T16:17:00.614Z"
   },
   {
    "duration": 8,
    "start_time": "2022-08-18T16:17:00.728Z"
   },
   {
    "duration": 7,
    "start_time": "2022-08-18T16:17:01.145Z"
   },
   {
    "duration": 578,
    "start_time": "2022-08-18T16:17:01.329Z"
   },
   {
    "duration": 33,
    "start_time": "2022-08-18T16:17:02.224Z"
   },
   {
    "duration": 6,
    "start_time": "2022-08-18T16:17:02.519Z"
   },
   {
    "duration": 11,
    "start_time": "2022-08-18T16:17:02.737Z"
   },
   {
    "duration": 148,
    "start_time": "2022-08-18T16:17:03.244Z"
   },
   {
    "duration": 9,
    "start_time": "2022-08-18T16:17:03.864Z"
   },
   {
    "duration": 6,
    "start_time": "2022-08-18T16:17:04.104Z"
   },
   {
    "duration": 5,
    "start_time": "2022-08-18T16:17:04.384Z"
   },
   {
    "duration": 13,
    "start_time": "2022-08-18T16:17:04.737Z"
   },
   {
    "duration": 27,
    "start_time": "2022-08-18T16:17:05.041Z"
   },
   {
    "duration": 8,
    "start_time": "2022-08-18T16:26:43.906Z"
   },
   {
    "duration": 219,
    "start_time": "2022-08-18T16:26:44.355Z"
   },
   {
    "duration": 6,
    "start_time": "2022-08-18T16:26:44.576Z"
   },
   {
    "duration": 249,
    "start_time": "2022-08-18T16:26:44.881Z"
   },
   {
    "duration": 21,
    "start_time": "2022-08-18T16:26:45.665Z"
   },
   {
    "duration": 38,
    "start_time": "2022-08-18T16:26:46.186Z"
   },
   {
    "duration": 10,
    "start_time": "2022-08-18T16:26:46.386Z"
   },
   {
    "duration": 23,
    "start_time": "2022-08-18T16:26:46.521Z"
   },
   {
    "duration": 280,
    "start_time": "2022-08-18T16:26:46.880Z"
   },
   {
    "duration": 185,
    "start_time": "2022-08-18T16:26:47.273Z"
   },
   {
    "duration": 163,
    "start_time": "2022-08-18T16:26:47.904Z"
   },
   {
    "duration": 243,
    "start_time": "2022-08-18T16:26:48.345Z"
   },
   {
    "duration": 20,
    "start_time": "2022-08-18T16:27:08.467Z"
   },
   {
    "duration": 22,
    "start_time": "2022-08-18T16:27:52.102Z"
   },
   {
    "duration": 412,
    "start_time": "2022-08-18T16:27:53.205Z"
   },
   {
    "duration": 13,
    "start_time": "2022-08-18T16:29:18.046Z"
   },
   {
    "duration": 14,
    "start_time": "2022-08-18T16:29:19.558Z"
   },
   {
    "duration": 8,
    "start_time": "2022-08-18T16:30:20.253Z"
   },
   {
    "duration": 9,
    "start_time": "2022-08-18T16:30:22.201Z"
   },
   {
    "duration": 13,
    "start_time": "2022-08-18T16:30:22.639Z"
   },
   {
    "duration": 10,
    "start_time": "2022-08-18T16:30:40.145Z"
   },
   {
    "duration": 35,
    "start_time": "2022-08-18T16:30:43.817Z"
   },
   {
    "duration": 4505,
    "start_time": "2022-08-18T21:30:04.265Z"
   },
   {
    "duration": 149,
    "start_time": "2022-08-18T21:30:08.773Z"
   },
   {
    "duration": 0,
    "start_time": "2022-08-18T21:30:08.925Z"
   },
   {
    "duration": 0,
    "start_time": "2022-08-18T21:30:08.927Z"
   },
   {
    "duration": 0,
    "start_time": "2022-08-18T21:30:08.928Z"
   },
   {
    "duration": 0,
    "start_time": "2022-08-18T21:30:08.929Z"
   },
   {
    "duration": 0,
    "start_time": "2022-08-18T21:30:08.930Z"
   },
   {
    "duration": 0,
    "start_time": "2022-08-18T21:30:08.931Z"
   },
   {
    "duration": 0,
    "start_time": "2022-08-18T21:30:08.932Z"
   },
   {
    "duration": 0,
    "start_time": "2022-08-18T21:30:08.934Z"
   },
   {
    "duration": 0,
    "start_time": "2022-08-18T21:30:08.935Z"
   },
   {
    "duration": 0,
    "start_time": "2022-08-18T21:30:08.936Z"
   },
   {
    "duration": 0,
    "start_time": "2022-08-18T21:30:08.937Z"
   },
   {
    "duration": 0,
    "start_time": "2022-08-18T21:30:08.938Z"
   },
   {
    "duration": 0,
    "start_time": "2022-08-18T21:30:08.939Z"
   },
   {
    "duration": 0,
    "start_time": "2022-08-18T21:30:08.940Z"
   },
   {
    "duration": 0,
    "start_time": "2022-08-18T21:30:08.942Z"
   },
   {
    "duration": 0,
    "start_time": "2022-08-18T21:30:08.943Z"
   },
   {
    "duration": 0,
    "start_time": "2022-08-18T21:30:08.944Z"
   },
   {
    "duration": 0,
    "start_time": "2022-08-18T21:30:08.945Z"
   },
   {
    "duration": 0,
    "start_time": "2022-08-18T21:30:08.946Z"
   },
   {
    "duration": 0,
    "start_time": "2022-08-18T21:30:08.947Z"
   },
   {
    "duration": 0,
    "start_time": "2022-08-18T21:30:08.948Z"
   },
   {
    "duration": 0,
    "start_time": "2022-08-18T21:30:08.987Z"
   },
   {
    "duration": 0,
    "start_time": "2022-08-18T21:30:08.989Z"
   },
   {
    "duration": 0,
    "start_time": "2022-08-18T21:30:08.990Z"
   },
   {
    "duration": 0,
    "start_time": "2022-08-18T21:30:08.991Z"
   },
   {
    "duration": 0,
    "start_time": "2022-08-18T21:30:08.991Z"
   },
   {
    "duration": 0,
    "start_time": "2022-08-18T21:30:08.992Z"
   },
   {
    "duration": 0,
    "start_time": "2022-08-18T21:30:08.993Z"
   },
   {
    "duration": 0,
    "start_time": "2022-08-18T21:30:08.994Z"
   },
   {
    "duration": 0,
    "start_time": "2022-08-18T21:30:08.995Z"
   },
   {
    "duration": 0,
    "start_time": "2022-08-18T21:30:08.996Z"
   },
   {
    "duration": 0,
    "start_time": "2022-08-18T21:30:08.997Z"
   },
   {
    "duration": 0,
    "start_time": "2022-08-18T21:30:08.998Z"
   },
   {
    "duration": 0,
    "start_time": "2022-08-18T21:30:08.999Z"
   },
   {
    "duration": 0,
    "start_time": "2022-08-18T21:30:09.000Z"
   },
   {
    "duration": 0,
    "start_time": "2022-08-18T21:30:09.003Z"
   },
   {
    "duration": 0,
    "start_time": "2022-08-18T21:30:09.004Z"
   },
   {
    "duration": 0,
    "start_time": "2022-08-18T21:30:09.005Z"
   },
   {
    "duration": 0,
    "start_time": "2022-08-18T21:30:09.006Z"
   },
   {
    "duration": 0,
    "start_time": "2022-08-18T21:30:09.007Z"
   },
   {
    "duration": 0,
    "start_time": "2022-08-18T21:30:09.007Z"
   },
   {
    "duration": 0,
    "start_time": "2022-08-18T21:30:09.008Z"
   },
   {
    "duration": 0,
    "start_time": "2022-08-18T21:30:09.009Z"
   },
   {
    "duration": 0,
    "start_time": "2022-08-18T21:30:09.010Z"
   },
   {
    "duration": 0,
    "start_time": "2022-08-18T21:30:09.011Z"
   },
   {
    "duration": 0,
    "start_time": "2022-08-18T21:30:09.012Z"
   },
   {
    "duration": 0,
    "start_time": "2022-08-18T21:30:09.013Z"
   },
   {
    "duration": 0,
    "start_time": "2022-08-18T21:30:09.013Z"
   },
   {
    "duration": 0,
    "start_time": "2022-08-18T21:30:09.015Z"
   },
   {
    "duration": 0,
    "start_time": "2022-08-18T21:30:09.016Z"
   },
   {
    "duration": 0,
    "start_time": "2022-08-18T21:30:09.017Z"
   },
   {
    "duration": 0,
    "start_time": "2022-08-18T21:30:09.018Z"
   },
   {
    "duration": 1,
    "start_time": "2022-08-18T21:30:09.018Z"
   },
   {
    "duration": 0,
    "start_time": "2022-08-18T21:30:09.020Z"
   },
   {
    "duration": 0,
    "start_time": "2022-08-18T21:30:09.020Z"
   },
   {
    "duration": 0,
    "start_time": "2022-08-18T21:30:09.021Z"
   },
   {
    "duration": 0,
    "start_time": "2022-08-18T21:30:09.022Z"
   },
   {
    "duration": 0,
    "start_time": "2022-08-18T21:30:09.023Z"
   },
   {
    "duration": 0,
    "start_time": "2022-08-18T21:30:09.024Z"
   },
   {
    "duration": 0,
    "start_time": "2022-08-18T21:30:09.087Z"
   },
   {
    "duration": 0,
    "start_time": "2022-08-18T21:30:09.088Z"
   },
   {
    "duration": 0,
    "start_time": "2022-08-18T21:30:09.090Z"
   },
   {
    "duration": 0,
    "start_time": "2022-08-18T21:30:09.091Z"
   },
   {
    "duration": 0,
    "start_time": "2022-08-18T21:30:09.093Z"
   },
   {
    "duration": 0,
    "start_time": "2022-08-18T21:30:09.095Z"
   },
   {
    "duration": 0,
    "start_time": "2022-08-18T21:30:09.096Z"
   },
   {
    "duration": 0,
    "start_time": "2022-08-18T21:30:09.097Z"
   },
   {
    "duration": 0,
    "start_time": "2022-08-18T21:30:09.099Z"
   },
   {
    "duration": 0,
    "start_time": "2022-08-18T21:30:09.100Z"
   },
   {
    "duration": 0,
    "start_time": "2022-08-18T21:30:09.102Z"
   },
   {
    "duration": 0,
    "start_time": "2022-08-18T21:30:09.103Z"
   },
   {
    "duration": 0,
    "start_time": "2022-08-18T21:30:09.104Z"
   },
   {
    "duration": 0,
    "start_time": "2022-08-18T21:30:09.105Z"
   },
   {
    "duration": 0,
    "start_time": "2022-08-18T21:30:09.106Z"
   },
   {
    "duration": 0,
    "start_time": "2022-08-18T21:30:09.107Z"
   },
   {
    "duration": 0,
    "start_time": "2022-08-18T21:30:09.108Z"
   },
   {
    "duration": 0,
    "start_time": "2022-08-18T21:30:09.109Z"
   },
   {
    "duration": 0,
    "start_time": "2022-08-18T21:30:09.110Z"
   },
   {
    "duration": 0,
    "start_time": "2022-08-18T21:30:09.111Z"
   },
   {
    "duration": 0,
    "start_time": "2022-08-18T21:30:09.112Z"
   },
   {
    "duration": 0,
    "start_time": "2022-08-18T21:30:09.113Z"
   },
   {
    "duration": 0,
    "start_time": "2022-08-18T21:30:09.114Z"
   },
   {
    "duration": 0,
    "start_time": "2022-08-18T21:30:09.115Z"
   },
   {
    "duration": 0,
    "start_time": "2022-08-18T21:30:09.116Z"
   },
   {
    "duration": 2011,
    "start_time": "2022-08-18T21:31:27.825Z"
   },
   {
    "duration": 44,
    "start_time": "2022-08-18T21:31:29.838Z"
   },
   {
    "duration": 0,
    "start_time": "2022-08-18T21:31:29.885Z"
   },
   {
    "duration": 0,
    "start_time": "2022-08-18T21:31:29.886Z"
   },
   {
    "duration": 0,
    "start_time": "2022-08-18T21:31:29.887Z"
   },
   {
    "duration": 0,
    "start_time": "2022-08-18T21:31:29.888Z"
   },
   {
    "duration": 0,
    "start_time": "2022-08-18T21:31:29.890Z"
   },
   {
    "duration": 0,
    "start_time": "2022-08-18T21:31:29.890Z"
   },
   {
    "duration": 0,
    "start_time": "2022-08-18T21:31:29.891Z"
   },
   {
    "duration": 0,
    "start_time": "2022-08-18T21:31:29.892Z"
   },
   {
    "duration": 0,
    "start_time": "2022-08-18T21:31:29.893Z"
   },
   {
    "duration": 0,
    "start_time": "2022-08-18T21:31:29.894Z"
   },
   {
    "duration": 0,
    "start_time": "2022-08-18T21:31:29.895Z"
   },
   {
    "duration": 0,
    "start_time": "2022-08-18T21:31:29.896Z"
   },
   {
    "duration": 0,
    "start_time": "2022-08-18T21:31:29.897Z"
   },
   {
    "duration": 0,
    "start_time": "2022-08-18T21:31:29.898Z"
   },
   {
    "duration": 0,
    "start_time": "2022-08-18T21:31:29.899Z"
   },
   {
    "duration": 0,
    "start_time": "2022-08-18T21:31:29.899Z"
   },
   {
    "duration": 0,
    "start_time": "2022-08-18T21:31:29.900Z"
   },
   {
    "duration": 0,
    "start_time": "2022-08-18T21:31:29.901Z"
   },
   {
    "duration": 0,
    "start_time": "2022-08-18T21:31:29.902Z"
   },
   {
    "duration": 0,
    "start_time": "2022-08-18T21:31:29.903Z"
   },
   {
    "duration": 0,
    "start_time": "2022-08-18T21:31:29.904Z"
   },
   {
    "duration": 0,
    "start_time": "2022-08-18T21:31:29.905Z"
   },
   {
    "duration": 0,
    "start_time": "2022-08-18T21:31:29.906Z"
   },
   {
    "duration": 0,
    "start_time": "2022-08-18T21:31:29.907Z"
   },
   {
    "duration": 0,
    "start_time": "2022-08-18T21:31:29.908Z"
   },
   {
    "duration": 0,
    "start_time": "2022-08-18T21:31:29.909Z"
   },
   {
    "duration": 0,
    "start_time": "2022-08-18T21:31:29.911Z"
   },
   {
    "duration": 0,
    "start_time": "2022-08-18T21:31:29.912Z"
   },
   {
    "duration": 0,
    "start_time": "2022-08-18T21:31:29.913Z"
   },
   {
    "duration": 0,
    "start_time": "2022-08-18T21:31:29.915Z"
   },
   {
    "duration": 0,
    "start_time": "2022-08-18T21:31:29.916Z"
   },
   {
    "duration": 1,
    "start_time": "2022-08-18T21:31:29.917Z"
   },
   {
    "duration": 0,
    "start_time": "2022-08-18T21:31:29.919Z"
   },
   {
    "duration": 0,
    "start_time": "2022-08-18T21:31:29.920Z"
   },
   {
    "duration": 0,
    "start_time": "2022-08-18T21:31:29.921Z"
   },
   {
    "duration": 0,
    "start_time": "2022-08-18T21:31:29.923Z"
   },
   {
    "duration": 0,
    "start_time": "2022-08-18T21:31:29.924Z"
   },
   {
    "duration": 0,
    "start_time": "2022-08-18T21:31:29.925Z"
   },
   {
    "duration": 0,
    "start_time": "2022-08-18T21:31:29.926Z"
   },
   {
    "duration": 0,
    "start_time": "2022-08-18T21:31:29.927Z"
   },
   {
    "duration": 0,
    "start_time": "2022-08-18T21:31:29.928Z"
   },
   {
    "duration": 0,
    "start_time": "2022-08-18T21:31:29.987Z"
   },
   {
    "duration": 0,
    "start_time": "2022-08-18T21:31:29.989Z"
   },
   {
    "duration": 0,
    "start_time": "2022-08-18T21:31:29.990Z"
   },
   {
    "duration": 0,
    "start_time": "2022-08-18T21:31:29.991Z"
   },
   {
    "duration": 0,
    "start_time": "2022-08-18T21:31:29.993Z"
   },
   {
    "duration": 0,
    "start_time": "2022-08-18T21:31:29.994Z"
   },
   {
    "duration": 0,
    "start_time": "2022-08-18T21:31:29.995Z"
   },
   {
    "duration": 0,
    "start_time": "2022-08-18T21:31:29.996Z"
   },
   {
    "duration": 0,
    "start_time": "2022-08-18T21:31:29.998Z"
   },
   {
    "duration": 0,
    "start_time": "2022-08-18T21:31:30.003Z"
   },
   {
    "duration": 0,
    "start_time": "2022-08-18T21:31:30.004Z"
   },
   {
    "duration": 0,
    "start_time": "2022-08-18T21:31:30.006Z"
   },
   {
    "duration": 0,
    "start_time": "2022-08-18T21:31:30.008Z"
   },
   {
    "duration": 0,
    "start_time": "2022-08-18T21:31:30.009Z"
   },
   {
    "duration": 0,
    "start_time": "2022-08-18T21:31:30.011Z"
   },
   {
    "duration": 0,
    "start_time": "2022-08-18T21:31:30.012Z"
   },
   {
    "duration": 0,
    "start_time": "2022-08-18T21:31:30.013Z"
   },
   {
    "duration": 0,
    "start_time": "2022-08-18T21:31:30.014Z"
   },
   {
    "duration": 0,
    "start_time": "2022-08-18T21:31:30.016Z"
   },
   {
    "duration": 0,
    "start_time": "2022-08-18T21:31:30.017Z"
   },
   {
    "duration": 0,
    "start_time": "2022-08-18T21:31:30.019Z"
   },
   {
    "duration": 0,
    "start_time": "2022-08-18T21:31:30.020Z"
   },
   {
    "duration": 0,
    "start_time": "2022-08-18T21:31:30.021Z"
   },
   {
    "duration": 0,
    "start_time": "2022-08-18T21:31:30.022Z"
   },
   {
    "duration": 0,
    "start_time": "2022-08-18T21:31:30.023Z"
   },
   {
    "duration": 0,
    "start_time": "2022-08-18T21:31:30.024Z"
   },
   {
    "duration": 0,
    "start_time": "2022-08-18T21:31:30.025Z"
   },
   {
    "duration": 0,
    "start_time": "2022-08-18T21:31:30.026Z"
   },
   {
    "duration": 0,
    "start_time": "2022-08-18T21:31:30.027Z"
   },
   {
    "duration": 0,
    "start_time": "2022-08-18T21:31:30.028Z"
   },
   {
    "duration": 0,
    "start_time": "2022-08-18T21:31:30.087Z"
   },
   {
    "duration": 0,
    "start_time": "2022-08-18T21:31:30.088Z"
   },
   {
    "duration": 0,
    "start_time": "2022-08-18T21:31:30.089Z"
   },
   {
    "duration": 0,
    "start_time": "2022-08-18T21:31:30.090Z"
   },
   {
    "duration": 0,
    "start_time": "2022-08-18T21:31:30.091Z"
   },
   {
    "duration": 0,
    "start_time": "2022-08-18T21:31:30.092Z"
   },
   {
    "duration": 0,
    "start_time": "2022-08-18T21:31:30.093Z"
   },
   {
    "duration": 0,
    "start_time": "2022-08-18T21:31:30.094Z"
   },
   {
    "duration": 0,
    "start_time": "2022-08-18T21:31:30.095Z"
   },
   {
    "duration": 0,
    "start_time": "2022-08-18T21:31:30.096Z"
   },
   {
    "duration": 0,
    "start_time": "2022-08-18T21:31:30.097Z"
   },
   {
    "duration": 0,
    "start_time": "2022-08-18T21:31:30.098Z"
   },
   {
    "duration": 0,
    "start_time": "2022-08-18T21:31:30.099Z"
   },
   {
    "duration": 390,
    "start_time": "2022-08-18T21:33:12.579Z"
   },
   {
    "duration": 2088,
    "start_time": "2022-08-18T21:33:19.042Z"
   },
   {
    "duration": 103,
    "start_time": "2022-08-18T21:33:21.132Z"
   },
   {
    "duration": 14,
    "start_time": "2022-08-18T21:33:21.236Z"
   },
   {
    "duration": 0,
    "start_time": "2022-08-18T21:33:21.254Z"
   },
   {
    "duration": 0,
    "start_time": "2022-08-18T21:33:21.255Z"
   },
   {
    "duration": 0,
    "start_time": "2022-08-18T21:33:21.256Z"
   },
   {
    "duration": 0,
    "start_time": "2022-08-18T21:33:21.258Z"
   },
   {
    "duration": 0,
    "start_time": "2022-08-18T21:33:21.259Z"
   },
   {
    "duration": 0,
    "start_time": "2022-08-18T21:33:21.260Z"
   },
   {
    "duration": 0,
    "start_time": "2022-08-18T21:33:21.262Z"
   },
   {
    "duration": 0,
    "start_time": "2022-08-18T21:33:21.263Z"
   },
   {
    "duration": 0,
    "start_time": "2022-08-18T21:33:21.264Z"
   },
   {
    "duration": 0,
    "start_time": "2022-08-18T21:33:21.266Z"
   },
   {
    "duration": 0,
    "start_time": "2022-08-18T21:33:21.267Z"
   },
   {
    "duration": 0,
    "start_time": "2022-08-18T21:33:21.268Z"
   },
   {
    "duration": 0,
    "start_time": "2022-08-18T21:33:21.270Z"
   },
   {
    "duration": 0,
    "start_time": "2022-08-18T21:33:21.271Z"
   },
   {
    "duration": 0,
    "start_time": "2022-08-18T21:33:21.272Z"
   },
   {
    "duration": 0,
    "start_time": "2022-08-18T21:33:21.274Z"
   },
   {
    "duration": 0,
    "start_time": "2022-08-18T21:33:21.275Z"
   },
   {
    "duration": 0,
    "start_time": "2022-08-18T21:33:21.286Z"
   },
   {
    "duration": 0,
    "start_time": "2022-08-18T21:33:21.291Z"
   },
   {
    "duration": 0,
    "start_time": "2022-08-18T21:33:21.293Z"
   },
   {
    "duration": 0,
    "start_time": "2022-08-18T21:33:21.294Z"
   },
   {
    "duration": 0,
    "start_time": "2022-08-18T21:33:21.295Z"
   },
   {
    "duration": 0,
    "start_time": "2022-08-18T21:33:21.297Z"
   },
   {
    "duration": 0,
    "start_time": "2022-08-18T21:33:21.298Z"
   },
   {
    "duration": 0,
    "start_time": "2022-08-18T21:33:21.300Z"
   },
   {
    "duration": 0,
    "start_time": "2022-08-18T21:33:21.301Z"
   },
   {
    "duration": 0,
    "start_time": "2022-08-18T21:33:21.302Z"
   },
   {
    "duration": 0,
    "start_time": "2022-08-18T21:33:21.303Z"
   },
   {
    "duration": 0,
    "start_time": "2022-08-18T21:33:21.304Z"
   },
   {
    "duration": 0,
    "start_time": "2022-08-18T21:33:21.305Z"
   },
   {
    "duration": 0,
    "start_time": "2022-08-18T21:33:21.306Z"
   },
   {
    "duration": 0,
    "start_time": "2022-08-18T21:33:21.307Z"
   },
   {
    "duration": 0,
    "start_time": "2022-08-18T21:33:21.308Z"
   },
   {
    "duration": 0,
    "start_time": "2022-08-18T21:33:21.309Z"
   },
   {
    "duration": 0,
    "start_time": "2022-08-18T21:33:21.310Z"
   },
   {
    "duration": 0,
    "start_time": "2022-08-18T21:33:21.311Z"
   },
   {
    "duration": 0,
    "start_time": "2022-08-18T21:33:21.312Z"
   },
   {
    "duration": 0,
    "start_time": "2022-08-18T21:33:21.313Z"
   },
   {
    "duration": 0,
    "start_time": "2022-08-18T21:33:21.314Z"
   },
   {
    "duration": 0,
    "start_time": "2022-08-18T21:33:21.315Z"
   },
   {
    "duration": 0,
    "start_time": "2022-08-18T21:33:21.316Z"
   },
   {
    "duration": 0,
    "start_time": "2022-08-18T21:33:21.317Z"
   },
   {
    "duration": 0,
    "start_time": "2022-08-18T21:33:21.318Z"
   },
   {
    "duration": 0,
    "start_time": "2022-08-18T21:33:21.319Z"
   },
   {
    "duration": 0,
    "start_time": "2022-08-18T21:33:21.320Z"
   },
   {
    "duration": 0,
    "start_time": "2022-08-18T21:33:21.322Z"
   },
   {
    "duration": 0,
    "start_time": "2022-08-18T21:33:21.322Z"
   },
   {
    "duration": 0,
    "start_time": "2022-08-18T21:33:21.324Z"
   },
   {
    "duration": 0,
    "start_time": "2022-08-18T21:33:21.325Z"
   },
   {
    "duration": 0,
    "start_time": "2022-08-18T21:33:21.387Z"
   },
   {
    "duration": 0,
    "start_time": "2022-08-18T21:33:21.388Z"
   },
   {
    "duration": 0,
    "start_time": "2022-08-18T21:33:21.389Z"
   },
   {
    "duration": 0,
    "start_time": "2022-08-18T21:33:21.390Z"
   },
   {
    "duration": 0,
    "start_time": "2022-08-18T21:33:21.391Z"
   },
   {
    "duration": 0,
    "start_time": "2022-08-18T21:33:21.392Z"
   },
   {
    "duration": 0,
    "start_time": "2022-08-18T21:33:21.393Z"
   },
   {
    "duration": 0,
    "start_time": "2022-08-18T21:33:21.394Z"
   },
   {
    "duration": 0,
    "start_time": "2022-08-18T21:33:21.395Z"
   },
   {
    "duration": 0,
    "start_time": "2022-08-18T21:33:21.396Z"
   },
   {
    "duration": 0,
    "start_time": "2022-08-18T21:33:21.397Z"
   },
   {
    "duration": 0,
    "start_time": "2022-08-18T21:33:21.398Z"
   },
   {
    "duration": 0,
    "start_time": "2022-08-18T21:33:21.399Z"
   },
   {
    "duration": 0,
    "start_time": "2022-08-18T21:33:21.399Z"
   },
   {
    "duration": 0,
    "start_time": "2022-08-18T21:33:21.401Z"
   },
   {
    "duration": 0,
    "start_time": "2022-08-18T21:33:21.401Z"
   },
   {
    "duration": 0,
    "start_time": "2022-08-18T21:33:21.403Z"
   },
   {
    "duration": 0,
    "start_time": "2022-08-18T21:33:21.403Z"
   },
   {
    "duration": 0,
    "start_time": "2022-08-18T21:33:21.404Z"
   },
   {
    "duration": 0,
    "start_time": "2022-08-18T21:33:21.405Z"
   },
   {
    "duration": 0,
    "start_time": "2022-08-18T21:33:21.406Z"
   },
   {
    "duration": 0,
    "start_time": "2022-08-18T21:33:21.407Z"
   },
   {
    "duration": 0,
    "start_time": "2022-08-18T21:33:21.409Z"
   },
   {
    "duration": 0,
    "start_time": "2022-08-18T21:33:21.410Z"
   },
   {
    "duration": 0,
    "start_time": "2022-08-18T21:33:21.411Z"
   },
   {
    "duration": 0,
    "start_time": "2022-08-18T21:33:21.411Z"
   },
   {
    "duration": 0,
    "start_time": "2022-08-18T21:33:21.412Z"
   },
   {
    "duration": 0,
    "start_time": "2022-08-18T21:33:21.413Z"
   },
   {
    "duration": 0,
    "start_time": "2022-08-18T21:33:21.414Z"
   },
   {
    "duration": 0,
    "start_time": "2022-08-18T21:33:21.415Z"
   },
   {
    "duration": 0,
    "start_time": "2022-08-18T21:33:21.416Z"
   },
   {
    "duration": 0,
    "start_time": "2022-08-18T21:33:21.417Z"
   },
   {
    "duration": 0,
    "start_time": "2022-08-18T21:33:21.418Z"
   },
   {
    "duration": 0,
    "start_time": "2022-08-18T21:33:21.419Z"
   },
   {
    "duration": 2090,
    "start_time": "2022-08-18T21:33:39.328Z"
   },
   {
    "duration": 108,
    "start_time": "2022-08-18T21:33:41.420Z"
   },
   {
    "duration": 2,
    "start_time": "2022-08-18T21:33:41.530Z"
   },
   {
    "duration": 7,
    "start_time": "2022-08-18T21:33:41.534Z"
   },
   {
    "duration": 51,
    "start_time": "2022-08-18T21:33:41.542Z"
   },
   {
    "duration": 9,
    "start_time": "2022-08-18T21:33:41.594Z"
   },
   {
    "duration": 4,
    "start_time": "2022-08-18T21:33:41.605Z"
   },
   {
    "duration": 11,
    "start_time": "2022-08-18T21:33:41.610Z"
   },
   {
    "duration": 18,
    "start_time": "2022-08-18T21:33:41.622Z"
   },
   {
    "duration": 5,
    "start_time": "2022-08-18T21:33:41.642Z"
   },
   {
    "duration": 39,
    "start_time": "2022-08-18T21:33:41.649Z"
   },
   {
    "duration": 5,
    "start_time": "2022-08-18T21:33:41.689Z"
   },
   {
    "duration": 13,
    "start_time": "2022-08-18T21:33:41.696Z"
   },
   {
    "duration": 6,
    "start_time": "2022-08-18T21:33:41.710Z"
   },
   {
    "duration": 10,
    "start_time": "2022-08-18T21:33:41.718Z"
   },
   {
    "duration": 559,
    "start_time": "2022-08-18T21:33:41.729Z"
   },
   {
    "duration": 14,
    "start_time": "2022-08-18T21:33:42.290Z"
   },
   {
    "duration": 116,
    "start_time": "2022-08-18T21:33:42.306Z"
   },
   {
    "duration": 98,
    "start_time": "2022-08-18T21:33:42.423Z"
   },
   {
    "duration": 11,
    "start_time": "2022-08-18T21:33:42.523Z"
   },
   {
    "duration": 259,
    "start_time": "2022-08-18T21:33:42.535Z"
   },
   {
    "duration": 261,
    "start_time": "2022-08-18T21:33:42.795Z"
   },
   {
    "duration": 47,
    "start_time": "2022-08-18T21:33:43.058Z"
   },
   {
    "duration": 7,
    "start_time": "2022-08-18T21:33:43.107Z"
   },
   {
    "duration": 9,
    "start_time": "2022-08-18T21:33:43.115Z"
   },
   {
    "duration": 6,
    "start_time": "2022-08-18T21:33:43.125Z"
   },
   {
    "duration": 13,
    "start_time": "2022-08-18T21:33:43.132Z"
   },
   {
    "duration": 926,
    "start_time": "2022-08-18T21:33:43.149Z"
   },
   {
    "duration": 34,
    "start_time": "2022-08-18T21:33:44.076Z"
   },
   {
    "duration": 5,
    "start_time": "2022-08-18T21:33:44.111Z"
   },
   {
    "duration": 13,
    "start_time": "2022-08-18T21:33:44.118Z"
   },
   {
    "duration": 10,
    "start_time": "2022-08-18T21:33:44.132Z"
   },
   {
    "duration": 500,
    "start_time": "2022-08-18T21:33:44.144Z"
   },
   {
    "duration": 44,
    "start_time": "2022-08-18T21:33:44.646Z"
   },
   {
    "duration": 4,
    "start_time": "2022-08-18T21:33:44.691Z"
   },
   {
    "duration": 9,
    "start_time": "2022-08-18T21:33:44.696Z"
   },
   {
    "duration": 125,
    "start_time": "2022-08-18T21:33:44.707Z"
   },
   {
    "duration": 8,
    "start_time": "2022-08-18T21:33:44.833Z"
   },
   {
    "duration": 6,
    "start_time": "2022-08-18T21:33:44.842Z"
   },
   {
    "duration": 6,
    "start_time": "2022-08-18T21:33:44.849Z"
   },
   {
    "duration": 14,
    "start_time": "2022-08-18T21:33:44.856Z"
   },
   {
    "duration": 37,
    "start_time": "2022-08-18T21:33:44.871Z"
   },
   {
    "duration": 6,
    "start_time": "2022-08-18T21:33:44.909Z"
   },
   {
    "duration": 191,
    "start_time": "2022-08-18T21:33:44.917Z"
   },
   {
    "duration": 6,
    "start_time": "2022-08-18T21:33:45.109Z"
   },
   {
    "duration": 204,
    "start_time": "2022-08-18T21:33:45.116Z"
   },
   {
    "duration": 19,
    "start_time": "2022-08-18T21:33:45.321Z"
   },
   {
    "duration": 27,
    "start_time": "2022-08-18T21:33:45.342Z"
   },
   {
    "duration": 8,
    "start_time": "2022-08-18T21:33:45.386Z"
   },
   {
    "duration": 18,
    "start_time": "2022-08-18T21:33:45.396Z"
   },
   {
    "duration": 239,
    "start_time": "2022-08-18T21:33:45.416Z"
   },
   {
    "duration": 261,
    "start_time": "2022-08-18T21:33:45.657Z"
   },
   {
    "duration": 143,
    "start_time": "2022-08-18T21:33:45.920Z"
   },
   {
    "duration": 141,
    "start_time": "2022-08-18T21:33:46.065Z"
   },
   {
    "duration": 28,
    "start_time": "2022-08-18T21:33:46.208Z"
   },
   {
    "duration": 18,
    "start_time": "2022-08-18T21:33:46.238Z"
   },
   {
    "duration": 430,
    "start_time": "2022-08-18T21:33:46.258Z"
   },
   {
    "duration": 14,
    "start_time": "2022-08-18T21:33:46.690Z"
   },
   {
    "duration": 13,
    "start_time": "2022-08-18T21:33:46.705Z"
   },
   {
    "duration": 9,
    "start_time": "2022-08-18T21:33:46.719Z"
   },
   {
    "duration": 13,
    "start_time": "2022-08-18T21:33:46.729Z"
   },
   {
    "duration": 14,
    "start_time": "2022-08-18T21:33:46.743Z"
   },
   {
    "duration": 30,
    "start_time": "2022-08-18T21:33:46.759Z"
   },
   {
    "duration": 30,
    "start_time": "2022-08-18T21:33:46.791Z"
   },
   {
    "duration": 270542,
    "start_time": "2022-08-18T21:33:46.823Z"
   },
   {
    "duration": 24223,
    "start_time": "2022-08-18T21:38:17.366Z"
   },
   {
    "duration": 100,
    "start_time": "2022-08-18T21:38:41.591Z"
   },
   {
    "duration": 13,
    "start_time": "2022-08-18T21:38:41.693Z"
   },
   {
    "duration": 11,
    "start_time": "2022-08-18T21:38:41.708Z"
   },
   {
    "duration": 231,
    "start_time": "2022-08-18T21:38:41.720Z"
   },
   {
    "duration": 7203,
    "start_time": "2022-08-18T21:38:41.953Z"
   },
   {
    "duration": 1535,
    "start_time": "2022-08-18T21:38:49.157Z"
   },
   {
    "duration": 99,
    "start_time": "2022-08-18T21:38:50.694Z"
   },
   {
    "duration": 707,
    "start_time": "2022-08-18T21:38:50.795Z"
   },
   {
    "duration": 22684,
    "start_time": "2022-08-18T21:38:51.504Z"
   },
   {
    "duration": 4,
    "start_time": "2022-08-18T21:39:14.190Z"
   },
   {
    "duration": 6,
    "start_time": "2022-08-18T21:39:14.196Z"
   },
   {
    "duration": 672,
    "start_time": "2022-08-18T21:39:14.203Z"
   },
   {
    "duration": 148,
    "start_time": "2022-08-18T21:39:14.877Z"
   },
   {
    "duration": 304269,
    "start_time": "2022-08-18T21:39:15.027Z"
   },
   {
    "duration": 3,
    "start_time": "2022-08-18T21:44:19.298Z"
   },
   {
    "duration": 4,
    "start_time": "2022-08-18T21:44:19.306Z"
   },
   {
    "duration": 3998,
    "start_time": "2022-08-18T21:44:19.311Z"
   },
   {
    "duration": 733,
    "start_time": "2022-08-18T21:44:23.310Z"
   },
   {
    "duration": 760,
    "start_time": "2022-08-18T21:44:24.045Z"
   },
   {
    "duration": 82,
    "start_time": "2022-08-18T21:44:24.807Z"
   },
   {
    "duration": 9,
    "start_time": "2022-08-18T21:50:09.327Z"
   },
   {
    "duration": 9,
    "start_time": "2022-08-18T21:50:32.026Z"
   },
   {
    "duration": 9,
    "start_time": "2022-08-18T21:50:39.581Z"
   },
   {
    "duration": 8,
    "start_time": "2022-08-18T21:50:49.398Z"
   },
   {
    "duration": 8,
    "start_time": "2022-08-18T21:50:57.739Z"
   },
   {
    "duration": 9,
    "start_time": "2022-08-18T21:52:12.503Z"
   },
   {
    "duration": 13,
    "start_time": "2022-08-18T21:57:02.017Z"
   },
   {
    "duration": 53,
    "start_time": "2022-08-18T21:58:17.506Z"
   },
   {
    "duration": 11,
    "start_time": "2022-08-18T21:58:31.882Z"
   },
   {
    "duration": 10,
    "start_time": "2022-08-18T22:02:21.308Z"
   }
  ],
  "accelerator": "GPU",
  "colab": {
   "name": "Code_submission.ipynb",
   "provenance": []
  },
  "gpuClass": "standard",
  "kernelspec": {
   "display_name": "Python 3 (ipykernel)",
   "language": "python",
   "name": "python3"
  },
  "language_info": {
   "codemirror_mode": {
    "name": "ipython",
    "version": 3
   },
   "file_extension": ".py",
   "mimetype": "text/x-python",
   "name": "python",
   "nbconvert_exporter": "python",
   "pygments_lexer": "ipython3",
   "version": "3.9.12"
  },
  "toc": {
   "base_numbering": 1,
   "nav_menu": {
    "height": "118px",
    "width": "160px"
   },
   "number_sections": true,
   "sideBar": true,
   "skip_h1_title": true,
   "title_cell": "Table of Contents",
   "title_sidebar": "Contents",
   "toc_cell": false,
   "toc_position": {
    "height": "calc(100% - 180px)",
    "left": "10px",
    "top": "150px",
    "width": "177.078px"
   },
   "toc_section_display": true,
   "toc_window_display": true
  }
 },
 "nbformat": 4,
 "nbformat_minor": 1
}
