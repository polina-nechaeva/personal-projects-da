{
 "cells": [
  {
   "cell_type": "markdown",
   "metadata": {},
   "source": [
    "# Защита персональных данных клиентов"
   ]
  },
  {
   "cell_type": "markdown",
   "metadata": {},
   "source": [
    "Вам нужно защитить данные клиентов страховой компании «Хоть потоп». Разработайте такой метод преобразования данных, чтобы по ним было сложно восстановить персональную информацию. Обоснуйте корректность его работы.\n",
    "\n",
    "Нужно защитить данные, чтобы при преобразовании качество моделей машинного обучения не ухудшилось. Подбирать наилучшую модель не требуется."
   ]
  },
  {
   "cell_type": "markdown",
   "metadata": {},
   "source": [
    "## Загрузка данных"
   ]
  },
  {
   "cell_type": "code",
   "execution_count": 5,
   "metadata": {},
   "outputs": [],
   "source": [
    "import pandas as pd\n",
    "import numpy as np\n",
    "from sklearn.linear_model import LinearRegression\n",
    "from sklearn.model_selection import train_test_split\n",
    "from sklearn.metrics import r2_score"
   ]
  },
  {
   "cell_type": "code",
   "execution_count": 6,
   "metadata": {},
   "outputs": [
    {
     "data": {
      "text/html": [
       "<div>\n",
       "<style scoped>\n",
       "    .dataframe tbody tr th:only-of-type {\n",
       "        vertical-align: middle;\n",
       "    }\n",
       "\n",
       "    .dataframe tbody tr th {\n",
       "        vertical-align: top;\n",
       "    }\n",
       "\n",
       "    .dataframe thead th {\n",
       "        text-align: right;\n",
       "    }\n",
       "</style>\n",
       "<table border=\"1\" class=\"dataframe\">\n",
       "  <thead>\n",
       "    <tr style=\"text-align: right;\">\n",
       "      <th></th>\n",
       "      <th>Пол</th>\n",
       "      <th>Возраст</th>\n",
       "      <th>Зарплата</th>\n",
       "      <th>Члены семьи</th>\n",
       "      <th>Страховые выплаты</th>\n",
       "    </tr>\n",
       "  </thead>\n",
       "  <tbody>\n",
       "    <tr>\n",
       "      <th>0</th>\n",
       "      <td>1</td>\n",
       "      <td>41.0</td>\n",
       "      <td>49600.0</td>\n",
       "      <td>1</td>\n",
       "      <td>0</td>\n",
       "    </tr>\n",
       "    <tr>\n",
       "      <th>1</th>\n",
       "      <td>0</td>\n",
       "      <td>46.0</td>\n",
       "      <td>38000.0</td>\n",
       "      <td>1</td>\n",
       "      <td>1</td>\n",
       "    </tr>\n",
       "    <tr>\n",
       "      <th>2</th>\n",
       "      <td>0</td>\n",
       "      <td>29.0</td>\n",
       "      <td>21000.0</td>\n",
       "      <td>0</td>\n",
       "      <td>0</td>\n",
       "    </tr>\n",
       "    <tr>\n",
       "      <th>3</th>\n",
       "      <td>0</td>\n",
       "      <td>21.0</td>\n",
       "      <td>41700.0</td>\n",
       "      <td>2</td>\n",
       "      <td>0</td>\n",
       "    </tr>\n",
       "    <tr>\n",
       "      <th>4</th>\n",
       "      <td>1</td>\n",
       "      <td>28.0</td>\n",
       "      <td>26100.0</td>\n",
       "      <td>0</td>\n",
       "      <td>0</td>\n",
       "    </tr>\n",
       "  </tbody>\n",
       "</table>\n",
       "</div>"
      ],
      "text/plain": [
       "   Пол  Возраст  Зарплата  Члены семьи  Страховые выплаты\n",
       "0    1     41.0   49600.0            1                  0\n",
       "1    0     46.0   38000.0            1                  1\n",
       "2    0     29.0   21000.0            0                  0\n",
       "3    0     21.0   41700.0            2                  0\n",
       "4    1     28.0   26100.0            0                  0"
      ]
     },
     "execution_count": 6,
     "metadata": {},
     "output_type": "execute_result"
    }
   ],
   "source": [
    "data = pd.read_csv('/datasets/insurance.csv')\n",
    "data.head()"
   ]
  },
  {
   "cell_type": "code",
   "execution_count": 7,
   "metadata": {},
   "outputs": [
    {
     "name": "stdout",
     "output_type": "stream",
     "text": [
      "<class 'pandas.core.frame.DataFrame'>\n",
      "RangeIndex: 5000 entries, 0 to 4999\n",
      "Data columns (total 5 columns):\n",
      " #   Column             Non-Null Count  Dtype  \n",
      "---  ------             --------------  -----  \n",
      " 0   Пол                5000 non-null   int64  \n",
      " 1   Возраст            5000 non-null   float64\n",
      " 2   Зарплата           5000 non-null   float64\n",
      " 3   Члены семьи        5000 non-null   int64  \n",
      " 4   Страховые выплаты  5000 non-null   int64  \n",
      "dtypes: float64(2), int64(3)\n",
      "memory usage: 195.4 KB\n"
     ]
    },
    {
     "data": {
      "text/plain": [
       "None"
      ]
     },
     "metadata": {},
     "output_type": "display_data"
    },
    {
     "data": {
      "text/html": [
       "<div>\n",
       "<style scoped>\n",
       "    .dataframe tbody tr th:only-of-type {\n",
       "        vertical-align: middle;\n",
       "    }\n",
       "\n",
       "    .dataframe tbody tr th {\n",
       "        vertical-align: top;\n",
       "    }\n",
       "\n",
       "    .dataframe thead th {\n",
       "        text-align: right;\n",
       "    }\n",
       "</style>\n",
       "<table border=\"1\" class=\"dataframe\">\n",
       "  <thead>\n",
       "    <tr style=\"text-align: right;\">\n",
       "      <th></th>\n",
       "      <th>Пол</th>\n",
       "      <th>Возраст</th>\n",
       "      <th>Зарплата</th>\n",
       "      <th>Члены семьи</th>\n",
       "      <th>Страховые выплаты</th>\n",
       "    </tr>\n",
       "  </thead>\n",
       "  <tbody>\n",
       "    <tr>\n",
       "      <th>count</th>\n",
       "      <td>5000.000000</td>\n",
       "      <td>5000.000000</td>\n",
       "      <td>5000.000000</td>\n",
       "      <td>5000.000000</td>\n",
       "      <td>5000.000000</td>\n",
       "    </tr>\n",
       "    <tr>\n",
       "      <th>mean</th>\n",
       "      <td>0.499000</td>\n",
       "      <td>30.952800</td>\n",
       "      <td>39916.360000</td>\n",
       "      <td>1.194200</td>\n",
       "      <td>0.148000</td>\n",
       "    </tr>\n",
       "    <tr>\n",
       "      <th>std</th>\n",
       "      <td>0.500049</td>\n",
       "      <td>8.440807</td>\n",
       "      <td>9900.083569</td>\n",
       "      <td>1.091387</td>\n",
       "      <td>0.463183</td>\n",
       "    </tr>\n",
       "    <tr>\n",
       "      <th>min</th>\n",
       "      <td>0.000000</td>\n",
       "      <td>18.000000</td>\n",
       "      <td>5300.000000</td>\n",
       "      <td>0.000000</td>\n",
       "      <td>0.000000</td>\n",
       "    </tr>\n",
       "    <tr>\n",
       "      <th>25%</th>\n",
       "      <td>0.000000</td>\n",
       "      <td>24.000000</td>\n",
       "      <td>33300.000000</td>\n",
       "      <td>0.000000</td>\n",
       "      <td>0.000000</td>\n",
       "    </tr>\n",
       "    <tr>\n",
       "      <th>50%</th>\n",
       "      <td>0.000000</td>\n",
       "      <td>30.000000</td>\n",
       "      <td>40200.000000</td>\n",
       "      <td>1.000000</td>\n",
       "      <td>0.000000</td>\n",
       "    </tr>\n",
       "    <tr>\n",
       "      <th>75%</th>\n",
       "      <td>1.000000</td>\n",
       "      <td>37.000000</td>\n",
       "      <td>46600.000000</td>\n",
       "      <td>2.000000</td>\n",
       "      <td>0.000000</td>\n",
       "    </tr>\n",
       "    <tr>\n",
       "      <th>max</th>\n",
       "      <td>1.000000</td>\n",
       "      <td>65.000000</td>\n",
       "      <td>79000.000000</td>\n",
       "      <td>6.000000</td>\n",
       "      <td>5.000000</td>\n",
       "    </tr>\n",
       "  </tbody>\n",
       "</table>\n",
       "</div>"
      ],
      "text/plain": [
       "               Пол      Возраст      Зарплата  Члены семьи  Страховые выплаты\n",
       "count  5000.000000  5000.000000   5000.000000  5000.000000        5000.000000\n",
       "mean      0.499000    30.952800  39916.360000     1.194200           0.148000\n",
       "std       0.500049     8.440807   9900.083569     1.091387           0.463183\n",
       "min       0.000000    18.000000   5300.000000     0.000000           0.000000\n",
       "25%       0.000000    24.000000  33300.000000     0.000000           0.000000\n",
       "50%       0.000000    30.000000  40200.000000     1.000000           0.000000\n",
       "75%       1.000000    37.000000  46600.000000     2.000000           0.000000\n",
       "max       1.000000    65.000000  79000.000000     6.000000           5.000000"
      ]
     },
     "metadata": {},
     "output_type": "display_data"
    }
   ],
   "source": [
    "display(data.info())\n",
    "display(data.describe())"
   ]
  },
  {
   "cell_type": "markdown",
   "metadata": {},
   "source": [
    "Пропусков нет, данные не требуют доработки."
   ]
  },
  {
   "cell_type": "code",
   "execution_count": 8,
   "metadata": {},
   "outputs": [
    {
     "data": {
      "text/plain": [
       "(5000, 4)"
      ]
     },
     "execution_count": 8,
     "metadata": {},
     "output_type": "execute_result"
    }
   ],
   "source": [
    "X = data.drop(columns='Страховые выплаты')\n",
    "y = data['Страховые выплаты']\n",
    "\n",
    "X_train, X_test, y_train, y_test = train_test_split(X, y, test_size=0.25, random_state=12345)\n",
    "X.shape"
   ]
  },
  {
   "cell_type": "markdown",
   "metadata": {},
   "source": [
    "## Умножение матриц"
   ]
  },
  {
   "cell_type": "markdown",
   "metadata": {},
   "source": [
    "В этом задании вы можете записывать формулы в *Jupyter Notebook.*\n",
    "\n",
    "Чтобы записать формулу внутри текста, окружите её символами доллара \\\\$; если снаружи —  двойными символами \\\\$\\\\$. Эти формулы записываются на языке вёрстки *LaTeX.* \n",
    "\n",
    "Для примера мы записали формулы линейной регрессии. Можете их скопировать и отредактировать, чтобы решить задачу.\n",
    "\n",
    "Работать в *LaTeX* необязательно."
   ]
  },
  {
   "cell_type": "markdown",
   "metadata": {},
   "source": [
    "Обозначения:\n",
    "\n",
    "- $X$ — матрица признаков (нулевой столбец состоит из единиц)\n",
    "\n",
    "- $y$ — вектор целевого признака\n",
    "\n",
    "- $P$ — матрица, на которую умножаются признаки\n",
    "\n",
    "- $w$ — вектор весов линейной регрессии (нулевой элемент равен сдвигу)"
   ]
  },
  {
   "cell_type": "markdown",
   "metadata": {},
   "source": [
    "Предсказания:\n",
    "\n",
    "$$\n",
    "a = Xw\n",
    "$$\n",
    "\n",
    "Задача обучения:\n",
    "\n",
    "$$\n",
    "w = \\arg\\min_w MSE(Xw, y)\n",
    "$$\n",
    "\n",
    "Формула обучения:\n",
    "\n",
    "$$\n",
    "w = (X^T X)^{-1} X^T y\n",
    "$$"
   ]
  },
  {
   "cell_type": "markdown",
   "metadata": {},
   "source": [
    "Признаки умножают на обратимую матрицу. Изменится ли качество линейной регрессии?"
   ]
  },
  {
   "cell_type": "markdown",
   "metadata": {},
   "source": [
    "**Ответ:** b. Не изменится.\n",
    "\n",
    "**Обоснование:** Нужно доказать, что $a1 = XPw = a$"
   ]
  },
  {
   "cell_type": "markdown",
   "metadata": {},
   "source": [
    "Новая матрица признаков $X$ будет равна $XP$. Подставим её в формулу обучения."
   ]
  },
  {
   "cell_type": "markdown",
   "metadata": {},
   "source": [
    "$$\n",
    "w1 = ((XP)^T XP)^{-1} (XP)^T y\n",
    "$$"
   ]
  },
  {
   "cell_type": "markdown",
   "metadata": {},
   "source": [
    "Раскроем скобки:"
   ]
  },
  {
   "cell_type": "markdown",
   "metadata": {},
   "source": [
    "$$\n",
    "w1 = (P^TX^TXP)^{-1}P^TX^Ty\n",
    "$$"
   ]
  },
  {
   "cell_type": "markdown",
   "metadata": {},
   "source": [
    "Далее раскроем скобки обратной матрицы:"
   ]
  },
  {
   "cell_type": "markdown",
   "metadata": {},
   "source": [
    "$$\n",
    "w1 = P^{-1}(X^TX)^{-1}(P^T)^{-1}P^TX^Ty\n",
    "$$"
   ]
  },
  {
   "cell_type": "markdown",
   "metadata": {},
   "source": [
    "Здесь замечаем выражение $(P^T)^{-1}P^T$. Его можно сократить, так как $P$ здесь умножается на $P^{-1}$, то есть на обратную матрицу. В результате такого произведения получается единичная матрица, а при умножении матрицы на единичную матрицу получается та же самая матрица."
   ]
  },
  {
   "cell_type": "markdown",
   "metadata": {},
   "source": [
    "Получаем уже знакомую формулу $w$:"
   ]
  },
  {
   "cell_type": "markdown",
   "metadata": {},
   "source": [
    "$$\n",
    "w1 = P^{-1}(X^TX)^{-1}X^Ty\n",
    "$$ "
   ]
  },
  {
   "cell_type": "markdown",
   "metadata": {},
   "source": [
    "$$\n",
    "w1 = P^{-1}w\n",
    "$$"
   ]
  },
  {
   "cell_type": "markdown",
   "metadata": {},
   "source": [
    "Чтобы доказать неизменность предсказаний, подставим новую формулу обучения в формулу предсказаний:"
   ]
  },
  {
   "cell_type": "markdown",
   "metadata": {},
   "source": [
    "$$\n",
    "a1 = XPw1 = XPP^{-1}w\n",
    "$$"
   ]
  },
  {
   "cell_type": "markdown",
   "metadata": {},
   "source": [
    "Снова видим умножение матрицы на обратную, поэтому сокращаем $PP^{-1}$:"
   ]
  },
  {
   "cell_type": "markdown",
   "metadata": {},
   "source": [
    "$$\n",
    "a1 = Xw = a\n",
    "$$"
   ]
  },
  {
   "cell_type": "markdown",
   "metadata": {},
   "source": [
    "Что и требовалось доказать."
   ]
  },
  {
   "cell_type": "markdown",
   "metadata": {},
   "source": [
    "## Алгоритм преобразования"
   ]
  },
  {
   "cell_type": "markdown",
   "metadata": {},
   "source": [
    "_Предложите алгоритм преобразования данных для решения задачи. Обоснуйте, почему качество линейной регрессии не поменяется._"
   ]
  },
  {
   "cell_type": "markdown",
   "metadata": {},
   "source": [
    "**Алгоритм**\n",
    "\n",
    "1. Сгенерировать случайную матрицу при помощи функции randint(). У случайной матрицы должно быть такое же количество строк, сколько столбцов у матрицы признаков (у нас 4 признака). К тому же она должна быть квадратной, так как обратимыми могут быть только квадратные матрицы.\n",
    "2. Проверить матрицу на обратимость.\n",
    "3. Умножить случайную матрицу на матрицу признаков.\n",
    "4. Обучить линейную регрессию.\n",
    "5. Посчитать R2_score на зашифрованных и незашифрованных признаках и сравнить метрики."
   ]
  },
  {
   "cell_type": "markdown",
   "metadata": {},
   "source": [
    "**Обоснование**\n",
    "Метрика R2_score сравнивает таргет и предсказания. Так как выше было доказано, что предсказания не изменяются при умножении на обратимую матрицу, этим можно обосновать и неизменность метрики. "
   ]
  },
  {
   "cell_type": "markdown",
   "metadata": {},
   "source": [
    "## Проверка алгоритма"
   ]
  },
  {
   "cell_type": "code",
   "execution_count": 9,
   "metadata": {},
   "outputs": [
    {
     "data": {
      "text/plain": [
       "array([[21, 36, 76,  5],\n",
       "       [89, 72,  0, 72],\n",
       "       [44, 52, 90, 47],\n",
       "       [34,  3, 24, 89]])"
      ]
     },
     "execution_count": 9,
     "metadata": {},
     "output_type": "execute_result"
    }
   ],
   "source": [
    "#создаем квадратную матрицу с размером, равных числу признаков:\n",
    "P = np.random.randint(100, size = (4, 4))\n",
    "P"
   ]
  },
  {
   "cell_type": "code",
   "execution_count": 10,
   "metadata": {},
   "outputs": [
    {
     "data": {
      "text/plain": [
       "array([[ 0.21884922,  0.03417392, -0.20270004,  0.06710262],\n",
       "       [-0.18106339, -0.01611283,  0.17075591, -0.06696727],\n",
       "       [ 0.0443387 , -0.00100507, -0.03012541,  0.01423108],\n",
       "       [-0.08945856, -0.01224105,  0.07980386, -0.01597902]])"
      ]
     },
     "execution_count": 10,
     "metadata": {},
     "output_type": "execute_result"
    }
   ],
   "source": [
    "#проверяем на обратимость:\n",
    "np.linalg.inv(P)"
   ]
  },
  {
   "cell_type": "code",
   "execution_count": 11,
   "metadata": {},
   "outputs": [
    {
     "name": "stdout",
     "output_type": "stream",
     "text": [
      "R2 на исходных данных: 0.4352\n"
     ]
    }
   ],
   "source": [
    "model_original = LinearRegression()\n",
    "model_original.fit(X_train, y_train)\n",
    "predicted_original= model_original.predict(X_test)\n",
    "r2_original = r2_score(y_test, predicted_original)\n",
    "print('R2 на исходных данных:', round(r2_original, 4))"
   ]
  },
  {
   "cell_type": "code",
   "execution_count": 12,
   "metadata": {},
   "outputs": [
    {
     "data": {
      "text/plain": [
       "(3750, 4)"
      ]
     },
     "metadata": {},
     "output_type": "display_data"
    },
    {
     "data": {
      "text/plain": [
       "(1250, 4)"
      ]
     },
     "metadata": {},
     "output_type": "display_data"
    }
   ],
   "source": [
    "#умножим признаки из тренировочной и тестовой выборки на созданную матрицу и создадим зашифрованные признаки:\n",
    "X_train_new = X_train@P\n",
    "X_test_new = X_test@P\n",
    "display(X_train_new.shape)\n",
    "display(X_test_new.shape)"
   ]
  },
  {
   "cell_type": "code",
   "execution_count": 13,
   "metadata": {
    "scrolled": true
   },
   "outputs": [
    {
     "name": "stdout",
     "output_type": "stream",
     "text": [
      "R2 на преобразованных данных: 0.4352\n"
     ]
    }
   ],
   "source": [
    "model_new = LinearRegression()\n",
    "model_new.fit(X_train_new, y_train)\n",
    "predicted_new = model_new.predict(X_test_new)\n",
    "r2_new = r2_score(y_test, predicted_new)\n",
    "print('R2 на преобразованных данных:', round(r2_new, 4))"
   ]
  },
  {
   "cell_type": "code",
   "execution_count": 14,
   "metadata": {},
   "outputs": [
    {
     "name": "stdout",
     "output_type": "stream",
     "text": [
      "0.43522757127026535\n",
      "0.4352275712699898\n"
     ]
    }
   ],
   "source": [
    "print(r2_original)\n",
    "print(r2_new)"
   ]
  },
  {
   "cell_type": "markdown",
   "metadata": {},
   "source": [
    "Метрика совсем не значительно изменилась с преобразованием данных, значит, нам удалось зашифровать данные пользователей и не ухудшить тем самым качество работы модели."
   ]
  },
  {
   "cell_type": "markdown",
   "metadata": {},
   "source": [
    "## Вывод"
   ]
  },
  {
   "cell_type": "markdown",
   "metadata": {},
   "source": [
    "1. Загрузили и исследовали данные, предобработка не понадобилась.\n",
    "2. Теоретически доказали неизменность предсказаний при умножении признаков на обратимую матрицу.\n",
    "3. Предложили алгоритм преобразования данных.\n",
    "4. Проверили его, умножив признаки в тестовой и тренировочной выборках на квадратную обратимую матрицу P.\n",
    "5. Сравнили метрики R2_score моделей, обученных на преобразованных и исходных данных и получили почти идентичные результаты."
   ]
  }
 ],
 "metadata": {
  "ExecuteTimeLog": [
   {
    "duration": 411,
    "start_time": "2022-05-15T15:30:55.237Z"
   },
   {
    "duration": 18,
    "start_time": "2022-05-15T15:30:56.810Z"
   },
   {
    "duration": 27,
    "start_time": "2022-05-15T15:31:00.945Z"
   },
   {
    "duration": 546,
    "start_time": "2022-05-30T18:27:13.670Z"
   },
   {
    "duration": 143,
    "start_time": "2022-05-30T18:27:14.942Z"
   },
   {
    "duration": 1054,
    "start_time": "2022-05-31T09:19:12.534Z"
   },
   {
    "duration": 132,
    "start_time": "2022-05-31T09:19:13.590Z"
   },
   {
    "duration": 3,
    "start_time": "2022-05-31T09:40:42.791Z"
   },
   {
    "duration": 23,
    "start_time": "2022-05-31T11:05:39.952Z"
   },
   {
    "duration": 26,
    "start_time": "2022-05-31T12:29:10.833Z"
   },
   {
    "duration": 3,
    "start_time": "2022-05-31T17:36:55.524Z"
   },
   {
    "duration": 44,
    "start_time": "2022-05-31T17:36:55.529Z"
   },
   {
    "duration": 3,
    "start_time": "2022-05-31T17:37:24.435Z"
   },
   {
    "duration": 61,
    "start_time": "2022-05-31T17:37:24.440Z"
   },
   {
    "duration": 12,
    "start_time": "2022-05-31T17:37:26.602Z"
   },
   {
    "duration": 6,
    "start_time": "2022-05-31T17:38:09.244Z"
   },
   {
    "duration": 5,
    "start_time": "2022-05-31T17:38:57.014Z"
   },
   {
    "duration": 11,
    "start_time": "2022-05-31T17:39:08.338Z"
   },
   {
    "duration": 48,
    "start_time": "2022-05-31T17:42:32.577Z"
   },
   {
    "duration": 105,
    "start_time": "2022-05-31T17:45:43.956Z"
   },
   {
    "duration": 6,
    "start_time": "2022-05-31T17:45:52.642Z"
   },
   {
    "duration": 9,
    "start_time": "2022-05-31T17:46:10.064Z"
   },
   {
    "duration": 3,
    "start_time": "2022-05-31T17:46:13.799Z"
   },
   {
    "duration": 55,
    "start_time": "2022-05-31T17:46:13.804Z"
   },
   {
    "duration": 10,
    "start_time": "2022-05-31T17:46:13.861Z"
   },
   {
    "duration": 18,
    "start_time": "2022-05-31T17:46:13.873Z"
   },
   {
    "duration": 12,
    "start_time": "2022-05-31T17:52:57.347Z"
   },
   {
    "duration": 2,
    "start_time": "2022-05-31T17:53:13.623Z"
   },
   {
    "duration": 59,
    "start_time": "2022-05-31T17:53:13.627Z"
   },
   {
    "duration": 10,
    "start_time": "2022-05-31T17:53:13.688Z"
   },
   {
    "duration": 8,
    "start_time": "2022-05-31T17:53:15.984Z"
   },
   {
    "duration": 3,
    "start_time": "2022-05-31T17:53:19.977Z"
   },
   {
    "duration": 76,
    "start_time": "2022-05-31T17:53:19.982Z"
   },
   {
    "duration": 10,
    "start_time": "2022-05-31T17:53:20.060Z"
   },
   {
    "duration": 45,
    "start_time": "2022-05-31T17:53:20.071Z"
   },
   {
    "duration": 56,
    "start_time": "2022-05-31T17:53:20.118Z"
   },
   {
    "duration": 9,
    "start_time": "2022-05-31T17:53:28.997Z"
   },
   {
    "duration": 9,
    "start_time": "2022-05-31T17:53:39.610Z"
   },
   {
    "duration": 11,
    "start_time": "2022-05-31T17:53:46.189Z"
   },
   {
    "duration": 22,
    "start_time": "2022-05-31T17:54:10.503Z"
   },
   {
    "duration": 8,
    "start_time": "2022-05-31T17:54:16.959Z"
   },
   {
    "duration": 4,
    "start_time": "2022-05-31T17:57:45.727Z"
   },
   {
    "duration": 6,
    "start_time": "2022-05-31T17:58:05.421Z"
   },
   {
    "duration": 3,
    "start_time": "2022-05-31T17:58:09.538Z"
   },
   {
    "duration": 39,
    "start_time": "2022-05-31T17:58:09.546Z"
   },
   {
    "duration": 10,
    "start_time": "2022-05-31T17:58:09.587Z"
   },
   {
    "duration": 9,
    "start_time": "2022-05-31T17:58:09.598Z"
   },
   {
    "duration": 6,
    "start_time": "2022-05-31T17:58:09.609Z"
   },
   {
    "duration": 13,
    "start_time": "2022-05-31T17:58:09.616Z"
   },
   {
    "duration": 12,
    "start_time": "2022-05-31T17:58:09.643Z"
   },
   {
    "duration": 3,
    "start_time": "2022-05-31T18:09:05.630Z"
   },
   {
    "duration": 12,
    "start_time": "2022-05-31T18:09:15.071Z"
   },
   {
    "duration": 4,
    "start_time": "2022-05-31T18:09:26.185Z"
   },
   {
    "duration": 7,
    "start_time": "2022-05-31T18:12:06.139Z"
   },
   {
    "duration": 10,
    "start_time": "2022-05-31T18:12:27.320Z"
   },
   {
    "duration": 3,
    "start_time": "2022-05-31T18:12:33.228Z"
   },
   {
    "duration": 75,
    "start_time": "2022-05-31T18:12:33.235Z"
   },
   {
    "duration": 17,
    "start_time": "2022-05-31T18:12:33.313Z"
   },
   {
    "duration": 42,
    "start_time": "2022-05-31T18:12:33.332Z"
   },
   {
    "duration": 47,
    "start_time": "2022-05-31T18:12:33.375Z"
   },
   {
    "duration": 47,
    "start_time": "2022-05-31T18:12:33.424Z"
   },
   {
    "duration": 78,
    "start_time": "2022-05-31T18:12:33.474Z"
   },
   {
    "duration": 96,
    "start_time": "2022-05-31T18:12:33.554Z"
   },
   {
    "duration": 64,
    "start_time": "2022-05-31T18:12:33.651Z"
   },
   {
    "duration": 9,
    "start_time": "2022-05-31T18:12:53.108Z"
   },
   {
    "duration": 3,
    "start_time": "2022-05-31T18:14:15.845Z"
   },
   {
    "duration": 3,
    "start_time": "2022-05-31T18:16:57.249Z"
   },
   {
    "duration": 3,
    "start_time": "2022-05-31T18:38:45.453Z"
   },
   {
    "duration": 40,
    "start_time": "2022-05-31T18:38:45.458Z"
   },
   {
    "duration": 10,
    "start_time": "2022-05-31T18:38:45.499Z"
   },
   {
    "duration": 8,
    "start_time": "2022-05-31T18:38:45.511Z"
   },
   {
    "duration": 5,
    "start_time": "2022-05-31T18:38:45.520Z"
   },
   {
    "duration": 19,
    "start_time": "2022-05-31T18:38:45.526Z"
   },
   {
    "duration": 13,
    "start_time": "2022-05-31T18:38:45.547Z"
   },
   {
    "duration": 89,
    "start_time": "2022-05-31T18:38:45.562Z"
   },
   {
    "duration": 13,
    "start_time": "2022-05-31T18:38:45.653Z"
   },
   {
    "duration": 3,
    "start_time": "2022-05-31T18:38:45.669Z"
   },
   {
    "duration": 4,
    "start_time": "2022-05-31T18:40:30.430Z"
   },
   {
    "duration": 61,
    "start_time": "2022-05-31T18:40:30.436Z"
   },
   {
    "duration": 10,
    "start_time": "2022-05-31T18:40:30.498Z"
   },
   {
    "duration": 24,
    "start_time": "2022-05-31T18:40:30.510Z"
   },
   {
    "duration": 16,
    "start_time": "2022-05-31T18:40:30.536Z"
   },
   {
    "duration": 27,
    "start_time": "2022-05-31T18:40:30.554Z"
   },
   {
    "duration": 68,
    "start_time": "2022-05-31T18:40:30.583Z"
   },
   {
    "duration": 93,
    "start_time": "2022-05-31T18:40:30.654Z"
   },
   {
    "duration": 9,
    "start_time": "2022-05-31T18:40:30.749Z"
   },
   {
    "duration": 9,
    "start_time": "2022-05-31T18:40:30.760Z"
   },
   {
    "duration": 3,
    "start_time": "2022-05-31T18:41:09.543Z"
   },
   {
    "duration": 41,
    "start_time": "2022-05-31T18:41:09.549Z"
   },
   {
    "duration": 15,
    "start_time": "2022-05-31T18:41:09.592Z"
   },
   {
    "duration": 10,
    "start_time": "2022-05-31T18:41:09.609Z"
   },
   {
    "duration": 10,
    "start_time": "2022-05-31T18:41:09.620Z"
   },
   {
    "duration": 15,
    "start_time": "2022-05-31T18:41:09.631Z"
   },
   {
    "duration": 97,
    "start_time": "2022-05-31T18:41:09.649Z"
   },
   {
    "duration": 14,
    "start_time": "2022-05-31T18:41:09.748Z"
   },
   {
    "duration": 14,
    "start_time": "2022-05-31T18:41:09.844Z"
   },
   {
    "duration": 4,
    "start_time": "2022-05-31T18:41:09.861Z"
   },
   {
    "duration": 785,
    "start_time": "2022-06-01T03:39:14.233Z"
   },
   {
    "duration": 134,
    "start_time": "2022-06-01T03:39:15.020Z"
   },
   {
    "duration": 16,
    "start_time": "2022-06-01T03:39:15.156Z"
   },
   {
    "duration": 8,
    "start_time": "2022-06-01T03:39:15.173Z"
   },
   {
    "duration": 11,
    "start_time": "2022-06-01T03:39:15.183Z"
   },
   {
    "duration": 7,
    "start_time": "2022-06-01T03:39:15.195Z"
   },
   {
    "duration": 14,
    "start_time": "2022-06-01T03:39:15.204Z"
   },
   {
    "duration": 12,
    "start_time": "2022-06-01T03:39:15.293Z"
   },
   {
    "duration": 85,
    "start_time": "2022-06-01T03:39:15.307Z"
   },
   {
    "duration": 3,
    "start_time": "2022-06-01T03:39:15.394Z"
   },
   {
    "duration": 845,
    "start_time": "2022-06-01T09:18:53.313Z"
   },
   {
    "duration": 138,
    "start_time": "2022-06-01T09:19:03.022Z"
   },
   {
    "duration": 33,
    "start_time": "2022-06-01T09:19:31.007Z"
   },
   {
    "duration": 62,
    "start_time": "2022-06-01T09:21:25.142Z"
   },
   {
    "duration": 2,
    "start_time": "2022-06-01T10:08:32.410Z"
   },
   {
    "duration": 40,
    "start_time": "2022-06-01T10:08:32.414Z"
   },
   {
    "duration": 30,
    "start_time": "2022-06-01T10:08:32.457Z"
   },
   {
    "duration": 7,
    "start_time": "2022-06-01T10:08:32.488Z"
   },
   {
    "duration": 7,
    "start_time": "2022-06-01T10:08:32.497Z"
   },
   {
    "duration": 22,
    "start_time": "2022-06-01T10:08:32.505Z"
   },
   {
    "duration": 103,
    "start_time": "2022-06-01T10:08:32.529Z"
   },
   {
    "duration": 7,
    "start_time": "2022-06-01T10:08:32.634Z"
   },
   {
    "duration": 21,
    "start_time": "2022-06-01T10:08:32.642Z"
   },
   {
    "duration": 14,
    "start_time": "2022-06-01T10:08:32.664Z"
   }
  ],
  "kernelspec": {
   "display_name": "Python 3 (ipykernel)",
   "language": "python",
   "name": "python3"
  },
  "language_info": {
   "codemirror_mode": {
    "name": "ipython",
    "version": 3
   },
   "file_extension": ".py",
   "mimetype": "text/x-python",
   "name": "python",
   "nbconvert_exporter": "python",
   "pygments_lexer": "ipython3",
   "version": "3.9.5"
  },
  "toc": {
   "base_numbering": 1,
   "nav_menu": {},
   "number_sections": true,
   "sideBar": true,
   "skip_h1_title": true,
   "title_cell": "Содержание",
   "title_sidebar": "Contents",
   "toc_cell": true,
   "toc_position": {},
   "toc_section_display": true,
   "toc_window_display": true
  }
 },
 "nbformat": 4,
 "nbformat_minor": 2
}
